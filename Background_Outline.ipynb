{
 "metadata": {
  "name": "",
  "signature": "sha256:8fa38745a12fea74c67c002744e741dd579512c09fdedd43d31b8a784a8013e3"
 },
 "nbformat": 3,
 "nbformat_minor": 0,
 "worksheets": [
  {
   "cells": [
    {
     "cell_type": "heading",
     "level": 1,
     "metadata": {},
     "source": [
      "Instructions"
     ]
    },
    {
     "cell_type": "markdown",
     "metadata": {},
     "source": [
      "State the research paper you are using. Describe the concept of the algorithm and why it is interesting and/or useful. If appropriate, describe the mathematical basis of the algorithm. Some potential topics for the backgorund include:\n",
      "\n",
      "- What problem does it address? \n",
      "- What are known and possible applications of the algorithm? \n",
      "- What are its advantages and disadvantages relative to other algorithms?\n",
      "- How will you use it in your research?"
     ]
    },
    {
     "cell_type": "heading",
     "level": 1,
     "metadata": {},
     "source": [
      "Background Outline"
     ]
    },
    {
     "cell_type": "markdown",
     "metadata": {},
     "source": [
      "### UNFINISHED\n",
      "\n",
      "### Paper selected\n",
      "Infinite Latent Feature Models and the Indian Buffet Process\n",
      "\n",
      "### Problem addressed\n",
      "- Provide a latent (underlying) structure in probabilitistic modeling \n",
      "- Model a string of 0/1 integers\n",
      "\n",
      "### Known/Possible applications of the algorithm\n",
      "- Images data processing\n",
      "- Modeling human cognition\n",
      "\n",
      "### Advantages \n",
      "\n",
      "### Disadvantages\n",
      "- Rely on the assumption that datapoints in a single string are exchangeable\n",
      "\n",
      "### Use in my research"
     ]
    }
   ],
   "metadata": {}
  }
 ]
}