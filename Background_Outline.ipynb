{
 "metadata": {
  "name": "",
  "signature": "sha256:50976a34e2da9441f5e92b8b979fbf7a0ad42dba3e16b1449721554cacbaf9c6"
 },
 "nbformat": 3,
 "nbformat_minor": 0,
 "worksheets": [
  {
   "cells": [
    {
     "cell_type": "heading",
     "level": 1,
     "metadata": {},
     "source": [
      "Instructions"
     ]
    },
    {
     "cell_type": "markdown",
     "metadata": {},
     "source": [
      "State the research paper you are using. Describe the concept of the algorithm and why it is interesting and/or useful. If appropriate, describe the mathematical basis of the algorithm. Some potential topics for the backgorund include:\n",
      "\n",
      "- What problem does it address? \n",
      "- What are known and possible applications of the algorithm? \n",
      "- What are its advantages and disadvantages relative to other algorithms?\n",
      "- How will you use it in your research?"
     ]
    },
    {
     "cell_type": "heading",
     "level": 1,
     "metadata": {},
     "source": [
      "Background Outline"
     ]
    },
    {
     "cell_type": "markdown",
     "metadata": {},
     "source": [
      "### Paper selected\n",
      "- Infinite Latent Feature Models and the Indian Buffet Process (IBP)\n",
      "\n",
      "### Problem addressed\n",
      "- Unsupervised learning: discover the hidden variables that generate the observations\n",
      "- Provide a latent structure in probabilitistic modeling \n",
      "- Dimensionality: How many classes/features to express the latent structure\n",
      "- Bayesian nonparametric method\n",
      "- Prior for potentially infinite array of objects\n",
      "- Model a string of 0/1 integers\n",
      "\n",
      "### Indian Buffet Process (IBP)\n",
      "- Indian restaurants offer buffets with a close-to-infinite number of dishes\n",
      "- The number of dishes sampled by a customer is a Poisson distribution\n",
      "- Binary array (i,k): whether customer $i$ sampled the dish $k$\n",
      "- Customers are not exchangeable, but the dishes are\n",
      "\n",
      "### Algorithm steps\n",
      "- Step 1: First customer takes a Poisson($\\alpha$) of dishes\n",
      "- Step 2: The $i$th customer takes dish $k$ with probability $\\frac{m_k}{i}$, where $m_k$ is the number of previous customers who sampled that dish\n",
      "- Step 3: The $i$th customer tries a Poisson($\\frac{\\alpha}{i}$) number of new dishes\n",
      "- Storage: Binary matrix $\\mathbf{Z}$ with $N$ rows and infinite columns, where $z_{ik}$ = 1 if customer $i$ sampled the dish $k$\n",
      "- Probability: $P(z_{ik}=1 | \\mathbf{z_{-i,k}}) = \\dfrac{m_{-i,k}}{N}$\n",
      "\n",
      "### Known/Possible applications of the algorithm\n",
      "- Linear-Gaussian binary latent feature models => model \"noisy\" matrices\n",
      "- Interpret binary matrices with structured representations\n",
      "- Image data processing\n",
      "- Modeling human cognition\n",
      "\n",
      "### Advantages \n",
      "- Poisson distribution: able to model an infinite sequence of integers\n",
      "- Combine the advantages of Gibbs sampling and Metropolis-Hastings (MH) steps\n",
      "\n",
      "### Disadvantages\n",
      "- Rely on the assumption that datapoints (dishes) in a single string are exchangeable\n",
      "- The number of parameters increase as the dataset gets large (Bayesian nonparameteric methods generally have this problem.)\n",
      "\n",
      "### Use in my research\n",
      "- Modeling latent variables (topics) in a blogs network graph\n",
      "\n",
      "### Other references\n",
      "- Bayesian Statistics: Indian Buffet Process\n",
      "http://www.bcs.rochester.edu/people/robbie/jacobslab/cheat_sheet/IndianBuffetProcess.pdf"
     ]
    }
   ],
   "metadata": {}
  }
 ]
}