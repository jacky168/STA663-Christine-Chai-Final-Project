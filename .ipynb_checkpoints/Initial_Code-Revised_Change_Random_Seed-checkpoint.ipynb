{
 "cells": [
  {
   "cell_type": "markdown",
   "metadata": {},
   "source": [
    "# Initial Code Revised -- Indian Buffet Process (IBP)"
   ]
  },
  {
   "cell_type": "code",
   "execution_count": 1,
   "metadata": {
    "collapsed": false
   },
   "outputs": [],
   "source": [
    "from __future__ import division\n",
    "import os\n",
    "import sys\n",
    "import glob\n",
    "import matplotlib.pyplot as plt\n",
    "import numpy as np\n",
    "import pandas as pd\n",
    "%matplotlib inline\n",
    "%precision 4\n",
    "plt.style.use('ggplot')"
   ]
  },
  {
   "cell_type": "code",
   "execution_count": 2,
   "metadata": {
    "collapsed": false
   },
   "outputs": [],
   "source": [
    "np.random.seed(1234)\n",
    "import scipy.stats as stats"
   ]
  },
  {
   "cell_type": "markdown",
   "metadata": {},
   "source": [
    "### Indian Buffet Process (IBP): Steps\n",
    "\n",
    "- Step 1: First customer takes a Poisson($\\alpha$) of dishes\n",
    "- Step 2: The $i$th customer takes dish $k$ with probability $\\frac{m_k}{i}$, where $m_k$ is the number of previous customers who sampled that dish\n",
    "- Step 3: The $i$th customer tries a Poisson($\\frac{\\alpha}{i}$) number of new dishes\n",
    "- Storage: Binary matrix $\\mathbf{Z}$ with $N$ rows and infinite columns, where $z_{ik}$ = 1 if customer $i$ sampled the dish $k$\n",
    "- Probability: $P(z_{ik}=1 | \\mathbf{z_{-i,k}}) = \\dfrac{m_{-i,k}+\\dfrac{\\alpha}{K}}{N+\\dfrac{\\alpha}{K}} \\rightarrow \\dfrac{m_{-i,k}}{N}$ as $K \\rightarrow \\infty$\n",
    "\n",
    "Special note: This is JUST a prior, not something you put in the Gibbs sampler!"
   ]
  },
  {
   "cell_type": "code",
   "execution_count": 3,
   "metadata": {
    "collapsed": false
   },
   "outputs": [],
   "source": [
    "def IBP(N, alpha):\n",
    "    \"\"\"Indian Buffet Process (IBP) steps:\n",
    "    Input: N is the number of customers (objects, images); alpha is the only parameter;\n",
    "    Return: result is the binary matrix (prior); Kplus is the number of dishes (features)\"\"\"\n",
    "    result = np.zeros((N,1000))\n",
    "    \n",
    "    # Step 1: First customer takes a Poisson(alpha) of dishes\n",
    "    t = stats.poisson.rvs(alpha) # (set the random seed when calling the function)\n",
    "    if t > 0:\n",
    "        result[0,0:t] = 1\n",
    "    \n",
    "    # Kplus = the number of features for which m_k > 0 (m_k: the number of previous customers who sampled that dish)\n",
    "    Kplus = t\n",
    "    for i in range(1,N):\n",
    "        for k in range(Kplus):\n",
    "            # Step 2: The ith customer takes dish k with probability m_k/i\n",
    "            p = np.sum(result[0:(i+1),k])/(i+1) # this is a probability, so should be between 0 and 1\n",
    "            assert p <= 1 \n",
    "            assert p >= 0\n",
    "            if stats.uniform.rvs(0) < p:\n",
    "                result[i,k] = 1\n",
    "            else:\n",
    "                result[i,k] = 0\n",
    "                \n",
    "        # Step 3: The ith customer tries a Poisson(alpha/i) number of new dishes\n",
    "        t = stats.poisson.rvs(alpha/(i+1))\n",
    "        if t > 0:\n",
    "            result[i,Kplus:(Kplus+t)] = 1\n",
    "        Kplus += t\n",
    "    result = result[:,0:Kplus]\n",
    "    \n",
    "    return result, Kplus"
   ]
  },
  {
   "cell_type": "markdown",
   "metadata": {},
   "source": [
    "### Indian Buffet Process (IBP): Testing\n",
    "\n",
    "Probability must be between 0 and 1: $ 0 \\leq \\dfrac{m_{-i,k}+\\dfrac{\\alpha}{K}}{N+\\dfrac{\\alpha}{K}}, \\dfrac{m_{-i,k}}{N} \\leq 1$\n",
    "\n",
    "This is equivalent to testing $m_{-i,k} \\leq N$"
   ]
  },
  {
   "cell_type": "code",
   "execution_count": 4,
   "metadata": {
    "collapsed": false
   },
   "outputs": [
    {
     "name": "stdout",
     "output_type": "stream",
     "text": [
      "5\n",
      "(100, 5)\n"
     ]
    }
   ],
   "source": [
    "np.random.seed(12)\n",
    "N1 = 100\n",
    "alpha1 = 1.5\n",
    "\n",
    "result1, Kplus1 = IBP(N1,alpha1)\n",
    "print Kplus1\n",
    "\n",
    "print result1.shape"
   ]
  },
  {
   "cell_type": "markdown",
   "metadata": {},
   "source": [
    "# Algorithm Application -- Linear-Gaussian Binary Latent Feature Models"
   ]
  },
  {
   "cell_type": "markdown",
   "metadata": {},
   "source": [
    "### Variables in Data (Images)\n",
    "\n",
    "$N = 100$ is the number of images (customers, objects)\n",
    "\n",
    "$D = 6 \\times 6 = 36$ is the length of vectors (dishes, features) for each image\n",
    "\n",
    "$K = 4$ is the number of basis images (latent or underlying variables)\n",
    "\n",
    "Each object $i$ has a $D$-dimensional vector of properties, named $x_i$\n",
    "\n",
    "- Generate images $X$ with the $K$ basis images, indicating which bases are used (each with probability 0.5)\n",
    "- Add white noises $\\text{Normal}(0,\\sigma_X^2 = 0.5)$ to these images"
   ]
  },
  {
   "cell_type": "code",
   "execution_count": 5,
   "metadata": {
    "collapsed": false
   },
   "outputs": [
    {
     "name": "stdout",
     "output_type": "stream",
     "text": [
      "Latent feature matrices (A):\n"
     ]
    },
    {
     "name": "stderr",
     "output_type": "stream",
     "text": [
      "/home/bitnami/anaconda/lib/python2.7/site-packages/matplotlib/figure.py:1644: UserWarning: This figure includes Axes that are not compatible with tight_layout, so its results might be incorrect.\n",
      "  warnings.warn(\"This figure includes Axes that are not \"\n"
     ]
    },
    {
     "data": {
      "image/png": "[encoded data removed]",
      "text/plain": [
       "<matplotlib.figure.Figure at 0x7f44066a7950>"
      ]
     },
     "metadata": {},
     "output_type": "display_data"
    }
   ],
   "source": [
    "# Basis images\n",
    "import Image\n",
    "basis1 = np.array([[0,0,0,0,0,0],[0,0,0,0,0,0],[0,0,0,0,0,0],[0,1,0,0,0,0],[1,1,1,0,0,0],[0,1,0,0,0,0]])\n",
    "basis2 = np.array([[1,1,1,0,0,0],[1,0,1,0,0,0],[1,1,1,0,0,0],[0,0,0,0,0,0],[0,0,0,0,0,0],[0,0,0,0,0,0]])\n",
    "basis3 = np.array([[0,0,0,0,0,0],[0,0,0,0,0,0],[0,0,0,0,0,0],[0,0,0,0,0,1],[0,0,0,0,1,1],[0,0,0,1,1,1]])\n",
    "basis4 = np.array([[0,0,0,1,0,0],[0,0,0,1,1,1],[0,0,0,1,0,0],[0,0,0,0,0,0],[0,0,0,0,0,0],[0,0,0,0,0,0]])\n",
    "\n",
    "D = 36\n",
    "b1 = basis1.reshape(D)\n",
    "b2 = basis2.reshape(D)\n",
    "b3 = basis3.reshape(D)\n",
    "b4 = basis4.reshape(D)\n",
    "A = np.array([b1,b2,b3,b4])\n",
    "\n",
    "# These are heatmaps!\n",
    "plt.figure(num=None, tight_layout=True, figsize=(12,3), dpi=80, facecolor='w', edgecolor='k')\n",
    "plt.subplot(141)\n",
    "plt.pcolormesh(basis1,cmap=plt.cm.gray)     \n",
    "plt.subplot(142)\n",
    "plt.pcolormesh(basis2,cmap=plt.cm.gray)  \n",
    "plt.subplot(143)\n",
    "plt.pcolormesh(basis3,cmap=plt.cm.gray)  \n",
    "plt.subplot(144)\n",
    "plt.pcolormesh(basis4,cmap=plt.cm.gray)  \n",
    "plt.savefig('basis_images.png')\n",
    "print \"Latent feature matrices (A):\""
   ]
  },
  {
   "cell_type": "code",
   "execution_count": 6,
   "metadata": {
    "collapsed": false
   },
   "outputs": [
    {
     "name": "stdout",
     "output_type": "stream",
     "text": [
      "Example image:\n",
      "[[ 0.2067  0.3588  0.1309  0.8786 -0.2506 -0.3491]\n",
      " [ 0.6923 -0.1432  0.25    1.9756  0.8608  1.0184]\n",
      " [ 0.2229 -0.7052  0.225   1.2577 -0.577  -0.6901]\n",
      " [-0.2479  0.7934 -0.8597 -0.0148 -0.383   1.0499]\n",
      " [ 0.6435 -0.1131  1.3629  0.4585  0.7181  0.2389]\n",
      " [-0.0071  0.8766 -0.0827  1.0596 -0.0375  0.4986]]\n"
     ]
    },
    {
     "data": {
      "image/png": "[encoded data removed]",
      "text/plain": [
       "<matplotlib.figure.Figure at 0x7f440667cdd0>"
      ]
     },
     "metadata": {},
     "output_type": "display_data"
    }
   ],
   "source": [
    "# Generate image data: 100 matrices of size 6*6\n",
    "N = 100\n",
    "D = 36\n",
    "K = 4\n",
    "sigmaX_orig = 0.5\n",
    "\n",
    "# All K basis images, each of length D\n",
    "# Generate N images (customers, objects)\n",
    "np.random.seed(1234)\n",
    "images = np.zeros((N,6,6)) # simulated image data\n",
    "structure = np.zeros((N,6,6))  # 0/1 structure for each image\n",
    "add = stats.bernoulli.rvs(0.5,size=(N,K)) # whether the K=4 latent bases are present in each image\n",
    "epsilon = stats.norm.rvs(loc=0,scale=0.5,size = (N,6,6)) # random noise\n",
    "\n",
    "for i in range(N):\n",
    "    structure[i,:,:] = add[i,0]*basis1 + add[i,1]*basis2 + add[i,2]*basis3 + add[i,3]*basis4\n",
    "    images[i,:,:] = structure[i,:,:] + epsilon[i,:,:]\n",
    "\n",
    "Z_orig = add    \n",
    "# X = structure.reshape(N,D)    \n",
    "# print Z_orig\n",
    "# print structure[0,:,:]\n",
    "# print X[0,:]\n",
    "# print X.shape\n",
    "\n",
    "# print images.shape\n",
    "print \"Example image:\\n\",images[4]\n",
    "plt.figure(tight_layout=True, figsize=(3,3),dpi=80)\n",
    "plt.pcolormesh(images[4],cmap=plt.cm.gray)\n",
    "plt.savefig('example_image.png')"
   ]
  },
  {
   "cell_type": "markdown",
   "metadata": {},
   "source": [
    "### Variables in Transformation\n",
    "\n",
    "$x_i \\sim \\text{Normal}(\\mathbf{z_i} \\mathbf{A}, \\Sigma_X = \\sigma_X^2\\mathbf{I})$\n",
    "\n",
    "$\\mathbf{z_i}$ is a $K$-dimensional binary vector (features)\n",
    "\n",
    "$\\mathbf{A}$ is a $K \\times D$ matrix of weights, with prior $A \\sim \\text{Normal}(0,\\sigma_A^2 \\mathbf{I})$\n",
    "\n",
    "$Z \\sim \\text{IBP}(\\alpha)$, where $m_k$ is the number of objects with feature $k$\n",
    "\n",
    "$p(Z | \\alpha) = \\dfrac{\\alpha^K}{\\prod^{2^N-1}_{h=1}K_h!} \\exp(-\\alpha H_N) \\prod^{K}_{k=1}\\dfrac{(N-m_k)!(m_k-1)!}{N!}$\n",
    "\n",
    "Note 1: $\\alpha$ is a variable influencing the number of features  $D$\n",
    "\n",
    "Note 2: $K_h$ is the number of features with history $h$ (whether the $N$ images possess this feature, $2^N-1$ possibilities in total)\n",
    "\n",
    "Note 3: $H_N$ is the $N^{\\text{th}}$ harmonic number, and $m_k$ is the number of objects with feature $k$"
   ]
  },
  {
   "cell_type": "code",
   "execution_count": 7,
   "metadata": {
    "collapsed": false
   },
   "outputs": [
    {
     "name": "stdout",
     "output_type": "stream",
     "text": [
      "Sum of H_1 + ... + H_N: 423.925129282\n",
      "Harmonic number H_N: 5.18737751764\n"
     ]
    }
   ],
   "source": [
    "# Generate the Harmonic numbers, but we only need the sum\n",
    "from fractions import Fraction\n",
    "sum_Harmonics = 0\n",
    "Harmonics = 0\n",
    "for i in range(N):\n",
    "    sum_Harmonics += (N-i)*Fraction(1,i+1)\n",
    "    Harmonics += Fraction(1,i+1)\n",
    "print \"Sum of H_1 + ... + H_N:\", float(sum_Harmonics)\n",
    "print \"Harmonic number H_N:\", float(Harmonics)"
   ]
  },
  {
   "cell_type": "code",
   "execution_count": 8,
   "metadata": {
    "collapsed": false
   },
   "outputs": [
    {
     "name": "stdout",
     "output_type": "stream",
     "text": [
      "Initial Kplus: 4\n",
      "Z.shape: (100, 4)\n",
      "A.shape: (4, 36)\n"
     ]
    }
   ],
   "source": [
    "# Initialization\n",
    "N = 100\n",
    "D = 36\n",
    "K = 4\n",
    "sigmaA = 1\n",
    "sigmaX = 1\n",
    "\n",
    "np.random.seed(1005)\n",
    "# alpha = stats.gamma.rvs(a = 1, loc = 0, scale = 1, size = 1)[0]\n",
    "alpha = 1\n",
    "\n",
    "K_inf = 1000\n",
    "Z, Kplus = IBP(N, alpha)\n",
    "print \"Initial Kplus:\", Kplus\n",
    "print \"Z.shape:\",Z.shape # (100,4) = (N,Kplus) (latent)\n",
    "print \"A.shape:\",A.shape # (4,36) = (Kplus,D)  (weight)\n",
    "\n",
    "# Set MCMC steps\n",
    "mcmc = 1000 # plan to sample for 1000 times\n",
    "\n",
    "# Setup the array\n",
    "Z_arr = np.zeros((mcmc,N,K_inf))\n",
    "Kplus_arr = np.zeros(mcmc)\n",
    "sigmaX_arr = np.zeros(mcmc)\n",
    "sigmaA_arr = np.zeros(mcmc)\n",
    "alpha_arr = np.zeros(mcmc)\n",
    "rX_accept = 0\n",
    "rA_accept = 0"
   ]
  },
  {
   "cell_type": "code",
   "execution_count": 15,
   "metadata": {
    "collapsed": false
   },
   "outputs": [
    {
     "name": "stdout",
     "output_type": "stream",
     "text": [
      "X.shape: (100, 36)\n",
      "[[ 0.7359  0.4635  1.4327 -1.1508  0.8724 -0.3806]\n",
      " [ 0.6264  1.8462  1.0254 -0.3185  0.0955  1.0501]\n",
      " [ 0.8888  0.8996  1.0933  1.205   0.0991  0.0595]\n",
      " [ 1.5607  1.2045  0.9877 -0.3876  0.6369  0.9836]\n",
      " [ 0.9318  0.9405  1.0087  0.439  -0.2585 -0.4985]\n",
      " [ 1.3012  1.2101  1.4055  1.5222 -0.2004  0.412 ]]\n",
      "(100, 4)\n",
      "[[ 0.  1.  0.  0.]\n",
      " [ 1.  1.  0.  0.]\n",
      " [ 1.  1.  0.  1.]\n",
      " [ 1.  1.  0.  0.]\n",
      " [ 1.  1.  0.  1.]\n",
      " [ 1.  1.  0.  1.]]\n"
     ]
    }
   ],
   "source": [
    "# More initialization\n",
    "# np.random.seed(16)\n",
    "np.random.seed(1)\n",
    "basis1 = np.array([[0,0,0,0,0,0],[0,0,0,0,0,0],[0,0,0,0,0,0],[0,1,0,0,0,0],[1,1,1,0,0,0],[0,1,0,0,0,0]])\n",
    "basis2 = np.array([[1,1,1,0,0,0],[1,0,1,0,0,0],[1,1,1,0,0,0],[0,0,0,0,0,0],[0,0,0,0,0,0],[0,0,0,0,0,0]])\n",
    "basis3 = np.array([[0,0,0,0,0,0],[0,0,0,0,0,0],[0,0,0,0,0,0],[0,0,0,0,0,1],[0,0,0,0,1,1],[0,0,0,1,1,1]])\n",
    "basis4 = np.array([[0,0,0,1,0,0],[0,0,0,1,1,1],[0,0,0,1,0,0],[0,0,0,0,0,0],[0,0,0,0,0,0],[0,0,0,0,0,0]])\n",
    "\n",
    "D = 36\n",
    "b1 = basis1.reshape(D)\n",
    "b2 = basis2.reshape(D)\n",
    "b3 = basis3.reshape(D)\n",
    "b4 = basis4.reshape(D)\n",
    "A = np.array([b1,b2,b3,b4])\n",
    "\n",
    "Z_orig = np.zeros((N,4))\n",
    "sigmaX_orig = 0.5\n",
    "X = np.zeros((N,D))\n",
    "\n",
    "for i in range(N):\n",
    "    Z_orig[i,:] = stats.uniform.rvs(loc=0,scale=1,size=4) > 0.5\n",
    "    while np.sum(Z_orig[i,:]) == 0:\n",
    "        Z_orig[i,:] = stats.uniform.rvs(loc=0,scale=1,size=4) > 0.5\n",
    "    X[i,:] = np.random.normal(size=D)*sigmaX_orig + np.dot(Z_orig[i,:],A)\n",
    "    \n",
    "print \"X.shape:\",X.shape # (100,36) = (N,D) (data)\n",
    "print X[0:6,0:6]\n",
    "print Z_orig.shape\n",
    "print Z_orig[0:6,:]\n",
    "# print np.dot(Z_orig[i,:],A).shape"
   ]
  },
  {
   "cell_type": "code",
   "execution_count": 78,
   "metadata": {
    "collapsed": false
   },
   "outputs": [
    {
     "data": {
      "text/plain": [
       "-4224.3456"
      ]
     },
     "execution_count": 78,
     "metadata": {},
     "output_type": "execute_result"
    }
   ],
   "source": [
    "M = calcM(Z,Kplus,sigmaX,sigmaA) \n",
    "log_likelihood(X,Z[:,0:Kplus],M,sigmaA,sigmaX,Kplus,N,D)"
   ]
  },
  {
   "cell_type": "code",
   "execution_count": 24,
   "metadata": {
    "collapsed": false
   },
   "outputs": [
    {
     "name": "stdout",
     "output_type": "stream",
     "text": [
      "6.11082455198\n",
      "12.3836326135\n"
     ]
    }
   ],
   "source": [
    "# Checking whether the gamma distribution is setup correctly\n",
    "# ff ~ Gamma(a,b): a = shape, b = 1/scale => E(ff) = a/b = a*scale, Var(ff) = a/b**2 = a*scale**2\n",
    "# Generate 1000 random samples from Ga(3,2)\n",
    "np.random.seed(17)\n",
    "rv = stats.gamma.rvs(a = 3, loc = 0, scale = 2, size=1000)\n",
    "print np.mean(rv)  # should be close to 3*2 = 6\n",
    "print np.var(rv)   # should be close to 3*2*2 = 12"
   ]
  },
  {
   "cell_type": "markdown",
   "metadata": {},
   "source": [
    "### Gibbs Sampler\n",
    "\n",
    "Initialization: $\\sigma_A = 1, \\sigma_X = 1, \\alpha \\sim Ga(1,1)$\n",
    "\n",
    "1. Generate $P(z_{ik} | \\mathbf{X,Z_{-i,k}},\\sigma_X, \\sigma_A)$ using the full conditional distribution\n",
    "2. Sample $\\sigma_{X}^* = \\sigma_X + \\epsilon$, where $\\epsilon \\sim \\text{Unif}(-0.05,0.05)$, and accept $\\sigma_{X}^*$ by Metropolis (not just when the likelihood is larger, i.e. $P(\\sigma_{X}^*) > P(\\sigma_{X})$)\n",
    "3. Sample $\\sigma_{A}^* = \\sigma_A + \\epsilon$, where $\\epsilon \\sim \\text{Unif}(-0.05,0.05)$, and accept $\\sigma_{A}^*$ by Metropolis (not just when the likelihood is larger, i.e. $P(\\sigma_{A}^*) > P(\\sigma_{A})$)\n",
    "4. Generate $\\alpha|Z \\sim Ga(1+K_+,1+\\sum^{N}_{i=1}H_i)$, where $K_+ = \\sum^{2^N-1}_{h=1}K_h$ and $K_+$ is the number of features for which $m_k > 0$\n",
    "\n",
    "Metropolis for $\\sigma_A$ (for $\\sigma_X$ is similar):\n",
    "\n",
    "Current value: $\\sigma_{A}^{(n)}$\n",
    "\n",
    "Candidate value: $\\sigma_{A}^{*}$\n",
    "\n",
    "Generate $r \\sim \\text{Unif}(0,1)$\n",
    "\n",
    "Accept $\\sigma_{A}^{*}$ if $r < \\text{min}\\{ 1, \\dfrac{P(\\sigma_{A}^{*} | \\mathbf{Z,X},\\sigma_X)}{P(\\sigma_{A}^{(n)} | \\mathbf{Z,X},\\sigma_X)} \\}$"
   ]
  },
  {
   "cell_type": "code",
   "execution_count": 10,
   "metadata": {
    "collapsed": false
   },
   "outputs": [],
   "source": [
    "def calcM(Z,Kplus,sigmaX,sigmaA):\n",
    "    \"\"\"Save the matrix M so we won't need to calculate it again and again\"\"\"\n",
    "    return np.linalg.inv(np.dot(Z[:,0:Kplus].T,Z[:,0:Kplus])+((sigmaX/sigmaA)**2)*np.identity(Kplus))"
   ]
  },
  {
   "cell_type": "code",
   "execution_count": 11,
   "metadata": {
    "collapsed": false
   },
   "outputs": [],
   "source": [
    "def calcInverse(Z, M, i, k, val):\n",
    "    \"\"\"Effective inverse calculation from Griffiths and Ghahramani (2005; Equations 51 to 54)\n",
    "    M_(-i) = inv(inv(M) - zi.T * zi)\"\"\"\n",
    "    M_i = M - np.dot(np.dot(M,Z[i,:].T),np.dot(Z[i,:],M))/(np.dot(np.dot(Z[i,:],M),Z[i,:].T)-1)\n",
    "    Z[i,k] = val\n",
    "    M = M_i - np.dot(np.dot(M_i,Z[i,:].T),np.dot(Z[i,:],M_i))/(np.dot(np.dot(Z[i,:],M_i),Z[i,:].T)+1)\n",
    "    Inv = M\n",
    "    return Inv"
   ]
  },
  {
   "cell_type": "code",
   "execution_count": 12,
   "metadata": {
    "collapsed": false
   },
   "outputs": [],
   "source": [
    "def calcInverse_new(Z, M, i, k, val):\n",
    "    \"\"\"New version to check\n",
    "    Effective inverse calculation from Griffiths and Ghahramani (2005; Equations 51 to 54)\n",
    "    M_(-i) = inv(inv(M) - zi.T * zi)\"\"\"\n",
    "    Z[i,k] = val\n",
    "#     counter = np.zeros((len(Z[i,:]),len(Z[i,:])))\n",
    "#     for j in range(Z.shape[0]):\n",
    "#         counter += np.dot(Z[j,:].T,Z[j,:])\n",
    "#     counter -= np.dot(Z[i,:].T,Z[i,:])\n",
    "    \n",
    "#     M_negi = np.linalg.inv(counter + ((sigmaX/sigmaA)**2)*np.identity(len(Z[i,:])))\n",
    "    \n",
    "#     return M_negi\n",
    "    return np.linalg.inv(np.linalg.inv(M) - np.dot(Z[i,:].T,Z[i,:]))"
   ]
  },
  {
   "cell_type": "code",
   "execution_count": 184,
   "metadata": {
    "collapsed": false
   },
   "outputs": [
    {
     "data": {
      "text/plain": [
       "(100, 17)"
      ]
     },
     "execution_count": 184,
     "metadata": {},
     "output_type": "execute_result"
    }
   ],
   "source": [
    "Z.shape"
   ]
  },
  {
   "cell_type": "code",
   "execution_count": 13,
   "metadata": {
    "collapsed": false
   },
   "outputs": [],
   "source": [
    "def log_likelihood(X,Z,M,sigmaA,sigmaX,Kplus,N,D):  \n",
    "    \"\"\"Calculate the log-likelihood: P(X|Z,M,sigmaA,sigmaX,Kplus,N,D)\"\"\"  \n",
    "    determinant = np.linalg.det(np.dot(Z.T,Z)+((sigmaX/sigmaA)**2)*np.identity(Kplus))\n",
    "    constant = N*D*0.5*np.log(2*np.pi) + (N-Kplus)*D*np.log(sigmaX) + Kplus*D*np.log(sigmaA) + D*0.5*np.log(determinant)\n",
    "    \n",
    "    middle = np.identity(N) - np.dot(np.dot(Z, M),Z.T)\n",
    "    trace = np.trace(np.dot(np.dot(X.T,middle),X))\n",
    "    kernel = -0.5*np.reciprocal(sigmaX**2)*trace\n",
    "    \n",
    "    log_lik = -constant + kernel\n",
    "    #print constant\n",
    "    #print kernel\n",
    "    return log_lik"
   ]
  },
  {
   "cell_type": "code",
   "execution_count": 16,
   "metadata": {
    "collapsed": false
   },
   "outputs": [
    {
     "name": "stdout",
     "output_type": "stream",
     "text": [
      "At iteration 0 : Kplus is 5 , alpha is 1.03918585789\n",
      "At iteration 1 : Kplus is 9 , alpha is 0.980475617158\n",
      "At iteration 2 : Kplus is 9 , alpha is 1.02253582121\n",
      "At iteration 3 : Kplus is 8 , alpha is 1.14332253911\n",
      "At iteration 4 : Kplus is 7 , alpha is 1.24294239752\n",
      "At iteration 5 : Kplus is 7 , alpha is 1.40157923399\n",
      "At iteration 6 : Kplus is 8 , alpha is 1.5473320423\n",
      "At iteration 7 : Kplus is 10 , alpha is 1.71288315774\n",
      "At iteration 8 : Kplus is 9 , alpha is 1.20085673344\n",
      "At iteration 9 : Kplus is 9 , alpha is 1.68927613259\n",
      "At iteration 10 : Kplus is 10 , alpha is 1.96984911071\n",
      "At iteration 11 : Kplus is 9 , alpha is 0.948512110366\n",
      "At iteration 12 : Kplus is 7 , alpha is 1.30196889756\n",
      "At iteration 13 : Kplus is 8 , alpha is 1.25859104475\n",
      "At iteration 14 : Kplus is 8 , alpha is 1.95813905277\n",
      "At iteration 15 : Kplus is 9 , alpha is 0.9440644798\n",
      "At iteration 16 : Kplus is 8 , alpha is 1.6019214597\n",
      "At iteration 17 : Kplus is 10 , alpha is 1.348576227\n",
      "At iteration 18 : Kplus is 8 , alpha is 1.11728390758\n",
      "At iteration 19 : Kplus is 9 , alpha is 3.25651296183\n",
      "At iteration 20 : Kplus is 11 , alpha is 2.16946482409\n",
      "At iteration 21 : Kplus is 12 , alpha is 2.66495074246\n",
      "At iteration 22 : Kplus is 11 , alpha is 1.97000334304\n",
      "At iteration 23 : Kplus is 12 , alpha is 3.26236792736\n",
      "At iteration 24 : Kplus is 11 , alpha is 1.02361472952\n",
      "At iteration 25 : Kplus is 7 , alpha is 0.913585836341\n",
      "At iteration 26 : Kplus is 9 , alpha is 1.59060151174\n",
      "At iteration 27 : Kplus is 8 , alpha is 1.51951295426\n",
      "At iteration 28 : Kplus is 11 , alpha is 1.13023945441\n",
      "At iteration 29 : Kplus is 11 , alpha is 1.92972208442\n",
      "At iteration 30 : Kplus is 9 , alpha is 2.15361506925\n",
      "At iteration 31 : Kplus is 9 , alpha is 2.19728079811\n",
      "At iteration 32 : Kplus is 9 , alpha is 1.75012145385\n",
      "At iteration 33 : Kplus is 8 , alpha is 1.24931690806\n",
      "At iteration 34 : Kplus is 8 , alpha is 1.17229626622\n",
      "At iteration 35 : Kplus is 10 , alpha is 1.75261870933\n",
      "At iteration 36 : Kplus is 8 , alpha is 1.07692819793\n",
      "At iteration 37 : Kplus is 6 , alpha is 1.63670686661\n",
      "At iteration 38 : Kplus is 6 , alpha is 1.3137891612\n",
      "At iteration 39 : Kplus is 5 , alpha is 0.675833262293\n",
      "At iteration 40 : Kplus is 5 , alpha is 0.762859673733\n",
      "At iteration 41 : Kplus is 5 , alpha is 1.02386373468\n",
      "At iteration 42 : Kplus is 5 , alpha is 0.85104464902\n",
      "At iteration 43 : Kplus is 6 , alpha is 0.57930639884\n",
      "At iteration 44 : Kplus is 5 , alpha is 0.704658130971\n",
      "At iteration 45 : Kplus is 6 , alpha is 1.57891054629\n",
      "At iteration 46 : Kplus is 9 , alpha is 1.68362088177\n",
      "At iteration 47 : Kplus is 5 , alpha is 0.674892786774\n",
      "At iteration 48 : Kplus is 5 , alpha is 1.40863038739\n",
      "At iteration 49 : Kplus is 5 , alpha is 0.873989309416\n",
      "At iteration 50 : Kplus is 6 , alpha is 0.317411811115\n",
      "At iteration 51 : Kplus is 6 , alpha is 1.05880034139\n",
      "At iteration 52 : Kplus is 5 , alpha is 0.727969749292\n",
      "At iteration 53 : Kplus is 5 , alpha is 0.674213171106\n",
      "At iteration 54 : Kplus is 4 , alpha is 0.216827739548\n",
      "At iteration 55 : Kplus is 4 , alpha is 0.328943623381\n",
      "At iteration 56 : Kplus is 4 , alpha is 0.74936844043\n",
      "At iteration 57 : Kplus is 4 , alpha is 1.05942316558\n",
      "At iteration 58 : Kplus is 4 , alpha is 1.30489626841\n",
      "At iteration 59 : Kplus is 4 , alpha is 0.339464548215\n",
      "At iteration 60 : Kplus is 4 , alpha is 0.248067172116\n",
      "At iteration 61 : Kplus is 5 , alpha is 0.940029783561\n",
      "At iteration 62 : Kplus is 6 , alpha is 1.21270702535\n",
      "At iteration 63 : Kplus is 6 , alpha is 1.07552499318\n",
      "At iteration 64 : Kplus is 7 , alpha is 0.951129375085\n",
      "At iteration 65 : Kplus is 7 , alpha is 1.30528885827\n",
      "At iteration 66 : Kplus is 5 , alpha is 0.872062990239\n",
      "At iteration 67 : Kplus is 6 , alpha is 0.449895294011\n",
      "At iteration 68 : Kplus is 4 , alpha is 1.07197739213\n",
      "At iteration 69 : Kplus is 4 , alpha is 0.510979539831\n",
      "At iteration 70 : Kplus is 5 , alpha is 0.371865532388\n",
      "At iteration 71 : Kplus is 5 , alpha is 1.70701917218\n",
      "At iteration 72 : Kplus is 6 , alpha is 0.493754092971\n",
      "At iteration 73 : Kplus is 6 , alpha is 0.910816274754\n",
      "At iteration 74 : Kplus is 4 , alpha is 0.619669813524\n",
      "At iteration 75 : Kplus is 5 , alpha is 1.5932162354\n",
      "At iteration 76 : Kplus is 5 , alpha is 0.903425052845\n",
      "At iteration 77 : Kplus is 4 , alpha is 0.784647058817\n",
      "At iteration 78 : Kplus is 6 , alpha is 1.37386639561\n",
      "At iteration 79 : Kplus is 5 , alpha is 1.51337215685\n",
      "At iteration 80 : Kplus is 4 , alpha is 0.80894374976\n",
      "At iteration 81 : Kplus is 4 , alpha is 0.67240968059\n",
      "At iteration 82 : Kplus is 4 , alpha is 1.32178168\n",
      "At iteration 83 : Kplus is 5 , alpha is 1.65425252016\n",
      "At iteration 84 : Kplus is 5 , alpha is 1.33580116306\n",
      "At iteration 85 : Kplus is 4 , alpha is 0.566698464826\n",
      "At iteration 86 : Kplus is 4 , alpha is 0.629239311589\n",
      "At iteration 87 : Kplus is 4 , alpha is 1.42742580071\n",
      "At iteration 88 : Kplus is 6 , alpha is 1.31908171383\n",
      "At iteration 89 : Kplus is 5 , alpha is 0.747064857715\n",
      "At iteration 90 : Kplus is 4 , alpha is 1.06259060135\n",
      "At iteration 91 : Kplus is 4 , alpha is 0.480335971225\n",
      "At iteration 92 : Kplus is 5 , alpha is 1.28667364366\n",
      "At iteration 93 : Kplus is 5 , alpha is 0.827179044064\n",
      "At iteration 94 : Kplus is 5 , alpha is 0.630921067141\n",
      "At iteration 95 : Kplus is 4 , alpha is 0.672466757592\n",
      "At iteration 96 : Kplus is 5 , alpha is 0.346217716434\n",
      "At iteration 97 : Kplus is 4 , alpha is 0.466155808804\n",
      "At iteration 98 : Kplus is 4 , alpha is 0.330941740818\n",
      "At iteration 99 : Kplus is 4 , alpha is 0.675634469601\n",
      "At iteration 100 : Kplus is 4 , alpha is 1.62278207018\n",
      "At iteration 101 : Kplus is 7 , alpha is 0.957764063808\n",
      "At iteration 102 : Kplus is 5 , alpha is 0.518255555899\n",
      "At iteration 103 : Kplus is 5 , alpha is 0.416530708326\n",
      "At iteration 104 : Kplus is 6 , alpha is 0.997469669855\n",
      "At iteration 105 : Kplus is 8 , alpha is 0.87955887593\n",
      "At iteration 106 : Kplus is 6 , alpha is 1.02586366621\n",
      "At iteration 107 : Kplus is 4 , alpha is 0.51245077186\n",
      "At iteration 108 : Kplus is 5 , alpha is 0.425594102599\n",
      "At iteration 109 : Kplus is 4 , alpha is 0.648031573176\n",
      "At iteration 110 : Kplus is 5 , alpha is 0.970164872283\n",
      "At iteration 111 : Kplus is 5 , alpha is 0.9485610144\n",
      "At iteration 112 : Kplus is 5 , alpha is 1.09547925698\n",
      "At iteration 113 : Kplus is 4 , alpha is 0.864853269721\n",
      "At iteration 114 : Kplus is 4 , alpha is 0.470076182033\n",
      "At iteration 115 : Kplus is 5 , alpha is 0.615147609004\n",
      "At iteration 116 : Kplus is 5 , alpha is 0.815281033575\n",
      "At iteration 117 : Kplus is 5 , alpha is 0.821130617374\n",
      "At iteration 118 : Kplus is 4 , alpha is 0.734786178048\n",
      "At iteration 119 : Kplus is 5 , alpha is 0.825390051414\n",
      "At iteration 120 : Kplus is 4 , alpha is 0.677232278288\n",
      "At iteration 121 : Kplus is 5 , alpha is 0.373306427187\n",
      "At iteration 122 : Kplus is 6 , alpha is 0.530559944793\n",
      "At iteration 123 : Kplus is 4 , alpha is 1.17432463032\n",
      "At iteration 124 : Kplus is 5 , alpha is 0.677422120551\n",
      "At iteration 125 : Kplus is 5 , alpha is 1.25875289924\n",
      "At iteration 126 : Kplus is 5 , alpha is 1.45751986225\n",
      "At iteration 127 : Kplus is 6 , alpha is 1.40007859859\n",
      "At iteration 128 : Kplus is 5 , alpha is 1.04307239364\n",
      "At iteration 129 : Kplus is 4 , alpha is 0.870624475901\n",
      "At iteration 130 : Kplus is 7 , alpha is 1.5905883469\n",
      "At iteration 131 : Kplus is 4 , alpha is 0.467833176949\n",
      "At iteration 132 : Kplus is 4 , alpha is 0.469218999614\n",
      "At iteration 133 : Kplus is 4 , alpha is 0.366963368442\n",
      "At iteration 134 : Kplus is 4 , alpha is 0.884593404584\n",
      "At iteration 135 : Kplus is 4 , alpha is 0.787023776549\n",
      "At iteration 136 : Kplus is 5 , alpha is 0.80900191552\n",
      "At iteration 137 : Kplus is 5 , alpha is 1.39166587464\n",
      "At iteration 138 : Kplus is 6 , alpha is 0.736155411418\n",
      "At iteration 139 : Kplus is 5 , alpha is 0.792420538222\n",
      "At iteration 140 : Kplus is 4 , alpha is 0.622922579189\n",
      "At iteration 141 : Kplus is 4 , alpha is 0.547409516632\n",
      "At iteration 142 : Kplus is 4 , alpha is 0.529325021701\n",
      "At iteration 143 : Kplus is 4 , alpha is 0.79389426902\n",
      "At iteration 144 : Kplus is 4 , alpha is 1.0266419938\n",
      "At iteration 145 : Kplus is 5 , alpha is 1.05344260869\n",
      "At iteration 146 : Kplus is 7 , alpha is 0.746633837356\n",
      "At iteration 147 : Kplus is 4 , alpha is 0.659291674537\n",
      "At iteration 148 : Kplus is 4 , alpha is 0.756096061061\n",
      "At iteration 149 : Kplus is 4 , alpha is 1.2984550226\n",
      "At iteration 150 : Kplus is 7 , alpha is 1.4264334351\n",
      "At iteration 151 : Kplus is 5 , alpha is 1.03410900341\n",
      "At iteration 152 : Kplus is 6 , alpha is 0.828166807818\n",
      "At iteration 153 : Kplus is 5 , alpha is 1.20534115111\n",
      "At iteration 154 : Kplus is 5 , alpha is 0.865856260265\n",
      "At iteration 155 : Kplus is 5 , alpha is 0.786225516389\n",
      "At iteration 156 : Kplus is 5 , alpha is 2.12539299013\n",
      "At iteration 157 : Kplus is 5 , alpha is 0.33654280746\n",
      "At iteration 158 : Kplus is 4 , alpha is 1.19334912522\n",
      "At iteration 159 : Kplus is 5 , alpha is 0.415765790015\n",
      "At iteration 160 : Kplus is 5 , alpha is 0.849902659134\n",
      "At iteration 161 : Kplus is 4 , alpha is 0.858397474489\n",
      "At iteration 162 : Kplus is 5 , alpha is 0.98289746804\n",
      "At iteration 163 : Kplus is 5 , alpha is 1.52742504928\n",
      "At iteration 164 : Kplus is 5 , alpha is 0.875087799383\n",
      "At iteration 165 : Kplus is 6 , alpha is 0.854786630373\n",
      "At iteration 166 : Kplus is 4 , alpha is 1.04409261161\n",
      "At iteration 167 : Kplus is 5 , alpha is 0.795255129946\n",
      "At iteration 168 : Kplus is 4 , alpha is 0.865556643227\n",
      "At iteration 169 : Kplus is 4 , alpha is 0.680664261818\n",
      "At iteration 170 : Kplus is 5 , alpha is 0.428480971743\n",
      "At iteration 171 : Kplus is 6 , alpha is 1.67303072686\n",
      "At iteration 172 : Kplus is 7 , alpha is 0.985820191939\n",
      "At iteration 173 : Kplus is 6 , alpha is 1.85495152683\n",
      "At iteration 174 : Kplus is 6 , alpha is 0.957992548434\n",
      "At iteration 175 : Kplus is 6 , alpha is 1.70347434059\n",
      "At iteration 176 : Kplus is 7 , alpha is 1.27820684876\n",
      "At iteration 177 : Kplus is 4 , alpha is 0.972445376655\n",
      "At iteration 178 : Kplus is 4 , alpha is 0.935945426919\n",
      "At iteration 179 : Kplus is 5 , alpha is 0.829474157576\n",
      "At iteration 180 : Kplus is 4 , alpha is 0.770020534662\n",
      "At iteration 181 : Kplus is 4 , alpha is 0.569981283032\n",
      "At iteration 182 : Kplus is 4 , alpha is 1.29253272497\n",
      "At iteration 183 : Kplus is 5 , alpha is 0.925033877821\n",
      "At iteration 184 : Kplus is 7 , alpha is 1.1725997351\n",
      "At iteration 185 : Kplus is 7 , alpha is 1.18480148394\n",
      "At iteration 186 : Kplus is 6 , alpha is 1.282744617\n",
      "At iteration 187 : Kplus is 5 , alpha is 0.624567650733\n",
      "At iteration 188 : Kplus is 5 , alpha is 0.333940663227\n",
      "At iteration 189 : Kplus is 5 , alpha is 1.10569453278\n",
      "At iteration 190 : Kplus is 6 , alpha is 1.45566090211\n",
      "At iteration 191 : Kplus is 4 , alpha is 0.749299979057\n",
      "At iteration 192 : Kplus is 4 , alpha is 1.16511306951\n",
      "At iteration 193 : Kplus is 5 , alpha is 1.60353469041\n",
      "At iteration 194 : Kplus is 5 , alpha is 0.997180686837\n",
      "At iteration 195 : Kplus is 5 , alpha is 0.529953902772\n",
      "At iteration 196 : Kplus is 4 , alpha is 1.2296620194\n",
      "At iteration 197 : Kplus is 6 , alpha is 0.845071089179\n",
      "At iteration 198 : Kplus is 5 , alpha is 0.914693407105\n",
      "At iteration 199 : Kplus is 5 , alpha is 0.983022794153\n",
      "At iteration 200 : Kplus is 5 , alpha is 0.533672701268\n",
      "At iteration 201 : Kplus is 4 , alpha is 0.71819876443\n",
      "At iteration 202 : Kplus is 4 , alpha is 0.926629549339\n",
      "At iteration 203 : Kplus is 4 , alpha is 0.895362420885\n",
      "At iteration 204 : Kplus is 5 , alpha is 0.453890118029\n"
     ]
    },
    {
     "ename": "KeyboardInterrupt",
     "evalue": "",
     "output_type": "error",
     "traceback": [
      "\u001b[1;31m---------------------------------------------------------------------------\u001b[0m",
      "\u001b[1;31mKeyboardInterrupt\u001b[0m                         Traceback (most recent call last)",
      "\u001b[1;32m<ipython-input-16-ff8d5a78b8d2>\u001b[0m in \u001b[0;36m<module>\u001b[1;34m()\u001b[0m\n\u001b[0;32m     53\u001b[0m             \u001b[0mZ\u001b[0m\u001b[1;33m[\u001b[0m\u001b[0mi\u001b[0m\u001b[1;33m,\u001b[0m\u001b[0mk\u001b[0m\u001b[1;33m]\u001b[0m \u001b[1;33m=\u001b[0m \u001b[1;36m1\u001b[0m\u001b[1;33m\u001b[0m\u001b[0m\n\u001b[0;32m     54\u001b[0m             \u001b[0mM1\u001b[0m \u001b[1;33m=\u001b[0m \u001b[0mcalcM\u001b[0m\u001b[1;33m(\u001b[0m\u001b[0mZ\u001b[0m\u001b[1;33m,\u001b[0m\u001b[0mKplus\u001b[0m\u001b[1;33m,\u001b[0m\u001b[0msigmaX\u001b[0m\u001b[1;33m,\u001b[0m\u001b[0msigmaA\u001b[0m\u001b[1;33m)\u001b[0m\u001b[1;33m\u001b[0m\u001b[0m\n\u001b[1;32m---> 55\u001b[1;33m             \u001b[0mP\u001b[0m\u001b[1;33m[\u001b[0m\u001b[1;36m1\u001b[0m\u001b[1;33m]\u001b[0m \u001b[1;33m=\u001b[0m \u001b[0mlog_likelihood\u001b[0m\u001b[1;33m(\u001b[0m\u001b[0mX\u001b[0m\u001b[1;33m,\u001b[0m\u001b[0mZ\u001b[0m\u001b[1;33m[\u001b[0m\u001b[1;33m:\u001b[0m\u001b[1;33m,\u001b[0m\u001b[1;36m0\u001b[0m\u001b[1;33m:\u001b[0m\u001b[0mKplus\u001b[0m\u001b[1;33m]\u001b[0m\u001b[1;33m,\u001b[0m\u001b[0mM1\u001b[0m\u001b[1;33m,\u001b[0m\u001b[0msigmaA\u001b[0m\u001b[1;33m,\u001b[0m\u001b[0msigmaX\u001b[0m\u001b[1;33m,\u001b[0m\u001b[0mKplus\u001b[0m\u001b[1;33m,\u001b[0m\u001b[0mN\u001b[0m\u001b[1;33m,\u001b[0m\u001b[0mD\u001b[0m\u001b[1;33m)\u001b[0m \u001b[1;33m+\u001b[0m \u001b[0mnp\u001b[0m\u001b[1;33m.\u001b[0m\u001b[0mlog\u001b[0m\u001b[1;33m(\u001b[0m\u001b[0msum\u001b[0m\u001b[1;33m(\u001b[0m\u001b[0mZ\u001b[0m\u001b[1;33m[\u001b[0m\u001b[1;33m:\u001b[0m\u001b[1;33m,\u001b[0m\u001b[0mk\u001b[0m\u001b[1;33m]\u001b[0m\u001b[1;33m)\u001b[0m\u001b[1;33m-\u001b[0m\u001b[0mZ\u001b[0m\u001b[1;33m[\u001b[0m\u001b[0mi\u001b[0m\u001b[1;33m,\u001b[0m\u001b[0mk\u001b[0m\u001b[1;33m]\u001b[0m\u001b[1;33m)\u001b[0m \u001b[1;33m-\u001b[0m \u001b[0mnp\u001b[0m\u001b[1;33m.\u001b[0m\u001b[0mlog\u001b[0m\u001b[1;33m(\u001b[0m\u001b[0mN\u001b[0m\u001b[1;33m)\u001b[0m\u001b[1;33m\u001b[0m\u001b[0m\n\u001b[0m\u001b[0;32m     56\u001b[0m             \u001b[0mZ\u001b[0m\u001b[1;33m[\u001b[0m\u001b[0mi\u001b[0m\u001b[1;33m,\u001b[0m\u001b[0mk\u001b[0m\u001b[1;33m]\u001b[0m \u001b[1;33m=\u001b[0m \u001b[1;36m0\u001b[0m\u001b[1;33m\u001b[0m\u001b[0m\n\u001b[0;32m     57\u001b[0m             \u001b[0mM0\u001b[0m \u001b[1;33m=\u001b[0m \u001b[0mcalcM\u001b[0m\u001b[1;33m(\u001b[0m\u001b[0mZ\u001b[0m\u001b[1;33m,\u001b[0m\u001b[0mKplus\u001b[0m\u001b[1;33m,\u001b[0m\u001b[0msigmaX\u001b[0m\u001b[1;33m,\u001b[0m\u001b[0msigmaA\u001b[0m\u001b[1;33m)\u001b[0m\u001b[1;33m\u001b[0m\u001b[0m\n",
      "\u001b[1;32m<ipython-input-13-899a2214594e>\u001b[0m in \u001b[0;36mlog_likelihood\u001b[1;34m(X, Z, M, sigmaA, sigmaX, Kplus, N, D)\u001b[0m\n\u001b[0;32m      4\u001b[0m     \u001b[0mconstant\u001b[0m \u001b[1;33m=\u001b[0m \u001b[0mN\u001b[0m\u001b[1;33m*\u001b[0m\u001b[0mD\u001b[0m\u001b[1;33m*\u001b[0m\u001b[1;36m0.5\u001b[0m\u001b[1;33m*\u001b[0m\u001b[0mnp\u001b[0m\u001b[1;33m.\u001b[0m\u001b[0mlog\u001b[0m\u001b[1;33m(\u001b[0m\u001b[1;36m2\u001b[0m\u001b[1;33m*\u001b[0m\u001b[0mnp\u001b[0m\u001b[1;33m.\u001b[0m\u001b[0mpi\u001b[0m\u001b[1;33m)\u001b[0m \u001b[1;33m+\u001b[0m \u001b[1;33m(\u001b[0m\u001b[0mN\u001b[0m\u001b[1;33m-\u001b[0m\u001b[0mKplus\u001b[0m\u001b[1;33m)\u001b[0m\u001b[1;33m*\u001b[0m\u001b[0mD\u001b[0m\u001b[1;33m*\u001b[0m\u001b[0mnp\u001b[0m\u001b[1;33m.\u001b[0m\u001b[0mlog\u001b[0m\u001b[1;33m(\u001b[0m\u001b[0msigmaX\u001b[0m\u001b[1;33m)\u001b[0m \u001b[1;33m+\u001b[0m \u001b[0mKplus\u001b[0m\u001b[1;33m*\u001b[0m\u001b[0mD\u001b[0m\u001b[1;33m*\u001b[0m\u001b[0mnp\u001b[0m\u001b[1;33m.\u001b[0m\u001b[0mlog\u001b[0m\u001b[1;33m(\u001b[0m\u001b[0msigmaA\u001b[0m\u001b[1;33m)\u001b[0m \u001b[1;33m+\u001b[0m \u001b[0mD\u001b[0m\u001b[1;33m*\u001b[0m\u001b[1;36m0.5\u001b[0m\u001b[1;33m*\u001b[0m\u001b[0mnp\u001b[0m\u001b[1;33m.\u001b[0m\u001b[0mlog\u001b[0m\u001b[1;33m(\u001b[0m\u001b[0mdeterminant\u001b[0m\u001b[1;33m)\u001b[0m\u001b[1;33m\u001b[0m\u001b[0m\n\u001b[0;32m      5\u001b[0m \u001b[1;33m\u001b[0m\u001b[0m\n\u001b[1;32m----> 6\u001b[1;33m     \u001b[0mmiddle\u001b[0m \u001b[1;33m=\u001b[0m \u001b[0mnp\u001b[0m\u001b[1;33m.\u001b[0m\u001b[0midentity\u001b[0m\u001b[1;33m(\u001b[0m\u001b[0mN\u001b[0m\u001b[1;33m)\u001b[0m \u001b[1;33m-\u001b[0m \u001b[0mnp\u001b[0m\u001b[1;33m.\u001b[0m\u001b[0mdot\u001b[0m\u001b[1;33m(\u001b[0m\u001b[0mnp\u001b[0m\u001b[1;33m.\u001b[0m\u001b[0mdot\u001b[0m\u001b[1;33m(\u001b[0m\u001b[0mZ\u001b[0m\u001b[1;33m,\u001b[0m \u001b[0mM\u001b[0m\u001b[1;33m)\u001b[0m\u001b[1;33m,\u001b[0m\u001b[0mZ\u001b[0m\u001b[1;33m.\u001b[0m\u001b[0mT\u001b[0m\u001b[1;33m)\u001b[0m\u001b[1;33m\u001b[0m\u001b[0m\n\u001b[0m\u001b[0;32m      7\u001b[0m     \u001b[0mtrace\u001b[0m \u001b[1;33m=\u001b[0m \u001b[0mnp\u001b[0m\u001b[1;33m.\u001b[0m\u001b[0mtrace\u001b[0m\u001b[1;33m(\u001b[0m\u001b[0mnp\u001b[0m\u001b[1;33m.\u001b[0m\u001b[0mdot\u001b[0m\u001b[1;33m(\u001b[0m\u001b[0mnp\u001b[0m\u001b[1;33m.\u001b[0m\u001b[0mdot\u001b[0m\u001b[1;33m(\u001b[0m\u001b[0mX\u001b[0m\u001b[1;33m.\u001b[0m\u001b[0mT\u001b[0m\u001b[1;33m,\u001b[0m\u001b[0mmiddle\u001b[0m\u001b[1;33m)\u001b[0m\u001b[1;33m,\u001b[0m\u001b[0mX\u001b[0m\u001b[1;33m)\u001b[0m\u001b[1;33m)\u001b[0m\u001b[1;33m\u001b[0m\u001b[0m\n\u001b[0;32m      8\u001b[0m     \u001b[0mkernel\u001b[0m \u001b[1;33m=\u001b[0m \u001b[1;33m-\u001b[0m\u001b[1;36m0.5\u001b[0m\u001b[1;33m*\u001b[0m\u001b[0mnp\u001b[0m\u001b[1;33m.\u001b[0m\u001b[0mreciprocal\u001b[0m\u001b[1;33m(\u001b[0m\u001b[0msigmaX\u001b[0m\u001b[1;33m**\u001b[0m\u001b[1;36m2\u001b[0m\u001b[1;33m)\u001b[0m\u001b[1;33m*\u001b[0m\u001b[0mtrace\u001b[0m\u001b[1;33m\u001b[0m\u001b[0m\n",
      "\u001b[1;31mKeyboardInterrupt\u001b[0m: "
     ]
    }
   ],
   "source": [
    "# Gibbs Sampler -- Steps\n",
    "np.random.seed(111)\n",
    "# np.random.seed(107)\n",
    "\n",
    "# for mc in range(mcmc):\n",
    "for mc in range(1000):\n",
    "\n",
    "    # Step 0: Save generated parameters to the MCMC array\n",
    "    Z_arr[mc,:,0:Kplus] = Z[:,0:Kplus]\n",
    "    # print \"Shape of Z:\",Z.shape\n",
    "    \n",
    "    alpha_arr[mc] = alpha\n",
    "    Kplus_arr[mc] = Kplus\n",
    "    sigmaX_arr[mc] = sigmaX\n",
    "    sigmaA_arr[mc] = sigmaA\n",
    "    print \"At iteration\",mc,\": Kplus is\",Kplus,\", alpha is\",alpha\n",
    "\n",
    "    # Step 1: Generate Z|alpha (Gibbs)\n",
    "    for i in range(N):\n",
    "        # Save the matrix M so we won't need to calculate it again and again\n",
    "        #M = calcM(Z,Kplus,sigmaX,sigmaA)\n",
    "                             \n",
    "        for k in range(Kplus):\n",
    "            # This is possible because Kplus may decrease in this loop (e.g. dropping redundant zeros)\n",
    "            if (k+1) > Kplus:\n",
    "                break\n",
    "            if Z[i,k] > 0:\n",
    "                # Take care of singular features\n",
    "                # Get rid of the features not sampled (remove the zeros)\n",
    "                if np.sum(Z[:,k]) - Z[i,k] <= 0: # whether the dish is sampled by other customers or not\n",
    "                # if np.sum(Z[:,k]) - Z[i,k] == 0: # same as the code above since Z is binary\n",
    "                    #Z[i,k] = 0\n",
    "                    # Avoid Kplus to become zero!\n",
    "#                     if Kplus == 1:\n",
    "#                         Z[:,0] = Z[:,1]\n",
    "#                     else: # Kplus > 1\n",
    "                    Z[:,k:(Kplus-1)] = Z[:,(k+1):Kplus]\n",
    "                    Kplus -= 1\n",
    "                        # Z = Z[:,0:Kplus] # remove the last column\n",
    "                    #M = calcM(Z,Kplus,sigmaX,sigmaA)          \n",
    "                    continue            \n",
    "            \n",
    "            # Effective inverse calculation from Griffiths and Ghahramani (2005; Equations 51 to 54)\n",
    "            # M_(-i) = inv(inv(M) - zi.T * zi)\n",
    "#             M0 = calcInverse(Z[:,0:Kplus], M, i, k, 0)\n",
    "#             M1 = calcInverse(Z[:,0:Kplus], M, i, k, 1)\n",
    "            \n",
    "            # Then calculate the posterior distribution: prior * likelihood \n",
    "            # i.e. customers sample the dishes that have been previously sampled\n",
    "            # Likelihood: P(X|Z_(-i,k),sigmaX,sigmaA)\n",
    "            # Prior: P(z_ik = 1 | z_(-i,k)) = m_(-i,k) / N, where m_(-i,k) = number of objects possess feature k, excluding i\n",
    "            P = np.zeros(2)\n",
    "            Z[i,k] = 1\n",
    "            M1 = calcM(Z,Kplus,sigmaX,sigmaA) \n",
    "            P[1] = log_likelihood(X,Z[:,0:Kplus],M1,sigmaA,sigmaX,Kplus,N,D) + np.log(sum(Z[:,k])-Z[i,k]) - np.log(N)\n",
    "            Z[i,k] = 0\n",
    "            M0 = calcM(Z,Kplus,sigmaX,sigmaA) \n",
    "            P[0] = log_likelihood(X,Z[:,0:Kplus],M0,sigmaA,sigmaX,Kplus,N,D) + np.log(N-sum(Z[:,k])) - np.log(N)\n",
    "            P = np.exp(P - max(P))\n",
    "            # Sample from the posterior distribution\n",
    "            rand = stats.uniform.rvs(loc=0,scale=1,size=1)           \n",
    "            if rand < P[0]/(P[0]+P[1]):\n",
    "                Z[i,k] = 0\n",
    "                #M = M0\n",
    "            else:\n",
    "                Z[i,k] = 1\n",
    "                #M = M1\n",
    "\n",
    "        # Sample the number of new dishes Pois(alpha/i) for the current customer/object\n",
    "        # Truncated prior: P(z_ik = 1 | z_(-i,k)) = (m_(-i,k) + alpha/Kplus) / (N + alpha/Kplus)\n",
    "        # trun = np.zeros(5)\n",
    "        trun = np.zeros(4)\n",
    "        # alphaN = alpha/N  # don't use alpha/i, or this can result in division by zero, but I don't know the details\n",
    "        # alphaN = alpha/(i+1)\n",
    "        alphaN = alpha/N\n",
    "        # Note: in MATLAB, any matrix can be expanded => in Python, we need np.vstack and/or np.hstack       \n",
    "        \n",
    "        # for ki in range(5):\n",
    "        for ki in range(4):\n",
    "            if ki > 0:\n",
    "                new_stack = np.zeros((N,ki))\n",
    "                new_stack[i,:] = 1\n",
    "                Z = np.hstack((Z[:,0:Kplus],new_stack))\n",
    "            M = np.linalg.inv(np.dot(Z[:,0:(Kplus+ki)].T,Z[:,0:(Kplus+ki)])+((sigmaX/sigmaA)**2)*np.identity(Kplus+ki))\n",
    "            # Prior: x ~ Pois(lambda): f(x) = ((lambda**x)/x!)*exp(-lambda), where x = ki, lambda = alphaN\n",
    "            \n",
    "            trun[ki] = (ki)*np.log(alphaN) - alphaN - np.log(np.math.factorial(ki)) \n",
    "            # posterior is proportional to prior x likelihood\n",
    "            trun[ki] += log_likelihood(X,Z[:,0:(Kplus+ki)],M,sigmaA,sigmaX,Kplus+ki,N,D)\n",
    "            \n",
    "        # Z[i,Kplus:(Kplus+4)] = 0\n",
    "        Z[i,Kplus:(Kplus+3)] = 0\n",
    "        trun = np.exp(trun-max(trun))\n",
    "        trun = trun/np.sum(trun)\n",
    "        \n",
    "        p = stats.uniform.rvs(loc=0,scale=1,size=1)  \n",
    "        t = 0\n",
    "        # for ki in range(5):\n",
    "        for ki in range(4):\n",
    "            t += trun[ki]\n",
    "            if p < t:\n",
    "                new_dishes = ki\n",
    "                break\n",
    "        Z[i,Kplus:(Kplus+new_dishes)] = 1\n",
    "        Kplus += new_dishes\n",
    "        \n",
    "    # Step 2: Sample sigmaX_star (Metropolis)\n",
    "    # M = calcM(Z, Kplus+new_dishes, sigmaX, sigmaA)\n",
    "    M = calcM(Z, Kplus, sigmaX, sigmaA)\n",
    "    #logLik = log_likelihood(X, Z[:,0:(Kplus+new_dishes)], M, sigmaA, sigmaX, Kplus+new_dishes, N, D)\n",
    "    logLik = log_likelihood(X, Z[:,0:Kplus], M, sigmaA, sigmaX, Kplus, N, D)\n",
    "    epsilonX = stats.uniform.rvs(loc=0,scale=1,size=1) \n",
    "    if epsilonX < 0.5:\n",
    "        # sigmaX_star = sigmaX - epsilonX/40\n",
    "        # sigmaX_star = sigmaX - epsilonX/20\n",
    "        sigmaX_star = sigmaX - stats.uniform.rvs(loc=0,scale=1,size=1)/20\n",
    "    else:\n",
    "        # sigmaX_star = sigmaX + epsilonX/20   \n",
    "        sigmaX_star = sigmaX + stats.uniform.rvs(loc=0,scale=1,size=1)/20 \n",
    "    # M_Xstar = calcM(Z, Kplus+new_dishes, sigmaX_star, sigmaA)\n",
    "    M_Xstar = calcM(Z, Kplus, sigmaX_star, sigmaA)\n",
    "    # logLikX_star = log_likelihood(X, Z[:,0:(Kplus+new_dishes)], M_Xstar, sigmaA, sigmaX_star, Kplus+new_dishes, N, D)\n",
    "    logLikX_star = log_likelihood(X, Z[:,0:Kplus], M_Xstar, sigmaA, sigmaX_star, Kplus, N, D)\n",
    "    acc_X = np.exp(min(0, logLikX_star-logLik))\n",
    "    \n",
    "    # Step 3: Sample sigmaA_star (Metropolis)\n",
    "    epsilonA = stats.uniform.rvs(loc=0,scale=1,size=1)\n",
    "    if epsilonA < 0.5:\n",
    "        # sigmaA_star = sigmaA - epsilonA/20\n",
    "        sigmaA_star = sigmaA - stats.uniform.rvs(loc=0,scale=1,size=1)/20\n",
    "    else:\n",
    "        # sigmaA_star = sigmaA + epsilonA/40 \n",
    "        sigmaA_star = sigmaA + stats.uniform.rvs(loc=0,scale=1,size=1)/20\n",
    "        # sigmaA_star = sigmaA + epsilonA/20   \n",
    "    # M_Astar = calcM(Z, Kplus+new_dishes, sigmaX, sigmaA_star)\n",
    "    M_Astar = calcM(Z, Kplus, sigmaX, sigmaA_star)\n",
    "    # logLikA_star = log_likelihood(X, Z[:,0:(Kplus+new_dishes)], M_Astar, sigmaA_star, sigmaX, Kplus+new_dishes, N, D)\n",
    "    logLikA_star = log_likelihood(X, Z[:,0:Kplus], M_Astar, sigmaA_star, sigmaX, Kplus, N, D)\n",
    "    acc_A = np.exp(min(0, logLikA_star-logLik))\n",
    "    \n",
    "    randX = stats.uniform.rvs(loc=0,scale=1,size=1)\n",
    "    if randX < acc_X:\n",
    "        sigmaX = sigmaX_star\n",
    "        rX_accept += 1\n",
    "    randA = stats.uniform.rvs(loc=0,scale=1,size=1)\n",
    "    if randA < acc_A:\n",
    "        sigmaA = sigmaA_star\n",
    "        rA_accept += 1\n",
    "    \n",
    "    # Step 4: Sample alpha|Z ~ Ga(a=1+Kplus,scale=1+Harmonics)\n",
    "    alpha = stats.gamma.rvs(a = 1+Kplus, loc = 0, scale = np.reciprocal(1+Harmonics),size=1)[0]\n",
    "    "
   ]
  },
  {
   "cell_type": "code",
   "execution_count": 65,
   "metadata": {
    "collapsed": false
   },
   "outputs": [
    {
     "data": {
      "image/png": "[encoded data removed]",
      "text/plain": [
       "<matplotlib.figure.Figure at 0x7f54740f1410>"
      ]
     },
     "metadata": {},
     "output_type": "display_data"
    }
   ],
   "source": [
    "### Plot the traceplots for the IBP results\n",
    "\n",
    "fig = plt.figure(figsize=(8,8))\n",
    "fig1 = fig.add_subplot(411)\n",
    "fig1.plot(Kplus_arr)\n",
    "fig1.set_ylabel('Kplus')\n",
    "fig2 = fig.add_subplot(412)\n",
    "fig2.plot(alpha_arr)\n",
    "fig2.set_ylabel('alpha')\n",
    "fig3 = fig.add_subplot(413)\n",
    "fig3.plot(sigmaX_arr)\n",
    "fig3.set_ylabel('sigmaX')\n",
    "fig4 = fig.add_subplot(414)\n",
    "fig4.plot(sigmaA_arr)\n",
    "fig4.set_ylabel('sigmaA')\n",
    "fig4.set_xlabel('Index')\n",
    "fig.savefig('IBP_plot_results.png')\n",
    "# plt.close()\n",
    "\n",
    "# plt.figure(figsize=(8,8))\n",
    "# plt.subplot(411)\n",
    "# plt.plot('Kplus')\n",
    "# plt.ylabel('Kplus')\n",
    "# plt.subplot(412)\n",
    "# plt.plot(alpha_arr)\n",
    "# plt.ylabel('alpha')\n",
    "# plt.subplot(413)\n",
    "# plt.plot(sigmaX_arr)\n",
    "# plt.ylabel('sigmaX')\n",
    "# plt.subplot(414)\n",
    "# plt.plot(sigmaA_arr)\n",
    "# plt.ylabel('sigmaA')\n",
    "# plt.xlabel('Iteration')"
   ]
  },
  {
   "cell_type": "code",
   "execution_count": 150,
   "metadata": {
    "collapsed": false
   },
   "outputs": [
    {
     "data": {
      "text/plain": [
       "1.5390"
      ]
     },
     "execution_count": 150,
     "metadata": {},
     "output_type": "execute_result"
    }
   ],
   "source": [
    "# print np.mean(Kplus_arr)\n",
    "# print sigmaX_arr\n",
    "# print Kplus_arr\n",
    "# print sum(Kplus_arr == 5)\n",
    "Kplus00 = 4\n",
    "stats.gamma.rvs(a = 1+Kplus00, loc = 0, scale = np.reciprocal(1+Harmonics),size=1)[0]"
   ]
  },
  {
   "cell_type": "code",
   "execution_count": 33,
   "metadata": {
    "collapsed": false
   },
   "outputs": [
    {
     "name": "stdout",
     "output_type": "stream",
     "text": [
      "0.0851851851852\n",
      "0.236625514403\n",
      "(100, 8)\n",
      "(100, 36)\n",
      "(1000, 100, 1000)\n"
     ]
    }
   ],
   "source": [
    "print rX_accept/2430\n",
    "print rA_accept/2430\n",
    "print Z.shape\n",
    "print X.shape\n",
    "print Z_arr.shape"
   ]
  },
  {
   "cell_type": "code",
   "execution_count": 17,
   "metadata": {
    "collapsed": false
   },
   "outputs": [
    {
     "data": {
      "text/plain": [
       "<matplotlib.collections.QuadMesh at 0x7f43d57eef50>"
      ]
     },
     "execution_count": 17,
     "metadata": {},
     "output_type": "execute_result"
    },
    {
     "data": {
      "image/png": "[encoded data removed]",
      "text/plain": [
       "<matplotlib.figure.Figure at 0x7f4405e2b910>"
      ]
     },
     "metadata": {},
     "output_type": "display_data"
    }
   ],
   "source": [
    "###### Setup the array\n",
    "Kplus_final = Kplus_arr[996] # in fact it is 5 =.=\n",
    "# Kplus_final = 4\n",
    "# Z_final = Z_arr[996,:,0:Kplus_final-1].reshape(N,Kplus_final-1)\n",
    "# Z_final = Z_arr[996,:,1:Kplus_final].reshape(N,Kplus_final-1)\n",
    "Z_final = Z_arr[996,:,0:Kplus_final].reshape(N,Kplus_final)\n",
    "sigmaX_final = sigmaX_arr[996]\n",
    "sigmaA_final = sigmaA_arr[996]\n",
    "A_inf = np.dot(np.linalg.inv(np.dot(Z_final.T,Z_final) +  ((sigmaX_final/sigmaA_final)**2)*np.identity(Kplus_final)),np.dot(Z_final.T,X))\n",
    "\n",
    "A_inf[3,:].reshape(6,6)\n",
    "# subplot(1,4,1); imagesc(reshape(A_inf(1,:),6,6)); colormap(gray); axis off\n",
    "# subplot(1,4,2); imagesc(reshape(A_inf(2,:),6,6)); colormap(gray); axis off\n",
    "# subplot(1,4,3); imagesc(reshape(A_inf(3,:),6,6)); colormap(gray); axis off\n",
    "# subplot(1,4,4); imagesc(reshape(A_inf(4,:),6,6)); colormap(gray); axis off\n",
    "\n",
    "# print \"Example image:\\n\",A_inf[0,:].reshape(6,6)\n",
    "fig = plt.figure(figsize=(15,3))\n",
    "fig1 = fig.add_subplot(151)\n",
    "fig1.pcolormesh(A_inf[0,:].reshape(6,6),cmap=plt.cm.gray)\n",
    "fig2 = fig.add_subplot(152)\n",
    "fig2.pcolormesh(A_inf[1,:].reshape(6,6),cmap=plt.cm.gray)\n",
    "fig3 = fig.add_subplot(153)\n",
    "fig3.pcolormesh(A_inf[2,:].reshape(6,6),cmap=plt.cm.gray)\n",
    "fig4 = fig.add_subplot(154)\n",
    "fig4.pcolormesh(A_inf[3,:].reshape(6,6),cmap=plt.cm.gray)\n",
    "#fig5 = fig.add_subplot(155)\n",
    "#fig5.pcolormesh(A_inf[4,:].reshape(6,6),cmap=plt.cm.gray)\n",
    "#fig.savefig(\"IBP_image_results.png\")\n",
    "# plt.close()"
   ]
  },
  {
   "cell_type": "code",
   "execution_count": 83,
   "metadata": {
    "collapsed": false
   },
   "outputs": [
    {
     "data": {
      "text/plain": [
       "<matplotlib.collections.QuadMesh at 0x7ff5b5189290>"
      ]
     },
     "execution_count": 83,
     "metadata": {},
     "output_type": "execute_result"
    },
    {
     "data": {
      "image/png": "[encoded data removed]",
      "text/plain": [
       "<matplotlib.figure.Figure at 0x7ff5b5644790>"
      ]
     },
     "metadata": {},
     "output_type": "display_data"
    }
   ],
   "source": [
    "# These are heatmaps!\n",
    "plt.figure(num=None, figsize=(12,3), dpi=80, facecolor='w', edgecolor='k')\n",
    "plt.subplot(141)\n",
    "plt.pcolormesh(basis1,cmap=plt.cm.gray)     \n",
    "plt.subplot(142)\n",
    "plt.pcolormesh(basis2,cmap=plt.cm.gray)  \n",
    "plt.subplot(143)\n",
    "plt.pcolormesh(basis3,cmap=plt.cm.gray)  \n",
    "plt.subplot(144)\n",
    "plt.pcolormesh(basis4,cmap=plt.cm.gray)  "
   ]
  },
  {
   "cell_type": "code",
   "execution_count": 67,
   "metadata": {
    "collapsed": false
   },
   "outputs": [
    {
     "name": "stdout",
     "output_type": "stream",
     "text": [
      "rA accept: 0.575\n",
      "rX accept: 0.207\n"
     ]
    }
   ],
   "source": [
    "# Acceptance rate\n",
    "print \"rA accept:\",np.sum(rA_accept)/mcmc\n",
    "print \"rX accept:\",np.sum(rX_accept)/mcmc\n",
    "\n",
    "\n",
    "# np.sum(np.dot(Z_arr[400,:,:],A_arr[400,:,:]))\n",
    "# print Z_arr[400,:,:]"
   ]
  },
  {
   "cell_type": "markdown",
   "metadata": {},
   "source": [
    "### Gibbs Sampler -- Draft for Steps"
   ]
  },
  {
   "cell_type": "code",
   "execution_count": 343,
   "metadata": {
    "collapsed": false
   },
   "outputs": [
    {
     "name": "stdout",
     "output_type": "stream",
     "text": [
      "[-4542.4257]\n",
      "[-4618.9093]\n",
      "[-4542.4257]\n",
      "[-4542.4257]\n"
     ]
    }
   ],
   "source": [
    "# Step 5: Sample weight matrix A ~ N(0,sigmaA**2 I)\n",
    "A_new = stats.norm.rvs(loc=0,scale=sigmaA,size=(K,D))\n",
    "# Step 6: Sample the data X ~ N(ZA,sigmaX**2 I)\n",
    "X_new = stats.norm.rvs(loc=np.dot(Z,A),scale=sigmaX,size=(N,D))"
   ]
  },
  {
   "cell_type": "markdown",
   "metadata": {},
   "source": [
    "### Posterior Distribution Calculation\n",
    "\n",
    "Priors: $P(z_{ik}=1 | \\mathbf{z_{-i,k}}) = \\dfrac{m_{-i,k}+\\dfrac{\\alpha}{K}}{N+\\dfrac{\\alpha}{K}} \\rightarrow \\dfrac{m_{-i,k}}{N}$ as $K \\rightarrow \\infty$\n",
    "\n",
    "Likelihood: $\\mathbf{X}|(\\mathbf{Z},\\mathbf{A},\\mathbf{\\sigma_X}) \\sim \\text{Normal}(\\mathbf{ZA},\\Sigma_X = \\sigma_X^2\\mathbf{I})$\n",
    "\n",
    "i.e. $P(\\mathbf{X} | \\mathbf{Z}, \\sigma_X, \\sigma_A) = \\dfrac{1}{(2\\pi)^{ND/2} \\sigma_X^{(N-K)D} \\sigma_A^{KD} |\\mathbf{Z}^T\\mathbf{Z} + \\dfrac{\\sigma_X^2}{\\sigma_A^2}\\mathbf{I}|^{D/2}} \\exp\\{-\\dfrac{1}{2\\sigma^2_X} \\text{tr}(\\mathbf{X}^T(\\mathbf{I}-\\mathbf{Z}(\\mathbf{Z}^T\\mathbf{Z}+\\dfrac{\\sigma_X^2}{\\sigma_A^2}\\mathbf{I})^{-1})\\mathbf{Z}^T)\\mathbf{X}\\}$\n",
    "\n",
    "Full conditional distribution: $P(z_{ik} | \\mathbf{X,Z_{-i,k}},\\sigma_X, \\sigma_A) \\propto P(\\mathbf{X} | \\mathbf{Z},\\sigma_X, \\sigma_A) P(z_{ik} | \\mathbf{z_{-i,k}})$"
   ]
  }
 ],
 "metadata": {
  "kernelspec": {
   "display_name": "Python 2",
   "language": "python",
   "name": "python2"
  },
  "language_info": {
   "codemirror_mode": {
    "name": "ipython",
    "version": 2
   },
   "file_extension": ".py",
   "mimetype": "text/x-python",
   "name": "python",
   "nbconvert_exporter": "python",
   "pygments_lexer": "ipython2",
   "version": "2.7.9"
  }
 },
 "nbformat": 4,
 "nbformat_minor": 0
}
