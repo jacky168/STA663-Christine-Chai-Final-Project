{
 "metadata": {
  "name": "",
  "signature": "sha256:21c034455dacfdc419ef18e248a367dab00392adc9ed0e1d74b66ea828ae2fa4"
 },
 "nbformat": 3,
 "nbformat_minor": 0,
 "worksheets": [
  {
   "cells": [
    {
     "cell_type": "heading",
     "level": 1,
     "metadata": {},
     "source": [
      "Real or simulated 'real' data set"
     ]
    },
    {
     "cell_type": "code",
     "collapsed": false,
     "input": [
      "\n",
      "\n"
     ],
     "language": "python",
     "metadata": {},
     "outputs": []
    },
    {
     "cell_type": "heading",
     "level": 1,
     "metadata": {},
     "source": [
      "Choice of comparison algorithm"
     ]
    },
    {
     "cell_type": "markdown",
     "metadata": {},
     "source": [
      "### Indian Buffet Process (IBP) vs Chinese Restaurant Process (CRP)\n",
      "Chinese Restaurant Process (CRP): This is an algorithm of customers' seating in a Chinese restaurant with infinite capacity. The first customer sits at an empty table with probability 1. Then starting from time 2, a new customer chooses randomly at either to the left of one of the previous customers, or at a new, unoccupied table.\n",
      "\n",
      "Similarities\n",
      "- Both algorithms models latent factors and perform dimensionality reduction.\n",
      "- Both algorithms allow an infinite number of latent features.\n",
      "\n",
      "Differences\n",
      "- As the figure below, Indian Buffet Process allows each customer to be assigned to multiple components (dishes), while the Chinese Restaurant Process (CRP) assigns each customer to a single component.\n",
      "\n",
      "### Gibbs sampling code from Other People\n",
      "- https://github.com/kzhai/PyNPB: ImportError: No module named ibp.gs\n",
      "- https://github.com/davidandrzej/PyIBP: This looks much organized than mine, but mine has output images and this one does not.\n",
      "\n",
      "### Compare against the MATLAB code from http://www.mit.edu/~ilkery/\n",
      "- Benchmarking (speed test): naive / Cythonized version / MATLAB"
     ]
    },
    {
     "cell_type": "code",
     "collapsed": false,
     "input": [
      "from IPython.display import Image"
     ],
     "language": "python",
     "metadata": {},
     "outputs": [],
     "prompt_number": 10
    },
    {
     "cell_type": "code",
     "collapsed": false,
     "input": [
      "Image(url='IBP_vs_CRP.png') # From: \"A tutorial on Bayesian nonparametric models\" by Samuel J. Gershman, David M. Blei"
     ],
     "language": "python",
     "metadata": {},
     "outputs": [
      {
       "html": [
        "<img src=\"IBP_vs_CRP.png\"/>"
       ],
       "metadata": {},
       "output_type": "pyout",
       "prompt_number": 11,
       "text": [
        "<IPython.core.display.Image at 0x7f13280ce190>"
       ]
      }
     ],
     "prompt_number": 11
    },
    {
     "cell_type": "heading",
     "level": 1,
     "metadata": {},
     "source": [
      "Draft of Makefile"
     ]
    },
    {
     "cell_type": "code",
     "collapsed": false,
     "input": [],
     "language": "python",
     "metadata": {},
     "outputs": [],
     "prompt_number": 7
    }
   ],
   "metadata": {}
  }
 ]
}