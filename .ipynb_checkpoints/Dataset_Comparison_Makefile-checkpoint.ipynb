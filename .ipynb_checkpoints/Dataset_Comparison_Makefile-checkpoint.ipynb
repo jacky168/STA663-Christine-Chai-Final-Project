{
 "cells": [
  {
   "cell_type": "markdown",
   "metadata": {},
   "source": [
    "# Real or simulated 'real' data set"
   ]
  },
  {
   "cell_type": "markdown",
   "metadata": {
    "collapsed": false
   },
   "source": [
    "I already have some simulated data in my implementation."
   ]
  },
  {
   "cell_type": "markdown",
   "metadata": {},
   "source": [
    "# Choice of comparison algorithm"
   ]
  },
  {
   "cell_type": "markdown",
   "metadata": {},
   "source": [
    "### Indian Buffet Process (IBP) vs Chinese Restaurant Process (CRP)\n",
    "Chinese Restaurant Process (CRP): This is an algorithm of customers' seating in a Chinese restaurant with infinite capacity. The first customer sits at an empty table with probability 1. Then starting from time 2, a new customer chooses randomly at either to the left of one of the previous customers, or at a new, unoccupied table.\n",
    "\n",
    "Similarities\n",
    "- Both algorithms models latent factors and perform dimensionality reduction.\n",
    "- Both algorithms allow an infinite number of latent features.\n",
    "\n",
    "Differences\n",
    "- As the figure below, Indian Buffet Process allows each customer to be assigned to multiple components (dishes), while the Chinese Restaurant Process (CRP) assigns each customer to a single component.\n",
    "\n",
    "### Indian Buffet Process (IBP) code from Other People\n",
    "- https://github.com/davidandrzej/PyIBP: This looks much organized than mine, but mine has output images and this one does not.\n",
    "- http://www.mit.edu/~ilkery/: MATLAB code with output images. Contains a lot of redundant M calculations.\n",
    "- Makefile is important for the readers. Write makefiles for them\n",
    "- Benchmarking (speed test): naive / Cythonized version / MATLAB\n",
    "\n",
    "### Deleted\n",
    "- https://github.com/kzhai/PyNPB: ImportError: No module named ibp.gs $\\Rightarrow$ I am not going to use this."
   ]
  },
  {
   "cell_type": "code",
   "execution_count": 10,
   "metadata": {
    "collapsed": false
   },
   "outputs": [],
   "source": [
    "from IPython.display import Image"
   ]
  },
  {
   "cell_type": "code",
   "execution_count": 11,
   "metadata": {
    "collapsed": false
   },
   "outputs": [
    {
     "data": {
      "text/html": [
       "<img src=\"IBP_vs_CRP.png\"/>"
      ],
      "text/plain": [
       "<IPython.core.display.Image at 0x7f13280ce190>"
      ]
     },
     "execution_count": 11,
     "metadata": {},
     "output_type": "execute_result"
    }
   ],
   "source": [
    "Image(url='IBP_vs_CRP.png') # From: \"A tutorial on Bayesian nonparametric models\" by Samuel J. Gershman, David M. Blei"
   ]
  },
  {
   "cell_type": "markdown",
   "metadata": {},
   "source": [
    "# Draft of Makefile"
   ]
  },
  {
   "cell_type": "markdown",
   "metadata": {},
   "source": [
    "### Goal for the code\n",
    "Make it run. Make it correct. Make it fast.\n",
    "\n",
    "### Original simulated dataset\n",
    "- plt.figure(tight_layout=True)\n",
    "- plt.savefig('heatmap.png')\n",
    "\n",
    "### My code results\n",
    "- plt.figure(tight_layout=True)\n",
    "- plt.savefig('heatmap.png')\n",
    "\n",
    "### Speed test: Cythonized version vs original version\n",
    "- with open('table.tex', 'w') as f:\n",
    "- f.write(tabulate(df, headers=list(df.columns), tablefmt=\"latex\", floatfmt=\".4f\"))\n",
    "- Save the total time / computation time for each operation\n",
    "- Latex: \\input{table} => table.tex\n",
    "\n",
    "### To-Do\n",
    "- calInverse for M\n",
    "- Real data?!\n",
    "- Convert all code pieces to .py files\n",
    "- Benchmarking + write Makefiles for the comparison algorithms!"
   ]
  },
  {
   "cell_type": "code",
   "execution_count": null,
   "metadata": {
    "collapsed": true
   },
   "outputs": [],
   "source": [
    "IBP_report.pdf: IBP_report.tex \\\n",
    "    IBP_MATLABcode/Fig1_latent.png IBP_MATLABcode/Fig2_data.png IBP_MATLABcode/Fig3_histK.png IBP_MATLABcode/Fig4_results.png\n",
    "    pdflatex IBP_report.tex\n",
    "    bibtex IBP_report.aux\n",
    "    pdflatex IBP_report.tex\n",
    "    pdflatex IBP_report.tex\n",
    "    \n",
    "python functions.py\n",
    "python naive.py\n",
    "python usable.py\n",
    "\n",
    "python Cython_setup.py build_ext --inplace\n",
    "# Dont do this: python Cython_functions.pyx because Cython_setup.py incorporates Cython_functions.pyx\n",
    "python Cythonized.py\n",
    "\n",
    "# Convert iPynb to other formats:\n",
    "ipython nbconvert Notebook1.ipynb --to latex/html"
   ]
  },
  {
   "cell_type": "markdown",
   "metadata": {},
   "source": [
    "### Sample Makefile"
   ]
  },
  {
   "cell_type": "code",
   "execution_count": null,
   "metadata": {
    "collapsed": true
   },
   "outputs": [],
   "source": [
    "report.pdf: report.tex table.tex heatmap.png\n",
    "\tpdflatex report\n",
    "\tpdflatex report\n",
    "\tpdflatex report\n",
    "\n",
    "table.tex: cases.csv ctrls.csv\n",
    "\tpython prepare_results.py\n",
    "\n",
    "heatmap.png: cases.csv ctrls.csv\n",
    "\tpython prepare_results.py\n",
    "\n",
    "cases.csv: \n",
    "\tpython prepare_data.py\n",
    "\n",
    "ctrls.csv: \n",
    "\tpython prepare_data.py\n",
    "\n",
    ".PHONY: all clean allclean test\n",
    "\n",
    "all: report.pdf \n",
    "\n",
    "clean:\n",
    "\trm -rf *csv *png *aux *log *png table.tex *pytxcode tests/__pycache__ tests/*pyc\n",
    "\n",
    "allclean:\n",
    "\tmake clean\n",
    "\trm -f *pdf\n",
    "\n",
    "test:\n",
    "\tpy.test"
   ]
  }
 ],
 "metadata": {
  "kernelspec": {
   "display_name": "Python 2",
   "language": "python",
   "name": "python2"
  },
  "language_info": {
   "codemirror_mode": {
    "name": "ipython",
    "version": 2
   },
   "file_extension": ".py",
   "mimetype": "text/x-python",
   "name": "python",
   "nbconvert_exporter": "python",
   "pygments_lexer": "ipython2",
   "version": "2.7.9"
  }
 },
 "nbformat": 4,
 "nbformat_minor": 0
}
