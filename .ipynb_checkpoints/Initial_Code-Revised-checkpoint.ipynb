{
 "metadata": {
  "name": "",
  "signature": "sha256:6cdacadf07a7fdb1b73235e33203220a10e61ba713d040afca49ec896202c144"
 },
 "nbformat": 3,
 "nbformat_minor": 0,
 "worksheets": [
  {
   "cells": [
    {
     "cell_type": "heading",
     "level": 1,
     "metadata": {},
     "source": [
      "Initial Code Revised -- Indian Buffet Process (IBP)"
     ]
    },
    {
     "cell_type": "code",
     "collapsed": false,
     "input": [
      "from __future__ import division\n",
      "import os\n",
      "import sys\n",
      "import glob\n",
      "import matplotlib.pyplot as plt\n",
      "import numpy as np\n",
      "import pandas as pd\n",
      "%matplotlib inline\n",
      "%precision 4\n",
      "plt.style.use('ggplot')"
     ],
     "language": "python",
     "metadata": {},
     "outputs": [],
     "prompt_number": 1
    },
    {
     "cell_type": "code",
     "collapsed": false,
     "input": [
      "np.random.seed(1234)\n",
      "import scipy.stats as stats"
     ],
     "language": "python",
     "metadata": {},
     "outputs": [],
     "prompt_number": 2
    },
    {
     "cell_type": "markdown",
     "metadata": {},
     "source": [
      "### Indian Buffet Process (IBP): Steps\n",
      "\n",
      "- Step 1: First customer takes a Poisson($\\alpha$) of dishes\n",
      "- Step 2: The $i$th customer takes dish $k$ with probability $\\frac{m_k}{i}$, where $m_k$ is the number of previous customers who sampled that dish\n",
      "- Step 3: The $i$th customer tries a Poisson($\\frac{\\alpha}{i}$) number of new dishes\n",
      "- Storage: Binary matrix $\\mathbf{Z}$ with $N$ rows and infinite columns, where $z_{ik}$ = 1 if customer $i$ sampled the dish $k$\n",
      "- Probability: $P(z_{ik}=1 | \\mathbf{z_{-i,k}}) = \\dfrac{m_{-i,k}+\\dfrac{\\alpha}{K}}{N+\\dfrac{\\alpha}{K}} \\rightarrow \\dfrac{m_{-i,k}}{N}$ as $K \\rightarrow \\infty$\n",
      "\n",
      "Special note: This is JUST a prior, not something you put in the Gibbs sampler!"
     ]
    },
    {
     "cell_type": "code",
     "collapsed": false,
     "input": [
      "def IBP(N, alpha):\n",
      "    \"\"\"Indian Buffet Process (IBP) steps:\n",
      "    Input: N is the number of customers (objects, images); alpha is the only parameter;\n",
      "    Return: result is the binary matrix (prior); Kplus is the number of dishes (features)\"\"\"\n",
      "    result = np.zeros((N,1000))\n",
      "    \n",
      "    # Step 1: First customer takes a Poisson(alpha) of dishes\n",
      "    t = stats.poisson.rvs(alpha) # (set the random seed when calling the function)\n",
      "    if t > 0:\n",
      "        result[0,0:t] = 1\n",
      "    \n",
      "    # Kplus = the number of features for which m_k > 0 (m_k: the number of previous customers who sampled that dish)\n",
      "    Kplus = t\n",
      "    for i in range(1,N):\n",
      "        for k in range(Kplus):\n",
      "            # Step 2: The ith customer takes dish k with probability m_k/i\n",
      "            p = np.sum(result[0:(i+1),k])/(i+1) # this is a probability, so should be between 0 and 1\n",
      "            assert p <= 1 \n",
      "            assert p >= 0\n",
      "            if stats.uniform.rvs(0) < p:\n",
      "                result[i,k] = 1\n",
      "            else:\n",
      "                result[i,k] = 0\n",
      "        # Step 3: The ith customer tries a Poisson(alpha/N) number of new dishes\n",
      "        \n",
      "        t = stats.poisson.rvs(alpha/(i+1))\n",
      "        if t > 0:\n",
      "            result[i,Kplus:(Kplus+t)] = 1\n",
      "        Kplus += t\n",
      "    result = result[:,0:Kplus]\n",
      "    \n",
      "    return result, Kplus"
     ],
     "language": "python",
     "metadata": {},
     "outputs": [],
     "prompt_number": 117
    },
    {
     "cell_type": "markdown",
     "metadata": {},
     "source": [
      "### Indian Buffet Process (IBP): Testing\n",
      "\n",
      "Probability must be between 0 and 1: $ 0 \\leq \\dfrac{m_{-i,k}+\\dfrac{\\alpha}{K}}{N+\\dfrac{\\alpha}{K}}, \\dfrac{m_{-i,k}}{N} \\leq 1$\n",
      "\n",
      "This is equivalent to testing $m_{-i,k} \\leq N$"
     ]
    },
    {
     "cell_type": "code",
     "collapsed": false,
     "input": [
      "np.random.seed(12)\n",
      "N1 = 100\n",
      "alpha1 = 1.5\n",
      "\n",
      "result1, Kplus1 = IBP(N1,alpha1)\n",
      "print Kplus1\n",
      "\n",
      "print result1.shape"
     ],
     "language": "python",
     "metadata": {},
     "outputs": [
      {
       "output_type": "stream",
       "stream": "stdout",
       "text": [
        "t: 0\n",
        "5\n",
        "(100, 5)\n"
       ]
      }
     ],
     "prompt_number": 75
    },
    {
     "cell_type": "heading",
     "level": 1,
     "metadata": {},
     "source": [
      "Algorithm Application -- Linear-Gaussian Binary Latent Feature Models\n"
     ]
    },
    {
     "cell_type": "markdown",
     "metadata": {},
     "source": [
      "### Variables in Data (Images)\n",
      "\n",
      "$N = 100$ is the number of images (customers, objects)\n",
      "\n",
      "$D = 6 \\times 6 = 36$ is the length of vectors (dishes, features) for each image\n",
      "\n",
      "$K = 4$ is the number of basis images (latent or underlying variables)\n",
      "\n",
      "Each object $i$ has a $D$-dimensional vector of properties, named $x_i$\n",
      "\n",
      "- Generate images $X$ with the $K$ basis images, indicating which bases are used (each with probability 0.5)\n",
      "- Add white noises $\\text{Normal}(0,\\sigma_X^2 = 0.5)$ to these images"
     ]
    },
    {
     "cell_type": "code",
     "collapsed": false,
     "input": [
      "# Basis images\n",
      "import Image\n",
      "basis1 = np.array([[0,0,0,0,0,0],[0,0,0,0,0,0],[0,0,0,0,0,0],[0,1,0,0,0,0],[1,1,1,0,0,0],[0,1,0,0,0,0]])\n",
      "basis2 = np.array([[1,1,1,0,0,0],[1,0,1,0,0,0],[1,1,1,0,0,0],[0,0,0,0,0,0],[0,0,0,0,0,0],[0,0,0,0,0,0]])\n",
      "basis3 = np.array([[0,0,0,0,0,0],[0,0,0,0,0,0],[0,0,0,0,0,0],[0,0,0,0,0,1],[0,0,0,0,1,1],[0,0,0,1,1,1]])\n",
      "basis4 = np.array([[0,0,0,1,0,0],[0,0,0,1,1,1],[0,0,0,1,0,0],[0,0,0,0,0,0],[0,0,0,0,0,0],[0,0,0,0,0,0]])\n",
      "\n",
      "b1 = basis1.reshape(D)\n",
      "b2 = basis2.reshape(D)\n",
      "b3 = basis3.reshape(D)\n",
      "b4 = basis4.reshape(D)\n",
      "A = np.array([b1,b2,b3,b4])\n",
      "\n",
      "# These are heatmaps!\n",
      "plt.figure(num=None, figsize=(12,3), dpi=80, facecolor='w', edgecolor='k')\n",
      "plt.subplot(141)\n",
      "plt.pcolormesh(basis1,cmap=plt.cm.gray)     \n",
      "plt.subplot(142)\n",
      "plt.pcolormesh(basis2,cmap=plt.cm.gray)  \n",
      "plt.subplot(143)\n",
      "plt.pcolormesh(basis3,cmap=plt.cm.gray)  \n",
      "plt.subplot(144)\n",
      "plt.pcolormesh(basis4,cmap=plt.cm.gray)  \n",
      "\n",
      "print \"Latent feature matrices (A):\""
     ],
     "language": "python",
     "metadata": {},
     "outputs": [
      {
       "output_type": "stream",
       "stream": "stdout",
       "text": [
        "Latent feature matrices (A):\n"
       ]
      },
      {
       "metadata": {},
       "output_type": "display_data",
       "png": "[encoded data removed]",
       "text": [
        "<matplotlib.figure.Figure at 0x7ffde9f54f10>"
       ]
      }
     ],
     "prompt_number": 8
    },
    {
     "cell_type": "code",
     "collapsed": false,
     "input": [
      "# Generate image data: 100 matrices of size 6*6\n",
      "N = 100\n",
      "D = 36\n",
      "K = 4\n",
      "sigmaX_orig = 0.5\n",
      "x = np.zeros\n",
      "\n",
      "# All K basis images, each of length D\n",
      "# Generate N images (customers, objects)\n",
      "np.random.seed(1234)\n",
      "images = np.zeros((N,6,6)) # simulated image data\n",
      "structure = np.zeros((N,6,6))  # 0/1 structure for each image\n",
      "add = stats.bernoulli.rvs(0.5,size=(N,K)) # whether the K=4 latent bases are present in each image\n",
      "epsilon = stats.norm.rvs(loc=0,scale=0.5,size = (N,6,6)) # random noise\n",
      "\n",
      "for i in range(N):\n",
      "    structure[i,:,:] = add[i,0]*basis1 + add[i,1]*basis2 + add[i,2]*basis3 + add[i,3]*basis4\n",
      "    images[i,:,:] = structure[i,:,:] + epsilon[i,:,:]\n",
      "\n",
      "Z_orig = add    \n",
      "X = structure.reshape(N,D)    \n",
      "# print Z_orig\n",
      "# print structure[0,:,:]\n",
      "# print X[0,:]\n",
      "# print X.shape\n",
      "\n",
      "# print images.shape\n",
      "print \"Example image:\\n\",images[4]\n",
      "plt.pcolormesh(images[4],cmap=plt.cm.gray)"
     ],
     "language": "python",
     "metadata": {},
     "outputs": [
      {
       "output_type": "stream",
       "stream": "stdout",
       "text": [
        "Example image:\n",
        "[[ 0.2067  0.3588  0.1309  0.8786 -0.2506 -0.3491]\n",
        " [ 0.6923 -0.1432  0.25    1.9756  0.8608  1.0184]\n",
        " [ 0.2229 -0.7052  0.225   1.2577 -0.577  -0.6901]\n",
        " [-0.2479  0.7934 -0.8597 -0.0148 -0.383   1.0499]\n",
        " [ 0.6435 -0.1131  1.3629  0.4585  0.7181  0.2389]\n",
        " [-0.0071  0.8766 -0.0827  1.0596 -0.0375  0.4986]]\n"
       ]
      },
      {
       "metadata": {},
       "output_type": "pyout",
       "prompt_number": 9,
       "text": [
        "<matplotlib.collections.QuadMesh at 0x7ffde957dfd0>"
       ]
      },
      {
       "metadata": {},
       "output_type": "display_data",
       "png": "[encoded data removed]",
       "text": [
        "<matplotlib.figure.Figure at 0x7ffde9597550>"
       ]
      }
     ],
     "prompt_number": 9
    },
    {
     "cell_type": "markdown",
     "metadata": {},
     "source": [
      "### Variables in Transformation\n",
      "\n",
      "$x_i \\sim \\text{Normal}(\\mathbf{z_i} \\mathbf{A}, \\Sigma_X = \\sigma_X^2\\mathbf{I})$\n",
      "\n",
      "$\\mathbf{z_i}$ is a $K$-dimensional binary vector (features)\n",
      "\n",
      "$\\mathbf{A}$ is a $K \\times D$ matrix of weights, with prior $A \\sim \\text{Normal}(0,\\sigma_A^2 \\mathbf{I})$\n",
      "\n",
      "$Z \\sim \\text{IBP}(\\alpha)$, where $m_k$ is the number of objects with feature $k$\n",
      "\n",
      "$p(Z | \\alpha) = \\dfrac{\\alpha^K}{\\prod^{2^N-1}_{h=1}K_h!} \\exp(-\\alpha H_N) \\prod^{K}_{k=1}\\dfrac{(N-m_k)!(m_k-1)!}{N!}$\n",
      "\n",
      "Note 1: $\\alpha$ is a variable influencing the number of features  $D$\n",
      "\n",
      "Note 2: $K_h$ is the number of features with history $h$ (whether the $N$ images possess this feature, $2^N-1$ possibilities in total)\n",
      "\n",
      "Note 3: $H_N$ is the $N^{\\text{th}}$ harmonic number, and $m_k$ is the number of objects with feature $k$"
     ]
    },
    {
     "cell_type": "code",
     "collapsed": false,
     "input": [
      "# Generate the Harmonic numbers, but we only need the sum\n",
      "from fractions import Fraction\n",
      "sum_Harmonics = 0\n",
      "Harmonics = 0\n",
      "for i in range(N):\n",
      "    sum_Harmonics += (N-i)*Fraction(1,i+1)\n",
      "    Harmonics += Fraction(1,i+1)\n",
      "print \"Sum of H_1 + ... + H_N:\", float(sum_Harmonics)\n",
      "print \"Harmonic number H_N:\", float(Harmonics)"
     ],
     "language": "python",
     "metadata": {},
     "outputs": [
      {
       "output_type": "stream",
       "stream": "stdout",
       "text": [
        "Sum of H_1 + ... + H_N: 423.925129282\n",
        "Harmonic number H_N: 5.18737751764\n"
       ]
      }
     ],
     "prompt_number": 10
    },
    {
     "cell_type": "code",
     "collapsed": false,
     "input": [
      "# Initialization\n",
      "N = 100\n",
      "D = 36\n",
      "K = 4\n",
      "sigmaA = 1\n",
      "sigmaX = 1\n",
      "\n",
      "np.random.seed(1005)\n",
      "# alpha = stats.gamma.rvs(a = 1, loc = 0, scale = 1, size = 1)[0]\n",
      "alpha = 1\n",
      "print \"Initial alpha:\", alpha\n",
      "\n",
      "K_inf = 1000\n",
      "Z, Kplus = IBP(N, alpha)\n",
      "print \"Z.shape:\",Z.shape # (100,4) = (N,Kplus) (latent)\n",
      "print \"X.shape:\",X.shape # (100,36) = (N,D) (data)\n",
      "print \"A.shape:\",A.shape # (4,36) = (Kplus,D)  (weight)\n",
      "\n",
      "# Set MCMC steps\n",
      "mcmc = 1000 # plan to sample for 1000 times\n",
      "\n",
      "# Setup the array\n",
      "Z_arr = np.zeros((mcmc,N,K_inf))\n",
      "Kplus_arr = np.zeros(mcmc)\n",
      "sigmaX_arr = np.zeros(mcmc)\n",
      "sigmaA_arr = np.zeros(mcmc)\n",
      "alpha_arr = np.zeros(mcmc)\n",
      "rX_accept = 0\n",
      "rA_accept = 0"
     ],
     "language": "python",
     "metadata": {},
     "outputs": [
      {
       "output_type": "stream",
       "stream": "stdout",
       "text": [
        "Initial alpha: 1\n",
        "Z.shape: (100, 4)\n",
        "X.shape: (100, 36)\n",
        "A.shape: (4, 36)\n"
       ]
      }
     ],
     "prompt_number": 135
    },
    {
     "cell_type": "code",
     "collapsed": false,
     "input": [
      "# Checking whether the gamma distribution is setup correctly\n",
      "# ff ~ Gamma(a,b): a = shape, b = 1/scale => E(ff) = a/b = a*scale, Var(ff) = a/b**2 = a*scale**2\n",
      "# Generate 1000 random samples from Ga(3,2)\n",
      "rv = stats.gamma.rvs(a = 3, loc = 0, scale = 2, size=1000)\n",
      "print np.mean(rv)  # should be close to 3*2 = 6\n",
      "print np.var(rv)   # should be close to 3*2*2 = 12"
     ],
     "language": "python",
     "metadata": {},
     "outputs": [
      {
       "output_type": "stream",
       "stream": "stdout",
       "text": [
        "5.92371502259\n",
        "11.8372738286\n"
       ]
      }
     ],
     "prompt_number": 12
    },
    {
     "cell_type": "markdown",
     "metadata": {},
     "source": [
      "### Gibbs Sampler\n",
      "\n",
      "Initialization: $\\sigma_A = 1, \\sigma_X = 1, \\alpha \\sim Ga(1,1)$\n",
      "\n",
      "1. Generate $P(z_{ik} | \\mathbf{X,Z_{-i,k}},\\sigma_X, \\sigma_A)$ using the full conditional distribution\n",
      "2. Sample $\\sigma_{X}^* = \\sigma_X + \\epsilon$, where $\\epsilon \\sim \\text{Unif}(-0.05,0.05)$, and accept $\\sigma_{X}^*$ by Metropolis (not just when the likelihood is larger, i.e. $P(\\sigma_{X}^*) > P(\\sigma_{X})$)\n",
      "3. Sample $\\sigma_{A}^* = \\sigma_A + \\epsilon$, where $\\epsilon \\sim \\text{Unif}(-0.05,0.05)$, and accept $\\sigma_{A}^*$ by Metropolis (not just when the likelihood is larger, i.e. $P(\\sigma_{A}^*) > P(\\sigma_{A})$)\n",
      "4. Generate $\\alpha|Z \\sim Ga(1+K_+,1+\\sum^{N}_{i=1}H_i)$, where $K_+ = \\sum^{2^N-1}_{h=1}K_h$ and $K_+$ is the number of features for which $m_k > 0$\n",
      "\n",
      "Metropolis for $\\sigma_A$ (for $\\sigma_X$ is similar):\n",
      "\n",
      "Current value: $\\sigma_{A}^{(n)}$\n",
      "\n",
      "Candidate value: $\\sigma_{A}^{*}$\n",
      "\n",
      "Generate $r \\sim \\text{Unif}(0,1)$\n",
      "\n",
      "Accept $\\sigma_{A}^{*}$ if $r < \\text{min}\\{ 1, \\dfrac{P(\\sigma_{A}^{*} | \\mathbf{Z,X},\\sigma_X)}{P(\\sigma_{A}^{(n)} | \\mathbf{Z,X},\\sigma_X)} \\}$"
     ]
    },
    {
     "cell_type": "code",
     "collapsed": false,
     "input": [
      "def calcM(Z,Kplus,sigmaX,sigmaA):\n",
      "    \"\"\"Save the matrix M so we won't need to calculate it again and again\"\"\"\n",
      "    return np.linalg.inv(np.dot(Z[:,0:Kplus].T,Z[:,0:Kplus])+((sigmaX/sigmaA)**2)*np.identity(Kplus))"
     ],
     "language": "python",
     "metadata": {},
     "outputs": [],
     "prompt_number": 13
    },
    {
     "cell_type": "code",
     "collapsed": false,
     "input": [
      "def calcInverse(Z, M, i, k, val):\n",
      "    \"\"\"Effective inverse calculation from Griffiths and Ghahramani (2005; Equations 51 to 54)\n",
      "    M_(-i) = inv(inv(M) - zi.T * zi)\"\"\"\n",
      "    M_i = M - np.dot(np.dot(M,Z[i,:].T),np.dot(Z[i,:],M))/(np.dot(np.dot(Z[i,:],M),Z[i,:])-1)\n",
      "    Z[i,k] = val\n",
      "    M = M_i - np.dot(np.dot(M_i,Z[i,:].T),np.dot(Z[i,:],M_i))/(np.dot(np.dot(Z[i,:],M_i),Z[i,:])+1)\n",
      "    Inv = M\n",
      "    return Inv"
     ],
     "language": "python",
     "metadata": {},
     "outputs": [],
     "prompt_number": 14
    },
    {
     "cell_type": "code",
     "collapsed": false,
     "input": [
      "def log_likelihood(X,Z,M,sigmaA,sigmaX,Kplus,N,D):  \n",
      "    \"\"\"Calculate the log-likelihood: P(X|Z,M,sigmaA,sigmaX,Kplus,N,D)\"\"\"  \n",
      "    determinant = np.linalg.det(np.dot(Z.T,Z)+((sigmaX/sigmaA)**2)*np.identity(Kplus))\n",
      "    constant = N*D*0.5*np.log(2*np.pi) + (N-Kplus)*D*np.log(sigmaX) + Kplus*D*np.log(sigmaA) + D*0.5*np.log(determinant)\n",
      "    \n",
      "    middle = np.identity(N) - np.dot(np.dot(Z, M),Z.T)\n",
      "    trace = np.trace(np.dot(np.dot(X.T,middle),X))\n",
      "    kernel = -0.5*np.reciprocal(sigmaX**2)*trace\n",
      "    \n",
      "    log_lik = -constant + kernel\n",
      "    #print constant\n",
      "    #print kernel\n",
      "    return log_lik"
     ],
     "language": "python",
     "metadata": {},
     "outputs": [],
     "prompt_number": 15
    },
    {
     "cell_type": "code",
     "collapsed": false,
     "input": [
      "# Gibbs Sampler -- Steps\n",
      "np.random.seed(15)\n",
      "\n",
      "# for mc in range(mcmc):\n",
      "for mc in range(1000):\n",
      "\n",
      "    # Step 0: Save generated parameters to the MCMC array\n",
      "    Z_arr[mc,:,0:Kplus] = Z[:,0:Kplus]\n",
      "    print \"Shape of Z:\",Z.shape\n",
      "    \n",
      "    alpha_arr[mc] = alpha\n",
      "    Kplus_arr[mc] = Kplus\n",
      "    sigmaX_arr[mc] = sigmaX\n",
      "    sigmaA_arr[mc] = sigmaA\n",
      "    print \"At iteration\",mc,\": Kplus is\",Kplus,\", alpha is\",alpha\n",
      "\n",
      "    # Step 1: Generate Z|alpha (Gibbs)\n",
      "    for i in range(N):\n",
      "        # Save the matrix M so we won't need to calculate it again and again\n",
      "        M = calcM(Z,Kplus,sigmaX,sigmaA)\n",
      "                             \n",
      "        for k in range(Kplus):\n",
      "            # This is possible because Kplus may decrease in this loop (e.g. dropping redundant zeros)\n",
      "            if k >= Kplus:\n",
      "                break\n",
      "            if Z[i,k] > 0:\n",
      "                # Take care of singular features\n",
      "                # Get rid of the features not sampled (remove the zeros)\n",
      "                if np.sum(Z[:,k]) - Z[i,k] <= 0: # whether the dish is sampled by other customers or not\n",
      "                    Z[i,k] = 0\n",
      "                    # Avoid Kplus to become zero!\n",
      "                    if Kplus == 1:\n",
      "                        Z[:,0] = Z[:,1]\n",
      "                    else: # Kplus > 1\n",
      "                        Z[:,k:(Kplus-1)] = Z[:,(k+1):Kplus]\n",
      "                        # Z = Z[:,0:(Kplus-1)] # remove the last column\n",
      "                        Kplus -= 1\n",
      "                    M = calcM(Z,Kplus,sigmaX,sigmaA)          \n",
      "                    continue            \n",
      "            \n",
      "            # Effective inverse calculation from Griffiths and Ghahramani (2005; Equations 51 to 54)\n",
      "            # M_(-i) = inv(inv(M) - zi.T * zi)\n",
      "            M0 = calcInverse(Z[:,0:Kplus], M, i, k, 0)\n",
      "            M1 = calcInverse(Z[:,0:Kplus], M, i, k, 1)\n",
      "            \n",
      "            # Then calculate the posterior distribution: prior * likelihood \n",
      "            # i.e. customers sample the dishes that have been previously sampled\n",
      "            # Likelihood: P(X|Z_(-i,k),sigmaX,sigmaA)\n",
      "            # Prior: P(z_ik = 1 | z_(-i,k)) = m_(-i,k) / N, where m_(-i,k) = number of objects possess feature k, excluding i\n",
      "            P = np.zeros(2)\n",
      "            Z[i,k] = 1\n",
      "            P[1] = log_likelihood(X,Z[:,0:Kplus],M1,sigmaA,sigmaX,Kplus,N,D) + np.log(sum(Z[:,k])-Z[i,k]) - np.log(N)\n",
      "            Z[i,k] = 0\n",
      "            P[0] = log_likelihood(X,Z[:,0:Kplus],M0,sigmaA,sigmaX,Kplus,N,D) + np.log(N-sum(Z[:,k])) - np.log(N)\n",
      "            P = np.exp(P - max(P))\n",
      "            # Sample from the posterior distribution\n",
      "            rand = stats.uniform.rvs(loc=0,scale=1,size=1)           \n",
      "            if rand < P[0]/(P[0]+P[1]):\n",
      "                Z[i,k] = 0\n",
      "                M = M0\n",
      "            else:\n",
      "                Z[i,k] = 1\n",
      "                M = M1\n",
      "\n",
      "        # Sample the number of new dishes Pois(alpha/i) for the current customer/object\n",
      "        # Truncated prior: P(z_ik = 1 | z_(-i,k)) = (m_(-i,k) + alpha/Kplus) / (N + alpha/Kplus)\n",
      "        trun = np.zeros(5)\n",
      "        alphaN = alpha/N  # don't use alpha/i, or this can result in division by zero, but I don't know the details\n",
      "        # Note: in MATLAB, any matrix can be expanded => in Python, we need np.vstack and/or np.hstack\n",
      "               \n",
      "        for ki in range(5):\n",
      "            if ki > 0:\n",
      "                new_stack = np.zeros((N,ki))\n",
      "                new_stack[i,:] = 1\n",
      "                Z = np.hstack((Z[:,0:Kplus],new_stack))\n",
      "            M = np.linalg.inv(np.dot(Z[:,0:(Kplus+ki)].T,Z[:,0:(Kplus+ki)])+((sigmaX/sigmaA)**2)*np.identity(Kplus+ki))\n",
      "            # Prior: x ~ Pois(lambda): f(x) = ((lambda**x)/x!)*exp(-lambda), where lambda = ki\n",
      "            \n",
      "            trun[ki] = (ki)*np.log(alphaN) - alphaN - np.log(np.math.factorial(ki)) \n",
      "            # posterior is proportional to prior x likelihood\n",
      "            trun[ki] += log_likelihood(X,Z[:,0:(Kplus+ki)],M,sigmaA,sigmaX,Kplus+ki,N,D)\n",
      "    \n",
      "        Z[i,Kplus:(Kplus+4)] = 0\n",
      "        trun = np.exp(trun-max(trun))\n",
      "        trun = trun/np.sum(trun)\n",
      "        p = stats.uniform.rvs(loc=0,scale=1,size=1)  \n",
      "        t = 0\n",
      "        for ki in range(5):\n",
      "            t += trun[ki]\n",
      "            if p < t:\n",
      "                new_dishes = ki\n",
      "                break\n",
      "        Z[i,Kplus:(Kplus+new_dishes)] = 1\n",
      "        Kplus += new_dishes\n",
      "        \n",
      "    # Step 2: Sample sigmaX_star (Metropolis)\n",
      "    epsilonX = stats.uniform.rvs(loc=-0.05,scale=0.1,size=1) # uniform(loc,loc+scale)\n",
      "    sigmaX_star = sigmaX + epsilonX   \n",
      "    M_star = calcM(Z, Kplus+new_dishes, sigmaX_star, sigmaA)\n",
      "    logLikX_star = log_likelihood(X, Z[:,0:(Kplus+new_dishes)], M_star, sigmaA, sigmaX_star, Kplus+new_dishes, N, D)\n",
      "    M = calcM(Z, Kplus+new_dishes, sigmaX, sigmaA)\n",
      "    logLikX = log_likelihood(X, Z[:,0:(Kplus+new_dishes)], M, sigmaA, sigmaX, Kplus+new_dishes, N, D)\n",
      "    metropolisX = min(1,np.exp(logLikX_star-logLikX))\n",
      "    rX = stats.uniform.rvs(loc=0,scale=1,size=1)\n",
      "    if rX < metropolisX:\n",
      "        sigmaX = sigmaX_star\n",
      "        rX_accept += 1\n",
      "    \n",
      "    # Step 3: Sample sigmaA_star (Metropolis)\n",
      "    epsilonA = stats.uniform.rvs(loc=-0.05,scale=0.1,size=1) # uniform(loc,loc+scale)\n",
      "    sigmaA_star = sigmaA + epsilonA\n",
      "    M_star = calcM(Z, Kplus+new_dishes, sigmaX, sigmaA_star)\n",
      "    logLikA_star = log_likelihood(X, Z[:,0:(Kplus+new_dishes)], M_star, sigmaA_star, sigmaX, Kplus+new_dishes, N, D)\n",
      "    M = calcM(Z, Kplus+new_dishes, sigmaX, sigmaA)\n",
      "    logLikA = log_likelihood(X, Z[:,0:(Kplus+new_dishes)], M, sigmaA, sigmaX, Kplus+new_dishes, N, D)\n",
      "    metropolisA = min(1,np.exp(logLikA_star-logLikA))\n",
      "    rA = stats.uniform.rvs(loc=0,scale=1,size=1)\n",
      "    if rA < metropolisA:\n",
      "        sigmaA = sigmaA_star\n",
      "        rA_accept += 1\n",
      "    \n",
      "    # Step 4: Sample alpha|Z ~ Ga(a=1+Kplus,scale=1+Harmonics)\n",
      "    alpha = stats.gamma.rvs(a = 1+Kplus, loc = 0, scale = np.reciprocal(1+Harmonics),size=1)[0]\n",
      "    "
     ],
     "language": "python",
     "metadata": {},
     "outputs": [
      {
       "output_type": "stream",
       "stream": "stdout",
       "text": [
        "Shape of Z: (100, 4)\n",
        "At iteration 0 : Kplus is 4 , alpha is 1\n",
        "Shape of Z:"
       ]
      },
      {
       "output_type": "stream",
       "stream": "stdout",
       "text": [
        " (100, 6)\n",
        "At iteration 1 : Kplus is 2 , alpha is 0.681227113542\n",
        "Shape of Z:"
       ]
      },
      {
       "output_type": "stream",
       "stream": "stdout",
       "text": [
        " (100, 6)\n",
        "At iteration 2 : Kplus is 2 , alpha is 0.808372666075\n",
        "Shape of Z:"
       ]
      },
      {
       "output_type": "stream",
       "stream": "stdout",
       "text": [
        " (100, 5)\n",
        "At iteration 3 : Kplus is 1 , alpha is 0.518425063837\n",
        "Shape of Z:"
       ]
      },
      {
       "output_type": "stream",
       "stream": "stdout",
       "text": [
        " (100, 5)\n",
        "At iteration 4 : Kplus is 1 , alpha is 0.0724258646414\n",
        "Shape of Z:"
       ]
      },
      {
       "output_type": "stream",
       "stream": "stdout",
       "text": [
        " (100, 5)\n",
        "At iteration 5 : Kplus is 1 , alpha is 0.0215260902994\n",
        "Shape of Z:"
       ]
      },
      {
       "output_type": "stream",
       "stream": "stdout",
       "text": [
        " (100, 5)\n",
        "At iteration 6 : Kplus is 1 , alpha is 0.165085808508\n",
        "Shape of Z:"
       ]
      },
      {
       "output_type": "stream",
       "stream": "stdout",
       "text": [
        " (100, 5)\n",
        "At iteration 7 : Kplus is 1 , alpha is 0.297703689497\n",
        "Shape of Z:"
       ]
      },
      {
       "output_type": "stream",
       "stream": "stdout",
       "text": [
        " (100, 5)\n",
        "At iteration 8 : Kplus is 1 , alpha is 0.263212194791\n",
        "Shape of Z:"
       ]
      },
      {
       "output_type": "stream",
       "stream": "stdout",
       "text": [
        " (100, 5)\n",
        "At iteration 9 : Kplus is 1 , alpha is 0.231677971525\n",
        "Shape of Z:"
       ]
      },
      {
       "output_type": "stream",
       "stream": "stdout",
       "text": [
        " (100, 5)\n",
        "At iteration 10 : Kplus is 1 , alpha is 0.0832874561116\n",
        "Shape of Z:"
       ]
      },
      {
       "output_type": "stream",
       "stream": "stdout",
       "text": [
        " (100, 5)\n",
        "At iteration 11 : Kplus is 1 , alpha is 0.125857446686\n",
        "Shape of Z:"
       ]
      },
      {
       "output_type": "stream",
       "stream": "stdout",
       "text": [
        " (100, 5)\n",
        "At iteration 12 : Kplus is 1 , alpha is 0.151875719913\n",
        "Shape of Z:"
       ]
      },
      {
       "output_type": "stream",
       "stream": "stdout",
       "text": [
        " (100, 5)\n",
        "At iteration 13 : Kplus is 1 , alpha is 0.353377256495\n",
        "Shape of Z:"
       ]
      },
      {
       "output_type": "stream",
       "stream": "stdout",
       "text": [
        " (100, 5)\n",
        "At iteration 14 : Kplus is 1 , alpha is 0.617263683018\n",
        "Shape of Z:"
       ]
      },
      {
       "output_type": "stream",
       "stream": "stdout",
       "text": [
        " (100, 5)\n",
        "At iteration 15 : Kplus is 1 , alpha is 0.947328672636\n",
        "Shape of Z:"
       ]
      },
      {
       "output_type": "stream",
       "stream": "stdout",
       "text": [
        " (100, 5)\n",
        "At iteration 16 : Kplus is 1 , alpha is 0.323745961731\n",
        "Shape of Z:"
       ]
      },
      {
       "output_type": "stream",
       "stream": "stdout",
       "text": [
        " (100, 5)\n",
        "At iteration 17 : Kplus is 1 , alpha is 0.540442511413\n",
        "Shape of Z:"
       ]
      },
      {
       "output_type": "stream",
       "stream": "stdout",
       "text": [
        " (100, 5)\n",
        "At iteration 18 : Kplus is 1 , alpha is 0.414242509706\n",
        "Shape of Z:"
       ]
      },
      {
       "output_type": "stream",
       "stream": "stdout",
       "text": [
        " (100, 5)\n",
        "At iteration 19 : Kplus is 1 , alpha is 0.55835400699\n",
        "Shape of Z:"
       ]
      },
      {
       "output_type": "stream",
       "stream": "stdout",
       "text": [
        " (100, 5)\n",
        "At iteration 20 : Kplus is 1 , alpha is 1.06901346703\n",
        "Shape of Z:"
       ]
      },
      {
       "output_type": "stream",
       "stream": "stdout",
       "text": [
        " (100, 5)\n",
        "At iteration 21 : Kplus is 1 , alpha is 0.196423489462\n",
        "Shape of Z:"
       ]
      },
      {
       "output_type": "stream",
       "stream": "stdout",
       "text": [
        " (100, 5)\n",
        "At iteration 22 : Kplus is 1 , alpha is 0.419037001383\n",
        "Shape of Z:"
       ]
      },
      {
       "output_type": "stream",
       "stream": "stdout",
       "text": [
        " (100, 5)\n",
        "At iteration 23 : Kplus is 1 , alpha is 0.277149937651\n",
        "Shape of Z:"
       ]
      },
      {
       "output_type": "stream",
       "stream": "stdout",
       "text": [
        " (100, 5)\n",
        "At iteration 24 : Kplus is 1 , alpha is 0.291885613\n",
        "Shape of Z:"
       ]
      },
      {
       "output_type": "stream",
       "stream": "stdout",
       "text": [
        " (100, 5)\n",
        "At iteration 25 : Kplus is 1 , alpha is 0.249579384662\n",
        "Shape of Z:"
       ]
      },
      {
       "output_type": "stream",
       "stream": "stdout",
       "text": [
        " (100, 5)\n",
        "At iteration 26 : Kplus is 1 , alpha is 0.430322836059\n",
        "Shape of Z:"
       ]
      },
      {
       "output_type": "stream",
       "stream": "stdout",
       "text": [
        " (100, 5)\n",
        "At iteration 27 : Kplus is 1 , alpha is 0.458921756768\n",
        "Shape of Z:"
       ]
      },
      {
       "output_type": "stream",
       "stream": "stdout",
       "text": [
        " (100, 5)\n",
        "At iteration 28 : Kplus is 1 , alpha is 0.0383836836379\n",
        "Shape of Z:"
       ]
      },
      {
       "output_type": "stream",
       "stream": "stdout",
       "text": [
        " (100, 5)\n",
        "At iteration 29 : Kplus is 1 , alpha is 0.683664385642\n",
        "Shape of Z:"
       ]
      },
      {
       "output_type": "stream",
       "stream": "stdout",
       "text": [
        " (100, 5)\n",
        "At iteration 30 : Kplus is 1 , alpha is 1.06825886987\n",
        "Shape of Z:"
       ]
      },
      {
       "output_type": "stream",
       "stream": "stdout",
       "text": [
        " (100, 5)\n",
        "At iteration 31 : Kplus is 1 , alpha is 1.03068555182\n",
        "Shape of Z:"
       ]
      },
      {
       "output_type": "stream",
       "stream": "stdout",
       "text": [
        " (100, 5)\n",
        "At iteration 32 : Kplus is 1 , alpha is 0.421054102841\n",
        "Shape of Z:"
       ]
      },
      {
       "output_type": "stream",
       "stream": "stdout",
       "text": [
        " (100, 5)\n",
        "At iteration 33 : Kplus is 1 , alpha is 0.33540496522\n",
        "Shape of Z:"
       ]
      },
      {
       "output_type": "stream",
       "stream": "stdout",
       "text": [
        " (100, 5)\n",
        "At iteration 34 : Kplus is 1 , alpha is 0.458200373481\n",
        "Shape of Z:"
       ]
      },
      {
       "output_type": "stream",
       "stream": "stdout",
       "text": [
        " (100, 5)\n",
        "At iteration 35 : Kplus is 1 , alpha is 0.184078421944\n",
        "Shape of Z:"
       ]
      },
      {
       "output_type": "stream",
       "stream": "stdout",
       "text": [
        " (100, 5)\n",
        "At iteration 36 : Kplus is 1 , alpha is 0.484509314936\n",
        "Shape of Z:"
       ]
      },
      {
       "output_type": "stream",
       "stream": "stdout",
       "text": [
        " (100, 5)\n",
        "At iteration 37 : Kplus is 1 , alpha is 0.050890461865\n",
        "Shape of Z:"
       ]
      },
      {
       "output_type": "stream",
       "stream": "stdout",
       "text": [
        " (100, 5)\n",
        "At iteration 38 : Kplus is 1 , alpha is 0.296644049141\n",
        "Shape of Z:"
       ]
      },
      {
       "output_type": "stream",
       "stream": "stdout",
       "text": [
        " (100, 5)\n",
        "At iteration 39 : Kplus is 1 , alpha is 0.0619700070112\n",
        "Shape of Z:"
       ]
      },
      {
       "output_type": "stream",
       "stream": "stdout",
       "text": [
        " (100, 5)\n",
        "At iteration 40 : Kplus is 1 , alpha is 0.178673801075\n",
        "Shape of Z:"
       ]
      },
      {
       "output_type": "stream",
       "stream": "stdout",
       "text": [
        " (100, 5)\n",
        "At iteration 41 : Kplus is 1 , alpha is 0.833263926177\n",
        "Shape of Z:"
       ]
      },
      {
       "output_type": "stream",
       "stream": "stdout",
       "text": [
        " (100, 5)\n",
        "At iteration 42 : Kplus is 1 , alpha is 0.0849366060489\n",
        "Shape of Z:"
       ]
      },
      {
       "output_type": "stream",
       "stream": "stdout",
       "text": [
        " (100, 5)\n",
        "At iteration 43 : Kplus is 1 , alpha is 0.195808962307\n",
        "Shape of Z:"
       ]
      },
      {
       "output_type": "stream",
       "stream": "stdout",
       "text": [
        " (100, 5)\n",
        "At iteration 44 : Kplus is 1 , alpha is 0.289570932721\n",
        "Shape of Z:"
       ]
      },
      {
       "output_type": "stream",
       "stream": "stdout",
       "text": [
        " (100, 5)\n",
        "At iteration 45 : Kplus is 1 , alpha is 0.0962020262142\n",
        "Shape of Z:"
       ]
      },
      {
       "output_type": "stream",
       "stream": "stdout",
       "text": [
        " (100, 5)\n",
        "At iteration 46 : Kplus is 1 , alpha is 0.19418239315\n",
        "Shape of Z:"
       ]
      },
      {
       "output_type": "stream",
       "stream": "stdout",
       "text": [
        " (100, 5)\n",
        "At iteration 47 : Kplus is 1 , alpha is 0.102445744283\n",
        "Shape of Z:"
       ]
      },
      {
       "output_type": "stream",
       "stream": "stdout",
       "text": [
        " (100, 5)\n",
        "At iteration 48 : Kplus is 1 , alpha is 0.0549304220338\n",
        "Shape of Z:"
       ]
      },
      {
       "output_type": "stream",
       "stream": "stdout",
       "text": [
        " (100, 5)\n",
        "At iteration 49 : Kplus is 1 , alpha is 0.115715883115\n",
        "Shape of Z:"
       ]
      },
      {
       "output_type": "stream",
       "stream": "stdout",
       "text": [
        " (100, 5)\n",
        "At iteration 50 : Kplus is 1 , alpha is 0.198389329497\n",
        "Shape of Z:"
       ]
      },
      {
       "output_type": "stream",
       "stream": "stdout",
       "text": [
        " (100, 5)\n",
        "At iteration 51 : Kplus is 1 , alpha is 0.24246938039\n",
        "Shape of Z:"
       ]
      },
      {
       "output_type": "stream",
       "stream": "stdout",
       "text": [
        " (100, 5)\n",
        "At iteration 52 : Kplus is 1 , alpha is 0.166525251794\n",
        "Shape of Z:"
       ]
      },
      {
       "output_type": "stream",
       "stream": "stdout",
       "text": [
        " (100, 5)\n",
        "At iteration 53 : Kplus is 1 , alpha is 0.447846404718\n",
        "Shape of Z:"
       ]
      },
      {
       "output_type": "stream",
       "stream": "stdout",
       "text": [
        " (100, 5)\n",
        "At iteration 54 : Kplus is 1 , alpha is 0.63473780045\n",
        "Shape of Z:"
       ]
      },
      {
       "output_type": "stream",
       "stream": "stdout",
       "text": [
        " (100, 5)\n",
        "At iteration 55 : Kplus is 1 , alpha is 0.366424991426\n",
        "Shape of Z:"
       ]
      },
      {
       "output_type": "stream",
       "stream": "stdout",
       "text": [
        " (100, 5)\n",
        "At iteration 56 : Kplus is 1 , alpha is 0.27990714632\n",
        "Shape of Z:"
       ]
      },
      {
       "output_type": "stream",
       "stream": "stdout",
       "text": [
        " (100, 5)\n",
        "At iteration 57 : Kplus is 1 , alpha is 0.0463914103148\n",
        "Shape of Z:"
       ]
      },
      {
       "output_type": "stream",
       "stream": "stdout",
       "text": [
        " (100, 5)\n",
        "At iteration 58 : Kplus is 1 , alpha is 0.0493780887615\n",
        "Shape of Z:"
       ]
      },
      {
       "output_type": "stream",
       "stream": "stdout",
       "text": [
        " (100, 5)\n",
        "At iteration 59 : Kplus is 1 , alpha is 0.300715135622\n",
        "Shape of Z:"
       ]
      },
      {
       "output_type": "stream",
       "stream": "stdout",
       "text": [
        " (100, 5)\n",
        "At iteration 60 : Kplus is 1 , alpha is 0.5970813565\n",
        "Shape of Z:"
       ]
      },
      {
       "output_type": "stream",
       "stream": "stdout",
       "text": [
        " (100, 5)\n",
        "At iteration 61 : Kplus is 1 , alpha is 0.465052228617\n",
        "Shape of Z:"
       ]
      },
      {
       "output_type": "stream",
       "stream": "stdout",
       "text": [
        " (100, 5)\n",
        "At iteration 62 : Kplus is 1 , alpha is 0.285456917378\n",
        "Shape of Z:"
       ]
      },
      {
       "output_type": "stream",
       "stream": "stdout",
       "text": [
        " (100, 5)\n",
        "At iteration 63 : Kplus is 1 , alpha is 0.190937138192\n",
        "Shape of Z:"
       ]
      },
      {
       "output_type": "stream",
       "stream": "stdout",
       "text": [
        " (100, 5)\n",
        "At iteration 64 : Kplus is 1 , alpha is 0.252276792585\n",
        "Shape of Z:"
       ]
      },
      {
       "output_type": "stream",
       "stream": "stdout",
       "text": [
        " (100, 5)\n",
        "At iteration 65 : Kplus is 1 , alpha is 0.0584648869281\n",
        "Shape of Z:"
       ]
      },
      {
       "output_type": "stream",
       "stream": "stdout",
       "text": [
        " (100, 5)\n",
        "At iteration 66 : Kplus is 1 , alpha is 0.184807233325\n",
        "Shape of Z:"
       ]
      },
      {
       "output_type": "stream",
       "stream": "stdout",
       "text": [
        " (100, 5)\n",
        "At iteration 67 : Kplus is 1 , alpha is 0.188437622711\n",
        "Shape of Z:"
       ]
      },
      {
       "output_type": "stream",
       "stream": "stdout",
       "text": [
        " (100, 5)\n",
        "At iteration 68 : Kplus is 1 , alpha is 0.0595985766418\n",
        "Shape of Z:"
       ]
      },
      {
       "output_type": "stream",
       "stream": "stdout",
       "text": [
        " (100, 5)\n",
        "At iteration 69 : Kplus is 1 , alpha is 0.346503440275\n",
        "Shape of Z:"
       ]
      },
      {
       "output_type": "stream",
       "stream": "stdout",
       "text": [
        " (100, 5)\n",
        "At iteration 70 : Kplus is 1 , alpha is 0.258381442735\n",
        "Shape of Z:"
       ]
      },
      {
       "output_type": "stream",
       "stream": "stdout",
       "text": [
        " (100, 5)\n",
        "At iteration 71 : Kplus is 1 , alpha is 0.160090168437\n",
        "Shape of Z:"
       ]
      },
      {
       "output_type": "stream",
       "stream": "stdout",
       "text": [
        " (100, 5)\n",
        "At iteration 72 : Kplus is 1 , alpha is 0.131703105729\n",
        "Shape of Z:"
       ]
      },
      {
       "output_type": "stream",
       "stream": "stdout",
       "text": [
        " (100, 5)\n",
        "At iteration 73 : Kplus is 1 , alpha is 0.090890088977\n",
        "Shape of Z:"
       ]
      },
      {
       "output_type": "stream",
       "stream": "stdout",
       "text": [
        " (100, 5)\n",
        "At iteration 74 : Kplus is 1 , alpha is 0.0540148757241\n",
        "Shape of Z:"
       ]
      },
      {
       "output_type": "stream",
       "stream": "stdout",
       "text": [
        " (100, 5)\n",
        "At iteration 75 : Kplus is 1 , alpha is 0.208389758777\n",
        "Shape of Z:"
       ]
      },
      {
       "output_type": "stream",
       "stream": "stdout",
       "text": [
        " (100, 5)\n",
        "At iteration 76 : Kplus is 1 , alpha is 0.032023325253\n",
        "Shape of Z:"
       ]
      },
      {
       "output_type": "stream",
       "stream": "stdout",
       "text": [
        " (100, 5)\n",
        "At iteration 77 : Kplus is 1 , alpha is 0.324330774217\n",
        "Shape of Z:"
       ]
      },
      {
       "output_type": "stream",
       "stream": "stdout",
       "text": [
        " (100, 5)\n",
        "At iteration 78 : Kplus is 1 , alpha is 0.314768392698\n",
        "Shape of Z:"
       ]
      },
      {
       "output_type": "stream",
       "stream": "stdout",
       "text": [
        " (100, 5)\n",
        "At iteration 79 : Kplus is 1 , alpha is 0.388685733642\n",
        "Shape of Z:"
       ]
      },
      {
       "output_type": "stream",
       "stream": "stdout",
       "text": [
        " (100, 5)\n",
        "At iteration 80 : Kplus is 1 , alpha is 0.166611120081\n",
        "Shape of Z:"
       ]
      },
      {
       "output_type": "stream",
       "stream": "stdout",
       "text": [
        " (100, 5)\n",
        "At iteration 81 : Kplus is 1 , alpha is 0.323856190372\n",
        "Shape of Z:"
       ]
      },
      {
       "output_type": "stream",
       "stream": "stdout",
       "text": [
        " (100, 5)\n",
        "At iteration 82 : Kplus is 1 , alpha is 0.252942779457\n",
        "Shape of Z:"
       ]
      },
      {
       "output_type": "stream",
       "stream": "stdout",
       "text": [
        " (100, 5)\n",
        "At iteration 83 : Kplus is 1 , alpha is 0.277378261211\n",
        "Shape of Z:"
       ]
      },
      {
       "output_type": "stream",
       "stream": "stdout",
       "text": [
        " (100, 5)\n",
        "At iteration 84 : Kplus is 1 , alpha is 0.175943161591\n",
        "Shape of Z:"
       ]
      },
      {
       "output_type": "stream",
       "stream": "stdout",
       "text": [
        " (100, 5)\n",
        "At iteration 85 : Kplus is 1 , alpha is 0.0924388333865\n",
        "Shape of Z:"
       ]
      },
      {
       "output_type": "stream",
       "stream": "stdout",
       "text": [
        " (100, 5)\n",
        "At iteration 86 : Kplus is 1 , alpha is 0.565988932043\n",
        "Shape of Z:"
       ]
      },
      {
       "output_type": "stream",
       "stream": "stdout",
       "text": [
        " (100, 5)\n",
        "At iteration 87 : Kplus is 1 , alpha is 0.329638845864\n",
        "Shape of Z:"
       ]
      },
      {
       "output_type": "stream",
       "stream": "stdout",
       "text": [
        " (100, 5)\n",
        "At iteration 88 : Kplus is 1 , alpha is 0.369384501255\n",
        "Shape of Z:"
       ]
      },
      {
       "output_type": "stream",
       "stream": "stdout",
       "text": [
        " (100, 5)\n",
        "At iteration 89 : Kplus is 1 , alpha is 0.801954420654\n",
        "Shape of Z:"
       ]
      },
      {
       "output_type": "stream",
       "stream": "stdout",
       "text": [
        " (100, 5)\n",
        "At iteration 90 : Kplus is 1 , alpha is 0.257246620467\n",
        "Shape of Z:"
       ]
      },
      {
       "output_type": "stream",
       "stream": "stdout",
       "text": [
        " (100, 5)\n",
        "At iteration 91 : Kplus is 1 , alpha is 0.303553136271\n",
        "Shape of Z:"
       ]
      },
      {
       "output_type": "stream",
       "stream": "stdout",
       "text": [
        " (100, 5)\n",
        "At iteration 92 : Kplus is 1 , alpha is 0.607264230472\n",
        "Shape of Z:"
       ]
      },
      {
       "output_type": "stream",
       "stream": "stdout",
       "text": [
        " (100, 5)\n",
        "At iteration 93 : Kplus is 1 , alpha is 0.0812681937521\n",
        "Shape of Z:"
       ]
      },
      {
       "output_type": "stream",
       "stream": "stdout",
       "text": [
        " (100, 5)\n",
        "At iteration 94 : Kplus is 1 , alpha is 0.159590512392\n",
        "Shape of Z:"
       ]
      },
      {
       "output_type": "stream",
       "stream": "stdout",
       "text": [
        " (100, 5)\n",
        "At iteration 95 : Kplus is 1 , alpha is 0.417086915716\n",
        "Shape of Z:"
       ]
      },
      {
       "output_type": "stream",
       "stream": "stdout",
       "text": [
        " (100, 5)\n",
        "At iteration 96 : Kplus is 1 , alpha is 0.402068881031\n",
        "Shape of Z:"
       ]
      },
      {
       "output_type": "stream",
       "stream": "stdout",
       "text": [
        " (100, 5)\n",
        "At iteration 97 : Kplus is 1 , alpha is 0.312970143498\n",
        "Shape of Z:"
       ]
      },
      {
       "output_type": "stream",
       "stream": "stdout",
       "text": [
        " (100, 5)\n",
        "At iteration 98 : Kplus is 1 , alpha is 0.395098073408\n",
        "Shape of Z:"
       ]
      },
      {
       "output_type": "stream",
       "stream": "stdout",
       "text": [
        " (100, 5)\n",
        "At iteration 99 : Kplus is 1 , alpha is 0.18524737594\n",
        "Shape of Z:"
       ]
      },
      {
       "output_type": "stream",
       "stream": "stdout",
       "text": [
        " (100, 5)\n",
        "At iteration 100 : Kplus is 1 , alpha is 0.399662644242\n",
        "Shape of Z:"
       ]
      },
      {
       "output_type": "stream",
       "stream": "stdout",
       "text": [
        " (100, 5)\n",
        "At iteration 101 : Kplus is 1 , alpha is 0.527449980522\n",
        "Shape of Z:"
       ]
      },
      {
       "output_type": "stream",
       "stream": "stdout",
       "text": [
        " (100, 5)\n",
        "At iteration 102 : Kplus is 1 , alpha is 0.107475497659\n",
        "Shape of Z:"
       ]
      },
      {
       "output_type": "stream",
       "stream": "stdout",
       "text": [
        " (100, 5)\n",
        "At iteration 103 : Kplus is 1 , alpha is 0.23326153785\n",
        "Shape of Z:"
       ]
      },
      {
       "output_type": "stream",
       "stream": "stdout",
       "text": [
        " (100, 5)\n",
        "At iteration 104 : Kplus is 1 , alpha is 0.227136660052\n",
        "Shape of Z:"
       ]
      },
      {
       "output_type": "stream",
       "stream": "stdout",
       "text": [
        " (100, 5)\n",
        "At iteration 105 : Kplus is 1 , alpha is 0.316249207819\n",
        "Shape of Z:"
       ]
      },
      {
       "output_type": "stream",
       "stream": "stdout",
       "text": [
        " (100, 5)\n",
        "At iteration 106 : Kplus is 1 , alpha is 0.104343486442\n",
        "Shape of Z:"
       ]
      },
      {
       "output_type": "stream",
       "stream": "stdout",
       "text": [
        " (100, 5)\n",
        "At iteration 107 : Kplus is 1 , alpha is 0.139610235228\n",
        "Shape of Z:"
       ]
      },
      {
       "output_type": "stream",
       "stream": "stdout",
       "text": [
        " (100, 5)\n",
        "At iteration 108 : Kplus is 1 , alpha is 0.0384075328694\n",
        "Shape of Z:"
       ]
      },
      {
       "output_type": "stream",
       "stream": "stdout",
       "text": [
        " (100, 5)\n",
        "At iteration 109 : Kplus is 1 , alpha is 0.337462525633\n",
        "Shape of Z:"
       ]
      },
      {
       "output_type": "stream",
       "stream": "stdout",
       "text": [
        " (100, 5)\n",
        "At iteration 110 : Kplus is 1 , alpha is 0.251526324247\n",
        "Shape of Z:"
       ]
      },
      {
       "output_type": "stream",
       "stream": "stdout",
       "text": [
        " (100, 5)\n",
        "At iteration 111 : Kplus is 1 , alpha is 0.157624893309\n",
        "Shape of Z:"
       ]
      },
      {
       "output_type": "stream",
       "stream": "stdout",
       "text": [
        " (100, 5)\n",
        "At iteration 112 : Kplus is 1 , alpha is 0.241709894291\n",
        "Shape of Z:"
       ]
      },
      {
       "output_type": "stream",
       "stream": "stdout",
       "text": [
        " (100, 5)\n",
        "At iteration 113 : Kplus is 1 , alpha is 0.771620909562\n",
        "Shape of Z:"
       ]
      },
      {
       "output_type": "stream",
       "stream": "stdout",
       "text": [
        " (100, 5)\n",
        "At iteration 114 : Kplus is 1 , alpha is 0.0721441911931\n",
        "Shape of Z:"
       ]
      },
      {
       "output_type": "stream",
       "stream": "stdout",
       "text": [
        " (100, 5)\n",
        "At iteration 115 : Kplus is 1 , alpha is 0.179141237565\n",
        "Shape of Z:"
       ]
      },
      {
       "output_type": "stream",
       "stream": "stdout",
       "text": [
        " (100, 5)\n",
        "At iteration 116 : Kplus is 1 , alpha is 0.546121721118\n",
        "Shape of Z:"
       ]
      },
      {
       "output_type": "stream",
       "stream": "stdout",
       "text": [
        " (100, 5)\n",
        "At iteration 117 : Kplus is 1 , alpha is 0.0547401708509\n",
        "Shape of Z:"
       ]
      },
      {
       "output_type": "stream",
       "stream": "stdout",
       "text": [
        " (100, 5)\n",
        "At iteration 118 : Kplus is 1 , alpha is 0.266934161276\n",
        "Shape of Z:"
       ]
      },
      {
       "output_type": "stream",
       "stream": "stdout",
       "text": [
        " (100, 5)\n",
        "At iteration 119 : Kplus is 1 , alpha is 0.578621807004\n",
        "Shape of Z:"
       ]
      },
      {
       "output_type": "stream",
       "stream": "stdout",
       "text": [
        " (100, 5)\n",
        "At iteration 120 : Kplus is 1 , alpha is 0.304490854121\n",
        "Shape of Z:"
       ]
      },
      {
       "output_type": "stream",
       "stream": "stdout",
       "text": [
        " (100, 5)\n",
        "At iteration 121 : Kplus is 1 , alpha is 0.425662908818\n",
        "Shape of Z:"
       ]
      },
      {
       "output_type": "stream",
       "stream": "stdout",
       "text": [
        " (100, 5)\n",
        "At iteration 122 : Kplus is 1 , alpha is 0.192347545466\n",
        "Shape of Z:"
       ]
      },
      {
       "output_type": "stream",
       "stream": "stdout",
       "text": [
        " (100, 5)\n",
        "At iteration 123 : Kplus is 1 , alpha is 0.515435638812\n",
        "Shape of Z:"
       ]
      },
      {
       "output_type": "stream",
       "stream": "stdout",
       "text": [
        " (100, 5)\n",
        "At iteration 124 : Kplus is 1 , alpha is 0.135897154892\n",
        "Shape of Z:"
       ]
      },
      {
       "output_type": "stream",
       "stream": "stdout",
       "text": [
        " (100, 5)\n",
        "At iteration 125 : Kplus is 1 , alpha is 0.590066523407\n",
        "Shape of Z:"
       ]
      },
      {
       "output_type": "stream",
       "stream": "stdout",
       "text": [
        " (100, 5)\n",
        "At iteration 126 : Kplus is 1 , alpha is 0.32171174653\n",
        "Shape of Z:"
       ]
      },
      {
       "output_type": "stream",
       "stream": "stdout",
       "text": [
        " (100, 5)\n",
        "At iteration 127 : Kplus is 1 , alpha is 0.172431875177\n",
        "Shape of Z:"
       ]
      },
      {
       "output_type": "stream",
       "stream": "stdout",
       "text": [
        " (100, 5)\n",
        "At iteration 128 : Kplus is 1 , alpha is 0.0634764870685\n",
        "Shape of Z:"
       ]
      },
      {
       "output_type": "stream",
       "stream": "stdout",
       "text": [
        " (100, 5)\n",
        "At iteration 129 : Kplus is 1 , alpha is 0.0266297665079\n",
        "Shape of Z:"
       ]
      },
      {
       "output_type": "stream",
       "stream": "stdout",
       "text": [
        " (100, 5)\n",
        "At iteration 130 : Kplus is 1 , alpha is 0.322479788172\n",
        "Shape of Z:"
       ]
      },
      {
       "output_type": "stream",
       "stream": "stdout",
       "text": [
        " (100, 5)\n",
        "At iteration 131 : Kplus is 1 , alpha is 0.26529860051\n",
        "Shape of Z:"
       ]
      },
      {
       "output_type": "stream",
       "stream": "stdout",
       "text": [
        " (100, 5)\n",
        "At iteration 132 : Kplus is 1 , alpha is 0.286257568005\n",
        "Shape of Z:"
       ]
      },
      {
       "output_type": "stream",
       "stream": "stdout",
       "text": [
        " (100, 5)\n",
        "At iteration 133 : Kplus is 1 , alpha is 0.329488071621\n",
        "Shape of Z:"
       ]
      },
      {
       "output_type": "stream",
       "stream": "stdout",
       "text": [
        " (100, 5)\n",
        "At iteration 134 : Kplus is 1 , alpha is 0.127520142737\n",
        "Shape of Z:"
       ]
      },
      {
       "output_type": "stream",
       "stream": "stdout",
       "text": [
        " (100, 5)\n",
        "At iteration 135 : Kplus is 1 , alpha is 0.152827373026\n",
        "Shape of Z:"
       ]
      },
      {
       "output_type": "stream",
       "stream": "stdout",
       "text": [
        " (100, 5)\n",
        "At iteration 136 : Kplus is 1 , alpha is 0.172871844855\n",
        "Shape of Z:"
       ]
      },
      {
       "output_type": "stream",
       "stream": "stdout",
       "text": [
        " (100, 5)\n",
        "At iteration 137 : Kplus is 1 , alpha is 0.505726590189\n",
        "Shape of Z:"
       ]
      },
      {
       "output_type": "stream",
       "stream": "stdout",
       "text": [
        " (100, 5)\n",
        "At iteration 138 : Kplus is 1 , alpha is 0.39607760917\n",
        "Shape of Z:"
       ]
      },
      {
       "output_type": "stream",
       "stream": "stdout",
       "text": [
        " (100, 5)\n",
        "At iteration 139 : Kplus is 1 , alpha is 0.488738784821\n",
        "Shape of Z:"
       ]
      },
      {
       "output_type": "stream",
       "stream": "stdout",
       "text": [
        " (100, 5)\n",
        "At iteration 140 : Kplus is 1 , alpha is 0.189361048001\n",
        "Shape of Z:"
       ]
      },
      {
       "output_type": "stream",
       "stream": "stdout",
       "text": [
        " (100, 5)\n",
        "At iteration 141 : Kplus is 1 , alpha is 0.164703044298\n",
        "Shape of Z:"
       ]
      },
      {
       "output_type": "stream",
       "stream": "stdout",
       "text": [
        " (100, 5)\n",
        "At iteration 142 : Kplus is 1 , alpha is 0.0466382825968\n",
        "Shape of Z:"
       ]
      },
      {
       "output_type": "stream",
       "stream": "stdout",
       "text": [
        " (100, 5)\n",
        "At iteration 143 : Kplus is 1 , alpha is 0.393601086138\n",
        "Shape of Z:"
       ]
      },
      {
       "output_type": "stream",
       "stream": "stdout",
       "text": [
        " (100, 5)\n",
        "At iteration 144 : Kplus is 1 , alpha is 0.0553528596062\n",
        "Shape of Z:"
       ]
      },
      {
       "output_type": "stream",
       "stream": "stdout",
       "text": [
        " (100, 5)\n",
        "At iteration 145 : Kplus is 1 , alpha is 0.14768696019\n",
        "Shape of Z:"
       ]
      },
      {
       "output_type": "stream",
       "stream": "stdout",
       "text": [
        " (100, 5)\n",
        "At iteration 146 : Kplus is 1 , alpha is 0.0711942508721\n",
        "Shape of Z:"
       ]
      },
      {
       "output_type": "stream",
       "stream": "stdout",
       "text": [
        " (100, 5)\n",
        "At iteration 147 : Kplus is 1 , alpha is 0.217233673906\n",
        "Shape of Z:"
       ]
      },
      {
       "output_type": "stream",
       "stream": "stdout",
       "text": [
        " (100, 5)\n",
        "At iteration 148 : Kplus is 1 , alpha is 0.200476048246\n",
        "Shape of Z:"
       ]
      },
      {
       "output_type": "stream",
       "stream": "stdout",
       "text": [
        " (100, 5)\n",
        "At iteration 149 : Kplus is 1 , alpha is 0.182481287806\n",
        "Shape of Z:"
       ]
      },
      {
       "output_type": "stream",
       "stream": "stdout",
       "text": [
        " (100, 5)\n",
        "At iteration 150 : Kplus is 1 , alpha is 0.632251864607\n",
        "Shape of Z:"
       ]
      },
      {
       "output_type": "stream",
       "stream": "stdout",
       "text": [
        " (100, 5)\n",
        "At iteration 151 : Kplus is 1 , alpha is 0.272704193476\n",
        "Shape of Z:"
       ]
      },
      {
       "output_type": "stream",
       "stream": "stdout",
       "text": [
        " (100, 5)\n",
        "At iteration 152 : Kplus is 1 , alpha is 0.0766398059922\n",
        "Shape of Z:"
       ]
      },
      {
       "output_type": "stream",
       "stream": "stdout",
       "text": [
        " (100, 5)\n",
        "At iteration 153 : Kplus is 1 , alpha is 0.387684467133\n",
        "Shape of Z:"
       ]
      },
      {
       "output_type": "stream",
       "stream": "stdout",
       "text": [
        " (100, 5)\n",
        "At iteration 154 : Kplus is 1 , alpha is 0.264295096845\n",
        "Shape of Z:"
       ]
      },
      {
       "output_type": "stream",
       "stream": "stdout",
       "text": [
        " (100, 5)\n",
        "At iteration 155 : Kplus is 1 , alpha is 0.104317063273\n",
        "Shape of Z:"
       ]
      },
      {
       "output_type": "stream",
       "stream": "stdout",
       "text": [
        " (100, 5)\n",
        "At iteration 156 : Kplus is 1 , alpha is 0.206875797818\n",
        "Shape of Z:"
       ]
      },
      {
       "output_type": "stream",
       "stream": "stdout",
       "text": [
        " (100, 5)\n",
        "At iteration 157 : Kplus is 1 , alpha is 0.498487699732\n",
        "Shape of Z:"
       ]
      },
      {
       "output_type": "stream",
       "stream": "stdout",
       "text": [
        " (100, 5)\n",
        "At iteration 158 : Kplus is 1 , alpha is 0.134447864024\n",
        "Shape of Z:"
       ]
      },
      {
       "output_type": "stream",
       "stream": "stdout",
       "text": [
        " (100, 5)\n",
        "At iteration 159 : Kplus is 1 , alpha is 0.0735909591881\n",
        "Shape of Z:"
       ]
      },
      {
       "output_type": "stream",
       "stream": "stdout",
       "text": [
        " (100, 5)\n",
        "At iteration 160 : Kplus is 1 , alpha is 0.178874813345\n",
        "Shape of Z:"
       ]
      },
      {
       "output_type": "stream",
       "stream": "stdout",
       "text": [
        " (100, 5)\n",
        "At iteration 161 : Kplus is 1 , alpha is 0.374950090726\n",
        "Shape of Z:"
       ]
      },
      {
       "output_type": "stream",
       "stream": "stdout",
       "text": [
        " (100, 5)\n",
        "At iteration 162 : Kplus is 1 , alpha is 0.0404026422317\n",
        "Shape of Z:"
       ]
      },
      {
       "output_type": "stream",
       "stream": "stdout",
       "text": [
        " (100, 5)\n",
        "At iteration 163 : Kplus is 1 , alpha is 0.0871218715466\n",
        "Shape of Z:"
       ]
      },
      {
       "output_type": "stream",
       "stream": "stdout",
       "text": [
        " (100, 5)\n",
        "At iteration 164 : Kplus is 1 , alpha is 0.0665159747014\n",
        "Shape of Z:"
       ]
      },
      {
       "output_type": "stream",
       "stream": "stdout",
       "text": [
        " (100, 5)\n",
        "At iteration 165 : Kplus is 1 , alpha is 0.358817318563\n",
        "Shape of Z:"
       ]
      },
      {
       "output_type": "stream",
       "stream": "stdout",
       "text": [
        " (100, 5)\n",
        "At iteration 166 : Kplus is 1 , alpha is 0.103702071263\n",
        "Shape of Z:"
       ]
      },
      {
       "output_type": "stream",
       "stream": "stdout",
       "text": [
        " (100, 5)\n",
        "At iteration 167 : Kplus is 1 , alpha is 0.383233392763\n",
        "Shape of Z:"
       ]
      },
      {
       "output_type": "stream",
       "stream": "stdout",
       "text": [
        " (100, 5)\n",
        "At iteration 168 : Kplus is 1 , alpha is 0.276315207737\n",
        "Shape of Z:"
       ]
      },
      {
       "output_type": "stream",
       "stream": "stdout",
       "text": [
        " (100, 5)\n",
        "At iteration 169 : Kplus is 1 , alpha is 0.105322905098\n",
        "Shape of Z:"
       ]
      },
      {
       "output_type": "stream",
       "stream": "stdout",
       "text": [
        " (100, 5)\n",
        "At iteration 170 : Kplus is 1 , alpha is 0.021271180793\n",
        "Shape of Z:"
       ]
      },
      {
       "output_type": "stream",
       "stream": "stdout",
       "text": [
        " (100, 5)\n",
        "At iteration 171 : Kplus is 1 , alpha is 0.598010786146\n",
        "Shape of Z:"
       ]
      },
      {
       "output_type": "stream",
       "stream": "stdout",
       "text": [
        " (100, 5)\n",
        "At iteration 172 : Kplus is 1 , alpha is 0.0378232042056\n",
        "Shape of Z:"
       ]
      },
      {
       "output_type": "stream",
       "stream": "stdout",
       "text": [
        " (100, 5)\n",
        "At iteration 173 : Kplus is 1 , alpha is 0.246787172654\n",
        "Shape of Z:"
       ]
      },
      {
       "output_type": "stream",
       "stream": "stdout",
       "text": [
        " (100, 5)\n",
        "At iteration 174 : Kplus is 1 , alpha is 0.730269580532\n",
        "Shape of Z:"
       ]
      },
      {
       "output_type": "stream",
       "stream": "stdout",
       "text": [
        " (100, 5)\n",
        "At iteration 175 : Kplus is 1 , alpha is 0.15345066808\n",
        "Shape of Z:"
       ]
      },
      {
       "output_type": "stream",
       "stream": "stdout",
       "text": [
        " (100, 5)\n",
        "At iteration 176 : Kplus is 1 , alpha is 0.0505582931016\n",
        "Shape of Z:"
       ]
      },
      {
       "output_type": "stream",
       "stream": "stdout",
       "text": [
        " (100, 5)\n",
        "At iteration 177 : Kplus is 1 , alpha is 0.206247030568\n",
        "Shape of Z:"
       ]
      },
      {
       "output_type": "stream",
       "stream": "stdout",
       "text": [
        " (100, 5)\n",
        "At iteration 178 : Kplus is 1 , alpha is 0.147042860908\n",
        "Shape of Z:"
       ]
      },
      {
       "output_type": "stream",
       "stream": "stdout",
       "text": [
        " (100, 5)\n",
        "At iteration 179 : Kplus is 1 , alpha is 0.440837185249\n",
        "Shape of Z:"
       ]
      },
      {
       "output_type": "stream",
       "stream": "stdout",
       "text": [
        " (100, 5)\n",
        "At iteration 180 : Kplus is 1 , alpha is 0.231690424776\n",
        "Shape of Z:"
       ]
      },
      {
       "output_type": "stream",
       "stream": "stdout",
       "text": [
        " (100, 5)\n",
        "At iteration 181 : Kplus is 1 , alpha is 0.191907465404\n",
        "Shape of Z:"
       ]
      },
      {
       "output_type": "stream",
       "stream": "stdout",
       "text": [
        " (100, 5)\n",
        "At iteration 182 : Kplus is 1 , alpha is 0.46447791929\n",
        "Shape of Z:"
       ]
      },
      {
       "output_type": "stream",
       "stream": "stdout",
       "text": [
        " (100, 5)\n",
        "At iteration 183 : Kplus is 1 , alpha is 0.242178108115\n",
        "Shape of Z:"
       ]
      },
      {
       "output_type": "stream",
       "stream": "stdout",
       "text": [
        " (100, 5)\n",
        "At iteration 184 : Kplus is 1 , alpha is 0.104855033222\n",
        "Shape of Z:"
       ]
      },
      {
       "output_type": "stream",
       "stream": "stdout",
       "text": [
        " (100, 5)\n",
        "At iteration 185 : Kplus is 1 , alpha is 0.356462086117\n",
        "Shape of Z:"
       ]
      },
      {
       "output_type": "stream",
       "stream": "stdout",
       "text": [
        " (100, 5)\n",
        "At iteration 186 : Kplus is 1 , alpha is 0.0353380541892\n",
        "Shape of Z:"
       ]
      },
      {
       "output_type": "stream",
       "stream": "stdout",
       "text": [
        " (100, 5)\n",
        "At iteration 187 : Kplus is 1 , alpha is 0.450607957376\n",
        "Shape of Z:"
       ]
      },
      {
       "output_type": "stream",
       "stream": "stdout",
       "text": [
        " (100, 5)\n",
        "At iteration 188 : Kplus is 1 , alpha is 0.167501898717\n",
        "Shape of Z:"
       ]
      },
      {
       "output_type": "stream",
       "stream": "stdout",
       "text": [
        " (100, 5)\n",
        "At iteration 189 : Kplus is 1 , alpha is 0.0520035863377\n",
        "Shape of Z:"
       ]
      },
      {
       "output_type": "stream",
       "stream": "stdout",
       "text": [
        " (100, 5)\n",
        "At iteration 190 : Kplus is 1 , alpha is 0.234975798109\n",
        "Shape of Z:"
       ]
      },
      {
       "output_type": "stream",
       "stream": "stdout",
       "text": [
        " (100, 5)\n",
        "At iteration 191 : Kplus is 1 , alpha is 0.832110400677\n",
        "Shape of Z:"
       ]
      },
      {
       "output_type": "stream",
       "stream": "stdout",
       "text": [
        " (100, 5)\n",
        "At iteration 192 : Kplus is 1 , alpha is 0.299107968573\n",
        "Shape of Z:"
       ]
      },
      {
       "output_type": "stream",
       "stream": "stdout",
       "text": [
        " (100, 5)\n",
        "At iteration 193 : Kplus is 1 , alpha is 0.451216638672\n",
        "Shape of Z:"
       ]
      },
      {
       "output_type": "stream",
       "stream": "stdout",
       "text": [
        " (100, 5)\n",
        "At iteration 194 : Kplus is 1 , alpha is 0.166562177234\n",
        "Shape of Z:"
       ]
      },
      {
       "output_type": "stream",
       "stream": "stdout",
       "text": [
        " (100, 5)\n",
        "At iteration 195 : Kplus is 1 , alpha is 0.446775159555\n",
        "Shape of Z:"
       ]
      },
      {
       "output_type": "stream",
       "stream": "stdout",
       "text": [
        " (100, 5)\n",
        "At iteration 196 : Kplus is 1 , alpha is 0.105399766478\n",
        "Shape of Z:"
       ]
      },
      {
       "output_type": "stream",
       "stream": "stdout",
       "text": [
        " (100, 5)\n",
        "At iteration 197 : Kplus is 1 , alpha is 0.18577360353\n",
        "Shape of Z:"
       ]
      },
      {
       "output_type": "stream",
       "stream": "stdout",
       "text": [
        " (100, 5)\n",
        "At iteration 198 : Kplus is 1 , alpha is 0.274392448208\n",
        "Shape of Z:"
       ]
      },
      {
       "output_type": "stream",
       "stream": "stdout",
       "text": [
        " (100, 5)\n",
        "At iteration 199 : Kplus is 1 , alpha is 0.174059949772\n",
        "Shape of Z:"
       ]
      },
      {
       "output_type": "stream",
       "stream": "stdout",
       "text": [
        " (100, 5)\n",
        "At iteration 200 : Kplus is 1 , alpha is 0.244499645529\n",
        "Shape of Z:"
       ]
      },
      {
       "output_type": "stream",
       "stream": "stdout",
       "text": [
        " (100, 5)\n",
        "At iteration 201 : Kplus is 1 , alpha is 0.555292001457\n",
        "Shape of Z:"
       ]
      },
      {
       "output_type": "stream",
       "stream": "stdout",
       "text": [
        " (100, 5)\n",
        "At iteration 202 : Kplus is 1 , alpha is 0.179171013683\n",
        "Shape of Z:"
       ]
      },
      {
       "output_type": "stream",
       "stream": "stdout",
       "text": [
        " (100, 5)\n",
        "At iteration 203 : Kplus is 1 , alpha is 0.490191329105\n",
        "Shape of Z:"
       ]
      },
      {
       "output_type": "stream",
       "stream": "stdout",
       "text": [
        " (100, 5)\n",
        "At iteration 204 : Kplus is 1 , alpha is 0.399866329855\n",
        "Shape of Z:"
       ]
      },
      {
       "output_type": "stream",
       "stream": "stdout",
       "text": [
        " (100, 5)\n",
        "At iteration 205 : Kplus is 1 , alpha is 0.0949213150491\n",
        "Shape of Z:"
       ]
      },
      {
       "output_type": "stream",
       "stream": "stdout",
       "text": [
        " (100, 5)\n",
        "At iteration 206 : Kplus is 1 , alpha is 0.46791173998\n",
        "Shape of Z:"
       ]
      },
      {
       "output_type": "stream",
       "stream": "stdout",
       "text": [
        " (100, 5)\n",
        "At iteration 207 : Kplus is 1 , alpha is 0.348767429711\n",
        "Shape of Z:"
       ]
      },
      {
       "output_type": "stream",
       "stream": "stdout",
       "text": [
        " (100, 5)\n",
        "At iteration 208 : Kplus is 1 , alpha is 0.787317352488\n",
        "Shape of Z:"
       ]
      },
      {
       "output_type": "stream",
       "stream": "stdout",
       "text": [
        " (100, 5)\n",
        "At iteration 209 : Kplus is 1 , alpha is 0.0499729800975\n",
        "Shape of Z:"
       ]
      },
      {
       "output_type": "stream",
       "stream": "stdout",
       "text": [
        " (100, 5)\n",
        "At iteration 210 : Kplus is 1 , alpha is 0.67584212187\n",
        "Shape of Z:"
       ]
      },
      {
       "output_type": "stream",
       "stream": "stdout",
       "text": [
        " (100, 5)\n",
        "At iteration 211 : Kplus is 1 , alpha is 0.273572031848\n",
        "Shape of Z:"
       ]
      },
      {
       "output_type": "stream",
       "stream": "stdout",
       "text": [
        " (100, 5)\n",
        "At iteration 212 : Kplus is 1 , alpha is 0.430646780407\n",
        "Shape of Z:"
       ]
      },
      {
       "output_type": "stream",
       "stream": "stdout",
       "text": [
        " (100, 5)\n",
        "At iteration 213 : Kplus is 1 , alpha is 0.236183401034\n",
        "Shape of Z:"
       ]
      },
      {
       "output_type": "stream",
       "stream": "stdout",
       "text": [
        " (100, 5)\n",
        "At iteration 214 : Kplus is 1 , alpha is 0.271930548101\n",
        "Shape of Z:"
       ]
      },
      {
       "output_type": "stream",
       "stream": "stdout",
       "text": [
        " (100, 5)\n",
        "At iteration 215 : Kplus is 1 , alpha is 0.289887168342\n",
        "Shape of Z:"
       ]
      },
      {
       "output_type": "stream",
       "stream": "stdout",
       "text": [
        " (100, 5)\n",
        "At iteration 216 : Kplus is 1 , alpha is 0.129513663213\n",
        "Shape of Z:"
       ]
      },
      {
       "output_type": "stream",
       "stream": "stdout",
       "text": [
        " (100, 5)\n",
        "At iteration 217 : Kplus is 1 , alpha is 0.271625147701\n",
        "Shape of Z:"
       ]
      },
      {
       "output_type": "stream",
       "stream": "stdout",
       "text": [
        " (100, 5)\n",
        "At iteration 218 : Kplus is 1 , alpha is 0.772462082165\n",
        "Shape of Z:"
       ]
      },
      {
       "output_type": "stream",
       "stream": "stdout",
       "text": [
        " (100, 5)\n",
        "At iteration 219 : Kplus is 1 , alpha is 0.0367435239426\n",
        "Shape of Z:"
       ]
      },
      {
       "output_type": "stream",
       "stream": "stdout",
       "text": [
        " (100, 5)\n",
        "At iteration 220 : Kplus is 1 , alpha is 0.727265843425\n",
        "Shape of Z:"
       ]
      },
      {
       "output_type": "stream",
       "stream": "stdout",
       "text": [
        " (100, 5)\n",
        "At iteration 221 : Kplus is 1 , alpha is 0.376783391417\n",
        "Shape of Z:"
       ]
      },
      {
       "output_type": "stream",
       "stream": "stdout",
       "text": [
        " (100, 5)\n",
        "At iteration 222 : Kplus is 1 , alpha is 0.196174593196\n",
        "Shape of Z:"
       ]
      },
      {
       "output_type": "stream",
       "stream": "stdout",
       "text": [
        " (100, 5)\n",
        "At iteration 223 : Kplus is 1 , alpha is 0.0196196077675\n",
        "Shape of Z:"
       ]
      },
      {
       "output_type": "stream",
       "stream": "stdout",
       "text": [
        " (100, 5)\n",
        "At iteration 224 : Kplus is 1 , alpha is 0.0706653003774\n",
        "Shape of Z:"
       ]
      },
      {
       "output_type": "stream",
       "stream": "stdout",
       "text": [
        " (100, 5)\n",
        "At iteration 225 : Kplus is 1 , alpha is 0.277946085618\n",
        "Shape of Z:"
       ]
      },
      {
       "output_type": "stream",
       "stream": "stdout",
       "text": [
        " (100, 5)\n",
        "At iteration 226 : Kplus is 1 , alpha is 0.0551755206418\n",
        "Shape of Z:"
       ]
      },
      {
       "output_type": "stream",
       "stream": "stdout",
       "text": [
        " (100, 5)\n",
        "At iteration 227 : Kplus is 1 , alpha is 0.275816581508\n",
        "Shape of Z:"
       ]
      },
      {
       "output_type": "stream",
       "stream": "stdout",
       "text": [
        " (100, 5)\n",
        "At iteration 228 : Kplus is 1 , alpha is 0.245691526488\n",
        "Shape of Z:"
       ]
      },
      {
       "output_type": "stream",
       "stream": "stdout",
       "text": [
        " (100, 5)\n",
        "At iteration 229 : Kplus is 1 , alpha is 0.320314820395\n",
        "Shape of Z:"
       ]
      },
      {
       "output_type": "stream",
       "stream": "stdout",
       "text": [
        " (100, 5)\n",
        "At iteration 230 : Kplus is 1 , alpha is 0.0998411863057\n",
        "Shape of Z:"
       ]
      },
      {
       "output_type": "stream",
       "stream": "stdout",
       "text": [
        " (100, 5)\n",
        "At iteration 231 : Kplus is 1 , alpha is 0.0600406581494\n",
        "Shape of Z:"
       ]
      },
      {
       "output_type": "stream",
       "stream": "stdout",
       "text": [
        " (100, 5)\n",
        "At iteration 232 : Kplus is 1 , alpha is 0.510377065909\n",
        "Shape of Z:"
       ]
      },
      {
       "output_type": "stream",
       "stream": "stdout",
       "text": [
        " (100, 5)\n",
        "At iteration 233 : Kplus is 1 , alpha is 0.216405294781\n",
        "Shape of Z:"
       ]
      },
      {
       "output_type": "stream",
       "stream": "stdout",
       "text": [
        " (100, 5)\n",
        "At iteration 234 : Kplus is 1 , alpha is 0.341838512451\n",
        "Shape of Z:"
       ]
      },
      {
       "output_type": "stream",
       "stream": "stdout",
       "text": [
        " (100, 5)\n",
        "At iteration 235 : Kplus is 1 , alpha is 0.058639549388\n",
        "Shape of Z:"
       ]
      },
      {
       "output_type": "stream",
       "stream": "stdout",
       "text": [
        " (100, 5)\n",
        "At iteration 236 : Kplus is 1 , alpha is 0.158900731875\n",
        "Shape of Z:"
       ]
      },
      {
       "output_type": "stream",
       "stream": "stdout",
       "text": [
        " (100, 5)\n",
        "At iteration 237 : Kplus is 1 , alpha is 0.0941886139495\n",
        "Shape of Z:"
       ]
      },
      {
       "output_type": "stream",
       "stream": "stdout",
       "text": [
        " (100, 5)\n",
        "At iteration 238 : Kplus is 1 , alpha is 0.585689906758\n",
        "Shape of Z:"
       ]
      },
      {
       "output_type": "stream",
       "stream": "stdout",
       "text": [
        " (100, 5)\n",
        "At iteration 239 : Kplus is 1 , alpha is 0.187555419004\n",
        "Shape of Z:"
       ]
      },
      {
       "output_type": "stream",
       "stream": "stdout",
       "text": [
        " (100, 5)\n",
        "At iteration 240 : Kplus is 1 , alpha is 0.475768650629\n",
        "Shape of Z:"
       ]
      },
      {
       "output_type": "stream",
       "stream": "stdout",
       "text": [
        " (100, 5)\n",
        "At iteration 241 : Kplus is 1 , alpha is 0.139210621494\n",
        "Shape of Z:"
       ]
      },
      {
       "output_type": "stream",
       "stream": "stdout",
       "text": [
        " (100, 5)\n",
        "At iteration 242 : Kplus is 1 , alpha is 0.550830184851\n",
        "Shape of Z:"
       ]
      },
      {
       "output_type": "stream",
       "stream": "stdout",
       "text": [
        " (100, 5)\n",
        "At iteration 243 : Kplus is 1 , alpha is 0.179953234364\n",
        "Shape of Z:"
       ]
      },
      {
       "output_type": "stream",
       "stream": "stdout",
       "text": [
        " (100, 5)\n",
        "At iteration 244 : Kplus is 1 , alpha is 0.0856518003669\n",
        "Shape of Z:"
       ]
      },
      {
       "output_type": "stream",
       "stream": "stdout",
       "text": [
        " (100, 5)\n",
        "At iteration 245 : Kplus is 1 , alpha is 0.402548670019\n",
        "Shape of Z:"
       ]
      },
      {
       "output_type": "stream",
       "stream": "stdout",
       "text": [
        " (100, 5)\n",
        "At iteration 246 : Kplus is 1 , alpha is 0.580557849597\n",
        "Shape of Z:"
       ]
      },
      {
       "output_type": "stream",
       "stream": "stdout",
       "text": [
        " (100, 5)\n",
        "At iteration 247 : Kplus is 1 , alpha is 1.16607209248\n",
        "Shape of Z:"
       ]
      },
      {
       "output_type": "stream",
       "stream": "stdout",
       "text": [
        " (100, 5)\n",
        "At iteration 248 : Kplus is 1 , alpha is 0.257358806935\n",
        "Shape of Z:"
       ]
      },
      {
       "output_type": "stream",
       "stream": "stdout",
       "text": [
        " (100, 5)\n",
        "At iteration 249 : Kplus is 1 , alpha is 0.190122301462\n",
        "Shape of Z:"
       ]
      },
      {
       "output_type": "stream",
       "stream": "stdout",
       "text": [
        " (100, 5)\n",
        "At iteration 250 : Kplus is 1 , alpha is 0.156035389643\n",
        "Shape of Z:"
       ]
      },
      {
       "output_type": "stream",
       "stream": "stdout",
       "text": [
        " (100, 5)\n",
        "At iteration 251 : Kplus is 1 , alpha is 0.414313236858\n",
        "Shape of Z:"
       ]
      },
      {
       "output_type": "stream",
       "stream": "stdout",
       "text": [
        " (100, 5)\n",
        "At iteration 252 : Kplus is 1 , alpha is 0.0767967607005\n",
        "Shape of Z:"
       ]
      },
      {
       "output_type": "stream",
       "stream": "stdout",
       "text": [
        " (100, 5)\n",
        "At iteration 253 : Kplus is 1 , alpha is 0.907359441842\n",
        "Shape of Z:"
       ]
      },
      {
       "output_type": "stream",
       "stream": "stdout",
       "text": [
        " (100, 5)\n",
        "At iteration 254 : Kplus is 1 , alpha is 0.262225353721\n",
        "Shape of Z:"
       ]
      },
      {
       "output_type": "stream",
       "stream": "stdout",
       "text": [
        " (100, 5)\n",
        "At iteration 255 : Kplus is 1 , alpha is 0.502764382484\n",
        "Shape of Z:"
       ]
      },
      {
       "output_type": "stream",
       "stream": "stdout",
       "text": [
        " (100, 5)\n",
        "At iteration 256 : Kplus is 1 , alpha is 0.611970265653\n",
        "Shape of Z:"
       ]
      },
      {
       "output_type": "stream",
       "stream": "stdout",
       "text": [
        " (100, 5)\n",
        "At iteration 257 : Kplus is 1 , alpha is 0.0231413576989\n",
        "Shape of Z:"
       ]
      },
      {
       "output_type": "stream",
       "stream": "stdout",
       "text": [
        " (100, 5)\n",
        "At iteration 258 : Kplus is 1 , alpha is 0.334925743392\n",
        "Shape of Z:"
       ]
      },
      {
       "output_type": "stream",
       "stream": "stdout",
       "text": [
        " (100, 5)\n",
        "At iteration 259 : Kplus is 1 , alpha is 0.444548310738\n",
        "Shape of Z:"
       ]
      },
      {
       "output_type": "stream",
       "stream": "stdout",
       "text": [
        " (100, 5)\n",
        "At iteration 260 : Kplus is 1 , alpha is 0.200701687794\n",
        "Shape of Z:"
       ]
      },
      {
       "output_type": "stream",
       "stream": "stdout",
       "text": [
        " (100, 5)\n",
        "At iteration 261 : Kplus is 1 , alpha is 0.475557269958\n",
        "Shape of Z:"
       ]
      },
      {
       "output_type": "stream",
       "stream": "stdout",
       "text": [
        " (100, 5)\n",
        "At iteration 262 : Kplus is 1 , alpha is 0.821037784893\n",
        "Shape of Z:"
       ]
      },
      {
       "output_type": "stream",
       "stream": "stdout",
       "text": [
        " (100, 5)\n",
        "At iteration 263 : Kplus is 1 , alpha is 0.311734445358\n",
        "Shape of Z:"
       ]
      },
      {
       "output_type": "stream",
       "stream": "stdout",
       "text": [
        " (100, 5)\n",
        "At iteration 264 : Kplus is 1 , alpha is 0.24789953497\n",
        "Shape of Z:"
       ]
      },
      {
       "output_type": "stream",
       "stream": "stdout",
       "text": [
        " (100, 5)\n",
        "At iteration 265 : Kplus is 1 , alpha is 0.249479383178\n",
        "Shape of Z:"
       ]
      },
      {
       "output_type": "stream",
       "stream": "stdout",
       "text": [
        " (100, 5)\n",
        "At iteration 266 : Kplus is 1 , alpha is 0.106850979569\n",
        "Shape of Z:"
       ]
      },
      {
       "output_type": "stream",
       "stream": "stdout",
       "text": [
        " (100, 5)\n",
        "At iteration 267 : Kplus is 1 , alpha is 0.148677354896\n",
        "Shape of Z:"
       ]
      },
      {
       "output_type": "stream",
       "stream": "stdout",
       "text": [
        " (100, 5)\n",
        "At iteration 268 : Kplus is 1 , alpha is 0.210841375174\n",
        "Shape of Z:"
       ]
      },
      {
       "output_type": "stream",
       "stream": "stdout",
       "text": [
        " (100, 5)\n",
        "At iteration 269 : Kplus is 1 , alpha is 0.0513322894033\n",
        "Shape of Z:"
       ]
      },
      {
       "output_type": "stream",
       "stream": "stdout",
       "text": [
        " (100, 5)\n",
        "At iteration 270 : Kplus is 1 , alpha is 0.192825700744\n",
        "Shape of Z:"
       ]
      },
      {
       "output_type": "stream",
       "stream": "stdout",
       "text": [
        " (100, 5)\n",
        "At iteration 271 : Kplus is 1 , alpha is 0.186417594148\n",
        "Shape of Z:"
       ]
      },
      {
       "output_type": "stream",
       "stream": "stdout",
       "text": [
        " (100, 5)\n",
        "At iteration 272 : Kplus is 1 , alpha is 0.190685002464\n",
        "Shape of Z:"
       ]
      },
      {
       "output_type": "stream",
       "stream": "stdout",
       "text": [
        " (100, 5)\n",
        "At iteration 273 : Kplus is 1 , alpha is 0.194935168372\n",
        "Shape of Z:"
       ]
      },
      {
       "output_type": "stream",
       "stream": "stdout",
       "text": [
        " (100, 5)\n",
        "At iteration 274 : Kplus is 1 , alpha is 0.545855845747\n",
        "Shape of Z:"
       ]
      },
      {
       "output_type": "stream",
       "stream": "stdout",
       "text": [
        " (100, 5)\n",
        "At iteration 275 : Kplus is 1 , alpha is 0.109019674024\n",
        "Shape of Z:"
       ]
      },
      {
       "output_type": "stream",
       "stream": "stdout",
       "text": [
        " (100, 5)\n",
        "At iteration 276 : Kplus is 1 , alpha is 0.116317888556\n",
        "Shape of Z:"
       ]
      },
      {
       "output_type": "stream",
       "stream": "stdout",
       "text": [
        " (100, 5)\n",
        "At iteration 277 : Kplus is 1 , alpha is 0.825862841649\n",
        "Shape of Z:"
       ]
      },
      {
       "output_type": "stream",
       "stream": "stdout",
       "text": [
        " (100, 5)\n",
        "At iteration 278 : Kplus is 1 , alpha is 0.435859451448\n",
        "Shape of Z:"
       ]
      },
      {
       "output_type": "stream",
       "stream": "stdout",
       "text": [
        " (100, 5)\n",
        "At iteration 279 : Kplus is 1 , alpha is 0.372656223478\n",
        "Shape of Z:"
       ]
      },
      {
       "output_type": "stream",
       "stream": "stdout",
       "text": [
        " (100, 5)\n",
        "At iteration 280 : Kplus is 1 , alpha is 0.542981614684\n",
        "Shape of Z:"
       ]
      },
      {
       "output_type": "stream",
       "stream": "stdout",
       "text": [
        " (100, 5)\n",
        "At iteration 281 : Kplus is 1 , alpha is 0.389983310763\n",
        "Shape of Z:"
       ]
      },
      {
       "output_type": "stream",
       "stream": "stdout",
       "text": [
        " (100, 5)\n",
        "At iteration 282 : Kplus is 1 , alpha is 0.93911613002\n",
        "Shape of Z:"
       ]
      },
      {
       "output_type": "stream",
       "stream": "stdout",
       "text": [
        " (100, 5)\n",
        "At iteration 283 : Kplus is 1 , alpha is 0.181431076239\n",
        "Shape of Z:"
       ]
      },
      {
       "output_type": "stream",
       "stream": "stdout",
       "text": [
        " (100, 5)\n",
        "At iteration 284 : Kplus is 1 , alpha is 0.243504463296\n",
        "Shape of Z:"
       ]
      },
      {
       "output_type": "stream",
       "stream": "stdout",
       "text": [
        " (100, 5)\n",
        "At iteration 285 : Kplus is 1 , alpha is 0.0988553824915\n",
        "Shape of Z:"
       ]
      },
      {
       "output_type": "stream",
       "stream": "stdout",
       "text": [
        " (100, 5)\n",
        "At iteration 286 : Kplus is 1 , alpha is 0.118230143923\n",
        "Shape of Z:"
       ]
      },
      {
       "output_type": "stream",
       "stream": "stdout",
       "text": [
        " (100, 5)\n",
        "At iteration 287 : Kplus is 1 , alpha is 0.0619581321442\n",
        "Shape of Z:"
       ]
      },
      {
       "output_type": "stream",
       "stream": "stdout",
       "text": [
        " (100, 5)\n",
        "At iteration 288 : Kplus is 1 , alpha is 0.0524150736387\n",
        "Shape of Z:"
       ]
      },
      {
       "output_type": "stream",
       "stream": "stdout",
       "text": [
        " (100, 5)\n",
        "At iteration 289 : Kplus is 1 , alpha is 0.0947192166525\n",
        "Shape of Z:"
       ]
      },
      {
       "output_type": "stream",
       "stream": "stdout",
       "text": [
        " (100, 5)\n",
        "At iteration 290 : Kplus is 1 , alpha is 0.232098380924\n",
        "Shape of Z:"
       ]
      },
      {
       "output_type": "stream",
       "stream": "stdout",
       "text": [
        " (100, 5)\n",
        "At iteration 291 : Kplus is 1 , alpha is 0.374134720963\n",
        "Shape of Z:"
       ]
      },
      {
       "output_type": "stream",
       "stream": "stdout",
       "text": [
        " (100, 5)\n",
        "At iteration 292 : Kplus is 1 , alpha is 0.256349496352\n",
        "Shape of Z:"
       ]
      },
      {
       "output_type": "stream",
       "stream": "stdout",
       "text": [
        " (100, 5)\n",
        "At iteration 293 : Kplus is 1 , alpha is 0.221853380008\n",
        "Shape of Z:"
       ]
      },
      {
       "output_type": "stream",
       "stream": "stdout",
       "text": [
        " (100, 5)\n",
        "At iteration 294 : Kplus is 1 , alpha is 0.494843525562\n",
        "Shape of Z:"
       ]
      },
      {
       "output_type": "stream",
       "stream": "stdout",
       "text": [
        " (100, 5)\n",
        "At iteration 295 : Kplus is 1 , alpha is 0.277106633012\n",
        "Shape of Z:"
       ]
      },
      {
       "output_type": "stream",
       "stream": "stdout",
       "text": [
        " (100, 5)\n",
        "At iteration 296 : Kplus is 1 , alpha is 0.527633325927\n",
        "Shape of Z:"
       ]
      },
      {
       "output_type": "stream",
       "stream": "stdout",
       "text": [
        " (100, 5)\n",
        "At iteration 297 : Kplus is 1 , alpha is 0.0771275062822\n",
        "Shape of Z:"
       ]
      },
      {
       "output_type": "stream",
       "stream": "stdout",
       "text": [
        " (100, 5)\n",
        "At iteration 298 : Kplus is 1 , alpha is 0.301152229668\n",
        "Shape of Z:"
       ]
      },
      {
       "output_type": "stream",
       "stream": "stdout",
       "text": [
        " (100, 5)\n",
        "At iteration 299 : Kplus is 1 , alpha is 0.0847473962587\n",
        "Shape of Z:"
       ]
      },
      {
       "output_type": "stream",
       "stream": "stdout",
       "text": [
        " (100, 5)\n",
        "At iteration 300 : Kplus is 1 , alpha is 0.144832375379\n",
        "Shape of Z:"
       ]
      },
      {
       "output_type": "stream",
       "stream": "stdout",
       "text": [
        " (100, 5)\n",
        "At iteration 301 : Kplus is 1 , alpha is 0.1178319751\n",
        "Shape of Z:"
       ]
      },
      {
       "output_type": "stream",
       "stream": "stdout",
       "text": [
        " (100, 5)\n",
        "At iteration 302 : Kplus is 1 , alpha is 0.0515933493242\n",
        "Shape of Z:"
       ]
      },
      {
       "output_type": "stream",
       "stream": "stdout",
       "text": [
        " (100, 5)\n",
        "At iteration 303 : Kplus is 1 , alpha is 0.431731005244\n",
        "Shape of Z:"
       ]
      },
      {
       "output_type": "stream",
       "stream": "stdout",
       "text": [
        " (100, 5)\n",
        "At iteration 304 : Kplus is 1 , alpha is 0.125273510867\n",
        "Shape of Z:"
       ]
      },
      {
       "output_type": "stream",
       "stream": "stdout",
       "text": [
        " (100, 5)\n",
        "At iteration 305 : Kplus is 1 , alpha is 0.510287692982\n",
        "Shape of Z:"
       ]
      },
      {
       "output_type": "stream",
       "stream": "stdout",
       "text": [
        " (100, 5)\n",
        "At iteration 306 : Kplus is 1 , alpha is 0.066832328845\n",
        "Shape of Z:"
       ]
      },
      {
       "output_type": "stream",
       "stream": "stdout",
       "text": [
        " (100, 5)\n",
        "At iteration 307 : Kplus is 1 , alpha is 0.0981543240893\n",
        "Shape of Z:"
       ]
      },
      {
       "output_type": "stream",
       "stream": "stdout",
       "text": [
        " (100, 5)\n",
        "At iteration 308 : Kplus is 1 , alpha is 0.596557827091\n",
        "Shape of Z:"
       ]
      },
      {
       "output_type": "stream",
       "stream": "stdout",
       "text": [
        " (100, 5)\n",
        "At iteration 309 : Kplus is 1 , alpha is 0.193788421799\n",
        "Shape of Z:"
       ]
      },
      {
       "output_type": "stream",
       "stream": "stdout",
       "text": [
        " (100, 5)\n",
        "At iteration 310 : Kplus is 1 , alpha is 0.168989484754\n",
        "Shape of Z:"
       ]
      },
      {
       "output_type": "stream",
       "stream": "stdout",
       "text": [
        " (100, 5)\n",
        "At iteration 311 : Kplus is 1 , alpha is 0.0411256696397\n",
        "Shape of Z:"
       ]
      },
      {
       "output_type": "stream",
       "stream": "stdout",
       "text": [
        " (100, 5)\n",
        "At iteration 312 : Kplus is 1 , alpha is 0.0704339647192\n",
        "Shape of Z:"
       ]
      },
      {
       "output_type": "stream",
       "stream": "stdout",
       "text": [
        " (100, 5)\n",
        "At iteration 313 : Kplus is 1 , alpha is 0.156079768579\n",
        "Shape of Z:"
       ]
      },
      {
       "output_type": "stream",
       "stream": "stdout",
       "text": [
        " (100, 5)\n",
        "At iteration 314 : Kplus is 1 , alpha is 0.275425882689\n",
        "Shape of Z:"
       ]
      },
      {
       "output_type": "stream",
       "stream": "stdout",
       "text": [
        " (100, 5)\n",
        "At iteration 315 : Kplus is 1 , alpha is 0.346854112287\n",
        "Shape of Z:"
       ]
      },
      {
       "output_type": "stream",
       "stream": "stdout",
       "text": [
        " (100, 5)\n",
        "At iteration 316 : Kplus is 1 , alpha is 0.510529618473\n",
        "Shape of Z:"
       ]
      },
      {
       "output_type": "stream",
       "stream": "stdout",
       "text": [
        " (100, 5)\n",
        "At iteration 317 : Kplus is 1 , alpha is 0.0924030577585\n",
        "Shape of Z:"
       ]
      },
      {
       "output_type": "stream",
       "stream": "stdout",
       "text": [
        " (100, 5)\n",
        "At iteration 318 : Kplus is 1 , alpha is 0.252913736245\n",
        "Shape of Z:"
       ]
      },
      {
       "output_type": "stream",
       "stream": "stdout",
       "text": [
        " (100, 5)\n",
        "At iteration 319 : Kplus is 1 , alpha is 0.103788789694\n",
        "Shape of Z:"
       ]
      },
      {
       "output_type": "stream",
       "stream": "stdout",
       "text": [
        " (100, 5)\n",
        "At iteration 320 : Kplus is 1 , alpha is 0.0896076440384\n",
        "Shape of Z:"
       ]
      },
      {
       "output_type": "stream",
       "stream": "stdout",
       "text": [
        " (100, 5)\n",
        "At iteration 321 : Kplus is 1 , alpha is 0.209650825844\n",
        "Shape of Z:"
       ]
      },
      {
       "output_type": "stream",
       "stream": "stdout",
       "text": [
        " (100, 5)\n",
        "At iteration 322 : Kplus is 1 , alpha is 0.282076774169\n",
        "Shape of Z:"
       ]
      },
      {
       "output_type": "stream",
       "stream": "stdout",
       "text": [
        " (100, 5)\n",
        "At iteration 323 : Kplus is 1 , alpha is 0.0670266956377\n",
        "Shape of Z:"
       ]
      },
      {
       "output_type": "stream",
       "stream": "stdout",
       "text": [
        " (100, 5)\n",
        "At iteration 324 : Kplus is 1 , alpha is 0.575582440214\n",
        "Shape of Z:"
       ]
      },
      {
       "output_type": "stream",
       "stream": "stdout",
       "text": [
        " (100, 5)\n",
        "At iteration 325 : Kplus is 1 , alpha is 0.222870923288\n",
        "Shape of Z:"
       ]
      },
      {
       "output_type": "stream",
       "stream": "stdout",
       "text": [
        " (100, 6)\n",
        "At iteration 326 : Kplus is 2 , alpha is 1.15253334377\n",
        "Shape of Z:"
       ]
      },
      {
       "output_type": "stream",
       "stream": "stdout",
       "text": [
        " (100, 6)\n",
        "At iteration 327 : Kplus is 2 , alpha is 0.64237259848\n",
        "Shape of Z:"
       ]
      },
      {
       "output_type": "stream",
       "stream": "stdout",
       "text": [
        " (100, 6)\n",
        "At iteration 328 : Kplus is 2 , alpha is 0.396479757515\n",
        "Shape of Z:"
       ]
      },
      {
       "output_type": "stream",
       "stream": "stdout",
       "text": [
        " (100, 6)\n",
        "At iteration 329 : Kplus is 2 , alpha is 0.595104544582\n",
        "Shape of Z:"
       ]
      },
      {
       "output_type": "stream",
       "stream": "stdout",
       "text": [
        " (100, 6)\n",
        "At iteration 330 : Kplus is 2 , alpha is 0.210157070953\n",
        "Shape of Z:"
       ]
      },
      {
       "output_type": "stream",
       "stream": "stdout",
       "text": [
        " (100, 6)\n",
        "At iteration 331 : Kplus is 2 , alpha is 0.270632091655\n",
        "Shape of Z:"
       ]
      },
      {
       "output_type": "stream",
       "stream": "stdout",
       "text": [
        " (100, 6)\n",
        "At iteration 332 : Kplus is 2 , alpha is 0.249862337363\n",
        "Shape of Z:"
       ]
      },
      {
       "output_type": "stream",
       "stream": "stdout",
       "text": [
        " (100, 6)\n",
        "At iteration 333 : Kplus is 2 , alpha is 0.902509388681\n",
        "Shape of Z:"
       ]
      },
      {
       "output_type": "stream",
       "stream": "stdout",
       "text": [
        " (100, 8)\n",
        "At iteration 334 : Kplus is 4 , alpha is 0.882589478087\n",
        "Shape of Z:"
       ]
      },
      {
       "output_type": "stream",
       "stream": "stdout",
       "text": [
        " (100, 9)\n",
        "At iteration 335 : Kplus is 5 , alpha is 1.2991428481\n",
        "Shape of Z:"
       ]
      },
      {
       "output_type": "stream",
       "stream": "stdout",
       "text": [
        " (100, 8)\n",
        "At iteration 336 : Kplus is 4 , alpha is 0.384530961152\n",
        "Shape of Z:"
       ]
      },
      {
       "output_type": "stream",
       "stream": "stdout",
       "text": [
        " (100, 7)\n",
        "At iteration 337 : Kplus is 3 , alpha is 0.846397256285\n",
        "Shape of Z:"
       ]
      },
      {
       "output_type": "stream",
       "stream": "stdout",
       "text": [
        " (100, 20)\n",
        "At iteration 338 : Kplus is 16 , alpha is 2.25991087057\n",
        "Shape of Z:"
       ]
      },
      {
       "output_type": "stream",
       "stream": "stdout",
       "text": [
        " (100, 34)\n",
        "At iteration 339 : Kplus is 30 , alpha is 6.76706274965\n",
        "Shape of Z:"
       ]
      },
      {
       "output_type": "stream",
       "stream": "stdout",
       "text": [
        " (100, 37)\n",
        "At iteration 340 : Kplus is 33 , alpha is 5.73835789886\n",
        "Shape of Z:"
       ]
      },
      {
       "output_type": "stream",
       "stream": "stdout",
       "text": [
        " (100, 29)\n",
        "At iteration 341 : Kplus is 25 , alpha is 3.59776730713\n",
        "Shape of Z:"
       ]
      },
      {
       "output_type": "stream",
       "stream": "stdout",
       "text": [
        " (100, 33)\n",
        "At iteration 342 : Kplus is 29 , alpha is 3.4429762663\n",
        "Shape of Z:"
       ]
      },
      {
       "output_type": "stream",
       "stream": "stdout",
       "text": [
        " (100, 26)\n",
        "At iteration 343 : Kplus is 22 , alpha is 3.24176235025\n",
        "Shape of Z:"
       ]
      },
      {
       "output_type": "stream",
       "stream": "stdout",
       "text": [
        " (100, 14)\n",
        "At iteration 344 : Kplus is 10 , alpha is 1.33702269767\n",
        "Shape of Z:"
       ]
      },
      {
       "output_type": "stream",
       "stream": "stdout",
       "text": [
        " (100, 10)\n",
        "At iteration 345 : Kplus is 6 , alpha is 0.856214245331\n",
        "Shape of Z:"
       ]
      },
      {
       "output_type": "stream",
       "stream": "stdout",
       "text": [
        " (100, 10)\n",
        "At iteration 346 : Kplus is 6 , alpha is 1.21265594771\n",
        "Shape of Z:"
       ]
      },
      {
       "output_type": "stream",
       "stream": "stdout",
       "text": [
        " (100, 7)\n",
        "At iteration 347 : Kplus is 3 , alpha is 0.12719755723\n",
        "Shape of Z:"
       ]
      },
      {
       "output_type": "stream",
       "stream": "stdout",
       "text": [
        " (100, 6)\n",
        "At iteration 348 : Kplus is 2 , alpha is 0.527458173589\n",
        "Shape of Z:"
       ]
      },
      {
       "output_type": "stream",
       "stream": "stdout",
       "text": [
        " (100, 6)\n",
        "At iteration 349 : Kplus is 2 , alpha is 0.421231278745\n",
        "Shape of Z:"
       ]
      },
      {
       "output_type": "stream",
       "stream": "stdout",
       "text": [
        " (100, 6)\n",
        "At iteration 350 : Kplus is 2 , alpha is 0.961778287518\n",
        "Shape of Z:"
       ]
      },
      {
       "output_type": "stream",
       "stream": "stdout",
       "text": [
        " (100, 6)\n",
        "At iteration 351 : Kplus is 2 , alpha is 0.103452219802\n",
        "Shape of Z:"
       ]
      },
      {
       "output_type": "stream",
       "stream": "stdout",
       "text": [
        " (100, 6)\n",
        "At iteration 352 : Kplus is 2 , alpha is 0.277694216577\n",
        "Shape of Z:"
       ]
      },
      {
       "output_type": "stream",
       "stream": "stdout",
       "text": [
        " (100, 6)\n",
        "At iteration 353 : Kplus is 2 , alpha is 0.480780479967\n",
        "Shape of Z:"
       ]
      },
      {
       "output_type": "stream",
       "stream": "stdout",
       "text": [
        " (100, 7)\n",
        "At iteration 354 : Kplus is 3 , alpha is 1.09987368271\n",
        "Shape of Z:"
       ]
      },
      {
       "output_type": "stream",
       "stream": "stdout",
       "text": [
        " (100, 32)\n",
        "At iteration 355 : Kplus is 28 , alpha is 4.62687181615\n",
        "Shape of Z:"
       ]
      },
      {
       "output_type": "stream",
       "stream": "stdout",
       "text": [
        " (100, 51)\n",
        "At iteration 356 : Kplus is 47 , alpha is 9.06336123684\n",
        "Shape of Z:"
       ]
      },
      {
       "output_type": "stream",
       "stream": "stdout",
       "text": [
        " (100, 51)\n",
        "At iteration 357 : Kplus is 47 , alpha is 8.12360930361\n",
        "Shape of Z:"
       ]
      },
      {
       "output_type": "stream",
       "stream": "stdout",
       "text": [
        " (100, 31)\n",
        "At iteration 358 : Kplus is 27 , alpha is 3.44429231568\n",
        "Shape of Z:"
       ]
      },
      {
       "output_type": "stream",
       "stream": "stdout",
       "text": [
        " (100, 28)\n",
        "At iteration 359 : Kplus is 24 , alpha is 3.37943381421\n",
        "Shape of Z:"
       ]
      },
      {
       "output_type": "stream",
       "stream": "stdout",
       "text": [
        " (100, 46)\n",
        "At iteration 360 : Kplus is 42 , alpha is 6.67530024922\n",
        "Shape of Z:"
       ]
      },
      {
       "output_type": "stream",
       "stream": "stdout",
       "text": [
        " (100, 43)\n",
        "At iteration 361 : Kplus is 39 , alpha is 6.75939295447\n",
        "Shape of Z:"
       ]
      },
      {
       "output_type": "stream",
       "stream": "stdout",
       "text": [
        " (100, 29)\n",
        "At iteration 362 : Kplus is 25 , alpha is 2.94984887054\n",
        "Shape of Z:"
       ]
      },
      {
       "output_type": "stream",
       "stream": "stdout",
       "text": [
        " (100, 25)\n",
        "At iteration 363 : Kplus is 21 , alpha is 2.92192222361\n",
        "Shape of Z:"
       ]
      },
      {
       "output_type": "stream",
       "stream": "stdout",
       "text": [
        " (100, 22)\n",
        "At iteration 364 : Kplus is 18 , alpha is 3.62011004052\n",
        "Shape of Z:"
       ]
      },
      {
       "output_type": "stream",
       "stream": "stdout",
       "text": [
        " (100, 21)\n",
        "At iteration 365 : Kplus is 17 , alpha is 3.01215769554\n",
        "Shape of Z:"
       ]
      },
      {
       "output_type": "stream",
       "stream": "stdout",
       "text": [
        " (100, 21)\n",
        "At iteration 366 : Kplus is 17 , alpha is 3.2901692765\n",
        "Shape of Z:"
       ]
      },
      {
       "output_type": "stream",
       "stream": "stdout",
       "text": [
        " (100, 25)\n",
        "At iteration 367 : Kplus is 21 , alpha is 3.14320330207\n",
        "Shape of Z:"
       ]
      },
      {
       "output_type": "stream",
       "stream": "stdout",
       "text": [
        " (100, 22)\n",
        "At iteration 368 : Kplus is 18 , alpha is 3.05842205173\n",
        "Shape of Z:"
       ]
      },
      {
       "output_type": "stream",
       "stream": "stdout",
       "text": [
        " (100, 26)\n",
        "At iteration 369 : Kplus is 22 , alpha is 4.31863622391\n",
        "Shape of Z:"
       ]
      },
      {
       "output_type": "stream",
       "stream": "stdout",
       "text": [
        " (100, 42)\n",
        "At iteration 370 : Kplus is 38 , alpha is 7.65428906835\n",
        "Shape of Z:"
       ]
      },
      {
       "output_type": "stream",
       "stream": "stdout",
       "text": [
        " (100, 43)\n",
        "At iteration 371 : Kplus is 39 , alpha is 7.29548944027\n",
        "Shape of Z:"
       ]
      },
      {
       "output_type": "stream",
       "stream": "stdout",
       "text": [
        " (100, 37)\n",
        "At iteration 372 : Kplus is 33 , alpha is 6.73221777051\n",
        "Shape of Z:"
       ]
      },
      {
       "output_type": "stream",
       "stream": "stdout",
       "text": [
        " (100, 40)\n",
        "At iteration 373 : Kplus is 36 , alpha is 5.72903884442\n",
        "Shape of Z:"
       ]
      },
      {
       "output_type": "stream",
       "stream": "stdout",
       "text": [
        " (100, 38)\n",
        "At iteration 374 : Kplus is 34 , alpha is 6.26134064812\n",
        "Shape of Z:"
       ]
      },
      {
       "output_type": "stream",
       "stream": "stdout",
       "text": [
        " (100, 37)\n",
        "At iteration 375 : Kplus is 33 , alpha is 7.41503019933\n",
        "Shape of Z:"
       ]
      },
      {
       "output_type": "stream",
       "stream": "stdout",
       "text": [
        " (100, 28)\n",
        "At iteration 376 : Kplus is 24 , alpha is 4.0841966727\n",
        "Shape of Z:"
       ]
      },
      {
       "output_type": "stream",
       "stream": "stdout",
       "text": [
        " (100, 22)\n",
        "At iteration 377 : Kplus is 18 , alpha is 3.40807630593\n",
        "Shape of Z:"
       ]
      },
      {
       "output_type": "stream",
       "stream": "stdout",
       "text": [
        " (100, 27)\n",
        "At iteration 378 : Kplus is 23 , alpha is 4.82763333916\n",
        "Shape of Z:"
       ]
      },
      {
       "output_type": "stream",
       "stream": "stdout",
       "text": [
        " (100, 27)\n",
        "At iteration 379 : Kplus is 23 , alpha is 2.32316580381\n",
        "Shape of Z:"
       ]
      },
      {
       "output_type": "stream",
       "stream": "stdout",
       "text": [
        " (100, 27)\n",
        "At iteration 380 : Kplus is 23 , alpha is 4.05239381872\n",
        "Shape of Z:"
       ]
      },
      {
       "output_type": "stream",
       "stream": "stdout",
       "text": [
        " (100, 27)\n",
        "At iteration 381 : Kplus is 23 , alpha is 4.60387208315\n",
        "Shape of Z:"
       ]
      },
      {
       "output_type": "stream",
       "stream": "stdout",
       "text": [
        " (100, 30)\n",
        "At iteration 382 : Kplus is 26 , alpha is 4.79367922012\n",
        "Shape of Z:"
       ]
      },
      {
       "output_type": "stream",
       "stream": "stdout",
       "text": [
        " (100, 34)\n",
        "At iteration 383 : Kplus is 30 , alpha is 4.74305520152\n",
        "Shape of Z:"
       ]
      },
      {
       "output_type": "stream",
       "stream": "stdout",
       "text": [
        " (100, 31)\n",
        "At iteration 384 : Kplus is 27 , alpha is 5.42206945464\n",
        "Shape of Z:"
       ]
      },
      {
       "output_type": "stream",
       "stream": "stdout",
       "text": [
        " (100, 34)\n",
        "At iteration 385 : Kplus is 30 , alpha is 5.55324387093\n",
        "Shape of Z:"
       ]
      },
      {
       "output_type": "stream",
       "stream": "stdout",
       "text": [
        " (100, 36)\n",
        "At iteration 386 : Kplus is 32 , alpha is 4.30227371935\n",
        "Shape of Z:"
       ]
      },
      {
       "output_type": "stream",
       "stream": "stdout",
       "text": [
        " (100, 39)\n",
        "At iteration 387 : Kplus is 35 , alpha is 8.05602357627\n",
        "Shape of Z:"
       ]
      },
      {
       "output_type": "stream",
       "stream": "stdout",
       "text": [
        " (100, 56)\n",
        "At iteration 388 : Kplus is 52 , alpha is 8.22893265332\n",
        "Shape of Z:"
       ]
      },
      {
       "output_type": "stream",
       "stream": "stdout",
       "text": [
        " (100, 46)\n",
        "At iteration 389 : Kplus is 42 , alpha is 7.36373192383\n",
        "Shape of Z:"
       ]
      },
      {
       "output_type": "stream",
       "stream": "stdout",
       "text": [
        " (100, 42)\n",
        "At iteration 390 : Kplus is 38 , alpha is 7.15250700323\n",
        "Shape of Z:"
       ]
      },
      {
       "output_type": "stream",
       "stream": "stdout",
       "text": [
        " (100, 36)\n",
        "At iteration 391 : Kplus is 32 , alpha is 5.22681879993\n",
        "Shape of Z:"
       ]
      },
      {
       "output_type": "stream",
       "stream": "stdout",
       "text": [
        " (100, 48)\n",
        "At iteration 392 : Kplus is 44 , alpha is 6.35918255235\n",
        "Shape of Z:"
       ]
      },
      {
       "output_type": "stream",
       "stream": "stdout",
       "text": [
        " (100, 46)\n",
        "At iteration 393 : Kplus is 42 , alpha is 7.17713988717\n",
        "Shape of Z:"
       ]
      },
      {
       "output_type": "stream",
       "stream": "stdout",
       "text": [
        " (100, 35)\n",
        "At iteration 394 : Kplus is 31 , alpha is 5.05873250673\n",
        "Shape of Z:"
       ]
      },
      {
       "output_type": "stream",
       "stream": "stdout",
       "text": [
        " (100, 27)\n",
        "At iteration 395 : Kplus is 23 , alpha is 4.66317795639\n",
        "Shape of Z:"
       ]
      },
      {
       "output_type": "stream",
       "stream": "stdout",
       "text": [
        " (100, 28)\n",
        "At iteration 396 : Kplus is 24 , alpha is 3.49152458013\n",
        "Shape of Z:"
       ]
      },
      {
       "output_type": "stream",
       "stream": "stdout",
       "text": [
        " (100, 35)\n",
        "At iteration 397 : Kplus is 32 , alpha is 4.72713582737\n",
        "Shape of Z:"
       ]
      },
      {
       "output_type": "stream",
       "stream": "stdout",
       "text": [
        " (100, 40)\n",
        "At iteration 398 : Kplus is 36 , alpha is 4.91186555039\n",
        "Shape of Z:"
       ]
      },
      {
       "output_type": "stream",
       "stream": "stdout",
       "text": [
        " (100, 46)\n",
        "At iteration 399 : Kplus is 42 , alpha is 5.88734635574\n",
        "Shape of Z:"
       ]
      },
      {
       "output_type": "stream",
       "stream": "stdout",
       "text": [
        " (100, 42)\n",
        "At iteration 400 : Kplus is 38 , alpha is 6.65891836197\n",
        "Shape of Z:"
       ]
      },
      {
       "output_type": "stream",
       "stream": "stdout",
       "text": [
        " (100, 40)\n",
        "At iteration 401 : Kplus is 36 , alpha is 5.47209905977\n",
        "Shape of Z:"
       ]
      },
      {
       "output_type": "stream",
       "stream": "stdout",
       "text": [
        " (100, 37)\n",
        "At iteration 402 : Kplus is 33 , alpha is 5.21180652643\n",
        "Shape of Z:"
       ]
      },
      {
       "output_type": "stream",
       "stream": "stdout",
       "text": [
        " (100, 41)\n",
        "At iteration 403 : Kplus is 37 , alpha is 6.91756053979\n",
        "Shape of Z:"
       ]
      },
      {
       "output_type": "stream",
       "stream": "stdout",
       "text": [
        " (100, 39)\n",
        "At iteration 404 : Kplus is 35 , alpha is 6.81667370199\n",
        "Shape of Z:"
       ]
      },
      {
       "output_type": "stream",
       "stream": "stdout",
       "text": [
        " (100, 38)\n",
        "At iteration 405 : Kplus is 34 , alpha is 6.04441615305\n"
       ]
      },
      {
       "ename": "KeyboardInterrupt",
       "evalue": "",
       "output_type": "pyerr",
       "traceback": [
        "\u001b[1;31m---------------------------------------------------------------------------\u001b[0m\n\u001b[1;31mKeyboardInterrupt\u001b[0m                         Traceback (most recent call last)",
        "\u001b[1;32m<ipython-input-136-50b925551fca>\u001b[0m in \u001b[0;36m<module>\u001b[1;34m()\u001b[0m\n\u001b[0;32m     50\u001b[0m             \u001b[0mP\u001b[0m \u001b[1;33m=\u001b[0m \u001b[0mnp\u001b[0m\u001b[1;33m.\u001b[0m\u001b[0mzeros\u001b[0m\u001b[1;33m(\u001b[0m\u001b[1;36m2\u001b[0m\u001b[1;33m)\u001b[0m\u001b[1;33m\u001b[0m\u001b[0m\n\u001b[0;32m     51\u001b[0m             \u001b[0mZ\u001b[0m\u001b[1;33m[\u001b[0m\u001b[0mi\u001b[0m\u001b[1;33m,\u001b[0m\u001b[0mk\u001b[0m\u001b[1;33m]\u001b[0m \u001b[1;33m=\u001b[0m \u001b[1;36m1\u001b[0m\u001b[1;33m\u001b[0m\u001b[0m\n\u001b[1;32m---> 52\u001b[1;33m             \u001b[0mP\u001b[0m\u001b[1;33m[\u001b[0m\u001b[1;36m1\u001b[0m\u001b[1;33m]\u001b[0m \u001b[1;33m=\u001b[0m \u001b[0mlog_likelihood\u001b[0m\u001b[1;33m(\u001b[0m\u001b[0mX\u001b[0m\u001b[1;33m,\u001b[0m\u001b[0mZ\u001b[0m\u001b[1;33m[\u001b[0m\u001b[1;33m:\u001b[0m\u001b[1;33m,\u001b[0m\u001b[1;36m0\u001b[0m\u001b[1;33m:\u001b[0m\u001b[0mKplus\u001b[0m\u001b[1;33m]\u001b[0m\u001b[1;33m,\u001b[0m\u001b[0mM1\u001b[0m\u001b[1;33m,\u001b[0m\u001b[0msigmaA\u001b[0m\u001b[1;33m,\u001b[0m\u001b[0msigmaX\u001b[0m\u001b[1;33m,\u001b[0m\u001b[0mKplus\u001b[0m\u001b[1;33m,\u001b[0m\u001b[0mN\u001b[0m\u001b[1;33m,\u001b[0m\u001b[0mD\u001b[0m\u001b[1;33m)\u001b[0m \u001b[1;33m+\u001b[0m \u001b[0mnp\u001b[0m\u001b[1;33m.\u001b[0m\u001b[0mlog\u001b[0m\u001b[1;33m(\u001b[0m\u001b[0msum\u001b[0m\u001b[1;33m(\u001b[0m\u001b[0mZ\u001b[0m\u001b[1;33m[\u001b[0m\u001b[1;33m:\u001b[0m\u001b[1;33m,\u001b[0m\u001b[0mk\u001b[0m\u001b[1;33m]\u001b[0m\u001b[1;33m)\u001b[0m\u001b[1;33m-\u001b[0m\u001b[0mZ\u001b[0m\u001b[1;33m[\u001b[0m\u001b[0mi\u001b[0m\u001b[1;33m,\u001b[0m\u001b[0mk\u001b[0m\u001b[1;33m]\u001b[0m\u001b[1;33m)\u001b[0m \u001b[1;33m-\u001b[0m \u001b[0mnp\u001b[0m\u001b[1;33m.\u001b[0m\u001b[0mlog\u001b[0m\u001b[1;33m(\u001b[0m\u001b[0mN\u001b[0m\u001b[1;33m)\u001b[0m\u001b[1;33m\u001b[0m\u001b[0m\n\u001b[0m\u001b[0;32m     53\u001b[0m             \u001b[0mZ\u001b[0m\u001b[1;33m[\u001b[0m\u001b[0mi\u001b[0m\u001b[1;33m,\u001b[0m\u001b[0mk\u001b[0m\u001b[1;33m]\u001b[0m \u001b[1;33m=\u001b[0m \u001b[1;36m0\u001b[0m\u001b[1;33m\u001b[0m\u001b[0m\n\u001b[0;32m     54\u001b[0m             \u001b[0mP\u001b[0m\u001b[1;33m[\u001b[0m\u001b[1;36m0\u001b[0m\u001b[1;33m]\u001b[0m \u001b[1;33m=\u001b[0m \u001b[0mlog_likelihood\u001b[0m\u001b[1;33m(\u001b[0m\u001b[0mX\u001b[0m\u001b[1;33m,\u001b[0m\u001b[0mZ\u001b[0m\u001b[1;33m[\u001b[0m\u001b[1;33m:\u001b[0m\u001b[1;33m,\u001b[0m\u001b[1;36m0\u001b[0m\u001b[1;33m:\u001b[0m\u001b[0mKplus\u001b[0m\u001b[1;33m]\u001b[0m\u001b[1;33m,\u001b[0m\u001b[0mM0\u001b[0m\u001b[1;33m,\u001b[0m\u001b[0msigmaA\u001b[0m\u001b[1;33m,\u001b[0m\u001b[0msigmaX\u001b[0m\u001b[1;33m,\u001b[0m\u001b[0mKplus\u001b[0m\u001b[1;33m,\u001b[0m\u001b[0mN\u001b[0m\u001b[1;33m,\u001b[0m\u001b[0mD\u001b[0m\u001b[1;33m)\u001b[0m \u001b[1;33m+\u001b[0m \u001b[0mnp\u001b[0m\u001b[1;33m.\u001b[0m\u001b[0mlog\u001b[0m\u001b[1;33m(\u001b[0m\u001b[0mN\u001b[0m\u001b[1;33m-\u001b[0m\u001b[0msum\u001b[0m\u001b[1;33m(\u001b[0m\u001b[0mZ\u001b[0m\u001b[1;33m[\u001b[0m\u001b[1;33m:\u001b[0m\u001b[1;33m,\u001b[0m\u001b[0mk\u001b[0m\u001b[1;33m]\u001b[0m\u001b[1;33m)\u001b[0m\u001b[1;33m)\u001b[0m \u001b[1;33m-\u001b[0m \u001b[0mnp\u001b[0m\u001b[1;33m.\u001b[0m\u001b[0mlog\u001b[0m\u001b[1;33m(\u001b[0m\u001b[0mN\u001b[0m\u001b[1;33m)\u001b[0m\u001b[1;33m\u001b[0m\u001b[0m\n",
        "\u001b[1;32m<ipython-input-15-899a2214594e>\u001b[0m in \u001b[0;36mlog_likelihood\u001b[1;34m(X, Z, M, sigmaA, sigmaX, Kplus, N, D)\u001b[0m\n\u001b[0;32m      1\u001b[0m \u001b[1;32mdef\u001b[0m \u001b[0mlog_likelihood\u001b[0m\u001b[1;33m(\u001b[0m\u001b[0mX\u001b[0m\u001b[1;33m,\u001b[0m\u001b[0mZ\u001b[0m\u001b[1;33m,\u001b[0m\u001b[0mM\u001b[0m\u001b[1;33m,\u001b[0m\u001b[0msigmaA\u001b[0m\u001b[1;33m,\u001b[0m\u001b[0msigmaX\u001b[0m\u001b[1;33m,\u001b[0m\u001b[0mKplus\u001b[0m\u001b[1;33m,\u001b[0m\u001b[0mN\u001b[0m\u001b[1;33m,\u001b[0m\u001b[0mD\u001b[0m\u001b[1;33m)\u001b[0m\u001b[1;33m:\u001b[0m\u001b[1;33m\u001b[0m\u001b[0m\n\u001b[0;32m      2\u001b[0m     \u001b[1;34m\"\"\"Calculate the log-likelihood: P(X|Z,M,sigmaA,sigmaX,Kplus,N,D)\"\"\"\u001b[0m\u001b[1;33m\u001b[0m\u001b[0m\n\u001b[1;32m----> 3\u001b[1;33m     \u001b[0mdeterminant\u001b[0m \u001b[1;33m=\u001b[0m \u001b[0mnp\u001b[0m\u001b[1;33m.\u001b[0m\u001b[0mlinalg\u001b[0m\u001b[1;33m.\u001b[0m\u001b[0mdet\u001b[0m\u001b[1;33m(\u001b[0m\u001b[0mnp\u001b[0m\u001b[1;33m.\u001b[0m\u001b[0mdot\u001b[0m\u001b[1;33m(\u001b[0m\u001b[0mZ\u001b[0m\u001b[1;33m.\u001b[0m\u001b[0mT\u001b[0m\u001b[1;33m,\u001b[0m\u001b[0mZ\u001b[0m\u001b[1;33m)\u001b[0m\u001b[1;33m+\u001b[0m\u001b[1;33m(\u001b[0m\u001b[1;33m(\u001b[0m\u001b[0msigmaX\u001b[0m\u001b[1;33m/\u001b[0m\u001b[0msigmaA\u001b[0m\u001b[1;33m)\u001b[0m\u001b[1;33m**\u001b[0m\u001b[1;36m2\u001b[0m\u001b[1;33m)\u001b[0m\u001b[1;33m*\u001b[0m\u001b[0mnp\u001b[0m\u001b[1;33m.\u001b[0m\u001b[0midentity\u001b[0m\u001b[1;33m(\u001b[0m\u001b[0mKplus\u001b[0m\u001b[1;33m)\u001b[0m\u001b[1;33m)\u001b[0m\u001b[1;33m\u001b[0m\u001b[0m\n\u001b[0m\u001b[0;32m      4\u001b[0m     \u001b[0mconstant\u001b[0m \u001b[1;33m=\u001b[0m \u001b[0mN\u001b[0m\u001b[1;33m*\u001b[0m\u001b[0mD\u001b[0m\u001b[1;33m*\u001b[0m\u001b[1;36m0.5\u001b[0m\u001b[1;33m*\u001b[0m\u001b[0mnp\u001b[0m\u001b[1;33m.\u001b[0m\u001b[0mlog\u001b[0m\u001b[1;33m(\u001b[0m\u001b[1;36m2\u001b[0m\u001b[1;33m*\u001b[0m\u001b[0mnp\u001b[0m\u001b[1;33m.\u001b[0m\u001b[0mpi\u001b[0m\u001b[1;33m)\u001b[0m \u001b[1;33m+\u001b[0m \u001b[1;33m(\u001b[0m\u001b[0mN\u001b[0m\u001b[1;33m-\u001b[0m\u001b[0mKplus\u001b[0m\u001b[1;33m)\u001b[0m\u001b[1;33m*\u001b[0m\u001b[0mD\u001b[0m\u001b[1;33m*\u001b[0m\u001b[0mnp\u001b[0m\u001b[1;33m.\u001b[0m\u001b[0mlog\u001b[0m\u001b[1;33m(\u001b[0m\u001b[0msigmaX\u001b[0m\u001b[1;33m)\u001b[0m \u001b[1;33m+\u001b[0m \u001b[0mKplus\u001b[0m\u001b[1;33m*\u001b[0m\u001b[0mD\u001b[0m\u001b[1;33m*\u001b[0m\u001b[0mnp\u001b[0m\u001b[1;33m.\u001b[0m\u001b[0mlog\u001b[0m\u001b[1;33m(\u001b[0m\u001b[0msigmaA\u001b[0m\u001b[1;33m)\u001b[0m \u001b[1;33m+\u001b[0m \u001b[0mD\u001b[0m\u001b[1;33m*\u001b[0m\u001b[1;36m0.5\u001b[0m\u001b[1;33m*\u001b[0m\u001b[0mnp\u001b[0m\u001b[1;33m.\u001b[0m\u001b[0mlog\u001b[0m\u001b[1;33m(\u001b[0m\u001b[0mdeterminant\u001b[0m\u001b[1;33m)\u001b[0m\u001b[1;33m\u001b[0m\u001b[0m\n\u001b[0;32m      5\u001b[0m \u001b[1;33m\u001b[0m\u001b[0m\n",
        "\u001b[1;32m/home/bitnami/anaconda/lib/python2.7/site-packages/numpy/linalg/linalg.pyc\u001b[0m in \u001b[0;36mdet\u001b[1;34m(a)\u001b[0m\n\u001b[0;32m   1727\u001b[0m     \u001b[0mt\u001b[0m\u001b[1;33m,\u001b[0m \u001b[0mresult_t\u001b[0m \u001b[1;33m=\u001b[0m \u001b[0m_commonType\u001b[0m\u001b[1;33m(\u001b[0m\u001b[0ma\u001b[0m\u001b[1;33m)\u001b[0m\u001b[1;33m\u001b[0m\u001b[0m\n\u001b[0;32m   1728\u001b[0m     \u001b[0msignature\u001b[0m \u001b[1;33m=\u001b[0m \u001b[1;34m'D->D'\u001b[0m \u001b[1;32mif\u001b[0m \u001b[0misComplexType\u001b[0m\u001b[1;33m(\u001b[0m\u001b[0mt\u001b[0m\u001b[1;33m)\u001b[0m \u001b[1;32melse\u001b[0m \u001b[1;34m'd->d'\u001b[0m\u001b[1;33m\u001b[0m\u001b[0m\n\u001b[1;32m-> 1729\u001b[1;33m     \u001b[1;32mreturn\u001b[0m \u001b[0m_umath_linalg\u001b[0m\u001b[1;33m.\u001b[0m\u001b[0mdet\u001b[0m\u001b[1;33m(\u001b[0m\u001b[0ma\u001b[0m\u001b[1;33m,\u001b[0m \u001b[0msignature\u001b[0m\u001b[1;33m=\u001b[0m\u001b[0msignature\u001b[0m\u001b[1;33m)\u001b[0m\u001b[1;33m.\u001b[0m\u001b[0mastype\u001b[0m\u001b[1;33m(\u001b[0m\u001b[0mresult_t\u001b[0m\u001b[1;33m)\u001b[0m\u001b[1;33m\u001b[0m\u001b[0m\n\u001b[0m\u001b[0;32m   1730\u001b[0m \u001b[1;33m\u001b[0m\u001b[0m\n\u001b[0;32m   1731\u001b[0m \u001b[1;31m# Linear Least Squares\u001b[0m\u001b[1;33m\u001b[0m\u001b[1;33m\u001b[0m\u001b[0m\n",
        "\u001b[1;31mKeyboardInterrupt\u001b[0m: "
       ]
      }
     ],
     "prompt_number": 136
    },
    {
     "cell_type": "code",
     "collapsed": false,
     "input": [
      "stats.gamma?"
     ],
     "language": "python",
     "metadata": {},
     "outputs": [],
     "prompt_number": 128
    },
    {
     "cell_type": "code",
     "collapsed": false,
     "input": [
      "Z = Z_arr[(mcmc-1),:,0:K].reshape(N,K)\n",
      "sigmaX = sigmaX_arr[mcmc-1]\n",
      "sigmaA = sigmaA_arr[mcmc-1]\n",
      "A_inf = np.dot(calcM(Z, K, sigmaX, sigmaA),np.dot(Z.T,X))\n",
      "\n",
      "# Then plot A_inf.reshape(6,6)"
     ],
     "language": "python",
     "metadata": {},
     "outputs": [
      {
       "metadata": {},
       "output_type": "pyout",
       "prompt_number": 48,
       "text": [
        "120"
       ]
      }
     ],
     "prompt_number": 48
    },
    {
     "cell_type": "code",
     "collapsed": false,
     "input": [
      "# Setup the array\n",
      "Z_arr = np.zeros((mcmc,N,K_inf))\n",
      "Kplus_arr = np.zeros(mcmc)\n",
      "sigmaX_arr = np.zeros(mcmc)\n",
      "sigmaA_arr = np.zeros(mcmc)\n",
      "alpha_arr = np.zeros(mcmc)\n",
      "rX_accept = 0\n",
      "rA_accept = 0\n",
      "\n",
      "figure\n",
      "hist(chain.K(201:10:1000),3); colormap(gray)\n",
      "\n",
      "figure\n",
      "Z=reshape(chain.Z(1000,:,1:4),100,4);\n",
      "sigma_x=chain.sigma_X(1000);\n",
      "sigma_A=chain.sigma_A(1000);\n",
      "A_inf=(Z'*Z+(sigma_X/sigma_A)*eye(4))^-1*Z'*X;\n",
      "\n",
      "subplot(1,4,1); imagesc(reshape(A_inf(1,:),6,6)); colormap(gray); axis off\n",
      "subplot(1,4,2); imagesc(reshape(A_inf(2,:),6,6)); colormap(gray); axis off\n",
      "subplot(1,4,3); imagesc(reshape(A_inf(3,:),6,6)); colormap(gray); axis off\n",
      "subplot(1,4,4); imagesc(reshape(A_inf(4,:),6,6)); colormap(gray); axis off"
     ],
     "language": "python",
     "metadata": {},
     "outputs": []
    },
    {
     "cell_type": "code",
     "collapsed": false,
     "input": [
      "# Acceptance rate\n",
      "print \"rA accept:\",np.sum(rA_accept)/mcmc\n",
      "print \"rX accept:\",np.sum(rX_accept)/mcmc\n",
      "\n",
      "\n",
      "# np.sum(np.dot(Z_arr[400,:,:],A_arr[400,:,:]))\n",
      "# print Z_arr[400,:,:]"
     ],
     "language": "python",
     "metadata": {},
     "outputs": [
      {
       "output_type": "stream",
       "stream": "stdout",
       "text": [
        "rA accept: 0.009\n",
        "rX accept: 0.004\n"
       ]
      }
     ],
     "prompt_number": 125
    },
    {
     "cell_type": "heading",
     "level": 3,
     "metadata": {},
     "source": [
      "Gibbs Sampler -- Draft for Steps"
     ]
    },
    {
     "cell_type": "code",
     "collapsed": false,
     "input": [
      "# Step 5: Sample weight matrix A ~ N(0,sigmaA**2 I)\n",
      "A_new = stats.norm.rvs(loc=0,scale=sigmaA,size=(K,D))\n",
      "# Step 6: Sample the data X ~ N(ZA,sigmaX**2 I)\n",
      "X_new = stats.norm.rvs(loc=np.dot(Z,A),scale=sigmaX,size=(N,D))"
     ],
     "language": "python",
     "metadata": {},
     "outputs": [
      {
       "output_type": "stream",
       "stream": "stdout",
       "text": [
        "[-4542.4257]\n",
        "[-4618.9093]\n",
        "[-4542.4257]\n",
        "[-4542.4257]\n"
       ]
      }
     ],
     "prompt_number": 343
    },
    {
     "cell_type": "markdown",
     "metadata": {},
     "source": [
      "### Posterior Distribution Calculation\n",
      "\n",
      "Priors: $P(z_{ik}=1 | \\mathbf{z_{-i,k}}) = \\dfrac{m_{-i,k}+\\dfrac{\\alpha}{K}}{N+\\dfrac{\\alpha}{K}} \\rightarrow \\dfrac{m_{-i,k}}{N}$ as $K \\rightarrow \\infty$\n",
      "\n",
      "Likelihood: $\\mathbf{X}|(\\mathbf{Z},\\mathbf{A},\\mathbf{\\sigma_X}) \\sim \\text{Normal}(\\mathbf{ZA},\\Sigma_X = \\sigma_X^2\\mathbf{I})$\n",
      "\n",
      "i.e. $P(\\mathbf{X} | \\mathbf{Z}, \\sigma_X, \\sigma_A) = \\dfrac{1}{(2\\pi)^{ND/2} \\sigma_X^{(N-K)D} \\sigma_A^{KD} |\\mathbf{Z}^T\\mathbf{Z} + \\dfrac{\\sigma_X^2}{\\sigma_A^2}\\mathbf{I}|^{D/2}} \\exp\\{-\\dfrac{1}{2\\sigma^2_X} \\text{tr}(\\mathbf{X}^T(\\mathbf{I}-\\mathbf{Z}(\\mathbf{Z}^T\\mathbf{Z}+\\dfrac{\\sigma_X^2}{\\sigma_A^2}\\mathbf{I})^{-1})\\mathbf{Z}^T)\\mathbf{X}\\}$\n",
      "\n",
      "Full conditional distribution: $P(z_{ik} | \\mathbf{X,Z_{-i,k}},\\sigma_X, \\sigma_A) \\propto P(\\mathbf{X} | \\mathbf{Z},\\sigma_X, \\sigma_A) P(z_{ik} | \\mathbf{z_{-i,k}})$"
     ]
    }
   ],
   "metadata": {}
  }
 ]
}