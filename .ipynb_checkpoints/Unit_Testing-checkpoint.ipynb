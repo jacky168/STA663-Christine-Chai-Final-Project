{
 "cells": [
  {
   "cell_type": "markdown",
   "metadata": {},
   "source": [
    "# Unit Testing\n",
    "\n",
    "- Test function: calcM, M*inv(M) = I_Kplus\n",
    "- Test functions: calcInverse_orig, calcInverse"
   ]
  },
  {
   "cell_type": "markdown",
   "metadata": {},
   "source": []
  },
  {
   "cell_type": "code",
   "execution_count": 42,
   "metadata": {
    "collapsed": true
   },
   "outputs": [],
   "source": [
    "-"
   ]
  },
  {
   "cell_type": "code",
   "execution_count": 29,
   "metadata": {
    "collapsed": false
   },
   "outputs": [
    {
     "name": "stdout",
     "output_type": "stream",
     "text": [
      "The function calcM passed the assertion test!\n"
     ]
    }
   ],
   "source": [
    "import numpy as np\n",
    "import numpy.testing as npt\n",
    "import scipy.stats as stats\n",
    "\n",
    "# Test the calcM function\n",
    "def calcM(Z,Kplus,sigmaX,sigmaA):\n",
    "    \"\"\"Save the matrix M so we won't need to calculate it again and again\"\"\"\n",
    "    return np.linalg.inv(np.dot(Z[:,0:Kplus].T,Z[:,0:Kplus])+((sigmaX/sigmaA)**2)*np.identity(Kplus))\n",
    "\n",
    "np.random.seed(100)\n",
    "\n",
    "N = 100\n",
    "sigmaX = 0.9\n",
    "sigmaA = 0.7\n",
    "Kplus = 5\n",
    "Z = np.zeros((N,1000))\n",
    "alpha = 20\n",
    "ind = 0\n",
    "while ind < N:\n",
    "    t = stats.poisson.rvs(alpha)\n",
    "    if t > 0:\n",
    "        Z[ind,0:t] = 1\n",
    "        ind += 1\n",
    "        \n",
    "Z = Z[:,0:Kplus]\n",
    "        \n",
    "M = calcM(Z,Kplus,sigmaX,sigmaA)\n",
    "invM = np.dot(Z[:,0:Kplus].T,Z[:,0:Kplus])+((sigmaX/sigmaA)**2)*np.identity(Kplus)\n",
    "\n",
    "npt.assert_almost_equal(np.dot(M,invM),np.identity(Kplus))\n",
    "print \"The function calcM passed the assertion test!\""
   ]
  },
  {
   "cell_type": "code",
   "execution_count": 59,
   "metadata": {
    "collapsed": false
   },
   "outputs": [
    {
     "name": "stdout",
     "output_type": "stream",
     "text": [
      "The computed matrix M1 using calInverse_orig:\n",
      "[[ 0.28796233 -0.31697595 -0.31697595 -0.31697595 -0.31697595]\n",
      " [-0.31697595  0.28796233 -0.31697595 -0.31697595 -0.31697595]\n",
      " [-0.31697595 -0.31697595  0.28796233 -0.31697595 -0.31697595]\n",
      " [-0.31697595 -0.31697595 -0.31697595  0.28796233 -0.31697595]\n",
      " [-0.31697595 -0.31697595 -0.31697595 -0.31697595  0.28796233]] \n",
      "\n",
      "The computed matrix M2 using calInverse:\n",
      "[[ 0.4843493  -0.12058897 -0.12058897 -0.12058897 -0.12058897]\n",
      " [-0.12058897  0.4843493  -0.12058897 -0.12058897 -0.12058897]\n",
      " [-0.12058897 -0.12058897  0.4843493  -0.12058897 -0.12058897]\n",
      " [-0.12058897 -0.12058897 -0.12058897  0.4843493  -0.12058897]\n",
      " [-0.12058897 -0.12058897 -0.12058897 -0.12058897  0.4843493 ]] \n",
      "\n",
      "The correct matrix M:\n",
      "[[ 0.32825247 -0.08090812 -0.08090812 -0.08090812 -0.08090812]\n",
      " [-0.08090812  0.47426848 -0.13066979 -0.13066979 -0.13066979]\n",
      " [-0.08090812 -0.13066979  0.47426848 -0.13066979 -0.13066979]\n",
      " [-0.08090812 -0.13066979 -0.13066979  0.47426848 -0.13066979]\n",
      " [-0.08090812 -0.13066979 -0.13066979 -0.13066979  0.47426848]] \n",
      "\n",
      "Does M == M1? False\n",
      "Does M == M2? False\n",
      "The calcinverse functions did not pass the assertion test!\n"
     ]
    }
   ],
   "source": [
    "from __future__ import division\n",
    "import numpy as np\n",
    "import numpy.testing as npt\n",
    "import scipy.stats as stats\n",
    "\n",
    "# Test the calcInverse_org and calcInverse functions\n",
    "def calcInverse_orig(Z, M, i, k, val):\n",
    "    \"\"\"Effective inverse calculation from Griffiths and Ghahramani (2005; Equations 51 to 54)\n",
    "    M_(-i) = inv(inv(M) - zi.T * zi)\"\"\"\n",
    "    M_i = M - np.dot(np.dot(M,Z[i,:].T),np.dot(Z[i,:],M))/(np.dot(np.dot(Z[i,:],M),Z[i,:].T)-1)\n",
    "    Z[i,k] = val\n",
    "    M = M_i - np.dot(np.dot(M_i,Z[i,:].T),np.dot(Z[i,:],M_i))/(np.dot(np.dot(Z[i,:],M_i),Z[i,:].T)+1)\n",
    "    Inv = M\n",
    "    return Inv\n",
    "\n",
    "def calcInverse(Z, M, i, k, val):\n",
    "    \"\"\"New version to check: M_(-i) = inv(inv(M) - zi.T * zi)\"\"\"\n",
    "    # UNFINISHED\n",
    "    M_i = np.linalg.inv(np.linalg.inv(M) - np.dot(Z[i,:].T,Z[i,:]))\n",
    "    Z[i,k] = val\n",
    "    M = np.linalg.inv(np.linalg.inv(M_i) + np.dot(Z[i,:].T,Z[i,:]))\n",
    "    return M\n",
    "\n",
    "np.random.seed(100)\n",
    "\n",
    "N = 100\n",
    "sigmaX = 0.9\n",
    "sigmaA = 0.7\n",
    "Kplus = 5\n",
    "Z = np.zeros((N,1000))\n",
    "alpha = 20\n",
    "ind = 0\n",
    "while ind < N:\n",
    "    t = stats.poisson.rvs(alpha)\n",
    "    if t > 0:\n",
    "        Z[ind,0:t] = 1\n",
    "        ind += 1\n",
    "        \n",
    "Z = Z[:,0:Kplus]\n",
    "M = calcM(Z,Kplus,sigmaX,sigmaA)\n",
    "\n",
    "# print Z[17,:]\n",
    "# print Z.shape\n",
    "(i,k,val) = (17,0,0)\n",
    "# print i\n",
    "\n",
    "M1 = calcInverse_orig(Z, M, i, k, val)\n",
    "print \"The computed matrix M1 using calInverse_orig:\\n\", M1,\"\\n\"\n",
    "\n",
    "M2 = calcInverse(Z, M, i, k, val)\n",
    "print \"The computed matrix M2 using calInverse:\\n\", M2,\"\\n\"\n",
    "\n",
    "Z[i,k] = val\n",
    "newM = calcM(Z,Kplus,sigmaX,sigmaA)\n",
    "print \"The correct matrix M:\\n\",newM,\"\\n\"\n",
    "\n",
    "print \"Does M == M1?\",np.allclose(M1,newM)\n",
    "print \"Does M == M2?\",np.allclose(M2,newM)\n",
    "print \"The calcinverse functions did not pass the assertion test!\""
   ]
  },
  {
   "cell_type": "code",
   "execution_count": null,
   "metadata": {
    "collapsed": true
   },
   "outputs": [],
   "source": []
  }
 ],
 "metadata": {
  "kernelspec": {
   "display_name": "Python 2",
   "language": "python",
   "name": "python2"
  },
  "language_info": {
   "codemirror_mode": {
    "name": "ipython",
    "version": 2
   },
   "file_extension": ".py",
   "mimetype": "text/x-python",
   "name": "python",
   "nbconvert_exporter": "python",
   "pygments_lexer": "ipython2",
   "version": "2.7.9"
  }
 },
 "nbformat": 4,
 "nbformat_minor": 0
}
