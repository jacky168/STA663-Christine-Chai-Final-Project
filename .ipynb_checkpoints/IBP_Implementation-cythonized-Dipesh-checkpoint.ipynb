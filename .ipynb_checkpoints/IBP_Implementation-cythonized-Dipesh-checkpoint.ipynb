{
 "cells": [
  {
   "cell_type": "markdown",
   "metadata": {},
   "source": [
    "## Implementation of Infinite Latent Feature Models and the Indian Buffet Process"
   ]
  },
  {
   "cell_type": "markdown",
   "metadata": {},
   "source": [
    "#### Pseudo-code for a single iteration of Gibbs and MH combined algorigthm"
   ]
  },
  {
   "cell_type": "code",
   "execution_count": null,
   "metadata": {
    "collapsed": false
   },
   "outputs": [],
   "source": [
    "import numpy as np\n",
    "import scipy as sp\n",
    "import math\n",
    "import matplotlib.pyplot as plt\n",
    "from __future__ import division\n",
    "plt.style.use('ggplot')\n",
    "import Image\n",
    "import matplotlib.cm as cm\n",
    "%matplotlib inline\n",
    "%precision 4\n",
    "import time"
   ]
  },
  {
   "cell_type": "markdown",
   "metadata": {},
   "source": [
    "###### Simulate data"
   ]
  },
  {
   "cell_type": "code",
   "execution_count": null,
   "metadata": {
    "collapsed": false
   },
   "outputs": [],
   "source": [
    "np.random.seed(1)\n",
    "\n",
    "N = 100 #number of objects\n",
    "K = 4 #true number of features\n",
    "D = 36 # dimension of feature\n",
    "\n",
    "\n",
    "sigmaX0 = .5;\n",
    "A = np.array((0, 1, 0, 0, 0, 0, 1, 1, 1, 0, 0, 0, 0, 1, 0, 0, 0, 0, 0, 0, 0, 0, 0, 0, 0, 0, 0, 0, 0, 0, 0, 0, 0, 0, 0, 0, \\\n",
    "             0, 0, 0, 1, 1, 1, 0, 0, 0, 1, 0, 1, 0, 0, 0, 1, 1, 1, 0, 0, 0, 0, 0, 0, 0, 0, 0, 0, 0, 0, 0, 0, 0, 0, 0, 0, \\\n",
    "             0, 0, 0, 0, 0, 0, 0, 0, 0, 0, 0, 0, 0, 0, 0, 0, 0, 0, 1, 0, 0, 0, 0, 0, 1, 1, 0, 0, 0, 0, 1, 1, 1, 0, 0, 0, \\\n",
    "             0, 0, 0, 0, 0, 0, 0, 0, 0, 0, 0, 0, 0, 0, 0, 0, 0, 0, 0, 0, 0, 1, 1, 1, 0, 0, 0, 0, 1, 0, 0, 0, 0, 0, 1, 0)).reshape(4, D)\n",
    "\n",
    "\n",
    "I = (sigmaX0)*np.identity(D)\n",
    "Z0 = np.zeros((N, K))\n",
    "X = np.zeros((N, D))\n",
    "for i in range(N):\n",
    "    Z0[i,:] = (np.random.uniform(0,1,K) > .5).astype(int)\n",
    "    while (np.sum(Z0[i,:]) == 0):\n",
    "        Z0[i,:] = (np.random.uniform(0,1,K) > .5).astype(int)\n",
    "    #X[i,:] = np.random.multivariate_normal(Z0[i,:].dot(A), I)\n",
    "    #X(i,:) = randn(1, object_dim)*I+Z_orig(i,:)*A;\n",
    "    X[i,:] = np.random.normal(0,1, (1,D)).dot(I)+Z0[i,:].dot(A)\n",
    "# plt.figure(num=None, figsize=(12,3), dpi=80, facecolor='w', edgecolor='k')\n",
    "# plt.subplot(141)\n",
    "# plt.pcolormesh(A[0,:].reshape(6,6),cmap=plt.cm.gray)     \n",
    "# plt.subplot(142)\n",
    "# plt.pcolormesh(A[1,:].reshape(6,6),cmap=plt.cm.gray)  \n",
    "# plt.subplot(143)\n",
    "# plt.pcolormesh(A[2,:].reshape(6,6),cmap=plt.cm.gray)  \n",
    "# plt.subplot(144)\n",
    "# plt.pcolormesh(A[3,:].reshape(6,6),cmap=plt.cm.gray) "
   ]
  },
  {
   "cell_type": "markdown",
   "metadata": {},
   "source": [
    "###### Set initial numbers, dimensions and features"
   ]
  },
  {
   "cell_type": "markdown",
   "metadata": {},
   "source": [
    "###### Sample prior"
   ]
  },
  {
   "cell_type": "code",
   "execution_count": null,
   "metadata": {
    "collapsed": false
   },
   "outputs": [],
   "source": [
    "np.random.seed(1)\n",
    "def sampleIBP(alpha, N):\n",
    "    result = np.zeros((N, 1000))\n",
    "    t = np.random.poisson(alpha)\n",
    "    if t>0:\n",
    "        result[0,0:t] = np.ones(t)\n",
    "    Kplus = t\n",
    "    for i in range(1,N):\n",
    "        for j in range(Kplus):\n",
    "            p = np.sum(result[0:i,j])/(i+1)\n",
    "            if np.random.uniform(0,1) < p:\n",
    "                result[i,j] = 1\n",
    "        t = np.random.poisson(alpha/(i+1))\n",
    "        if t>0:\n",
    "            result[i,Kplus:Kplus+t] = np.ones(t)\n",
    "            Kplus = Kplus+t\n",
    "    result = result[:,0:Kplus]\n",
    "    return np.array((result, Kplus))\n"
   ]
  },
  {
   "cell_type": "markdown",
   "metadata": {},
   "source": [
    "##### Likelihood function"
   ]
  },
  {
   "cell_type": "code",
   "execution_count": null,
   "metadata": {
    "collapsed": false
   },
   "outputs": [],
   "source": [
    "%load_ext Cython"
   ]
  },
  {
   "cell_type": "code",
   "execution_count": null,
   "metadata": {
    "collapsed": false
   },
   "outputs": [],
   "source": [
    "%%file Cython_setup.py\n",
    "from distutils.core import setup\n",
    "from Cython.Build import cythonize\n",
    "\n",
    "setup(\n",
    "    ext_modules = cythonize(\"Cython_functions.pyx\")\n",
    ")"
   ]
  },
  {
   "cell_type": "code",
   "execution_count": null,
   "metadata": {
    "collapsed": false
   },
   "outputs": [],
   "source": [
    "%%file Cython_functions.pyx\n",
    "import numpy as np\n",
    "\n",
    "def ll(X, Z, sigmaX, sigmaA, K, D, N):\n",
    "    #M = Z[:,0:K].T.dot(Z[:,0:K])+sigmaX**2/sigmaA**2*np.identity(K)\n",
    "    M = Z.T.dot(Z)+(sigmaX**2/sigmaA**2)*np.identity(K)\n",
    "    return (-1)*np.log(2*np.pi)*N*D*.5 - np.log(sigmaX)*(N-K)*D - np.log(sigmaA)*K*D - .5*D*np.log(np.linalg.det(M)) \\\n",
    "        -.5/(sigmaX**2)*np.trace( (X.T.dot( np.identity(N)-Z.dot(np.linalg.inv(M).dot(Z.T)) )).dot(X) )\n",
    "\n",
    "np.random.seed(1)\n",
    "def sampleIBP(alpha, N):\n",
    "    result = np.zeros((N, 1000))\n",
    "    t = np.random.poisson(alpha)\n",
    "    if t>0:\n",
    "        result[0,0:t] = np.ones(t)\n",
    "    Kplus = t\n",
    "    for i in range(1,N):\n",
    "        for j in range(Kplus):\n",
    "            p = np.sum(result[0:i,j])/(i+1)\n",
    "            if np.random.uniform(0,1) < p:\n",
    "                result[i,j] = 1\n",
    "        t = np.random.poisson(alpha/(i+1))\n",
    "        if t>0:\n",
    "            result[i,Kplus:Kplus+t] = np.ones(t)\n",
    "            Kplus = Kplus+t\n",
    "    result = result[:,0:Kplus]\n",
    "    return np.array((result, Kplus))"
   ]
  },
  {
   "cell_type": "code",
   "execution_count": null,
   "metadata": {
    "collapsed": false
   },
   "outputs": [],
   "source": [
    "! python Cython_setup.py build_ext --inplace"
   ]
  },
  {
   "cell_type": "code",
   "execution_count": null,
   "metadata": {
    "collapsed": false
   },
   "outputs": [],
   "source": [
    "%%cython -a\n",
    "import numpy as np\n",
    "cimport numpy as np\n",
    "import scipy as sp\n",
    "import math\n",
    "import Cython_functions as func\n",
    "\n",
    "def sampler_cy(X, niter, BURN_IN, sigmaX, sigmaA,alpha, N, D, maxNew):\n",
    "    HN = 0.\n",
    "    for i in range(1,N+1):\n",
    "        HN += 1./i\n",
    "\n",
    "    SAMPLE_SIZE=niter-BURN_IN\n",
    "\n",
    "    K_inf=20\n",
    "\n",
    "    chain_Z=np.zeros((SAMPLE_SIZE,N,K_inf))\n",
    "    chain_K=np.zeros((SAMPLE_SIZE,1))\n",
    "    chain_sigma_X=np.zeros((SAMPLE_SIZE,1))\n",
    "    chain_sigma_A=np.zeros((SAMPLE_SIZE,1))\n",
    "    chain_alpha=np.zeros((SAMPLE_SIZE,1))\n",
    "    np.random.seed(1)\n",
    "    Z, Kplus = func.sampleIBP(alpha, N)\n",
    "    s_counter=0\n",
    "\n",
    "    for j in range(niter):\n",
    "        if j%50==0:\n",
    "            print j\n",
    "        #print(\"iteration:\",j ,  \"Kplus:\",Kplus,  \"shape of Z\", Z.shape, \"alpha:\", alpha, \"sigmaX\", sigmaX)\n",
    "        #update z\n",
    "        if((j+1)>BURN_IN):\n",
    "            chain_Z[s_counter,:,0:Kplus]=Z\n",
    "            chain_K[s_counter]=Kplus\n",
    "            chain_sigma_X[s_counter]=sigmaX\n",
    "            chain_sigma_A[s_counter]=sigmaA\n",
    "            chain_alpha[s_counter]=alpha\n",
    "            s_counter=s_counter+1\n",
    "\n",
    "        for i in range(N):\n",
    "            for k in range(Kplus):\n",
    "                #print k\n",
    "                if k>=Kplus:\n",
    "                    break     \n",
    "                #Removing the singular features, i.e. the ones that have 1 for the current object only.\n",
    "                if Z[i,k] > 0:\n",
    "                    if (np.sum(Z[:,k])- 1) <=0:\n",
    "                        #Z[i,k] = 0\n",
    "                        Z[:,k:(Kplus-1)] = Z[:,(k+1):Kplus] #shift everything one column to the left\n",
    "                        Kplus = Kplus-1\n",
    "                        Z = Z[:,0:Kplus] # remove the last column as it is redundent\n",
    "                        continue #We're no longer looking at this feature, so move to another one               \n",
    "\n",
    "                P = np.zeros(2)\n",
    "                #set Z[i,k] = 0 and calculate posterior probability\n",
    "                Z[i,k] = 0\n",
    "                P[0] = func.ll(X, Z, sigmaX, sigmaA, Kplus, D, N) + np.log(N-np.sum(Z[:,k])) - np.log(N)\n",
    "\n",
    "                #set Z[i,k] = 1 and calculate posterior probability\n",
    "                Z[i,k] = 1\n",
    "                P[1] = func.ll(X, Z,sigmaX, sigmaA, Kplus, D, N)  + np.log(np.sum(Z[:,k])- 1) - np.log(N)\n",
    "\n",
    "                P = np.exp(P - max(P))\n",
    "                U = np.random.uniform(0,1)\n",
    "                if U<(P[1]/(np.sum(P))):\n",
    "                    Z[i,k] = 1\n",
    "                else:\n",
    "                    Z[i,k] = 0   \n",
    "\n",
    "\n",
    "            #Sample number of new features\n",
    "            prob = np.zeros(maxNew)\n",
    "            alphaN = alpha/N\n",
    "            for kNew in range(maxNew): # max new features is 3\n",
    "                Z_temp = Z\n",
    "                if kNew>0:\n",
    "                    addCols = np.zeros((N,kNew))\n",
    "                    addCols[i,:] = 1\n",
    "                    Z_temp = np.hstack((Z_temp, addCols))\n",
    "\n",
    "                pois = kNew*np.log(alphaN) - alphaN - np.log(math.factorial(kNew))\n",
    "                lik = func.ll(X = X, Z = Z_temp, sigmaX = sigmaX, sigmaA = sigmaA, K=(Kplus+kNew), D= D, N= N)\n",
    "                prob[kNew] = pois + lik\n",
    "\n",
    "            #normalize prob\n",
    "            prob = np.exp(prob - max(prob))\n",
    "            prob = prob/sum(prob)\n",
    "\n",
    "            U = np.random.uniform(0,1,1)\n",
    "            p = 0\n",
    "            kNew=0\n",
    "            for new in range(maxNew):\n",
    "                p = p+prob[new]\n",
    "                if U<p:\n",
    "                    kNew = new\n",
    "                    break\n",
    "\n",
    "            #Add kNew new columns to Z and set the values at ith row to 1 for all of them\n",
    "            if kNew>0:\n",
    "                addCols = np.zeros((N,kNew))\n",
    "                addCols[i,:] = 1\n",
    "                Z = np.hstack((Z, addCols))\n",
    "            Kplus = Kplus + kNew \n",
    "\n",
    "        llCurrent = func.ll(X, Z, sigmaX, sigmaA, Kplus, D, N )\n",
    "        #update sigmaX\n",
    "        if np.random.uniform(0,1) < .5:\n",
    "            sigmaX_new = sigmaX - np.random.uniform(0,1)/20\n",
    "        else:\n",
    "            sigmaX_new = sigmaX + np.random.uniform(0,1)/20\n",
    "        llNew = func.ll(X, Z, sigmaX_new, sigmaA, Kplus, D, N)\n",
    "\n",
    "        arX = np.exp(min(0,llNew-llCurrent))\n",
    "        U = np.random.uniform(0,1)\n",
    "        if U < arX:\n",
    "            sigmaX = sigmaX_new\n",
    "\n",
    "\n",
    "        #update sigma_A\n",
    "        #epsA = np.random.uniform(0,1)\n",
    "        if np.random.uniform(0,1) < .5:\n",
    "            sigmaA_new = sigmaA - np.random.uniform(0,1)/20\n",
    "        else:\n",
    "            sigmaA_new = sigmaA + np.random.uniform(0,1)/20\n",
    "\n",
    "\n",
    "    #     epsA = np.random.uniform(-.05,.05)\n",
    "    #     sigmaA_new = sigmaA+epsA\n",
    "        #llCurrent = ll(X, Z, sigmaX, sigmaA, Kplus, D, N )\n",
    "        #llCurrent = ll(X, Z, sigmaX, sigmaA, Kplus, D, N )\n",
    "        llNew = func.ll(X, Z, sigmaX, sigmaA_new, Kplus, D, N)\n",
    "\n",
    "        arA = np.exp(min(0,llNew-llCurrent))\n",
    "\n",
    "        U = np.random.uniform(0,1)\n",
    "        if U < arA:\n",
    "            sigmaA = sigmaA_new\n",
    "\n",
    "        alpha = np.random.gamma(1+Kplus, 1/(1+HN))\n",
    "    \n",
    "    return(chain_K)"
   ]
  },
  {
   "cell_type": "markdown",
   "metadata": {},
   "source": [
    "### Profiling"
   ]
  },
  {
   "cell_type": "code",
   "execution_count": null,
   "metadata": {
    "collapsed": false
   },
   "outputs": [],
   "source": [
    "HN = 0.\n",
    "for i in range(1,N+1):\n",
    "    HN += 1./i\n",
    "    \n",
    "#Kplus = 4 #current number of features with at least one object\n",
    "niter = 400\n",
    "sigmaX = 1.\n",
    "sigmaA = 1.\n",
    "alpha = 1.\n",
    "maxNew = 4\n",
    "BURN_IN=200\n",
    "t0 = time.time()\n",
    "#sampler(X, niter, BURN_IN, sigmaX, sigmaA,alpha, N, D, maxNew)\n",
    "# t1= time.time()\n",
    "\n",
    "# dt = t1-t0\n",
    "# dt"
   ]
  },
  {
   "cell_type": "code",
   "execution_count": null,
   "metadata": {
    "collapsed": false
   },
   "outputs": [],
   "source": [
    "%timeit sampler_cy(X, 300, 0, sigmaX, sigmaA,alpha, N, D, maxNew)\n",
    "%timeit sampler(X, 300, 0, sigmaX, sigmaA,alpha, N, D, maxNew)"
   ]
  },
  {
   "cell_type": "code",
   "execution_count": null,
   "metadata": {
    "collapsed": false
   },
   "outputs": [],
   "source": [
    "stats = %prun -r -q sampler(X, 30, 0, sigmaX, sigmaA,alpha, N, D, maxNew)"
   ]
  },
  {
   "cell_type": "code",
   "execution_count": null,
   "metadata": {
    "collapsed": false
   },
   "outputs": [],
   "source": [
    "stats.sort_stats('time').print_stats(10);"
   ]
  },
  {
   "cell_type": "code",
   "execution_count": null,
   "metadata": {
    "collapsed": false
   },
   "outputs": [],
   "source": [
    "%load_ext line_profiler"
   ]
  },
  {
   "cell_type": "code",
   "execution_count": null,
   "metadata": {
    "collapsed": false
   },
   "outputs": [],
   "source": [
    "lstats = %lprun -r -f sampler sampler(X, 30, 0, sigmaX, sigmaA,alpha, N, D, maxNew)"
   ]
  },
  {
   "cell_type": "code",
   "execution_count": null,
   "metadata": {
    "collapsed": false
   },
   "outputs": [],
   "source": [
    "sigmaXZ=chain_Z[SAMPLE_SIZE-1,:,0:10].reshape(100,10)\n",
    "sigma_X=chain_sigma_X[SAMPLE_SIZE-1]\n",
    "sigma_A=chain_sigma_A[SAMPLE_SIZE-1]\n",
    "A_inf=np.dot(np.dot(np.linalg.inv((np.dot(Z.T,Z)+(sigma_X/sigma_A)*np.eye(4))),Z.T),X)"
   ]
  },
  {
   "cell_type": "code",
   "execution_count": null,
   "metadata": {
    "collapsed": false
   },
   "outputs": [],
   "source": [
    "plt.figure(num=None, figsize=(12,3), dpi=80, facecolor='w', edgecolor='k')\n",
    "plt.subplot(141)\n",
    "plt.pcolormesh(A_inf[0,:].reshape(6,6),cmap=plt.cm.gray)     \n",
    "plt.subplot(142)\n",
    "plt.pcolormesh(A_inf[1,:].reshape(6,6),cmap=plt.cm.gray)  \n",
    "plt.subplot(143)\n",
    "plt.pcolormesh(A_inf[2,:].reshape(6,6),cmap=plt.cm.gray)  \n",
    "plt.subplot(144)\n",
    "plt.pcolormesh(A_inf[3,:].reshape(6,6),cmap=plt.cm.gray)"
   ]
  },
  {
   "cell_type": "code",
   "execution_count": null,
   "metadata": {
    "collapsed": false
   },
   "outputs": [],
   "source": [
    "#plt.plot(chain_K)\n",
    "#np.mean(chain_K)\n",
    "#np.sum(chain_K[200:999]==6)\n",
    "plt.hist(chain_K, bins = [4,5,6,7,8,9,10])"
   ]
  },
  {
   "cell_type": "code",
   "execution_count": null,
   "metadata": {
    "collapsed": false
   },
   "outputs": [],
   "source": [
    "plt.plot(chain_alpha)\n",
    "np.mean(chain_alpha)"
   ]
  },
  {
   "cell_type": "code",
   "execution_count": null,
   "metadata": {
    "collapsed": false
   },
   "outputs": [],
   "source": [
    "plt.plot(chain_sigma_X)\n",
    "np.mean(chain_sigma_X)"
   ]
  },
  {
   "cell_type": "code",
   "execution_count": null,
   "metadata": {
    "collapsed": false
   },
   "outputs": [],
   "source": [
    "plt.plot(chain_sigma_A)\n",
    "np.mean(chain_sigma_A)"
   ]
  },
  {
   "cell_type": "code",
   "execution_count": null,
   "metadata": {
    "collapsed": false
   },
   "outputs": [],
   "source": [
    "from numbapro import cuda, vectorize, guvectorize, check_cuda\n",
    "from numbapro import void, uint8 , uint32, uint64, int32, int64, float32, float64, f8"
   ]
  },
  {
   "cell_type": "code",
   "execution_count": null,
   "metadata": {
    "collapsed": false
   },
   "outputs": [],
   "source": []
  },
  {
   "cell_type": "code",
   "execution_count": null,
   "metadata": {
    "collapsed": false
   },
   "outputs": [],
   "source": []
  },
  {
   "cell_type": "markdown",
   "metadata": {},
   "source": [
    "### Unit testing"
   ]
  },
  {
   "cell_type": "markdown",
   "metadata": {},
   "source": [
    "To check if the code is working properly some of the unit testings I've come up with so far are:\n",
    "* Probabilities calculated for the presence of feature have to be between 0 and 1.\n",
    "* "
   ]
  }
 ],
 "metadata": {
  "kernelspec": {
   "display_name": "Python 2",
   "language": "python",
   "name": "python2"
  },
  "language_info": {
   "codemirror_mode": {
    "name": "ipython",
    "version": 2
   },
   "file_extension": ".py",
   "mimetype": "text/x-python",
   "name": "python",
   "nbconvert_exporter": "python",
   "pygments_lexer": "ipython2",
   "version": "2.7.9"
  }
 },
 "nbformat": 4,
 "nbformat_minor": 0
}
