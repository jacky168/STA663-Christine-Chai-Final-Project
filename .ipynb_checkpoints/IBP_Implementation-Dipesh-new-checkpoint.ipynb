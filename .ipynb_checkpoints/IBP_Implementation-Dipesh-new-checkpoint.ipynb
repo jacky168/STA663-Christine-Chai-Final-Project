{
 "cells": [
  {
   "cell_type": "markdown",
   "metadata": {},
   "source": [
    "## Implementation of Infinite Latent Feature Models and the Indian Buffet Process"
   ]
  },
  {
   "cell_type": "markdown",
   "metadata": {},
   "source": [
    "**Indian Buffet Process (IBP)**\n",
    "\n",
    "The Indian Buffet is an adaptation of Chinese Buffett Process where each object instead of being associated with a single latent class can  be associated with multiple classes. This is particularly useful when each object has multile latent features and by associating objects with a single class we cannot partition them into homogeneous subsets.\n",
    "\n",
    "In the Indian buffet process, $N$ customers enter a restaurant one after another. Each customer encounters a buffet \n",
    "consisting of infinitely many dishes arranged in a line. The first customer starts at the left of the buffet and \n",
    "takes a serving from each dish, stopping after a Poisson($\\alpha$) number of dishes. The $i$th customer moves along the buffet, \n",
    "sampling dishes in proportion to their popularity, taking dish $k$ with probability $\\frac{m_k}{i}$ , where $m_k$ is the number of \n",
    "previous customers who have sampled that dish. Having reached the end of all previous sampled dishes, the $i$th customer \n",
    "then tries a Poisson($\\frac{\\alpha}{i}$) number of new dishes. Which costumer chose which dishes is indicated using a binary matrix **Z** with $N$ rows and infinitely many columns(corresponding to the infinitely many selection of dished), where $z_{ik}$ = 1 if the $i$th costumer sampled $k$th dish.\n",
    "\n",
    "IBP can be used as a prior in models for unsupervised learning. An example of which is presentd in the paper by Griffiths and Ghahramani, where IBP is used as a prior in linear-Gaussian binary latent feature model."
   ]
  },
  {
   "cell_type": "markdown",
   "metadata": {},
   "source": [
    "### Algorithm"
   ]
  },
  {
   "cell_type": "markdown",
   "metadata": {},
   "source": [
    "* Gamma prior for $\\alpha$\n",
    "$$\n",
    "\\alpha \\sim Gamma(1,1)\n",
    "$$\n",
    "* Prior on **Z** is obtained by IBP as:\n",
    "$$\n",
    "P(z_{ik}=1|\\textbf{z}_{-i,k}) = \\frac{n_{-i,k}}{N}\n",
    "$$\n",
    "\n",
    "* Likelihood is given by\n",
    "\\begin{equation}\n",
    "P(X|Z,\\sigma_X, \\sigma_A) = \\frac{1}{(2 \\pi)^{ND/2} (\\sigma_X)^{(N-K)D}(\\sigma_A)^{KD}(|Z^TZ+\\frac{\\sigma_X^2}{\\sigma_A^2}I|)^{D/2}}exp\\{-\\frac{1}{2\\sigma_X^2}tr(X^T(I-Z(Z^TZ+\\frac{\\sigma_X^2}{\\sigma_A^2}I)^{-1}Z^T)X)\\}\n",
    "\\end{equation}\n",
    "\n",
    "After we have the likelihood and the prior given by IBP,\n",
    "\n",
    "* full conditional posterior for **Z** can be calculated as:\n",
    "$$\n",
    "P(z_{ik}|X,Z_{-(i,k)},\\sigma_X,\\sigma_A) \\propto  P(X|Z,\\sigma_X, \\sigma_A) * P(z_{ik}=1|\\textbf{z}_{-i,k}) \n",
    "$$\n",
    "\n",
    "To sample the number of new features for observation $i$, we use a truncated distribution, computing probabilities for a range of values $K_1^{(i)}$ up to an upper bound (say 4). The prior on number of features is given by $Poisson(\\frac{\\alpha}{N})$.\n",
    "Using this prior and the likelihood, we sample the nummber of new features.\n",
    "\n",
    "* Full conditional posterior for $\\alpha$ is given by:\n",
    "$$\n",
    "P(\\alpha|Z) \\sim Gamma(1+K_+,1+\\sum_{i=1}^{N} H_i)\n",
    "$$\n",
    "\n",
    "* For $\\sigma_X$ and $\\sigma_A$, we use MH algorithm as follows:\n",
    "\\begin{eqnarray}\n",
    "\\epsilon \\sim Uniform(-.05,.05)\\\\\n",
    "\\sigma_X^{*} =  \\sigma_X +\\epsilon\\\\\n",
    "\\end{eqnarray}\n",
    "Accept this new $\\sigma_X$ with probability given by:\n",
    "$$\n",
    "AR = min\\{1,\\frac{Likelihood(X|\\sigma_X^{*},...)}{Likelihood(X|\\sigma_X,...)}\\}\\\\\n",
    "$$\n",
    "Where AR is the acceptance ratio. We use similar algorithm to sample $\\sigma_A$"
   ]
  },
  {
   "cell_type": "markdown",
   "metadata": {},
   "source": [
    "#### Pseudo-code for a single iteration of Gibbs and MH combined algorigthm"
   ]
  },
  {
   "cell_type": "code",
   "execution_count": 141,
   "metadata": {
    "collapsed": false
   },
   "outputs": [],
   "source": [
    "import numpy as np\n",
    "import scipy as sp\n",
    "import math\n",
    "import matplotlib.pyplot as plt\n",
    "from __future__ import division\n",
    "plt.style.use('ggplot')\n",
    "import Image\n",
    "import matplotlib.cm as cm\n",
    "%matplotlib inline\n",
    "%precision 4\n",
    "import time"
   ]
  },
  {
   "cell_type": "markdown",
   "metadata": {},
   "source": [
    "###### Simulate data"
   ]
  },
  {
   "cell_type": "code",
   "execution_count": 142,
   "metadata": {
    "collapsed": false
   },
   "outputs": [],
   "source": [
    "np.random.seed(1)\n",
    "\n",
    "N = 100 #number of objects\n",
    "K = 4 #true number of features\n",
    "D = 36 # dimension of feature\n",
    "\n",
    "\n",
    "sigmaX0 = .5;\n",
    "A = np.array((0, 1, 0, 0, 0, 0, 1, 1, 1, 0, 0, 0, 0, 1, 0, 0, 0, 0, 0, 0, 0, 0, 0, 0, 0, 0, 0, 0, 0, 0, 0, 0, 0, 0, 0, 0, \\\n",
    "             0, 0, 0, 1, 1, 1, 0, 0, 0, 1, 0, 1, 0, 0, 0, 1, 1, 1, 0, 0, 0, 0, 0, 0, 0, 0, 0, 0, 0, 0, 0, 0, 0, 0, 0, 0, \\\n",
    "             0, 0, 0, 0, 0, 0, 0, 0, 0, 0, 0, 0, 0, 0, 0, 0, 0, 0, 1, 0, 0, 0, 0, 0, 1, 1, 0, 0, 0, 0, 1, 1, 1, 0, 0, 0, \\\n",
    "             0, 0, 0, 0, 0, 0, 0, 0, 0, 0, 0, 0, 0, 0, 0, 0, 0, 0, 0, 0, 0, 1, 1, 1, 0, 0, 0, 0, 1, 0, 0, 0, 0, 0, 1, 0)).reshape(4, D)\n",
    "\n",
    "\n",
    "I = (sigmaX0)*np.identity(D)\n",
    "Z0 = np.zeros((N, K))\n",
    "X = np.zeros((N, D))\n",
    "for i in range(N):\n",
    "    Z0[i,:] = (np.random.uniform(0,1,K) > .5).astype(int)\n",
    "    while (np.sum(Z0[i,:]) == 0):\n",
    "        Z0[i,:] = (np.random.uniform(0,1,K) > .5).astype(int)\n",
    "    #X[i,:] = np.random.multivariate_normal(Z0[i,:].dot(A), I)\n",
    "    #X(i,:) = randn(1, object_dim)*I+Z_orig(i,:)*A;\n",
    "    X[i,:] = np.random.normal(0,1, (1,D)).dot(I)+Z0[i,:].dot(A)\n",
    "# plt.figure(num=None, figsize=(12,3), dpi=80, facecolor='w', edgecolor='k')\n",
    "# plt.subplot(141)\n",
    "# plt.pcolormesh(A[0,:].reshape(6,6),cmap=plt.cm.gray)     \n",
    "# plt.subplot(142)\n",
    "# plt.pcolormesh(A[1,:].reshape(6,6),cmap=plt.cm.gray)  \n",
    "# plt.subplot(143)\n",
    "# plt.pcolormesh(A[2,:].reshape(6,6),cmap=plt.cm.gray)  \n",
    "# plt.subplot(144)\n",
    "# plt.pcolormesh(A[3,:].reshape(6,6),cmap=plt.cm.gray) "
   ]
  },
  {
   "cell_type": "markdown",
   "metadata": {},
   "source": [
    "###### Set initial numbers, dimensions and features"
   ]
  },
  {
   "cell_type": "markdown",
   "metadata": {},
   "source": [
    "###### Sample prior"
   ]
  },
  {
   "cell_type": "code",
   "execution_count": 143,
   "metadata": {
    "collapsed": false
   },
   "outputs": [],
   "source": [
    "np.random.seed(1)\n",
    "def sampleIBP(alpha, N):\n",
    "    result = np.zeros((N, 1000))\n",
    "    t = np.random.poisson(alpha)\n",
    "    if t>0:\n",
    "        result[0,0:t] = np.ones(t)\n",
    "    Kplus = t\n",
    "    for i in range(1,N):\n",
    "        for j in range(Kplus):\n",
    "            p = np.sum(result[0:i,j])/(i+1)\n",
    "            if np.random.uniform(0,1) < p:\n",
    "                result[i,j] = 1\n",
    "        t = np.random.poisson(alpha/(i+1))\n",
    "        if t>0:\n",
    "            result[i,Kplus:Kplus+t] = np.ones(t)\n",
    "            Kplus = Kplus+t\n",
    "    result = result[:,0:Kplus]\n",
    "    return np.array((result, Kplus))\n"
   ]
  },
  {
   "cell_type": "markdown",
   "metadata": {},
   "source": [
    "##### Likelihood function"
   ]
  },
  {
   "cell_type": "code",
   "execution_count": 137,
   "metadata": {
    "collapsed": true
   },
   "outputs": [],
   "source": [
    "# define a log likelihood function \n",
    "def ll0(X, Z, sigmaX, sigmaA, K, D, N):\n",
    "    return (-1)*np.log(2*np.pi)*N*D*.5 - np.log(sigmaX)*(N-K)*D - np.log(sigmaA)*K*D \\\n",
    "- .5*D*np.log(np.linalg.det(Z.T.dot(Z)+(sigmaX**2/sigmaA**2)*np.identity(K))) \\\n",
    "-.5/(sigmaX**2)*np.trace((X.T.dot( np.identity(N) \\\n",
    "                                  -Z.dot(np.linalg.inv(Z.T.dot(Z)+(sigmaX**2/sigmaA**2)*np.identity(K)).dot(Z.T)))).dot(X))"
   ]
  },
  {
   "cell_type": "code",
   "execution_count": 144,
   "metadata": {
    "collapsed": false
   },
   "outputs": [],
   "source": [
    "# define a log likelihood function \n",
    "def ll(X, Z, sigmaX, sigmaA, K, D, N):\n",
    "    M = Z.T.dot(Z)+(sigmaX**2/sigmaA**2)*np.identity(K)\n",
    "    return (-1)*np.log(2*np.pi)*N*D*.5 - np.log(sigmaX)*(N-K)*D - np.log(sigmaA)*K*D - .5*D*np.log(np.linalg.det(M)) \\\n",
    "        -.5/(sigmaX**2)*np.trace( (X.T.dot( np.identity(N)-Z.dot(np.linalg.inv(M).dot(Z.T)) )).dot(X) )"
   ]
  },
  {
   "cell_type": "code",
   "execution_count": 139,
   "metadata": {
    "collapsed": false
   },
   "outputs": [],
   "source": [
    "Z, Kplus = sampleIBP(1, N)"
   ]
  },
  {
   "cell_type": "code",
   "execution_count": 140,
   "metadata": {
    "collapsed": false
   },
   "outputs": [
    {
     "name": "stdout",
     "output_type": "stream",
     "text": [
      "1000 loops, best of 3: 355 µs per loop\n",
      "1000 loops, best of 3: 316 µs per loop\n"
     ]
    }
   ],
   "source": [
    "%timeit ll0(X, Z, sigmaX, sigmaA, Kplus , D, N)\n",
    "%timeit ll(X, Z, sigmaX, sigmaA, Kplus , D, N)"
   ]
  },
  {
   "cell_type": "code",
   "execution_count": 145,
   "metadata": {
    "collapsed": true
   },
   "outputs": [],
   "source": [
    "def sampler(X, niter, BURN_IN, sigmaX, sigmaA,alpha, N, D, maxNew):\n",
    "    HN = 0.\n",
    "    for i in range(1,N+1):\n",
    "        HN += 1./i\n",
    "\n",
    "    SAMPLE_SIZE=niter-BURN_IN\n",
    "\n",
    "    K_inf=20\n",
    "\n",
    "    chain_Z=np.zeros((SAMPLE_SIZE,N,K_inf))\n",
    "    chain_K=np.zeros((SAMPLE_SIZE,1))\n",
    "    chain_sigma_X=np.zeros((SAMPLE_SIZE,1))\n",
    "    chain_sigma_A=np.zeros((SAMPLE_SIZE,1))\n",
    "    chain_alpha=np.zeros((SAMPLE_SIZE,1))\n",
    "    np.random.seed(1)\n",
    "    Z, Kplus = sampleIBP(alpha, N)\n",
    "    s_counter=0\n",
    "\n",
    "    for j in range(niter):\n",
    "#         if j%50==0:\n",
    "#             print j\n",
    "        #print(\"iteration:\",j ,  \"Kplus:\",Kplus,  \"shape of Z\", Z.shape, \"alpha:\", alpha, \"sigmaX\", sigmaX)\n",
    "        #update z\n",
    "        if((j+1)>BURN_IN):\n",
    "            chain_Z[s_counter,:,0:Kplus]=Z\n",
    "            chain_K[s_counter]=Kplus\n",
    "            chain_sigma_X[s_counter]=sigmaX\n",
    "            chain_sigma_A[s_counter]=sigmaA\n",
    "            chain_alpha[s_counter]=alpha\n",
    "            s_counter=s_counter+1\n",
    "\n",
    "        for i in range(N):\n",
    "            for k in range(Kplus):\n",
    "                #print k\n",
    "                if k>=Kplus:\n",
    "                    break     \n",
    "                #Removing the singular features, i.e. the ones that have 1 for the current object only.\n",
    "                if Z[i,k] > 0:\n",
    "                    if (np.sum(Z[:,k])- 1) <=0:\n",
    "                        #Z[i,k] = 0\n",
    "                        Z[:,k:(Kplus-1)] = Z[:,(k+1):Kplus] #shift everything one column to the left\n",
    "                        Kplus = Kplus-1\n",
    "                        Z = Z[:,0:Kplus] # remove the last column as it is redundent\n",
    "                        continue #We're no longer looking at this feature, so move to another one               \n",
    "\n",
    "                P = np.zeros(2)\n",
    "                #set Z[i,k] = 0 and calculate posterior probability\n",
    "                Z[i,k] = 0\n",
    "                P[0] = ll(X, Z, sigmaX, sigmaA, Kplus, D, N) + np.log(N-np.sum(Z[:,k])) - np.log(N)\n",
    "\n",
    "                #set Z[i,k] = 1 and calculate posterior probability\n",
    "                Z[i,k] = 1\n",
    "                P[1] = ll(X, Z,sigmaX, sigmaA, Kplus, D, N)  + np.log(np.sum(Z[:,k])- 1) - np.log(N)\n",
    "\n",
    "                P = np.exp(P - max(P))\n",
    "                U = np.random.uniform(0,1)\n",
    "                if U<(P[1]/(np.sum(P))):\n",
    "                    Z[i,k] = 1\n",
    "                else:\n",
    "                    Z[i,k] = 0   \n",
    "\n",
    "\n",
    "            #Sample number of new features\n",
    "            prob = np.zeros(maxNew)\n",
    "            alphaN = alpha/N\n",
    "            for kNew in range(maxNew): # max new features is 3\n",
    "                Z_temp = Z\n",
    "                if kNew>0:\n",
    "                    addCols = np.zeros((N,kNew))\n",
    "                    addCols[i,:] = 1\n",
    "                    Z_temp = np.hstack((Z_temp, addCols))\n",
    "\n",
    "                pois = kNew*np.log(alphaN) - alphaN - np.log(math.factorial(kNew))\n",
    "                lik = ll(X = X, Z = Z_temp, sigmaX = sigmaX, sigmaA = sigmaA, K=(Kplus+kNew), D= D, N= N)\n",
    "                prob[kNew] = pois + lik\n",
    "\n",
    "            #normalize prob\n",
    "            prob = np.exp(prob - max(prob))\n",
    "            prob = prob/sum(prob)\n",
    "\n",
    "            U = np.random.uniform(0,1,1)\n",
    "            p = 0\n",
    "            kNew=0\n",
    "            for new in range(maxNew):\n",
    "                p = p+prob[new]\n",
    "                if U<p:\n",
    "                    kNew = new\n",
    "                    break\n",
    "\n",
    "            #Add kNew new columns to Z and set the values at ith row to 1 for all of them\n",
    "            if kNew>0:\n",
    "                addCols = np.zeros((N,kNew))\n",
    "                addCols[i,:] = 1\n",
    "                Z = np.hstack((Z, addCols))\n",
    "            Kplus = Kplus + kNew \n",
    "\n",
    "        llCurrent = ll(X, Z, sigmaX, sigmaA, Kplus, D, N )\n",
    "        #update sigmaX\n",
    "        if np.random.uniform(0,1) < .5:\n",
    "            sigmaX_new = sigmaX - np.random.uniform(0,1)/20\n",
    "        else:\n",
    "            sigmaX_new = sigmaX + np.random.uniform(0,1)/20\n",
    "        llNew = ll(X, Z, sigmaX_new, sigmaA, Kplus, D, N)\n",
    "\n",
    "        arX = np.exp(min(0,llNew-llCurrent))\n",
    "        U = np.random.uniform(0,1)\n",
    "        if U < arX:\n",
    "            sigmaX = sigmaX_new\n",
    "\n",
    "\n",
    "        #update sigma_A\n",
    "        #epsA = np.random.uniform(0,1)\n",
    "        if np.random.uniform(0,1) < .5:\n",
    "            sigmaA_new = sigmaA - np.random.uniform(0,1)/20\n",
    "        else:\n",
    "            sigmaA_new = sigmaA + np.random.uniform(0,1)/20\n",
    "\n",
    "\n",
    "    #     epsA = np.random.uniform(-.05,.05)\n",
    "    #     sigmaA_new = sigmaA+epsA\n",
    "        #llCurrent = ll(X, Z, sigmaX, sigmaA, Kplus, D, N )\n",
    "        #llCurrent = ll(X, Z, sigmaX, sigmaA, Kplus, D, N )\n",
    "        llNew = ll(X, Z, sigmaX, sigmaA_new, Kplus, D, N)\n",
    "\n",
    "        arA = np.exp(min(0,llNew-llCurrent))\n",
    "\n",
    "        U = np.random.uniform(0,1)\n",
    "        if U < arA:\n",
    "            sigmaA = sigmaA_new\n",
    "\n",
    "        alpha = np.random.gamma(1+Kplus, 1/(1+HN))\n",
    "    \n",
    "    return(chain_Z, chain_K, chain_sigma_A, chain_sigma_X, chain_alpha, Z)"
   ]
  },
  {
   "cell_type": "code",
   "execution_count": 69,
   "metadata": {
    "collapsed": false
   },
   "outputs": [],
   "source": [
    "%load_ext Cython"
   ]
  },
  {
   "cell_type": "code",
   "execution_count": 70,
   "metadata": {
    "collapsed": false
   },
   "outputs": [
    {
     "name": "stdout",
     "output_type": "stream",
     "text": [
      "Overwriting Cython_setup.py\n"
     ]
    }
   ],
   "source": [
    "%%file Cython_setup.py\n",
    "from distutils.core import setup\n",
    "from Cython.Build import cythonize\n",
    "\n",
    "setup(\n",
    "    ext_modules = cythonize(\"Cython_functions.pyx\")\n",
    ")"
   ]
  },
  {
   "cell_type": "code",
   "execution_count": 71,
   "metadata": {
    "collapsed": false
   },
   "outputs": [
    {
     "name": "stdout",
     "output_type": "stream",
     "text": [
      "Overwriting Cython_functions.pyx\n"
     ]
    }
   ],
   "source": [
    "%%file Cython_functions.pyx\n",
    "import numpy as np\n",
    "\n",
    "def ll(X, Z, sigmaX, sigmaA, K, D, N):\n",
    "    #M = Z[:,0:K].T.dot(Z[:,0:K])+sigmaX**2/sigmaA**2*np.identity(K)\n",
    "    M = Z.T.dot(Z)+(sigmaX**2/sigmaA**2)*np.identity(K)\n",
    "    return (-1)*np.log(2*np.pi)*N*D*.5 - np.log(sigmaX)*(N-K)*D - np.log(sigmaA)*K*D - .5*D*np.log(np.linalg.det(M)) \\\n",
    "        -.5/(sigmaX**2)*np.trace( (X.T.dot( np.identity(N)-Z.dot(np.linalg.inv(M).dot(Z.T)) )).dot(X) )\n",
    "\n",
    "np.random.seed(1)\n",
    "def sampleIBP(alpha, N):\n",
    "    result = np.zeros((N, 1000))\n",
    "    t = np.random.poisson(alpha)\n",
    "    if t>0:\n",
    "        result[0,0:t] = np.ones(t)\n",
    "    Kplus = t\n",
    "    for i in range(1,N):\n",
    "        for j in range(Kplus):\n",
    "            p = np.sum(result[0:i,j])/(i+1)\n",
    "            if np.random.uniform(0,1) < p:\n",
    "                result[i,j] = 1\n",
    "        t = np.random.poisson(alpha/(i+1))\n",
    "        if t>0:\n",
    "            result[i,Kplus:Kplus+t] = np.ones(t)\n",
    "            Kplus = Kplus+t\n",
    "    result = result[:,0:Kplus]\n",
    "    return np.array((result, Kplus))"
   ]
  },
  {
   "cell_type": "code",
   "execution_count": 72,
   "metadata": {
    "collapsed": false
   },
   "outputs": [
    {
     "name": "stdout",
     "output_type": "stream",
     "text": [
      "Compiling Cython_functions.pyx because it changed.\n",
      "Cythonizing Cython_functions.pyx\n",
      "running build_ext\n",
      "building 'Cython_functions' extension\n",
      "gcc -pthread -fno-strict-aliasing -g -O2 -DNDEBUG -g -fwrapv -O3 -Wall -Wstrict-prototypes -fPIC -I/home/bitnami/anaconda/include/python2.7 -c Cython_functions.c -o build/temp.linux-x86_64-2.7/Cython_functions.o\n",
      "gcc -pthread -shared build/temp.linux-x86_64-2.7/Cython_functions.o -L/home/bitnami/anaconda/lib -lpython2.7 -o /home/bitnami/STA663-FinalProject/Cython_functions.so\n"
     ]
    }
   ],
   "source": [
    "! python Cython_setup.py build_ext --inplace"
   ]
  },
  {
   "cell_type": "code",
   "execution_count": 128,
   "metadata": {
    "collapsed": false
   },
   "outputs": [],
   "source": [
    "#%%cython -a\n",
    "import numpy as np\n",
    "#cimport numpy as np\n",
    "import scipy as sp\n",
    "import math\n",
    "import Cython_functions as func\n",
    "\n",
    "def sampler_cy(X, niter, BURN_IN, sigmaX, sigmaA,alpha, N, D, maxNew):\n",
    "    HN = 0.\n",
    "    for i in range(1,N+1):\n",
    "        HN += 1./i\n",
    "\n",
    "    SAMPLE_SIZE=niter-BURN_IN\n",
    "\n",
    "    K_inf=20\n",
    "\n",
    "    chain_Z=np.zeros((SAMPLE_SIZE,N,K_inf))\n",
    "    chain_K=np.zeros((SAMPLE_SIZE,1))\n",
    "    chain_sigma_X=np.zeros((SAMPLE_SIZE,1))\n",
    "    chain_sigma_A=np.zeros((SAMPLE_SIZE,1))\n",
    "    chain_alpha=np.zeros((SAMPLE_SIZE,1))\n",
    "    np.random.seed(1)\n",
    "    Z, Kplus = func.sampleIBP(alpha, N)\n",
    "    s_counter=0\n",
    "\n",
    "    for j in range(niter):\n",
    "        if j%50==0:\n",
    "            print j\n",
    "        #print(\"iteration:\",j ,  \"Kplus:\",Kplus,  \"shape of Z\", Z.shape, \"alpha:\", alpha, \"sigmaX\", sigmaX)\n",
    "        #update z\n",
    "        if((j+1)>BURN_IN):\n",
    "            chain_Z[s_counter,:,0:Kplus]=Z\n",
    "            chain_K[s_counter]=Kplus\n",
    "            chain_sigma_X[s_counter]=sigmaX\n",
    "            chain_sigma_A[s_counter]=sigmaA\n",
    "            chain_alpha[s_counter]=alpha\n",
    "            s_counter=s_counter+1\n",
    "\n",
    "        for i in range(N):\n",
    "            for k in range(Kplus):\n",
    "                #print k\n",
    "                if k>=Kplus:\n",
    "                    break     \n",
    "                #Removing the singular features, i.e. the ones that have 1 for the current object only.\n",
    "                if Z[i,k] > 0:\n",
    "                    if (np.sum(Z[:,k])- 1) <=0:\n",
    "                        #Z[i,k] = 0\n",
    "                        Z[:,k:(Kplus-1)] = Z[:,(k+1):Kplus] #shift everything one column to the left\n",
    "                        Kplus = Kplus-1\n",
    "                        Z = Z[:,0:Kplus] # remove the last column as it is redundent\n",
    "                        continue #We're no longer looking at this feature, so move to another one               \n",
    "\n",
    "                P = np.zeros(2)\n",
    "                #set Z[i,k] = 0 and calculate posterior probability\n",
    "                Z[i,k] = 0\n",
    "                P[0] = func.ll(X, Z, sigmaX, sigmaA, Kplus, D, N) + np.log(N-np.sum(Z[:,k])) - np.log(N)\n",
    "\n",
    "                #set Z[i,k] = 1 and calculate posterior probability\n",
    "                Z[i,k] = 1\n",
    "                P[1] = func.ll(X, Z,sigmaX, sigmaA, Kplus, D, N)  + np.log(np.sum(Z[:,k])- 1) - np.log(N)\n",
    "\n",
    "                P = np.exp(P - max(P))\n",
    "                U = np.random.uniform(0,1)\n",
    "                if U<(P[1]/(np.sum(P))):\n",
    "                    Z[i,k] = 1\n",
    "                else:\n",
    "                    Z[i,k] = 0   \n",
    "\n",
    "\n",
    "            #Sample number of new features\n",
    "            prob = np.zeros(maxNew)\n",
    "            alphaN = alpha/N\n",
    "            for kNew in range(maxNew): # max new features is 3\n",
    "                Z_temp = Z\n",
    "                if kNew>0:\n",
    "                    addCols = np.zeros((N,kNew))\n",
    "                    addCols[i,:] = 1\n",
    "                    Z_temp = np.hstack((Z_temp, addCols))\n",
    "\n",
    "                pois = kNew*np.log(alphaN) - alphaN - np.log(math.factorial(kNew))\n",
    "                lik = func.ll(X = X, Z = Z_temp, sigmaX = sigmaX, sigmaA = sigmaA, K=(Kplus+kNew), D= D, N= N)\n",
    "                prob[kNew] = pois + lik\n",
    "\n",
    "            #normalize prob\n",
    "            prob = np.exp(prob - max(prob))\n",
    "            prob = prob/sum(prob)\n",
    "\n",
    "            U = np.random.uniform(0,1,1)\n",
    "            p = 0\n",
    "            kNew=0\n",
    "            for new in range(maxNew):\n",
    "                p = p+prob[new]\n",
    "                if U<p:\n",
    "                    kNew = new\n",
    "                    break\n",
    "\n",
    "            #Add kNew new columns to Z and set the values at ith row to 1 for all of them\n",
    "            if kNew>0:\n",
    "                addCols = np.zeros((N,kNew))\n",
    "                addCols[i,:] = 1\n",
    "                Z = np.hstack((Z, addCols))\n",
    "            Kplus = Kplus + kNew \n",
    "\n",
    "        llCurrent = func.ll(X, Z, sigmaX, sigmaA, Kplus, D, N )\n",
    "        #update sigmaX\n",
    "        if np.random.uniform(0,1) < .5:\n",
    "            sigmaX_new = sigmaX - np.random.uniform(0,1)/20\n",
    "        else:\n",
    "            sigmaX_new = sigmaX + np.random.uniform(0,1)/20\n",
    "        llNew = func.ll(X, Z, sigmaX_new, sigmaA, Kplus, D, N)\n",
    "\n",
    "        arX = np.exp(min(0,llNew-llCurrent))\n",
    "        U = np.random.uniform(0,1)\n",
    "        if U < arX:\n",
    "            sigmaX = sigmaX_new\n",
    "\n",
    "\n",
    "        #update sigma_A\n",
    "        #epsA = np.random.uniform(0,1)\n",
    "        if np.random.uniform(0,1) < .5:\n",
    "            sigmaA_new = sigmaA - np.random.uniform(0,1)/20\n",
    "        else:\n",
    "            sigmaA_new = sigmaA + np.random.uniform(0,1)/20\n",
    "\n",
    "\n",
    "    #     epsA = np.random.uniform(-.05,.05)\n",
    "    #     sigmaA_new = sigmaA+epsA\n",
    "        #llCurrent = ll(X, Z, sigmaX, sigmaA, Kplus, D, N )\n",
    "        #llCurrent = ll(X, Z, sigmaX, sigmaA, Kplus, D, N )\n",
    "        llNew = func.ll(X, Z, sigmaX, sigmaA_new, Kplus, D, N)\n",
    "\n",
    "        arA = np.exp(min(0,llNew-llCurrent))\n",
    "\n",
    "        U = np.random.uniform(0,1)\n",
    "        if U < arA:\n",
    "            sigmaA = sigmaA_new\n",
    "\n",
    "        alpha = np.random.gamma(1+Kplus, 1/(1+HN))\n",
    "    \n",
    "    return(chain_Z, chain_K, chain_sigma_A, chain_sigma_X, chain_alpha, Z)"
   ]
  },
  {
   "cell_type": "markdown",
   "metadata": {},
   "source": [
    "### Profiling"
   ]
  },
  {
   "cell_type": "code",
   "execution_count": 129,
   "metadata": {
    "collapsed": false,
    "scrolled": true
   },
   "outputs": [
    {
     "data": {
      "text/plain": [
       "484.3239"
      ]
     },
     "execution_count": 129,
     "metadata": {},
     "output_type": "execute_result"
    }
   ],
   "source": [
    "#Kplus = 4 #current number of features with at least one object\n",
    "niter = 1000\n",
    "sigmaX = 1.\n",
    "sigmaA = 1.\n",
    "alpha = 1.\n",
    "maxNew = 4\n",
    "BURN_IN=200\n",
    "t0 = time.time()\n",
    "chain_Z, chain_K, chain_sigma_A, chain_sigma_X, chain_alpha, Z= sampler(X, niter, BURN_IN, sigmaX, sigmaA,alpha, N, D, maxNew)\n",
    "t1= time.time()\n",
    "\n",
    "dt = t1-t0\n",
    "dt"
   ]
  },
  {
   "cell_type": "code",
   "execution_count": 130,
   "metadata": {
    "collapsed": false
   },
   "outputs": [
    {
     "data": {
      "text/plain": [
       "(array([ 19.,  49.,  25.,   7.,   0.,   0.,   0.,   0.]),\n",
       " array([1, 2, 3, 4, 5, 6, 7, 8, 9]),\n",
       " <a list of 8 Patch objects>)"
      ]
     },
     "execution_count": 130,
     "metadata": {},
     "output_type": "execute_result"
    },
    {
     "data": {
      "image/png": "[encoded data removed]",
      "text/plain": [
       "<matplotlib.figure.Figure at 0x7fa9f99f8d90>"
      ]
     },
     "metadata": {},
     "output_type": "display_data"
    }
   ],
   "source": [
    "plt.hist(chain_K, bins = range(10), normed=True)\n",
    "plt.hist(np.sum(Z,axis=1), bins = range(1,10))"
   ]
  },
  {
   "cell_type": "code",
   "execution_count": 131,
   "metadata": {
    "collapsed": false
   },
   "outputs": [
    {
     "data": {
      "text/plain": [
       "(array([  0.,   3.,  38.,  34.,  23.,   2.,   0.,   0.,   0.]),\n",
       " array([0, 1, 2, 3, 4, 5, 6, 7, 8, 9]),\n",
       " <a list of 9 Patch objects>)"
      ]
     },
     "execution_count": 131,
     "metadata": {},
     "output_type": "execute_result"
    },
    {
     "data": {
      "image/png": "[encoded data removed]",
      "text/plain": [
       "<matplotlib.figure.Figure at 0x7fa9f974f0d0>"
      ]
     },
     "metadata": {},
     "output_type": "display_data"
    }
   ],
   "source": [
    "plt.hist(np.ceil(np.sum(np.mean(chain_Z,axis=0),axis=1)), bins=range(10))"
   ]
  },
  {
   "cell_type": "code",
   "execution_count": 136,
   "metadata": {
    "collapsed": false
   },
   "outputs": [
    {
     "data": {
      "text/plain": [
       "<matplotlib.collections.QuadMesh at 0x7fa9f939dd90>"
      ]
     },
     "execution_count": 136,
     "metadata": {},
     "output_type": "execute_result"
    },
    {
     "data": {
      "image/png": "[encoded data removed]",
      "text/plain": [
       "<matplotlib.figure.Figure at 0x7fa9f980d390>"
      ]
     },
     "metadata": {},
     "output_type": "display_data"
    }
   ],
   "source": [
    "N=100\n",
    "D=36\n",
    "SAMPLE_SIZE= niter-BURN_IN\n",
    "\n",
    "Z_final=Z[:,0:4]\n",
    "\n",
    "XRecreated=np.zeros((num_objects,object_dim))\n",
    "Z=Z[:,0:4]\n",
    "sigma_X=chain_sigma_X[SAMPLE_SIZE-1]\n",
    "sigma_A=chain_sigma_A[SAMPLE_SIZE-1]\n",
    "A_inf=np.dot(np.dot(np.linalg.inv((np.dot(Z.T,Z)+(sigmaX/sigmaA)*np.eye(4))),Z.T),X)\n",
    "\n",
    "for i in range(num_objects):\n",
    "    XRecreated[i,:]=np.dot(Z_final[i,:],A_inf[0:4,])\n",
    "\n",
    "\n",
    "plt.figure(num=None, figsize=(12,3), dpi=80, facecolor='w', edgecolor='k')\n",
    "plt.subplot(141)\n",
    "plt.pcolormesh(XRecreated[0,:].reshape(6,6),cmap=plt.cm.gray)\n",
    "plt.subplot(142)\n",
    "plt.pcolormesh(XRecreated[1,:].reshape(6,6),cmap=plt.cm.gray)\n",
    "plt.subplot(143)\n",
    "plt.pcolormesh(XRecreated[2,:].reshape(6,6),cmap=plt.cm.gray)\n",
    "plt.subplot(144)\n",
    "plt.pcolormesh(XRecreated[3,:].reshape(6,6),cmap=plt.cm.gray)\n"
   ]
  },
  {
   "cell_type": "code",
   "execution_count": null,
   "metadata": {
    "collapsed": false,
    "scrolled": false
   },
   "outputs": [],
   "source": [
    "%timeit sampler_cy(X, 100, 0, sigmaX, sigmaA,alpha, N, D, maxNew)\n",
    "%timeit sampler(X, 100, 0, sigmaX, sigmaA,alpha, N, D, maxNew)"
   ]
  },
  {
   "cell_type": "code",
   "execution_count": 149,
   "metadata": {
    "collapsed": false
   },
   "outputs": [
    {
     "name": "stdout",
     "output_type": "stream",
     "text": [
      " \n",
      "*** Profile stats marshalled to file u'sampler.prof'. \n"
     ]
    }
   ],
   "source": [
    "%prun -D sampler.prof sampler(X, 50, 0, sigmaX, sigmaA,alpha, N, D, maxNew)"
   ]
  },
  {
   "cell_type": "code",
   "execution_count": 147,
   "metadata": {
    "collapsed": false
   },
   "outputs": [
    {
     "name": "stdout",
     "output_type": "stream",
     "text": [
      "         2075808 function calls in 11.442 seconds\n",
      "\n",
      "   Ordered by: internal time\n",
      "\n",
      "   ncalls  tottime  percall  cumtime  percall filename:lineno(function)\n",
      "   154080    4.158    0.000    4.158    0.000 {method 'dot' of 'numpy.ndarray' objects}\n",
      "    30816    1.622    0.000    9.873    0.000 <ipython-input-144-816e3f6a3e53>:2(ll)\n",
      "    30816    0.799    0.000    1.408    0.000 linalg.py:455(inv)\n",
      "        1    0.779    0.779   11.442   11.442 <ipython-input-145-4efe9a6e9287>:1(sampler)\n",
      "    30816    0.575    0.000    1.137    0.000 linalg.py:1679(det)\n",
      "    61632    0.406    0.000    1.024    0.000 numeric.py:2125(identity)\n",
      "    61632    0.391    0.000    0.618    0.000 twodim_base.py:190(eye)\n",
      "    30816    0.352    0.000    0.352    0.000 {method 'trace' of 'numpy.ndarray' objects}\n",
      "    86971    0.287    0.000    0.287    0.000 {numpy.core.multiarray.zeros}\n",
      "    61632    0.195    0.000    0.332    0.000 linalg.py:139(_commonType)\n",
      "   122449    0.181    0.000    0.181    0.000 {numpy.core.multiarray.array}\n",
      "    20964    0.144    0.000    0.144    0.000 {method 'reduce' of 'numpy.ufunc' objects}\n",
      "    30816    0.122    0.000    0.122    0.000 {method 'astype' of 'numpy.ndarray' objects}\n",
      "    92448    0.118    0.000    0.263    0.000 numeric.py:394(asarray)\n",
      "    30816    0.115    0.000    0.115    0.000 {method 'astype' of 'numpy.generic' objects}\n",
      "    71965    0.112    0.000    0.112    0.000 {max}\n",
      "    15000    0.097    0.000    0.097    0.000 {numpy.core.multiarray.concatenate}\n",
      "    61632    0.094    0.000    0.155    0.000 linalg.py:209(_assertNdSquareness)\n",
      "    30000    0.089    0.000    0.178    0.000 shape_base.py:8(atleast_1d)\n",
      "   184896    0.076    0.000    0.076    0.000 {issubclass}\n",
      "    61632    0.075    0.000    0.090    0.000 linalg.py:198(_assertRankAtLeast2)\n",
      "    30816    0.068    0.000    0.524    0.000 fromnumeric.py:1233(trace)\n",
      "    20964    0.056    0.000    0.247    0.000 fromnumeric.py:1631(sum)\n",
      "    15000    0.054    0.000    0.328    0.000 shape_base.py:230(hstack)\n",
      "    30816    0.053    0.000    0.053    0.000 linalg.py:101(get_linalg_error_extobj)\n",
      "   123264    0.052    0.000    0.083    0.000 linalg.py:111(isComplexType)\n",
      "    30816    0.047    0.000    0.133    0.000 linalg.py:106(_makearray)\n",
      "    10980    0.043    0.000    0.043    0.000 {method 'uniform' of 'mtrand.RandomState' objects}\n",
      "    30816    0.039    0.000    0.039    0.000 linalg.py:219(_assertNoEmpty2d)\n",
      "    61632    0.037    0.000    0.050    0.000 linalg.py:124(_realType)\n",
      "    30000    0.030    0.000    0.066    0.000 numeric.py:464(asanyarray)\n",
      "    20964    0.028    0.000    0.028    0.000 {isinstance}\n",
      "   121632    0.026    0.000    0.026    0.000 {len}\n",
      "     5000    0.021    0.000    0.021    0.000 {sum}\n",
      "    20964    0.019    0.000    0.163    0.000 _methods.py:31(_sum)\n",
      "    61732    0.017    0.000    0.017    0.000 {min}\n",
      "    61632    0.013    0.000    0.013    0.000 {method 'get' of 'dict' objects}\n",
      "    15152    0.012    0.000    0.012    0.000 {range}\n",
      "    30000    0.011    0.000    0.011    0.000 {method 'append' of 'list' objects}\n",
      "    20000    0.011    0.000    0.011    0.000 {math.factorial}\n",
      "    30816    0.010    0.000    0.010    0.000 {getattr}\n",
      "    30816    0.007    0.000    0.007    0.000 {method '__array_prepare__' of 'numpy.ndarray' objects}\n",
      "        1    0.002    0.002    0.006    0.006 <ipython-input-143-ed70069a6371>:2(sampleIBP)\n",
      "       50    0.000    0.000    0.000    0.000 {method 'gamma' of 'mtrand.RandomState' objects}\n",
      "      100    0.000    0.000    0.000    0.000 {method 'poisson' of 'mtrand.RandomState' objects}\n",
      "        4    0.000    0.000    0.000    0.000 {numpy.core.multiarray.copyto}\n",
      "        4    0.000    0.000    0.000    0.000 numeric.py:141(ones)\n",
      "        4    0.000    0.000    0.000    0.000 {numpy.core.multiarray.empty}\n",
      "        1    0.000    0.000    0.000    0.000 {method 'seed' of 'mtrand.RandomState' objects}\n",
      "        1    0.000    0.000   11.442   11.442 <string>:1(<module>)\n",
      "        1    0.000    0.000    0.000    0.000 {method 'disable' of '_lsprof.Profiler' objects}\n",
      "\n",
      "\n"
     ]
    }
   ],
   "source": [
    "stats.sort_stats('time').print_stats();"
   ]
  },
  {
   "cell_type": "code",
   "execution_count": 81,
   "metadata": {
    "collapsed": false
   },
   "outputs": [
    {
     "name": "stdout",
     "output_type": "stream",
     "text": [
      "         2075828 function calls in 11.436 seconds\n",
      "\n",
      "   Ordered by: internal time\n",
      "\n",
      "   ncalls  tottime  percall  cumtime  percall filename:lineno(function)\n",
      "   154080    4.208    0.000    4.208    0.000 {method 'dot' of 'numpy.ndarray' objects}\n",
      "    30816    1.554    0.000    9.869    0.000 <ipython-input-65-816e3f6a3e53>:2(ll)\n",
      "    30816    0.823    0.000    1.433    0.000 linalg.py:455(inv)\n",
      "        1    0.776    0.776   11.435   11.435 <ipython-input-68-2fbc1bc057f9>:1(sampler)\n",
      "    30816    0.578    0.000    1.124    0.000 linalg.py:1679(det)\n",
      "    61632    0.406    0.000    1.018    0.000 numeric.py:2125(identity)\n",
      "    61632    0.385    0.000    0.612    0.000 twodim_base.py:190(eye)\n",
      "    30816    0.357    0.000    0.357    0.000 {method 'trace' of 'numpy.ndarray' objects}\n",
      "    86971    0.282    0.000    0.282    0.000 {numpy.core.multiarray.zeros}\n",
      "    61632    0.191    0.000    0.327    0.000 linalg.py:139(_commonType)\n",
      "   122449    0.185    0.000    0.185    0.000 {numpy.core.multiarray.array}\n",
      "    20964    0.153    0.000    0.153    0.000 {method 'reduce' of 'numpy.ufunc' objects}\n",
      "    30816    0.122    0.000    0.122    0.000 {method 'astype' of 'numpy.ndarray' objects}\n",
      "    92448    0.116    0.000    0.264    0.000 numeric.py:394(asarray)\n",
      "    30816    0.113    0.000    0.113    0.000 {method 'astype' of 'numpy.generic' objects}\n",
      "    71965    0.109    0.000    0.109    0.000 {max}\n",
      "    15000    0.104    0.000    0.104    0.000 {numpy.core.multiarray.concatenate}\n",
      "    61632    0.087    0.000    0.148    0.000 linalg.py:209(_assertNdSquareness)\n",
      "    30000    0.085    0.000    0.174    0.000 shape_base.py:8(atleast_1d)\n",
      "   184896    0.076    0.000    0.076    0.000 {issubclass}\n",
      "    61632    0.073    0.000    0.088    0.000 linalg.py:198(_assertRankAtLeast2)\n",
      "    30816    0.069    0.000    0.532    0.000 fromnumeric.py:1233(trace)\n",
      "    20964    0.054    0.000    0.253    0.000 fromnumeric.py:1631(sum)\n",
      "    15000    0.053    0.000    0.331    0.000 shape_base.py:230(hstack)\n",
      "   123264    0.053    0.000    0.082    0.000 linalg.py:111(isComplexType)\n",
      "    30816    0.052    0.000    0.052    0.000 linalg.py:101(get_linalg_error_extobj)\n",
      "    30816    0.050    0.000    0.137    0.000 linalg.py:106(_makearray)\n",
      "    10980    0.041    0.000    0.041    0.000 {method 'uniform' of 'mtrand.RandomState' objects}\n",
      "    30816    0.038    0.000    0.038    0.000 linalg.py:219(_assertNoEmpty2d)\n",
      "    61632    0.035    0.000    0.048    0.000 linalg.py:124(_realType)\n",
      "    30000    0.030    0.000    0.067    0.000 numeric.py:464(asanyarray)\n",
      "    20966    0.028    0.000    0.028    0.000 {isinstance}\n",
      "   121632    0.025    0.000    0.025    0.000 {len}\n",
      "     5000    0.022    0.000    0.022    0.000 {sum}\n",
      "    20964    0.017    0.000    0.171    0.000 _methods.py:31(_sum)\n",
      "    61732    0.016    0.000    0.016    0.000 {min}\n",
      "    61632    0.013    0.000    0.013    0.000 {method 'get' of 'dict' objects}\n",
      "    30000    0.012    0.000    0.012    0.000 {method 'append' of 'list' objects}\n",
      "    15152    0.011    0.000    0.011    0.000 {range}\n",
      "    30816    0.011    0.000    0.011    0.000 {getattr}\n",
      "    20000    0.011    0.000    0.011    0.000 {math.factorial}\n",
      "    30816    0.007    0.000    0.007    0.000 {method '__array_prepare__' of 'numpy.ndarray' objects}\n",
      "        1    0.001    0.001    0.004    0.004 <ipython-input-62-ed70069a6371>:2(sampleIBP)\n",
      "        1    0.000    0.000   11.436   11.436 <string>:1(<module>)\n",
      "       50    0.000    0.000    0.000    0.000 {method 'gamma' of 'mtrand.RandomState' objects}\n",
      "      100    0.000    0.000    0.000    0.000 {method 'poisson' of 'mtrand.RandomState' objects}\n",
      "        4    0.000    0.000    0.000    0.000 {numpy.core.multiarray.copyto}\n",
      "        2    0.000    0.000    0.000    0.000 iostream.py:207(write)\n",
      "        4    0.000    0.000    0.000    0.000 {numpy.core.multiarray.empty}\n",
      "        4    0.000    0.000    0.000    0.000 numeric.py:141(ones)\n",
      "        1    0.000    0.000    0.000    0.000 {method 'seed' of 'mtrand.RandomState' objects}\n",
      "        2    0.000    0.000    0.000    0.000 {_codecs.utf_8_decode}\n",
      "        2    0.000    0.000    0.000    0.000 {method 'decode' of 'str' objects}\n",
      "        2    0.000    0.000    0.000    0.000 iostream.py:93(_is_master_process)\n",
      "        2    0.000    0.000    0.000    0.000 iostream.py:102(_check_mp_mode)\n",
      "        2    0.000    0.000    0.000    0.000 utf_8.py:15(decode)\n",
      "        2    0.000    0.000    0.000    0.000 {method 'write' of '_io.StringIO' objects}\n",
      "        2    0.000    0.000    0.000    0.000 {time.time}\n",
      "        2    0.000    0.000    0.000    0.000 {posix.getpid}\n",
      "        1    0.000    0.000    0.000    0.000 {method 'disable' of '_lsprof.Profiler' objects}\n",
      "\n",
      "\n"
     ]
    }
   ],
   "source": [
    "stats.sort_stats('time').print_stats();"
   ]
  },
  {
   "cell_type": "code",
   "execution_count": 82,
   "metadata": {
    "collapsed": false
   },
   "outputs": [
    {
     "name": "stdout",
     "output_type": "stream",
     "text": [
      "The line_profiler extension is already loaded. To reload it, use:\n",
      "  %reload_ext line_profiler\n"
     ]
    }
   ],
   "source": [
    "%load_ext line_profiler"
   ]
  },
  {
   "cell_type": "code",
   "execution_count": 83,
   "metadata": {
    "collapsed": false
   },
   "outputs": [
    {
     "name": "stdout",
     "output_type": "stream",
     "text": [
      "0\n"
     ]
    }
   ],
   "source": [
    "lstats = %lprun -r -f sampler sampler_cy(X, 30, 0, sigmaX, sigmaA,alpha, N, D, maxNew)"
   ]
  },
  {
   "cell_type": "code",
   "execution_count": null,
   "metadata": {
    "collapsed": false
   },
   "outputs": [],
   "source": [
    "sigmaXZ=chain_Z[SAMPLE_SIZE-1,:,0:].reshape(100,10)\n",
    "sigma_X=chain_sigma_X[SAMPLE_SIZE-1]\n",
    "sigma_A=chain_sigma_A[SAMPLE_SIZE-1]\n",
    "Z=Z[:,0:4]\n",
    "A_inf=np.dot(np.dot(np.linalg.inv((np.dot(Z.T,Z)+(sigma_X/sigma_A)*np.eye(4))),Z.T),X)"
   ]
  },
  {
   "cell_type": "code",
   "execution_count": null,
   "metadata": {
    "collapsed": false
   },
   "outputs": [],
   "source": [
    "plt.figure(num=None, figsize=(12,3), dpi=80, facecolor='w', edgecolor='k')\n",
    "plt.subplot(141)\n",
    "plt.pcolormesh(A_inf[0,:].reshape(6,6),cmap=plt.cm.gray)     \n",
    "plt.subplot(142)\n",
    "plt.pcolormesh(A_inf[1,:].reshape(6,6),cmap=plt.cm.gray)  \n",
    "plt.subplot(143)\n",
    "plt.pcolormesh(A_inf[2,:].reshape(6,6),cmap=plt.cm.gray)  \n",
    "plt.subplot(144)\n",
    "plt.pcolormesh(A_inf[3,:].reshape(6,6),cmap=plt.cm.gray)"
   ]
  },
  {
   "cell_type": "code",
   "execution_count": null,
   "metadata": {
    "collapsed": false
   },
   "outputs": [],
   "source": [
    "#plt.plot(chain_K)\n",
    "#np.mean(chain_K)\n",
    "#np.sum(chain_K[200:999]==6)\n",
    "plt.hist(chain_K, bins = [4,5,6,7,8,9,10])"
   ]
  },
  {
   "cell_type": "code",
   "execution_count": null,
   "metadata": {
    "collapsed": false
   },
   "outputs": [],
   "source": [
    "plt.plot(chain_alpha)\n",
    "np.mean(chain_alpha)"
   ]
  },
  {
   "cell_type": "code",
   "execution_count": null,
   "metadata": {
    "collapsed": false
   },
   "outputs": [],
   "source": [
    "plt.plot(chain_sigma_X)\n",
    "np.mean(chain_sigma_X)"
   ]
  },
  {
   "cell_type": "code",
   "execution_count": null,
   "metadata": {
    "collapsed": false
   },
   "outputs": [],
   "source": [
    "plt.plot(chain_sigma_A)\n",
    "np.mean(chain_sigma_A)"
   ]
  },
  {
   "cell_type": "code",
   "execution_count": null,
   "metadata": {
    "collapsed": false
   },
   "outputs": [],
   "source": [
    "from numbapro import cuda, vectorize, guvectorize, check_cuda\n",
    "from numbapro import void, uint8 , uint32, uint64, int32, int64, float32, float64, f8"
   ]
  },
  {
   "cell_type": "code",
   "execution_count": 25,
   "metadata": {
    "collapsed": false
   },
   "outputs": [
    {
     "name": "stdout",
     "output_type": "stream",
     "text": [
      "CUDA is not available\n",
      "\n",
      "CUDA driver library cannot be found.\n",
      "If you are sure that a CUDA driver is installed,\n",
      "try setting environment variable NUMBAPRO_CUDA_DRIVER\n",
      "with the file path of the CUDA driver shared library.\n",
      "\n"
     ]
    }
   ],
   "source": [
    "import numbapro\n",
    "numbapro.check_cuda()"
   ]
  },
  {
   "cell_type": "code",
   "execution_count": 56,
   "metadata": {
    "collapsed": true
   },
   "outputs": [],
   "source": [
    "def loop():\n",
    "    prob = np.array((1,1,1,5,6))\n",
    "    prob = prob/sum(prob)\n",
    "\n",
    "    U = np.random.uniform(0,1,1)\n",
    "    p = 0\n",
    "    kNew=0\n",
    "    for new in range(maxNew):\n",
    "        p = p+prob[new]\n",
    "        if U<p:\n",
    "            kNew = new\n",
    "            break\n",
    "    return kNew"
   ]
  },
  {
   "cell_type": "code",
   "execution_count": 57,
   "metadata": {
    "collapsed": false
   },
   "outputs": [],
   "source": [
    "def vectorize():\n",
    "    p = np.array((1,1,1,5,6))\n",
    "    p = p/sum(p)\n",
    "    p1 = np.cumsum(p)\n",
    "    a = np.random.uniform(0,1,1)\n",
    "    return np.where(a<p1)[0][0]"
   ]
  },
  {
   "cell_type": "code",
   "execution_count": 58,
   "metadata": {
    "collapsed": false
   },
   "outputs": [
    {
     "name": "stdout",
     "output_type": "stream",
     "text": [
      "The slowest run took 5.91 times longer than the fastest. This could mean that an intermediate result is being cached \n",
      "10000 loops, best of 3: 23.3 µs per loop\n",
      "10000 loops, best of 3: 22.7 µs per loop\n"
     ]
    }
   ],
   "source": [
    "%timeit loop()\n",
    "%timeit vectorize()"
   ]
  },
  {
   "cell_type": "markdown",
   "metadata": {},
   "source": [
    "### Unit testing"
   ]
  },
  {
   "cell_type": "markdown",
   "metadata": {},
   "source": [
    "To check if the code is working properly some of the unit testings I've come up with so far are:\n",
    "* Probabilities calculated for the presence of feature have to be between 0 and 1.\n",
    "* "
   ]
  }
 ],
 "metadata": {
  "kernelspec": {
   "display_name": "Python 2",
   "language": "python",
   "name": "python2"
  },
  "language_info": {
   "codemirror_mode": {
    "name": "ipython",
    "version": 2
   },
   "file_extension": ".py",
   "mimetype": "text/x-python",
   "name": "python",
   "nbconvert_exporter": "python",
   "pygments_lexer": "ipython2",
   "version": "2.7.9"
  }
 },
 "nbformat": 4,
 "nbformat_minor": 0
}
