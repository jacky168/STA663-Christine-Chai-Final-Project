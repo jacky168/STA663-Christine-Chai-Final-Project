{
 "cells": [
  {
   "cell_type": "code",
   "execution_count": 1,
   "metadata": {
    "collapsed": false
   },
   "outputs": [
    {
     "name": "stdout",
     "output_type": "stream",
     "text": [
      "Writing example_run.py\n"
     ]
    }
   ],
   "source": [
    "%%file example_run.py\n",
    "\"\"\"\n",
    "Run IBP on the synthetic 'Cambridge Bars' dataset\n",
    "\"\"\"\n",
    "import matplotlib\n",
    "matplotlib.use('Agg')\n",
    "# %matplotlib inline\n",
    "import matplotlib.pyplot as P\n",
    "from scaledimage import scaledimage\n",
    "\n",
    "import sys\n",
    "import cPickle as CP\n",
    "\n",
    "import numpy as NP\n",
    "import scipy.io as SPIO\n",
    "\n",
    "from PyIBP import PyIBP as IBP\n",
    "\n",
    "# IBP parameter (gamma hyperparameters)\n",
    "(alpha, alpha_a, alpha_b) = (1., 1., 1.)\n",
    "# Observed data Gaussian noise (Gamma hyperparameters)\n",
    "(sigma_x, sx_a, sx_b) = (1., 1., 1.)\n",
    "# Latent feature weight Gaussian noise (Gamma hyperparameters)\n",
    "(sigma_a, sa_a, sa_b) = (1., 1., 1.)\n",
    "\n",
    "# Number of full sampling sweeps\n",
    "numsamp = 5\n",
    "\n",
    "# Load the data\n",
    "matvals = SPIO.loadmat('block_image_set.mat')\n",
    "trueWeights = matvals['trueWeights']\n",
    "features = matvals['features']\n",
    "data = matvals['data']\n",
    "\n",
    "# Center the data\n",
    "(N,D) = data.shape\n",
    "cdata = IBP.centerData(data)\n",
    "\n",
    "# Initialize the model\n",
    "f = IBP(cdata,(alpha,alpha_a,alpha_b),\n",
    "        (sigma_x, sx_a, sx_b),\n",
    "        (sigma_a, sa_a, sa_b))\n",
    "\n",
    "# Do inference\n",
    "for s in range(numsamp):\n",
    "    # Print current chain state\n",
    "    f.sampleReport(s)\n",
    "    print 'Learned weights (rounded)'\n",
    "    for factor in NP.round(f.weights()).astype(NP.int):\n",
    "        print str(factor.reshape((6,6)))\n",
    "    print 'True weights'\n",
    "    for factor in trueWeights:\n",
    "        print str(factor.reshape((6,6)))    \n",
    "    # Take a new sample\n",
    "    f.fullSample()    \n",
    "\n",
    "# If matplotlib is installed, plot ground truth vs learned factors\n",
    "# try:\n",
    "#     import matplotlib.pyplot as P\n",
    "#     from scaledimage import scaledimage\n",
    "# except:\n",
    "#     print 'matplotlib not installed, skipping visualization...'\n",
    "#     sys.exit(0)\n",
    "\n",
    "# Intensity plots of\n",
    "# -ground truth factor-feature weights (top)\n",
    "# -learned factor-feature weights (bottom)\n",
    "K = max(len(trueWeights), len(f.weights()))\n",
    "(fig, subaxes) = P.subplots(2, K)\n",
    "for sa in subaxes.flatten():\n",
    "    sa.set_visible(False)\n",
    "fig.suptitle('Ground truth (top) vs learned factors (bottom)')\n",
    "for (idx, trueFactor) in enumerate(trueWeights):\n",
    "    ax = subaxes[0, idx]\n",
    "    ax.set_visible(True)\n",
    "    scaledimage(trueFactor.reshape(6,6),\n",
    "                pixwidth=3, ax=ax)\n",
    "for (idx, learnedFactor) in enumerate(f.weights()):\n",
    "    ax = subaxes[1, idx]    \n",
    "    scaledimage(learnedFactor.reshape(6,6),\n",
    "                pixwidth=3, ax=ax)\n",
    "    ax.set_visible(True)\n",
    "P.savefig('PyIBP_comparison.png')"
   ]
  },
  {
   "cell_type": "code",
   "execution_count": 2,
   "metadata": {
    "collapsed": false
   },
   "outputs": [
    {
     "name": "stdout",
     "output_type": "stream",
     "text": [
      "{'features': array([[1, 0, 0, 0],\n",
      "       [1, 1, 0, 1],\n",
      "       [0, 0, 1, 0],\n",
      "       ..., \n",
      "       [0, 1, 0, 0],\n",
      "       [0, 0, 1, 0],\n",
      "       [0, 0, 1, 0]], dtype=uint8), '__header__': 'MATLAB 5.0 MAT-file Platform: posix, Created on: Sat Apr 23 12:08:21 2011', '__globals__': [], 'trueWeights': array([[0, 1, 0, 0, 0, 0, 1, 1, 1, 0, 0, 0, 0, 1, 0, 0, 0, 0, 0, 0, 0, 0,\n",
      "        0, 0, 0, 0, 0, 0, 0, 0, 0, 0, 0, 0, 0, 0],\n",
      "       [0, 0, 0, 1, 1, 1, 0, 0, 0, 1, 0, 1, 0, 0, 0, 1, 1, 1, 0, 0, 0, 0,\n",
      "        0, 0, 0, 0, 0, 0, 0, 0, 0, 0, 0, 0, 0, 0],\n",
      "       [0, 0, 0, 0, 0, 0, 0, 0, 0, 0, 0, 0, 0, 0, 0, 0, 0, 0, 1, 0, 0, 0,\n",
      "        0, 0, 1, 1, 0, 0, 0, 0, 1, 1, 1, 0, 0, 0],\n",
      "       [0, 0, 0, 0, 0, 0, 0, 0, 0, 0, 0, 0, 0, 0, 0, 0, 0, 0, 0, 0, 0, 1,\n",
      "        1, 1, 0, 0, 0, 0, 1, 0, 0, 0, 0, 0, 1, 0]], dtype=uint8), '__version__': '1.0', 'data': array([[-0.31667556,  0.69414562, -0.30132003, ..., -0.58374712,\n",
      "        -0.30493173, -0.27672902],\n",
      "       [-0.56327948,  0.77034168, -0.29569911, ...,  0.17225764,\n",
      "         0.70814204, -0.52981135],\n",
      "       [-0.20509614, -0.05323445, -0.21354546, ..., -0.23173891,\n",
      "         0.06191141, -0.45532481],\n",
      "       ..., \n",
      "       [-0.58176172, -0.19139121, -0.32700937, ...,  0.15702575,\n",
      "         0.86631855, -0.07660402],\n",
      "       [ 0.107187  , -0.05225751, -0.07308279, ..., -0.46818388,\n",
      "        -0.47457889, -0.00172117],\n",
      "       [-0.16468256,  0.45150353, -0.24916689, ..., -0.46337117,\n",
      "        -0.20885381, -0.34090382]])}\n"
     ]
    }
   ],
   "source": [
    "import matplotlib\n",
    "matplotlib.use('Agg')\n",
    "# %matplotlib inline\n",
    "import matplotlib.pyplot as P\n",
    "from scaledimage import scaledimage\n",
    "\n",
    "import sys\n",
    "import cPickle as CP\n",
    "\n",
    "import numpy as NP\n",
    "import scipy.io as SPIO\n",
    "\n",
    "from PyIBP import PyIBP as IBP\n",
    "\n",
    "\n",
    "matvals = SPIO.loadmat('block_image_set.mat')\n",
    "trueWeights = matvals['trueWeights']\n",
    "features = matvals['features']\n",
    "data = matvals['data']\n",
    "print matvals"
   ]
  }
 ],
 "metadata": {
  "kernelspec": {
   "display_name": "Python 2",
   "language": "python",
   "name": "python2"
  },
  "language_info": {
   "codemirror_mode": {
    "name": "ipython",
    "version": 2
   },
   "file_extension": ".py",
   "mimetype": "text/x-python",
   "name": "python",
   "nbconvert_exporter": "python",
   "pygments_lexer": "ipython2",
   "version": "2.7.9"
  }
 },
 "nbformat": 4,
 "nbformat_minor": 0
}
