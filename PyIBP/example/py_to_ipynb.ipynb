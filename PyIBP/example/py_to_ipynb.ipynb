{
 "metadata": {
  "name": "",
  "signature": "sha256:6e91d3fbd7558cd58eebb2bdba675a13e35f84d13b25bca7d2fc608f35d17909"
 },
 "nbformat": 3,
 "nbformat_minor": 0,
 "worksheets": [
  {
   "cells": [
    {
     "cell_type": "code",
     "collapsed": false,
     "input": [
      "import IPython.nbformat.current as nbf"
     ],
     "language": "python",
     "metadata": {},
     "outputs": [],
     "prompt_number": 2
    },
    {
     "cell_type": "code",
     "collapsed": false,
     "input": [
      "nb = nbf.read(open('PyIBP.py', 'r'), 'py')\n",
      "nbf.write(nb, open('PyIBP.ipynb', 'w'), 'ipynb')"
     ],
     "language": "python",
     "metadata": {},
     "outputs": []
    },
    {
     "cell_type": "code",
     "collapsed": false,
     "input": [
      "nb = nbf.read(open('example.py', 'r'), 'py')\n",
      "nbf.write(nb, open('example.ipynb', 'w'), 'ipynb')"
     ],
     "language": "python",
     "metadata": {},
     "outputs": [],
     "prompt_number": 3
    },
    {
     "cell_type": "code",
     "collapsed": false,
     "input": [
      "nb = nbf.read(open('scaledimage.py', 'r'), 'py')\n",
      "nbf.write(nb, open('scaledimage.ipynb', 'w'), 'ipynb')"
     ],
     "language": "python",
     "metadata": {},
     "outputs": [],
     "prompt_number": 4
    },
    {
     "cell_type": "code",
     "collapsed": false,
     "input": [
      "# example.py\n",
      "import sys\n",
      "import cPickle as CP\n",
      "\n",
      "import numpy as NP\n",
      "import scipy.io as SPIO\n",
      "\n",
      "from PyIBP import PyIBP as IBP\n",
      "\n",
      "# IBP parameter (gamma hyperparameters)\n",
      "(alpha, alpha_a, alpha_b) = (1., 1., 1.)\n",
      "# Observed data Gaussian noise (Gamma hyperparameters)\n",
      "(sigma_x, sx_a, sx_b) = (1., 1., 1.)\n",
      "# Latent feature weight Gaussian noise (Gamma hyperparameters)\n",
      "(sigma_a, sa_a, sa_b) = (1., 1., 1.)\n",
      "\n",
      "# Number of full sampling sweeps\n",
      "numsamp = 5\n",
      "\n",
      "# Load the data\n",
      "matvals = SPIO.loadmat('block_image_set.mat')\n",
      "trueWeights = matvals['trueWeights']\n",
      "features = matvals['features']\n",
      "data = matvals['data']\n",
      "print matvals"
     ],
     "language": "python",
     "metadata": {},
     "outputs": [
      {
       "output_type": "stream",
       "stream": "stdout",
       "text": [
        "{'features': array([[1, 0, 0, 0],\n",
        "       [1, 1, 0, 1],\n",
        "       [0, 0, 1, 0],\n",
        "       ..., \n",
        "       [0, 1, 0, 0],\n",
        "       [0, 0, 1, 0],\n",
        "       [0, 0, 1, 0]], dtype=uint8), '__header__': 'MATLAB 5.0 MAT-file Platform: posix, Created on: Sat Apr 23 12:08:21 2011', '__globals__': [], 'trueWeights': array([[0, 1, 0, 0, 0, 0, 1, 1, 1, 0, 0, 0, 0, 1, 0, 0, 0, 0, 0, 0, 0, 0,\n",
        "        0, 0, 0, 0, 0, 0, 0, 0, 0, 0, 0, 0, 0, 0],\n",
        "       [0, 0, 0, 1, 1, 1, 0, 0, 0, 1, 0, 1, 0, 0, 0, 1, 1, 1, 0, 0, 0, 0,\n",
        "        0, 0, 0, 0, 0, 0, 0, 0, 0, 0, 0, 0, 0, 0],\n",
        "       [0, 0, 0, 0, 0, 0, 0, 0, 0, 0, 0, 0, 0, 0, 0, 0, 0, 0, 1, 0, 0, 0,\n",
        "        0, 0, 1, 1, 0, 0, 0, 0, 1, 1, 1, 0, 0, 0],\n",
        "       [0, 0, 0, 0, 0, 0, 0, 0, 0, 0, 0, 0, 0, 0, 0, 0, 0, 0, 0, 0, 0, 1,\n",
        "        1, 1, 0, 0, 0, 0, 1, 0, 0, 0, 0, 0, 1, 0]], dtype=uint8), '__version__': '1.0', 'data': array([[-0.31667556,  0.69414562, -0.30132003, ..., -0.58374712,\n",
        "        -0.30493173, -0.27672902],\n",
        "       [-0.56327948,  0.77034168, -0.29569911, ...,  0.17225764,\n",
        "         0.70814204, -0.52981135],\n",
        "       [-0.20509614, -0.05323445, -0.21354546, ..., -0.23173891,\n",
        "         0.06191141, -0.45532481],\n",
        "       ..., \n",
        "       [-0.58176172, -0.19139121, -0.32700937, ...,  0.15702575,\n",
        "         0.86631855, -0.07660402],\n",
        "       [ 0.107187  , -0.05225751, -0.07308279, ..., -0.46818388,\n",
        "        -0.47457889, -0.00172117],\n",
        "       [-0.16468256,  0.45150353, -0.24916689, ..., -0.46337117,\n",
        "        -0.20885381, -0.34090382]])}\n"
       ]
      }
     ],
     "prompt_number": 6
    }
   ],
   "metadata": {}
  }
 ]
}