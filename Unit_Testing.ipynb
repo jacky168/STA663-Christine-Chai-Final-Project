{
 "cells": [
  {
   "cell_type": "markdown",
   "metadata": {},
   "source": [
    "# Unit Testing\n",
    "\n",
    "- Test function: calcM, M*inv(M) = I_Kplus\n",
    "- Test functions: calcInverse_orig, calcInverse"
   ]
  },
  {
   "cell_type": "code",
   "execution_count": 1,
   "metadata": {
    "collapsed": false
   },
   "outputs": [
    {
     "name": "stdout",
     "output_type": "stream",
     "text": [
      "Writing unit_function_tests.py\n"
     ]
    }
   ],
   "source": [
    "%%file unit_function_tests.py\n",
    "from __future__ import division\n",
    "import numpy as np\n",
    "import numpy.testing as npt\n",
    "import scipy.stats as stats\n",
    "\n",
    "# Test the calcM function\n",
    "def calcM(Z,Kplus,sigmaX,sigmaA):\n",
    "    \"\"\"Save the matrix M so we won't need to calculate it again and again\"\"\"\n",
    "    return np.linalg.inv(np.dot(Z[:,0:Kplus].T,Z[:,0:Kplus])+((sigmaX/sigmaA)**2)*np.identity(Kplus))\n",
    "\n",
    "# Test the calcInverse_org and calcInverse functions\n",
    "def calcInverse_orig(Z, M, i, k, val):\n",
    "    \"\"\"Effective inverse calculation from Griffiths and Ghahramani (2005; Equations 51 to 54)\n",
    "    M_(-i) = inv(inv(M) - zi.T * zi)\"\"\"\n",
    "    M_i = M - np.dot(np.dot(M,Z[i,:].T),np.dot(Z[i,:],M))/(np.dot(np.dot(Z[i,:],M),Z[i,:].T)-1)\n",
    "    Z[i,k] = val\n",
    "    M = M_i - np.dot(np.dot(M_i,Z[i,:].T),np.dot(Z[i,:],M_i))/(np.dot(np.dot(Z[i,:],M_i),Z[i,:].T)+1)\n",
    "    Inv = M\n",
    "    return Inv\n",
    "\n",
    "def calcInverse(Z, M, i, k, val):\n",
    "    \"\"\"New version to check: M_(-i) = inv(inv(M) - zi.T * zi) and M = inv(inv(M_(-i)) + zi.T * zi)\"\"\"\n",
    "    M_i = np.linalg.inv(np.linalg.inv(M) - np.dot(Z[i,:].T,Z[i,:]))\n",
    "    Z[i,k] = val\n",
    "    M = np.linalg.inv(np.linalg.inv(M_i) + np.dot(Z[i,:].T,Z[i,:]))\n",
    "    return M\n",
    "\n",
    "np.random.seed(1234)\n",
    "\n",
    "N = 100\n",
    "sigmaX = 0.9\n",
    "sigmaA = 0.7\n",
    "Kplus = 5\n",
    "Z = np.zeros((N,1000))\n",
    "alpha = 20\n",
    "ind = 0\n",
    "while ind < N:\n",
    "    t = stats.poisson.rvs(alpha)\n",
    "    if t > 0:\n",
    "        Z[ind,0:t] = 1\n",
    "        ind += 1\n",
    "        \n",
    "Z = Z[:,0:Kplus]\n",
    "        \n",
    "# Test the calcM function\n",
    "M = calcM(Z,Kplus,sigmaX,sigmaA)\n",
    "invM = np.dot(Z[:,0:Kplus].T,Z[:,0:Kplus])+((sigmaX/sigmaA)**2)*np.identity(Kplus)\n",
    "\n",
    "npt.assert_almost_equal(np.dot(M,invM),np.identity(Kplus))\n",
    "print \"The function calcM passed the assertion test!\\n\"\n",
    "\n",
    "# Test the calcInverse functions\n",
    "# print Z[17,:]\n",
    "# print Z.shape\n",
    "(i,k,val) = (17,0,0)\n",
    "# print i\n",
    "M1 = calcInverse_orig(Z, M, i, k, val)\n",
    "print \"The computed matrix M1 using calInverse_orig:\\n\", M1,\"\\n\"\n",
    "\n",
    "M2 = calcInverse(Z, M, i, k, val)\n",
    "print \"The computed matrix M2 using calInverse:\\n\", M2,\"\\n\"\n",
    "\n",
    "Z[i,k] = val\n",
    "newM = calcM(Z,Kplus,sigmaX,sigmaA)\n",
    "print \"The correct matrix M:\\n\",newM,\"\\n\"\n",
    "\n",
    "print \"Does M == M1?\",np.allclose(M1,newM)\n",
    "print \"Does M == M2?\",np.allclose(M2,newM)\n",
    "print \"The calcInverse functions did not pass the assertion test!\""
   ]
  },
  {
   "cell_type": "code",
   "execution_count": 3,
   "metadata": {
    "collapsed": false
   },
   "outputs": [
    {
     "name": "stdout",
     "output_type": "stream",
     "text": [
      "Overwriting unit_likelihood_tests.py\n"
     ]
    }
   ],
   "source": [
    "%%file unit_likelihood_tests.py\n",
    "from __future__ import division\n",
    "import numpy as np\n",
    "import numpy.testing as npt\n",
    "import scipy.stats as stats\n",
    "\n",
    "# Test the log-likelihood of Poisson\n",
    "# Does the exp(log-likelihood) sum to 1?\n",
    "# Since Poisson is a discrete distribution, we can add up the values\n",
    "# Prior: x ~ Pois(lambda): f(x) = ((lambda**x)/x!)*exp(-lambda), where x = ki, lambda = alphaN\n",
    "\n",
    "def log_Pois(x,alphaN):\n",
    "    return x*np.log(alphaN) - alphaN - np.log(np.math.factorial(x)) \n",
    "\n",
    "alphaN = 0.5\n",
    "array = np.zeros((1,21))\n",
    "count = 0\n",
    "\n",
    "for i in range(21):\n",
    "    array[0,i] = log_Pois(i,alphaN)\n",
    "    count += np.exp(array[0,i])\n",
    "    # print array[0,i]\n",
    "\n",
    "# print count \n",
    "npt.assert_almost_equal(count,1)\n",
    "print \"The exp(log-likelihood) of Poisson sums to 1, so it passed the assertion test!\""
   ]
  }
 ],
 "metadata": {
  "kernelspec": {
   "display_name": "Python 2",
   "language": "python",
   "name": "python2"
  },
  "language_info": {
   "codemirror_mode": {
    "name": "ipython",
    "version": 2
   },
   "file_extension": ".py",
   "mimetype": "text/x-python",
   "name": "python",
   "nbconvert_exporter": "python",
   "pygments_lexer": "ipython2",
   "version": "2.7.9"
  }
 },
 "nbformat": 4,
 "nbformat_minor": 0
}
