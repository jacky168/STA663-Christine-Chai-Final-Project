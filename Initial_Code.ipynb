{
 "metadata": {
  "name": "",
  "signature": "sha256:9a3268d73fba572dd95afc7e49aabf7f1a1c53160d620a7f589794e07dc51700"
 },
 "nbformat": 3,
 "nbformat_minor": 0,
 "worksheets": [
  {
   "cells": [
    {
     "cell_type": "heading",
     "level": 1,
     "metadata": {},
     "source": [
      "Initial Code -- Indian Buffet Process (IBP)"
     ]
    },
    {
     "cell_type": "code",
     "collapsed": false,
     "input": [
      "from __future__ import division\n",
      "import os\n",
      "import sys\n",
      "import glob\n",
      "import matplotlib.pyplot as plt\n",
      "import numpy as np\n",
      "import pandas as pd\n",
      "%matplotlib inline\n",
      "%precision 4\n",
      "plt.style.use('ggplot')"
     ],
     "language": "python",
     "metadata": {},
     "outputs": [],
     "prompt_number": 3
    },
    {
     "cell_type": "code",
     "collapsed": false,
     "input": [
      "np.random.seed(1234)\n",
      "import scipy.stats as stats"
     ],
     "language": "python",
     "metadata": {},
     "outputs": [],
     "prompt_number": 4
    },
    {
     "cell_type": "markdown",
     "metadata": {},
     "source": [
      "### Indian Buffet Process (IBP): Steps\n",
      "\n",
      "- Step 1: First customer takes a Poisson($\\alpha$) of dishes\n",
      "- Step 2: The $i$th customer takes dish $k$ with probability $\\frac{m_k}{i}$, where $m_k$ is the number of previous customers who sampled that dish\n",
      "- Step 3: The $i$th customer tries a Poisson($\\frac{\\alpha}{i}$) number of new dishes\n",
      "- Storage: Binary matrix $\\mathbf{Z}$ with $N$ rows and infinite columns, where $z_{ik}$ = 1 if customer $i$ sampled the dish $k$\n",
      "- Probability: $P(z_{ik}=1 | \\mathbf{z_{-i,k}}) = \\dfrac{m_{-i,k}+\\dfrac{\\alpha}{K}}{N+\\dfrac{\\alpha}{K}} \\rightarrow \\dfrac{m_{-i,k}}{N}$ as $K \\rightarrow \\infty$"
     ]
    },
    {
     "cell_type": "code",
     "collapsed": false,
     "input": [
      "def IBP(N, K, alpha):\n",
      "    \"\"\"Indian Buffet Process (IBP) steps:\n",
      "    N is the number of customers (objects, images); K is the number of dishes (latent variables); alpha is the only parameter\"\"\"\n",
      "    result = np.zeros((N,K))\n",
      "    \n",
      "    # Step 1: First customer takes a Poisson(alpha) of dishes\n",
      "    t = stats.poisson.rvs(alpha) # (set the random seed when calling the function)\n",
      "    if t > 0:\n",
      "        result[0,0:t] = 1\n",
      "    \n",
      "        # Kplus = the number of features for which m_k > 0 (m_k: the number of previous customers who sampled that dish)\n",
      "    Kplus = t\n",
      "    for i in range(1,N):\n",
      "        for k in range(K):\n",
      "            # Step 2: The ith customer takes dish k with probability m_k/i\n",
      "            p = np.sum(result[0:i,k])/i # this is a probability, so should be between 0 and 1\n",
      "            # print p\n",
      "            assert p <= 1 \n",
      "            assert p >= 0\n",
      "            if stats.uniform.rvs(0) < p:\n",
      "                result[i,k] = 1\n",
      "            else:\n",
      "                result[i,k] = 0\n",
      "        # Step 3: The ith customer tries a Poisson(alpha/i) number of new dishes\n",
      "        t = stats.poisson.rvs(alpha/i)\n",
      "        if t > 0:\n",
      "            result[i,Kplus:(Kplus+t)] = 1\n",
      "        Kplus += t\n",
      "    \n",
      "    return result"
     ],
     "language": "python",
     "metadata": {},
     "outputs": [],
     "prompt_number": 80
    },
    {
     "cell_type": "markdown",
     "metadata": {},
     "source": [
      "### Indian Buffet Process (IBP): Testing\n",
      "\n",
      "Probability must be between 0 and 1: $ 0 \\leq \\dfrac{m_{-i,k}+\\dfrac{\\alpha}{K}}{N+\\dfrac{\\alpha}{K}}, \\dfrac{m_{-i,k}}{N} \\leq 1$\n",
      "\n",
      "This is equivalent to testing $m_{-i,k} \\leq N$"
     ]
    },
    {
     "cell_type": "code",
     "collapsed": false,
     "input": [
      "np.random.seed(3)\n",
      "N = 4\n",
      "K = 15\n",
      "alpha = 5\n",
      "\n",
      "result = IBP(4,15,5)\n",
      "\n",
      "for i in range(N):\n",
      "    for k in range(K):\n",
      "        m_negik = np.sum(result[:,k])-result[i,k]\n",
      "        assert m_negik <= N\n",
      "print \"done\""
     ],
     "language": "python",
     "metadata": {},
     "outputs": [
      {
       "output_type": "stream",
       "stream": "stdout",
       "text": [
        "done\n"
       ]
      }
     ],
     "prompt_number": 91
    },
    {
     "cell_type": "heading",
     "level": 1,
     "metadata": {},
     "source": [
      "Algorithm Application -- Linear-Gaussian Binary Latent Feature Models\n"
     ]
    },
    {
     "cell_type": "markdown",
     "metadata": {},
     "source": [
      "### Generate images\n",
      "From binary string to image"
     ]
    },
    {
     "cell_type": "code",
     "collapsed": false,
     "input": [
      "import Image\n",
      "\n",
      "value = \"0110100001100101011011000110110001101111\"\n",
      "\n",
      "cmap = {'0': (255,255,255),\n",
      "        '1': (0,0,0)}\n",
      "\n",
      "data = [cmap[letter] for letter in value]\n",
      "img = Image.new('RGB', (8, len(value)//8), \"white\")\n",
      "img.putdata(data)\n",
      "img.save('out.png', 'PNG')\n",
      "#\u3000img.show()        "
     ],
     "language": "python",
     "metadata": {},
     "outputs": [],
     "prompt_number": 8
    },
    {
     "cell_type": "code",
     "collapsed": false,
     "input": [
      "im = Image.open(\"out.png\")\n",
      "im.show()\n",
      "# Why doesn't this show an image?"
     ],
     "language": "python",
     "metadata": {},
     "outputs": [],
     "prompt_number": 7
    },
    {
     "cell_type": "code",
     "collapsed": false,
     "input": [
      "another = np.array([[0,1,0],[1,0.5,1],[1,1,1]])\n",
      "import matplotlib.pyplot as plt\n",
      "from matplotlib import colors\n",
      "cmap = colors.ListedColormap(['white', 'black'])\n",
      "plt.imshow(another,cmap=cmap,extent=[0,3,3,0])\n",
      "# plt.imshow(another,cmap=plt.cm.gray,extent=[0,3,0,3]) #Needs to be in row,col order\n",
      "another.shape"
     ],
     "language": "python",
     "metadata": {},
     "outputs": [
      {
       "metadata": {},
       "output_type": "pyout",
       "prompt_number": 48,
       "text": [
        "(3, 3)"
       ]
      },
      {
       "metadata": {},
       "output_type": "display_data",
       "png": "[encoded data removed]",
       "text": [
        "<matplotlib.figure.Figure at 0x7f41c1cd2250>"
       ]
      }
     ],
     "prompt_number": 48
    },
    {
     "cell_type": "code",
     "collapsed": false,
     "input": [
      "colors.ListedColormap?"
     ],
     "language": "python",
     "metadata": {},
     "outputs": [],
     "prompt_number": 45
    },
    {
     "cell_type": "code",
     "collapsed": false,
     "input": [
      "N = 100\n",
      "D = 36\n",
      "K = 4\n",
      "\n",
      "# All K basis images, each of length D\n",
      "basis1 = '010000111000010000000000000000000000'\n",
      "basis2 = '000000000000000000111000101000111000'\n",
      "basis3 = '000111000011000001000000000000000000'\n",
      "basis4 = '000000000000000000000100000111000100'\n",
      "\n",
      "assert len(basis1) == D\n",
      "assert len(basis2) == D\n",
      "assert len(basis3) == D\n",
      "assert len(basis4) == D\n",
      "print \"assertions passed\"\n",
      "\n",
      "# Generate N images (customers, objects)\n",
      "np.random.seed(1234)\n",
      "type(basis1)"
     ],
     "language": "python",
     "metadata": {},
     "outputs": [
      {
       "output_type": "stream",
       "stream": "stdout",
       "text": [
        "assertions passed\n"
       ]
      },
      {
       "metadata": {},
       "output_type": "pyout",
       "prompt_number": 17,
       "text": [
        "str"
       ]
      }
     ],
     "prompt_number": 17
    },
    {
     "cell_type": "markdown",
     "metadata": {},
     "source": [
      "### Variables in Data\n",
      "\n",
      "$N = 100$ is the number of images (customers, objects)\n",
      "\n",
      "$D = 6 \\times 6 = 36$ is the length of vectors (dishes, features) for each image\n",
      "\n",
      "$K = 4$ is the number of basis images (latent or underlying variables)\n",
      "\n",
      "Each object $i$ has a $D$-dimensional vector of properties, named $x_i$\n",
      "\n",
      "- Generate images $X$ with the $K$ basis images, indicating which bases are used (each with probability 0.5)\n",
      "- Add white noises $\\text{Normal}(0,\\sigma_X^2 = 0.5)$ to these images\n",
      "\n",
      "### Variables in Transformation\n",
      "\n",
      "$x_i \\sim \\text{Normal}(\\mathbf{z_i} \\mathbf{A}, \\Sigma_X = \\sigma_X^2\\mathbf{I})$\n",
      "\n",
      "$\\mathbf{z_i}$ is a $K$-dimensional binary vector (features)\n",
      "\n",
      "$\\mathbf{A}$ is a $K \\times D$ matrix of weights, with prior $A \\sim \\text{Normal}(0,\\sigma_A^2 \\mathbf{I})$\n",
      "\n",
      "$Z \\sim \\text{IBP}(\\alpha)$, where $m_k$ is the number of objects with feature $k$\n",
      "\n",
      "$p(Z | \\alpha) = \\dfrac{\\alpha^K}{\\prod^{2^N-1}_{h=1}K_h!} \\exp(-\\alpha H_N) \\prod^{K}_{k=1}\\dfrac{(N-m_k)!(m_k-1)!}{N!}$\n",
      "\n",
      "Note 1: $\\alpha$ is a variable influencing the number of features  $D$\n",
      "\n",
      "Note 2: $K_h$ is the number of features with history $h$ (whether the $N$ images possess this feature, $2^N-1$ possibilities in total)\n",
      "\n",
      "Note 3: $H_N$ is the $N^{\\text{th}}$ harmonic number, and $m_k$ is the number of objects with feature $k$\n",
      "\n",
      "### Posterior Distribution Calculation\n",
      "\n",
      "Priors: $P(z_{ik}=1 | \\mathbf{z_{-i,k}}) = \\dfrac{m_{-i,k}+\\dfrac{\\alpha}{K}}{N+\\dfrac{\\alpha}{K}} \\rightarrow \\dfrac{m_{-i,k}}{N}$ as $K \\rightarrow \\infty$\n",
      "\n",
      "Likelihood: $\\mathbf{X}|(\\mathbf{Z},\\mathbf{A},\\mathbf{\\sigma_X}) \\sim \\text{Normal}(\\mathbf{ZA},\\Sigma_X = \\sigma_X^2\\mathbf{I})$\n",
      "\n",
      "i.e. $P(\\mathbf{X} | \\mathbf{Z}, \\sigma_X, \\sigma_A) = \\dfrac{1}{(2\\pi)^{ND/2} \\sigma_X^{(N-K)D} \\sigma_A^{KD} |\\mathbf{Z}^T\\mathbf{Z} + \\dfrac{\\sigma_X^2}{\\sigma_A^2}\\mathbf{I}|^{D/2}} \\exp\\{-\\dfrac{1}{2\\sigma^2_X} \\text{tr}(\\mathbf{X}^T(\\mathbf{I}-\\mathbf{Z}(\\mathbf{Z}^T\\mathbf{Z}+\\dfrac{\\sigma_X^2}{\\sigma_A^2}\\mathbf{I})^{-1})\\mathbf{Z}^T)\\mathbf{X}\\}$\n",
      "\n",
      "Full conditional distribution: $P(z_{ik} | \\mathbf{X,Z_{-i,k}},\\sigma_X, \\sigma_A) \\propto P(\\mathbf{X} | \\mathbf{Z},\\sigma_X, \\sigma_A) P(z_{ik} | \\mathbf{z_{-i,k}})$\n",
      "\n",
      "### Gibbs Sampler\n",
      "\n",
      "Initialization: $\\sigma_A = 0.5, \\sigma_X = 1.7, \\alpha \\sim Ga(1,1)$\n",
      "\n",
      "1. Sample $P(z_{ik} | \\mathbf{X,Z_{-i,k}},\\sigma_X, \\sigma_A)$: Generate $z_{ik}^{*} \\sim P(z_{ik}=1 | \\mathbf{z_{-i,k}})$ and accept $z_{ik}^{*}$ with probability $P(\\mathbf{X} | \\mathbf{Z},\\sigma_X, \\sigma_A)$ (Accept-Reject algorithm)\n",
      "2. Sample $\\sigma_X \\sim P(\\sigma_X | X,Z,\\sigma_A)$ by Metropolis, then add a small noise $\\epsilon \\sim \\text{Uniform}(-0.05,0.05)$\n",
      "3. Sample $\\sigma_X \\sim P(\\sigma_X | X,Z,\\sigma_A)$ by Metropolis, then add a small noise $\\epsilon \\sim \\text{Uniform}(-0.05,0.05)$\n",
      "4. Update $\\alpha|Z \\sim Ga(1+K_+,1+\\sum^{N}_{i=1}H_i)$, where $K_+ = \\sum^{2^N-1}_{h=1}K_h$ and $K_+$ is the number of features for which $m_k > 0$\n",
      "\n",
      "Metropolis for $\\sigma_A$ (for $\\sigma_X$ is similar):\n",
      "\n",
      "Current value: $\\sigma_{A}^{(n)}$\n",
      "\n",
      "Candidate value: $\\sigma_{A}^{*}$\n",
      "\n",
      "Generate $r \\sim \\text{Unif}(0,1)$\n",
      "\n",
      "Accept $\\sigma_{A}^{*}$ if $r < \\text{min}\\{ 1, \\dfrac{P(\\sigma_{A}^{*} | \\mathbf{Z,X},\\sigma_X)}{P(\\sigma_{A}^{(n)} | \\mathbf{Z,X},\\sigma_X)} \\}$"
     ]
    }
   ],
   "metadata": {}
  }
 ]
}