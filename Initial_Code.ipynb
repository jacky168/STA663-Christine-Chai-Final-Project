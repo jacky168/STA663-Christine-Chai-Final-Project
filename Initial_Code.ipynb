{
 "metadata": {
  "name": "",
  "signature": "sha256:565b2a5a00c79a8dc61d6f5c796cd286ee5e11e13c06aed42a6dfdede1c334af"
 },
 "nbformat": 3,
 "nbformat_minor": 0,
 "worksheets": [
  {
   "cells": [
    {
     "cell_type": "heading",
     "level": 1,
     "metadata": {},
     "source": [
      "Initial Code -- Indian Buffet Process (IBP)"
     ]
    },
    {
     "cell_type": "code",
     "collapsed": false,
     "input": [
      "from __future__ import division\n",
      "import os\n",
      "import sys\n",
      "import glob\n",
      "import matplotlib.pyplot as plt\n",
      "import numpy as np\n",
      "import pandas as pd\n",
      "%matplotlib inline\n",
      "%precision 4\n",
      "plt.style.use('ggplot')"
     ],
     "language": "python",
     "metadata": {},
     "outputs": [],
     "prompt_number": 3
    },
    {
     "cell_type": "code",
     "collapsed": false,
     "input": [
      "np.random.seed(1234)\n",
      "import scipy.stats as stats"
     ],
     "language": "python",
     "metadata": {},
     "outputs": [],
     "prompt_number": 4
    },
    {
     "cell_type": "markdown",
     "metadata": {},
     "source": [
      "### Indian Buffet Process (IBP): Steps\n",
      "\n",
      "- Step 1: First customer takes a Poisson($\\alpha$) of dishes\n",
      "- Step 2: The $i$th customer takes dish $k$ with probability $\\frac{m_k}{i}$, where $m_k$ is the number of previous customers who sampled that dish\n",
      "- Step 3: The $i$th customer tries a Poisson($\\frac{\\alpha}{i}$) number of new dishes\n",
      "- Storage: Binary matrix $\\mathbf{Z}$ with $N$ rows and infinite columns, where $z_{ik}$ = 1 if customer $i$ sampled the dish $k$\n",
      "- Probability: $P(z_{ik}=1 | \\mathbf{z_{-i,k}}) = \\dfrac{m_{-i,k}+\\dfrac{\\alpha}{K}}{N+\\dfrac{\\alpha}{K}} \\rightarrow \\dfrac{m_{-i,k}}{N}$ as $K \\rightarrow \\infty$"
     ]
    },
    {
     "cell_type": "code",
     "collapsed": false,
     "input": [
      "def IBP(N, K, alpha):\n",
      "    \"\"\"Indian Buffet Process (IBP) steps:\n",
      "    N is the number of customers (objects, images); K is the number of dishes (features); alpha is the only parameter\"\"\"\n",
      "    result = np.zeros((N,K))\n",
      "    \n",
      "    # Step 1: First customer takes a Poisson(alpha) of dishes\n",
      "    t = stats.poisson.rvs(alpha) # (set the random seed when calling the function)\n",
      "    if t > 0:\n",
      "        result[0,0:t] = 1\n",
      "    \n",
      "    # Kplus = the number of features for which m_k > 0 (m_k: the number of previous customers who sampled that dish)\n",
      "    Kplus = t\n",
      "    for i in range(1,N):\n",
      "        for k in range(K):\n",
      "            # Step 2: The ith customer takes dish k with probability m_k/i\n",
      "            p = np.sum(result[0:i,k])/i # this is a probability, so should be between 0 and 1\n",
      "            # print p\n",
      "            assert p <= 1 \n",
      "            assert p >= 0\n",
      "            if stats.uniform.rvs(0) < p:\n",
      "                result[i,k] = 1\n",
      "            else:\n",
      "                result[i,k] = 0\n",
      "        # Step 3: The ith customer tries a Poisson(alpha/i) number of new dishes\n",
      "        t = stats.poisson.rvs(alpha/i)\n",
      "        if t > 0:\n",
      "            result[i,Kplus:(Kplus+t)] = 1\n",
      "        Kplus += t\n",
      "    \n",
      "    return result, Kplus"
     ],
     "language": "python",
     "metadata": {},
     "outputs": [],
     "prompt_number": 273
    },
    {
     "cell_type": "markdown",
     "metadata": {},
     "source": [
      "### Indian Buffet Process (IBP): Testing\n",
      "\n",
      "Probability must be between 0 and 1: $ 0 \\leq \\dfrac{m_{-i,k}+\\dfrac{\\alpha}{K}}{N+\\dfrac{\\alpha}{K}}, \\dfrac{m_{-i,k}}{N} \\leq 1$\n",
      "\n",
      "This is equivalent to testing $m_{-i,k} \\leq N$"
     ]
    },
    {
     "cell_type": "code",
     "collapsed": false,
     "input": [
      "np.random.seed(3)\n",
      "N1 = 10\n",
      "K1 = 14\n",
      "alpha1 = 1.5\n",
      "\n",
      "result1, Kplus1 = IBP(N1,K1,alpha1)\n",
      "\n",
      "for i in range(N1):\n",
      "    for k in range(K1):\n",
      "        m_negik = np.sum(result[:,k])-result[i,k]\n",
      "        assert m_negik <= N1\n",
      "print \"done\"\n",
      "print result1\n",
      "print Kplus1"
     ],
     "language": "python",
     "metadata": {},
     "outputs": [
      {
       "output_type": "stream",
       "stream": "stdout",
       "text": [
        "done\n",
        "[[ 1.  1.  0.  0.  0.  0.  0.  0.  0.  0.  0.  0.  0.  0.]\n",
        " [ 1.  1.  1.  0.  0.  0.  0.  0.  0.  0.  0.  0.  0.  0.]\n",
        " [ 1.  1.  0.  1.  0.  0.  0.  0.  0.  0.  0.  0.  0.  0.]\n",
        " [ 1.  1.  0.  0.  0.  0.  0.  0.  0.  0.  0.  0.  0.  0.]\n",
        " [ 1.  1.  0.  1.  0.  0.  0.  0.  0.  0.  0.  0.  0.  0.]\n",
        " [ 1.  1.  0.  0.  0.  0.  0.  0.  0.  0.  0.  0.  0.  0.]\n",
        " [ 1.  1.  0.  0.  0.  0.  0.  0.  0.  0.  0.  0.  0.  0.]\n",
        " [ 1.  1.  0.  0.  0.  0.  0.  0.  0.  0.  0.  0.  0.  0.]\n",
        " [ 1.  1.  0.  1.  0.  0.  0.  0.  0.  0.  0.  0.  0.  0.]\n",
        " [ 1.  1.  0.  1.  0.  0.  0.  0.  0.  0.  0.  0.  0.  0.]]\n",
        "4\n"
       ]
      }
     ],
     "prompt_number": 344
    },
    {
     "cell_type": "heading",
     "level": 1,
     "metadata": {},
     "source": [
      "Algorithm Application -- Linear-Gaussian Binary Latent Feature Models\n"
     ]
    },
    {
     "cell_type": "markdown",
     "metadata": {},
     "source": [
      "### Variables in Data (Images)\n",
      "\n",
      "$N = 100$ is the number of images (customers, objects)\n",
      "\n",
      "$D = 6 \\times 6 = 36$ is the length of vectors (dishes, features) for each image\n",
      "\n",
      "$K = 4$ is the number of basis images (latent or underlying variables)\n",
      "\n",
      "Each object $i$ has a $D$-dimensional vector of properties, named $x_i$\n",
      "\n",
      "- Generate images $X$ with the $K$ basis images, indicating which bases are used (each with probability 0.5)\n",
      "- Add white noises $\\text{Normal}(0,\\sigma_X^2 = 0.5)$ to these images"
     ]
    },
    {
     "cell_type": "code",
     "collapsed": false,
     "input": [
      "# Basis images\n",
      "import Image\n",
      "basis1 = np.array([[0,0,0,0,0,0],[0,0,0,0,0,0],[0,0,0,0,0,0],[0,1,0,0,0,0],[1,1,1,0,0,0],[0,1,0,0,0,0]])\n",
      "basis2 = np.array([[1,1,1,0,0,0],[1,0,1,0,0,0],[1,1,1,0,0,0],[0,0,0,0,0,0],[0,0,0,0,0,0],[0,0,0,0,0,0]])\n",
      "basis3 = np.array([[0,0,0,0,0,0],[0,0,0,0,0,0],[0,0,0,0,0,0],[0,0,0,0,0,1],[0,0,0,0,1,1],[0,0,0,1,1,1]])\n",
      "basis4 = np.array([[0,0,0,1,0,0],[0,0,0,1,1,1],[0,0,0,1,0,0],[0,0,0,0,0,0],[0,0,0,0,0,0],[0,0,0,0,0,0]])\n",
      "\n",
      "# These are heatmaps!\n",
      "plt.figure(num=None, figsize=(12,3), dpi=80, facecolor='w', edgecolor='k')\n",
      "plt.subplot(141)\n",
      "plt.pcolormesh(basis1,cmap=plt.cm.gray)     \n",
      "plt.subplot(142)\n",
      "plt.pcolormesh(basis2,cmap=plt.cm.gray)  \n",
      "plt.subplot(143)\n",
      "plt.pcolormesh(basis3,cmap=plt.cm.gray)  \n",
      "plt.subplot(144)\n",
      "plt.pcolormesh(basis4,cmap=plt.cm.gray)  "
     ],
     "language": "python",
     "metadata": {},
     "outputs": [
      {
       "metadata": {},
       "output_type": "pyout",
       "prompt_number": 108,
       "text": [
        "<matplotlib.collections.QuadMesh at 0x7f41bff54b90>"
       ]
      },
      {
       "metadata": {},
       "output_type": "display_data",
       "png": "[encoded data removed]",
       "text": [
        "<matplotlib.figure.Figure at 0x7f41c0155990>"
       ]
      }
     ],
     "prompt_number": 108
    },
    {
     "cell_type": "code",
     "collapsed": false,
     "input": [
      "# Generate image data: 100 matrices of size 6*6\n",
      "N = 100\n",
      "D = 36\n",
      "K = 4\n",
      "\n",
      "# All K basis images, each hof length D\n",
      "# Generate N images (customers, objects)\n",
      "np.random.seed(1234)\n",
      "images = np.zeros((N,6,6)) # simulated image data\n",
      "structure = np.zeros((N,6,6))  # 0/1 structure for each image\n",
      "add = stats.bernoulli.rvs(0.5,size=(N,K)) # whether the K=4 latent bases are present in each image\n",
      "epsilon = stats.norm.rvs(loc=0,scale=0.5,size = (N,6,6)) # random noise\n",
      "\n",
      "for i in range(N):\n",
      "    structure[i,:,:] = add[i,0]*basis1 + add[i,1]*basis2 + add[i,2]*basis3 + add[i,3]*basis4\n",
      "    images[i,:,:] = structure[i,:,:] + epsilon[i,:,:]\n",
      "    \n",
      "print images.shape\n",
      "print images[4]\n",
      "plt.pcolormesh(images[4],cmap=plt.cm.gray)"
     ],
     "language": "python",
     "metadata": {},
     "outputs": [
      {
       "output_type": "stream",
       "stream": "stdout",
       "text": [
        "(100, 6, 6)\n",
        "[[ 0.2067  0.3588  0.1309  0.8786 -0.2506 -0.3491]\n",
        " [ 0.6923 -0.1432  0.25    1.9756  0.8608  1.0184]\n",
        " [ 0.2229 -0.7052  0.225   1.2577 -0.577  -0.6901]\n",
        " [-0.2479  0.7934 -0.8597 -0.0148 -0.383   1.0499]\n",
        " [ 0.6435 -0.1131  1.3629  0.4585  0.7181  0.2389]\n",
        " [-0.0071  0.8766 -0.0827  1.0596 -0.0375  0.4986]]\n"
       ]
      },
      {
       "metadata": {},
       "output_type": "pyout",
       "prompt_number": 206,
       "text": [
        "<matplotlib.collections.QuadMesh at 0x7f41bf8f4750>"
       ]
      },
      {
       "metadata": {},
       "output_type": "display_data",
       "png": "[encoded data removed]",
       "text": [
        "<matplotlib.figure.Figure at 0x7f41bf9899d0>"
       ]
      }
     ],
     "prompt_number": 206
    },
    {
     "cell_type": "markdown",
     "metadata": {},
     "source": [
      "### Variables in Transformation\n",
      "\n",
      "$x_i \\sim \\text{Normal}(\\mathbf{z_i} \\mathbf{A}, \\Sigma_X = \\sigma_X^2\\mathbf{I})$\n",
      "\n",
      "$\\mathbf{z_i}$ is a $K$-dimensional binary vector (features)\n",
      "\n",
      "$\\mathbf{A}$ is a $K \\times D$ matrix of weights, with prior $A \\sim \\text{Normal}(0,\\sigma_A^2 \\mathbf{I})$\n",
      "\n",
      "$Z \\sim \\text{IBP}(\\alpha)$, where $m_k$ is the number of objects with feature $k$\n",
      "\n",
      "$p(Z | \\alpha) = \\dfrac{\\alpha^K}{\\prod^{2^N-1}_{h=1}K_h!} \\exp(-\\alpha H_N) \\prod^{K}_{k=1}\\dfrac{(N-m_k)!(m_k-1)!}{N!}$\n",
      "\n",
      "Note 1: $\\alpha$ is a variable influencing the number of features  $D$\n",
      "\n",
      "Note 2: $K_h$ is the number of features with history $h$ (whether the $N$ images possess this feature, $2^N-1$ possibilities in total)\n",
      "\n",
      "Note 3: $H_N$ is the $N^{\\text{th}}$ harmonic number, and $m_k$ is the number of objects with feature $k$"
     ]
    },
    {
     "cell_type": "code",
     "collapsed": false,
     "input": [
      "# Initialization\n",
      "N = 100\n",
      "D = 36\n",
      "K = 4\n",
      "sigmaA = 0.5\n",
      "sigmaX = 1.7\n",
      "np.random.seed(157)\n",
      "alpha = stats.gamma.rvs(a = 1, loc = 0, scale = 1, size = 1) \n",
      "print alpha"
     ],
     "language": "python",
     "metadata": {},
     "outputs": [
      {
       "output_type": "stream",
       "stream": "stdout",
       "text": [
        "[ 1.5965]\n"
       ]
      }
     ],
     "prompt_number": 235
    },
    {
     "cell_type": "code",
     "collapsed": false,
     "input": [
      "# Checking whether the gamma distribution is setup correctly\n",
      "# ff ~ Gamma(a,b): a = shape, b = 1/scale => E(ff) = a/b = a*scale, Var(ff) = a/b**2 = a*scale**2\n",
      "# Generate 1000 random samples from Ga(3,2)\n",
      "rv = stats.gamma.rvs(a = 3, loc = 0, scale = 2, size=1000)\n",
      "print np.mean(rv)  # should be close to 3*2 = 6\n",
      "print np.var(rv)   # should be close to 3*2*2 = 12"
     ],
     "language": "python",
     "metadata": {},
     "outputs": [
      {
       "output_type": "stream",
       "stream": "stdout",
       "text": [
        "5.88519439843\n",
        "11.9639148358\n"
       ]
      }
     ],
     "prompt_number": 177
    },
    {
     "cell_type": "markdown",
     "metadata": {},
     "source": [
      "### Gibbs Sampler\n",
      "\n",
      "Initialization: $\\sigma_A = 0.5, \\sigma_X = 1.7, \\alpha \\sim Ga(1,1)$\n",
      "\n",
      "1. Generate $\\alpha|Z \\sim Ga(1+K_+,1+\\sum^{N}_{i=1}H_i)$, where $K_+ = \\sum^{2^N-1}_{h=1}K_h$ and $K_+$ is the number of features for which $m_k > 0$\n",
      "2. Generate $Z|\\alpha \\sim IBP(\\alpha)$\n",
      "3. Sample $\\sigma_{X}^* = \\sigma_X + \\epsilon$, where $\\epsilon \\sim \\text{Unif}(-0.05,0.05)$, and accept $\\sigma_{X}^*$ by Metropolis (not just when the likelihood is larger, i.e. $P(\\sigma_{X}^*) > P(\\sigma_{X})$)\n",
      "4. Sample $\\sigma_{A}^* = \\sigma_A + \\epsilon$, where $\\epsilon \\sim \\text{Unif}(-0.05,0.05)$, and accept $\\sigma_{A}^*$ by Metropolis (not just when the likelihood is larger, i.e. $P(\\sigma_{A}^*) > P(\\sigma_{A})$)\n",
      "5. Sample $A \\sim \\text{Normal}(0,\\sigma_A^2 I)$\n",
      "6. Sample $X \\sim \\text{Normal}(ZA,\\sigma_X^2 I)$\n",
      "\n",
      "Metropolis for $\\sigma_A$ (for $\\sigma_X$ is similar):\n",
      "\n",
      "Current value: $\\sigma_{A}^{(n)}$\n",
      "\n",
      "Candidate value: $\\sigma_{A}^{*}$\n",
      "\n",
      "Generate $r \\sim \\text{Unif}(0,1)$\n",
      "\n",
      "Accept $\\sigma_{A}^{*}$ if $r < \\text{min}\\{ 1, \\dfrac{P(\\sigma_{A}^{*} | \\mathbf{Z,X},\\sigma_X)}{P(\\sigma_{A}^{(n)} | \\mathbf{Z,X},\\sigma_X)} \\}$"
     ]
    },
    {
     "cell_type": "code",
     "collapsed": false,
     "input": [
      "def log_likelihood(X,Z,sigmaX,sigmaA,N,K,D):\n",
      "    \"\"\"Calculate the log-likelihood: P(X|Z,sigmaX,sigmaA,N,K,D)\"\"\"\n",
      "    determinant = np.linalg.det(np.dot(Z.T,Z)+((sigmaX/sigmaA)**2)*np.identity(K))\n",
      "    constant = N*D*0.5*np.log(2*np.pi) + (N-K)*D*np.log(sigmaX) + K*D*np.log(sigmaA) + D*0.5*np.log(determinant)\n",
      "    \n",
      "    middle = np.identity(N) - np.dot(np.dot(Z, np.linalg.inv(np.dot(Z.T,Z)+((sigmaX/sigmaA)**2)*np.identity(K))),Z.T)\n",
      "    trace = np.trace(np.dot(np.dot(X.T,middle),X))\n",
      "    kernel = -0.5*np.reciprocal(sigmaX**2)*trace\n",
      "    \n",
      "    log_lik = -constant + kernel\n",
      "    #print constant\n",
      "    #print kernel\n",
      "    return log_lik\n",
      "    "
     ],
     "language": "python",
     "metadata": {},
     "outputs": [],
     "prompt_number": 312
    },
    {
     "cell_type": "code",
     "collapsed": false,
     "input": [
      "# Initialization\n",
      "N = 100\n",
      "D = 36\n",
      "K = 4\n",
      "sigmaA = 0.5\n",
      "sigmaX = 1.7\n",
      "\n",
      "np.random.seed(157)\n",
      "alpha = stats.gamma.rvs(a = 1, loc = 0, scale = 1, size = 1) \n",
      "\n",
      "b1 = basis1.reshape(D)\n",
      "b2 = basis2.reshape(D)\n",
      "b3 = basis3.reshape(D)\n",
      "b4 = basis4.reshape(D)\n",
      "\n",
      "A = np.array([b1,b2,b3,b4])\n",
      "\n",
      "Z, Kplus = IBP(N,K,alpha) # prior\n",
      "\n",
      "# Generate the Harmonic numbers, but we only need the sum\n",
      "from fractions import Fraction\n",
      "\n",
      "sum_Harmonics = 0\n",
      "for i in range(N):\n",
      "    sum_Harmonics += (N-i)*Fraction(1,i+1)\n",
      "\n",
      "print float(sum_Harmonics)\n",
      "\n",
      "print \"Z.shape:\",Z.shape # (100,4) = (N,K) (latent)\n",
      "print \"X.shape:\",X.shape # (100,36) = (N,D) (data)\n",
      "print \"A.shape:\",A.shape # (4,36) = (K,D)  (weight)"
     ],
     "language": "python",
     "metadata": {},
     "outputs": [
      {
       "output_type": "stream",
       "stream": "stdout",
       "text": [
        "423.925129282\n",
        "Z.shape: (100, 4)\n",
        "X.shape: (100, 36)\n",
        "A.shape: (4, 36)\n"
       ]
      }
     ],
     "prompt_number": 347
    },
    {
     "cell_type": "code",
     "collapsed": false,
     "input": [
      "# Gibbs Sampler -- Steps\n",
      "np.random.seed(151)\n",
      "mcmc = 1000 # plan to sample for 1000 times\n",
      "alpha_arr = np.zeros(mcmc)\n",
      "Kplus_arr = np.zeros(mcmc)\n",
      "sigmaX_arr = np.zeros(mcmc)\n",
      "sigmaA_arr = np.zeros(mcmc)\n",
      "rX_accept = 0\n",
      "rA_accept = 0\n",
      "Z_arr = np.zeros((mcmc,N,K))\n",
      "X_arr = np.zeros((mcmc,N,D))\n",
      "A_arr = np.zeros((mcmc,K,D))\n",
      "\n",
      "alpha_arr[0] = alpha\n",
      "Kplus_arr[0] = Kplus\n",
      "sigmaX_arr[0] = sigmaX\n",
      "sigmaA_arr[0] = sigmaA\n",
      "Z_arr[0,:,:] = Z\n",
      "X_arr[0,:,:] = stats.norm.rvs(loc=0,scale=sigmaX,size=(N,D))\n",
      "A_arr[0,:,:] = stats.norm.rvs(loc=0,scale=sigmaA,size=(K,D))\n",
      "\n",
      "for (i in range(mcmc)):\n",
      "# for i in range(1,10):\n",
      "    # Step 1: Generate alpha|Z (Gibbs)\n",
      "    alpha_arr[i] = stats.gamma.rvs(a = 1+Kplus_arr[i-1], loc = 0, scale = np.reciprocal(1+sum_Harmonics),size=1)\n",
      "    # Step 2: Generate Z|alpha (Gibbs)\n",
      "    Z_arr[i,:,:], Kplus_arr[i] = IBP(N,K,alpha_arr[i])\n",
      "\n",
      "    # Step 3: Sample sigmaX_star (Metropolis)\n",
      "    epsilonX = stats.uniform.rvs(loc=-0.05,scale=0.05,size=1) # uniform(loc,loc+scale)\n",
      "    sigmaX_star = sigmaX_arr[i-1] + epsilonX\n",
      "\n",
      "    logLikX_star = log_likelihood(X_arr[i-1,:,:],Z_arr[i-1,:,:],sigmaX_star,sigmaA_arr[i-1],N,K,D)\n",
      "    logLikX = log_likelihood(X_arr[i-1,:,:],Z_arr[i-1,:,:],sigmaX_arr[i-1],sigmaA_arr[i-1],N,K,D)\n",
      "    \n",
      "    # print logLikX_star\n",
      "    # print logLikX\n",
      "    \n",
      "    metropolisX = np.min((1,np.exp(logLikX_star-logLikX)))\n",
      "    rX = stats.uniform.rvs(loc=0,scale=1,size=1)\n",
      "    if rX < metropolisX:\n",
      "        sigmaX_arr[i] = sigmaX_star\n",
      "        rX_accept += 1\n",
      "    else: \n",
      "        sigmaX_arr[i] = sigmaX_arr[i-1]\n",
      "\n",
      "    # Step 4: Sample sigmaA_star\n",
      "    epsilonA = stats.uniform.rvs(loc=-0.05,scale=0.05,size=1) # uniform(loc,loc+scale)\n",
      "    sigmaA_star = sigmaA_arr[i-1] + epsilonA\n",
      "\n",
      "    logLikA_star = log_likelihood(X_arr[i-1,:,:],Z_arr[i-1,:,:],sigmaX_arr[i],sigmaA_star,N,K,D)\n",
      "    logLikA = log_likelihood(X_arr[i-1,:,:],Z_arr[i-1,:,:],sigmaX_arr[i],sigmaA_arr[i-1],N,K,D)\n",
      "    \n",
      "    # print logLikA_star\n",
      "    # print logLikA\n",
      "\n",
      "    metropolisA = np.min((1,np.exp(logLikA_star-logLikA)))\n",
      "    rA = stats.uniform.rvs(loc=0,scale=1,size=1)\n",
      "    if rA < metropolisA:\n",
      "        sigmaA_arr[i] = sigmaA_star\n",
      "        rA_accept += 1\n",
      "    else:\n",
      "        sigmaA_arr[i] = sigmaA_arr[i-1]\n",
      "\n",
      "    # Step 5: Sample weight matrix A ~ N(0,sigmaA**2 I)\n",
      "    A_arr[i,:,:] = stats.norm.rvs(loc=0,scale=sigmaA_arr[i],size=(K,D))\n",
      "    # Step 6: Sample the data X ~ N(ZA,sigmaX**2 I)\n",
      "    X_arr[i,:,:] = stats.norm.rvs(loc=np.dot(Z_arr[i,:,:],A_arr[i,:,:]),scale=sigmaX_arr[i],size=(N,D))"
     ],
     "language": "python",
     "metadata": {},
     "outputs": [
      {
       "output_type": "stream",
       "stream": "stdout",
       "text": [
        "[-7068.9083]\n",
        "-7066.7117174\n",
        "[-7060.1952]\n",
        "-7066.7117174\n",
        "[-6975.8424]"
       ]
      },
      {
       "output_type": "stream",
       "stream": "stdout",
       "text": [
        "\n",
        "-6976.1750244\n",
        "[-6975.8424]\n",
        "-6975.84243011\n",
        "[-7000.7476]\n",
        "-7000.67752462\n",
        "[-7000.7476]"
       ]
      },
      {
       "output_type": "stream",
       "stream": "stdout",
       "text": [
        "\n",
        "-7000.74759543\n",
        "[-6952.5431]"
       ]
      },
      {
       "output_type": "stream",
       "stream": "stdout",
       "text": [
        "\n",
        "-6952.76769262\n",
        "[-6952.5431]"
       ]
      },
      {
       "output_type": "stream",
       "stream": "stdout",
       "text": [
        "\n",
        "-6952.54309224\n",
        "[-6879.6931]\n",
        "-6880.10687916\n",
        "[-6879.6931]"
       ]
      },
      {
       "output_type": "stream",
       "stream": "stdout",
       "text": [
        "\n",
        "-6879.69305112\n",
        "[-6883.2826]\n",
        "-6877.35746397\n",
        "[-6877.3575]"
       ]
      },
      {
       "output_type": "stream",
       "stream": "stdout",
       "text": [
        "\n",
        "-6877.35746397\n",
        "[-6854.7046]\n",
        "-6852.16551568\n",
        "[-6852.1655]\n",
        "-6852.16551568\n",
        "[-6827.0363]"
       ]
      },
      {
       "output_type": "stream",
       "stream": "stdout",
       "text": [
        "\n",
        "-6825.12714247\n",
        "[-6827.0363]\n",
        "-6827.03625894\n",
        "[-6814.4206]"
       ]
      },
      {
       "output_type": "stream",
       "stream": "stdout",
       "text": [
        "\n",
        "-6813.37605097\n",
        "[-6814.4206]\n",
        "-6814.42063351\n"
       ]
      }
     ],
     "prompt_number": 354
    },
    {
     "cell_type": "heading",
     "level": 3,
     "metadata": {},
     "source": [
      "Gibbs Sampler -- Draft for Steps"
     ]
    },
    {
     "cell_type": "code",
     "collapsed": false,
     "input": [
      "# Gibbs Sampler -- Steps\n",
      "np.random.seed(151)\n",
      "\n",
      "# Step 1: Generate alpha|Z (Gibbs)\n",
      "alpha = stats.gamma.rvs(a = 1+Kplus, loc = 0, scale = np.reciprocal(1+sum_Harmonics),size=1)\n",
      "# Step 2: Generate Z|alpha (Gibbs)\n",
      "Z, Kplus = IBP(N,K,alpha)\n",
      "\n",
      "# Step 3: Sample sigmaX_star (Metropolis)\n",
      "epsilonX = stats.uniform.rvs(loc=-0.05,scale=0.05,size=1) # uniform(loc,loc+scale)\n",
      "sigmaX_star = sigmaX + epsilonX\n",
      "\n",
      "# print log_likelihood(X,Z,sigmaX_star,sigmaA,N,K,D)\n",
      "# print log_likelihood(X,Z,sigmaX,sigmaA,N,K,D)\n",
      "\n",
      "metropolisX = np.min((1,np.exp(log_likelihood(X,Z,sigmaX_star,sigmaA,N,K,D)-log_likelihood(X,Z,sigmaX,sigmaA,N,K,D))))\n",
      "rX = stats.uniform.rvs(loc=0,scale=1,size=1)\n",
      "if rX < metropolisX:\n",
      "    sigmaX = sigmaX_star\n",
      "else: \n",
      "    sigmaX = sigmaX\n",
      "\n",
      "# Step 4: Sample sigmaA_star\n",
      "epsilonA = stats.uniform.rvs(loc=-0.05,scale=0.05,size=1) # uniform(loc,loc+scale)\n",
      "sigmaA_star = sigmaA + epsilonA\n",
      "\n",
      "# print log_likelihood(X,Z,sigmaX,sigmaA_star,N,K,D)\n",
      "# print log_likelihood(X,Z,sigmaX,sigmaA,N,K,D)\n",
      "\n",
      "metropolisA = np.min((1,np.exp(log_likelihood(X,Z,sigmaX,sigmaA_star,N,K,D)-log_likelihood(X,Z,sigmaX,sigmaA,N,K,D))))\n",
      "rA = stats.uniform.rvs(loc=0,scale=1,size=1)\n",
      "if rA < metropolisA:\n",
      "    sigmaA = sigmaA_star\n",
      "else:\n",
      "    sigmaA = sigmaA\n",
      "\n",
      "# Step 5: Sample weight matrix A ~ N(0,sigmaA**2 I)\n",
      "A_new = stats.norm.rvs(loc=0,scale=sigmaA,size=(K,D))\n",
      "# Step 6: Sample the data X ~ N(ZA,sigmaX**2 I)\n",
      "X_new = stats.norm.rvs(loc=np.dot(Z,A),scale=sigmaX,size=(N,D))"
     ],
     "language": "python",
     "metadata": {},
     "outputs": [
      {
       "output_type": "stream",
       "stream": "stdout",
       "text": [
        "[-4542.4257]\n",
        "[-4618.9093]\n",
        "[-4542.4257]\n",
        "[-4542.4257]\n"
       ]
      }
     ],
     "prompt_number": 343
    },
    {
     "cell_type": "markdown",
     "metadata": {},
     "source": [
      "### Posterior Distribution Calculation\n",
      "\n",
      "Priors: $P(z_{ik}=1 | \\mathbf{z_{-i,k}}) = \\dfrac{m_{-i,k}+\\dfrac{\\alpha}{K}}{N+\\dfrac{\\alpha}{K}} \\rightarrow \\dfrac{m_{-i,k}}{N}$ as $K \\rightarrow \\infty$\n",
      "\n",
      "Likelihood: $\\mathbf{X}|(\\mathbf{Z},\\mathbf{A},\\mathbf{\\sigma_X}) \\sim \\text{Normal}(\\mathbf{ZA},\\Sigma_X = \\sigma_X^2\\mathbf{I})$\n",
      "\n",
      "i.e. $P(\\mathbf{X} | \\mathbf{Z}, \\sigma_X, \\sigma_A) = \\dfrac{1}{(2\\pi)^{ND/2} \\sigma_X^{(N-K)D} \\sigma_A^{KD} |\\mathbf{Z}^T\\mathbf{Z} + \\dfrac{\\sigma_X^2}{\\sigma_A^2}\\mathbf{I}|^{D/2}} \\exp\\{-\\dfrac{1}{2\\sigma^2_X} \\text{tr}(\\mathbf{X}^T(\\mathbf{I}-\\mathbf{Z}(\\mathbf{Z}^T\\mathbf{Z}+\\dfrac{\\sigma_X^2}{\\sigma_A^2}\\mathbf{I})^{-1})\\mathbf{Z}^T)\\mathbf{X}\\}$\n",
      "\n",
      "Full conditional distribution: $P(z_{ik} | \\mathbf{X,Z_{-i,k}},\\sigma_X, \\sigma_A) \\propto P(\\mathbf{X} | \\mathbf{Z},\\sigma_X, \\sigma_A) P(z_{ik} | \\mathbf{z_{-i,k}})$"
     ]
    }
   ],
   "metadata": {}
  }
 ]
}