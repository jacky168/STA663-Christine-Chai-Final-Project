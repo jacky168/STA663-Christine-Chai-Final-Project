{
 "metadata": {
  "name": "",
  "signature": "sha256:22a3a58c9be32701cc82e92ec6b7dead6fab4e39837042c62400cb3ca6aa8b3b"
 },
 "nbformat": 3,
 "nbformat_minor": 0,
 "worksheets": [
  {
   "cells": [
    {
     "cell_type": "code",
     "collapsed": false,
     "input": [
      "another test :)"
     ],
     "language": "python",
     "metadata": {},
     "outputs": []
    }
   ],
   "metadata": {}
  }
 ]
}