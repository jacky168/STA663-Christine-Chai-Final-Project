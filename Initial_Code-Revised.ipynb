{
 "metadata": {
  "name": "",
  "signature": "sha256:80d8c02e4488e8b624f1e91a8b1a51e2b9feff910fb5d8c4edaca2ccaf0d0786"
 },
 "nbformat": 3,
 "nbformat_minor": 0,
 "worksheets": [
  {
   "cells": [
    {
     "cell_type": "heading",
     "level": 1,
     "metadata": {},
     "source": [
      "Initial Code Revised -- Indian Buffet Process (IBP)"
     ]
    },
    {
     "cell_type": "code",
     "collapsed": false,
     "input": [
      "from __future__ import division\n",
      "import os\n",
      "import sys\n",
      "import glob\n",
      "import matplotlib.pyplot as plt\n",
      "import numpy as np\n",
      "import pandas as pd\n",
      "%matplotlib inline\n",
      "%precision 4\n",
      "plt.style.use('ggplot')"
     ],
     "language": "python",
     "metadata": {},
     "outputs": [],
     "prompt_number": 1
    },
    {
     "cell_type": "code",
     "collapsed": false,
     "input": [
      "np.random.seed(1234)\n",
      "import scipy.stats as stats"
     ],
     "language": "python",
     "metadata": {},
     "outputs": [],
     "prompt_number": 2
    },
    {
     "cell_type": "markdown",
     "metadata": {},
     "source": [
      "### Indian Buffet Process (IBP): Steps\n",
      "\n",
      "- Step 1: First customer takes a Poisson($\\alpha$) of dishes\n",
      "- Step 2: The $i$th customer takes dish $k$ with probability $\\frac{m_k}{i}$, where $m_k$ is the number of previous customers who sampled that dish\n",
      "- Step 3: The $i$th customer tries a Poisson($\\frac{\\alpha}{i}$) number of new dishes\n",
      "- Storage: Binary matrix $\\mathbf{Z}$ with $N$ rows and infinite columns, where $z_{ik}$ = 1 if customer $i$ sampled the dish $k$\n",
      "- Probability: $P(z_{ik}=1 | \\mathbf{z_{-i,k}}) = \\dfrac{m_{-i,k}+\\dfrac{\\alpha}{K}}{N+\\dfrac{\\alpha}{K}} \\rightarrow \\dfrac{m_{-i,k}}{N}$ as $K \\rightarrow \\infty$\n",
      "\n",
      "Special note: This is JUST a prior, not something you put in the Gibbs sampler!"
     ]
    },
    {
     "cell_type": "code",
     "collapsed": false,
     "input": [
      "def IBP(N, alpha):\n",
      "    \"\"\"Indian Buffet Process (IBP) steps:\n",
      "    Input: N is the number of customers (objects, images); alpha is the only parameter;\n",
      "    Return: result is the binary matrix (prior); Kplus is the number of dishes (features)\"\"\"\n",
      "    result = np.zeros((N,1000))\n",
      "    \n",
      "    # Step 1: First customer takes a Poisson(alpha) of dishes\n",
      "    t = stats.poisson.rvs(alpha) # (set the random seed when calling the function)\n",
      "    if t > 0:\n",
      "        result[0,0:t] = 1\n",
      "    \n",
      "    # Kplus = the number of features for which m_k > 0 (m_k: the number of previous customers who sampled that dish)\n",
      "    Kplus = t\n",
      "    for i in range(1,N):\n",
      "        for k in range(Kplus):\n",
      "            # Step 2: The ith customer takes dish k with probability m_k/i\n",
      "            p = np.sum(result[0:(i+1),k])/(i+1) # this is a probability, so should be between 0 and 1\n",
      "            assert p <= 1 \n",
      "            assert p >= 0\n",
      "            if stats.uniform.rvs(0) < p:\n",
      "                result[i,k] = 1\n",
      "            else:\n",
      "                result[i,k] = 0\n",
      "                \n",
      "        # Step 3: The ith customer tries a Poisson(alpha/i) number of new dishes\n",
      "        t = stats.poisson.rvs(alpha/(i+1))\n",
      "        if t > 0:\n",
      "            result[i,Kplus:(Kplus+t)] = 1\n",
      "        Kplus += t\n",
      "    result = result[:,0:Kplus]\n",
      "    \n",
      "    return result, Kplus"
     ],
     "language": "python",
     "metadata": {},
     "outputs": [],
     "prompt_number": 3
    },
    {
     "cell_type": "markdown",
     "metadata": {},
     "source": [
      "### Indian Buffet Process (IBP): Testing\n",
      "\n",
      "Probability must be between 0 and 1: $ 0 \\leq \\dfrac{m_{-i,k}+\\dfrac{\\alpha}{K}}{N+\\dfrac{\\alpha}{K}}, \\dfrac{m_{-i,k}}{N} \\leq 1$\n",
      "\n",
      "This is equivalent to testing $m_{-i,k} \\leq N$"
     ]
    },
    {
     "cell_type": "code",
     "collapsed": false,
     "input": [
      "np.random.seed(12)\n",
      "N1 = 100\n",
      "alpha1 = 1.5\n",
      "\n",
      "result1, Kplus1 = IBP(N1,alpha1)\n",
      "print Kplus1\n",
      "\n",
      "print result1.shape"
     ],
     "language": "python",
     "metadata": {},
     "outputs": [
      {
       "output_type": "stream",
       "stream": "stdout",
       "text": [
        "5\n",
        "(100, 5)\n"
       ]
      }
     ],
     "prompt_number": 4
    },
    {
     "cell_type": "heading",
     "level": 1,
     "metadata": {},
     "source": [
      "Algorithm Application -- Linear-Gaussian Binary Latent Feature Models\n"
     ]
    },
    {
     "cell_type": "markdown",
     "metadata": {},
     "source": [
      "### Variables in Data (Images)\n",
      "\n",
      "$N = 100$ is the number of images (customers, objects)\n",
      "\n",
      "$D = 6 \\times 6 = 36$ is the length of vectors (dishes, features) for each image\n",
      "\n",
      "$K = 4$ is the number of basis images (latent or underlying variables)\n",
      "\n",
      "Each object $i$ has a $D$-dimensional vector of properties, named $x_i$\n",
      "\n",
      "- Generate images $X$ with the $K$ basis images, indicating which bases are used (each with probability 0.5)\n",
      "- Add white noises $\\text{Normal}(0,\\sigma_X^2 = 0.5)$ to these images"
     ]
    },
    {
     "cell_type": "code",
     "collapsed": false,
     "input": [
      "# Basis images\n",
      "import Image\n",
      "basis1 = np.array([[0,0,0,0,0,0],[0,0,0,0,0,0],[0,0,0,0,0,0],[0,1,0,0,0,0],[1,1,1,0,0,0],[0,1,0,0,0,0]])\n",
      "basis2 = np.array([[1,1,1,0,0,0],[1,0,1,0,0,0],[1,1,1,0,0,0],[0,0,0,0,0,0],[0,0,0,0,0,0],[0,0,0,0,0,0]])\n",
      "basis3 = np.array([[0,0,0,0,0,0],[0,0,0,0,0,0],[0,0,0,0,0,0],[0,0,0,0,0,1],[0,0,0,0,1,1],[0,0,0,1,1,1]])\n",
      "basis4 = np.array([[0,0,0,1,0,0],[0,0,0,1,1,1],[0,0,0,1,0,0],[0,0,0,0,0,0],[0,0,0,0,0,0],[0,0,0,0,0,0]])\n",
      "\n",
      "D = 36\n",
      "b1 = basis1.reshape(D)\n",
      "b2 = basis2.reshape(D)\n",
      "b3 = basis3.reshape(D)\n",
      "b4 = basis4.reshape(D)\n",
      "A = np.array([b1,b2,b3,b4])\n",
      "\n",
      "# These are heatmaps!\n",
      "plt.figure(num=None, figsize=(12,3), dpi=80, facecolor='w', edgecolor='k')\n",
      "plt.subplot(141)\n",
      "plt.pcolormesh(basis1,cmap=plt.cm.gray)     \n",
      "plt.subplot(142)\n",
      "plt.pcolormesh(basis2,cmap=plt.cm.gray)  \n",
      "plt.subplot(143)\n",
      "plt.pcolormesh(basis3,cmap=plt.cm.gray)  \n",
      "plt.subplot(144)\n",
      "plt.pcolormesh(basis4,cmap=plt.cm.gray)  \n",
      "\n",
      "print \"Latent feature matrices (A):\""
     ],
     "language": "python",
     "metadata": {},
     "outputs": [
      {
       "output_type": "stream",
       "stream": "stdout",
       "text": [
        "Latent feature matrices (A):\n"
       ]
      },
      {
       "metadata": {},
       "output_type": "display_data",
       "png": "[encoded data removed]",
       "text": [
        "<matplotlib.figure.Figure at 0x7f4a1cee8c90>"
       ]
      }
     ],
     "prompt_number": 5
    },
    {
     "cell_type": "code",
     "collapsed": false,
     "input": [
      "# Generate image data: 100 matrices of size 6*6\n",
      "N = 100\n",
      "D = 36\n",
      "K = 4\n",
      "sigmaX_orig = 0.5\n",
      "\n",
      "# All K basis images, each of length D\n",
      "# Generate N images (customers, objects)\n",
      "np.random.seed(1234)\n",
      "images = np.zeros((N,6,6)) # simulated image data\n",
      "structure = np.zeros((N,6,6))  # 0/1 structure for each image\n",
      "add = stats.bernoulli.rvs(0.5,size=(N,K)) # whether the K=4 latent bases are present in each image\n",
      "epsilon = stats.norm.rvs(loc=0,scale=0.5,size = (N,6,6)) # random noise\n",
      "\n",
      "for i in range(N):\n",
      "    structure[i,:,:] = add[i,0]*basis1 + add[i,1]*basis2 + add[i,2]*basis3 + add[i,3]*basis4\n",
      "    images[i,:,:] = structure[i,:,:] + epsilon[i,:,:]\n",
      "\n",
      "Z_orig = add    \n",
      "# X = structure.reshape(N,D)    \n",
      "# print Z_orig\n",
      "# print structure[0,:,:]\n",
      "# print X[0,:]\n",
      "# print X.shape\n",
      "\n",
      "# print images.shape\n",
      "print \"Example image:\\n\",images[4]\n",
      "plt.pcolormesh(images[4],cmap=plt.cm.gray)"
     ],
     "language": "python",
     "metadata": {},
     "outputs": [
      {
       "output_type": "stream",
       "stream": "stdout",
       "text": [
        "Example image:\n",
        "[[ 0.2067  0.3588  0.1309  0.8786 -0.2506 -0.3491]\n",
        " [ 0.6923 -0.1432  0.25    1.9756  0.8608  1.0184]\n",
        " [ 0.2229 -0.7052  0.225   1.2577 -0.577  -0.6901]\n",
        " [-0.2479  0.7934 -0.8597 -0.0148 -0.383   1.0499]\n",
        " [ 0.6435 -0.1131  1.3629  0.4585  0.7181  0.2389]\n",
        " [-0.0071  0.8766 -0.0827  1.0596 -0.0375  0.4986]]\n"
       ]
      },
      {
       "metadata": {},
       "output_type": "pyout",
       "prompt_number": 6,
       "text": [
        "<matplotlib.collections.QuadMesh at 0x7f4a1c62b550>"
       ]
      },
      {
       "metadata": {},
       "output_type": "display_data",
       "png": "[encoded data removed]",
       "text": [
        "<matplotlib.figure.Figure at 0x7f4a1c704310>"
       ]
      }
     ],
     "prompt_number": 6
    },
    {
     "cell_type": "markdown",
     "metadata": {},
     "source": [
      "### Variables in Transformation\n",
      "\n",
      "$x_i \\sim \\text{Normal}(\\mathbf{z_i} \\mathbf{A}, \\Sigma_X = \\sigma_X^2\\mathbf{I})$\n",
      "\n",
      "$\\mathbf{z_i}$ is a $K$-dimensional binary vector (features)\n",
      "\n",
      "$\\mathbf{A}$ is a $K \\times D$ matrix of weights, with prior $A \\sim \\text{Normal}(0,\\sigma_A^2 \\mathbf{I})$\n",
      "\n",
      "$Z \\sim \\text{IBP}(\\alpha)$, where $m_k$ is the number of objects with feature $k$\n",
      "\n",
      "$p(Z | \\alpha) = \\dfrac{\\alpha^K}{\\prod^{2^N-1}_{h=1}K_h!} \\exp(-\\alpha H_N) \\prod^{K}_{k=1}\\dfrac{(N-m_k)!(m_k-1)!}{N!}$\n",
      "\n",
      "Note 1: $\\alpha$ is a variable influencing the number of features  $D$\n",
      "\n",
      "Note 2: $K_h$ is the number of features with history $h$ (whether the $N$ images possess this feature, $2^N-1$ possibilities in total)\n",
      "\n",
      "Note 3: $H_N$ is the $N^{\\text{th}}$ harmonic number, and $m_k$ is the number of objects with feature $k$"
     ]
    },
    {
     "cell_type": "code",
     "collapsed": false,
     "input": [
      "# Generate the Harmonic numbers, but we only need the sum\n",
      "from fractions import Fraction\n",
      "sum_Harmonics = 0\n",
      "Harmonics = 0\n",
      "for i in range(N):\n",
      "    sum_Harmonics += (N-i)*Fraction(1,i+1)\n",
      "    Harmonics += Fraction(1,i+1)\n",
      "print \"Sum of H_1 + ... + H_N:\", float(sum_Harmonics)\n",
      "print \"Harmonic number H_N:\", float(Harmonics)"
     ],
     "language": "python",
     "metadata": {},
     "outputs": [
      {
       "output_type": "stream",
       "stream": "stdout",
       "text": [
        "Sum of H_1 + ... + H_N: 423.925129282\n",
        "Harmonic number H_N: 5.18737751764\n"
       ]
      }
     ],
     "prompt_number": 7
    },
    {
     "cell_type": "code",
     "collapsed": false,
     "input": [
      "# Initialization\n",
      "N = 100\n",
      "D = 36\n",
      "K = 4\n",
      "sigmaA = 1\n",
      "sigmaX = 1\n",
      "\n",
      "np.random.seed(1005)\n",
      "# alpha = stats.gamma.rvs(a = 1, loc = 0, scale = 1, size = 1)[0]\n",
      "alpha = 1\n",
      "\n",
      "K_inf = 1000\n",
      "Z, Kplus = IBP(N, alpha)\n",
      "print \"Initial Kplus:\", Kplus\n",
      "print \"Z.shape:\",Z.shape # (100,4) = (N,Kplus) (latent)\n",
      "print \"A.shape:\",A.shape # (4,36) = (Kplus,D)  (weight)\n",
      "\n",
      "# Set MCMC steps\n",
      "mcmc = 1000 # plan to sample for 1000 times\n",
      "\n",
      "# Setup the array\n",
      "Z_arr = np.zeros((mcmc,N,K_inf))\n",
      "Kplus_arr = np.zeros(mcmc)\n",
      "sigmaX_arr = np.zeros(mcmc)\n",
      "sigmaA_arr = np.zeros(mcmc)\n",
      "alpha_arr = np.zeros(mcmc)\n",
      "rX_accept = 0\n",
      "rA_accept = 0"
     ],
     "language": "python",
     "metadata": {},
     "outputs": [
      {
       "output_type": "stream",
       "stream": "stdout",
       "text": [
        "Initial Kplus: 4\n",
        "Z.shape: (100, 4)\n",
        "A.shape: (4, 36)\n"
       ]
      }
     ],
     "prompt_number": 8
    },
    {
     "cell_type": "code",
     "collapsed": false,
     "input": [
      "# More initialization\n",
      "np.random.seed(15)\n",
      "basis1 = np.array([[0,0,0,0,0,0],[0,0,0,0,0,0],[0,0,0,0,0,0],[0,1,0,0,0,0],[1,1,1,0,0,0],[0,1,0,0,0,0]])\n",
      "basis2 = np.array([[1,1,1,0,0,0],[1,0,1,0,0,0],[1,1,1,0,0,0],[0,0,0,0,0,0],[0,0,0,0,0,0],[0,0,0,0,0,0]])\n",
      "basis3 = np.array([[0,0,0,0,0,0],[0,0,0,0,0,0],[0,0,0,0,0,0],[0,0,0,0,0,1],[0,0,0,0,1,1],[0,0,0,1,1,1]])\n",
      "basis4 = np.array([[0,0,0,1,0,0],[0,0,0,1,1,1],[0,0,0,1,0,0],[0,0,0,0,0,0],[0,0,0,0,0,0],[0,0,0,0,0,0]])\n",
      "\n",
      "D = 36\n",
      "b1 = basis1.reshape(D)\n",
      "b2 = basis2.reshape(D)\n",
      "b3 = basis3.reshape(D)\n",
      "b4 = basis4.reshape(D)\n",
      "A = np.array([b1,b2,b3,b4])\n",
      "\n",
      "Z_orig = np.zeros((N,4))\n",
      "sigmaX_orig = 0.5\n",
      "X = np.zeros((N,D))\n",
      "\n",
      "for i in range(N):\n",
      "    pp1 = stats.uniform.rvs(loc=0,scale=1,size=1)\n",
      "    if pp1 > 0.5:\n",
      "        Z_orig[i,:] = 1\n",
      "    while np.sum(Z_orig[i,:]) == 0:\n",
      "        pp2 = stats.uniform.rvs(loc=0,scale=1,size=1)\n",
      "        if pp2 > 0.5:\n",
      "            Z_orig[i,:] = 1\n",
      "    X[i,:] = np.random.normal(size=D)*sigmaX_orig + np.dot(Z_orig[i,:],A)\n",
      "    \n",
      "print \"X.shape:\",X.shape # (100,36) = (N,D) (data)\n",
      "print X\n",
      "# print np.dot(Z_orig[i,:],A).shape"
     ],
     "language": "python",
     "metadata": {},
     "outputs": [
      {
       "output_type": "stream",
       "stream": "stdout",
       "text": [
        "X.shape: (100, 36)\n",
        "[[ 0.3194  0.5804  0.0446 ...,  0.9992  1.0414  0.8606]\n",
        " [ 0.4764  0.7074  0.4561 ...,  1.0156  0.9322  0.6349]\n",
        " [ 0.8885  1.1417  1.3536 ...,  0.8099  1.7282  0.5891]\n",
        " ..., \n",
        " [ 1.6662  0.0878  1.3558 ...,  1.4642  0.8713  1.2188]\n",
        " [ 0.4421  0.6176  1.5383 ...,  1.2312  0.4227  0.3751]\n",
        " [ 0.2655  1.816   1.3767 ...,  0.8921  0.9579  0.9058]]\n"
       ]
      }
     ],
     "prompt_number": 9
    },
    {
     "cell_type": "code",
     "collapsed": false,
     "input": [
      "# Checking whether the gamma distribution is setup correctly\n",
      "# ff ~ Gamma(a,b): a = shape, b = 1/scale => E(ff) = a/b = a*scale, Var(ff) = a/b**2 = a*scale**2\n",
      "# Generate 1000 random samples from Ga(3,2)\n",
      "np.random.seed(17)\n",
      "rv = stats.gamma.rvs(a = 3, loc = 0, scale = 2, size=1000)\n",
      "print np.mean(rv)  # should be close to 3*2 = 6\n",
      "print np.var(rv)   # should be close to 3*2*2 = 12"
     ],
     "language": "python",
     "metadata": {},
     "outputs": [
      {
       "output_type": "stream",
       "stream": "stdout",
       "text": [
        "6.11082455198\n",
        "12.3836326135\n"
       ]
      }
     ],
     "prompt_number": 10
    },
    {
     "cell_type": "markdown",
     "metadata": {},
     "source": [
      "### Gibbs Sampler\n",
      "\n",
      "Initialization: $\\sigma_A = 1, \\sigma_X = 1, \\alpha \\sim Ga(1,1)$\n",
      "\n",
      "1. Generate $P(z_{ik} | \\mathbf{X,Z_{-i,k}},\\sigma_X, \\sigma_A)$ using the full conditional distribution\n",
      "2. Sample $\\sigma_{X}^* = \\sigma_X + \\epsilon$, where $\\epsilon \\sim \\text{Unif}(-0.05,0.05)$, and accept $\\sigma_{X}^*$ by Metropolis (not just when the likelihood is larger, i.e. $P(\\sigma_{X}^*) > P(\\sigma_{X})$)\n",
      "3. Sample $\\sigma_{A}^* = \\sigma_A + \\epsilon$, where $\\epsilon \\sim \\text{Unif}(-0.05,0.05)$, and accept $\\sigma_{A}^*$ by Metropolis (not just when the likelihood is larger, i.e. $P(\\sigma_{A}^*) > P(\\sigma_{A})$)\n",
      "4. Generate $\\alpha|Z \\sim Ga(1+K_+,1+\\sum^{N}_{i=1}H_i)$, where $K_+ = \\sum^{2^N-1}_{h=1}K_h$ and $K_+$ is the number of features for which $m_k > 0$\n",
      "\n",
      "Metropolis for $\\sigma_A$ (for $\\sigma_X$ is similar):\n",
      "\n",
      "Current value: $\\sigma_{A}^{(n)}$\n",
      "\n",
      "Candidate value: $\\sigma_{A}^{*}$\n",
      "\n",
      "Generate $r \\sim \\text{Unif}(0,1)$\n",
      "\n",
      "Accept $\\sigma_{A}^{*}$ if $r < \\text{min}\\{ 1, \\dfrac{P(\\sigma_{A}^{*} | \\mathbf{Z,X},\\sigma_X)}{P(\\sigma_{A}^{(n)} | \\mathbf{Z,X},\\sigma_X)} \\}$"
     ]
    },
    {
     "cell_type": "code",
     "collapsed": false,
     "input": [
      "def calcM(Z,Kplus,sigmaX,sigmaA):\n",
      "    \"\"\"Save the matrix M so we won't need to calculate it again and again\"\"\"\n",
      "    return np.linalg.inv(np.dot(Z[:,0:Kplus].T,Z[:,0:Kplus])+((sigmaX/sigmaA)**2)*np.identity(Kplus))"
     ],
     "language": "python",
     "metadata": {},
     "outputs": [],
     "prompt_number": 10
    },
    {
     "cell_type": "code",
     "collapsed": false,
     "input": [
      "def calcInverse(Z, M, i, k, val):\n",
      "    \"\"\"Effective inverse calculation from Griffiths and Ghahramani (2005; Equations 51 to 54)\n",
      "    M_(-i) = inv(inv(M) - zi.T * zi)\"\"\"\n",
      "    M_i = M - np.dot(np.dot(M,Z[i,:].T),np.dot(Z[i,:],M))/(np.dot(np.dot(Z[i,:],M),Z[i,:])-1)\n",
      "    Z[i,k] = val\n",
      "    M = M_i - np.dot(np.dot(M_i,Z[i,:].T),np.dot(Z[i,:],M_i))/(np.dot(np.dot(Z[i,:],M_i),Z[i,:])+1)\n",
      "    Inv = M\n",
      "    return Inv"
     ],
     "language": "python",
     "metadata": {},
     "outputs": [],
     "prompt_number": 11
    },
    {
     "cell_type": "code",
     "collapsed": false,
     "input": [
      "def log_likelihood(X,Z,M,sigmaA,sigmaX,Kplus,N,D):  \n",
      "    \"\"\"Calculate the log-likelihood: P(X|Z,M,sigmaA,sigmaX,Kplus,N,D)\"\"\"  \n",
      "    determinant = np.linalg.det(np.dot(Z.T,Z)+((sigmaX/sigmaA)**2)*np.identity(Kplus))\n",
      "    constant = N*D*0.5*np.log(2*np.pi) + (N-Kplus)*D*np.log(sigmaX) + Kplus*D*np.log(sigmaA) + D*0.5*np.log(determinant)\n",
      "    \n",
      "    middle = np.identity(N) - np.dot(np.dot(Z, M),Z.T)\n",
      "    trace = np.trace(np.dot(np.dot(X.T,middle),X))\n",
      "    kernel = -0.5*np.reciprocal(sigmaX**2)*trace\n",
      "    \n",
      "    log_lik = -constant + kernel\n",
      "    #print constant\n",
      "    #print kernel\n",
      "    return log_lik"
     ],
     "language": "python",
     "metadata": {},
     "outputs": [],
     "prompt_number": 12
    },
    {
     "cell_type": "code",
     "collapsed": false,
     "input": [
      "# Gibbs Sampler -- Steps\n",
      "np.random.seed(111)\n",
      "\n",
      "# for mc in range(mcmc):\n",
      "for mc in range(1000):\n",
      "\n",
      "    # Step 0: Save generated parameters to the MCMC array\n",
      "    Z_arr[mc,:,0:Kplus] = Z[:,0:Kplus]\n",
      "    print \"Shape of Z:\",Z.shape\n",
      "    \n",
      "    alpha_arr[mc] = alpha\n",
      "    Kplus_arr[mc] = Kplus\n",
      "    sigmaX_arr[mc] = sigmaX\n",
      "    sigmaA_arr[mc] = sigmaA\n",
      "    print \"At iteration\",mc,\": Kplus is\",Kplus,\", alpha is\",alpha\n",
      "\n",
      "    # Step 1: Generate Z|alpha (Gibbs)\n",
      "    for i in range(N):\n",
      "        # Save the matrix M so we won't need to calculate it again and again\n",
      "        M = calcM(Z,Kplus,sigmaX,sigmaA)\n",
      "                             \n",
      "        for k in range(Kplus):\n",
      "            # This is possible because Kplus may decrease in this loop (e.g. dropping redundant zeros)\n",
      "            if (k+1) > Kplus:\n",
      "                break\n",
      "            if Z[i,k] > 0:\n",
      "                # Take care of singular features\n",
      "                # Get rid of the features not sampled (remove the zeros)\n",
      "                if np.sum(Z[:,k]) - Z[i,k] <= 0: # whether the dish is sampled by other customers or not\n",
      "                    Z[i,k] = 0\n",
      "                    # Avoid Kplus to become zero!\n",
      "                    if Kplus == 1:\n",
      "                        Z[:,0] = Z[:,1]\n",
      "                    else: # Kplus > 1\n",
      "                        Z[:,k:(Kplus-1)] = Z[:,(k+1):Kplus]\n",
      "                        Kplus -= 1\n",
      "                        # Z = Z[:,0:Kplus] # remove the last column\n",
      "                    M = calcM(Z,Kplus,sigmaX,sigmaA)          \n",
      "                    continue            \n",
      "            \n",
      "            # Effective inverse calculation from Griffiths and Ghahramani (2005; Equations 51 to 54)\n",
      "            # M_(-i) = inv(inv(M) - zi.T * zi)\n",
      "            M0 = calcInverse(Z[:,0:Kplus], M, i, k, 0)\n",
      "            M1 = calcInverse(Z[:,0:Kplus], M, i, k, 1)\n",
      "            \n",
      "            # Then calculate the posterior distribution: prior * likelihood \n",
      "            # i.e. customers sample the dishes that have been previously sampled\n",
      "            # Likelihood: P(X|Z_(-i,k),sigmaX,sigmaA)\n",
      "            # Prior: P(z_ik = 1 | z_(-i,k)) = m_(-i,k) / N, where m_(-i,k) = number of objects possess feature k, excluding i\n",
      "            P = np.zeros(2)\n",
      "            Z[i,k] = 1\n",
      "            P[1] = log_likelihood(X,Z[:,0:Kplus],M1,sigmaA,sigmaX,Kplus,N,D) + np.log(sum(Z[:,k])-Z[i,k]) - np.log(N)\n",
      "            Z[i,k] = 0\n",
      "            P[0] = log_likelihood(X,Z[:,0:Kplus],M0,sigmaA,sigmaX,Kplus,N,D) + np.log(N-sum(Z[:,k])) - np.log(N)\n",
      "            P = np.exp(P - max(P))\n",
      "            # Sample from the posterior distribution\n",
      "            rand = stats.uniform.rvs(loc=0,scale=1,size=1)           \n",
      "            if rand < P[0]/(P[0]+P[1]):\n",
      "                Z[i,k] = 0\n",
      "                M = M0\n",
      "            else:\n",
      "                Z[i,k] = 1\n",
      "                M = M1\n",
      "\n",
      "        # Sample the number of new dishes Pois(alpha/i) for the current customer/object\n",
      "        # Truncated prior: P(z_ik = 1 | z_(-i,k)) = (m_(-i,k) + alpha/Kplus) / (N + alpha/Kplus)\n",
      "        trun = np.zeros(5)\n",
      "        alphaN = alpha/N  # don't use alpha/i, or this can result in division by zero, but I don't know the details\n",
      "        # alphaN = alpha/(i+1)\n",
      "        # Note: in MATLAB, any matrix can be expanded => in Python, we need np.vstack and/or np.hstack       \n",
      "        \n",
      "        for ki in range(5):\n",
      "            if ki > 0:\n",
      "                new_stack = np.zeros((N,ki))\n",
      "                new_stack[i,:] = 1\n",
      "                Z = np.hstack((Z[:,0:Kplus],new_stack))\n",
      "            M = np.linalg.inv(np.dot(Z[:,0:(Kplus+ki)].T,Z[:,0:(Kplus+ki)])+((sigmaX/sigmaA)**2)*np.identity(Kplus+ki))\n",
      "            # Prior: x ~ Pois(lambda): f(x) = ((lambda**x)/x!)*exp(-lambda), where x = ki, lambda = alphaN\n",
      "            \n",
      "            trun[ki] = (ki)*np.log(alphaN) - alphaN - np.log(np.math.factorial(ki)) \n",
      "            # posterior is proportional to prior x likelihood\n",
      "            trun[ki] += log_likelihood(X,Z[:,0:(Kplus+ki)],M,sigmaA,sigmaX,Kplus+ki,N,D)\n",
      "            \n",
      "        Z[i,Kplus:(Kplus+4)] = 0\n",
      "        trun = np.exp(trun-max(trun))\n",
      "        trun = trun/np.sum(trun)\n",
      "        \n",
      "        p = stats.uniform.rvs(loc=0,scale=1,size=1)  \n",
      "        t = 0\n",
      "        for ki in range(5):\n",
      "            t += trun[ki]\n",
      "            if p < t:\n",
      "                new_dishes = ki\n",
      "                break\n",
      "        Z[i,Kplus:(Kplus+new_dishes)] = 1\n",
      "        Kplus += new_dishes\n",
      "        \n",
      "    # Step 2: Sample sigmaX_star (Metropolis)\n",
      "    # M = calcM(Z, Kplus+new_dishes, sigmaX, sigmaA)\n",
      "    M = calcM(Z, Kplus, sigmaX, sigmaA)\n",
      "    # logLik = log_likelihood(X, Z[:,0:(Kplus+new_dishes)], M, sigmaA, sigmaX, Kplus+new_dishes, N, D)\n",
      "    logLik = log_likelihood(X, Z[:,0:Kplus], M, sigmaA, sigmaX, Kplus, N, D)\n",
      "    epsilonX = stats.uniform.rvs(loc=0,scale=1,size=1) \n",
      "    if epsilonX < 0.5:\n",
      "        # sigmaX_star = sigmaX - epsilonX/40\n",
      "        sigmaX_star = sigmaX - epsilonX/20\n",
      "    else:\n",
      "        sigmaX_star = sigmaX + epsilonX/20   \n",
      "    # M_Xstar = calcM(Z, Kplus+new_dishes, sigmaX_star, sigmaA)\n",
      "    M_Xstar = calcM(Z, Kplus, sigmaX_star, sigmaA)\n",
      "    # logLikX_star = log_likelihood(X, Z[:,0:(Kplus+new_dishes)], M_Xstar, sigmaA, sigmaX_star, Kplus+new_dishes, N, D)\n",
      "    logLikX_star = log_likelihood(X, Z[:,0:Kplus], M_Xstar, sigmaA, sigmaX_star, Kplus, N, D)\n",
      "    acc_X = np.exp(min(0, logLikX_star-logLik))\n",
      "    \n",
      "    # Step 3: Sample sigmaA_star (Metropolis)\n",
      "    epsilonA = stats.uniform.rvs(loc=0,scale=1,size=1)\n",
      "    if epsilonA < 0.5:\n",
      "        sigmaA_star = sigmaA - epsilonA/20\n",
      "    else:\n",
      "        # sigmaA_star = sigmaA + epsilonA/40 \n",
      "        sigmaA_star = sigmaA + epsilonA/20   \n",
      "    # M_Astar = calcM(Z, Kplus+new_dishes, sigmaX, sigmaA_star)\n",
      "    M_Astar = calcM(Z, Kplus, sigmaX, sigmaA_star)\n",
      "    # logLikA_star = log_likelihood(X, Z[:,0:(Kplus+new_dishes)], M_Astar, sigmaA_star, sigmaX, Kplus+new_dishes, N, D)\n",
      "    logLikA_star = log_likelihood(X, Z[:,0:Kplus], M_Astar, sigmaA_star, sigmaX, Kplus, N, D)\n",
      "    acc_A = np.exp(min(0, logLikA_star-logLik))\n",
      "    \n",
      "    randX = stats.uniform.rvs(loc=0,scale=1,size=1)\n",
      "    if randX < acc_X:\n",
      "        sigmaX = sigmaX_star\n",
      "        rX_accept += 1\n",
      "    randA = stats.uniform.rvs(loc=0,scale=1,size=1)\n",
      "    if randA < acc_A:\n",
      "        sigmaA = sigmaA_star\n",
      "        rA_accept += 1\n",
      "    \n",
      "    # Step 4: Sample alpha|Z ~ Ga(a=1+Kplus,scale=1+Harmonics)\n",
      "    alpha = stats.gamma.rvs(a = 1+Kplus, loc = 0, scale = np.reciprocal(1+Harmonics),size=1)[0]\n",
      "    "
     ],
     "language": "python",
     "metadata": {},
     "outputs": [
      {
       "output_type": "stream",
       "stream": "stdout",
       "text": [
        "Shape of Z: (100, 4)\n",
        "At iteration 0 : Kplus is 4 , alpha is 1\n",
        "Shape of Z:"
       ]
      },
      {
       "output_type": "stream",
       "stream": "stdout",
       "text": [
        " (100, 6)\n",
        "At iteration 1 : Kplus is 2 , alpha is 0.537882817984\n",
        "Shape of Z:"
       ]
      },
      {
       "output_type": "stream",
       "stream": "stdout",
       "text": [
        " (100, 6)\n",
        "At iteration 2 : Kplus is 2 , alpha is 0.289545078845\n",
        "Shape of Z:"
       ]
      },
      {
       "output_type": "stream",
       "stream": "stdout",
       "text": [
        " (100, 5)\n",
        "At iteration 3 : Kplus is 1 , alpha is 0.0668376137544\n",
        "Shape of Z:"
       ]
      },
      {
       "output_type": "stream",
       "stream": "stdout",
       "text": [
        " (100, 5)\n",
        "At iteration 4 : Kplus is 1 , alpha is 0.180378372892\n",
        "Shape of Z:"
       ]
      },
      {
       "output_type": "stream",
       "stream": "stdout",
       "text": [
        " (100, 5)\n",
        "At iteration 5 : Kplus is 1 , alpha is 0.206489166361\n",
        "Shape of Z:"
       ]
      },
      {
       "output_type": "stream",
       "stream": "stdout",
       "text": [
        " (100, 5)\n",
        "At iteration 6 : Kplus is 1 , alpha is 0.111289093354\n",
        "Shape of Z:"
       ]
      },
      {
       "output_type": "stream",
       "stream": "stdout",
       "text": [
        " (100, 5)\n",
        "At iteration 7 : Kplus is 1 , alpha is 0.123366870896\n",
        "Shape of Z:"
       ]
      },
      {
       "output_type": "stream",
       "stream": "stdout",
       "text": [
        " (100, 5)\n",
        "At iteration 8 : Kplus is 1 , alpha is 0.331961270234\n",
        "Shape of Z:"
       ]
      },
      {
       "output_type": "stream",
       "stream": "stdout",
       "text": [
        " (100, 5)\n",
        "At iteration 9 : Kplus is 1 , alpha is 0.120592394484\n",
        "Shape of Z:"
       ]
      },
      {
       "output_type": "stream",
       "stream": "stdout",
       "text": [
        " (100, 5)\n",
        "At iteration 10 : Kplus is 1 , alpha is 0.0684125678746\n",
        "Shape of Z:"
       ]
      },
      {
       "output_type": "stream",
       "stream": "stdout",
       "text": [
        " (100, 5)\n",
        "At iteration 11 : Kplus is 1 , alpha is 0.598749854665\n",
        "Shape of Z:"
       ]
      },
      {
       "output_type": "stream",
       "stream": "stdout",
       "text": [
        " (100, 5)\n",
        "At iteration 12 : Kplus is 1 , alpha is 0.147689445594\n",
        "Shape of Z:"
       ]
      },
      {
       "output_type": "stream",
       "stream": "stdout",
       "text": [
        " (100, 5)\n",
        "At iteration 13 : Kplus is 1 , alpha is 1.29919031889\n",
        "Shape of Z:"
       ]
      },
      {
       "output_type": "stream",
       "stream": "stdout",
       "text": [
        " (100, 5)\n",
        "At iteration 14 : Kplus is 1 , alpha is 0.53974743091\n",
        "Shape of Z:"
       ]
      },
      {
       "output_type": "stream",
       "stream": "stdout",
       "text": [
        " (100, 5)\n",
        "At iteration 15 : Kplus is 1 , alpha is 0.244283656721\n",
        "Shape of Z:"
       ]
      },
      {
       "output_type": "stream",
       "stream": "stdout",
       "text": [
        " (100, 5)\n",
        "At iteration 16 : Kplus is 1 , alpha is 0.235548299735\n",
        "Shape of Z:"
       ]
      },
      {
       "output_type": "stream",
       "stream": "stdout",
       "text": [
        " (100, 5)\n",
        "At iteration 17 : Kplus is 1 , alpha is 0.141573584787\n",
        "Shape of Z:"
       ]
      },
      {
       "output_type": "stream",
       "stream": "stdout",
       "text": [
        " (100, 5)\n",
        "At iteration 18 : Kplus is 1 , alpha is 0.463406419916\n",
        "Shape of Z:"
       ]
      },
      {
       "output_type": "stream",
       "stream": "stdout",
       "text": [
        " (100, 5)\n",
        "At iteration 19 : Kplus is 1 , alpha is 0.456689554839\n",
        "Shape of Z:"
       ]
      },
      {
       "output_type": "stream",
       "stream": "stdout",
       "text": [
        " (100, 5)\n",
        "At iteration 20 : Kplus is 1 , alpha is 0.109443373627\n",
        "Shape of Z:"
       ]
      },
      {
       "output_type": "stream",
       "stream": "stdout",
       "text": [
        " (100, 5)\n",
        "At iteration 21 : Kplus is 1 , alpha is 0.446802742456\n",
        "Shape of Z:"
       ]
      },
      {
       "output_type": "stream",
       "stream": "stdout",
       "text": [
        " (100, 5)\n",
        "At iteration 22 : Kplus is 1 , alpha is 0.0611092072038\n",
        "Shape of Z:"
       ]
      },
      {
       "output_type": "stream",
       "stream": "stdout",
       "text": [
        " (100, 5)\n",
        "At iteration 23 : Kplus is 1 , alpha is 0.245032720574\n",
        "Shape of Z:"
       ]
      },
      {
       "output_type": "stream",
       "stream": "stdout",
       "text": [
        " (100, 5)\n",
        "At iteration 24 : Kplus is 1 , alpha is 0.549558911717\n",
        "Shape of Z:"
       ]
      },
      {
       "output_type": "stream",
       "stream": "stdout",
       "text": [
        " (100, 5)\n",
        "At iteration 25 : Kplus is 1 , alpha is 0.48250366706\n",
        "Shape of Z:"
       ]
      },
      {
       "output_type": "stream",
       "stream": "stdout",
       "text": [
        " (100, 5)\n",
        "At iteration 26 : Kplus is 1 , alpha is 0.710086749153\n",
        "Shape of Z:"
       ]
      },
      {
       "output_type": "stream",
       "stream": "stdout",
       "text": [
        " (100, 5)\n",
        "At iteration 27 : Kplus is 1 , alpha is 0.775105291436\n",
        "Shape of Z:"
       ]
      },
      {
       "output_type": "stream",
       "stream": "stdout",
       "text": [
        " (100, 5)\n",
        "At iteration 28 : Kplus is 1 , alpha is 0.181345483476\n",
        "Shape of Z:"
       ]
      },
      {
       "output_type": "stream",
       "stream": "stdout",
       "text": [
        " (100, 5)\n",
        "At iteration 29 : Kplus is 1 , alpha is 0.725196616843\n",
        "Shape of Z:"
       ]
      },
      {
       "output_type": "stream",
       "stream": "stdout",
       "text": [
        " (100, 5)\n",
        "At iteration 30 : Kplus is 1 , alpha is 1.14692587586\n",
        "Shape of Z:"
       ]
      },
      {
       "output_type": "stream",
       "stream": "stdout",
       "text": [
        " (100, 5)\n",
        "At iteration 31 : Kplus is 1 , alpha is 0.367439196268\n",
        "Shape of Z:"
       ]
      },
      {
       "output_type": "stream",
       "stream": "stdout",
       "text": [
        " (100, 5)\n",
        "At iteration 32 : Kplus is 1 , alpha is 0.279811197269\n",
        "Shape of Z:"
       ]
      },
      {
       "output_type": "stream",
       "stream": "stdout",
       "text": [
        " (100, 5)\n",
        "At iteration 33 : Kplus is 1 , alpha is 0.445370413898\n",
        "Shape of Z:"
       ]
      },
      {
       "output_type": "stream",
       "stream": "stdout",
       "text": [
        " (100, 5)\n",
        "At iteration 34 : Kplus is 1 , alpha is 0.0419236164202\n",
        "Shape of Z:"
       ]
      },
      {
       "output_type": "stream",
       "stream": "stdout",
       "text": [
        " (100, 5)\n",
        "At iteration 35 : Kplus is 1 , alpha is 0.197307148181\n",
        "Shape of Z:"
       ]
      },
      {
       "output_type": "stream",
       "stream": "stdout",
       "text": [
        " (100, 5)\n",
        "At iteration 36 : Kplus is 1 , alpha is 0.184374071588\n",
        "Shape of Z:"
       ]
      },
      {
       "output_type": "stream",
       "stream": "stdout",
       "text": [
        " (100, 5)\n",
        "At iteration 37 : Kplus is 1 , alpha is 0.0464220402618\n",
        "Shape of Z:"
       ]
      },
      {
       "output_type": "stream",
       "stream": "stdout",
       "text": [
        " (100, 5)\n",
        "At iteration 38 : Kplus is 1 , alpha is 0.422260371334\n",
        "Shape of Z:"
       ]
      },
      {
       "output_type": "stream",
       "stream": "stdout",
       "text": [
        " (100, 6)\n",
        "At iteration 39 : Kplus is 2 , alpha is 0.378642468759\n",
        "Shape of Z:"
       ]
      },
      {
       "output_type": "stream",
       "stream": "stdout",
       "text": [
        " (100, 5)\n",
        "At iteration 40 : Kplus is 1 , alpha is 0.40992475729\n",
        "Shape of Z:"
       ]
      },
      {
       "output_type": "stream",
       "stream": "stdout",
       "text": [
        " (100, 5)\n",
        "At iteration 41 : Kplus is 1 , alpha is 0.0776181952795\n",
        "Shape of Z:"
       ]
      },
      {
       "output_type": "stream",
       "stream": "stdout",
       "text": [
        " (100, 5)\n",
        "At iteration 42 : Kplus is 1 , alpha is 0.370831016377\n",
        "Shape of Z:"
       ]
      },
      {
       "output_type": "stream",
       "stream": "stdout",
       "text": [
        " (100, 5)\n",
        "At iteration 43 : Kplus is 1 , alpha is 0.125410316959\n",
        "Shape of Z:"
       ]
      },
      {
       "output_type": "stream",
       "stream": "stdout",
       "text": [
        " (100, 5)\n",
        "At iteration 44 : Kplus is 1 , alpha is 0.807044361804\n",
        "Shape of Z:"
       ]
      },
      {
       "output_type": "stream",
       "stream": "stdout",
       "text": [
        " (100, 6)\n",
        "At iteration 45 : Kplus is 2 , alpha is 0.48406453188\n",
        "Shape of Z:"
       ]
      },
      {
       "output_type": "stream",
       "stream": "stdout",
       "text": [
        " (100, 5)\n",
        "At iteration 46 : Kplus is 1 , alpha is 0.740726381314\n",
        "Shape of Z:"
       ]
      },
      {
       "output_type": "stream",
       "stream": "stdout",
       "text": [
        " (100, 5)\n",
        "At iteration 47 : Kplus is 1 , alpha is 0.437157098582\n",
        "Shape of Z:"
       ]
      },
      {
       "output_type": "stream",
       "stream": "stdout",
       "text": [
        " (100, 5)\n",
        "At iteration 48 : Kplus is 1 , alpha is 0.0556251602982\n",
        "Shape of Z:"
       ]
      },
      {
       "output_type": "stream",
       "stream": "stdout",
       "text": [
        " (100, 5)\n",
        "At iteration 49 : Kplus is 1 , alpha is 0.467977053195\n",
        "Shape of Z:"
       ]
      },
      {
       "output_type": "stream",
       "stream": "stdout",
       "text": [
        " (100, 5)\n",
        "At iteration 50 : Kplus is 1 , alpha is 0.115714748254\n",
        "Shape of Z:"
       ]
      },
      {
       "output_type": "stream",
       "stream": "stdout",
       "text": [
        " (100, 5)\n",
        "At iteration 51 : Kplus is 1 , alpha is 0.190995378535\n",
        "Shape of Z:"
       ]
      },
      {
       "output_type": "stream",
       "stream": "stdout",
       "text": [
        " (100, 5)\n",
        "At iteration 52 : Kplus is 1 , alpha is 0.361510423198\n",
        "Shape of Z:"
       ]
      },
      {
       "output_type": "stream",
       "stream": "stdout",
       "text": [
        " (100, 5)\n",
        "At iteration 53 : Kplus is 1 , alpha is 0.195360453403\n",
        "Shape of Z:"
       ]
      },
      {
       "output_type": "stream",
       "stream": "stdout",
       "text": [
        " (100, 5)\n",
        "At iteration 54 : Kplus is 1 , alpha is 0.345359814813\n",
        "Shape of Z:"
       ]
      },
      {
       "output_type": "stream",
       "stream": "stdout",
       "text": [
        " (100, 5)\n",
        "At iteration 55 : Kplus is 1 , alpha is 0.5649301935\n",
        "Shape of Z:"
       ]
      },
      {
       "output_type": "stream",
       "stream": "stdout",
       "text": [
        " (100, 5)\n",
        "At iteration 56 : Kplus is 1 , alpha is 0.668266488122\n",
        "Shape of Z:"
       ]
      },
      {
       "output_type": "stream",
       "stream": "stdout",
       "text": [
        " (100, 5)\n",
        "At iteration 57 : Kplus is 1 , alpha is 0.493038996215\n",
        "Shape of Z:"
       ]
      },
      {
       "output_type": "stream",
       "stream": "stdout",
       "text": [
        " (100, 6)\n",
        "At iteration 58 : Kplus is 2 , alpha is 0.189064854621\n",
        "Shape of Z:"
       ]
      },
      {
       "output_type": "stream",
       "stream": "stdout",
       "text": [
        " (100, 5)\n",
        "At iteration 59 : Kplus is 1 , alpha is 0.23656568791\n",
        "Shape of Z:"
       ]
      },
      {
       "output_type": "stream",
       "stream": "stdout",
       "text": [
        " (100, 5)\n",
        "At iteration 60 : Kplus is 1 , alpha is 0.131667694374\n",
        "Shape of Z:"
       ]
      },
      {
       "output_type": "stream",
       "stream": "stdout",
       "text": [
        " (100, 6)\n",
        "At iteration 61 : Kplus is 2 , alpha is 0.317486444924\n",
        "Shape of Z:"
       ]
      },
      {
       "output_type": "stream",
       "stream": "stdout",
       "text": [
        " (100, 28)\n",
        "At iteration 62 : Kplus is 24 , alpha is 4.53504707341\n",
        "Shape of Z:"
       ]
      },
      {
       "output_type": "stream",
       "stream": "stdout",
       "text": [
        " (100, 37)\n",
        "At iteration 63 : Kplus is 33 , alpha is 5.97175122297\n",
        "Shape of Z:"
       ]
      },
      {
       "output_type": "stream",
       "stream": "stdout",
       "text": [
        " (100, 36)\n",
        "At iteration 64 : Kplus is 33 , alpha is 4.35881342139\n",
        "Shape of Z:"
       ]
      },
      {
       "output_type": "stream",
       "stream": "stdout",
       "text": [
        " (100, 34)\n",
        "At iteration 65 : Kplus is 30 , alpha is 5.5886478733\n",
        "Shape of Z:"
       ]
      },
      {
       "output_type": "stream",
       "stream": "stdout",
       "text": [
        " (100, 40)\n",
        "At iteration 66 : Kplus is 36 , alpha is 3.56797037027\n",
        "Shape of Z:"
       ]
      },
      {
       "output_type": "stream",
       "stream": "stdout",
       "text": [
        " (100, 36)\n",
        "At iteration 67 : Kplus is 32 , alpha is 4.37933592603\n",
        "Shape of Z:"
       ]
      },
      {
       "output_type": "stream",
       "stream": "stdout",
       "text": [
        " (100, 36)\n",
        "At iteration 68 : Kplus is 33 , alpha is 6.11450187666\n",
        "Shape of Z:"
       ]
      },
      {
       "output_type": "stream",
       "stream": "stdout",
       "text": [
        " (100, 43)\n",
        "At iteration 69 : Kplus is 39 , alpha is 5.34408326956\n",
        "Shape of Z:"
       ]
      },
      {
       "output_type": "stream",
       "stream": "stdout",
       "text": [
        " (100, 26)\n",
        "At iteration 70 : Kplus is 23 , alpha is 4.43954277761\n",
        "Shape of Z:"
       ]
      },
      {
       "output_type": "stream",
       "stream": "stdout",
       "text": [
        " (100, 26)\n",
        "At iteration 71 : Kplus is 22 , alpha is 3.94357376217\n",
        "Shape of Z:"
       ]
      },
      {
       "output_type": "stream",
       "stream": "stdout",
       "text": [
        " (100, 21)\n",
        "At iteration 72 : Kplus is 18 , alpha is 3.30488713018\n",
        "Shape of Z:"
       ]
      },
      {
       "output_type": "stream",
       "stream": "stdout",
       "text": [
        " (100, 9)\n",
        "At iteration 73 : Kplus is 5 , alpha is 1.00042784344\n",
        "Shape of Z:"
       ]
      },
      {
       "output_type": "stream",
       "stream": "stdout",
       "text": [
        " (100, 6)\n",
        "At iteration 74 : Kplus is 2 , alpha is 0.662203997116\n",
        "Shape of Z:"
       ]
      },
      {
       "output_type": "stream",
       "stream": "stdout",
       "text": [
        " (100, 5)\n",
        "At iteration 75 : Kplus is 1 , alpha is 0.455144553621\n",
        "Shape of Z:"
       ]
      },
      {
       "output_type": "stream",
       "stream": "stdout",
       "text": [
        " (100, 5)\n",
        "At iteration 76 : Kplus is 1 , alpha is 0.854439928116\n",
        "Shape of Z:"
       ]
      },
      {
       "output_type": "stream",
       "stream": "stdout",
       "text": [
        " (100, 5)\n",
        "At iteration 77 : Kplus is 1 , alpha is 0.0915775199991\n",
        "Shape of Z:"
       ]
      },
      {
       "output_type": "stream",
       "stream": "stdout",
       "text": [
        " (100, 5)\n",
        "At iteration 78 : Kplus is 1 , alpha is 0.392069713688\n",
        "Shape of Z:"
       ]
      },
      {
       "output_type": "stream",
       "stream": "stdout",
       "text": [
        " (100, 5)\n",
        "At iteration 79 : Kplus is 1 , alpha is 0.223911177996\n",
        "Shape of Z:"
       ]
      },
      {
       "output_type": "stream",
       "stream": "stdout",
       "text": [
        " (100, 5)\n",
        "At iteration 80 : Kplus is 1 , alpha is 0.135107465439\n",
        "Shape of Z:"
       ]
      },
      {
       "output_type": "stream",
       "stream": "stdout",
       "text": [
        " (100, 5)\n",
        "At iteration 81 : Kplus is 1 , alpha is 0.412982906116\n",
        "Shape of Z:"
       ]
      },
      {
       "output_type": "stream",
       "stream": "stdout",
       "text": [
        " (100, 5)\n",
        "At iteration 82 : Kplus is 1 , alpha is 0.200557858513\n",
        "Shape of Z:"
       ]
      },
      {
       "output_type": "stream",
       "stream": "stdout",
       "text": [
        " (100, 5)\n",
        "At iteration 83 : Kplus is 1 , alpha is 0.410416933501\n",
        "Shape of Z:"
       ]
      },
      {
       "output_type": "stream",
       "stream": "stdout",
       "text": [
        " (100, 5)\n",
        "At iteration 84 : Kplus is 1 , alpha is 0.224846365907\n",
        "Shape of Z:"
       ]
      },
      {
       "output_type": "stream",
       "stream": "stdout",
       "text": [
        " (100, 5)\n",
        "At iteration 85 : Kplus is 1 , alpha is 0.452476963684\n",
        "Shape of Z:"
       ]
      },
      {
       "output_type": "stream",
       "stream": "stdout",
       "text": [
        " (100, 5)\n",
        "At iteration 86 : Kplus is 1 , alpha is 0.863651430387\n",
        "Shape of Z:"
       ]
      },
      {
       "output_type": "stream",
       "stream": "stdout",
       "text": [
        " (100, 5)\n",
        "At iteration 87 : Kplus is 1 , alpha is 1.01683667804\n",
        "Shape of Z:"
       ]
      },
      {
       "output_type": "stream",
       "stream": "stdout",
       "text": [
        " (100, 5)\n",
        "At iteration 88 : Kplus is 1 , alpha is 0.0316819944827\n",
        "Shape of Z:"
       ]
      },
      {
       "output_type": "stream",
       "stream": "stdout",
       "text": [
        " (100, 5)\n",
        "At iteration 89 : Kplus is 1 , alpha is 0.124825645831\n",
        "Shape of Z:"
       ]
      },
      {
       "output_type": "stream",
       "stream": "stdout",
       "text": [
        " (100, 5)\n",
        "At iteration 90 : Kplus is 1 , alpha is 0.800229605822\n",
        "Shape of Z:"
       ]
      },
      {
       "output_type": "stream",
       "stream": "stdout",
       "text": [
        " (100, 8)\n",
        "At iteration 91 : Kplus is 4 , alpha is 0.685008765083\n",
        "Shape of Z:"
       ]
      },
      {
       "output_type": "stream",
       "stream": "stdout",
       "text": [
        " (100, 5)\n",
        "At iteration 92 : Kplus is 1 , alpha is 0.0378667099733\n",
        "Shape of Z:"
       ]
      },
      {
       "output_type": "stream",
       "stream": "stdout",
       "text": [
        " (100, 5)\n",
        "At iteration 93 : Kplus is 1 , alpha is 0.218294324328\n",
        "Shape of Z:"
       ]
      },
      {
       "output_type": "stream",
       "stream": "stdout",
       "text": [
        " (100, 5)\n",
        "At iteration 94 : Kplus is 1 , alpha is 0.504477275421\n",
        "Shape of Z:"
       ]
      },
      {
       "output_type": "stream",
       "stream": "stdout",
       "text": [
        " (100, 5)\n",
        "At iteration 95 : Kplus is 1 , alpha is 0.0693488280445\n",
        "Shape of Z:"
       ]
      },
      {
       "output_type": "stream",
       "stream": "stdout",
       "text": [
        " (100, 5)\n",
        "At iteration 96 : Kplus is 1 , alpha is 0.146184116103\n",
        "Shape of Z:"
       ]
      },
      {
       "output_type": "stream",
       "stream": "stdout",
       "text": [
        " (100, 5)\n",
        "At iteration 97 : Kplus is 1 , alpha is 0.910796255621\n",
        "Shape of Z:"
       ]
      },
      {
       "output_type": "stream",
       "stream": "stdout",
       "text": [
        " (100, 5)\n",
        "At iteration 98 : Kplus is 1 , alpha is 0.117357406819\n",
        "Shape of Z:"
       ]
      },
      {
       "output_type": "stream",
       "stream": "stdout",
       "text": [
        " (100, 5)\n",
        "At iteration 99 : Kplus is 2 , alpha is 0.936047990423\n",
        "Shape of Z:"
       ]
      },
      {
       "output_type": "stream",
       "stream": "stdout",
       "text": [
        " (100, 29)\n",
        "At iteration 100 : Kplus is 25 , alpha is 4.07481670217\n",
        "Shape of Z:"
       ]
      },
      {
       "output_type": "stream",
       "stream": "stdout",
       "text": [
        " (100, 28)\n",
        "At iteration 101 : Kplus is 24 , alpha is 3.78827835538\n",
        "Shape of Z:"
       ]
      },
      {
       "output_type": "stream",
       "stream": "stdout",
       "text": [
        " (100, 25)\n",
        "At iteration 102 : Kplus is 22 , alpha is 4.03586302019\n",
        "Shape of Z:"
       ]
      },
      {
       "output_type": "stream",
       "stream": "stdout",
       "text": [
        " (100, 26)\n",
        "At iteration 103 : Kplus is 23 , alpha is 3.9495699736\n",
        "Shape of Z:"
       ]
      },
      {
       "output_type": "stream",
       "stream": "stdout",
       "text": [
        " (100, 26)\n",
        "At iteration 104 : Kplus is 22 , alpha is 3.04829072389\n",
        "Shape of Z:"
       ]
      },
      {
       "output_type": "stream",
       "stream": "stdout",
       "text": [
        " (100, 19)\n",
        "At iteration 105 : Kplus is 15 , alpha is 2.52322298504\n",
        "Shape of Z:"
       ]
      },
      {
       "output_type": "stream",
       "stream": "stdout",
       "text": [
        " (100, 17)\n",
        "At iteration 106 : Kplus is 13 , alpha is 1.46009124574\n",
        "Shape of Z:"
       ]
      },
      {
       "output_type": "stream",
       "stream": "stdout",
       "text": [
        " (100, 19)\n",
        "At iteration 107 : Kplus is 15 , alpha is 2.52628533525\n",
        "Shape of Z:"
       ]
      },
      {
       "output_type": "stream",
       "stream": "stdout",
       "text": [
        " (100, 19)\n",
        "At iteration 108 : Kplus is 15 , alpha is 2.29601328525\n",
        "Shape of Z:"
       ]
      },
      {
       "output_type": "stream",
       "stream": "stdout",
       "text": [
        " (100, 11)\n",
        "At iteration 109 : Kplus is 7 , alpha is 1.33344698771\n",
        "Shape of Z:"
       ]
      },
      {
       "output_type": "stream",
       "stream": "stdout",
       "text": [
        " (100, 9)\n",
        "At iteration 110 : Kplus is 5 , alpha is 1.38694721418\n",
        "Shape of Z:"
       ]
      },
      {
       "output_type": "stream",
       "stream": "stdout",
       "text": [
        " (100, 7)\n",
        "At iteration 111 : Kplus is 3 , alpha is 0.292572371717\n",
        "Shape of Z:"
       ]
      },
      {
       "output_type": "stream",
       "stream": "stdout",
       "text": [
        " (100, 5)\n",
        "At iteration 112 : Kplus is 1 , alpha is 0.200984094764\n",
        "Shape of Z:"
       ]
      },
      {
       "output_type": "stream",
       "stream": "stdout",
       "text": [
        " (100, 5)\n",
        "At iteration 113 : Kplus is 1 , alpha is 0.564800291828\n",
        "Shape of Z:"
       ]
      },
      {
       "output_type": "stream",
       "stream": "stdout",
       "text": [
        " (100, 5)\n",
        "At iteration 114 : Kplus is 1 , alpha is 0.802390201307\n",
        "Shape of Z:"
       ]
      },
      {
       "output_type": "stream",
       "stream": "stdout",
       "text": [
        " (100, 5)\n",
        "At iteration 115 : Kplus is 1 , alpha is 0.199874975668\n",
        "Shape of Z:"
       ]
      },
      {
       "output_type": "stream",
       "stream": "stdout",
       "text": [
        " (100, 5)\n",
        "At iteration 116 : Kplus is 1 , alpha is 0.110873045073\n",
        "Shape of Z:"
       ]
      },
      {
       "output_type": "stream",
       "stream": "stdout",
       "text": [
        " (100, 5)\n",
        "At iteration 117 : Kplus is 1 , alpha is 0.345041833946\n",
        "Shape of Z:"
       ]
      },
      {
       "output_type": "stream",
       "stream": "stdout",
       "text": [
        " (100, 5)\n",
        "At iteration 118 : Kplus is 1 , alpha is 0.299976822071\n",
        "Shape of Z:"
       ]
      },
      {
       "output_type": "stream",
       "stream": "stdout",
       "text": [
        " (100, 5)\n",
        "At iteration 119 : Kplus is 1 , alpha is 0.309408572472\n",
        "Shape of Z:"
       ]
      },
      {
       "output_type": "stream",
       "stream": "stdout",
       "text": [
        " (100, 5)\n",
        "At iteration 120 : Kplus is 1 , alpha is 0.27214309902\n",
        "Shape of Z:"
       ]
      },
      {
       "output_type": "stream",
       "stream": "stdout",
       "text": [
        " (100, 5)\n",
        "At iteration 121 : Kplus is 1 , alpha is 0.203483527604\n",
        "Shape of Z:"
       ]
      },
      {
       "output_type": "stream",
       "stream": "stdout",
       "text": [
        " (100, 5)\n",
        "At iteration 122 : Kplus is 1 , alpha is 0.234097447986\n",
        "Shape of Z:"
       ]
      },
      {
       "output_type": "stream",
       "stream": "stdout",
       "text": [
        " (100, 5)\n",
        "At iteration 123 : Kplus is 1 , alpha is 0.44405631485\n",
        "Shape of Z:"
       ]
      },
      {
       "output_type": "stream",
       "stream": "stdout",
       "text": [
        " (100, 5)\n",
        "At iteration 124 : Kplus is 1 , alpha is 0.196026252615\n",
        "Shape of Z:"
       ]
      },
      {
       "output_type": "stream",
       "stream": "stdout",
       "text": [
        " (100, 5)\n",
        "At iteration 125 : Kplus is 1 , alpha is 0.119831895805\n",
        "Shape of Z:"
       ]
      },
      {
       "output_type": "stream",
       "stream": "stdout",
       "text": [
        " (100, 5)\n",
        "At iteration 126 : Kplus is 1 , alpha is 0.362359842511\n",
        "Shape of Z:"
       ]
      },
      {
       "output_type": "stream",
       "stream": "stdout",
       "text": [
        " (100, 5)\n",
        "At iteration 127 : Kplus is 1 , alpha is 0.884018045282\n",
        "Shape of Z:"
       ]
      },
      {
       "output_type": "stream",
       "stream": "stdout",
       "text": [
        " (100, 5)\n",
        "At iteration 128 : Kplus is 1 , alpha is 0.454487992768\n",
        "Shape of Z:"
       ]
      },
      {
       "output_type": "stream",
       "stream": "stdout",
       "text": [
        " (100, 5)\n",
        "At iteration 129 : Kplus is 1 , alpha is 0.0559691303741\n",
        "Shape of Z:"
       ]
      },
      {
       "output_type": "stream",
       "stream": "stdout",
       "text": [
        " (100, 5)\n",
        "At iteration 130 : Kplus is 1 , alpha is 0.419724027535\n",
        "Shape of Z:"
       ]
      },
      {
       "output_type": "stream",
       "stream": "stdout",
       "text": [
        " (100, 5)\n",
        "At iteration 131 : Kplus is 1 , alpha is 0.508761483261\n",
        "Shape of Z:"
       ]
      },
      {
       "output_type": "stream",
       "stream": "stdout",
       "text": [
        " (100, 5)\n",
        "At iteration 132 : Kplus is 1 , alpha is 0.0744222636832\n",
        "Shape of Z:"
       ]
      },
      {
       "output_type": "stream",
       "stream": "stdout",
       "text": [
        " (100, 5)\n",
        "At iteration 133 : Kplus is 1 , alpha is 0.566828376977\n",
        "Shape of Z:"
       ]
      },
      {
       "output_type": "stream",
       "stream": "stdout",
       "text": [
        " (100, 5)\n",
        "At iteration 134 : Kplus is 1 , alpha is 0.0716668857035\n",
        "Shape of Z:"
       ]
      },
      {
       "output_type": "stream",
       "stream": "stdout",
       "text": [
        " (100, 5)\n",
        "At iteration 135 : Kplus is 1 , alpha is 0.61562466874\n",
        "Shape of Z:"
       ]
      },
      {
       "output_type": "stream",
       "stream": "stdout",
       "text": [
        " (100, 9)\n",
        "At iteration 136 : Kplus is 5 , alpha is 0.709115623817\n",
        "Shape of Z:"
       ]
      },
      {
       "output_type": "stream",
       "stream": "stdout",
       "text": [
        " (100, 33)\n",
        "At iteration 137 : Kplus is 30 , alpha is 4.77147291184\n",
        "Shape of Z:"
       ]
      },
      {
       "output_type": "stream",
       "stream": "stdout",
       "text": [
        " (100, 26)\n",
        "At iteration 138 : Kplus is 22 , alpha is 3.24384587788\n",
        "Shape of Z:"
       ]
      },
      {
       "output_type": "stream",
       "stream": "stdout",
       "text": [
        " (100, 15)\n",
        "At iteration 139 : Kplus is 11 , alpha is 2.01461769458\n",
        "Shape of Z:"
       ]
      },
      {
       "output_type": "stream",
       "stream": "stdout",
       "text": [
        " (100, 8)\n",
        "At iteration 140 : Kplus is 4 , alpha is 0.88710791899\n",
        "Shape of Z:"
       ]
      },
      {
       "output_type": "stream",
       "stream": "stdout",
       "text": [
        " (100, 5)\n",
        "At iteration 141 : Kplus is 1 , alpha is 0.2712778539\n",
        "Shape of Z:"
       ]
      },
      {
       "output_type": "stream",
       "stream": "stdout",
       "text": [
        " (100, 5)\n",
        "At iteration 142 : Kplus is 1 , alpha is 0.708156549812\n",
        "Shape of Z:"
       ]
      },
      {
       "output_type": "stream",
       "stream": "stdout",
       "text": [
        " (100, 5)\n",
        "At iteration 143 : Kplus is 1 , alpha is 0.453414621758\n",
        "Shape of Z:"
       ]
      },
      {
       "output_type": "stream",
       "stream": "stdout",
       "text": [
        " (100, 5)\n",
        "At iteration 144 : Kplus is 1 , alpha is 0.686787641458\n",
        "Shape of Z:"
       ]
      },
      {
       "output_type": "stream",
       "stream": "stdout",
       "text": [
        " (100, 5)\n",
        "At iteration 145 : Kplus is 1 , alpha is 0.222806908322\n",
        "Shape of Z:"
       ]
      },
      {
       "output_type": "stream",
       "stream": "stdout",
       "text": [
        " (100, 5)\n",
        "At iteration 146 : Kplus is 1 , alpha is 0.220484930084\n",
        "Shape of Z:"
       ]
      },
      {
       "output_type": "stream",
       "stream": "stdout",
       "text": [
        " (100, 5)\n",
        "At iteration 147 : Kplus is 1 , alpha is 0.110006339346\n",
        "Shape of Z:"
       ]
      },
      {
       "output_type": "stream",
       "stream": "stdout",
       "text": [
        " (100, 5)\n",
        "At iteration 148 : Kplus is 1 , alpha is 0.677228760227\n",
        "Shape of Z:"
       ]
      },
      {
       "output_type": "stream",
       "stream": "stdout",
       "text": [
        " (100, 5)\n",
        "At iteration 149 : Kplus is 1 , alpha is 0.20476258433\n",
        "Shape of Z:"
       ]
      },
      {
       "output_type": "stream",
       "stream": "stdout",
       "text": [
        " (100, 6)\n",
        "At iteration 150 : Kplus is 2 , alpha is 0.217888215899\n",
        "Shape of Z:"
       ]
      },
      {
       "output_type": "stream",
       "stream": "stdout",
       "text": [
        " (100, 5)\n",
        "At iteration 151 : Kplus is 1 , alpha is 0.475368868114\n",
        "Shape of Z:"
       ]
      },
      {
       "output_type": "stream",
       "stream": "stdout",
       "text": [
        " (100, 6)\n",
        "At iteration 152 : Kplus is 2 , alpha is 0.629961913485\n",
        "Shape of Z:"
       ]
      },
      {
       "output_type": "stream",
       "stream": "stdout",
       "text": [
        " (100, 5)\n",
        "At iteration 153 : Kplus is 1 , alpha is 0.497346292022\n",
        "Shape of Z:"
       ]
      },
      {
       "output_type": "stream",
       "stream": "stdout",
       "text": [
        " (100, 5)\n",
        "At iteration 154 : Kplus is 1 , alpha is 0.298693611753\n",
        "Shape of Z:"
       ]
      },
      {
       "output_type": "stream",
       "stream": "stdout",
       "text": [
        " (100, 5)\n",
        "At iteration 155 : Kplus is 1 , alpha is 0.192264001798\n",
        "Shape of Z:"
       ]
      },
      {
       "output_type": "stream",
       "stream": "stdout",
       "text": [
        " (100, 5)\n",
        "At iteration 156 : Kplus is 1 , alpha is 0.427967596409\n",
        "Shape of Z:"
       ]
      },
      {
       "output_type": "stream",
       "stream": "stdout",
       "text": [
        " (100, 12)\n",
        "At iteration 157 : Kplus is 8 , alpha is 0.811675132422\n",
        "Shape of Z:"
       ]
      },
      {
       "output_type": "stream",
       "stream": "stdout",
       "text": [
        " (100, 20)\n",
        "At iteration 158 : Kplus is 16 , alpha is 3.2490147596\n",
        "Shape of Z:"
       ]
      },
      {
       "output_type": "stream",
       "stream": "stdout",
       "text": [
        " (100, 27)\n",
        "At iteration 159 : Kplus is 24 , alpha is 2.84251118479\n",
        "Shape of Z:"
       ]
      },
      {
       "output_type": "stream",
       "stream": "stdout",
       "text": [
        " (100, 29)\n",
        "At iteration 160 : Kplus is 25 , alpha is 4.15042468955\n",
        "Shape of Z:"
       ]
      },
      {
       "output_type": "stream",
       "stream": "stdout",
       "text": [
        " (100, 29)\n",
        "At iteration 161 : Kplus is 26 , alpha is 3.25468658583\n",
        "Shape of Z:"
       ]
      },
      {
       "output_type": "stream",
       "stream": "stdout",
       "text": [
        " (100, 21)\n",
        "At iteration 162 : Kplus is 17 , alpha is 2.94771893157\n",
        "Shape of Z:"
       ]
      },
      {
       "output_type": "stream",
       "stream": "stdout",
       "text": [
        " (100, 16)\n",
        "At iteration 163 : Kplus is 12 , alpha is 1.67895443598\n",
        "Shape of Z:"
       ]
      },
      {
       "output_type": "stream",
       "stream": "stdout",
       "text": [
        " (100, 16)\n",
        "At iteration 164 : Kplus is 12 , alpha is 1.45091769969\n",
        "Shape of Z:"
       ]
      },
      {
       "output_type": "stream",
       "stream": "stdout",
       "text": [
        " (100, 15)\n",
        "At iteration 165 : Kplus is 11 , alpha is 1.21277255661\n",
        "Shape of Z:"
       ]
      },
      {
       "output_type": "stream",
       "stream": "stdout",
       "text": [
        " (100, 16)\n",
        "At iteration 166 : Kplus is 12 , alpha is 2.21416493919\n",
        "Shape of Z:"
       ]
      },
      {
       "output_type": "stream",
       "stream": "stdout",
       "text": [
        " (100, 9)\n",
        "At iteration 167 : Kplus is 5 , alpha is 0.733893894515\n",
        "Shape of Z:"
       ]
      },
      {
       "output_type": "stream",
       "stream": "stdout",
       "text": [
        " (100, 5)\n",
        "At iteration 168 : Kplus is 1 , alpha is 0.369302652797\n",
        "Shape of Z:"
       ]
      },
      {
       "output_type": "stream",
       "stream": "stdout",
       "text": [
        " (100, 5)\n",
        "At iteration 169 : Kplus is 1 , alpha is 0.508519977086\n",
        "Shape of Z:"
       ]
      },
      {
       "output_type": "stream",
       "stream": "stdout",
       "text": [
        " (100, 5)\n",
        "At iteration 170 : Kplus is 1 , alpha is 0.382542004528\n",
        "Shape of Z:"
       ]
      },
      {
       "output_type": "stream",
       "stream": "stdout",
       "text": [
        " (100, 5)\n",
        "At iteration 171 : Kplus is 1 , alpha is 0.122809316425\n",
        "Shape of Z:"
       ]
      },
      {
       "output_type": "stream",
       "stream": "stdout",
       "text": [
        " (100, 5)\n",
        "At iteration 172 : Kplus is 1 , alpha is 0.0537613257129\n",
        "Shape of Z:"
       ]
      },
      {
       "output_type": "stream",
       "stream": "stdout",
       "text": [
        " (100, 5)\n",
        "At iteration 173 : Kplus is 1 , alpha is 0.452092284052\n",
        "Shape of Z:"
       ]
      },
      {
       "output_type": "stream",
       "stream": "stdout",
       "text": [
        " (100, 5)\n",
        "At iteration 174 : Kplus is 1 , alpha is 0.141925005663\n",
        "Shape of Z:"
       ]
      },
      {
       "output_type": "stream",
       "stream": "stdout",
       "text": [
        " (100, 5)\n",
        "At iteration 175 : Kplus is 1 , alpha is 0.508887384479\n",
        "Shape of Z:"
       ]
      },
      {
       "output_type": "stream",
       "stream": "stdout",
       "text": [
        " (100, 5)\n",
        "At iteration 176 : Kplus is 1 , alpha is 0.136768856069\n",
        "Shape of Z:"
       ]
      },
      {
       "output_type": "stream",
       "stream": "stdout",
       "text": [
        " (100, 5)\n",
        "At iteration 177 : Kplus is 1 , alpha is 0.536753171588\n",
        "Shape of Z:"
       ]
      },
      {
       "output_type": "stream",
       "stream": "stdout",
       "text": [
        " (100, 5)\n",
        "At iteration 178 : Kplus is 1 , alpha is 0.371725271045\n",
        "Shape of Z:"
       ]
      },
      {
       "output_type": "stream",
       "stream": "stdout",
       "text": [
        " (100, 5)\n",
        "At iteration 179 : Kplus is 1 , alpha is 0.323472971398\n",
        "Shape of Z:"
       ]
      },
      {
       "output_type": "stream",
       "stream": "stdout",
       "text": [
        " (100, 5)\n",
        "At iteration 180 : Kplus is 1 , alpha is 0.315197315335\n",
        "Shape of Z:"
       ]
      },
      {
       "output_type": "stream",
       "stream": "stdout",
       "text": [
        " (100, 6)\n",
        "At iteration 181 : Kplus is 2 , alpha is 0.262637559924\n",
        "Shape of Z:"
       ]
      },
      {
       "output_type": "stream",
       "stream": "stdout",
       "text": [
        " (100, 5)\n",
        "At iteration 182 : Kplus is 1 , alpha is 0.139511594882\n",
        "Shape of Z:"
       ]
      },
      {
       "output_type": "stream",
       "stream": "stdout",
       "text": [
        " (100, 5)\n",
        "At iteration 183 : Kplus is 1 , alpha is 0.124939444031\n",
        "Shape of Z:"
       ]
      },
      {
       "output_type": "stream",
       "stream": "stdout",
       "text": [
        " (100, 6)\n",
        "At iteration 184 : Kplus is 2 , alpha is 0.447077824016\n",
        "Shape of Z:"
       ]
      },
      {
       "output_type": "stream",
       "stream": "stdout",
       "text": [
        " (100, 5)\n",
        "At iteration 185 : Kplus is 1 , alpha is 0.08457807001\n",
        "Shape of Z:"
       ]
      },
      {
       "output_type": "stream",
       "stream": "stdout",
       "text": [
        " (100, 5)\n",
        "At iteration 186 : Kplus is 1 , alpha is 0.307386586512\n",
        "Shape of Z:"
       ]
      },
      {
       "output_type": "stream",
       "stream": "stdout",
       "text": [
        " (100, 6)\n",
        "At iteration 187 : Kplus is 2 , alpha is 0.259674224873\n",
        "Shape of Z:"
       ]
      },
      {
       "output_type": "stream",
       "stream": "stdout",
       "text": [
        " (100, 6)\n",
        "At iteration 188 : Kplus is 2 , alpha is 0.0486347780634\n",
        "Shape of Z:"
       ]
      },
      {
       "output_type": "stream",
       "stream": "stdout",
       "text": [
        " (100, 7)\n",
        "At iteration 189 : Kplus is 3 , alpha is 1.9116017095\n",
        "Shape of Z:"
       ]
      },
      {
       "output_type": "stream",
       "stream": "stdout",
       "text": [
        " (100, 7)\n",
        "At iteration 190 : Kplus is 3 , alpha is 0.69282887491\n",
        "Shape of Z:"
       ]
      },
      {
       "output_type": "stream",
       "stream": "stdout",
       "text": [
        " (100, 6)\n",
        "At iteration 191 : Kplus is 2 , alpha is 0.521772190707\n",
        "Shape of Z:"
       ]
      },
      {
       "output_type": "stream",
       "stream": "stdout",
       "text": [
        " (100, 9)\n",
        "At iteration 192 : Kplus is 5 , alpha is 0.500470361072\n",
        "Shape of Z:"
       ]
      },
      {
       "output_type": "stream",
       "stream": "stdout",
       "text": [
        " (100, 23)\n",
        "At iteration 193 : Kplus is 19 , alpha is 2.85087421627\n",
        "Shape of Z:"
       ]
      },
      {
       "output_type": "stream",
       "stream": "stdout",
       "text": [
        " (100, 34)\n",
        "At iteration 194 : Kplus is 30 , alpha is 5.13310051384\n",
        "Shape of Z:"
       ]
      },
      {
       "output_type": "stream",
       "stream": "stdout",
       "text": [
        " (100, 23)\n",
        "At iteration 195 : Kplus is 19 , alpha is 2.39919860318\n",
        "Shape of Z:"
       ]
      },
      {
       "output_type": "stream",
       "stream": "stdout",
       "text": [
        " (100, 12)\n",
        "At iteration 196 : Kplus is 8 , alpha is 2.8976844235\n",
        "Shape of Z:"
       ]
      },
      {
       "output_type": "stream",
       "stream": "stdout",
       "text": [
        " (100, 13)\n",
        "At iteration 197 : Kplus is 9 , alpha is 1.84955037469\n",
        "Shape of Z:"
       ]
      },
      {
       "output_type": "stream",
       "stream": "stdout",
       "text": [
        " (100, 7)\n",
        "At iteration 198 : Kplus is 3 , alpha is 0.279150098495\n",
        "Shape of Z:"
       ]
      },
      {
       "output_type": "stream",
       "stream": "stdout",
       "text": [
        " (100, 5)\n",
        "At iteration 199 : Kplus is 1 , alpha is 0.215129936927\n",
        "Shape of Z:"
       ]
      },
      {
       "output_type": "stream",
       "stream": "stdout",
       "text": [
        " (100, 5)\n",
        "At iteration 200 : Kplus is 1 , alpha is 0.471970065365\n",
        "Shape of Z:"
       ]
      },
      {
       "output_type": "stream",
       "stream": "stdout",
       "text": [
        " (100, 6)\n",
        "At iteration 201 : Kplus is 2 , alpha is 0.507136618151\n",
        "Shape of Z:"
       ]
      },
      {
       "output_type": "stream",
       "stream": "stdout",
       "text": [
        " (100, 6)\n",
        "At iteration 202 : Kplus is 2 , alpha is 0.597376125316\n",
        "Shape of Z:"
       ]
      },
      {
       "output_type": "stream",
       "stream": "stdout",
       "text": [
        " (100, 6)\n",
        "At iteration 203 : Kplus is 2 , alpha is 0.430761623078\n",
        "Shape of Z:"
       ]
      },
      {
       "output_type": "stream",
       "stream": "stdout",
       "text": [
        " (100, 6)\n",
        "At iteration 204 : Kplus is 2 , alpha is 0.364827071211\n",
        "Shape of Z:"
       ]
      },
      {
       "output_type": "stream",
       "stream": "stdout",
       "text": [
        " (100, 6)\n",
        "At iteration 205 : Kplus is 2 , alpha is 0.866076661135\n",
        "Shape of Z:"
       ]
      },
      {
       "output_type": "stream",
       "stream": "stdout",
       "text": [
        " (100, 6)\n",
        "At iteration 206 : Kplus is 2 , alpha is 0.220801542982\n",
        "Shape of Z:"
       ]
      },
      {
       "output_type": "stream",
       "stream": "stdout",
       "text": [
        " (100, 6)\n",
        "At iteration 207 : Kplus is 2 , alpha is 0.82615415208\n",
        "Shape of Z:"
       ]
      },
      {
       "output_type": "stream",
       "stream": "stdout",
       "text": [
        " (100, 6)\n",
        "At iteration 208 : Kplus is 2 , alpha is 0.280099800651\n",
        "Shape of Z:"
       ]
      },
      {
       "output_type": "stream",
       "stream": "stdout",
       "text": [
        " (100, 6)\n",
        "At iteration 209 : Kplus is 2 , alpha is 0.312572858542\n",
        "Shape of Z:"
       ]
      },
      {
       "output_type": "stream",
       "stream": "stdout",
       "text": [
        " (100, 6)\n",
        "At iteration 210 : Kplus is 2 , alpha is 0.62668783802\n",
        "Shape of Z:"
       ]
      },
      {
       "output_type": "stream",
       "stream": "stdout",
       "text": [
        " (100, 6)\n",
        "At iteration 211 : Kplus is 2 , alpha is 0.0417060438506\n",
        "Shape of Z:"
       ]
      },
      {
       "output_type": "stream",
       "stream": "stdout",
       "text": [
        " (100, 6)\n",
        "At iteration 212 : Kplus is 2 , alpha is 0.106148572405\n",
        "Shape of Z:"
       ]
      },
      {
       "output_type": "stream",
       "stream": "stdout",
       "text": [
        " (100, 6)\n",
        "At iteration 213 : Kplus is 2 , alpha is 0.752688928866\n",
        "Shape of Z:"
       ]
      },
      {
       "output_type": "stream",
       "stream": "stdout",
       "text": [
        " (100, 6)\n",
        "At iteration 214 : Kplus is 2 , alpha is 0.395488341311\n",
        "Shape of Z:"
       ]
      },
      {
       "output_type": "stream",
       "stream": "stdout",
       "text": [
        " (100, 6)\n",
        "At iteration 215 : Kplus is 2 , alpha is 0.197979494121\n",
        "Shape of Z:"
       ]
      },
      {
       "output_type": "stream",
       "stream": "stdout",
       "text": [
        " (100, 6)\n",
        "At iteration 216 : Kplus is 2 , alpha is 0.494944990198\n",
        "Shape of Z:"
       ]
      },
      {
       "output_type": "stream",
       "stream": "stdout",
       "text": [
        " (100, 6)\n",
        "At iteration 217 : Kplus is 2 , alpha is 0.520241781268\n",
        "Shape of Z:"
       ]
      },
      {
       "output_type": "stream",
       "stream": "stdout",
       "text": [
        " (100, 6)\n",
        "At iteration 218 : Kplus is 2 , alpha is 0.479416970507\n",
        "Shape of Z:"
       ]
      },
      {
       "output_type": "stream",
       "stream": "stdout",
       "text": [
        " (100, 6)\n",
        "At iteration 219 : Kplus is 2 , alpha is 0.244316779521\n",
        "Shape of Z:"
       ]
      },
      {
       "output_type": "stream",
       "stream": "stdout",
       "text": [
        " (100, 6)\n",
        "At iteration 220 : Kplus is 2 , alpha is 0.40527318501\n",
        "Shape of Z:"
       ]
      },
      {
       "output_type": "stream",
       "stream": "stdout",
       "text": [
        " (100, 6)\n",
        "At iteration 221 : Kplus is 2 , alpha is 0.185628291238\n",
        "Shape of Z:"
       ]
      },
      {
       "output_type": "stream",
       "stream": "stdout",
       "text": [
        " (100, 7)\n",
        "At iteration 222 : Kplus is 3 , alpha is 0.928295062431\n",
        "Shape of Z:"
       ]
      },
      {
       "output_type": "stream",
       "stream": "stdout",
       "text": [
        " (100, 11)\n",
        "At iteration 223 : Kplus is 7 , alpha is 0.78289218291\n",
        "Shape of Z:"
       ]
      },
      {
       "output_type": "stream",
       "stream": "stdout",
       "text": [
        " (100, 20)\n",
        "At iteration 224 : Kplus is 16 , alpha is 3.17077368494\n",
        "Shape of Z:"
       ]
      },
      {
       "output_type": "stream",
       "stream": "stdout",
       "text": [
        " (100, 19)\n",
        "At iteration 225 : Kplus is 15 , alpha is 2.92697936283\n",
        "Shape of Z:"
       ]
      },
      {
       "output_type": "stream",
       "stream": "stdout",
       "text": [
        " (100, 23)\n",
        "At iteration 226 : Kplus is 20 , alpha is 2.28301728128\n",
        "Shape of Z:"
       ]
      },
      {
       "output_type": "stream",
       "stream": "stdout",
       "text": [
        " (100, 22)\n",
        "At iteration 227 : Kplus is 18 , alpha is 2.80674242083\n",
        "Shape of Z:"
       ]
      },
      {
       "output_type": "stream",
       "stream": "stdout",
       "text": [
        " (100, 12)\n",
        "At iteration 228 : Kplus is 8 , alpha is 0.730900362741\n",
        "Shape of Z:"
       ]
      },
      {
       "output_type": "stream",
       "stream": "stdout",
       "text": [
        " (100, 6)\n",
        "At iteration 229 : Kplus is 2 , alpha is 0.316285264396\n",
        "Shape of Z:"
       ]
      },
      {
       "output_type": "stream",
       "stream": "stdout",
       "text": [
        " (100, 6)\n",
        "At iteration 230 : Kplus is 2 , alpha is 0.321819712009\n",
        "Shape of Z:"
       ]
      },
      {
       "output_type": "stream",
       "stream": "stdout",
       "text": [
        " (100, 6)\n",
        "At iteration 231 : Kplus is 2 , alpha is 0.0464873141756\n",
        "Shape of Z:"
       ]
      },
      {
       "output_type": "stream",
       "stream": "stdout",
       "text": [
        " (100, 6)\n",
        "At iteration 232 : Kplus is 2 , alpha is 0.500372192253\n",
        "Shape of Z:"
       ]
      },
      {
       "output_type": "stream",
       "stream": "stdout",
       "text": [
        " (100, 6)\n",
        "At iteration 233 : Kplus is 2 , alpha is 1.35804745932\n",
        "Shape of Z:"
       ]
      },
      {
       "output_type": "stream",
       "stream": "stdout",
       "text": [
        " (100, 6)\n",
        "At iteration 234 : Kplus is 2 , alpha is 0.448945230717\n",
        "Shape of Z:"
       ]
      },
      {
       "output_type": "stream",
       "stream": "stdout",
       "text": [
        " (100, 6)\n",
        "At iteration 235 : Kplus is 2 , alpha is 0.331207654374\n",
        "Shape of Z:"
       ]
      },
      {
       "output_type": "stream",
       "stream": "stdout",
       "text": [
        " (100, 6)\n",
        "At iteration 236 : Kplus is 2 , alpha is 0.349338123319\n",
        "Shape of Z:"
       ]
      },
      {
       "output_type": "stream",
       "stream": "stdout",
       "text": [
        " (100, 7)\n",
        "At iteration 237 : Kplus is 3 , alpha is 0.584625871083\n",
        "Shape of Z:"
       ]
      },
      {
       "output_type": "stream",
       "stream": "stdout",
       "text": [
        " (100, 6)\n",
        "At iteration 238 : Kplus is 2 , alpha is 0.113130320877\n",
        "Shape of Z:"
       ]
      },
      {
       "output_type": "stream",
       "stream": "stdout",
       "text": [
        " (100, 6)\n",
        "At iteration 239 : Kplus is 2 , alpha is 1.44173706624\n",
        "Shape of Z:"
       ]
      },
      {
       "output_type": "stream",
       "stream": "stdout",
       "text": [
        " (100, 6)\n",
        "At iteration 240 : Kplus is 2 , alpha is 0.296611446459\n",
        "Shape of Z:"
       ]
      },
      {
       "output_type": "stream",
       "stream": "stdout",
       "text": [
        " (100, 6)\n",
        "At iteration 241 : Kplus is 2 , alpha is 0.352866910788\n",
        "Shape of Z:"
       ]
      },
      {
       "output_type": "stream",
       "stream": "stdout",
       "text": [
        " (100, 6)\n",
        "At iteration 242 : Kplus is 2 , alpha is 0.914608283241\n",
        "Shape of Z:"
       ]
      },
      {
       "output_type": "stream",
       "stream": "stdout",
       "text": [
        " (100, 6)\n",
        "At iteration 243 : Kplus is 2 , alpha is 0.267142792995\n",
        "Shape of Z:"
       ]
      },
      {
       "output_type": "stream",
       "stream": "stdout",
       "text": [
        " (100, 6)\n",
        "At iteration 244 : Kplus is 2 , alpha is 0.459727533086\n",
        "Shape of Z:"
       ]
      },
      {
       "output_type": "stream",
       "stream": "stdout",
       "text": [
        " (100, 6)\n",
        "At iteration 245 : Kplus is 2 , alpha is 0.156054342401\n",
        "Shape of Z:"
       ]
      },
      {
       "output_type": "stream",
       "stream": "stdout",
       "text": [
        " (100, 6)\n",
        "At iteration 246 : Kplus is 2 , alpha is 0.49852471094\n",
        "Shape of Z:"
       ]
      },
      {
       "output_type": "stream",
       "stream": "stdout",
       "text": [
        " (100, 6)\n",
        "At iteration 247 : Kplus is 2 , alpha is 0.461021737096\n",
        "Shape of Z:"
       ]
      },
      {
       "output_type": "stream",
       "stream": "stdout",
       "text": [
        " (100, 6)\n",
        "At iteration 248 : Kplus is 2 , alpha is 1.05153673835\n",
        "Shape of Z:"
       ]
      },
      {
       "output_type": "stream",
       "stream": "stdout",
       "text": [
        " (100, 6)\n",
        "At iteration 249 : Kplus is 2 , alpha is 0.0272595474121\n",
        "Shape of Z:"
       ]
      },
      {
       "output_type": "stream",
       "stream": "stdout",
       "text": [
        " (100, 6)\n",
        "At iteration 250 : Kplus is 2 , alpha is 0.682665711904\n",
        "Shape of Z:"
       ]
      },
      {
       "output_type": "stream",
       "stream": "stdout",
       "text": [
        " (100, 6)\n",
        "At iteration 251 : Kplus is 2 , alpha is 0.637624187072\n",
        "Shape of Z:"
       ]
      },
      {
       "output_type": "stream",
       "stream": "stdout",
       "text": [
        " (100, 6)\n",
        "At iteration 252 : Kplus is 2 , alpha is 0.554392368622\n",
        "Shape of Z:"
       ]
      },
      {
       "output_type": "stream",
       "stream": "stdout",
       "text": [
        " (100, 7)\n",
        "At iteration 253 : Kplus is 3 , alpha is 0.518308514659\n",
        "Shape of Z:"
       ]
      },
      {
       "output_type": "stream",
       "stream": "stdout",
       "text": [
        " (100, 6)\n",
        "At iteration 254 : Kplus is 2 , alpha is 0.395006449583\n",
        "Shape of Z:"
       ]
      },
      {
       "output_type": "stream",
       "stream": "stdout",
       "text": [
        " (100, 6)\n",
        "At iteration 255 : Kplus is 2 , alpha is 1.44539201423\n",
        "Shape of Z:"
       ]
      },
      {
       "output_type": "stream",
       "stream": "stdout",
       "text": [
        " (100, 17)\n",
        "At iteration 256 : Kplus is 13 , alpha is 2.87846213519\n",
        "Shape of Z:"
       ]
      },
      {
       "output_type": "stream",
       "stream": "stdout",
       "text": [
        " (100, 19)\n",
        "At iteration 257 : Kplus is 15 , alpha is 2.33074525344\n",
        "Shape of Z:"
       ]
      },
      {
       "output_type": "stream",
       "stream": "stdout",
       "text": [
        " (100, 22)\n",
        "At iteration 258 : Kplus is 18 , alpha is 2.52024919432\n",
        "Shape of Z:"
       ]
      },
      {
       "output_type": "stream",
       "stream": "stdout",
       "text": [
        " (100, 19)\n",
        "At iteration 259 : Kplus is 15 , alpha is 3.76982088857\n",
        "Shape of Z:"
       ]
      },
      {
       "output_type": "stream",
       "stream": "stdout",
       "text": [
        " (100, 12)\n",
        "At iteration 260 : Kplus is 8 , alpha is 0.974865493445\n",
        "Shape of Z:"
       ]
      },
      {
       "output_type": "stream",
       "stream": "stdout",
       "text": [
        " (100, 10)\n",
        "At iteration 261 : Kplus is 6 , alpha is 0.673423838348\n",
        "Shape of Z:"
       ]
      },
      {
       "output_type": "stream",
       "stream": "stdout",
       "text": [
        " (100, 6)\n",
        "At iteration 262 : Kplus is 2 , alpha is 0.910694646722\n",
        "Shape of Z:"
       ]
      },
      {
       "output_type": "stream",
       "stream": "stdout",
       "text": [
        " (100, 6)\n",
        "At iteration 263 : Kplus is 2 , alpha is 0.0964761115518\n",
        "Shape of Z:"
       ]
      },
      {
       "output_type": "stream",
       "stream": "stdout",
       "text": [
        " (100, 6)\n",
        "At iteration 264 : Kplus is 2 , alpha is 0.502261322863\n",
        "Shape of Z:"
       ]
      },
      {
       "output_type": "stream",
       "stream": "stdout",
       "text": [
        " (100, 6)\n",
        "At iteration 265 : Kplus is 2 , alpha is 0.266906975393\n",
        "Shape of Z:"
       ]
      },
      {
       "output_type": "stream",
       "stream": "stdout",
       "text": [
        " (100, 6)\n",
        "At iteration 266 : Kplus is 2 , alpha is 0.219797107863\n",
        "Shape of Z:"
       ]
      },
      {
       "output_type": "stream",
       "stream": "stdout",
       "text": [
        " (100, 6)\n",
        "At iteration 267 : Kplus is 2 , alpha is 0.334027232265\n",
        "Shape of Z:"
       ]
      },
      {
       "output_type": "stream",
       "stream": "stdout",
       "text": [
        " (100, 6)\n",
        "At iteration 268 : Kplus is 2 , alpha is 0.632072350102\n",
        "Shape of Z:"
       ]
      },
      {
       "output_type": "stream",
       "stream": "stdout",
       "text": [
        " (100, 6)\n",
        "At iteration 269 : Kplus is 2 , alpha is 0.397807113926\n",
        "Shape of Z:"
       ]
      },
      {
       "output_type": "stream",
       "stream": "stdout",
       "text": [
        " (100, 6)\n",
        "At iteration 270 : Kplus is 2 , alpha is 0.260273298324\n",
        "Shape of Z:"
       ]
      },
      {
       "output_type": "stream",
       "stream": "stdout",
       "text": [
        " (100, 6)\n",
        "At iteration 271 : Kplus is 2 , alpha is 0.714769914773\n",
        "Shape of Z:"
       ]
      },
      {
       "output_type": "stream",
       "stream": "stdout",
       "text": [
        " (100, 6)\n",
        "At iteration 272 : Kplus is 2 , alpha is 0.29257061406\n",
        "Shape of Z:"
       ]
      },
      {
       "output_type": "stream",
       "stream": "stdout",
       "text": [
        " (100, 6)\n",
        "At iteration 273 : Kplus is 2 , alpha is 0.181663948175\n",
        "Shape of Z:"
       ]
      },
      {
       "output_type": "stream",
       "stream": "stdout",
       "text": [
        " (100, 6)\n",
        "At iteration 274 : Kplus is 2 , alpha is 0.267791649691\n",
        "Shape of Z:"
       ]
      },
      {
       "output_type": "stream",
       "stream": "stdout",
       "text": [
        " (100, 6)\n",
        "At iteration 275 : Kplus is 2 , alpha is 0.341204516134\n",
        "Shape of Z:"
       ]
      },
      {
       "output_type": "stream",
       "stream": "stdout",
       "text": [
        " (100, 6)\n",
        "At iteration 276 : Kplus is 2 , alpha is 0.414570378218\n",
        "Shape of Z:"
       ]
      },
      {
       "output_type": "stream",
       "stream": "stdout",
       "text": [
        " (100, 7)\n",
        "At iteration 277 : Kplus is 3 , alpha is 0.532652169848\n",
        "Shape of Z:"
       ]
      },
      {
       "output_type": "stream",
       "stream": "stdout",
       "text": [
        " (100, 7)\n",
        "At iteration 278 : Kplus is 3 , alpha is 1.79151635005\n",
        "Shape of Z:"
       ]
      },
      {
       "output_type": "stream",
       "stream": "stdout",
       "text": [
        " (100, 9)\n",
        "At iteration 279 : Kplus is 5 , alpha is 0.851406947362\n",
        "Shape of Z:"
       ]
      },
      {
       "output_type": "stream",
       "stream": "stdout",
       "text": [
        " (100, 7)\n",
        "At iteration 280 : Kplus is 3 , alpha is 0.843534711067\n",
        "Shape of Z:"
       ]
      },
      {
       "output_type": "stream",
       "stream": "stdout",
       "text": [
        " (100, 18)\n",
        "At iteration 281 : Kplus is 14 , alpha is 2.1463937856\n",
        "Shape of Z:"
       ]
      },
      {
       "output_type": "stream",
       "stream": "stdout",
       "text": [
        " (100, 14)\n",
        "At iteration 282 : Kplus is 10 , alpha is 1.33459228571\n",
        "Shape of Z:"
       ]
      },
      {
       "output_type": "stream",
       "stream": "stdout",
       "text": [
        " (100, 11)\n",
        "At iteration 283 : Kplus is 7 , alpha is 1.90535288378\n",
        "Shape of Z:"
       ]
      },
      {
       "output_type": "stream",
       "stream": "stdout",
       "text": [
        " (100, 9)\n",
        "At iteration 284 : Kplus is 5 , alpha is 1.57109940316\n",
        "Shape of Z:"
       ]
      },
      {
       "output_type": "stream",
       "stream": "stdout",
       "text": [
        " (100, 9)\n",
        "At iteration 285 : Kplus is 5 , alpha is 0.865961587219\n",
        "Shape of Z:"
       ]
      },
      {
       "output_type": "stream",
       "stream": "stdout",
       "text": [
        " (100, 8)\n",
        "At iteration 286 : Kplus is 4 , alpha is 1.40415253353\n",
        "Shape of Z:"
       ]
      },
      {
       "output_type": "stream",
       "stream": "stdout",
       "text": [
        " (100, 10)\n",
        "At iteration 287 : Kplus is 6 , alpha is 0.460751567327\n",
        "Shape of Z:"
       ]
      },
      {
       "output_type": "stream",
       "stream": "stdout",
       "text": [
        " (100, 6)\n",
        "At iteration 288 : Kplus is 2 , alpha is 0.815150078698\n",
        "Shape of Z:"
       ]
      },
      {
       "output_type": "stream",
       "stream": "stdout",
       "text": [
        " (100, 6)\n",
        "At iteration 289 : Kplus is 2 , alpha is 0.216182073245\n",
        "Shape of Z:"
       ]
      },
      {
       "output_type": "stream",
       "stream": "stdout",
       "text": [
        " (100, 6)\n",
        "At iteration 290 : Kplus is 2 , alpha is 0.686623078711\n",
        "Shape of Z:"
       ]
      },
      {
       "output_type": "stream",
       "stream": "stdout",
       "text": [
        " (100, 6)\n",
        "At iteration 291 : Kplus is 2 , alpha is 0.285434165514\n",
        "Shape of Z:"
       ]
      },
      {
       "output_type": "stream",
       "stream": "stdout",
       "text": [
        " (100, 6)\n",
        "At iteration 292 : Kplus is 2 , alpha is 0.499660581793\n",
        "Shape of Z:"
       ]
      },
      {
       "output_type": "stream",
       "stream": "stdout",
       "text": [
        " (100, 6)\n",
        "At iteration 293 : Kplus is 2 , alpha is 0.723941188157\n",
        "Shape of Z:"
       ]
      },
      {
       "output_type": "stream",
       "stream": "stdout",
       "text": [
        " (100, 6)\n",
        "At iteration 294 : Kplus is 2 , alpha is 0.523142492344\n",
        "Shape of Z:"
       ]
      },
      {
       "output_type": "stream",
       "stream": "stdout",
       "text": [
        " (100, 6)\n",
        "At iteration 295 : Kplus is 2 , alpha is 0.392363134976\n",
        "Shape of Z:"
       ]
      },
      {
       "output_type": "stream",
       "stream": "stdout",
       "text": [
        " (100, 6)\n",
        "At iteration 296 : Kplus is 2 , alpha is 0.403769080762\n",
        "Shape of Z:"
       ]
      },
      {
       "output_type": "stream",
       "stream": "stdout",
       "text": [
        " (100, 6)\n",
        "At iteration 297 : Kplus is 2 , alpha is 0.156351331658\n",
        "Shape of Z:"
       ]
      },
      {
       "output_type": "stream",
       "stream": "stdout",
       "text": [
        " (100, 6)\n",
        "At iteration 298 : Kplus is 2 , alpha is 0.115826968333\n",
        "Shape of Z:"
       ]
      },
      {
       "output_type": "stream",
       "stream": "stdout",
       "text": [
        " (100, 6)\n",
        "At iteration 299 : Kplus is 2 , alpha is 0.672083225544\n",
        "Shape of Z:"
       ]
      },
      {
       "output_type": "stream",
       "stream": "stdout",
       "text": [
        " (100, 6)\n",
        "At iteration 300 : Kplus is 2 , alpha is 0.818946491811\n",
        "Shape of Z:"
       ]
      },
      {
       "output_type": "stream",
       "stream": "stdout",
       "text": [
        " (100, 6)\n",
        "At iteration 301 : Kplus is 2 , alpha is 0.25721646183\n",
        "Shape of Z:"
       ]
      },
      {
       "output_type": "stream",
       "stream": "stdout",
       "text": [
        " (100, 7)\n",
        "At iteration 302 : Kplus is 3 , alpha is 0.74898323374\n",
        "Shape of Z:"
       ]
      },
      {
       "output_type": "stream",
       "stream": "stdout",
       "text": [
        " (100, 7)\n",
        "At iteration 303 : Kplus is 3 , alpha is 0.288118962923\n",
        "Shape of Z:"
       ]
      },
      {
       "output_type": "stream",
       "stream": "stdout",
       "text": [
        " (100, 7)\n",
        "At iteration 304 : Kplus is 3 , alpha is 0.661335341259\n",
        "Shape of Z:"
       ]
      },
      {
       "output_type": "stream",
       "stream": "stdout",
       "text": [
        " (100, 17)\n",
        "At iteration 305 : Kplus is 13 , alpha is 1.82926283942\n",
        "Shape of Z:"
       ]
      },
      {
       "output_type": "stream",
       "stream": "stdout",
       "text": [
        " (100, 26)\n",
        "At iteration 306 : Kplus is 22 , alpha is 6.15691265251\n",
        "Shape of Z:"
       ]
      },
      {
       "output_type": "stream",
       "stream": "stdout",
       "text": [
        " (100, 34)\n",
        "At iteration 307 : Kplus is 30 , alpha is 5.98772678085\n",
        "Shape of Z:"
       ]
      },
      {
       "output_type": "stream",
       "stream": "stdout",
       "text": [
        " (100, 33)\n",
        "At iteration 308 : Kplus is 29 , alpha is 3.85847237272\n",
        "Shape of Z:"
       ]
      },
      {
       "output_type": "stream",
       "stream": "stdout",
       "text": [
        " (100, 25)\n",
        "At iteration 309 : Kplus is 21 , alpha is 4.81043972089\n",
        "Shape of Z:"
       ]
      },
      {
       "output_type": "stream",
       "stream": "stdout",
       "text": [
        " (100, 20)\n",
        "At iteration 310 : Kplus is 16 , alpha is 3.18127186903\n",
        "Shape of Z:"
       ]
      },
      {
       "output_type": "stream",
       "stream": "stdout",
       "text": [
        " (100, 16)\n",
        "At iteration 311 : Kplus is 12 , alpha is 3.15230462444\n",
        "Shape of Z:"
       ]
      },
      {
       "output_type": "stream",
       "stream": "stdout",
       "text": [
        " (100, 11)\n",
        "At iteration 312 : Kplus is 7 , alpha is 1.58806916262\n",
        "Shape of Z:"
       ]
      },
      {
       "output_type": "stream",
       "stream": "stdout",
       "text": [
        " (100, 10)\n",
        "At iteration 313 : Kplus is 6 , alpha is 0.450915654407\n",
        "Shape of Z:"
       ]
      },
      {
       "output_type": "stream",
       "stream": "stdout",
       "text": [
        " (100, 8)\n",
        "At iteration 314 : Kplus is 4 , alpha is 0.646895541921\n",
        "Shape of Z:"
       ]
      },
      {
       "output_type": "stream",
       "stream": "stdout",
       "text": [
        " (100, 6)\n",
        "At iteration 315 : Kplus is 2 , alpha is 0.189671484623\n",
        "Shape of Z:"
       ]
      },
      {
       "output_type": "stream",
       "stream": "stdout",
       "text": [
        " (100, 6)\n",
        "At iteration 316 : Kplus is 2 , alpha is 0.999367993998\n",
        "Shape of Z:"
       ]
      },
      {
       "output_type": "stream",
       "stream": "stdout",
       "text": [
        " (100, 6)\n",
        "At iteration 317 : Kplus is 2 , alpha is 0.372874148438\n",
        "Shape of Z:"
       ]
      },
      {
       "output_type": "stream",
       "stream": "stdout",
       "text": [
        " (100, 6)\n",
        "At iteration 318 : Kplus is 2 , alpha is 1.74381017524\n",
        "Shape of Z:"
       ]
      },
      {
       "output_type": "stream",
       "stream": "stdout",
       "text": [
        " (100, 6)\n",
        "At iteration 319 : Kplus is 2 , alpha is 0.323562922262\n",
        "Shape of Z:"
       ]
      },
      {
       "output_type": "stream",
       "stream": "stdout",
       "text": [
        " (100, 6)\n",
        "At iteration 320 : Kplus is 2 , alpha is 0.438767949739\n",
        "Shape of Z:"
       ]
      },
      {
       "output_type": "stream",
       "stream": "stdout",
       "text": [
        " (100, 6)\n",
        "At iteration 321 : Kplus is 2 , alpha is 0.228607049783\n",
        "Shape of Z:"
       ]
      },
      {
       "output_type": "stream",
       "stream": "stdout",
       "text": [
        " (100, 6)\n",
        "At iteration 322 : Kplus is 2 , alpha is 0.312201774847\n",
        "Shape of Z:"
       ]
      },
      {
       "output_type": "stream",
       "stream": "stdout",
       "text": [
        " (100, 6)\n",
        "At iteration 323 : Kplus is 2 , alpha is 0.26178224199\n",
        "Shape of Z:"
       ]
      },
      {
       "output_type": "stream",
       "stream": "stdout",
       "text": [
        " (100, 6)\n",
        "At iteration 324 : Kplus is 2 , alpha is 0.435821562014\n",
        "Shape of Z:"
       ]
      },
      {
       "output_type": "stream",
       "stream": "stdout",
       "text": [
        " (100, 6)\n",
        "At iteration 325 : Kplus is 2 , alpha is 0.93411160601\n",
        "Shape of Z:"
       ]
      },
      {
       "output_type": "stream",
       "stream": "stdout",
       "text": [
        " (100, 6)\n",
        "At iteration 326 : Kplus is 2 , alpha is 0.468770479769\n",
        "Shape of Z:"
       ]
      },
      {
       "output_type": "stream",
       "stream": "stdout",
       "text": [
        " (100, 6)\n",
        "At iteration 327 : Kplus is 2 , alpha is 0.502292369713\n",
        "Shape of Z:"
       ]
      },
      {
       "output_type": "stream",
       "stream": "stdout",
       "text": [
        " (100, 6)\n",
        "At iteration 328 : Kplus is 2 , alpha is 0.408337453432\n",
        "Shape of Z:"
       ]
      },
      {
       "output_type": "stream",
       "stream": "stdout",
       "text": [
        " (100, 6)\n",
        "At iteration 329 : Kplus is 2 , alpha is 0.217913547532\n",
        "Shape of Z:"
       ]
      },
      {
       "output_type": "stream",
       "stream": "stdout",
       "text": [
        " (100, 6)\n",
        "At iteration 330 : Kplus is 2 , alpha is 0.484766709336\n",
        "Shape of Z:"
       ]
      },
      {
       "output_type": "stream",
       "stream": "stdout",
       "text": [
        " (100, 6)\n",
        "At iteration 331 : Kplus is 2 , alpha is 0.153409786045\n",
        "Shape of Z:"
       ]
      },
      {
       "output_type": "stream",
       "stream": "stdout",
       "text": [
        " (100, 6)\n",
        "At iteration 332 : Kplus is 2 , alpha is 0.555205011569\n",
        "Shape of Z:"
       ]
      },
      {
       "output_type": "stream",
       "stream": "stdout",
       "text": [
        " (100, 6)\n",
        "At iteration 333 : Kplus is 2 , alpha is 0.182805580162\n",
        "Shape of Z:"
       ]
      },
      {
       "output_type": "stream",
       "stream": "stdout",
       "text": [
        " (100, 6)\n",
        "At iteration 334 : Kplus is 2 , alpha is 0.36941428874\n",
        "Shape of Z:"
       ]
      },
      {
       "output_type": "stream",
       "stream": "stdout",
       "text": [
        " (100, 6)\n",
        "At iteration 335 : Kplus is 2 , alpha is 0.297511871734\n",
        "Shape of Z:"
       ]
      },
      {
       "output_type": "stream",
       "stream": "stdout",
       "text": [
        " (100, 6)\n",
        "At iteration 336 : Kplus is 2 , alpha is 0.745374546598\n",
        "Shape of Z:"
       ]
      },
      {
       "output_type": "stream",
       "stream": "stdout",
       "text": [
        " (100, 6)\n",
        "At iteration 337 : Kplus is 2 , alpha is 0.34284473843\n",
        "Shape of Z:"
       ]
      },
      {
       "output_type": "stream",
       "stream": "stdout",
       "text": [
        " (100, 6)\n",
        "At iteration 338 : Kplus is 2 , alpha is 0.445030721988\n",
        "Shape of Z:"
       ]
      },
      {
       "output_type": "stream",
       "stream": "stdout",
       "text": [
        " (100, 6)\n",
        "At iteration 339 : Kplus is 2 , alpha is 0.211549879123\n",
        "Shape of Z:"
       ]
      },
      {
       "output_type": "stream",
       "stream": "stdout",
       "text": [
        " (100, 6)\n",
        "At iteration 340 : Kplus is 2 , alpha is 0.146883014172\n",
        "Shape of Z:"
       ]
      },
      {
       "output_type": "stream",
       "stream": "stdout",
       "text": [
        " (100, 6)\n",
        "At iteration 341 : Kplus is 2 , alpha is 0.453814259578\n",
        "Shape of Z:"
       ]
      },
      {
       "output_type": "stream",
       "stream": "stdout",
       "text": [
        " (100, 6)\n",
        "At iteration 342 : Kplus is 2 , alpha is 0.398986620032\n",
        "Shape of Z:"
       ]
      },
      {
       "output_type": "stream",
       "stream": "stdout",
       "text": [
        " (100, 6)\n",
        "At iteration 343 : Kplus is 2 , alpha is 0.331965222836\n",
        "Shape of Z:"
       ]
      },
      {
       "output_type": "stream",
       "stream": "stdout",
       "text": [
        " (100, 6)\n",
        "At iteration 344 : Kplus is 2 , alpha is 0.74194475964\n",
        "Shape of Z:"
       ]
      },
      {
       "output_type": "stream",
       "stream": "stdout",
       "text": [
        " (100, 6)\n",
        "At iteration 345 : Kplus is 2 , alpha is 0.486365378923\n",
        "Shape of Z:"
       ]
      },
      {
       "output_type": "stream",
       "stream": "stdout",
       "text": [
        " (100, 6)\n",
        "At iteration 346 : Kplus is 2 , alpha is 0.0845263730657\n",
        "Shape of Z:"
       ]
      },
      {
       "output_type": "stream",
       "stream": "stdout",
       "text": [
        " (100, 6)\n",
        "At iteration 347 : Kplus is 2 , alpha is 0.944129025091\n",
        "Shape of Z:"
       ]
      },
      {
       "output_type": "stream",
       "stream": "stdout",
       "text": [
        " (100, 6)\n",
        "At iteration 348 : Kplus is 2 , alpha is 0.52033995271\n",
        "Shape of Z:"
       ]
      },
      {
       "output_type": "stream",
       "stream": "stdout",
       "text": [
        " (100, 6)\n",
        "At iteration 349 : Kplus is 2 , alpha is 0.26562541569\n",
        "Shape of Z:"
       ]
      },
      {
       "output_type": "stream",
       "stream": "stdout",
       "text": [
        " (100, 6)\n",
        "At iteration 350 : Kplus is 2 , alpha is 0.652321347694\n",
        "Shape of Z:"
       ]
      },
      {
       "output_type": "stream",
       "stream": "stdout",
       "text": [
        " (100, 6)\n",
        "At iteration 351 : Kplus is 2 , alpha is 0.182776128113\n",
        "Shape of Z:"
       ]
      },
      {
       "output_type": "stream",
       "stream": "stdout",
       "text": [
        " (100, 6)\n",
        "At iteration 352 : Kplus is 2 , alpha is 0.255455730859\n",
        "Shape of Z:"
       ]
      },
      {
       "output_type": "stream",
       "stream": "stdout",
       "text": [
        " (100, 6)\n",
        "At iteration 353 : Kplus is 2 , alpha is 0.358802271256\n",
        "Shape of Z:"
       ]
      },
      {
       "output_type": "stream",
       "stream": "stdout",
       "text": [
        " (100, 7)\n",
        "At iteration 354 : Kplus is 3 , alpha is 0.572939486849\n",
        "Shape of Z:"
       ]
      },
      {
       "output_type": "stream",
       "stream": "stdout",
       "text": [
        " (100, 6)\n",
        "At iteration 355 : Kplus is 2 , alpha is 0.493147439144\n",
        "Shape of Z:"
       ]
      },
      {
       "output_type": "stream",
       "stream": "stdout",
       "text": [
        " (100, 9)\n",
        "At iteration 356 : Kplus is 5 , alpha is 0.659385253561\n",
        "Shape of Z:"
       ]
      },
      {
       "output_type": "stream",
       "stream": "stdout",
       "text": [
        " (100, 8)\n",
        "At iteration 357 : Kplus is 4 , alpha is 0.467042640625\n",
        "Shape of Z:"
       ]
      },
      {
       "output_type": "stream",
       "stream": "stdout",
       "text": [
        " (100, 7)\n",
        "At iteration 358 : Kplus is 3 , alpha is 0.996526873667\n",
        "Shape of Z:"
       ]
      },
      {
       "output_type": "stream",
       "stream": "stdout",
       "text": [
        " (100, 8)\n",
        "At iteration 359 : Kplus is 4 , alpha is 1.69731977744\n",
        "Shape of Z:"
       ]
      },
      {
       "output_type": "stream",
       "stream": "stdout",
       "text": [
        " (100, 20)\n",
        "At iteration 360 : Kplus is 16 , alpha is 2.58724698115\n",
        "Shape of Z:"
       ]
      },
      {
       "output_type": "stream",
       "stream": "stdout",
       "text": [
        " (100, 26)\n",
        "At iteration 361 : Kplus is 22 , alpha is 3.86557663201\n",
        "Shape of Z:"
       ]
      },
      {
       "output_type": "stream",
       "stream": "stdout",
       "text": [
        " (100, 18)\n",
        "At iteration 362 : Kplus is 14 , alpha is 1.70985897043\n",
        "Shape of Z:"
       ]
      },
      {
       "output_type": "stream",
       "stream": "stdout",
       "text": [
        " (100, 12)\n",
        "At iteration 363 : Kplus is 8 , alpha is 0.745736203725\n",
        "Shape of Z:"
       ]
      },
      {
       "output_type": "stream",
       "stream": "stdout",
       "text": [
        " (100, 10)\n",
        "At iteration 364 : Kplus is 6 , alpha is 1.70449263249\n",
        "Shape of Z:"
       ]
      },
      {
       "output_type": "stream",
       "stream": "stdout",
       "text": [
        " (100, 6)\n",
        "At iteration 365 : Kplus is 2 , alpha is 0.103056038337\n",
        "Shape of Z:"
       ]
      },
      {
       "output_type": "stream",
       "stream": "stdout",
       "text": [
        " (100, 6)\n",
        "At iteration 366 : Kplus is 2 , alpha is 0.564232962821\n",
        "Shape of Z:"
       ]
      },
      {
       "output_type": "stream",
       "stream": "stdout",
       "text": [
        " (100, 6)\n",
        "At iteration 367 : Kplus is 2 , alpha is 0.977624972334\n",
        "Shape of Z:"
       ]
      },
      {
       "output_type": "stream",
       "stream": "stdout",
       "text": [
        " (100, 6)\n",
        "At iteration 368 : Kplus is 2 , alpha is 0.897105147763\n",
        "Shape of Z:"
       ]
      },
      {
       "output_type": "stream",
       "stream": "stdout",
       "text": [
        " (100, 6)\n",
        "At iteration 369 : Kplus is 2 , alpha is 0.590769531713\n",
        "Shape of Z:"
       ]
      },
      {
       "output_type": "stream",
       "stream": "stdout",
       "text": [
        " (100, 6)\n",
        "At iteration 370 : Kplus is 2 , alpha is 0.603436504019\n",
        "Shape of Z:"
       ]
      },
      {
       "output_type": "stream",
       "stream": "stdout",
       "text": [
        " (100, 6)\n",
        "At iteration 371 : Kplus is 2 , alpha is 0.377776222651\n",
        "Shape of Z:"
       ]
      },
      {
       "output_type": "stream",
       "stream": "stdout",
       "text": [
        " (100, 6)\n",
        "At iteration 372 : Kplus is 2 , alpha is 0.284162879006\n",
        "Shape of Z:"
       ]
      },
      {
       "output_type": "stream",
       "stream": "stdout",
       "text": [
        " (100, 6)\n",
        "At iteration 373 : Kplus is 2 , alpha is 0.0745857551202\n",
        "Shape of Z:"
       ]
      },
      {
       "output_type": "stream",
       "stream": "stdout",
       "text": [
        " (100, 6)\n",
        "At iteration 374 : Kplus is 2 , alpha is 0.2788376199\n",
        "Shape of Z:"
       ]
      },
      {
       "output_type": "stream",
       "stream": "stdout",
       "text": [
        " (100, 6)\n",
        "At iteration 375 : Kplus is 2 , alpha is 0.718939220285\n",
        "Shape of Z:"
       ]
      },
      {
       "output_type": "stream",
       "stream": "stdout",
       "text": [
        " (100, 6)\n",
        "At iteration 376 : Kplus is 2 , alpha is 0.463647445206\n",
        "Shape of Z:"
       ]
      },
      {
       "output_type": "stream",
       "stream": "stdout",
       "text": [
        " (100, 6)\n",
        "At iteration 377 : Kplus is 2 , alpha is 0.245552317197\n",
        "Shape of Z:"
       ]
      },
      {
       "output_type": "stream",
       "stream": "stdout",
       "text": [
        " (100, 6)\n",
        "At iteration 378 : Kplus is 2 , alpha is 0.33177089727\n",
        "Shape of Z:"
       ]
      },
      {
       "output_type": "stream",
       "stream": "stdout",
       "text": [
        " (100, 6)\n",
        "At iteration 379 : Kplus is 2 , alpha is 0.0890504366479\n",
        "Shape of Z:"
       ]
      },
      {
       "output_type": "stream",
       "stream": "stdout",
       "text": [
        " (100, 6)\n",
        "At iteration 380 : Kplus is 2 , alpha is 0.43756362779\n",
        "Shape of Z:"
       ]
      },
      {
       "output_type": "stream",
       "stream": "stdout",
       "text": [
        " (100, 6)\n",
        "At iteration 381 : Kplus is 2 , alpha is 0.250671359935\n",
        "Shape of Z:"
       ]
      },
      {
       "output_type": "stream",
       "stream": "stdout",
       "text": [
        " (100, 6)\n",
        "At iteration 382 : Kplus is 2 , alpha is 0.453978451087\n",
        "Shape of Z:"
       ]
      },
      {
       "output_type": "stream",
       "stream": "stdout",
       "text": [
        " (100, 6)\n",
        "At iteration 383 : Kplus is 2 , alpha is 0.3477749102\n",
        "Shape of Z:"
       ]
      },
      {
       "output_type": "stream",
       "stream": "stdout",
       "text": [
        " (100, 6)\n",
        "At iteration 384 : Kplus is 2 , alpha is 1.73131485079\n",
        "Shape of Z:"
       ]
      },
      {
       "output_type": "stream",
       "stream": "stdout",
       "text": [
        " (100, 6)\n",
        "At iteration 385 : Kplus is 2 , alpha is 0.494132283474\n",
        "Shape of Z:"
       ]
      },
      {
       "output_type": "stream",
       "stream": "stdout",
       "text": [
        " (100, 6)\n",
        "At iteration 386 : Kplus is 2 , alpha is 0.253511754966\n",
        "Shape of Z:"
       ]
      },
      {
       "output_type": "stream",
       "stream": "stdout",
       "text": [
        " (100, 6)\n",
        "At iteration 387 : Kplus is 2 , alpha is 0.776158241284\n",
        "Shape of Z:"
       ]
      },
      {
       "output_type": "stream",
       "stream": "stdout",
       "text": [
        " (100, 6)\n",
        "At iteration 388 : Kplus is 2 , alpha is 0.44767843317\n",
        "Shape of Z:"
       ]
      },
      {
       "output_type": "stream",
       "stream": "stdout",
       "text": [
        " (100, 6)\n",
        "At iteration 389 : Kplus is 2 , alpha is 0.437940258179\n",
        "Shape of Z:"
       ]
      },
      {
       "output_type": "stream",
       "stream": "stdout",
       "text": [
        " (100, 6)\n",
        "At iteration 390 : Kplus is 2 , alpha is 0.944201720057\n",
        "Shape of Z:"
       ]
      },
      {
       "output_type": "stream",
       "stream": "stdout",
       "text": [
        " (100, 6)\n",
        "At iteration 391 : Kplus is 2 , alpha is 0.819079298285\n",
        "Shape of Z:"
       ]
      },
      {
       "output_type": "stream",
       "stream": "stdout",
       "text": [
        " (100, 6)\n",
        "At iteration 392 : Kplus is 2 , alpha is 0.51391332398\n",
        "Shape of Z:"
       ]
      },
      {
       "output_type": "stream",
       "stream": "stdout",
       "text": [
        " (100, 6)\n",
        "At iteration 393 : Kplus is 2 , alpha is 0.298476141012\n",
        "Shape of Z:"
       ]
      },
      {
       "output_type": "stream",
       "stream": "stdout",
       "text": [
        " (100, 6)\n",
        "At iteration 394 : Kplus is 2 , alpha is 0.13746335366\n",
        "Shape of Z:"
       ]
      },
      {
       "output_type": "stream",
       "stream": "stdout",
       "text": [
        " (100, 7)\n",
        "At iteration 395 : Kplus is 3 , alpha is 0.741706285262\n",
        "Shape of Z:"
       ]
      },
      {
       "output_type": "stream",
       "stream": "stdout",
       "text": [
        " (100, 7)\n",
        "At iteration 396 : Kplus is 3 , alpha is 1.08263387086\n",
        "Shape of Z:"
       ]
      },
      {
       "output_type": "stream",
       "stream": "stdout",
       "text": [
        " (100, 8)\n",
        "At iteration 397 : Kplus is 4 , alpha is 0.526027890265\n",
        "Shape of Z:"
       ]
      },
      {
       "output_type": "stream",
       "stream": "stdout",
       "text": [
        " (100, 7)\n",
        "At iteration 398 : Kplus is 3 , alpha is 0.389302022599\n",
        "Shape of Z:"
       ]
      },
      {
       "output_type": "stream",
       "stream": "stdout",
       "text": [
        " (100, 6)\n",
        "At iteration 399 : Kplus is 2 , alpha is 0.474062287672\n",
        "Shape of Z:"
       ]
      },
      {
       "output_type": "stream",
       "stream": "stdout",
       "text": [
        " (100, 6)\n",
        "At iteration 400 : Kplus is 2 , alpha is 0.939663949705\n",
        "Shape of Z:"
       ]
      },
      {
       "output_type": "stream",
       "stream": "stdout",
       "text": [
        " (100, 6)\n",
        "At iteration 401 : Kplus is 2 , alpha is 0.525972330709\n",
        "Shape of Z:"
       ]
      },
      {
       "output_type": "stream",
       "stream": "stdout",
       "text": [
        " (100, 6)\n",
        "At iteration 402 : Kplus is 2 , alpha is 0.201073730971\n",
        "Shape of Z:"
       ]
      },
      {
       "output_type": "stream",
       "stream": "stdout",
       "text": [
        " (100, 6)\n",
        "At iteration 403 : Kplus is 2 , alpha is 0.745002650568\n",
        "Shape of Z:"
       ]
      },
      {
       "output_type": "stream",
       "stream": "stdout",
       "text": [
        " (100, 7)\n",
        "At iteration 404 : Kplus is 3 , alpha is 0.493013141484\n",
        "Shape of Z:"
       ]
      },
      {
       "output_type": "stream",
       "stream": "stdout",
       "text": [
        " (100, 10)\n",
        "At iteration 405 : Kplus is 6 , alpha is 0.957026163028\n",
        "Shape of Z:"
       ]
      },
      {
       "output_type": "stream",
       "stream": "stdout",
       "text": [
        " (100, 15)\n",
        "At iteration 406 : Kplus is 11 , alpha is 2.15207122824\n",
        "Shape of Z:"
       ]
      },
      {
       "output_type": "stream",
       "stream": "stdout",
       "text": [
        " (100, 12)\n",
        "At iteration 407 : Kplus is 8 , alpha is 2.52591209691\n",
        "Shape of Z:"
       ]
      },
      {
       "output_type": "stream",
       "stream": "stdout",
       "text": [
        " (100, 13)\n",
        "At iteration 408 : Kplus is 9 , alpha is 0.736146859004\n",
        "Shape of Z:"
       ]
      },
      {
       "output_type": "stream",
       "stream": "stdout",
       "text": [
        " (100, 7)\n",
        "At iteration 409 : Kplus is 3 , alpha is 0.481910194133\n",
        "Shape of Z:"
       ]
      },
      {
       "output_type": "stream",
       "stream": "stdout",
       "text": [
        " (100, 7)\n",
        "At iteration 410 : Kplus is 3 , alpha is 1.1722164929\n",
        "Shape of Z:"
       ]
      },
      {
       "output_type": "stream",
       "stream": "stdout",
       "text": [
        " (100, 6)\n",
        "At iteration 411 : Kplus is 2 , alpha is 0.49664720073\n",
        "Shape of Z:"
       ]
      },
      {
       "output_type": "stream",
       "stream": "stdout",
       "text": [
        " (100, 6)\n",
        "At iteration 412 : Kplus is 2 , alpha is 0.504410051897\n",
        "Shape of Z:"
       ]
      },
      {
       "output_type": "stream",
       "stream": "stdout",
       "text": [
        " (100, 6)\n",
        "At iteration 413 : Kplus is 2 , alpha is 0.490296327555\n",
        "Shape of Z:"
       ]
      },
      {
       "output_type": "stream",
       "stream": "stdout",
       "text": [
        " (100, 7)\n",
        "At iteration 414 : Kplus is 3 , alpha is 0.584975785956\n",
        "Shape of Z:"
       ]
      },
      {
       "output_type": "stream",
       "stream": "stdout",
       "text": [
        " (100, 6)\n",
        "At iteration 415 : Kplus is 2 , alpha is 0.397805703879\n",
        "Shape of Z:"
       ]
      },
      {
       "output_type": "stream",
       "stream": "stdout",
       "text": [
        " (100, 6)\n",
        "At iteration 416 : Kplus is 2 , alpha is 0.64920299073\n",
        "Shape of Z:"
       ]
      },
      {
       "output_type": "stream",
       "stream": "stdout",
       "text": [
        " (100, 7)\n",
        "At iteration 417 : Kplus is 3 , alpha is 1.02174975925\n",
        "Shape of Z:"
       ]
      },
      {
       "output_type": "stream",
       "stream": "stdout",
       "text": [
        " (100, 27)\n",
        "At iteration 418 : Kplus is 23 , alpha is 3.55929401179\n",
        "Shape of Z:"
       ]
      },
      {
       "output_type": "stream",
       "stream": "stdout",
       "text": [
        " (100, 19)\n",
        "At iteration 419 : Kplus is 15 , alpha is 3.12443646409\n",
        "Shape of Z:"
       ]
      },
      {
       "output_type": "stream",
       "stream": "stdout",
       "text": [
        " (100, 11)\n",
        "At iteration 420 : Kplus is 7 , alpha is 0.657949057816\n",
        "Shape of Z:"
       ]
      },
      {
       "output_type": "stream",
       "stream": "stdout",
       "text": [
        " (100, 6)\n",
        "At iteration 421 : Kplus is 2 , alpha is 0.278668698338\n",
        "Shape of Z:"
       ]
      },
      {
       "output_type": "stream",
       "stream": "stdout",
       "text": [
        " (100, 6)\n",
        "At iteration 422 : Kplus is 2 , alpha is 0.698765891269\n",
        "Shape of Z:"
       ]
      },
      {
       "output_type": "stream",
       "stream": "stdout",
       "text": [
        " (100, 6)\n",
        "At iteration 423 : Kplus is 2 , alpha is 0.487336664767\n",
        "Shape of Z:"
       ]
      },
      {
       "output_type": "stream",
       "stream": "stdout",
       "text": [
        " (100, 6)\n",
        "At iteration 424 : Kplus is 2 , alpha is 0.496250173363\n",
        "Shape of Z:"
       ]
      },
      {
       "output_type": "stream",
       "stream": "stdout",
       "text": [
        " (100, 6)\n",
        "At iteration 425 : Kplus is 2 , alpha is 0.261692657674\n",
        "Shape of Z:"
       ]
      },
      {
       "output_type": "stream",
       "stream": "stdout",
       "text": [
        " (100, 6)\n",
        "At iteration 426 : Kplus is 2 , alpha is 0.24713664689\n",
        "Shape of Z:"
       ]
      },
      {
       "output_type": "stream",
       "stream": "stdout",
       "text": [
        " (100, 6)\n",
        "At iteration 427 : Kplus is 2 , alpha is 0.487091950811\n",
        "Shape of Z:"
       ]
      },
      {
       "output_type": "stream",
       "stream": "stdout",
       "text": [
        " (100, 6)\n",
        "At iteration 428 : Kplus is 2 , alpha is 0.451887296817\n",
        "Shape of Z:"
       ]
      },
      {
       "output_type": "stream",
       "stream": "stdout",
       "text": [
        " (100, 6)\n",
        "At iteration 429 : Kplus is 2 , alpha is 0.749139448303\n",
        "Shape of Z:"
       ]
      },
      {
       "output_type": "stream",
       "stream": "stdout",
       "text": [
        " (100, 6)\n",
        "At iteration 430 : Kplus is 2 , alpha is 0.789491271302\n",
        "Shape of Z:"
       ]
      },
      {
       "output_type": "stream",
       "stream": "stdout",
       "text": [
        " (100, 6)\n",
        "At iteration 431 : Kplus is 2 , alpha is 0.170871843911\n",
        "Shape of Z:"
       ]
      },
      {
       "output_type": "stream",
       "stream": "stdout",
       "text": [
        " (100, 6)\n",
        "At iteration 432 : Kplus is 2 , alpha is 0.318304770357\n",
        "Shape of Z:"
       ]
      },
      {
       "output_type": "stream",
       "stream": "stdout",
       "text": [
        " (100, 6)\n",
        "At iteration 433 : Kplus is 2 , alpha is 0.460801551078\n",
        "Shape of Z:"
       ]
      },
      {
       "output_type": "stream",
       "stream": "stdout",
       "text": [
        " (100, 6)\n",
        "At iteration 434 : Kplus is 2 , alpha is 0.474386455607\n",
        "Shape of Z:"
       ]
      },
      {
       "output_type": "stream",
       "stream": "stdout",
       "text": [
        " (100, 6)\n",
        "At iteration 435 : Kplus is 2 , alpha is 0.511107123935\n",
        "Shape of Z:"
       ]
      },
      {
       "output_type": "stream",
       "stream": "stdout",
       "text": [
        " (100, 6)\n",
        "At iteration 436 : Kplus is 2 , alpha is 0.216365591953\n",
        "Shape of Z:"
       ]
      },
      {
       "output_type": "stream",
       "stream": "stdout",
       "text": [
        " (100, 6)\n",
        "At iteration 437 : Kplus is 2 , alpha is 0.205634173613\n",
        "Shape of Z:"
       ]
      },
      {
       "output_type": "stream",
       "stream": "stdout",
       "text": [
        " (100, 6)\n",
        "At iteration 438 : Kplus is 2 , alpha is 0.270477648704\n",
        "Shape of Z:"
       ]
      },
      {
       "output_type": "stream",
       "stream": "stdout",
       "text": [
        " (100, 6)\n",
        "At iteration 439 : Kplus is 2 , alpha is 0.523168432091\n",
        "Shape of Z:"
       ]
      },
      {
       "output_type": "stream",
       "stream": "stdout",
       "text": [
        " (100, 6)\n",
        "At iteration 440 : Kplus is 2 , alpha is 0.176054939515\n",
        "Shape of Z:"
       ]
      },
      {
       "output_type": "stream",
       "stream": "stdout",
       "text": [
        " (100, 6)\n",
        "At iteration 441 : Kplus is 2 , alpha is 0.924676177406\n",
        "Shape of Z:"
       ]
      },
      {
       "output_type": "stream",
       "stream": "stdout",
       "text": [
        " (100, 6)\n",
        "At iteration 442 : Kplus is 2 , alpha is 0.16964911399\n",
        "Shape of Z:"
       ]
      },
      {
       "output_type": "stream",
       "stream": "stdout",
       "text": [
        " (100, 6)\n",
        "At iteration 443 : Kplus is 2 , alpha is 0.157307192012\n",
        "Shape of Z:"
       ]
      },
      {
       "output_type": "stream",
       "stream": "stdout",
       "text": [
        " (100, 6)\n",
        "At iteration 444 : Kplus is 2 , alpha is 0.215061843432\n",
        "Shape of Z:"
       ]
      },
      {
       "output_type": "stream",
       "stream": "stdout",
       "text": [
        " (100, 6)\n",
        "At iteration 445 : Kplus is 2 , alpha is 0.350333691591\n",
        "Shape of Z:"
       ]
      },
      {
       "output_type": "stream",
       "stream": "stdout",
       "text": [
        " (100, 6)\n",
        "At iteration 446 : Kplus is 2 , alpha is 0.235945221017\n",
        "Shape of Z:"
       ]
      },
      {
       "output_type": "stream",
       "stream": "stdout",
       "text": [
        " (100, 6)\n",
        "At iteration 447 : Kplus is 2 , alpha is 0.626314348961\n",
        "Shape of Z:"
       ]
      },
      {
       "output_type": "stream",
       "stream": "stdout",
       "text": [
        " (100, 6)\n",
        "At iteration 448 : Kplus is 2 , alpha is 0.763550635522\n",
        "Shape of Z:"
       ]
      },
      {
       "output_type": "stream",
       "stream": "stdout",
       "text": [
        " (100, 6)\n",
        "At iteration 449 : Kplus is 2 , alpha is 0.762039872183\n",
        "Shape of Z:"
       ]
      },
      {
       "output_type": "stream",
       "stream": "stdout",
       "text": [
        " (100, 7)\n",
        "At iteration 450 : Kplus is 3 , alpha is 0.436455097131\n",
        "Shape of Z:"
       ]
      },
      {
       "output_type": "stream",
       "stream": "stdout",
       "text": [
        " (100, 6)\n",
        "At iteration 451 : Kplus is 2 , alpha is 0.438328580952\n",
        "Shape of Z:"
       ]
      },
      {
       "output_type": "stream",
       "stream": "stdout",
       "text": [
        " (100, 6)\n",
        "At iteration 452 : Kplus is 2 , alpha is 0.711512778145\n",
        "Shape of Z:"
       ]
      },
      {
       "output_type": "stream",
       "stream": "stdout",
       "text": [
        " (100, 6)\n",
        "At iteration 453 : Kplus is 2 , alpha is 0.329127681793\n",
        "Shape of Z:"
       ]
      },
      {
       "output_type": "stream",
       "stream": "stdout",
       "text": [
        " (100, 7)\n",
        "At iteration 454 : Kplus is 3 , alpha is 0.520809787277\n",
        "Shape of Z:"
       ]
      },
      {
       "output_type": "stream",
       "stream": "stdout",
       "text": [
        " (100, 6)\n",
        "At iteration 455 : Kplus is 2 , alpha is 1.02025934056\n",
        "Shape of Z:"
       ]
      },
      {
       "output_type": "stream",
       "stream": "stdout",
       "text": [
        " (100, 6)\n",
        "At iteration 456 : Kplus is 2 , alpha is 0.637419397529\n",
        "Shape of Z:"
       ]
      },
      {
       "output_type": "stream",
       "stream": "stdout",
       "text": [
        " (100, 12)\n",
        "At iteration 457 : Kplus is 8 , alpha is 1.96867213982\n",
        "Shape of Z:"
       ]
      },
      {
       "output_type": "stream",
       "stream": "stdout",
       "text": [
        " (100, 28)\n",
        "At iteration 458 : Kplus is 24 , alpha is 3.00668067776\n",
        "Shape of Z:"
       ]
      },
      {
       "output_type": "stream",
       "stream": "stdout",
       "text": [
        " (100, 30)\n",
        "At iteration 459 : Kplus is 26 , alpha is 3.36708356696\n",
        "Shape of Z:"
       ]
      },
      {
       "output_type": "stream",
       "stream": "stdout",
       "text": [
        " (100, 30)\n",
        "At iteration 460 : Kplus is 27 , alpha is 3.63168747317\n",
        "Shape of Z:"
       ]
      },
      {
       "output_type": "stream",
       "stream": "stdout",
       "text": [
        " (100, 30)\n",
        "At iteration 461 : Kplus is 26 , alpha is 3.54199042747\n",
        "Shape of Z:"
       ]
      },
      {
       "output_type": "stream",
       "stream": "stdout",
       "text": [
        " (100, 17)\n",
        "At iteration 462 : Kplus is 13 , alpha is 1.88192838989\n",
        "Shape of Z:"
       ]
      },
      {
       "output_type": "stream",
       "stream": "stdout",
       "text": [
        " (100, 12)\n",
        "At iteration 463 : Kplus is 8 , alpha is 2.01659431074\n",
        "Shape of Z:"
       ]
      },
      {
       "output_type": "stream",
       "stream": "stdout",
       "text": [
        " (100, 12)\n",
        "At iteration 464 : Kplus is 8 , alpha is 1.75880088068\n",
        "Shape of Z:"
       ]
      },
      {
       "output_type": "stream",
       "stream": "stdout",
       "text": [
        " (100, 10)\n",
        "At iteration 465 : Kplus is 6 , alpha is 1.62456036363\n",
        "Shape of Z:"
       ]
      },
      {
       "output_type": "stream",
       "stream": "stdout",
       "text": [
        " (100, 7)\n",
        "At iteration 466 : Kplus is 3 , alpha is 0.745210575209\n",
        "Shape of Z:"
       ]
      },
      {
       "output_type": "stream",
       "stream": "stdout",
       "text": [
        " (100, 6)\n",
        "At iteration 467 : Kplus is 2 , alpha is 0.483549852077\n",
        "Shape of Z:"
       ]
      },
      {
       "output_type": "stream",
       "stream": "stdout",
       "text": [
        " (100, 6)\n",
        "At iteration 468 : Kplus is 2 , alpha is 0.20299342434\n",
        "Shape of Z:"
       ]
      },
      {
       "output_type": "stream",
       "stream": "stdout",
       "text": [
        " (100, 6)\n",
        "At iteration 469 : Kplus is 2 , alpha is 0.588535918643\n",
        "Shape of Z:"
       ]
      },
      {
       "output_type": "stream",
       "stream": "stdout",
       "text": [
        " (100, 6)\n",
        "At iteration 470 : Kplus is 2 , alpha is 0.635012096299\n",
        "Shape of Z:"
       ]
      },
      {
       "output_type": "stream",
       "stream": "stdout",
       "text": [
        " (100, 6)\n",
        "At iteration 471 : Kplus is 2 , alpha is 0.44451175779\n",
        "Shape of Z:"
       ]
      },
      {
       "output_type": "stream",
       "stream": "stdout",
       "text": [
        " (100, 6)\n",
        "At iteration 472 : Kplus is 2 , alpha is 0.302980155109\n",
        "Shape of Z:"
       ]
      },
      {
       "output_type": "stream",
       "stream": "stdout",
       "text": [
        " (100, 6)\n",
        "At iteration 473 : Kplus is 2 , alpha is 0.548367205439\n",
        "Shape of Z:"
       ]
      },
      {
       "output_type": "stream",
       "stream": "stdout",
       "text": [
        " (100, 6)\n",
        "At iteration 474 : Kplus is 2 , alpha is 0.169828361491\n",
        "Shape of Z:"
       ]
      },
      {
       "output_type": "stream",
       "stream": "stdout",
       "text": [
        " (100, 6)\n",
        "At iteration 475 : Kplus is 2 , alpha is 1.20068245779\n",
        "Shape of Z:"
       ]
      },
      {
       "output_type": "stream",
       "stream": "stdout",
       "text": [
        " (100, 6)\n",
        "At iteration 476 : Kplus is 2 , alpha is 0.885447423921\n",
        "Shape of Z:"
       ]
      },
      {
       "output_type": "stream",
       "stream": "stdout",
       "text": [
        " (100, 6)\n",
        "At iteration 477 : Kplus is 2 , alpha is 0.911564059567\n",
        "Shape of Z:"
       ]
      },
      {
       "output_type": "stream",
       "stream": "stdout",
       "text": [
        " (100, 6)\n",
        "At iteration 478 : Kplus is 2 , alpha is 0.312112188735\n",
        "Shape of Z:"
       ]
      },
      {
       "output_type": "stream",
       "stream": "stdout",
       "text": [
        " (100, 6)\n",
        "At iteration 479 : Kplus is 2 , alpha is 0.861930484786\n",
        "Shape of Z:"
       ]
      },
      {
       "output_type": "stream",
       "stream": "stdout",
       "text": [
        " (100, 6)\n",
        "At iteration 480 : Kplus is 2 , alpha is 0.251857767846\n",
        "Shape of Z:"
       ]
      },
      {
       "output_type": "stream",
       "stream": "stdout",
       "text": [
        " (100, 6)\n",
        "At iteration 481 : Kplus is 2 , alpha is 0.330291213686\n",
        "Shape of Z:"
       ]
      },
      {
       "output_type": "stream",
       "stream": "stdout",
       "text": [
        " (100, 6)\n",
        "At iteration 482 : Kplus is 2 , alpha is 0.280279396095\n",
        "Shape of Z:"
       ]
      },
      {
       "output_type": "stream",
       "stream": "stdout",
       "text": [
        " (100, 6)\n",
        "At iteration 483 : Kplus is 2 , alpha is 0.260647955682\n",
        "Shape of Z:"
       ]
      },
      {
       "output_type": "stream",
       "stream": "stdout",
       "text": [
        " (100, 11)\n",
        "At iteration 484 : Kplus is 7 , alpha is 1.72831764553\n",
        "Shape of Z:"
       ]
      },
      {
       "output_type": "stream",
       "stream": "stdout",
       "text": [
        " (100, 24)\n",
        "At iteration 485 : Kplus is 20 , alpha is 4.91046091603\n",
        "Shape of Z:"
       ]
      },
      {
       "output_type": "stream",
       "stream": "stdout",
       "text": [
        " (100, 23)\n",
        "At iteration 486 : Kplus is 19 , alpha is 3.41620926965\n",
        "Shape of Z:"
       ]
      },
      {
       "output_type": "stream",
       "stream": "stdout",
       "text": [
        " (100, 22)\n",
        "At iteration 487 : Kplus is 18 , alpha is 2.4422636991\n",
        "Shape of Z:"
       ]
      },
      {
       "output_type": "stream",
       "stream": "stdout",
       "text": [
        " (100, 10)\n",
        "At iteration 488 : Kplus is 6 , alpha is 0.883849366877\n",
        "Shape of Z:"
       ]
      },
      {
       "output_type": "stream",
       "stream": "stdout",
       "text": [
        " (100, 13)\n",
        "At iteration 489 : Kplus is 9 , alpha is 1.1340503597\n",
        "Shape of Z:"
       ]
      },
      {
       "output_type": "stream",
       "stream": "stdout",
       "text": [
        " (100, 8)\n",
        "At iteration 490 : Kplus is 4 , alpha is 0.731573625018\n",
        "Shape of Z:"
       ]
      },
      {
       "output_type": "stream",
       "stream": "stdout",
       "text": [
        " (100, 9)\n",
        "At iteration 491 : Kplus is 5 , alpha is 1.09210019563\n",
        "Shape of Z:"
       ]
      },
      {
       "output_type": "stream",
       "stream": "stdout",
       "text": [
        " (100, 11)\n",
        "At iteration 492 : Kplus is 7 , alpha is 1.30587373714\n",
        "Shape of Z:"
       ]
      },
      {
       "output_type": "stream",
       "stream": "stdout",
       "text": [
        " (100, 7)\n",
        "At iteration 493 : Kplus is 3 , alpha is 0.413827682281\n",
        "Shape of Z:"
       ]
      },
      {
       "output_type": "stream",
       "stream": "stdout",
       "text": [
        " (100, 6)\n",
        "At iteration 494 : Kplus is 2 , alpha is 0.670974124728\n",
        "Shape of Z:"
       ]
      },
      {
       "output_type": "stream",
       "stream": "stdout",
       "text": [
        " (100, 6)\n",
        "At iteration 495 : Kplus is 2 , alpha is 0.65835002498\n",
        "Shape of Z:"
       ]
      },
      {
       "output_type": "stream",
       "stream": "stdout",
       "text": [
        " (100, 6)\n",
        "At iteration 496 : Kplus is 2 , alpha is 0.211597178715\n",
        "Shape of Z:"
       ]
      },
      {
       "output_type": "stream",
       "stream": "stdout",
       "text": [
        " (100, 6)\n",
        "At iteration 497 : Kplus is 2 , alpha is 0.400244033739\n",
        "Shape of Z:"
       ]
      },
      {
       "output_type": "stream",
       "stream": "stdout",
       "text": [
        " (100, 6)\n",
        "At iteration 498 : Kplus is 2 , alpha is 0.228840974322\n",
        "Shape of Z:"
       ]
      },
      {
       "output_type": "stream",
       "stream": "stdout",
       "text": [
        " (100, 6)\n",
        "At iteration 499 : Kplus is 2 , alpha is 0.624403200036\n",
        "Shape of Z:"
       ]
      },
      {
       "output_type": "stream",
       "stream": "stdout",
       "text": [
        " (100, 6)\n",
        "At iteration 500 : Kplus is 2 , alpha is 0.853829245745\n",
        "Shape of Z:"
       ]
      },
      {
       "output_type": "stream",
       "stream": "stdout",
       "text": [
        " (100, 6)\n",
        "At iteration 501 : Kplus is 2 , alpha is 0.326983254724\n",
        "Shape of Z:"
       ]
      },
      {
       "output_type": "stream",
       "stream": "stdout",
       "text": [
        " (100, 6)\n",
        "At iteration 502 : Kplus is 2 , alpha is 0.634520173363\n",
        "Shape of Z:"
       ]
      },
      {
       "output_type": "stream",
       "stream": "stdout",
       "text": [
        " (100, 6)\n",
        "At iteration 503 : Kplus is 2 , alpha is 0.355917420618\n",
        "Shape of Z:"
       ]
      },
      {
       "output_type": "stream",
       "stream": "stdout",
       "text": [
        " (100, 6)\n",
        "At iteration 504 : Kplus is 2 , alpha is 0.76273907951\n",
        "Shape of Z:"
       ]
      },
      {
       "output_type": "stream",
       "stream": "stdout",
       "text": [
        " (100, 6)\n",
        "At iteration 505 : Kplus is 2 , alpha is 0.570083659609\n",
        "Shape of Z:"
       ]
      },
      {
       "output_type": "stream",
       "stream": "stdout",
       "text": [
        " (100, 6)\n",
        "At iteration 506 : Kplus is 2 , alpha is 0.917184985609\n",
        "Shape of Z:"
       ]
      },
      {
       "output_type": "stream",
       "stream": "stdout",
       "text": [
        " (100, 6)\n",
        "At iteration 507 : Kplus is 2 , alpha is 0.352576315726\n",
        "Shape of Z:"
       ]
      },
      {
       "output_type": "stream",
       "stream": "stdout",
       "text": [
        " (100, 6)\n",
        "At iteration 508 : Kplus is 2 , alpha is 0.533346571132\n",
        "Shape of Z:"
       ]
      },
      {
       "output_type": "stream",
       "stream": "stdout",
       "text": [
        " (100, 6)\n",
        "At iteration 509 : Kplus is 2 , alpha is 0.234454602835\n",
        "Shape of Z:"
       ]
      },
      {
       "output_type": "stream",
       "stream": "stdout",
       "text": [
        " (100, 6)\n",
        "At iteration 510 : Kplus is 2 , alpha is 0.629384606138\n",
        "Shape of Z:"
       ]
      },
      {
       "output_type": "stream",
       "stream": "stdout",
       "text": [
        " (100, 6)\n",
        "At iteration 511 : Kplus is 2 , alpha is 0.66561388272\n",
        "Shape of Z:"
       ]
      },
      {
       "output_type": "stream",
       "stream": "stdout",
       "text": [
        " (100, 6)\n",
        "At iteration 512 : Kplus is 2 , alpha is 0.543151268357\n",
        "Shape of Z:"
       ]
      },
      {
       "output_type": "stream",
       "stream": "stdout",
       "text": [
        " (100, 6)\n",
        "At iteration 513 : Kplus is 2 , alpha is 0.65949312268\n",
        "Shape of Z:"
       ]
      },
      {
       "output_type": "stream",
       "stream": "stdout",
       "text": [
        " (100, 6)\n",
        "At iteration 514 : Kplus is 2 , alpha is 0.254667221204\n",
        "Shape of Z:"
       ]
      },
      {
       "output_type": "stream",
       "stream": "stdout",
       "text": [
        " (100, 6)\n",
        "At iteration 515 : Kplus is 2 , alpha is 0.114546224791\n",
        "Shape of Z:"
       ]
      },
      {
       "output_type": "stream",
       "stream": "stdout",
       "text": [
        " (100, 6)\n",
        "At iteration 516 : Kplus is 2 , alpha is 0.512235973302\n",
        "Shape of Z:"
       ]
      },
      {
       "output_type": "stream",
       "stream": "stdout",
       "text": [
        " (100, 7)\n",
        "At iteration 517 : Kplus is 3 , alpha is 0.743825969518\n",
        "Shape of Z:"
       ]
      },
      {
       "output_type": "stream",
       "stream": "stdout",
       "text": [
        " (100, 6)\n",
        "At iteration 518 : Kplus is 2 , alpha is 0.527642204182\n",
        "Shape of Z:"
       ]
      },
      {
       "output_type": "stream",
       "stream": "stdout",
       "text": [
        " (100, 6)\n",
        "At iteration 519 : Kplus is 2 , alpha is 0.507214951527\n",
        "Shape of Z:"
       ]
      },
      {
       "output_type": "stream",
       "stream": "stdout",
       "text": [
        " (100, 6)\n",
        "At iteration 520 : Kplus is 2 , alpha is 0.524516609115\n",
        "Shape of Z:"
       ]
      },
      {
       "output_type": "stream",
       "stream": "stdout",
       "text": [
        " (100, 6)\n",
        "At iteration 521 : Kplus is 2 , alpha is 0.474533132789\n",
        "Shape of Z:"
       ]
      },
      {
       "output_type": "stream",
       "stream": "stdout",
       "text": [
        " (100, 6)\n",
        "At iteration 522 : Kplus is 2 , alpha is 0.882511243424\n",
        "Shape of Z:"
       ]
      },
      {
       "output_type": "stream",
       "stream": "stdout",
       "text": [
        " (100, 12)\n",
        "At iteration 523 : Kplus is 8 , alpha is 0.712212795865\n",
        "Shape of Z:"
       ]
      },
      {
       "output_type": "stream",
       "stream": "stdout",
       "text": [
        " (100, 18)\n",
        "At iteration 524 : Kplus is 14 , alpha is 2.9483390629\n",
        "Shape of Z:"
       ]
      },
      {
       "output_type": "stream",
       "stream": "stdout",
       "text": [
        " (100, 24)\n",
        "At iteration 525 : Kplus is 20 , alpha is 3.70643629454\n",
        "Shape of Z:"
       ]
      },
      {
       "output_type": "stream",
       "stream": "stdout",
       "text": [
        " (100, 29)\n",
        "At iteration 526 : Kplus is 26 , alpha is 3.47608003083\n",
        "Shape of Z:"
       ]
      },
      {
       "output_type": "stream",
       "stream": "stdout",
       "text": [
        " (100, 22)\n",
        "At iteration 527 : Kplus is 18 , alpha is 1.9414967438\n",
        "Shape of Z:"
       ]
      },
      {
       "output_type": "stream",
       "stream": "stdout",
       "text": [
        " (100, 17)\n",
        "At iteration 528 : Kplus is 13 , alpha is 2.05631213597\n",
        "Shape of Z:"
       ]
      },
      {
       "output_type": "stream",
       "stream": "stdout",
       "text": [
        " (100, 21)\n",
        "At iteration 529 : Kplus is 17 , alpha is 3.20121132945\n",
        "Shape of Z:"
       ]
      },
      {
       "output_type": "stream",
       "stream": "stdout",
       "text": [
        " (100, 20)\n",
        "At iteration 530 : Kplus is 16 , alpha is 2.11435756779\n",
        "Shape of Z:"
       ]
      },
      {
       "output_type": "stream",
       "stream": "stdout",
       "text": [
        " (100, 11)\n",
        "At iteration 531 : Kplus is 7 , alpha is 1.75494540353\n",
        "Shape of Z:"
       ]
      },
      {
       "output_type": "stream",
       "stream": "stdout",
       "text": [
        " (100, 13)\n",
        "At iteration 532 : Kplus is 9 , alpha is 1.63466564554\n",
        "Shape of Z:"
       ]
      },
      {
       "output_type": "stream",
       "stream": "stdout",
       "text": [
        " (100, 12)\n",
        "At iteration 533 : Kplus is 8 , alpha is 1.84040724545\n",
        "Shape of Z:"
       ]
      },
      {
       "output_type": "stream",
       "stream": "stdout",
       "text": [
        " (100, 12)\n",
        "At iteration 534 : Kplus is 8 , alpha is 1.33594648163\n",
        "Shape of Z:"
       ]
      },
      {
       "output_type": "stream",
       "stream": "stdout",
       "text": [
        " (100, 8)\n",
        "At iteration 535 : Kplus is 4 , alpha is 0.538877849116\n",
        "Shape of Z:"
       ]
      },
      {
       "output_type": "stream",
       "stream": "stdout",
       "text": [
        " (100, 9)\n",
        "At iteration 536 : Kplus is 5 , alpha is 0.794678337831\n",
        "Shape of Z:"
       ]
      },
      {
       "output_type": "stream",
       "stream": "stdout",
       "text": [
        " (100, 9)\n",
        "At iteration 537 : Kplus is 5 , alpha is 0.527716254359\n",
        "Shape of Z:"
       ]
      },
      {
       "output_type": "stream",
       "stream": "stdout",
       "text": [
        " (100, 6)\n",
        "At iteration 538 : Kplus is 2 , alpha is 0.418926580575\n",
        "Shape of Z:"
       ]
      },
      {
       "output_type": "stream",
       "stream": "stdout",
       "text": [
        " (100, 6)\n",
        "At iteration 539 : Kplus is 2 , alpha is 0.0335551984111\n",
        "Shape of Z:"
       ]
      },
      {
       "output_type": "stream",
       "stream": "stdout",
       "text": [
        " (100, 6)\n",
        "At iteration 540 : Kplus is 2 , alpha is 0.706337944509\n",
        "Shape of Z:"
       ]
      },
      {
       "output_type": "stream",
       "stream": "stdout",
       "text": [
        " (100, 6)\n",
        "At iteration 541 : Kplus is 2 , alpha is 0.300875806078\n",
        "Shape of Z:"
       ]
      },
      {
       "output_type": "stream",
       "stream": "stdout",
       "text": [
        " (100, 6)\n",
        "At iteration 542 : Kplus is 2 , alpha is 0.118646018114\n",
        "Shape of Z:"
       ]
      },
      {
       "output_type": "stream",
       "stream": "stdout",
       "text": [
        " (100, 6)\n",
        "At iteration 543 : Kplus is 2 , alpha is 0.12554357395\n",
        "Shape of Z:"
       ]
      },
      {
       "output_type": "stream",
       "stream": "stdout",
       "text": [
        " (100, 6)\n",
        "At iteration 544 : Kplus is 2 , alpha is 0.349209471751\n",
        "Shape of Z:"
       ]
      },
      {
       "output_type": "stream",
       "stream": "stdout",
       "text": [
        " (100, 6)\n",
        "At iteration 545 : Kplus is 2 , alpha is 0.241557410736\n",
        "Shape of Z:"
       ]
      },
      {
       "output_type": "stream",
       "stream": "stdout",
       "text": [
        " (100, 6)\n",
        "At iteration 546 : Kplus is 2 , alpha is 0.127245251855\n",
        "Shape of Z:"
       ]
      },
      {
       "output_type": "stream",
       "stream": "stdout",
       "text": [
        " (100, 6)\n",
        "At iteration 547 : Kplus is 2 , alpha is 0.818637641757\n",
        "Shape of Z:"
       ]
      },
      {
       "output_type": "stream",
       "stream": "stdout",
       "text": [
        " (100, 6)\n",
        "At iteration 548 : Kplus is 2 , alpha is 0.566471935863\n",
        "Shape of Z:"
       ]
      },
      {
       "output_type": "stream",
       "stream": "stdout",
       "text": [
        " (100, 6)\n",
        "At iteration 549 : Kplus is 2 , alpha is 1.36373404625\n",
        "Shape of Z:"
       ]
      },
      {
       "output_type": "stream",
       "stream": "stdout",
       "text": [
        " (100, 6)\n",
        "At iteration 550 : Kplus is 2 , alpha is 0.599110487132\n",
        "Shape of Z:"
       ]
      },
      {
       "output_type": "stream",
       "stream": "stdout",
       "text": [
        " (100, 6)\n",
        "At iteration 551 : Kplus is 2 , alpha is 0.581150135299\n",
        "Shape of Z:"
       ]
      },
      {
       "output_type": "stream",
       "stream": "stdout",
       "text": [
        " (100, 6)\n",
        "At iteration 552 : Kplus is 2 , alpha is 0.256665537946\n",
        "Shape of Z:"
       ]
      },
      {
       "output_type": "stream",
       "stream": "stdout",
       "text": [
        " (100, 7)\n",
        "At iteration 553 : Kplus is 3 , alpha is 0.274378773616\n",
        "Shape of Z:"
       ]
      },
      {
       "output_type": "stream",
       "stream": "stdout",
       "text": [
        " (100, 6)\n",
        "At iteration 554 : Kplus is 2 , alpha is 0.473689706182\n",
        "Shape of Z:"
       ]
      },
      {
       "output_type": "stream",
       "stream": "stdout",
       "text": [
        " (100, 6)\n",
        "At iteration 555 : Kplus is 2 , alpha is 0.155568409294\n",
        "Shape of Z:"
       ]
      },
      {
       "output_type": "stream",
       "stream": "stdout",
       "text": [
        " (100, 6)\n",
        "At iteration 556 : Kplus is 2 , alpha is 0.405197441133\n",
        "Shape of Z:"
       ]
      },
      {
       "output_type": "stream",
       "stream": "stdout",
       "text": [
        " (100, 6)\n",
        "At iteration 557 : Kplus is 2 , alpha is 0.420400503838\n",
        "Shape of Z:"
       ]
      },
      {
       "output_type": "stream",
       "stream": "stdout",
       "text": [
        " (100, 6)\n",
        "At iteration 558 : Kplus is 2 , alpha is 0.340006028593\n",
        "Shape of Z:"
       ]
      },
      {
       "output_type": "stream",
       "stream": "stdout",
       "text": [
        " (100, 6)\n",
        "At iteration 559 : Kplus is 2 , alpha is 0.277752807867\n",
        "Shape of Z:"
       ]
      },
      {
       "output_type": "stream",
       "stream": "stdout",
       "text": [
        " (100, 6)\n",
        "At iteration 560 : Kplus is 2 , alpha is 1.15218336739\n",
        "Shape of Z:"
       ]
      },
      {
       "output_type": "stream",
       "stream": "stdout",
       "text": [
        " (100, 26)\n",
        "At iteration 561 : Kplus is 22 , alpha is 3.48133582296\n",
        "Shape of Z:"
       ]
      },
      {
       "output_type": "stream",
       "stream": "stdout",
       "text": [
        " (100, 20)\n",
        "At iteration 562 : Kplus is 16 , alpha is 2.31807453301\n",
        "Shape of Z:"
       ]
      },
      {
       "output_type": "stream",
       "stream": "stdout",
       "text": [
        " (100, 17)\n",
        "At iteration 563 : Kplus is 13 , alpha is 2.0231234229\n",
        "Shape of Z:"
       ]
      },
      {
       "output_type": "stream",
       "stream": "stdout",
       "text": [
        " (100, 22)\n",
        "At iteration 564 : Kplus is 18 , alpha is 2.8851879831\n",
        "Shape of Z:"
       ]
      },
      {
       "output_type": "stream",
       "stream": "stdout",
       "text": [
        " (100, 10)\n",
        "At iteration 565 : Kplus is 6 , alpha is 1.50755832749\n",
        "Shape of Z:"
       ]
      },
      {
       "output_type": "stream",
       "stream": "stdout",
       "text": [
        " (100, 10)\n",
        "At iteration 566 : Kplus is 6 , alpha is 1.34190032133\n",
        "Shape of Z:"
       ]
      },
      {
       "output_type": "stream",
       "stream": "stdout",
       "text": [
        " (100, 6)\n",
        "At iteration 567 : Kplus is 2 , alpha is 0.391340406842\n",
        "Shape of Z:"
       ]
      },
      {
       "output_type": "stream",
       "stream": "stdout",
       "text": [
        " (100, 6)\n",
        "At iteration 568 : Kplus is 2 , alpha is 0.316125953395\n",
        "Shape of Z:"
       ]
      },
      {
       "output_type": "stream",
       "stream": "stdout",
       "text": [
        " (100, 6)\n",
        "At iteration 569 : Kplus is 2 , alpha is 0.32171162676\n",
        "Shape of Z:"
       ]
      },
      {
       "output_type": "stream",
       "stream": "stdout",
       "text": [
        " (100, 6)\n",
        "At iteration 570 : Kplus is 2 , alpha is 0.356397460556\n",
        "Shape of Z:"
       ]
      },
      {
       "output_type": "stream",
       "stream": "stdout",
       "text": [
        " (100, 6)\n",
        "At iteration 571 : Kplus is 2 , alpha is 0.195946433066\n",
        "Shape of Z:"
       ]
      },
      {
       "output_type": "stream",
       "stream": "stdout",
       "text": [
        " (100, 6)\n",
        "At iteration 572 : Kplus is 2 , alpha is 0.700772778264\n",
        "Shape of Z:"
       ]
      },
      {
       "output_type": "stream",
       "stream": "stdout",
       "text": [
        " (100, 6)\n",
        "At iteration 573 : Kplus is 2 , alpha is 0.400327801128\n",
        "Shape of Z:"
       ]
      },
      {
       "output_type": "stream",
       "stream": "stdout",
       "text": [
        " (100, 6)\n",
        "At iteration 574 : Kplus is 2 , alpha is 0.645293298859\n",
        "Shape of Z:"
       ]
      },
      {
       "output_type": "stream",
       "stream": "stdout",
       "text": [
        " (100, 6)\n",
        "At iteration 575 : Kplus is 2 , alpha is 0.214579081616\n",
        "Shape of Z:"
       ]
      },
      {
       "output_type": "stream",
       "stream": "stdout",
       "text": [
        " (100, 6)\n",
        "At iteration 576 : Kplus is 2 , alpha is 0.590335015396\n",
        "Shape of Z:"
       ]
      },
      {
       "output_type": "stream",
       "stream": "stdout",
       "text": [
        " (100, 6)\n",
        "At iteration 577 : Kplus is 2 , alpha is 0.458489267669\n",
        "Shape of Z:"
       ]
      },
      {
       "output_type": "stream",
       "stream": "stdout",
       "text": [
        " (100, 6)\n",
        "At iteration 578 : Kplus is 2 , alpha is 0.587099786363\n",
        "Shape of Z:"
       ]
      },
      {
       "output_type": "stream",
       "stream": "stdout",
       "text": [
        " (100, 6)\n",
        "At iteration 579 : Kplus is 2 , alpha is 0.689317196647\n",
        "Shape of Z:"
       ]
      },
      {
       "output_type": "stream",
       "stream": "stdout",
       "text": [
        " (100, 6)\n",
        "At iteration 580 : Kplus is 2 , alpha is 1.10606853666\n",
        "Shape of Z:"
       ]
      },
      {
       "output_type": "stream",
       "stream": "stdout",
       "text": [
        " (100, 6)\n",
        "At iteration 581 : Kplus is 2 , alpha is 0.249211847037\n",
        "Shape of Z:"
       ]
      },
      {
       "output_type": "stream",
       "stream": "stdout",
       "text": [
        " (100, 6)\n",
        "At iteration 582 : Kplus is 2 , alpha is 0.17727636463\n",
        "Shape of Z:"
       ]
      },
      {
       "output_type": "stream",
       "stream": "stdout",
       "text": [
        " (100, 6)\n",
        "At iteration 583 : Kplus is 2 , alpha is 0.294456142172\n",
        "Shape of Z:"
       ]
      },
      {
       "output_type": "stream",
       "stream": "stdout",
       "text": [
        " (100, 6)\n",
        "At iteration 584 : Kplus is 2 , alpha is 0.39208891851\n",
        "Shape of Z:"
       ]
      },
      {
       "output_type": "stream",
       "stream": "stdout",
       "text": [
        " (100, 6)\n",
        "At iteration 585 : Kplus is 2 , alpha is 0.69011559481\n",
        "Shape of Z:"
       ]
      },
      {
       "output_type": "stream",
       "stream": "stdout",
       "text": [
        " (100, 7)\n",
        "At iteration 586 : Kplus is 3 , alpha is 0.644825652984\n",
        "Shape of Z:"
       ]
      },
      {
       "output_type": "stream",
       "stream": "stdout",
       "text": [
        " (100, 6)\n",
        "At iteration 587 : Kplus is 2 , alpha is 0.16679212853\n",
        "Shape of Z:"
       ]
      },
      {
       "output_type": "stream",
       "stream": "stdout",
       "text": [
        " (100, 6)\n",
        "At iteration 588 : Kplus is 2 , alpha is 0.291157747108\n",
        "Shape of Z:"
       ]
      },
      {
       "output_type": "stream",
       "stream": "stdout",
       "text": [
        " (100, 6)\n",
        "At iteration 589 : Kplus is 2 , alpha is 0.321548569734\n",
        "Shape of Z:"
       ]
      },
      {
       "output_type": "stream",
       "stream": "stdout",
       "text": [
        " (100, 6)\n",
        "At iteration 590 : Kplus is 2 , alpha is 0.2791563687\n",
        "Shape of Z:"
       ]
      },
      {
       "output_type": "stream",
       "stream": "stdout",
       "text": [
        " (100, 6)\n",
        "At iteration 591 : Kplus is 2 , alpha is 0.129897244958\n",
        "Shape of Z:"
       ]
      },
      {
       "output_type": "stream",
       "stream": "stdout",
       "text": [
        " (100, 6)\n",
        "At iteration 592 : Kplus is 2 , alpha is 0.286722040141\n",
        "Shape of Z:"
       ]
      },
      {
       "output_type": "stream",
       "stream": "stdout",
       "text": [
        " (100, 6)\n",
        "At iteration 593 : Kplus is 2 , alpha is 0.169946721467\n",
        "Shape of Z:"
       ]
      },
      {
       "output_type": "stream",
       "stream": "stdout",
       "text": [
        " (100, 6)\n",
        "At iteration 594 : Kplus is 2 , alpha is 0.838366855883\n",
        "Shape of Z:"
       ]
      },
      {
       "output_type": "stream",
       "stream": "stdout",
       "text": [
        " (100, 6)\n",
        "At iteration 595 : Kplus is 2 , alpha is 0.606400798287\n",
        "Shape of Z:"
       ]
      },
      {
       "output_type": "stream",
       "stream": "stdout",
       "text": [
        " (100, 6)\n",
        "At iteration 596 : Kplus is 2 , alpha is 0.582741273385\n",
        "Shape of Z:"
       ]
      },
      {
       "output_type": "stream",
       "stream": "stdout",
       "text": [
        " (100, 6)\n",
        "At iteration 597 : Kplus is 2 , alpha is 0.431564646073\n",
        "Shape of Z:"
       ]
      },
      {
       "output_type": "stream",
       "stream": "stdout",
       "text": [
        " (100, 6)\n",
        "At iteration 598 : Kplus is 2 , alpha is 0.22612150879\n",
        "Shape of Z:"
       ]
      },
      {
       "output_type": "stream",
       "stream": "stdout",
       "text": [
        " (100, 6)\n",
        "At iteration 599 : Kplus is 2 , alpha is 0.505069342744\n",
        "Shape of Z:"
       ]
      },
      {
       "output_type": "stream",
       "stream": "stdout",
       "text": [
        " (100, 6)\n",
        "At iteration 600 : Kplus is 2 , alpha is 0.4379347365\n",
        "Shape of Z:"
       ]
      },
      {
       "output_type": "stream",
       "stream": "stdout",
       "text": [
        " (100, 6)\n",
        "At iteration 601 : Kplus is 2 , alpha is 0.448828690804\n",
        "Shape of Z:"
       ]
      },
      {
       "output_type": "stream",
       "stream": "stdout",
       "text": [
        " (100, 6)\n",
        "At iteration 602 : Kplus is 2 , alpha is 0.49726505683\n",
        "Shape of Z:"
       ]
      },
      {
       "output_type": "stream",
       "stream": "stdout",
       "text": [
        " (100, 6)\n",
        "At iteration 603 : Kplus is 2 , alpha is 0.260822063157\n",
        "Shape of Z:"
       ]
      },
      {
       "output_type": "stream",
       "stream": "stdout",
       "text": [
        " (100, 6)\n",
        "At iteration 604 : Kplus is 2 , alpha is 0.676262477524\n",
        "Shape of Z:"
       ]
      },
      {
       "output_type": "stream",
       "stream": "stdout",
       "text": [
        " (100, 6)\n",
        "At iteration 605 : Kplus is 2 , alpha is 0.640643207914\n",
        "Shape of Z:"
       ]
      },
      {
       "output_type": "stream",
       "stream": "stdout",
       "text": [
        " (100, 6)\n",
        "At iteration 606 : Kplus is 2 , alpha is 1.09845628526\n",
        "Shape of Z:"
       ]
      },
      {
       "output_type": "stream",
       "stream": "stdout",
       "text": [
        " (100, 6)\n",
        "At iteration 607 : Kplus is 2 , alpha is 0.582211475679\n",
        "Shape of Z:"
       ]
      },
      {
       "output_type": "stream",
       "stream": "stdout",
       "text": [
        " (100, 6)\n",
        "At iteration 608 : Kplus is 2 , alpha is 0.682744625831\n",
        "Shape of Z:"
       ]
      },
      {
       "output_type": "stream",
       "stream": "stdout",
       "text": [
        " (100, 6)\n",
        "At iteration 609 : Kplus is 2 , alpha is 0.421366718554\n",
        "Shape of Z:"
       ]
      },
      {
       "output_type": "stream",
       "stream": "stdout",
       "text": [
        " (100, 6)\n",
        "At iteration 610 : Kplus is 2 , alpha is 0.36667673758\n",
        "Shape of Z:"
       ]
      },
      {
       "output_type": "stream",
       "stream": "stdout",
       "text": [
        " (100, 6)\n",
        "At iteration 611 : Kplus is 2 , alpha is 0.22108716396\n",
        "Shape of Z:"
       ]
      },
      {
       "output_type": "stream",
       "stream": "stdout",
       "text": [
        " (100, 6)\n",
        "At iteration 612 : Kplus is 2 , alpha is 0.377447919436\n",
        "Shape of Z:"
       ]
      },
      {
       "output_type": "stream",
       "stream": "stdout",
       "text": [
        " (100, 6)\n",
        "At iteration 613 : Kplus is 2 , alpha is 0.676370561884\n",
        "Shape of Z:"
       ]
      },
      {
       "output_type": "stream",
       "stream": "stdout",
       "text": [
        " (100, 6)\n",
        "At iteration 614 : Kplus is 2 , alpha is 0.763223335303\n",
        "Shape of Z:"
       ]
      },
      {
       "output_type": "stream",
       "stream": "stdout",
       "text": [
        " (100, 6)\n",
        "At iteration 615 : Kplus is 2 , alpha is 0.680220072566\n",
        "Shape of Z:"
       ]
      },
      {
       "output_type": "stream",
       "stream": "stdout",
       "text": [
        " (100, 6)\n",
        "At iteration 616 : Kplus is 2 , alpha is 0.420142190634\n",
        "Shape of Z:"
       ]
      },
      {
       "output_type": "stream",
       "stream": "stdout",
       "text": [
        " (100, 6)\n",
        "At iteration 617 : Kplus is 2 , alpha is 0.321564767522\n",
        "Shape of Z:"
       ]
      },
      {
       "output_type": "stream",
       "stream": "stdout",
       "text": [
        " (100, 6)\n",
        "At iteration 618 : Kplus is 2 , alpha is 0.641387225858\n",
        "Shape of Z:"
       ]
      },
      {
       "output_type": "stream",
       "stream": "stdout",
       "text": [
        " (100, 6)\n",
        "At iteration 619 : Kplus is 2 , alpha is 0.823386998263\n",
        "Shape of Z:"
       ]
      },
      {
       "output_type": "stream",
       "stream": "stdout",
       "text": [
        " (100, 7)\n",
        "At iteration 620 : Kplus is 3 , alpha is 0.966137334137\n",
        "Shape of Z:"
       ]
      },
      {
       "output_type": "stream",
       "stream": "stdout",
       "text": [
        " (100, 6)\n",
        "At iteration 621 : Kplus is 2 , alpha is 0.369637882932\n",
        "Shape of Z:"
       ]
      },
      {
       "output_type": "stream",
       "stream": "stdout",
       "text": [
        " (100, 6)\n",
        "At iteration 622 : Kplus is 2 , alpha is 0.352713183007\n",
        "Shape of Z:"
       ]
      },
      {
       "output_type": "stream",
       "stream": "stdout",
       "text": [
        " (100, 6)\n",
        "At iteration 623 : Kplus is 2 , alpha is 0.679685675754\n",
        "Shape of Z:"
       ]
      },
      {
       "output_type": "stream",
       "stream": "stdout",
       "text": [
        " (100, 6)\n",
        "At iteration 624 : Kplus is 2 , alpha is 0.92221877407\n",
        "Shape of Z:"
       ]
      },
      {
       "output_type": "stream",
       "stream": "stdout",
       "text": [
        " (100, 6)\n",
        "At iteration 625 : Kplus is 2 , alpha is 1.29911043994\n",
        "Shape of Z:"
       ]
      },
      {
       "output_type": "stream",
       "stream": "stdout",
       "text": [
        " (100, 6)\n",
        "At iteration 626 : Kplus is 2 , alpha is 0.740095433637\n",
        "Shape of Z:"
       ]
      },
      {
       "output_type": "stream",
       "stream": "stdout",
       "text": [
        " (100, 6)\n",
        "At iteration 627 : Kplus is 2 , alpha is 0.751938966616\n",
        "Shape of Z:"
       ]
      },
      {
       "output_type": "stream",
       "stream": "stdout",
       "text": [
        " (100, 6)\n",
        "At iteration 628 : Kplus is 2 , alpha is 0.732320093326\n",
        "Shape of Z:"
       ]
      },
      {
       "output_type": "stream",
       "stream": "stdout",
       "text": [
        " (100, 6)\n",
        "At iteration 629 : Kplus is 2 , alpha is 0.282213647539\n",
        "Shape of Z:"
       ]
      },
      {
       "output_type": "stream",
       "stream": "stdout",
       "text": [
        " (100, 6)\n",
        "At iteration 630 : Kplus is 2 , alpha is 0.181426110011\n",
        "Shape of Z:"
       ]
      },
      {
       "output_type": "stream",
       "stream": "stdout",
       "text": [
        " (100, 6)\n",
        "At iteration 631 : Kplus is 2 , alpha is 0.53397175046\n",
        "Shape of Z:"
       ]
      },
      {
       "output_type": "stream",
       "stream": "stdout",
       "text": [
        " (100, 6)\n",
        "At iteration 632 : Kplus is 2 , alpha is 0.729248705227\n",
        "Shape of Z:"
       ]
      },
      {
       "output_type": "stream",
       "stream": "stdout",
       "text": [
        " (100, 6)\n",
        "At iteration 633 : Kplus is 2 , alpha is 1.14061183365\n",
        "Shape of Z:"
       ]
      },
      {
       "output_type": "stream",
       "stream": "stdout",
       "text": [
        " (100, 6)\n",
        "At iteration 634 : Kplus is 2 , alpha is 0.222901137847\n",
        "Shape of Z:"
       ]
      },
      {
       "output_type": "stream",
       "stream": "stdout",
       "text": [
        " (100, 6)\n",
        "At iteration 635 : Kplus is 2 , alpha is 0.123708070814\n",
        "Shape of Z:"
       ]
      },
      {
       "output_type": "stream",
       "stream": "stdout",
       "text": [
        " (100, 6)\n",
        "At iteration 636 : Kplus is 2 , alpha is 0.492656812471\n",
        "Shape of Z:"
       ]
      },
      {
       "output_type": "stream",
       "stream": "stdout",
       "text": [
        " (100, 6)\n",
        "At iteration 637 : Kplus is 2 , alpha is 0.185340593639\n",
        "Shape of Z:"
       ]
      },
      {
       "output_type": "stream",
       "stream": "stdout",
       "text": [
        " (100, 6)\n",
        "At iteration 638 : Kplus is 2 , alpha is 0.0858221058853\n",
        "Shape of Z:"
       ]
      },
      {
       "output_type": "stream",
       "stream": "stdout",
       "text": [
        " (100, 6)\n",
        "At iteration 639 : Kplus is 2 , alpha is 0.138886930241\n",
        "Shape of Z:"
       ]
      },
      {
       "output_type": "stream",
       "stream": "stdout",
       "text": [
        " (100, 6)\n",
        "At iteration 640 : Kplus is 2 , alpha is 0.575118966734\n",
        "Shape of Z:"
       ]
      },
      {
       "output_type": "stream",
       "stream": "stdout",
       "text": [
        " (100, 6)\n",
        "At iteration 641 : Kplus is 2 , alpha is 0.626888088315\n",
        "Shape of Z:"
       ]
      },
      {
       "output_type": "stream",
       "stream": "stdout",
       "text": [
        " (100, 6)\n",
        "At iteration 642 : Kplus is 2 , alpha is 0.335086985117\n",
        "Shape of Z:"
       ]
      },
      {
       "output_type": "stream",
       "stream": "stdout",
       "text": [
        " (100, 6)\n",
        "At iteration 643 : Kplus is 2 , alpha is 0.320158127901\n",
        "Shape of Z:"
       ]
      },
      {
       "output_type": "stream",
       "stream": "stdout",
       "text": [
        " (100, 6)\n",
        "At iteration 644 : Kplus is 2 , alpha is 0.127579640623\n",
        "Shape of Z:"
       ]
      },
      {
       "output_type": "stream",
       "stream": "stdout",
       "text": [
        " (100, 6)\n",
        "At iteration 645 : Kplus is 2 , alpha is 1.20791663914\n",
        "Shape of Z:"
       ]
      },
      {
       "output_type": "stream",
       "stream": "stdout",
       "text": [
        " (100, 6)\n",
        "At iteration 646 : Kplus is 2 , alpha is 1.49601848573\n",
        "Shape of Z:"
       ]
      },
      {
       "output_type": "stream",
       "stream": "stdout",
       "text": [
        " (100, 6)\n",
        "At iteration 647 : Kplus is 2 , alpha is 0.336921795755\n",
        "Shape of Z:"
       ]
      },
      {
       "output_type": "stream",
       "stream": "stdout",
       "text": [
        " (100, 6)\n",
        "At iteration 648 : Kplus is 2 , alpha is 0.294461539732\n",
        "Shape of Z:"
       ]
      },
      {
       "output_type": "stream",
       "stream": "stdout",
       "text": [
        " (100, 6)\n",
        "At iteration 649 : Kplus is 2 , alpha is 0.579899458633\n",
        "Shape of Z:"
       ]
      },
      {
       "output_type": "stream",
       "stream": "stdout",
       "text": [
        " (100, 6)\n",
        "At iteration 650 : Kplus is 2 , alpha is 0.417101096699\n",
        "Shape of Z:"
       ]
      },
      {
       "output_type": "stream",
       "stream": "stdout",
       "text": [
        " (100, 6)\n",
        "At iteration 651 : Kplus is 2 , alpha is 0.272090616723\n",
        "Shape of Z:"
       ]
      },
      {
       "output_type": "stream",
       "stream": "stdout",
       "text": [
        " (100, 6)\n",
        "At iteration 652 : Kplus is 2 , alpha is 0.508922426239\n",
        "Shape of Z:"
       ]
      },
      {
       "output_type": "stream",
       "stream": "stdout",
       "text": [
        " (100, 6)\n",
        "At iteration 653 : Kplus is 2 , alpha is 0.206331675231\n",
        "Shape of Z:"
       ]
      },
      {
       "output_type": "stream",
       "stream": "stdout",
       "text": [
        " (100, 6)\n",
        "At iteration 654 : Kplus is 2 , alpha is 0.179501232576\n",
        "Shape of Z:"
       ]
      },
      {
       "output_type": "stream",
       "stream": "stdout",
       "text": [
        " (100, 6)\n",
        "At iteration 655 : Kplus is 2 , alpha is 0.365240597906\n",
        "Shape of Z:"
       ]
      },
      {
       "output_type": "stream",
       "stream": "stdout",
       "text": [
        " (100, 6)\n",
        "At iteration 656 : Kplus is 2 , alpha is 0.559265610501\n",
        "Shape of Z:"
       ]
      },
      {
       "output_type": "stream",
       "stream": "stdout",
       "text": [
        " (100, 6)\n",
        "At iteration 657 : Kplus is 2 , alpha is 0.198435137125\n",
        "Shape of Z:"
       ]
      },
      {
       "output_type": "stream",
       "stream": "stdout",
       "text": [
        " (100, 6)\n",
        "At iteration 658 : Kplus is 2 , alpha is 0.452954914196\n",
        "Shape of Z:"
       ]
      },
      {
       "output_type": "stream",
       "stream": "stdout",
       "text": [
        " (100, 6)\n",
        "At iteration 659 : Kplus is 2 , alpha is 0.263028921269\n",
        "Shape of Z:"
       ]
      },
      {
       "output_type": "stream",
       "stream": "stdout",
       "text": [
        " (100, 6)\n",
        "At iteration 660 : Kplus is 2 , alpha is 1.01242563412\n",
        "Shape of Z:"
       ]
      },
      {
       "output_type": "stream",
       "stream": "stdout",
       "text": [
        " (100, 6)\n",
        "At iteration 661 : Kplus is 2 , alpha is 0.894096264738\n",
        "Shape of Z:"
       ]
      },
      {
       "output_type": "stream",
       "stream": "stdout",
       "text": [
        " (100, 6)\n",
        "At iteration 662 : Kplus is 2 , alpha is 0.605115385777\n",
        "Shape of Z:"
       ]
      },
      {
       "output_type": "stream",
       "stream": "stdout",
       "text": [
        " (100, 6)\n",
        "At iteration 663 : Kplus is 2 , alpha is 0.557580684625\n",
        "Shape of Z:"
       ]
      },
      {
       "output_type": "stream",
       "stream": "stdout",
       "text": [
        " (100, 6)\n",
        "At iteration 664 : Kplus is 2 , alpha is 0.784518077049\n",
        "Shape of Z:"
       ]
      },
      {
       "output_type": "stream",
       "stream": "stdout",
       "text": [
        " (100, 6)\n",
        "At iteration 665 : Kplus is 2 , alpha is 0.797488417891\n",
        "Shape of Z:"
       ]
      },
      {
       "output_type": "stream",
       "stream": "stdout",
       "text": [
        " (100, 6)\n",
        "At iteration 666 : Kplus is 2 , alpha is 0.372307000036\n",
        "Shape of Z:"
       ]
      },
      {
       "output_type": "stream",
       "stream": "stdout",
       "text": [
        " (100, 6)\n",
        "At iteration 667 : Kplus is 2 , alpha is 0.328188639259\n",
        "Shape of Z:"
       ]
      },
      {
       "output_type": "stream",
       "stream": "stdout",
       "text": [
        " (100, 6)\n",
        "At iteration 668 : Kplus is 2 , alpha is 0.550198273368\n",
        "Shape of Z:"
       ]
      },
      {
       "output_type": "stream",
       "stream": "stdout",
       "text": [
        " (100, 6)\n",
        "At iteration 669 : Kplus is 2 , alpha is 0.671296467754\n",
        "Shape of Z:"
       ]
      },
      {
       "output_type": "stream",
       "stream": "stdout",
       "text": [
        " (100, 6)\n",
        "At iteration 670 : Kplus is 2 , alpha is 0.24648548608\n",
        "Shape of Z:"
       ]
      },
      {
       "output_type": "stream",
       "stream": "stdout",
       "text": [
        " (100, 6)\n",
        "At iteration 671 : Kplus is 2 , alpha is 0.414189517116\n",
        "Shape of Z:"
       ]
      },
      {
       "output_type": "stream",
       "stream": "stdout",
       "text": [
        " (100, 6)\n",
        "At iteration 672 : Kplus is 2 , alpha is 0.330876843378\n",
        "Shape of Z:"
       ]
      },
      {
       "output_type": "stream",
       "stream": "stdout",
       "text": [
        " (100, 6)\n",
        "At iteration 673 : Kplus is 2 , alpha is 0.242696275512\n",
        "Shape of Z:"
       ]
      },
      {
       "output_type": "stream",
       "stream": "stdout",
       "text": [
        " (100, 6)\n",
        "At iteration 674 : Kplus is 2 , alpha is 0.069203645223\n",
        "Shape of Z:"
       ]
      },
      {
       "output_type": "stream",
       "stream": "stdout",
       "text": [
        " (100, 6)\n",
        "At iteration 675 : Kplus is 2 , alpha is 0.475912263462\n",
        "Shape of Z:"
       ]
      },
      {
       "output_type": "stream",
       "stream": "stdout",
       "text": [
        " (100, 6)\n",
        "At iteration 676 : Kplus is 2 , alpha is 0.6095234009\n",
        "Shape of Z:"
       ]
      },
      {
       "output_type": "stream",
       "stream": "stdout",
       "text": [
        " (100, 6)\n",
        "At iteration 677 : Kplus is 2 , alpha is 0.303455199663\n",
        "Shape of Z:"
       ]
      },
      {
       "output_type": "stream",
       "stream": "stdout",
       "text": [
        " (100, 6)\n",
        "At iteration 678 : Kplus is 2 , alpha is 0.531096110806\n",
        "Shape of Z:"
       ]
      },
      {
       "output_type": "stream",
       "stream": "stdout",
       "text": [
        " (100, 6)\n",
        "At iteration 679 : Kplus is 2 , alpha is 0.170957507961\n",
        "Shape of Z:"
       ]
      },
      {
       "output_type": "stream",
       "stream": "stdout",
       "text": [
        " (100, 6)\n",
        "At iteration 680 : Kplus is 2 , alpha is 0.390846356419\n",
        "Shape of Z:"
       ]
      },
      {
       "output_type": "stream",
       "stream": "stdout",
       "text": [
        " (100, 6)\n",
        "At iteration 681 : Kplus is 2 , alpha is 0.54936488374\n",
        "Shape of Z:"
       ]
      },
      {
       "output_type": "stream",
       "stream": "stdout",
       "text": [
        " (100, 6)\n",
        "At iteration 682 : Kplus is 2 , alpha is 0.164610618954\n",
        "Shape of Z:"
       ]
      },
      {
       "output_type": "stream",
       "stream": "stdout",
       "text": [
        " (100, 6)\n",
        "At iteration 683 : Kplus is 2 , alpha is 0.657757220783\n",
        "Shape of Z:"
       ]
      },
      {
       "output_type": "stream",
       "stream": "stdout",
       "text": [
        " (100, 6)\n",
        "At iteration 684 : Kplus is 2 , alpha is 0.614098317756\n",
        "Shape of Z:"
       ]
      },
      {
       "output_type": "stream",
       "stream": "stdout",
       "text": [
        " (100, 6)\n",
        "At iteration 685 : Kplus is 2 , alpha is 0.307662815445\n",
        "Shape of Z:"
       ]
      },
      {
       "output_type": "stream",
       "stream": "stdout",
       "text": [
        " (100, 6)\n",
        "At iteration 686 : Kplus is 2 , alpha is 0.537672332105\n",
        "Shape of Z:"
       ]
      },
      {
       "output_type": "stream",
       "stream": "stdout",
       "text": [
        " (100, 6)\n",
        "At iteration 687 : Kplus is 2 , alpha is 1.0997860297\n",
        "Shape of Z:"
       ]
      },
      {
       "output_type": "stream",
       "stream": "stdout",
       "text": [
        " (100, 6)\n",
        "At iteration 688 : Kplus is 2 , alpha is 0.279910847598\n",
        "Shape of Z:"
       ]
      },
      {
       "output_type": "stream",
       "stream": "stdout",
       "text": [
        " (100, 6)\n",
        "At iteration 689 : Kplus is 2 , alpha is 0.378895529553\n",
        "Shape of Z:"
       ]
      },
      {
       "output_type": "stream",
       "stream": "stdout",
       "text": [
        " (100, 6)\n",
        "At iteration 690 : Kplus is 2 , alpha is 0.705845347562\n",
        "Shape of Z:"
       ]
      },
      {
       "output_type": "stream",
       "stream": "stdout",
       "text": [
        " (100, 6)\n",
        "At iteration 691 : Kplus is 2 , alpha is 1.32369892204\n",
        "Shape of Z:"
       ]
      },
      {
       "output_type": "stream",
       "stream": "stdout",
       "text": [
        " (100, 6)\n",
        "At iteration 692 : Kplus is 2 , alpha is 0.177066451474\n",
        "Shape of Z:"
       ]
      },
      {
       "output_type": "stream",
       "stream": "stdout",
       "text": [
        " (100, 6)\n",
        "At iteration 693 : Kplus is 2 , alpha is 1.45978539688\n",
        "Shape of Z:"
       ]
      },
      {
       "output_type": "stream",
       "stream": "stdout",
       "text": [
        " (100, 6)\n",
        "At iteration 694 : Kplus is 2 , alpha is 0.859664950067\n",
        "Shape of Z:"
       ]
      },
      {
       "output_type": "stream",
       "stream": "stdout",
       "text": [
        " (100, 6)\n",
        "At iteration 695 : Kplus is 2 , alpha is 0.316241006648\n",
        "Shape of Z:"
       ]
      },
      {
       "output_type": "stream",
       "stream": "stdout",
       "text": [
        " (100, 6)\n",
        "At iteration 696 : Kplus is 2 , alpha is 0.496311901685\n",
        "Shape of Z:"
       ]
      },
      {
       "output_type": "stream",
       "stream": "stdout",
       "text": [
        " (100, 6)\n",
        "At iteration 697 : Kplus is 2 , alpha is 0.294282182082\n",
        "Shape of Z:"
       ]
      },
      {
       "output_type": "stream",
       "stream": "stdout",
       "text": [
        " (100, 6)\n",
        "At iteration 698 : Kplus is 2 , alpha is 0.14449239639\n",
        "Shape of Z:"
       ]
      },
      {
       "output_type": "stream",
       "stream": "stdout",
       "text": [
        " (100, 6)\n",
        "At iteration 699 : Kplus is 2 , alpha is 0.420321877037\n",
        "Shape of Z:"
       ]
      },
      {
       "output_type": "stream",
       "stream": "stdout",
       "text": [
        " (100, 6)\n",
        "At iteration 700 : Kplus is 2 , alpha is 0.635149724115\n",
        "Shape of Z:"
       ]
      },
      {
       "output_type": "stream",
       "stream": "stdout",
       "text": [
        " (100, 6)\n",
        "At iteration 701 : Kplus is 2 , alpha is 0.577773954047\n",
        "Shape of Z:"
       ]
      },
      {
       "output_type": "stream",
       "stream": "stdout",
       "text": [
        " (100, 6)\n",
        "At iteration 702 : Kplus is 2 , alpha is 0.391646819012\n",
        "Shape of Z:"
       ]
      },
      {
       "output_type": "stream",
       "stream": "stdout",
       "text": [
        " (100, 6)\n",
        "At iteration 703 : Kplus is 2 , alpha is 0.239641441789\n",
        "Shape of Z:"
       ]
      },
      {
       "output_type": "stream",
       "stream": "stdout",
       "text": [
        " (100, 6)\n",
        "At iteration 704 : Kplus is 2 , alpha is 0.384594284995\n",
        "Shape of Z:"
       ]
      },
      {
       "output_type": "stream",
       "stream": "stdout",
       "text": [
        " (100, 6)\n",
        "At iteration 705 : Kplus is 2 , alpha is 0.8071574943\n",
        "Shape of Z:"
       ]
      },
      {
       "output_type": "stream",
       "stream": "stdout",
       "text": [
        " (100, 6)\n",
        "At iteration 706 : Kplus is 2 , alpha is 0.295313267529\n",
        "Shape of Z:"
       ]
      },
      {
       "output_type": "stream",
       "stream": "stdout",
       "text": [
        " (100, 6)\n",
        "At iteration 707 : Kplus is 2 , alpha is 0.188145854796\n",
        "Shape of Z:"
       ]
      },
      {
       "output_type": "stream",
       "stream": "stdout",
       "text": [
        " (100, 6)\n",
        "At iteration 708 : Kplus is 2 , alpha is 0.786660662578\n",
        "Shape of Z:"
       ]
      },
      {
       "output_type": "stream",
       "stream": "stdout",
       "text": [
        " (100, 6)\n",
        "At iteration 709 : Kplus is 2 , alpha is 0.163687402355\n",
        "Shape of Z:"
       ]
      },
      {
       "output_type": "stream",
       "stream": "stdout",
       "text": [
        " (100, 6)\n",
        "At iteration 710 : Kplus is 2 , alpha is 0.159420325301\n",
        "Shape of Z:"
       ]
      },
      {
       "output_type": "stream",
       "stream": "stdout",
       "text": [
        " (100, 6)\n",
        "At iteration 711 : Kplus is 2 , alpha is 0.652048940298\n",
        "Shape of Z:"
       ]
      },
      {
       "output_type": "stream",
       "stream": "stdout",
       "text": [
        " (100, 6)\n",
        "At iteration 712 : Kplus is 2 , alpha is 0.76363529599\n",
        "Shape of Z:"
       ]
      },
      {
       "output_type": "stream",
       "stream": "stdout",
       "text": [
        " (100, 6)\n",
        "At iteration 713 : Kplus is 2 , alpha is 0.280923611664\n",
        "Shape of Z:"
       ]
      },
      {
       "output_type": "stream",
       "stream": "stdout",
       "text": [
        " (100, 6)\n",
        "At iteration 714 : Kplus is 2 , alpha is 0.311729750706\n",
        "Shape of Z:"
       ]
      },
      {
       "output_type": "stream",
       "stream": "stdout",
       "text": [
        " (100, 6)\n",
        "At iteration 715 : Kplus is 2 , alpha is 0.195085056247\n",
        "Shape of Z:"
       ]
      },
      {
       "output_type": "stream",
       "stream": "stdout",
       "text": [
        " (100, 6)\n",
        "At iteration 716 : Kplus is 2 , alpha is 0.469566499015\n",
        "Shape of Z:"
       ]
      },
      {
       "output_type": "stream",
       "stream": "stdout",
       "text": [
        " (100, 6)\n",
        "At iteration 717 : Kplus is 2 , alpha is 0.362847651567\n",
        "Shape of Z:"
       ]
      },
      {
       "output_type": "stream",
       "stream": "stdout",
       "text": [
        " (100, 6)\n",
        "At iteration 718 : Kplus is 2 , alpha is 0.264439181212\n",
        "Shape of Z:"
       ]
      },
      {
       "output_type": "stream",
       "stream": "stdout",
       "text": [
        " (100, 6)\n",
        "At iteration 719 : Kplus is 2 , alpha is 0.850879233963\n",
        "Shape of Z:"
       ]
      },
      {
       "output_type": "stream",
       "stream": "stdout",
       "text": [
        " (100, 6)\n",
        "At iteration 720 : Kplus is 2 , alpha is 0.147905279926\n",
        "Shape of Z:"
       ]
      },
      {
       "output_type": "stream",
       "stream": "stdout",
       "text": [
        " (100, 6)\n",
        "At iteration 721 : Kplus is 2 , alpha is 0.33928548532\n",
        "Shape of Z:"
       ]
      },
      {
       "output_type": "stream",
       "stream": "stdout",
       "text": [
        " (100, 6)\n",
        "At iteration 722 : Kplus is 2 , alpha is 0.477166597148\n",
        "Shape of Z:"
       ]
      },
      {
       "output_type": "stream",
       "stream": "stdout",
       "text": [
        " (100, 6)\n",
        "At iteration 723 : Kplus is 2 , alpha is 0.479668048412\n",
        "Shape of Z:"
       ]
      },
      {
       "output_type": "stream",
       "stream": "stdout",
       "text": [
        " (100, 6)\n",
        "At iteration 724 : Kplus is 2 , alpha is 0.30231745487\n",
        "Shape of Z:"
       ]
      },
      {
       "output_type": "stream",
       "stream": "stdout",
       "text": [
        " (100, 6)\n",
        "At iteration 725 : Kplus is 2 , alpha is 1.11399563873\n",
        "Shape of Z:"
       ]
      },
      {
       "output_type": "stream",
       "stream": "stdout",
       "text": [
        " (100, 6)\n",
        "At iteration 726 : Kplus is 2 , alpha is 0.314199756472\n",
        "Shape of Z:"
       ]
      },
      {
       "output_type": "stream",
       "stream": "stdout",
       "text": [
        " (100, 6)\n",
        "At iteration 727 : Kplus is 2 , alpha is 0.0841777053596\n",
        "Shape of Z:"
       ]
      },
      {
       "output_type": "stream",
       "stream": "stdout",
       "text": [
        " (100, 6)\n",
        "At iteration 728 : Kplus is 2 , alpha is 0.725299656213\n",
        "Shape of Z:"
       ]
      },
      {
       "output_type": "stream",
       "stream": "stdout",
       "text": [
        " (100, 6)\n",
        "At iteration 729 : Kplus is 2 , alpha is 0.254122924583\n",
        "Shape of Z:"
       ]
      },
      {
       "output_type": "stream",
       "stream": "stdout",
       "text": [
        " (100, 6)\n",
        "At iteration 730 : Kplus is 2 , alpha is 0.282400753211\n",
        "Shape of Z:"
       ]
      },
      {
       "output_type": "stream",
       "stream": "stdout",
       "text": [
        " (100, 6)\n",
        "At iteration 731 : Kplus is 2 , alpha is 0.200509510038\n",
        "Shape of Z:"
       ]
      },
      {
       "output_type": "stream",
       "stream": "stdout",
       "text": [
        " (100, 6)\n",
        "At iteration 732 : Kplus is 2 , alpha is 0.148050968007\n",
        "Shape of Z:"
       ]
      },
      {
       "output_type": "stream",
       "stream": "stdout",
       "text": [
        " (100, 6)\n",
        "At iteration 733 : Kplus is 2 , alpha is 1.32558423751\n",
        "Shape of Z:"
       ]
      },
      {
       "output_type": "stream",
       "stream": "stdout",
       "text": [
        " (100, 6)\n",
        "At iteration 734 : Kplus is 2 , alpha is 0.382897785958\n",
        "Shape of Z:"
       ]
      },
      {
       "output_type": "stream",
       "stream": "stdout",
       "text": [
        " (100, 6)\n",
        "At iteration 735 : Kplus is 2 , alpha is 0.630360615887\n",
        "Shape of Z:"
       ]
      },
      {
       "output_type": "stream",
       "stream": "stdout",
       "text": [
        " (100, 6)\n",
        "At iteration 736 : Kplus is 2 , alpha is 0.697613866179\n",
        "Shape of Z:"
       ]
      },
      {
       "output_type": "stream",
       "stream": "stdout",
       "text": [
        " (100, 6)\n",
        "At iteration 737 : Kplus is 2 , alpha is 0.710069863617\n",
        "Shape of Z:"
       ]
      },
      {
       "output_type": "stream",
       "stream": "stdout",
       "text": [
        " (100, 6)\n",
        "At iteration 738 : Kplus is 2 , alpha is 0.508962570396\n",
        "Shape of Z:"
       ]
      },
      {
       "output_type": "stream",
       "stream": "stdout",
       "text": [
        " (100, 6)\n",
        "At iteration 739 : Kplus is 2 , alpha is 0.437539796877\n",
        "Shape of Z:"
       ]
      },
      {
       "output_type": "stream",
       "stream": "stdout",
       "text": [
        " (100, 6)\n",
        "At iteration 740 : Kplus is 2 , alpha is 0.243650576714\n",
        "Shape of Z:"
       ]
      },
      {
       "output_type": "stream",
       "stream": "stdout",
       "text": [
        " (100, 6)\n",
        "At iteration 741 : Kplus is 2 , alpha is 0.0867112174274\n",
        "Shape of Z:"
       ]
      },
      {
       "output_type": "stream",
       "stream": "stdout",
       "text": [
        " (100, 6)\n",
        "At iteration 742 : Kplus is 2 , alpha is 0.515983867168\n",
        "Shape of Z:"
       ]
      },
      {
       "output_type": "stream",
       "stream": "stdout",
       "text": [
        " (100, 6)\n",
        "At iteration 743 : Kplus is 2 , alpha is 0.150038780486\n",
        "Shape of Z:"
       ]
      },
      {
       "output_type": "stream",
       "stream": "stdout",
       "text": [
        " (100, 6)\n",
        "At iteration 744 : Kplus is 2 , alpha is 0.627910293448\n",
        "Shape of Z:"
       ]
      },
      {
       "output_type": "stream",
       "stream": "stdout",
       "text": [
        " (100, 6)\n",
        "At iteration 745 : Kplus is 2 , alpha is 0.278603804712\n",
        "Shape of Z:"
       ]
      },
      {
       "output_type": "stream",
       "stream": "stdout",
       "text": [
        " (100, 6)\n",
        "At iteration 746 : Kplus is 2 , alpha is 0.358781671004\n",
        "Shape of Z:"
       ]
      },
      {
       "output_type": "stream",
       "stream": "stdout",
       "text": [
        " (100, 6)\n",
        "At iteration 747 : Kplus is 2 , alpha is 0.304670211475\n",
        "Shape of Z:"
       ]
      },
      {
       "output_type": "stream",
       "stream": "stdout",
       "text": [
        " (100, 6)\n",
        "At iteration 748 : Kplus is 2 , alpha is 0.934340286488\n",
        "Shape of Z:"
       ]
      },
      {
       "output_type": "stream",
       "stream": "stdout",
       "text": [
        " (100, 6)\n",
        "At iteration 749 : Kplus is 2 , alpha is 0.216778749167\n",
        "Shape of Z:"
       ]
      },
      {
       "output_type": "stream",
       "stream": "stdout",
       "text": [
        " (100, 6)\n",
        "At iteration 750 : Kplus is 2 , alpha is 0.744174347342\n",
        "Shape of Z:"
       ]
      },
      {
       "output_type": "stream",
       "stream": "stdout",
       "text": [
        " (100, 6)\n",
        "At iteration 751 : Kplus is 2 , alpha is 0.365942965918\n",
        "Shape of Z:"
       ]
      },
      {
       "output_type": "stream",
       "stream": "stdout",
       "text": [
        " (100, 6)\n",
        "At iteration 752 : Kplus is 2 , alpha is 1.15661409226\n",
        "Shape of Z:"
       ]
      },
      {
       "output_type": "stream",
       "stream": "stdout",
       "text": [
        " (100, 6)\n",
        "At iteration 753 : Kplus is 2 , alpha is 0.230078759137\n"
       ]
      },
      {
       "ename": "KeyboardInterrupt",
       "evalue": "",
       "output_type": "pyerr",
       "traceback": [
        "\u001b[1;31m---------------------------------------------------------------------------\u001b[0m\n\u001b[1;31mKeyboardInterrupt\u001b[0m                         Traceback (most recent call last)",
        "\u001b[1;32m<ipython-input-13-e0348b957764>\u001b[0m in \u001b[0;36m<module>\u001b[1;34m()\u001b[0m\n\u001b[0;32m     50\u001b[0m             \u001b[0mP\u001b[0m \u001b[1;33m=\u001b[0m \u001b[0mnp\u001b[0m\u001b[1;33m.\u001b[0m\u001b[0mzeros\u001b[0m\u001b[1;33m(\u001b[0m\u001b[1;36m2\u001b[0m\u001b[1;33m)\u001b[0m\u001b[1;33m\u001b[0m\u001b[0m\n\u001b[0;32m     51\u001b[0m             \u001b[0mZ\u001b[0m\u001b[1;33m[\u001b[0m\u001b[0mi\u001b[0m\u001b[1;33m,\u001b[0m\u001b[0mk\u001b[0m\u001b[1;33m]\u001b[0m \u001b[1;33m=\u001b[0m \u001b[1;36m1\u001b[0m\u001b[1;33m\u001b[0m\u001b[0m\n\u001b[1;32m---> 52\u001b[1;33m             \u001b[0mP\u001b[0m\u001b[1;33m[\u001b[0m\u001b[1;36m1\u001b[0m\u001b[1;33m]\u001b[0m \u001b[1;33m=\u001b[0m \u001b[0mlog_likelihood\u001b[0m\u001b[1;33m(\u001b[0m\u001b[0mX\u001b[0m\u001b[1;33m,\u001b[0m\u001b[0mZ\u001b[0m\u001b[1;33m[\u001b[0m\u001b[1;33m:\u001b[0m\u001b[1;33m,\u001b[0m\u001b[1;36m0\u001b[0m\u001b[1;33m:\u001b[0m\u001b[0mKplus\u001b[0m\u001b[1;33m]\u001b[0m\u001b[1;33m,\u001b[0m\u001b[0mM1\u001b[0m\u001b[1;33m,\u001b[0m\u001b[0msigmaA\u001b[0m\u001b[1;33m,\u001b[0m\u001b[0msigmaX\u001b[0m\u001b[1;33m,\u001b[0m\u001b[0mKplus\u001b[0m\u001b[1;33m,\u001b[0m\u001b[0mN\u001b[0m\u001b[1;33m,\u001b[0m\u001b[0mD\u001b[0m\u001b[1;33m)\u001b[0m \u001b[1;33m+\u001b[0m \u001b[0mnp\u001b[0m\u001b[1;33m.\u001b[0m\u001b[0mlog\u001b[0m\u001b[1;33m(\u001b[0m\u001b[0msum\u001b[0m\u001b[1;33m(\u001b[0m\u001b[0mZ\u001b[0m\u001b[1;33m[\u001b[0m\u001b[1;33m:\u001b[0m\u001b[1;33m,\u001b[0m\u001b[0mk\u001b[0m\u001b[1;33m]\u001b[0m\u001b[1;33m)\u001b[0m\u001b[1;33m-\u001b[0m\u001b[0mZ\u001b[0m\u001b[1;33m[\u001b[0m\u001b[0mi\u001b[0m\u001b[1;33m,\u001b[0m\u001b[0mk\u001b[0m\u001b[1;33m]\u001b[0m\u001b[1;33m)\u001b[0m \u001b[1;33m-\u001b[0m \u001b[0mnp\u001b[0m\u001b[1;33m.\u001b[0m\u001b[0mlog\u001b[0m\u001b[1;33m(\u001b[0m\u001b[0mN\u001b[0m\u001b[1;33m)\u001b[0m\u001b[1;33m\u001b[0m\u001b[0m\n\u001b[0m\u001b[0;32m     53\u001b[0m             \u001b[0mZ\u001b[0m\u001b[1;33m[\u001b[0m\u001b[0mi\u001b[0m\u001b[1;33m,\u001b[0m\u001b[0mk\u001b[0m\u001b[1;33m]\u001b[0m \u001b[1;33m=\u001b[0m \u001b[1;36m0\u001b[0m\u001b[1;33m\u001b[0m\u001b[0m\n\u001b[0;32m     54\u001b[0m             \u001b[0mP\u001b[0m\u001b[1;33m[\u001b[0m\u001b[1;36m0\u001b[0m\u001b[1;33m]\u001b[0m \u001b[1;33m=\u001b[0m \u001b[0mlog_likelihood\u001b[0m\u001b[1;33m(\u001b[0m\u001b[0mX\u001b[0m\u001b[1;33m,\u001b[0m\u001b[0mZ\u001b[0m\u001b[1;33m[\u001b[0m\u001b[1;33m:\u001b[0m\u001b[1;33m,\u001b[0m\u001b[1;36m0\u001b[0m\u001b[1;33m:\u001b[0m\u001b[0mKplus\u001b[0m\u001b[1;33m]\u001b[0m\u001b[1;33m,\u001b[0m\u001b[0mM0\u001b[0m\u001b[1;33m,\u001b[0m\u001b[0msigmaA\u001b[0m\u001b[1;33m,\u001b[0m\u001b[0msigmaX\u001b[0m\u001b[1;33m,\u001b[0m\u001b[0mKplus\u001b[0m\u001b[1;33m,\u001b[0m\u001b[0mN\u001b[0m\u001b[1;33m,\u001b[0m\u001b[0mD\u001b[0m\u001b[1;33m)\u001b[0m \u001b[1;33m+\u001b[0m \u001b[0mnp\u001b[0m\u001b[1;33m.\u001b[0m\u001b[0mlog\u001b[0m\u001b[1;33m(\u001b[0m\u001b[0mN\u001b[0m\u001b[1;33m-\u001b[0m\u001b[0msum\u001b[0m\u001b[1;33m(\u001b[0m\u001b[0mZ\u001b[0m\u001b[1;33m[\u001b[0m\u001b[1;33m:\u001b[0m\u001b[1;33m,\u001b[0m\u001b[0mk\u001b[0m\u001b[1;33m]\u001b[0m\u001b[1;33m)\u001b[0m\u001b[1;33m)\u001b[0m \u001b[1;33m-\u001b[0m \u001b[0mnp\u001b[0m\u001b[1;33m.\u001b[0m\u001b[0mlog\u001b[0m\u001b[1;33m(\u001b[0m\u001b[0mN\u001b[0m\u001b[1;33m)\u001b[0m\u001b[1;33m\u001b[0m\u001b[0m\n",
        "\u001b[1;32m<ipython-input-12-899a2214594e>\u001b[0m in \u001b[0;36mlog_likelihood\u001b[1;34m(X, Z, M, sigmaA, sigmaX, Kplus, N, D)\u001b[0m\n\u001b[0;32m      5\u001b[0m \u001b[1;33m\u001b[0m\u001b[0m\n\u001b[0;32m      6\u001b[0m     \u001b[0mmiddle\u001b[0m \u001b[1;33m=\u001b[0m \u001b[0mnp\u001b[0m\u001b[1;33m.\u001b[0m\u001b[0midentity\u001b[0m\u001b[1;33m(\u001b[0m\u001b[0mN\u001b[0m\u001b[1;33m)\u001b[0m \u001b[1;33m-\u001b[0m \u001b[0mnp\u001b[0m\u001b[1;33m.\u001b[0m\u001b[0mdot\u001b[0m\u001b[1;33m(\u001b[0m\u001b[0mnp\u001b[0m\u001b[1;33m.\u001b[0m\u001b[0mdot\u001b[0m\u001b[1;33m(\u001b[0m\u001b[0mZ\u001b[0m\u001b[1;33m,\u001b[0m \u001b[0mM\u001b[0m\u001b[1;33m)\u001b[0m\u001b[1;33m,\u001b[0m\u001b[0mZ\u001b[0m\u001b[1;33m.\u001b[0m\u001b[0mT\u001b[0m\u001b[1;33m)\u001b[0m\u001b[1;33m\u001b[0m\u001b[0m\n\u001b[1;32m----> 7\u001b[1;33m     \u001b[0mtrace\u001b[0m \u001b[1;33m=\u001b[0m \u001b[0mnp\u001b[0m\u001b[1;33m.\u001b[0m\u001b[0mtrace\u001b[0m\u001b[1;33m(\u001b[0m\u001b[0mnp\u001b[0m\u001b[1;33m.\u001b[0m\u001b[0mdot\u001b[0m\u001b[1;33m(\u001b[0m\u001b[0mnp\u001b[0m\u001b[1;33m.\u001b[0m\u001b[0mdot\u001b[0m\u001b[1;33m(\u001b[0m\u001b[0mX\u001b[0m\u001b[1;33m.\u001b[0m\u001b[0mT\u001b[0m\u001b[1;33m,\u001b[0m\u001b[0mmiddle\u001b[0m\u001b[1;33m)\u001b[0m\u001b[1;33m,\u001b[0m\u001b[0mX\u001b[0m\u001b[1;33m)\u001b[0m\u001b[1;33m)\u001b[0m\u001b[1;33m\u001b[0m\u001b[0m\n\u001b[0m\u001b[0;32m      8\u001b[0m     \u001b[0mkernel\u001b[0m \u001b[1;33m=\u001b[0m \u001b[1;33m-\u001b[0m\u001b[1;36m0.5\u001b[0m\u001b[1;33m*\u001b[0m\u001b[0mnp\u001b[0m\u001b[1;33m.\u001b[0m\u001b[0mreciprocal\u001b[0m\u001b[1;33m(\u001b[0m\u001b[0msigmaX\u001b[0m\u001b[1;33m**\u001b[0m\u001b[1;36m2\u001b[0m\u001b[1;33m)\u001b[0m\u001b[1;33m*\u001b[0m\u001b[0mtrace\u001b[0m\u001b[1;33m\u001b[0m\u001b[0m\n\u001b[0;32m      9\u001b[0m \u001b[1;33m\u001b[0m\u001b[0m\n",
        "\u001b[1;31mKeyboardInterrupt\u001b[0m: "
       ]
      }
     ],
     "prompt_number": 13
    },
    {
     "cell_type": "code",
     "collapsed": false,
     "input": [
      "print sigmaX_arr"
     ],
     "language": "python",
     "metadata": {},
     "outputs": [
      {
       "output_type": "stream",
       "stream": "stdout",
       "text": [
        "[ 1.      0.9843  0.9843  0.969   0.9634  0.9634  0.9634  0.9634  0.9607\n",
        "  0.9607  0.9607  0.9607  0.9607  0.9607  0.9384  0.9384  0.9209  0.9063\n",
        "  0.9063  0.9063  0.9044  0.9044  0.887   0.887   0.887   0.8643  0.8643\n",
        "  0.8643  0.8643  0.8643  0.8406  0.8367  0.8367  0.8219  0.8219  0.8141\n",
        "  0.8035  0.7935  0.7935  0.7935  0.7935  0.7935  0.7745  0.7745  0.7521\n",
        "  0.7521  0.7521  0.7511  0.7511  0.7422  0.738   0.7247  0.7247  0.7247\n",
        "  0.7247  0.7229  0.7229  0.7229  0.7212  0.6988  0.6767  0.6767  0.702\n",
        "  0.7016  0.7016  0.7016  0.7016  0.7016  0.7016  0.7309  0.7309  0.7607\n",
        "  0.7995  0.849   0.849   0.849   0.849   0.8389  0.8164  0.8018  0.8018\n",
        "  0.783   0.783   0.783   0.7688  0.7471  0.7471  0.7471  0.7223  0.7209\n",
        "  0.7021  0.7491  0.7491  0.7491  0.734   0.7144  0.6971  0.6786  0.6759\n",
        "  0.6759  0.7107  0.7107  0.7107  0.7107  0.7491  0.7491  0.7491  0.7491\n",
        "  0.7939  0.7939  0.8294  0.8294  0.8785  0.8785  0.8785  0.8629  0.8629\n",
        "  0.8385  0.8343  0.8196  0.8196  0.8187  0.8123  0.8105  0.7908  0.7887\n",
        "  0.7857  0.7618  0.7618  0.7428  0.7428  0.7265  0.7015  0.6933  0.6797\n",
        "  0.6797  0.6797  0.7291  0.7783  0.8159  0.8159  0.8159  0.8145  0.8145\n",
        "  0.8145  0.8031  0.7985  0.7857  0.778   0.778   0.7549  0.7366  0.7354\n",
        "  0.7191  0.7117  0.7117  0.7117  0.7117  0.7117  0.7117  0.7117  0.7525\n",
        "  0.7525  0.7525  0.7525  0.7525  0.7989  0.7989  0.7989  0.7989  0.7906\n",
        "  0.7906  0.7745  0.7646  0.7574  0.7574  0.7574  0.7574  0.7574  0.7337\n",
        "  0.7129  0.7129  0.7129  0.7129  0.7085  0.6937  0.6937  0.6937  0.6937\n",
        "  0.7372  0.7172  0.6952  0.6952  0.6952  0.7422  0.7793  0.8075  0.8513\n",
        "  0.8513  0.8513  0.8513  0.8513  0.8513  0.8513  0.8314  0.8107  0.8107\n",
        "  0.8052  0.8052  0.7805  0.7805  0.7556  0.7556  0.7495  0.7409  0.7409\n",
        "  0.7159  0.7159  0.6961  0.6961  0.6961  0.6899  0.6899  0.7151  0.7489\n",
        "  0.7489  0.7489  0.7812  0.8177  0.8552  0.844   0.8381  0.8266  0.8266\n",
        "  0.8266  0.8266  0.8263  0.8213  0.8076  0.8076  0.8076  0.7883  0.7883\n",
        "  0.7639  0.7541  0.7541  0.7541  0.7541  0.7476  0.7365  0.7365  0.7222\n",
        "  0.7022  0.7022  0.7022  0.7022  0.7354  0.7354  0.7354  0.767   0.767\n",
        "  0.7974  0.7974  0.7934  0.7934  0.7934  0.7934  0.7934  0.7766  0.767\n",
        "  0.747   0.724   0.724   0.7127  0.7127  0.7127  0.6998  0.6998  0.6961\n",
        "  0.694   0.694   0.7257  0.7257  0.7592  0.746   0.746   0.7357  0.78\n",
        "  0.7749  0.7647  0.7621  0.7463  0.7463  0.7457  0.7421  0.7421  0.7421\n",
        "  0.7421  0.7421  0.7345  0.7148  0.7059  0.7059  0.6984  0.6984  0.6984\n",
        "  0.6984  0.7448  0.785   0.8138  0.8579  0.8579  0.8579  0.9077  0.9077\n",
        "  0.9077  0.8881  0.8881  0.8704  0.8611  0.8611  0.8611  0.8611  0.8438\n",
        "  0.8438  0.831   0.831   0.831   0.8162  0.8162  0.8162  0.801   0.801\n",
        "  0.7909  0.7909  0.7773  0.7773  0.7557  0.7557  0.7449  0.7449  0.7449\n",
        "  0.7449  0.7262  0.7262  0.7262  0.7262  0.7214  0.7214  0.7022  0.695\n",
        "  0.6866  0.6866  0.6866  0.6866  0.6659  0.6974  0.6974  0.6974  0.6974\n",
        "  0.6974  0.7422  0.7422  0.7695  0.804   0.8523  0.8523  0.8389  0.8223\n",
        "  0.8145  0.7914  0.7914  0.7914  0.7914  0.7914  0.7866  0.7642  0.7642\n",
        "  0.7622  0.7556  0.7556  0.7556  0.732   0.732   0.7072  0.7016  0.7016\n",
        "  0.6947  0.6947  0.6947  0.6947  0.6947  0.6947  0.673   0.6623  0.6402\n",
        "  0.6657  0.6657  0.693   0.693   0.693   0.693   0.6787  0.6787  0.6787\n",
        "  0.7055  0.7435  0.7435  0.7435  0.7401  0.7216  0.7216  0.7045  0.7045\n",
        "  0.6955  0.6919  0.6919  0.6711  0.7182  0.7547  0.8031  0.8508  0.8508\n",
        "  0.8508  0.827   0.8095  0.8095  0.7871  0.7707  0.7707  0.7707  0.7707\n",
        "  0.7707  0.7707  0.7664  0.7631  0.7631  0.7538  0.7538  0.7423  0.7369\n",
        "  0.7311  0.7311  0.7311  0.7311  0.7311  0.7311  0.7159  0.7159  0.7115\n",
        "  0.7115  0.7115  0.6938  0.6938  0.6938  0.6838  0.6838  0.6838  0.6838\n",
        "  0.6838  0.6838  0.7155  0.7556  0.7556  0.7556  0.7935  0.8303  0.8303\n",
        "  0.8303  0.8303  0.8116  0.8025  0.7972  0.783   0.7734  0.7587  0.7537\n",
        "  0.7423  0.7387  0.7197  0.7146  0.7146  0.6925  0.6925  0.6925  0.733\n",
        "  0.733   0.7712  0.7712  0.7712  0.7712  0.7712  0.8086  0.8517  0.8517\n",
        "  0.849   0.8468  0.8335  0.8245  0.8043  0.8043  0.8017  0.8017  0.7915\n",
        "  0.7915  0.7806  0.7806  0.7806  0.7765  0.7705  0.7705  0.7705  0.7684\n",
        "  0.7615  0.7615  0.7448  0.7448  0.7448  0.7266  0.7266  0.7151  0.7151\n",
        "  0.6987  0.6974  0.6974  0.6974  0.7274  0.7274  0.7274  0.7274  0.7582\n",
        "  0.7582  0.7582  0.7582  0.7582  0.7582  0.7887  0.7887  0.8155  0.8155\n",
        "  0.791   0.7671  0.7671  0.7492  0.7401  0.7401  0.7401  0.7279  0.7279\n",
        "  0.7146  0.7146  0.7146  0.6993  0.6993  0.6842  0.6842  0.6842  0.6842\n",
        "  0.6741  0.6741  0.6532  0.6893  0.6893  0.6893  0.7356  0.7356  0.7804\n",
        "  0.7804  0.7713  0.7531  0.7531  0.7443  0.7443  0.7347  0.7347  0.7336\n",
        "  0.713   0.713   0.6963  0.6877  0.6806  0.6655  0.6655  0.6655  0.6655\n",
        "  0.6655  0.7147  0.7147  0.7032  0.7032  0.6833  0.6833  0.6833  0.6833\n",
        "  0.6833  0.6833  0.6725  0.6725  0.6582  0.7007  0.6764  0.6764  0.6584\n",
        "  0.6584  0.656   0.656   0.656   0.6956  0.6725  0.6725  0.6725  0.6725\n",
        "  0.6725  0.6725  0.6725  0.6725  0.6697  0.6697  0.6467  0.6418  0.6879\n",
        "  0.6879  0.6863  0.6863  0.6621  0.6621  0.6621  0.6568  0.6568  0.6568\n",
        "  0.6555  0.6555  0.6538  0.6538  0.6538  0.6865  0.672   0.672   0.66\n",
        "  0.66    0.66    0.7009  0.7009  0.6896  0.6896  0.6896  0.6891  0.6729\n",
        "  0.6729  0.6729  0.6644  0.6644  0.6644  0.6644  0.6644  0.6601  0.6601\n",
        "  0.6485  0.6485  0.6485  0.6485  0.6872  0.6847  0.6847  0.6847  0.6847\n",
        "  0.6847  0.6847  0.6847  0.6847  0.6606  0.6978  0.6882  0.6733  0.6733\n",
        "  0.6593  0.6593  0.6593  0.6593  0.6593  0.6593  0.6593  0.647   0.647\n",
        "  0.647   0.647   0.6721  0.6661  0.7024  0.6833  0.6742  0.6738  0.6738\n",
        "  0.6738  0.7012  0.6976  0.6976  0.6968  0.6912  0.6912  0.6884  0.6884\n",
        "  0.6833  0.6833  0.6801  0.6801  0.6801  0.6621  0.6621  0.657   0.657\n",
        "  0.6534  0.6534  0.6534  0.6534  0.6534  0.688   0.688   0.688   0.688\n",
        "  0.688   0.684   0.6809  0.6794  0.6794  0.6794  0.6794  0.6794  0.6791\n",
        "  0.6791  0.6554  0.6554  0.6554  0.6554  0.6554  0.6819  0.6819  0.6819\n",
        "  0.6819  0.6767  0.6717  0.6576  0.6576  0.6576  0.6971  0.6843  0.6843\n",
        "  0.6594  0.6594  0.658   0.658   0.658   0.658   0.658   0.      0.      0.\n",
        "  0.      0.      0.      0.      0.      0.      0.      0.      0.      0.\n",
        "  0.      0.      0.      0.      0.      0.      0.      0.      0.      0.\n",
        "  0.      0.      0.      0.      0.      0.      0.      0.      0.      0.\n",
        "  0.      0.      0.      0.      0.      0.      0.      0.      0.      0.\n",
        "  0.      0.      0.      0.      0.      0.      0.      0.      0.      0.\n",
        "  0.      0.      0.      0.      0.      0.      0.      0.      0.      0.\n",
        "  0.      0.      0.      0.      0.      0.      0.      0.      0.      0.\n",
        "  0.      0.      0.      0.      0.      0.      0.      0.      0.      0.\n",
        "  0.      0.      0.      0.      0.      0.      0.      0.      0.      0.\n",
        "  0.      0.      0.      0.      0.      0.      0.      0.      0.      0.\n",
        "  0.      0.      0.      0.      0.      0.      0.      0.      0.      0.\n",
        "  0.      0.      0.      0.      0.      0.      0.      0.      0.      0.\n",
        "  0.      0.      0.      0.      0.      0.      0.      0.      0.      0.\n",
        "  0.      0.      0.      0.      0.      0.      0.      0.      0.      0.\n",
        "  0.      0.      0.      0.      0.      0.      0.      0.      0.      0.\n",
        "  0.      0.      0.      0.      0.      0.      0.      0.      0.      0.\n",
        "  0.      0.      0.      0.      0.      0.      0.      0.      0.      0.\n",
        "  0.      0.      0.      0.      0.      0.      0.      0.      0.      0.\n",
        "  0.      0.      0.      0.      0.      0.      0.      0.      0.      0.\n",
        "  0.      0.      0.      0.      0.      0.      0.      0.      0.      0.\n",
        "  0.      0.      0.      0.      0.      0.      0.      0.      0.      0.\n",
        "  0.      0.      0.      0.      0.      0.      0.      0.      0.      0.\n",
        "  0.      0.      0.      0.      0.      0.      0.      0.      0.      0.\n",
        "  0.      0.      0.      0.      0.      0.      0.      0.      0.      0.\n",
        "  0.      0.      0.    ]\n"
       ]
      }
     ],
     "prompt_number": 15
    },
    {
     "cell_type": "code",
     "collapsed": false,
     "input": [
      "# Setup the array\n",
      "Z_arr = np.zeros((mcmc,N,K_inf))\n",
      "Kplus_arr = np.zeros(mcmc)\n",
      "sigmaX_arr = np.zeros(mcmc)\n",
      "sigmaA_arr = np.zeros(mcmc)\n",
      "alpha_arr = np.zeros(mcmc)\n",
      "rX_accept = 0\n",
      "rA_accept = 0\n",
      "\n",
      "figure\n",
      "hist(chain.K(201:10:1000),3); colormap(gray)\n",
      "\n",
      "figure\n",
      "Z=reshape(chain.Z(1000,:,1:4),100,4);\n",
      "sigma_x=chain.sigma_X(1000);\n",
      "sigma_A=chain.sigma_A(1000);\n",
      "A_inf=(Z'*Z+(sigma_X/sigma_A)*eye(4))^-1*Z'*X;\n",
      "\n",
      "subplot(1,4,1); imagesc(reshape(A_inf(1,:),6,6)); colormap(gray); axis off\n",
      "subplot(1,4,2); imagesc(reshape(A_inf(2,:),6,6)); colormap(gray); axis off\n",
      "subplot(1,4,3); imagesc(reshape(A_inf(3,:),6,6)); colormap(gray); axis off\n",
      "subplot(1,4,4); imagesc(reshape(A_inf(4,:),6,6)); colormap(gray); axis off"
     ],
     "language": "python",
     "metadata": {},
     "outputs": []
    },
    {
     "cell_type": "code",
     "collapsed": false,
     "input": [
      "# Acceptance rate\n",
      "print \"rA accept:\",np.sum(rA_accept)/mcmc\n",
      "print \"rX accept:\",np.sum(rX_accept)/mcmc\n",
      "\n",
      "\n",
      "# np.sum(np.dot(Z_arr[400,:,:],A_arr[400,:,:]))\n",
      "# print Z_arr[400,:,:]"
     ],
     "language": "python",
     "metadata": {},
     "outputs": [
      {
       "output_type": "stream",
       "stream": "stdout",
       "text": [
        "rA accept: 0.009\n",
        "rX accept: 0.004\n"
       ]
      }
     ],
     "prompt_number": 125
    },
    {
     "cell_type": "heading",
     "level": 3,
     "metadata": {},
     "source": [
      "Gibbs Sampler -- Draft for Steps"
     ]
    },
    {
     "cell_type": "code",
     "collapsed": false,
     "input": [
      "# Step 5: Sample weight matrix A ~ N(0,sigmaA**2 I)\n",
      "A_new = stats.norm.rvs(loc=0,scale=sigmaA,size=(K,D))\n",
      "# Step 6: Sample the data X ~ N(ZA,sigmaX**2 I)\n",
      "X_new = stats.norm.rvs(loc=np.dot(Z,A),scale=sigmaX,size=(N,D))"
     ],
     "language": "python",
     "metadata": {},
     "outputs": [
      {
       "output_type": "stream",
       "stream": "stdout",
       "text": [
        "[-4542.4257]\n",
        "[-4618.9093]\n",
        "[-4542.4257]\n",
        "[-4542.4257]\n"
       ]
      }
     ],
     "prompt_number": 343
    },
    {
     "cell_type": "markdown",
     "metadata": {},
     "source": [
      "### Posterior Distribution Calculation\n",
      "\n",
      "Priors: $P(z_{ik}=1 | \\mathbf{z_{-i,k}}) = \\dfrac{m_{-i,k}+\\dfrac{\\alpha}{K}}{N+\\dfrac{\\alpha}{K}} \\rightarrow \\dfrac{m_{-i,k}}{N}$ as $K \\rightarrow \\infty$\n",
      "\n",
      "Likelihood: $\\mathbf{X}|(\\mathbf{Z},\\mathbf{A},\\mathbf{\\sigma_X}) \\sim \\text{Normal}(\\mathbf{ZA},\\Sigma_X = \\sigma_X^2\\mathbf{I})$\n",
      "\n",
      "i.e. $P(\\mathbf{X} | \\mathbf{Z}, \\sigma_X, \\sigma_A) = \\dfrac{1}{(2\\pi)^{ND/2} \\sigma_X^{(N-K)D} \\sigma_A^{KD} |\\mathbf{Z}^T\\mathbf{Z} + \\dfrac{\\sigma_X^2}{\\sigma_A^2}\\mathbf{I}|^{D/2}} \\exp\\{-\\dfrac{1}{2\\sigma^2_X} \\text{tr}(\\mathbf{X}^T(\\mathbf{I}-\\mathbf{Z}(\\mathbf{Z}^T\\mathbf{Z}+\\dfrac{\\sigma_X^2}{\\sigma_A^2}\\mathbf{I})^{-1})\\mathbf{Z}^T)\\mathbf{X}\\}$\n",
      "\n",
      "Full conditional distribution: $P(z_{ik} | \\mathbf{X,Z_{-i,k}},\\sigma_X, \\sigma_A) \\propto P(\\mathbf{X} | \\mathbf{Z},\\sigma_X, \\sigma_A) P(z_{ik} | \\mathbf{z_{-i,k}})$"
     ]
    }
   ],
   "metadata": {}
  }
 ]
}