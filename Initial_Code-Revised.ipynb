{
 "metadata": {
  "name": "",
  "signature": "sha256:81c2bd5ff12dd877d7f59f7f5ba25783aa428f9e76974b3eb27632ec9f380757"
 },
 "nbformat": 3,
 "nbformat_minor": 0,
 "worksheets": [
  {
   "cells": [
    {
     "cell_type": "heading",
     "level": 1,
     "metadata": {},
     "source": [
      "Initial Code Revised -- Indian Buffet Process (IBP)"
     ]
    },
    {
     "cell_type": "code",
     "collapsed": false,
     "input": [
      "from __future__ import division\n",
      "import os\n",
      "import sys\n",
      "import glob\n",
      "import matplotlib.pyplot as plt\n",
      "import numpy as np\n",
      "import pandas as pd\n",
      "%matplotlib inline\n",
      "%precision 4\n",
      "plt.style.use('ggplot')"
     ],
     "language": "python",
     "metadata": {},
     "outputs": [],
     "prompt_number": 1
    },
    {
     "cell_type": "code",
     "collapsed": false,
     "input": [
      "np.random.seed(1234)\n",
      "import scipy.stats as stats"
     ],
     "language": "python",
     "metadata": {},
     "outputs": [],
     "prompt_number": 2
    },
    {
     "cell_type": "markdown",
     "metadata": {},
     "source": [
      "### Indian Buffet Process (IBP): Steps\n",
      "\n",
      "- Step 1: First customer takes a Poisson($\\alpha$) of dishes\n",
      "- Step 2: The $i$th customer takes dish $k$ with probability $\\frac{m_k}{i}$, where $m_k$ is the number of previous customers who sampled that dish\n",
      "- Step 3: The $i$th customer tries a Poisson($\\frac{\\alpha}{i}$) number of new dishes\n",
      "- Storage: Binary matrix $\\mathbf{Z}$ with $N$ rows and infinite columns, where $z_{ik}$ = 1 if customer $i$ sampled the dish $k$\n",
      "- Probability: $P(z_{ik}=1 | \\mathbf{z_{-i,k}}) = \\dfrac{m_{-i,k}+\\dfrac{\\alpha}{K}}{N+\\dfrac{\\alpha}{K}} \\rightarrow \\dfrac{m_{-i,k}}{N}$ as $K \\rightarrow \\infty$\n",
      "\n",
      "Special note: This is JUST a prior, not something you put in the Gibbs sampler!"
     ]
    },
    {
     "cell_type": "code",
     "collapsed": false,
     "input": [
      "def IBP(N, alpha):\n",
      "    \"\"\"Indian Buffet Process (IBP) steps:\n",
      "    Input: N is the number of customers (objects, images); alpha is the only parameter;\n",
      "    Return: result is the binary matrix (prior); Kplus is the number of dishes (features)\"\"\"\n",
      "    result = np.zeros((N,1000))\n",
      "    \n",
      "    # Step 1: First customer takes a Poisson(alpha) of dishes\n",
      "    t = stats.poisson.rvs(alpha) # (set the random seed when calling the function)\n",
      "    if t > 0:\n",
      "        result[0,0:t] = 1\n",
      "    \n",
      "    # Kplus = the number of features for which m_k > 0 (m_k: the number of previous customers who sampled that dish)\n",
      "    Kplus = t\n",
      "    for i in range(1,N):\n",
      "        for k in range(Kplus):\n",
      "            # Step 2: The ith customer takes dish k with probability m_k/i\n",
      "            p = np.sum(result[0:(i+1),k])/(i+1) # this is a probability, so should be between 0 and 1\n",
      "            assert p <= 1 \n",
      "            assert p >= 0\n",
      "            if stats.uniform.rvs(0) < p:\n",
      "                result[i,k] = 1\n",
      "            else:\n",
      "                result[i,k] = 0\n",
      "                \n",
      "        # Step 3: The ith customer tries a Poisson(alpha/i) number of new dishes\n",
      "        t = stats.poisson.rvs(alpha/(i+1))\n",
      "        if t > 0:\n",
      "            result[i,Kplus:(Kplus+t)] = 1\n",
      "        Kplus += t\n",
      "    result = result[:,0:Kplus]\n",
      "    \n",
      "    return result, Kplus"
     ],
     "language": "python",
     "metadata": {},
     "outputs": [],
     "prompt_number": 3
    },
    {
     "cell_type": "markdown",
     "metadata": {},
     "source": [
      "### Indian Buffet Process (IBP): Testing\n",
      "\n",
      "Probability must be between 0 and 1: $ 0 \\leq \\dfrac{m_{-i,k}+\\dfrac{\\alpha}{K}}{N+\\dfrac{\\alpha}{K}}, \\dfrac{m_{-i,k}}{N} \\leq 1$\n",
      "\n",
      "This is equivalent to testing $m_{-i,k} \\leq N$"
     ]
    },
    {
     "cell_type": "code",
     "collapsed": false,
     "input": [
      "np.random.seed(12)\n",
      "N1 = 100\n",
      "alpha1 = 1.5\n",
      "\n",
      "result1, Kplus1 = IBP(N1,alpha1)\n",
      "print Kplus1\n",
      "\n",
      "print result1.shape"
     ],
     "language": "python",
     "metadata": {},
     "outputs": [
      {
       "output_type": "stream",
       "stream": "stdout",
       "text": [
        "5\n",
        "(100, 5)\n"
       ]
      }
     ],
     "prompt_number": 29
    },
    {
     "cell_type": "heading",
     "level": 1,
     "metadata": {},
     "source": [
      "Algorithm Application -- Linear-Gaussian Binary Latent Feature Models\n"
     ]
    },
    {
     "cell_type": "markdown",
     "metadata": {},
     "source": [
      "### Variables in Data (Images)\n",
      "\n",
      "$N = 100$ is the number of images (customers, objects)\n",
      "\n",
      "$D = 6 \\times 6 = 36$ is the length of vectors (dishes, features) for each image\n",
      "\n",
      "$K = 4$ is the number of basis images (latent or underlying variables)\n",
      "\n",
      "Each object $i$ has a $D$-dimensional vector of properties, named $x_i$\n",
      "\n",
      "- Generate images $X$ with the $K$ basis images, indicating which bases are used (each with probability 0.5)\n",
      "- Add white noises $\\text{Normal}(0,\\sigma_X^2 = 0.5)$ to these images"
     ]
    },
    {
     "cell_type": "code",
     "collapsed": false,
     "input": [
      "# Basis images\n",
      "import Image\n",
      "basis1 = np.array([[0,0,0,0,0,0],[0,0,0,0,0,0],[0,0,0,0,0,0],[0,1,0,0,0,0],[1,1,1,0,0,0],[0,1,0,0,0,0]])\n",
      "basis2 = np.array([[1,1,1,0,0,0],[1,0,1,0,0,0],[1,1,1,0,0,0],[0,0,0,0,0,0],[0,0,0,0,0,0],[0,0,0,0,0,0]])\n",
      "basis3 = np.array([[0,0,0,0,0,0],[0,0,0,0,0,0],[0,0,0,0,0,0],[0,0,0,0,0,1],[0,0,0,0,1,1],[0,0,0,1,1,1]])\n",
      "basis4 = np.array([[0,0,0,1,0,0],[0,0,0,1,1,1],[0,0,0,1,0,0],[0,0,0,0,0,0],[0,0,0,0,0,0],[0,0,0,0,0,0]])\n",
      "\n",
      "D = 36\n",
      "b1 = basis1.reshape(D)\n",
      "b2 = basis2.reshape(D)\n",
      "b3 = basis3.reshape(D)\n",
      "b4 = basis4.reshape(D)\n",
      "A = np.array([b1,b2,b3,b4])\n",
      "\n",
      "# These are heatmaps!\n",
      "plt.figure(num=None, figsize=(12,3), dpi=80, facecolor='w', edgecolor='k')\n",
      "plt.subplot(141)\n",
      "plt.pcolormesh(basis1,cmap=plt.cm.gray)     \n",
      "plt.subplot(142)\n",
      "plt.pcolormesh(basis2,cmap=plt.cm.gray)  \n",
      "plt.subplot(143)\n",
      "plt.pcolormesh(basis3,cmap=plt.cm.gray)  \n",
      "plt.subplot(144)\n",
      "plt.pcolormesh(basis4,cmap=plt.cm.gray)  \n",
      "\n",
      "print \"Latent feature matrices (A):\""
     ],
     "language": "python",
     "metadata": {},
     "outputs": [
      {
       "output_type": "stream",
       "stream": "stdout",
       "text": [
        "Latent feature matrices (A):\n"
       ]
      },
      {
       "metadata": {},
       "output_type": "display_data",
       "png": "[encoded data removed]",
       "text": [
        "<matplotlib.figure.Figure at 0x7f836f229c90>"
       ]
      }
     ],
     "prompt_number": 4
    },
    {
     "cell_type": "code",
     "collapsed": false,
     "input": [
      "# Generate image data: 100 matrices of size 6*6\n",
      "N = 100\n",
      "D = 36\n",
      "K = 4\n",
      "sigmaX_orig = 0.5\n",
      "\n",
      "# All K basis images, each of length D\n",
      "# Generate N images (customers, objects)\n",
      "np.random.seed(1234)\n",
      "images = np.zeros((N,6,6)) # simulated image data\n",
      "structure = np.zeros((N,6,6))  # 0/1 structure for each image\n",
      "add = stats.bernoulli.rvs(0.5,size=(N,K)) # whether the K=4 latent bases are present in each image\n",
      "epsilon = stats.norm.rvs(loc=0,scale=0.5,size = (N,6,6)) # random noise\n",
      "\n",
      "for i in range(N):\n",
      "    structure[i,:,:] = add[i,0]*basis1 + add[i,1]*basis2 + add[i,2]*basis3 + add[i,3]*basis4\n",
      "    images[i,:,:] = structure[i,:,:] + epsilon[i,:,:]\n",
      "\n",
      "Z_orig = add    \n",
      "# X = structure.reshape(N,D)    \n",
      "# print Z_orig\n",
      "# print structure[0,:,:]\n",
      "# print X[0,:]\n",
      "# print X.shape\n",
      "\n",
      "# print images.shape\n",
      "print \"Example image:\\n\",images[4]\n",
      "plt.pcolormesh(images[4],cmap=plt.cm.gray)"
     ],
     "language": "python",
     "metadata": {},
     "outputs": [
      {
       "output_type": "stream",
       "stream": "stdout",
       "text": [
        "Example image:\n",
        "[[ 0.2067  0.3588  0.1309  0.8786 -0.2506 -0.3491]\n",
        " [ 0.6923 -0.1432  0.25    1.9756  0.8608  1.0184]\n",
        " [ 0.2229 -0.7052  0.225   1.2577 -0.577  -0.6901]\n",
        " [-0.2479  0.7934 -0.8597 -0.0148 -0.383   1.0499]\n",
        " [ 0.6435 -0.1131  1.3629  0.4585  0.7181  0.2389]\n",
        " [-0.0071  0.8766 -0.0827  1.0596 -0.0375  0.4986]]\n"
       ]
      },
      {
       "metadata": {},
       "output_type": "pyout",
       "prompt_number": 5,
       "text": [
        "<matplotlib.collections.QuadMesh at 0x7f836e96e550>"
       ]
      },
      {
       "metadata": {},
       "output_type": "display_data",
       "png": "[encoded data removed]",
       "text": [
        "<matplotlib.figure.Figure at 0x7f836ea47310>"
       ]
      }
     ],
     "prompt_number": 5
    },
    {
     "cell_type": "markdown",
     "metadata": {},
     "source": [
      "### Variables in Transformation\n",
      "\n",
      "$x_i \\sim \\text{Normal}(\\mathbf{z_i} \\mathbf{A}, \\Sigma_X = \\sigma_X^2\\mathbf{I})$\n",
      "\n",
      "$\\mathbf{z_i}$ is a $K$-dimensional binary vector (features)\n",
      "\n",
      "$\\mathbf{A}$ is a $K \\times D$ matrix of weights, with prior $A \\sim \\text{Normal}(0,\\sigma_A^2 \\mathbf{I})$\n",
      "\n",
      "$Z \\sim \\text{IBP}(\\alpha)$, where $m_k$ is the number of objects with feature $k$\n",
      "\n",
      "$p(Z | \\alpha) = \\dfrac{\\alpha^K}{\\prod^{2^N-1}_{h=1}K_h!} \\exp(-\\alpha H_N) \\prod^{K}_{k=1}\\dfrac{(N-m_k)!(m_k-1)!}{N!}$\n",
      "\n",
      "Note 1: $\\alpha$ is a variable influencing the number of features  $D$\n",
      "\n",
      "Note 2: $K_h$ is the number of features with history $h$ (whether the $N$ images possess this feature, $2^N-1$ possibilities in total)\n",
      "\n",
      "Note 3: $H_N$ is the $N^{\\text{th}}$ harmonic number, and $m_k$ is the number of objects with feature $k$"
     ]
    },
    {
     "cell_type": "code",
     "collapsed": false,
     "input": [
      "# Generate the Harmonic numbers, but we only need the sum\n",
      "from fractions import Fraction\n",
      "sum_Harmonics = 0\n",
      "Harmonics = 0\n",
      "for i in range(N):\n",
      "    sum_Harmonics += (N-i)*Fraction(1,i+1)\n",
      "    Harmonics += Fraction(1,i+1)\n",
      "print \"Sum of H_1 + ... + H_N:\", float(sum_Harmonics)\n",
      "print \"Harmonic number H_N:\", float(Harmonics)"
     ],
     "language": "python",
     "metadata": {},
     "outputs": [
      {
       "output_type": "stream",
       "stream": "stdout",
       "text": [
        "Sum of H_1 + ... + H_N: 423.925129282\n",
        "Harmonic number H_N: 5.18737751764\n"
       ]
      }
     ],
     "prompt_number": 6
    },
    {
     "cell_type": "code",
     "collapsed": false,
     "input": [
      "# Initialization\n",
      "N = 100\n",
      "D = 36\n",
      "K = 4\n",
      "sigmaA = 1\n",
      "sigmaX = 1\n",
      "\n",
      "np.random.seed(1005)\n",
      "# alpha = stats.gamma.rvs(a = 1, loc = 0, scale = 1, size = 1)[0]\n",
      "alpha = 1\n",
      "\n",
      "K_inf = 1000\n",
      "Z, Kplus = IBP(N, alpha)\n",
      "print \"Initial Kplus:\", Kplus\n",
      "print \"Z.shape:\",Z.shape # (100,4) = (N,Kplus) (latent)\n",
      "print \"A.shape:\",A.shape # (4,36) = (Kplus,D)  (weight)\n",
      "\n",
      "# Set MCMC steps\n",
      "mcmc = 1000 # plan to sample for 1000 times\n",
      "\n",
      "# Setup the array\n",
      "Z_arr = np.zeros((mcmc,N,K_inf))\n",
      "Kplus_arr = np.zeros(mcmc)\n",
      "sigmaX_arr = np.zeros(mcmc)\n",
      "sigmaA_arr = np.zeros(mcmc)\n",
      "alpha_arr = np.zeros(mcmc)\n",
      "rX_accept = 0\n",
      "rA_accept = 0"
     ],
     "language": "python",
     "metadata": {},
     "outputs": [
      {
       "output_type": "stream",
       "stream": "stdout",
       "text": [
        "Initial Kplus: 4\n",
        "Z.shape: (100, 4)\n",
        "A.shape: (4, 36)\n"
       ]
      }
     ],
     "prompt_number": 19
    },
    {
     "cell_type": "code",
     "collapsed": false,
     "input": [
      "# More initialization\n",
      "np.random.seed(16)\n",
      "basis1 = np.array([[0,0,0,0,0,0],[0,0,0,0,0,0],[0,0,0,0,0,0],[0,1,0,0,0,0],[1,1,1,0,0,0],[0,1,0,0,0,0]])\n",
      "basis2 = np.array([[1,1,1,0,0,0],[1,0,1,0,0,0],[1,1,1,0,0,0],[0,0,0,0,0,0],[0,0,0,0,0,0],[0,0,0,0,0,0]])\n",
      "basis3 = np.array([[0,0,0,0,0,0],[0,0,0,0,0,0],[0,0,0,0,0,0],[0,0,0,0,0,1],[0,0,0,0,1,1],[0,0,0,1,1,1]])\n",
      "basis4 = np.array([[0,0,0,1,0,0],[0,0,0,1,1,1],[0,0,0,1,0,0],[0,0,0,0,0,0],[0,0,0,0,0,0],[0,0,0,0,0,0]])\n",
      "\n",
      "D = 36\n",
      "b1 = basis1.reshape(D)\n",
      "b2 = basis2.reshape(D)\n",
      "b3 = basis3.reshape(D)\n",
      "b4 = basis4.reshape(D)\n",
      "A = np.array([b1,b2,b3,b4])\n",
      "\n",
      "Z_orig = np.zeros((N,4))\n",
      "sigmaX_orig = 0.5\n",
      "X = np.zeros((N,D))\n",
      "\n",
      "for i in range(N):\n",
      "    Z_orig[i,:] = stats.uniform.rvs(loc=0,scale=1,size=4) > 0.5\n",
      "    while np.sum(Z_orig[i,:]) == 0:\n",
      "        Z_orig[i,:] = stats.uniform.rvs(loc=0,scale=1,size=4) > 0.5\n",
      "    X[i,:] = np.random.normal(size=D)*sigmaX_orig + np.dot(Z_orig[i,:],A)\n",
      "    \n",
      "print \"X.shape:\",X.shape # (100,36) = (N,D) (data)\n",
      "print X[0:6,0:6]\n",
      "print Z_orig.shape\n",
      "print Z_orig[0:6,:]\n",
      "# print np.dot(Z_orig[i,:],A).shape"
     ],
     "language": "python",
     "metadata": {},
     "outputs": [
      {
       "output_type": "stream",
       "stream": "stdout",
       "text": [
        "X.shape: (100, 36)\n",
        "[[ 0.3823  0.6893  0.5555  0.2495 -0.3934  0.0594]\n",
        " [-0.6691  0.2899  0.2682  0.7715  0.8372 -0.3196]\n",
        " [ 1.3606  0.9476  0.4842  1.4568  0.2546 -0.5242]\n",
        " [ 0.6291  1.015   1.2063  0.3139  0.0555 -0.5009]\n",
        " [ 0.2144  1.6798  1.192   1.686  -0.1699  0.0766]\n",
        " [ 0.4324  0.3552  0.0704  1.3771  0.2362 -0.3846]]\n",
        "(100, 4)\n",
        "[[ 0.  1.  1.  0.]\n",
        " [ 0.  0.  1.  0.]\n",
        " [ 1.  1.  1.  1.]\n",
        " [ 0.  1.  0.  0.]\n",
        " [ 0.  1.  1.  1.]\n",
        " [ 1.  0.  1.  1.]]\n"
       ]
      }
     ],
     "prompt_number": 20
    },
    {
     "cell_type": "code",
     "collapsed": false,
     "input": [
      "M = calcM(Z,Kplus,sigmaX,sigmaA) \n",
      "log_likelihood(X,Z[:,0:Kplus],M,sigmaA,sigmaX,Kplus,N,D)"
     ],
     "language": "python",
     "metadata": {},
     "outputs": [
      {
       "metadata": {},
       "output_type": "pyout",
       "prompt_number": 78,
       "text": [
        "-4224.3456"
       ]
      }
     ],
     "prompt_number": 78
    },
    {
     "cell_type": "code",
     "collapsed": false,
     "input": [
      "# Checking whether the gamma distribution is setup correctly\n",
      "# ff ~ Gamma(a,b): a = shape, b = 1/scale => E(ff) = a/b = a*scale, Var(ff) = a/b**2 = a*scale**2\n",
      "# Generate 1000 random samples from Ga(3,2)\n",
      "np.random.seed(17)\n",
      "rv = stats.gamma.rvs(a = 3, loc = 0, scale = 2, size=1000)\n",
      "print np.mean(rv)  # should be close to 3*2 = 6\n",
      "print np.var(rv)   # should be close to 3*2*2 = 12"
     ],
     "language": "python",
     "metadata": {},
     "outputs": [
      {
       "output_type": "stream",
       "stream": "stdout",
       "text": [
        "6.11082455198\n",
        "12.3836326135\n"
       ]
      }
     ],
     "prompt_number": 9
    },
    {
     "cell_type": "markdown",
     "metadata": {},
     "source": [
      "### Gibbs Sampler\n",
      "\n",
      "Initialization: $\\sigma_A = 1, \\sigma_X = 1, \\alpha \\sim Ga(1,1)$\n",
      "\n",
      "1. Generate $P(z_{ik} | \\mathbf{X,Z_{-i,k}},\\sigma_X, \\sigma_A)$ using the full conditional distribution\n",
      "2. Sample $\\sigma_{X}^* = \\sigma_X + \\epsilon$, where $\\epsilon \\sim \\text{Unif}(-0.05,0.05)$, and accept $\\sigma_{X}^*$ by Metropolis (not just when the likelihood is larger, i.e. $P(\\sigma_{X}^*) > P(\\sigma_{X})$)\n",
      "3. Sample $\\sigma_{A}^* = \\sigma_A + \\epsilon$, where $\\epsilon \\sim \\text{Unif}(-0.05,0.05)$, and accept $\\sigma_{A}^*$ by Metropolis (not just when the likelihood is larger, i.e. $P(\\sigma_{A}^*) > P(\\sigma_{A})$)\n",
      "4. Generate $\\alpha|Z \\sim Ga(1+K_+,1+\\sum^{N}_{i=1}H_i)$, where $K_+ = \\sum^{2^N-1}_{h=1}K_h$ and $K_+$ is the number of features for which $m_k > 0$\n",
      "\n",
      "Metropolis for $\\sigma_A$ (for $\\sigma_X$ is similar):\n",
      "\n",
      "Current value: $\\sigma_{A}^{(n)}$\n",
      "\n",
      "Candidate value: $\\sigma_{A}^{*}$\n",
      "\n",
      "Generate $r \\sim \\text{Unif}(0,1)$\n",
      "\n",
      "Accept $\\sigma_{A}^{*}$ if $r < \\text{min}\\{ 1, \\dfrac{P(\\sigma_{A}^{*} | \\mathbf{Z,X},\\sigma_X)}{P(\\sigma_{A}^{(n)} | \\mathbf{Z,X},\\sigma_X)} \\}$"
     ]
    },
    {
     "cell_type": "code",
     "collapsed": false,
     "input": [
      "def calcM(Z,Kplus,sigmaX,sigmaA):\n",
      "    \"\"\"Save the matrix M so we won't need to calculate it again and again\"\"\"\n",
      "    return np.linalg.inv(np.dot(Z[:,0:Kplus].T,Z[:,0:Kplus])+((sigmaX/sigmaA)**2)*np.identity(Kplus))"
     ],
     "language": "python",
     "metadata": {},
     "outputs": [],
     "prompt_number": 10
    },
    {
     "cell_type": "code",
     "collapsed": false,
     "input": [
      "def calcInverse(Z, M, i, k, val):\n",
      "    \"\"\"Effective inverse calculation from Griffiths and Ghahramani (2005; Equations 51 to 54)\n",
      "    M_(-i) = inv(inv(M) - zi.T * zi)\"\"\"\n",
      "    M_i = M - np.dot(np.dot(M,Z[i,:].T),np.dot(Z[i,:],M))/(np.dot(np.dot(Z[i,:],M),Z[i,:].T)-1)\n",
      "    Z[i,k] = val\n",
      "    M = M_i - np.dot(np.dot(M_i,Z[i,:].T),np.dot(Z[i,:],M_i))/(np.dot(np.dot(Z[i,:],M_i),Z[i,:].T)+1)\n",
      "    Inv = M\n",
      "    return Inv"
     ],
     "language": "python",
     "metadata": {},
     "outputs": [],
     "prompt_number": 11
    },
    {
     "cell_type": "code",
     "collapsed": false,
     "input": [
      "def calcInverse_new(Z, M, i, k, val):\n",
      "    \"\"\"New version to check\n",
      "    Effective inverse calculation from Griffiths and Ghahramani (2005; Equations 51 to 54)\n",
      "    M_(-i) = inv(inv(M) - zi.T * zi)\"\"\"\n",
      "    Z[i,k] = val\n",
      "#     counter = np.zeros((len(Z[i,:]),len(Z[i,:])))\n",
      "#     for j in range(Z.shape[0]):\n",
      "#         counter += np.dot(Z[j,:].T,Z[j,:])\n",
      "#     counter -= np.dot(Z[i,:].T,Z[i,:])\n",
      "    \n",
      "#     M_negi = np.linalg.inv(counter + ((sigmaX/sigmaA)**2)*np.identity(len(Z[i,:])))\n",
      "    \n",
      "#     return M_negi\n",
      "    return np.linalg.inv(np.linalg.inv(M) - np.dot(Z[i,:].T,Z[i,:]))"
     ],
     "language": "python",
     "metadata": {},
     "outputs": [],
     "prompt_number": 12
    },
    {
     "cell_type": "code",
     "collapsed": false,
     "input": [
      "Z.shape"
     ],
     "language": "python",
     "metadata": {},
     "outputs": [
      {
       "metadata": {},
       "output_type": "pyout",
       "prompt_number": 184,
       "text": [
        "(100, 17)"
       ]
      }
     ],
     "prompt_number": 184
    },
    {
     "cell_type": "code",
     "collapsed": false,
     "input": [
      "def log_likelihood(X,Z,M,sigmaA,sigmaX,Kplus,N,D):  \n",
      "    \"\"\"Calculate the log-likelihood: P(X|Z,M,sigmaA,sigmaX,Kplus,N,D)\"\"\"  \n",
      "    determinant = np.linalg.det(np.dot(Z.T,Z)+((sigmaX/sigmaA)**2)*np.identity(Kplus))\n",
      "    constant = N*D*0.5*np.log(2*np.pi) + (N-Kplus)*D*np.log(sigmaX) + Kplus*D*np.log(sigmaA) + D*0.5*np.log(determinant)\n",
      "    \n",
      "    middle = np.identity(N) - np.dot(np.dot(Z, M),Z.T)\n",
      "    trace = np.trace(np.dot(np.dot(X.T,middle),X))\n",
      "    kernel = -0.5*np.reciprocal(sigmaX**2)*trace\n",
      "    \n",
      "    log_lik = -constant + kernel\n",
      "    #print constant\n",
      "    #print kernel\n",
      "    return log_lik"
     ],
     "language": "python",
     "metadata": {},
     "outputs": [],
     "prompt_number": 13
    },
    {
     "cell_type": "code",
     "collapsed": false,
     "input": [
      "# Gibbs Sampler -- Steps\n",
      "np.random.seed(111)\n",
      "\n",
      "# for mc in range(mcmc):\n",
      "for mc in range(1000):\n",
      "\n",
      "    # Step 0: Save generated parameters to the MCMC array\n",
      "    Z_arr[mc,:,0:Kplus] = Z[:,0:Kplus]\n",
      "    # print \"Shape of Z:\",Z.shape\n",
      "    \n",
      "    alpha_arr[mc] = alpha\n",
      "    Kplus_arr[mc] = Kplus\n",
      "    sigmaX_arr[mc] = sigmaX\n",
      "    sigmaA_arr[mc] = sigmaA\n",
      "    print \"At iteration\",mc,\": Kplus is\",Kplus,\", alpha is\",alpha\n",
      "\n",
      "    # Step 1: Generate Z|alpha (Gibbs)\n",
      "    for i in range(N):\n",
      "        # Save the matrix M so we won't need to calculate it again and again\n",
      "        #M = calcM(Z,Kplus,sigmaX,sigmaA)\n",
      "                             \n",
      "        for k in range(Kplus):\n",
      "            # This is possible because Kplus may decrease in this loop (e.g. dropping redundant zeros)\n",
      "            if (k+1) > Kplus:\n",
      "                break\n",
      "            if Z[i,k] > 0:\n",
      "                # Take care of singular features\n",
      "                # Get rid of the features not sampled (remove the zeros)\n",
      "                if np.sum(Z[:,k]) - Z[i,k] <= 0: # whether the dish is sampled by other customers or not\n",
      "                # if np.sum(Z[:,k]) - Z[i,k] == 0: # same as the code above since Z is binary\n",
      "                    #Z[i,k] = 0\n",
      "                    # Avoid Kplus to become zero!\n",
      "#                     if Kplus == 1:\n",
      "#                         Z[:,0] = Z[:,1]\n",
      "#                     else: # Kplus > 1\n",
      "                    Z[:,k:(Kplus-1)] = Z[:,(k+1):Kplus]\n",
      "                    Kplus -= 1\n",
      "                        # Z = Z[:,0:Kplus] # remove the last column\n",
      "                    #M = calcM(Z,Kplus,sigmaX,sigmaA)          \n",
      "                    continue            \n",
      "            \n",
      "            # Effective inverse calculation from Griffiths and Ghahramani (2005; Equations 51 to 54)\n",
      "            # M_(-i) = inv(inv(M) - zi.T * zi)\n",
      "#             M0 = calcInverse(Z[:,0:Kplus], M, i, k, 0)\n",
      "#             M1 = calcInverse(Z[:,0:Kplus], M, i, k, 1)\n",
      "            \n",
      "            # Then calculate the posterior distribution: prior * likelihood \n",
      "            # i.e. customers sample the dishes that have been previously sampled\n",
      "            # Likelihood: P(X|Z_(-i,k),sigmaX,sigmaA)\n",
      "            # Prior: P(z_ik = 1 | z_(-i,k)) = m_(-i,k) / N, where m_(-i,k) = number of objects possess feature k, excluding i\n",
      "            P = np.zeros(2)\n",
      "            Z[i,k] = 1\n",
      "            M1 = calcM(Z,Kplus,sigmaX,sigmaA) \n",
      "            P[1] = log_likelihood(X,Z[:,0:Kplus],M1,sigmaA,sigmaX,Kplus,N,D) + np.log(sum(Z[:,k])-Z[i,k]) - np.log(N)\n",
      "            Z[i,k] = 0\n",
      "            M0 = calcM(Z,Kplus,sigmaX,sigmaA) \n",
      "            P[0] = log_likelihood(X,Z[:,0:Kplus],M0,sigmaA,sigmaX,Kplus,N,D) + np.log(N-sum(Z[:,k])) - np.log(N)\n",
      "            P = np.exp(P - max(P))\n",
      "            # Sample from the posterior distribution\n",
      "            rand = stats.uniform.rvs(loc=0,scale=1,size=1)           \n",
      "            if rand < P[0]/(P[0]+P[1]):\n",
      "                Z[i,k] = 0\n",
      "                #M = M0\n",
      "            else:\n",
      "                Z[i,k] = 1\n",
      "                #M = M1\n",
      "\n",
      "        # Sample the number of new dishes Pois(alpha/i) for the current customer/object\n",
      "        # Truncated prior: P(z_ik = 1 | z_(-i,k)) = (m_(-i,k) + alpha/Kplus) / (N + alpha/Kplus)\n",
      "        # trun = np.zeros(5)\n",
      "        trun = np.zeros(4)\n",
      "        # alphaN = alpha/N  # don't use alpha/i, or this can result in division by zero, but I don't know the details\n",
      "        # alphaN = alpha/(i+1)\n",
      "        alphaN = alpha/N\n",
      "        # Note: in MATLAB, any matrix can be expanded => in Python, we need np.vstack and/or np.hstack       \n",
      "        \n",
      "        # for ki in range(5):\n",
      "        for ki in range(4):\n",
      "            if ki > 0:\n",
      "                new_stack = np.zeros((N,ki))\n",
      "                new_stack[i,:] = 1\n",
      "                Z = np.hstack((Z[:,0:Kplus],new_stack))\n",
      "            M = np.linalg.inv(np.dot(Z[:,0:(Kplus+ki)].T,Z[:,0:(Kplus+ki)])+((sigmaX/sigmaA)**2)*np.identity(Kplus+ki))\n",
      "            # Prior: x ~ Pois(lambda): f(x) = ((lambda**x)/x!)*exp(-lambda), where x = ki, lambda = alphaN\n",
      "            \n",
      "            trun[ki] = (ki)*np.log(alphaN) - alphaN - np.log(np.math.factorial(ki)) \n",
      "            # posterior is proportional to prior x likelihood\n",
      "            trun[ki] += log_likelihood(X,Z[:,0:(Kplus+ki)],M,sigmaA,sigmaX,Kplus+ki,N,D)\n",
      "            \n",
      "        # Z[i,Kplus:(Kplus+4)] = 0\n",
      "        Z[i,Kplus:(Kplus+3)] = 0\n",
      "        trun = np.exp(trun-max(trun))\n",
      "        trun = trun/np.sum(trun)\n",
      "        \n",
      "        p = stats.uniform.rvs(loc=0,scale=1,size=1)  \n",
      "        t = 0\n",
      "        # for ki in range(5):\n",
      "        for ki in range(4):\n",
      "            t += trun[ki]\n",
      "            if p < t:\n",
      "                new_dishes = ki\n",
      "                break\n",
      "        Z[i,Kplus:(Kplus+new_dishes)] = 1\n",
      "        Kplus += new_dishes\n",
      "        \n",
      "    # Step 2: Sample sigmaX_star (Metropolis)\n",
      "    # M = calcM(Z, Kplus+new_dishes, sigmaX, sigmaA)\n",
      "    M = calcM(Z, Kplus, sigmaX, sigmaA)\n",
      "    #logLik = log_likelihood(X, Z[:,0:(Kplus+new_dishes)], M, sigmaA, sigmaX, Kplus+new_dishes, N, D)\n",
      "    logLik = log_likelihood(X, Z[:,0:Kplus], M, sigmaA, sigmaX, Kplus, N, D)\n",
      "    epsilonX = stats.uniform.rvs(loc=0,scale=1,size=1) \n",
      "    if epsilonX < 0.5:\n",
      "        # sigmaX_star = sigmaX - epsilonX/40\n",
      "        # sigmaX_star = sigmaX - epsilonX/20\n",
      "        sigmaX_star = sigmaX - stats.uniform.rvs(loc=0,scale=1,size=1)/20\n",
      "    else:\n",
      "        # sigmaX_star = sigmaX + epsilonX/20   \n",
      "        sigmaX_star = sigmaX + stats.uniform.rvs(loc=0,scale=1,size=1)/20 \n",
      "    # M_Xstar = calcM(Z, Kplus+new_dishes, sigmaX_star, sigmaA)\n",
      "    M_Xstar = calcM(Z, Kplus, sigmaX_star, sigmaA)\n",
      "    # logLikX_star = log_likelihood(X, Z[:,0:(Kplus+new_dishes)], M_Xstar, sigmaA, sigmaX_star, Kplus+new_dishes, N, D)\n",
      "    logLikX_star = log_likelihood(X, Z[:,0:Kplus], M_Xstar, sigmaA, sigmaX_star, Kplus, N, D)\n",
      "    acc_X = np.exp(min(0, logLikX_star-logLik))\n",
      "    \n",
      "    # Step 3: Sample sigmaA_star (Metropolis)\n",
      "    epsilonA = stats.uniform.rvs(loc=0,scale=1,size=1)\n",
      "    if epsilonA < 0.5:\n",
      "        # sigmaA_star = sigmaA - epsilonA/20\n",
      "        sigmaA_star = sigmaA - stats.uniform.rvs(loc=0,scale=1,size=1)/20\n",
      "    else:\n",
      "        # sigmaA_star = sigmaA + epsilonA/40 \n",
      "        sigmaA_star = sigmaA + stats.uniform.rvs(loc=0,scale=1,size=1)/20\n",
      "        # sigmaA_star = sigmaA + epsilonA/20   \n",
      "    # M_Astar = calcM(Z, Kplus+new_dishes, sigmaX, sigmaA_star)\n",
      "    M_Astar = calcM(Z, Kplus, sigmaX, sigmaA_star)\n",
      "    # logLikA_star = log_likelihood(X, Z[:,0:(Kplus+new_dishes)], M_Astar, sigmaA_star, sigmaX, Kplus+new_dishes, N, D)\n",
      "    logLikA_star = log_likelihood(X, Z[:,0:Kplus], M_Astar, sigmaA_star, sigmaX, Kplus, N, D)\n",
      "    acc_A = np.exp(min(0, logLikA_star-logLik))\n",
      "    \n",
      "    randX = stats.uniform.rvs(loc=0,scale=1,size=1)\n",
      "    if randX < acc_X:\n",
      "        sigmaX = sigmaX_star\n",
      "        rX_accept += 1\n",
      "    randA = stats.uniform.rvs(loc=0,scale=1,size=1)\n",
      "    if randA < acc_A:\n",
      "        sigmaA = sigmaA_star\n",
      "        rA_accept += 1\n",
      "    \n",
      "    # Step 4: Sample alpha|Z ~ Ga(a=1+Kplus,scale=1+Harmonics)\n",
      "    alpha = stats.gamma.rvs(a = 1+Kplus, loc = 0, scale = np.reciprocal(1+Harmonics),size=1)[0]\n",
      "    "
     ],
     "language": "python",
     "metadata": {},
     "outputs": [
      {
       "output_type": "stream",
       "stream": "stdout",
       "text": [
        "At iteration 0 : Kplus is 4 , alpha is 1\n",
        "At iteration"
       ]
      },
      {
       "output_type": "stream",
       "stream": "stdout",
       "text": [
        " 1 : Kplus is 3 , alpha is 0.398572796978\n",
        "At iteration"
       ]
      },
      {
       "output_type": "stream",
       "stream": "stdout",
       "text": [
        " 2 : Kplus is 2 , alpha is 0.515214542874\n",
        "At iteration"
       ]
      },
      {
       "output_type": "stream",
       "stream": "stdout",
       "text": [
        " 3 : Kplus is 2 , alpha is 1.12571509406\n",
        "At iteration"
       ]
      },
      {
       "output_type": "stream",
       "stream": "stdout",
       "text": [
        " 4 : Kplus is 2 , alpha is 0.375985445657\n",
        "At iteration"
       ]
      },
      {
       "output_type": "stream",
       "stream": "stdout",
       "text": [
        " 5 : Kplus is 2 , alpha is 0.383656839482\n",
        "At iteration"
       ]
      },
      {
       "output_type": "stream",
       "stream": "stdout",
       "text": [
        " 6 : Kplus is 2 , alpha is 0.188087319338\n",
        "At iteration"
       ]
      },
      {
       "output_type": "stream",
       "stream": "stdout",
       "text": [
        " 7 : Kplus is 2 , alpha is 0.891555117631\n",
        "At iteration"
       ]
      },
      {
       "output_type": "stream",
       "stream": "stdout",
       "text": [
        " 8 : Kplus is 2 , alpha is 0.0625029771747\n",
        "At iteration"
       ]
      },
      {
       "output_type": "stream",
       "stream": "stdout",
       "text": [
        " 9 : Kplus is 2 , alpha is 0.278331450335\n",
        "At iteration"
       ]
      },
      {
       "output_type": "stream",
       "stream": "stdout",
       "text": [
        " 10 : Kplus is 2 , alpha is 0.191531588245\n",
        "At iteration"
       ]
      },
      {
       "output_type": "stream",
       "stream": "stdout",
       "text": [
        " 11 : Kplus is 2 , alpha is 0.400884435609\n",
        "At iteration"
       ]
      },
      {
       "output_type": "stream",
       "stream": "stdout",
       "text": [
        " 12 : Kplus is 2 , alpha is 0.230967019223\n",
        "At iteration"
       ]
      },
      {
       "output_type": "stream",
       "stream": "stdout",
       "text": [
        " 13 : Kplus is 2 , alpha is 0.106424791883\n",
        "At iteration"
       ]
      },
      {
       "output_type": "stream",
       "stream": "stdout",
       "text": [
        " 14 : Kplus is 2 , alpha is 0.812565844879\n",
        "At iteration"
       ]
      },
      {
       "output_type": "stream",
       "stream": "stdout",
       "text": [
        " 15 : Kplus is 2 , alpha is 0.282537660661\n",
        "At iteration"
       ]
      },
      {
       "output_type": "stream",
       "stream": "stdout",
       "text": [
        " 16 : Kplus is 2 , alpha is 0.250189365563\n",
        "At iteration"
       ]
      },
      {
       "output_type": "stream",
       "stream": "stdout",
       "text": [
        " 17 : Kplus is 2 , alpha is 0.176314957029\n",
        "At iteration"
       ]
      },
      {
       "output_type": "stream",
       "stream": "stdout",
       "text": [
        " 18 : Kplus is 2 , alpha is 0.634176071489\n",
        "At iteration"
       ]
      },
      {
       "output_type": "stream",
       "stream": "stdout",
       "text": [
        " 19 : Kplus is 2 , alpha is 0.412989127049\n",
        "At iteration"
       ]
      },
      {
       "output_type": "stream",
       "stream": "stdout",
       "text": [
        " 20 : Kplus is 2 , alpha is 0.125474929335\n",
        "At iteration"
       ]
      },
      {
       "output_type": "stream",
       "stream": "stdout",
       "text": [
        " 21 : Kplus is 2 , alpha is 0.378290122164\n",
        "At iteration"
       ]
      },
      {
       "output_type": "stream",
       "stream": "stdout",
       "text": [
        " 22 : Kplus is 2 , alpha is 0.274754387203\n",
        "At iteration"
       ]
      },
      {
       "output_type": "stream",
       "stream": "stdout",
       "text": [
        " 23 : Kplus is 2 , alpha is 0.532565160018\n",
        "At iteration"
       ]
      },
      {
       "output_type": "stream",
       "stream": "stdout",
       "text": [
        " 24 : Kplus is 2 , alpha is 0.236240256556\n",
        "At iteration"
       ]
      },
      {
       "output_type": "stream",
       "stream": "stdout",
       "text": [
        " 25 : Kplus is 2 , alpha is 0.466041394769\n",
        "At iteration"
       ]
      },
      {
       "output_type": "stream",
       "stream": "stdout",
       "text": [
        " 26 : Kplus is 2 , alpha is 0.336394783349\n",
        "At iteration"
       ]
      },
      {
       "output_type": "stream",
       "stream": "stdout",
       "text": [
        " 27 : Kplus is 2 , alpha is 0.779748366536\n",
        "At iteration"
       ]
      },
      {
       "output_type": "stream",
       "stream": "stdout",
       "text": [
        " 28 : Kplus is 2 , alpha is 0.391088188531\n",
        "At iteration"
       ]
      },
      {
       "output_type": "stream",
       "stream": "stdout",
       "text": [
        " 29 : Kplus is 2 , alpha is 0.168080465587\n",
        "At iteration"
       ]
      },
      {
       "output_type": "stream",
       "stream": "stdout",
       "text": [
        " 30 : Kplus is 2 , alpha is 0.616948140778\n",
        "At iteration"
       ]
      },
      {
       "output_type": "stream",
       "stream": "stdout",
       "text": [
        " 31 : Kplus is 2 , alpha is 0.868394520741\n",
        "At iteration"
       ]
      },
      {
       "output_type": "stream",
       "stream": "stdout",
       "text": [
        " 32 : Kplus is 2 , alpha is 0.280674994566\n",
        "At iteration"
       ]
      },
      {
       "output_type": "stream",
       "stream": "stdout",
       "text": [
        " 33 : Kplus is 2 , alpha is 0.648214039474\n",
        "At iteration"
       ]
      },
      {
       "output_type": "stream",
       "stream": "stdout",
       "text": [
        " 34 : Kplus is 2 , alpha is 0.191502172187\n",
        "At iteration"
       ]
      },
      {
       "output_type": "stream",
       "stream": "stdout",
       "text": [
        " 35 : Kplus is 2 , alpha is 0.855604557803\n",
        "At iteration"
       ]
      },
      {
       "output_type": "stream",
       "stream": "stdout",
       "text": [
        " 36 : Kplus is 2 , alpha is 0.233212399788\n",
        "At iteration"
       ]
      },
      {
       "output_type": "stream",
       "stream": "stdout",
       "text": [
        " 37 : Kplus is 2 , alpha is 0.733314113245\n",
        "At iteration"
       ]
      },
      {
       "output_type": "stream",
       "stream": "stdout",
       "text": [
        " 38 : Kplus is 2 , alpha is 0.329915994395\n",
        "At iteration"
       ]
      },
      {
       "output_type": "stream",
       "stream": "stdout",
       "text": [
        " 39 : Kplus is 2 , alpha is 0.534651575309\n",
        "At iteration"
       ]
      },
      {
       "output_type": "stream",
       "stream": "stdout",
       "text": [
        " 40 : Kplus is 2 , alpha is 0.230789639993\n",
        "At iteration"
       ]
      },
      {
       "output_type": "stream",
       "stream": "stdout",
       "text": [
        " 41 : Kplus is 2 , alpha is 0.144477639428\n",
        "At iteration"
       ]
      },
      {
       "output_type": "stream",
       "stream": "stdout",
       "text": [
        " 42 : Kplus is 2 , alpha is 0.188499310853\n",
        "At iteration"
       ]
      },
      {
       "output_type": "stream",
       "stream": "stdout",
       "text": [
        " 43 : Kplus is 2 , alpha is 0.166695908941\n",
        "At iteration"
       ]
      },
      {
       "output_type": "stream",
       "stream": "stdout",
       "text": [
        " 44 : Kplus is 2 , alpha is 0.738110543694\n",
        "At iteration"
       ]
      },
      {
       "output_type": "stream",
       "stream": "stdout",
       "text": [
        " 45 : Kplus is 2 , alpha is 0.849760665762\n",
        "At iteration"
       ]
      },
      {
       "output_type": "stream",
       "stream": "stdout",
       "text": [
        " 46 : Kplus is 2 , alpha is 0.449198206351\n",
        "At iteration"
       ]
      },
      {
       "output_type": "stream",
       "stream": "stdout",
       "text": [
        " 47 : Kplus is 2 , alpha is 0.275673843514\n",
        "At iteration"
       ]
      },
      {
       "output_type": "stream",
       "stream": "stdout",
       "text": [
        " 48 : Kplus is 2 , alpha is 0.29080082949\n",
        "At iteration"
       ]
      },
      {
       "output_type": "stream",
       "stream": "stdout",
       "text": [
        " 49 : Kplus is 3 , alpha is 0.571172365545\n",
        "At iteration"
       ]
      },
      {
       "output_type": "stream",
       "stream": "stdout",
       "text": [
        " 50 : Kplus is 3 , alpha is 0.657824749448\n",
        "At iteration"
       ]
      },
      {
       "output_type": "stream",
       "stream": "stdout",
       "text": [
        " 51 : Kplus is 4 , alpha is 0.774918456812\n",
        "At iteration"
       ]
      },
      {
       "output_type": "stream",
       "stream": "stdout",
       "text": [
        " 52 : Kplus is 4 , alpha is 0.923670482097\n",
        "At iteration"
       ]
      },
      {
       "output_type": "stream",
       "stream": "stdout",
       "text": [
        " 53 : Kplus is 5 , alpha is 0.611464509844\n",
        "At iteration"
       ]
      },
      {
       "output_type": "stream",
       "stream": "stdout",
       "text": [
        " 54 : Kplus is 4 , alpha is 0.853622257768\n",
        "At iteration"
       ]
      },
      {
       "output_type": "stream",
       "stream": "stdout",
       "text": [
        " 55 : Kplus is 5 , alpha is 0.478195689806\n",
        "At iteration"
       ]
      },
      {
       "output_type": "stream",
       "stream": "stdout",
       "text": [
        " 56 : Kplus is 5 , alpha is 1.31536574757\n",
        "At iteration"
       ]
      },
      {
       "output_type": "stream",
       "stream": "stdout",
       "text": [
        " 57 : Kplus is 6 , alpha is 0.966257930171\n",
        "At iteration"
       ]
      },
      {
       "output_type": "stream",
       "stream": "stdout",
       "text": [
        " 58 : Kplus is 5 , alpha is 0.767808578494\n",
        "At iteration"
       ]
      },
      {
       "output_type": "stream",
       "stream": "stdout",
       "text": [
        " 59 : Kplus is 8 , alpha is 1.64013879259\n",
        "At iteration"
       ]
      },
      {
       "output_type": "stream",
       "stream": "stdout",
       "text": [
        " 60 : Kplus is 6 , alpha is 1.12339091823\n",
        "At iteration"
       ]
      },
      {
       "output_type": "stream",
       "stream": "stdout",
       "text": [
        " 61 : Kplus is 7 , alpha is 1.92941757364\n",
        "At iteration"
       ]
      },
      {
       "output_type": "stream",
       "stream": "stdout",
       "text": [
        " 62 : Kplus is 6 , alpha is 1.21701453445\n",
        "At iteration"
       ]
      },
      {
       "output_type": "stream",
       "stream": "stdout",
       "text": [
        " 63 : Kplus is 5 , alpha is 1.61059798868\n",
        "At iteration"
       ]
      },
      {
       "output_type": "stream",
       "stream": "stdout",
       "text": [
        " 64 : Kplus is 5 , alpha is 1.13194276181\n",
        "At iteration"
       ]
      },
      {
       "output_type": "stream",
       "stream": "stdout",
       "text": [
        " 65 : Kplus is 4 , alpha is 0.742567435196\n",
        "At iteration"
       ]
      },
      {
       "output_type": "stream",
       "stream": "stdout",
       "text": [
        " 66 : Kplus is 7 , alpha is 0.753414364474\n",
        "At iteration"
       ]
      },
      {
       "output_type": "stream",
       "stream": "stdout",
       "text": [
        " 67 : Kplus is 5 , alpha is 0.912666657978\n",
        "At iteration"
       ]
      },
      {
       "output_type": "stream",
       "stream": "stdout",
       "text": [
        " 68 : Kplus is 4 , alpha is 1.44898425619\n",
        "At iteration"
       ]
      },
      {
       "output_type": "stream",
       "stream": "stdout",
       "text": [
        " 69 : Kplus is 6 , alpha is 0.734722565513\n",
        "At iteration"
       ]
      },
      {
       "output_type": "stream",
       "stream": "stdout",
       "text": [
        " 70 : Kplus is 7 , alpha is 1.19313889047\n",
        "At iteration"
       ]
      },
      {
       "output_type": "stream",
       "stream": "stdout",
       "text": [
        " 71 : Kplus is 8 , alpha is 1.11248147826\n",
        "At iteration"
       ]
      },
      {
       "output_type": "stream",
       "stream": "stdout",
       "text": [
        " 72 : Kplus is 7 , alpha is 1.20077478599\n",
        "At iteration"
       ]
      },
      {
       "output_type": "stream",
       "stream": "stdout",
       "text": [
        " 73 : Kplus is 6 , alpha is 1.01350830581\n",
        "At iteration"
       ]
      },
      {
       "output_type": "stream",
       "stream": "stdout",
       "text": [
        " 74 : Kplus is 5 , alpha is 2.2818065386\n",
        "At iteration"
       ]
      },
      {
       "output_type": "stream",
       "stream": "stdout",
       "text": [
        " 75 : Kplus is 5 , alpha is 0.200498412683\n",
        "At iteration"
       ]
      },
      {
       "output_type": "stream",
       "stream": "stdout",
       "text": [
        " 76 : Kplus is 5 , alpha is 1.85897272999\n",
        "At iteration"
       ]
      },
      {
       "output_type": "stream",
       "stream": "stdout",
       "text": [
        " 77 : Kplus is 5 , alpha is 0.548077954456\n",
        "At iteration"
       ]
      },
      {
       "output_type": "stream",
       "stream": "stdout",
       "text": [
        " 78 : Kplus is 6 , alpha is 1.58601031223\n",
        "At iteration"
       ]
      },
      {
       "output_type": "stream",
       "stream": "stdout",
       "text": [
        " 79 : Kplus is 6 , alpha is 0.664139361725\n",
        "At iteration"
       ]
      },
      {
       "output_type": "stream",
       "stream": "stdout",
       "text": [
        " 80 : Kplus is 6 , alpha is 1.36038565286\n",
        "At iteration"
       ]
      },
      {
       "output_type": "stream",
       "stream": "stdout",
       "text": [
        " 81 : Kplus is 6 , alpha is 0.842965215451\n",
        "At iteration"
       ]
      },
      {
       "output_type": "stream",
       "stream": "stdout",
       "text": [
        " 82 : Kplus is 7 , alpha is 1.40179618726\n",
        "At iteration"
       ]
      },
      {
       "output_type": "stream",
       "stream": "stdout",
       "text": [
        " 83 : Kplus is 7 , alpha is 1.45969570133\n",
        "At iteration"
       ]
      },
      {
       "output_type": "stream",
       "stream": "stdout",
       "text": [
        " 84 : Kplus is 8 , alpha is 1.33956934981\n",
        "At iteration"
       ]
      },
      {
       "output_type": "stream",
       "stream": "stdout",
       "text": [
        " 85 : Kplus is 6 , alpha is 0.643521472146\n",
        "At iteration"
       ]
      },
      {
       "output_type": "stream",
       "stream": "stdout",
       "text": [
        " 86 : Kplus is 5 , alpha is 1.78292384194\n",
        "At iteration"
       ]
      },
      {
       "output_type": "stream",
       "stream": "stdout",
       "text": [
        " 87 : Kplus is 7 , alpha is 1.34859238357\n",
        "At iteration"
       ]
      },
      {
       "output_type": "stream",
       "stream": "stdout",
       "text": [
        " 88 : Kplus is 6 , alpha is 0.847724891793\n",
        "At iteration"
       ]
      },
      {
       "output_type": "stream",
       "stream": "stdout",
       "text": [
        " 89 : Kplus is 6 , alpha is 1.05826751613\n",
        "At iteration"
       ]
      },
      {
       "output_type": "stream",
       "stream": "stdout",
       "text": [
        " 90 : Kplus is 6 , alpha is 0.82722012179\n",
        "At iteration"
       ]
      },
      {
       "output_type": "stream",
       "stream": "stdout",
       "text": [
        " 91 : Kplus is 5 , alpha is 0.697340013583\n",
        "At iteration"
       ]
      },
      {
       "output_type": "stream",
       "stream": "stdout",
       "text": [
        " 92 : Kplus is 6 , alpha is 1.63394637226\n",
        "At iteration"
       ]
      },
      {
       "output_type": "stream",
       "stream": "stdout",
       "text": [
        " 93 : Kplus is 8 , alpha is 1.51004814028\n",
        "At iteration"
       ]
      },
      {
       "output_type": "stream",
       "stream": "stdout",
       "text": [
        " 94 : Kplus is 5 , alpha is 1.9398775953\n",
        "At iteration"
       ]
      },
      {
       "output_type": "stream",
       "stream": "stdout",
       "text": [
        " 95 : Kplus is 6 , alpha is 0.787350359392\n",
        "At iteration"
       ]
      },
      {
       "output_type": "stream",
       "stream": "stdout",
       "text": [
        " 96 : Kplus is 6 , alpha is 0.685956458905\n",
        "At iteration"
       ]
      },
      {
       "output_type": "stream",
       "stream": "stdout",
       "text": [
        " 97 : Kplus is 5 , alpha is 0.753609582447\n",
        "At iteration"
       ]
      },
      {
       "output_type": "stream",
       "stream": "stdout",
       "text": [
        " 98 : Kplus is 6 , alpha is 1.14009737347\n",
        "At iteration"
       ]
      },
      {
       "output_type": "stream",
       "stream": "stdout",
       "text": [
        " 99 : Kplus is 7 , alpha is 1.35302519586\n",
        "At iteration"
       ]
      },
      {
       "output_type": "stream",
       "stream": "stdout",
       "text": [
        " 100 : Kplus is 7 , alpha is 1.49338800704\n",
        "At iteration"
       ]
      },
      {
       "output_type": "stream",
       "stream": "stdout",
       "text": [
        " 101 : Kplus is 5 , alpha is 1.61164519209\n",
        "At iteration"
       ]
      },
      {
       "output_type": "stream",
       "stream": "stdout",
       "text": [
        " 102 : Kplus is 7 , alpha is 1.81971800118\n",
        "At iteration"
       ]
      },
      {
       "output_type": "stream",
       "stream": "stdout",
       "text": [
        " 103 : Kplus is 5 , alpha is 0.857367340828\n",
        "At iteration"
       ]
      },
      {
       "output_type": "stream",
       "stream": "stdout",
       "text": [
        " 104 : Kplus is 6 , alpha is 1.16758954698\n",
        "At iteration"
       ]
      },
      {
       "output_type": "stream",
       "stream": "stdout",
       "text": [
        " 105 : Kplus is 7 , alpha is 1.44076158179\n",
        "At iteration"
       ]
      },
      {
       "output_type": "stream",
       "stream": "stdout",
       "text": [
        " 106 : Kplus is 7 , alpha is 1.54071165899\n",
        "At iteration"
       ]
      },
      {
       "output_type": "stream",
       "stream": "stdout",
       "text": [
        " 107 : Kplus is 8 , alpha is 1.25150655537\n",
        "At iteration"
       ]
      },
      {
       "output_type": "stream",
       "stream": "stdout",
       "text": [
        " 108 : Kplus is 8 , alpha is 1.24166069078\n",
        "At iteration"
       ]
      },
      {
       "output_type": "stream",
       "stream": "stdout",
       "text": [
        " 109 : Kplus is 6 , alpha is 1.04969929173\n",
        "At iteration"
       ]
      },
      {
       "output_type": "stream",
       "stream": "stdout",
       "text": [
        " 110 : Kplus is 5 , alpha is 1.69957673582\n",
        "At iteration"
       ]
      },
      {
       "output_type": "stream",
       "stream": "stdout",
       "text": [
        " 111 : Kplus is 6 , alpha is 0.939770471479\n",
        "At iteration"
       ]
      },
      {
       "output_type": "stream",
       "stream": "stdout",
       "text": [
        " 112 : Kplus is 6 , alpha is 1.51842140162\n",
        "At iteration"
       ]
      },
      {
       "output_type": "stream",
       "stream": "stdout",
       "text": [
        " 113 : Kplus is 7 , alpha is 1.37242317138\n",
        "At iteration"
       ]
      },
      {
       "output_type": "stream",
       "stream": "stdout",
       "text": [
        " 114 : Kplus is 6 , alpha is 2.55155023477\n",
        "At iteration"
       ]
      },
      {
       "output_type": "stream",
       "stream": "stdout",
       "text": [
        " 115 : Kplus is 7 , alpha is 0.842165479873\n",
        "At iteration"
       ]
      },
      {
       "output_type": "stream",
       "stream": "stdout",
       "text": [
        " 116 : Kplus is 6 , alpha is 1.81454472687\n",
        "At iteration"
       ]
      },
      {
       "output_type": "stream",
       "stream": "stdout",
       "text": [
        " 117 : Kplus is 6 , alpha is 0.720706160694\n",
        "At iteration"
       ]
      },
      {
       "output_type": "stream",
       "stream": "stdout",
       "text": [
        " 118 : Kplus is 5 , alpha is 0.449973809151\n",
        "At iteration"
       ]
      },
      {
       "output_type": "stream",
       "stream": "stdout",
       "text": [
        " 119 : Kplus is 5 , alpha is 1.01398908702\n",
        "At iteration"
       ]
      },
      {
       "output_type": "stream",
       "stream": "stdout",
       "text": [
        " 120 : Kplus is 7 , alpha is 1.7794317193\n",
        "At iteration"
       ]
      },
      {
       "output_type": "stream",
       "stream": "stdout",
       "text": [
        " 121 : Kplus is 7 , alpha is 1.20801239572\n",
        "At iteration"
       ]
      },
      {
       "output_type": "stream",
       "stream": "stdout",
       "text": [
        " 122 : Kplus is 7 , alpha is 1.31037393998\n",
        "At iteration"
       ]
      },
      {
       "output_type": "stream",
       "stream": "stdout",
       "text": [
        " 123 : Kplus is 5 , alpha is 0.821601846717\n",
        "At iteration"
       ]
      },
      {
       "output_type": "stream",
       "stream": "stdout",
       "text": [
        " 124 : Kplus is 5 , alpha is 1.84533027703\n",
        "At iteration"
       ]
      },
      {
       "output_type": "stream",
       "stream": "stdout",
       "text": [
        " 125 : Kplus is 6 , alpha is 1.35489649929\n",
        "At iteration"
       ]
      },
      {
       "output_type": "stream",
       "stream": "stdout",
       "text": [
        " 126 : Kplus is 7 , alpha is 1.18206660728\n",
        "At iteration"
       ]
      },
      {
       "output_type": "stream",
       "stream": "stdout",
       "text": [
        " 127 : Kplus is 6 , alpha is 0.503926343146\n",
        "At iteration"
       ]
      },
      {
       "output_type": "stream",
       "stream": "stdout",
       "text": [
        " 128 : Kplus is 5 , alpha is 1.80085585262\n",
        "At iteration"
       ]
      },
      {
       "output_type": "stream",
       "stream": "stdout",
       "text": [
        " 129 : Kplus is 5 , alpha is 1.10666879049\n",
        "At iteration"
       ]
      },
      {
       "output_type": "stream",
       "stream": "stdout",
       "text": [
        " 130 : Kplus is 6 , alpha is 1.37392920519\n",
        "At iteration"
       ]
      },
      {
       "output_type": "stream",
       "stream": "stdout",
       "text": [
        " 131 : Kplus is 6 , alpha is 1.14071395909\n",
        "At iteration"
       ]
      },
      {
       "output_type": "stream",
       "stream": "stdout",
       "text": [
        " 132 : Kplus is 6 , alpha is 0.838628323696\n",
        "At iteration"
       ]
      },
      {
       "output_type": "stream",
       "stream": "stdout",
       "text": [
        " 133 : Kplus is 5 , alpha is 1.81431064199\n",
        "At iteration"
       ]
      },
      {
       "output_type": "stream",
       "stream": "stdout",
       "text": [
        " 134 : Kplus is 5 , alpha is 1.67221208411\n",
        "At iteration"
       ]
      },
      {
       "output_type": "stream",
       "stream": "stdout",
       "text": [
        " 135 : Kplus is 5 , alpha is 1.03781823033\n",
        "At iteration"
       ]
      },
      {
       "output_type": "stream",
       "stream": "stdout",
       "text": [
        " 136 : Kplus is 5 , alpha is 0.76702676934\n",
        "At iteration"
       ]
      },
      {
       "output_type": "stream",
       "stream": "stdout",
       "text": [
        " 137 : Kplus is 6 , alpha is 1.21474221573\n",
        "At iteration"
       ]
      },
      {
       "output_type": "stream",
       "stream": "stdout",
       "text": [
        " 138 : Kplus is 6 , alpha is 0.935835911774\n",
        "At iteration"
       ]
      },
      {
       "output_type": "stream",
       "stream": "stdout",
       "text": [
        " 139 : Kplus is 7 , alpha is 1.09849919204\n",
        "At iteration"
       ]
      },
      {
       "output_type": "stream",
       "stream": "stdout",
       "text": [
        " 140 : Kplus is 5 , alpha is 1.23252517886\n",
        "At iteration"
       ]
      },
      {
       "output_type": "stream",
       "stream": "stdout",
       "text": [
        " 141 : Kplus is 7 , alpha is 0.556234521908\n",
        "At iteration"
       ]
      },
      {
       "output_type": "stream",
       "stream": "stdout",
       "text": [
        " 142 : Kplus is 6 , alpha is 1.28214041308\n",
        "At iteration"
       ]
      },
      {
       "output_type": "stream",
       "stream": "stdout",
       "text": [
        " 143 : Kplus is 5 , alpha is 1.03399134093\n",
        "At iteration"
       ]
      },
      {
       "output_type": "stream",
       "stream": "stdout",
       "text": [
        " 144 : Kplus is 5 , alpha is 1.41072830638\n",
        "At iteration"
       ]
      },
      {
       "output_type": "stream",
       "stream": "stdout",
       "text": [
        " 145 : Kplus is 5 , alpha is 0.53234187268\n",
        "At iteration"
       ]
      },
      {
       "output_type": "stream",
       "stream": "stdout",
       "text": [
        " 146 : Kplus is 5 , alpha is 0.926452609897\n",
        "At iteration"
       ]
      },
      {
       "output_type": "stream",
       "stream": "stdout",
       "text": [
        " 147 : Kplus is 6 , alpha is 0.611673565988\n",
        "At iteration"
       ]
      },
      {
       "output_type": "stream",
       "stream": "stdout",
       "text": [
        " 148 : Kplus is 7 , alpha is 1.60374237749\n",
        "At iteration"
       ]
      },
      {
       "output_type": "stream",
       "stream": "stdout",
       "text": [
        " 149 : Kplus is 6 , alpha is 0.868202175831\n",
        "At iteration"
       ]
      },
      {
       "output_type": "stream",
       "stream": "stdout",
       "text": [
        " 150 : Kplus is 5 , alpha is 1.22530463797\n",
        "At iteration"
       ]
      },
      {
       "output_type": "stream",
       "stream": "stdout",
       "text": [
        " 151 : Kplus is 6 , alpha is 0.473623859695\n",
        "At iteration"
       ]
      },
      {
       "output_type": "stream",
       "stream": "stdout",
       "text": [
        " 152 : Kplus is 6 , alpha is 0.829446127416\n"
       ]
      },
      {
       "ename": "KeyboardInterrupt",
       "evalue": "",
       "output_type": "pyerr",
       "traceback": [
        "\u001b[1;31m---------------------------------------------------------------------------\u001b[0m\n\u001b[1;31mKeyboardInterrupt\u001b[0m                         Traceback (most recent call last)",
        "\u001b[1;32m<ipython-input-21-9af36ec41938>\u001b[0m in \u001b[0;36m<module>\u001b[1;34m()\u001b[0m\n\u001b[0;32m     86\u001b[0m             \u001b[0mtrun\u001b[0m\u001b[1;33m[\u001b[0m\u001b[0mki\u001b[0m\u001b[1;33m]\u001b[0m \u001b[1;33m=\u001b[0m \u001b[1;33m(\u001b[0m\u001b[0mki\u001b[0m\u001b[1;33m)\u001b[0m\u001b[1;33m*\u001b[0m\u001b[0mnp\u001b[0m\u001b[1;33m.\u001b[0m\u001b[0mlog\u001b[0m\u001b[1;33m(\u001b[0m\u001b[0malphaN\u001b[0m\u001b[1;33m)\u001b[0m \u001b[1;33m-\u001b[0m \u001b[0malphaN\u001b[0m \u001b[1;33m-\u001b[0m \u001b[0mnp\u001b[0m\u001b[1;33m.\u001b[0m\u001b[0mlog\u001b[0m\u001b[1;33m(\u001b[0m\u001b[0mnp\u001b[0m\u001b[1;33m.\u001b[0m\u001b[0mmath\u001b[0m\u001b[1;33m.\u001b[0m\u001b[0mfactorial\u001b[0m\u001b[1;33m(\u001b[0m\u001b[0mki\u001b[0m\u001b[1;33m)\u001b[0m\u001b[1;33m)\u001b[0m\u001b[1;33m\u001b[0m\u001b[0m\n\u001b[0;32m     87\u001b[0m             \u001b[1;31m# posterior is proportional to prior x likelihood\u001b[0m\u001b[1;33m\u001b[0m\u001b[1;33m\u001b[0m\u001b[0m\n\u001b[1;32m---> 88\u001b[1;33m             \u001b[0mtrun\u001b[0m\u001b[1;33m[\u001b[0m\u001b[0mki\u001b[0m\u001b[1;33m]\u001b[0m \u001b[1;33m+=\u001b[0m \u001b[0mlog_likelihood\u001b[0m\u001b[1;33m(\u001b[0m\u001b[0mX\u001b[0m\u001b[1;33m,\u001b[0m\u001b[0mZ\u001b[0m\u001b[1;33m[\u001b[0m\u001b[1;33m:\u001b[0m\u001b[1;33m,\u001b[0m\u001b[1;36m0\u001b[0m\u001b[1;33m:\u001b[0m\u001b[1;33m(\u001b[0m\u001b[0mKplus\u001b[0m\u001b[1;33m+\u001b[0m\u001b[0mki\u001b[0m\u001b[1;33m)\u001b[0m\u001b[1;33m]\u001b[0m\u001b[1;33m,\u001b[0m\u001b[0mM\u001b[0m\u001b[1;33m,\u001b[0m\u001b[0msigmaA\u001b[0m\u001b[1;33m,\u001b[0m\u001b[0msigmaX\u001b[0m\u001b[1;33m,\u001b[0m\u001b[0mKplus\u001b[0m\u001b[1;33m+\u001b[0m\u001b[0mki\u001b[0m\u001b[1;33m,\u001b[0m\u001b[0mN\u001b[0m\u001b[1;33m,\u001b[0m\u001b[0mD\u001b[0m\u001b[1;33m)\u001b[0m\u001b[1;33m\u001b[0m\u001b[0m\n\u001b[0m\u001b[0;32m     89\u001b[0m \u001b[1;33m\u001b[0m\u001b[0m\n\u001b[0;32m     90\u001b[0m         \u001b[1;31m# Z[i,Kplus:(Kplus+4)] = 0\u001b[0m\u001b[1;33m\u001b[0m\u001b[1;33m\u001b[0m\u001b[0m\n",
        "\u001b[1;32m<ipython-input-13-899a2214594e>\u001b[0m in \u001b[0;36mlog_likelihood\u001b[1;34m(X, Z, M, sigmaA, sigmaX, Kplus, N, D)\u001b[0m\n\u001b[0;32m      4\u001b[0m     \u001b[0mconstant\u001b[0m \u001b[1;33m=\u001b[0m \u001b[0mN\u001b[0m\u001b[1;33m*\u001b[0m\u001b[0mD\u001b[0m\u001b[1;33m*\u001b[0m\u001b[1;36m0.5\u001b[0m\u001b[1;33m*\u001b[0m\u001b[0mnp\u001b[0m\u001b[1;33m.\u001b[0m\u001b[0mlog\u001b[0m\u001b[1;33m(\u001b[0m\u001b[1;36m2\u001b[0m\u001b[1;33m*\u001b[0m\u001b[0mnp\u001b[0m\u001b[1;33m.\u001b[0m\u001b[0mpi\u001b[0m\u001b[1;33m)\u001b[0m \u001b[1;33m+\u001b[0m \u001b[1;33m(\u001b[0m\u001b[0mN\u001b[0m\u001b[1;33m-\u001b[0m\u001b[0mKplus\u001b[0m\u001b[1;33m)\u001b[0m\u001b[1;33m*\u001b[0m\u001b[0mD\u001b[0m\u001b[1;33m*\u001b[0m\u001b[0mnp\u001b[0m\u001b[1;33m.\u001b[0m\u001b[0mlog\u001b[0m\u001b[1;33m(\u001b[0m\u001b[0msigmaX\u001b[0m\u001b[1;33m)\u001b[0m \u001b[1;33m+\u001b[0m \u001b[0mKplus\u001b[0m\u001b[1;33m*\u001b[0m\u001b[0mD\u001b[0m\u001b[1;33m*\u001b[0m\u001b[0mnp\u001b[0m\u001b[1;33m.\u001b[0m\u001b[0mlog\u001b[0m\u001b[1;33m(\u001b[0m\u001b[0msigmaA\u001b[0m\u001b[1;33m)\u001b[0m \u001b[1;33m+\u001b[0m \u001b[0mD\u001b[0m\u001b[1;33m*\u001b[0m\u001b[1;36m0.5\u001b[0m\u001b[1;33m*\u001b[0m\u001b[0mnp\u001b[0m\u001b[1;33m.\u001b[0m\u001b[0mlog\u001b[0m\u001b[1;33m(\u001b[0m\u001b[0mdeterminant\u001b[0m\u001b[1;33m)\u001b[0m\u001b[1;33m\u001b[0m\u001b[0m\n\u001b[0;32m      5\u001b[0m \u001b[1;33m\u001b[0m\u001b[0m\n\u001b[1;32m----> 6\u001b[1;33m     \u001b[0mmiddle\u001b[0m \u001b[1;33m=\u001b[0m \u001b[0mnp\u001b[0m\u001b[1;33m.\u001b[0m\u001b[0midentity\u001b[0m\u001b[1;33m(\u001b[0m\u001b[0mN\u001b[0m\u001b[1;33m)\u001b[0m \u001b[1;33m-\u001b[0m \u001b[0mnp\u001b[0m\u001b[1;33m.\u001b[0m\u001b[0mdot\u001b[0m\u001b[1;33m(\u001b[0m\u001b[0mnp\u001b[0m\u001b[1;33m.\u001b[0m\u001b[0mdot\u001b[0m\u001b[1;33m(\u001b[0m\u001b[0mZ\u001b[0m\u001b[1;33m,\u001b[0m \u001b[0mM\u001b[0m\u001b[1;33m)\u001b[0m\u001b[1;33m,\u001b[0m\u001b[0mZ\u001b[0m\u001b[1;33m.\u001b[0m\u001b[0mT\u001b[0m\u001b[1;33m)\u001b[0m\u001b[1;33m\u001b[0m\u001b[0m\n\u001b[0m\u001b[0;32m      7\u001b[0m     \u001b[0mtrace\u001b[0m \u001b[1;33m=\u001b[0m \u001b[0mnp\u001b[0m\u001b[1;33m.\u001b[0m\u001b[0mtrace\u001b[0m\u001b[1;33m(\u001b[0m\u001b[0mnp\u001b[0m\u001b[1;33m.\u001b[0m\u001b[0mdot\u001b[0m\u001b[1;33m(\u001b[0m\u001b[0mnp\u001b[0m\u001b[1;33m.\u001b[0m\u001b[0mdot\u001b[0m\u001b[1;33m(\u001b[0m\u001b[0mX\u001b[0m\u001b[1;33m.\u001b[0m\u001b[0mT\u001b[0m\u001b[1;33m,\u001b[0m\u001b[0mmiddle\u001b[0m\u001b[1;33m)\u001b[0m\u001b[1;33m,\u001b[0m\u001b[0mX\u001b[0m\u001b[1;33m)\u001b[0m\u001b[1;33m)\u001b[0m\u001b[1;33m\u001b[0m\u001b[0m\n\u001b[0;32m      8\u001b[0m     \u001b[0mkernel\u001b[0m \u001b[1;33m=\u001b[0m \u001b[1;33m-\u001b[0m\u001b[1;36m0.5\u001b[0m\u001b[1;33m*\u001b[0m\u001b[0mnp\u001b[0m\u001b[1;33m.\u001b[0m\u001b[0mreciprocal\u001b[0m\u001b[1;33m(\u001b[0m\u001b[0msigmaX\u001b[0m\u001b[1;33m**\u001b[0m\u001b[1;36m2\u001b[0m\u001b[1;33m)\u001b[0m\u001b[1;33m*\u001b[0m\u001b[0mtrace\u001b[0m\u001b[1;33m\u001b[0m\u001b[0m\n",
        "\u001b[1;31mKeyboardInterrupt\u001b[0m: "
       ]
      }
     ],
     "prompt_number": 21
    },
    {
     "cell_type": "code",
     "collapsed": false,
     "input": [
      "plt.plot(sigmaX_arr)"
     ],
     "language": "python",
     "metadata": {},
     "outputs": [
      {
       "metadata": {},
       "output_type": "pyout",
       "prompt_number": 85,
       "text": [
        "[<matplotlib.lines.Line2D at 0x7ff5b4fc27d0>]"
       ]
      },
      {
       "metadata": {},
       "output_type": "display_data",
       "png": "[encoded data removed]",
       "text": [
        "<matplotlib.figure.Figure at 0x7ff5b5044b50>"
       ]
      }
     ],
     "prompt_number": 85
    },
    {
     "cell_type": "code",
     "collapsed": false,
     "input": [
      "plt.plot(sigmaA_arr)"
     ],
     "language": "python",
     "metadata": {},
     "outputs": [
      {
       "metadata": {},
       "output_type": "pyout",
       "prompt_number": 86,
       "text": [
        "[<matplotlib.lines.Line2D at 0x7ff5b4ef5450>]"
       ]
      },
      {
       "metadata": {},
       "output_type": "display_data",
       "png": "[encoded data removed]",
       "text": [
        "<matplotlib.figure.Figure at 0x7ff5b50020d0>"
       ]
      }
     ],
     "prompt_number": 86
    },
    {
     "cell_type": "code",
     "collapsed": false,
     "input": [
      "# print np.mean(Kplus_arr)\n",
      "# print sigmaX_arr\n",
      "# print Kplus_arr\n",
      "# print sum(Kplus_arr == 5)\n",
      "Kplus00 = 4\n",
      "stats.gamma.rvs(a = 1+Kplus00, loc = 0, scale = np.reciprocal(1+Harmonics),size=1)[0]"
     ],
     "language": "python",
     "metadata": {},
     "outputs": [
      {
       "metadata": {},
       "output_type": "pyout",
       "prompt_number": 150,
       "text": [
        "1.5390"
       ]
      }
     ],
     "prompt_number": 150
    },
    {
     "cell_type": "code",
     "collapsed": false,
     "input": [
      "print rX_accept/2430\n",
      "print rA_accept/2430\n",
      "print Z.shape\n",
      "print X.shape\n",
      "print Z_arr.shape"
     ],
     "language": "python",
     "metadata": {},
     "outputs": [
      {
       "output_type": "stream",
       "stream": "stdout",
       "text": [
        "0.237860082305\n",
        "0.497942386831\n",
        "(100, 6)\n",
        "(100, 36)\n",
        "(1000, 100, 1000)\n"
       ]
      }
     ],
     "prompt_number": 83
    },
    {
     "cell_type": "code",
     "collapsed": false,
     "input": [
      "#Z_arr[999,:,0:6]"
     ],
     "language": "python",
     "metadata": {},
     "outputs": [],
     "prompt_number": 109
    },
    {
     "cell_type": "code",
     "collapsed": false,
     "input": [
      "# Setup the array\n",
      "Kplus_final = Kplus_arr[399] # in fact it is 5 =.=\n",
      "# Kplus_final = 4\n",
      "# Z_final = Z_arr[156,:,0:Kplus_final-1].reshape(N,Kplus_final-1)\n",
      "# Z_final = Z_arr[156,:,1:Kplus_final].reshape(N,Kplus_final-1)\n",
      "Z_final = Z_arr[156,:,0:Kplus_final].reshape(N,Kplus_final)\n",
      "sigmaX_final = sigmaX_arr[399]\n",
      "sigmaA_final = sigmaA_arr[399]\n",
      "A_inf = np.dot(np.linalg.inv(np.dot(Z_final.T,Z_final) +  ((sigmaX_final/sigmaA_final)**2)*np.identity(Kplus_final)),np.dot(Z_final.T,X))\n",
      "\n",
      "A_inf[3,:].reshape(6,6)\n",
      "# subplot(1,4,1); imagesc(reshape(A_inf(1,:),6,6)); colormap(gray); axis off\n",
      "# subplot(1,4,2); imagesc(reshape(A_inf(2,:),6,6)); colormap(gray); axis off\n",
      "# subplot(1,4,3); imagesc(reshape(A_inf(3,:),6,6)); colormap(gray); axis off\n",
      "# subplot(1,4,4); imagesc(reshape(A_inf(4,:),6,6)); colormap(gray); axis off\n",
      "\n",
      "# print \"Example image:\\n\",A_inf[0,:].reshape(6,6)\n",
      "plt.figure(num=None,figsize=(12,3),dpi=80)\n",
      "plt.subplot(151)\n",
      "plt.pcolormesh(A_inf[0,:].reshape(6,6),cmap=plt.cm.gray)\n",
      "plt.subplot(152)\n",
      "plt.pcolormesh(A_inf[1,:].reshape(6,6),cmap=plt.cm.gray)\n",
      "plt.subplot(153)\n",
      "plt.pcolormesh(A_inf[2,:].reshape(6,6),cmap=plt.cm.gray)\n",
      "plt.subplot(154)\n",
      "plt.pcolormesh(A_inf[3,:].reshape(6,6),cmap=plt.cm.gray)\n",
      "plt.subplot(155)\n",
      "plt.pcolormesh(A_inf[4,:].reshape(6,6),cmap=plt.cm.gray)"
     ],
     "language": "python",
     "metadata": {},
     "outputs": [
      {
       "metadata": {},
       "output_type": "pyout",
       "prompt_number": 95,
       "text": [
        "<matplotlib.collections.QuadMesh at 0x7ff5b41c5d90>"
       ]
      },
      {
       "metadata": {},
       "output_type": "display_data",
       "png": "[encoded data removed]",
       "text": [
        "<matplotlib.figure.Figure at 0x7ff5b4532a50>"
       ]
      }
     ],
     "prompt_number": 95
    },
    {
     "cell_type": "code",
     "collapsed": false,
     "input": [
      "# These are heatmaps!\n",
      "plt.figure(num=None, figsize=(12,3), dpi=80, facecolor='w', edgecolor='k')\n",
      "plt.subplot(141)\n",
      "plt.pcolormesh(basis1,cmap=plt.cm.gray)     \n",
      "plt.subplot(142)\n",
      "plt.pcolormesh(basis2,cmap=plt.cm.gray)  \n",
      "plt.subplot(143)\n",
      "plt.pcolormesh(basis3,cmap=plt.cm.gray)  \n",
      "plt.subplot(144)\n",
      "plt.pcolormesh(basis4,cmap=plt.cm.gray)  "
     ],
     "language": "python",
     "metadata": {},
     "outputs": [
      {
       "metadata": {},
       "output_type": "pyout",
       "prompt_number": 83,
       "text": [
        "<matplotlib.collections.QuadMesh at 0x7ff5b5189290>"
       ]
      },
      {
       "metadata": {},
       "output_type": "display_data",
       "png": "[encoded data removed]",
       "text": [
        "<matplotlib.figure.Figure at 0x7ff5b5644790>"
       ]
      }
     ],
     "prompt_number": 83
    },
    {
     "cell_type": "code",
     "collapsed": false,
     "input": [
      "def calcM(Z,Kplus,sigmaX,sigmaA):\n",
      "    \"\"\"Save the matrix M so we won't need to calculate it again and again\"\"\"\n",
      "    return np.linalg.inv(np.dot(Z[:,0:Kplus].T,Z[:,0:Kplus])+((sigmaX/sigmaA)**2)*np.identity(Kplus))\n",
      "\n",
      "\n",
      "figure\n",
      "hist(chain.K(201:10:1000),3); colormap(gray)\n",
      "\n",
      "figure\n",
      "Z=reshape(chain.Z(1000,:,1:4),100,4);\n",
      "sigma_x=chain.sigma_X(1000);\n",
      "sigma_A=chain.sigma_A(1000);\n",
      "A_inf=(Z'*Z+(sigma_X/sigma_A)*eye(4))^-1*Z'*X;\n",
      "\n",
      "subplot(1,4,1); imagesc(reshape(A_inf(1,:),6,6)); colormap(gray); axis off\n",
      "subplot(1,4,2); imagesc(reshape(A_inf(2,:),6,6)); colormap(gray); axis off\n",
      "subplot(1,4,3); imagesc(reshape(A_inf(3,:),6,6)); colormap(gray); axis off\n",
      "subplot(1,4,4); imagesc(reshape(A_inf(4,:),6,6)); colormap(gray); axis off"
     ],
     "language": "python",
     "metadata": {},
     "outputs": []
    },
    {
     "cell_type": "code",
     "collapsed": false,
     "input": [
      "# Acceptance rate\n",
      "print \"rA accept:\",np.sum(rA_accept)/mcmc\n",
      "print \"rX accept:\",np.sum(rX_accept)/mcmc\n",
      "\n",
      "\n",
      "# np.sum(np.dot(Z_arr[400,:,:],A_arr[400,:,:]))\n",
      "# print Z_arr[400,:,:]"
     ],
     "language": "python",
     "metadata": {},
     "outputs": [
      {
       "output_type": "stream",
       "stream": "stdout",
       "text": [
        "rA accept: 0.844\n",
        "rX accept: 0.406\n"
       ]
      }
     ],
     "prompt_number": 135
    },
    {
     "cell_type": "heading",
     "level": 3,
     "metadata": {},
     "source": [
      "Gibbs Sampler -- Draft for Steps"
     ]
    },
    {
     "cell_type": "code",
     "collapsed": false,
     "input": [
      "# Step 5: Sample weight matrix A ~ N(0,sigmaA**2 I)\n",
      "A_new = stats.norm.rvs(loc=0,scale=sigmaA,size=(K,D))\n",
      "# Step 6: Sample the data X ~ N(ZA,sigmaX**2 I)\n",
      "X_new = stats.norm.rvs(loc=np.dot(Z,A),scale=sigmaX,size=(N,D))"
     ],
     "language": "python",
     "metadata": {},
     "outputs": [
      {
       "output_type": "stream",
       "stream": "stdout",
       "text": [
        "[-4542.4257]\n",
        "[-4618.9093]\n",
        "[-4542.4257]\n",
        "[-4542.4257]\n"
       ]
      }
     ],
     "prompt_number": 343
    },
    {
     "cell_type": "markdown",
     "metadata": {},
     "source": [
      "### Posterior Distribution Calculation\n",
      "\n",
      "Priors: $P(z_{ik}=1 | \\mathbf{z_{-i,k}}) = \\dfrac{m_{-i,k}+\\dfrac{\\alpha}{K}}{N+\\dfrac{\\alpha}{K}} \\rightarrow \\dfrac{m_{-i,k}}{N}$ as $K \\rightarrow \\infty$\n",
      "\n",
      "Likelihood: $\\mathbf{X}|(\\mathbf{Z},\\mathbf{A},\\mathbf{\\sigma_X}) \\sim \\text{Normal}(\\mathbf{ZA},\\Sigma_X = \\sigma_X^2\\mathbf{I})$\n",
      "\n",
      "i.e. $P(\\mathbf{X} | \\mathbf{Z}, \\sigma_X, \\sigma_A) = \\dfrac{1}{(2\\pi)^{ND/2} \\sigma_X^{(N-K)D} \\sigma_A^{KD} |\\mathbf{Z}^T\\mathbf{Z} + \\dfrac{\\sigma_X^2}{\\sigma_A^2}\\mathbf{I}|^{D/2}} \\exp\\{-\\dfrac{1}{2\\sigma^2_X} \\text{tr}(\\mathbf{X}^T(\\mathbf{I}-\\mathbf{Z}(\\mathbf{Z}^T\\mathbf{Z}+\\dfrac{\\sigma_X^2}{\\sigma_A^2}\\mathbf{I})^{-1})\\mathbf{Z}^T)\\mathbf{X}\\}$\n",
      "\n",
      "Full conditional distribution: $P(z_{ik} | \\mathbf{X,Z_{-i,k}},\\sigma_X, \\sigma_A) \\propto P(\\mathbf{X} | \\mathbf{Z},\\sigma_X, \\sigma_A) P(z_{ik} | \\mathbf{z_{-i,k}})$"
     ]
    }
   ],
   "metadata": {}
  }
 ]
}