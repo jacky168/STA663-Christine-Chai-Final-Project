{
 "metadata": {
  "name": "",
  "signature": "sha256:64ef4baf605034cc3120f1ffe6e2bce2fb8cc6597ae9b93832d357325b87af02"
 },
 "nbformat": 3,
 "nbformat_minor": 0,
 "worksheets": [
  {
   "cells": [
    {
     "cell_type": "heading",
     "level": 1,
     "metadata": {},
     "source": [
      "Initial Code Revised -- Indian Buffet Process (IBP)"
     ]
    },
    {
     "cell_type": "code",
     "collapsed": false,
     "input": [
      "from __future__ import division\n",
      "import os\n",
      "import sys\n",
      "import glob\n",
      "import matplotlib.pyplot as plt\n",
      "import numpy as np\n",
      "import pandas as pd\n",
      "%matplotlib inline\n",
      "%precision 4\n",
      "plt.style.use('ggplot')"
     ],
     "language": "python",
     "metadata": {},
     "outputs": [],
     "prompt_number": 1
    },
    {
     "cell_type": "code",
     "collapsed": false,
     "input": [
      "np.random.seed(1234)\n",
      "import scipy.stats as stats"
     ],
     "language": "python",
     "metadata": {},
     "outputs": [],
     "prompt_number": 2
    },
    {
     "cell_type": "markdown",
     "metadata": {},
     "source": [
      "### Indian Buffet Process (IBP): Steps\n",
      "\n",
      "- Step 1: First customer takes a Poisson($\\alpha$) of dishes\n",
      "- Step 2: The $i$th customer takes dish $k$ with probability $\\frac{m_k}{i}$, where $m_k$ is the number of previous customers who sampled that dish\n",
      "- Step 3: The $i$th customer tries a Poisson($\\frac{\\alpha}{i}$) number of new dishes\n",
      "- Storage: Binary matrix $\\mathbf{Z}$ with $N$ rows and infinite columns, where $z_{ik}$ = 1 if customer $i$ sampled the dish $k$\n",
      "- Probability: $P(z_{ik}=1 | \\mathbf{z_{-i,k}}) = \\dfrac{m_{-i,k}+\\dfrac{\\alpha}{K}}{N+\\dfrac{\\alpha}{K}} \\rightarrow \\dfrac{m_{-i,k}}{N}$ as $K \\rightarrow \\infty$\n",
      "\n",
      "Special note: This is JUST a prior, not something you put in the Gibbs sampler!"
     ]
    },
    {
     "cell_type": "code",
     "collapsed": false,
     "input": [
      "def IBP(N, alpha):\n",
      "    \"\"\"Indian Buffet Process (IBP) steps:\n",
      "    Input: N is the number of customers (objects, images); alpha is the only parameter;\n",
      "    Return: result is the binary matrix (prior); Kplus is the number of dishes (features)\"\"\"\n",
      "    result = np.zeros((N,1000))\n",
      "    \n",
      "    # Step 1: First customer takes a Poisson(alpha) of dishes\n",
      "    t = stats.poisson.rvs(alpha) # (set the random seed when calling the function)\n",
      "    if t > 0:\n",
      "        result[0,0:t] = 1\n",
      "    \n",
      "    # Kplus = the number of features for which m_k > 0 (m_k: the number of previous customers who sampled that dish)\n",
      "    Kplus = t\n",
      "    for i in range(1,N):\n",
      "        for k in range(Kplus):\n",
      "            # Step 2: The ith customer takes dish k with probability m_k/i\n",
      "            p = np.sum(result[0:(i+1),k])/(i+1) # this is a probability, so should be between 0 and 1\n",
      "            assert p <= 1 \n",
      "            assert p >= 0\n",
      "            if stats.uniform.rvs(0) < p:\n",
      "                result[i,k] = 1\n",
      "            else:\n",
      "                result[i,k] = 0\n",
      "        # Step 3: The ith customer tries a Poisson(alpha/N) number of new dishes\n",
      "        \n",
      "        t = stats.poisson.rvs(alpha/(i+1))\n",
      "        if t > 0:\n",
      "            result[i,Kplus:(Kplus+t)] = 1\n",
      "        Kplus += t\n",
      "    result = result[:,0:Kplus]\n",
      "    \n",
      "    return result, Kplus"
     ],
     "language": "python",
     "metadata": {},
     "outputs": [],
     "prompt_number": 117
    },
    {
     "cell_type": "markdown",
     "metadata": {},
     "source": [
      "### Indian Buffet Process (IBP): Testing\n",
      "\n",
      "Probability must be between 0 and 1: $ 0 \\leq \\dfrac{m_{-i,k}+\\dfrac{\\alpha}{K}}{N+\\dfrac{\\alpha}{K}}, \\dfrac{m_{-i,k}}{N} \\leq 1$\n",
      "\n",
      "This is equivalent to testing $m_{-i,k} \\leq N$"
     ]
    },
    {
     "cell_type": "code",
     "collapsed": false,
     "input": [
      "np.random.seed(12)\n",
      "N1 = 100\n",
      "alpha1 = 1.5\n",
      "\n",
      "result1, Kplus1 = IBP(N1,alpha1)\n",
      "print Kplus1\n",
      "\n",
      "print result1.shape"
     ],
     "language": "python",
     "metadata": {},
     "outputs": [
      {
       "output_type": "stream",
       "stream": "stdout",
       "text": [
        "t: 0\n",
        "5\n",
        "(100, 5)\n"
       ]
      }
     ],
     "prompt_number": 75
    },
    {
     "cell_type": "heading",
     "level": 1,
     "metadata": {},
     "source": [
      "Algorithm Application -- Linear-Gaussian Binary Latent Feature Models\n"
     ]
    },
    {
     "cell_type": "markdown",
     "metadata": {},
     "source": [
      "### Variables in Data (Images)\n",
      "\n",
      "$N = 100$ is the number of images (customers, objects)\n",
      "\n",
      "$D = 6 \\times 6 = 36$ is the length of vectors (dishes, features) for each image\n",
      "\n",
      "$K = 4$ is the number of basis images (latent or underlying variables)\n",
      "\n",
      "Each object $i$ has a $D$-dimensional vector of properties, named $x_i$\n",
      "\n",
      "- Generate images $X$ with the $K$ basis images, indicating which bases are used (each with probability 0.5)\n",
      "- Add white noises $\\text{Normal}(0,\\sigma_X^2 = 0.5)$ to these images"
     ]
    },
    {
     "cell_type": "code",
     "collapsed": false,
     "input": [
      "# Basis images\n",
      "import Image\n",
      "basis1 = np.array([[0,0,0,0,0,0],[0,0,0,0,0,0],[0,0,0,0,0,0],[0,1,0,0,0,0],[1,1,1,0,0,0],[0,1,0,0,0,0]])\n",
      "basis2 = np.array([[1,1,1,0,0,0],[1,0,1,0,0,0],[1,1,1,0,0,0],[0,0,0,0,0,0],[0,0,0,0,0,0],[0,0,0,0,0,0]])\n",
      "basis3 = np.array([[0,0,0,0,0,0],[0,0,0,0,0,0],[0,0,0,0,0,0],[0,0,0,0,0,1],[0,0,0,0,1,1],[0,0,0,1,1,1]])\n",
      "basis4 = np.array([[0,0,0,1,0,0],[0,0,0,1,1,1],[0,0,0,1,0,0],[0,0,0,0,0,0],[0,0,0,0,0,0],[0,0,0,0,0,0]])\n",
      "\n",
      "b1 = basis1.reshape(D)\n",
      "b2 = basis2.reshape(D)\n",
      "b3 = basis3.reshape(D)\n",
      "b4 = basis4.reshape(D)\n",
      "A = np.array([b1,b2,b3,b4])\n",
      "\n",
      "# These are heatmaps!\n",
      "plt.figure(num=None, figsize=(12,3), dpi=80, facecolor='w', edgecolor='k')\n",
      "plt.subplot(141)\n",
      "plt.pcolormesh(basis1,cmap=plt.cm.gray)     \n",
      "plt.subplot(142)\n",
      "plt.pcolormesh(basis2,cmap=plt.cm.gray)  \n",
      "plt.subplot(143)\n",
      "plt.pcolormesh(basis3,cmap=plt.cm.gray)  \n",
      "plt.subplot(144)\n",
      "plt.pcolormesh(basis4,cmap=plt.cm.gray)  \n",
      "\n",
      "print \"Latent feature matrices (A):\""
     ],
     "language": "python",
     "metadata": {},
     "outputs": [
      {
       "output_type": "stream",
       "stream": "stdout",
       "text": [
        "Latent feature matrices (A):\n"
       ]
      },
      {
       "metadata": {},
       "output_type": "display_data",
       "png": "[encoded data removed]",
       "text": [
        "<matplotlib.figure.Figure at 0x7ffde9f54f10>"
       ]
      }
     ],
     "prompt_number": 8
    },
    {
     "cell_type": "code",
     "collapsed": false,
     "input": [
      "# Generate image data: 100 matrices of size 6*6\n",
      "N = 100\n",
      "D = 36\n",
      "K = 4\n",
      "sigmaX_orig = 0.5\n",
      "x = np.zeros\n",
      "\n",
      "# All K basis images, each of length D\n",
      "# Generate N images (customers, objects)\n",
      "np.random.seed(1234)\n",
      "images = np.zeros((N,6,6)) # simulated image data\n",
      "structure = np.zeros((N,6,6))  # 0/1 structure for each image\n",
      "add = stats.bernoulli.rvs(0.5,size=(N,K)) # whether the K=4 latent bases are present in each image\n",
      "epsilon = stats.norm.rvs(loc=0,scale=0.5,size = (N,6,6)) # random noise\n",
      "\n",
      "for i in range(N):\n",
      "    structure[i,:,:] = add[i,0]*basis1 + add[i,1]*basis2 + add[i,2]*basis3 + add[i,3]*basis4\n",
      "    images[i,:,:] = structure[i,:,:] + epsilon[i,:,:]\n",
      "\n",
      "Z_orig = add    \n",
      "X = structure.reshape(N,D)    \n",
      "# print Z_orig\n",
      "# print structure[0,:,:]\n",
      "# print X[0,:]\n",
      "# print X.shape\n",
      "\n",
      "# print images.shape\n",
      "print \"Example image:\\n\",images[4]\n",
      "plt.pcolormesh(images[4],cmap=plt.cm.gray)"
     ],
     "language": "python",
     "metadata": {},
     "outputs": [
      {
       "output_type": "stream",
       "stream": "stdout",
       "text": [
        "Example image:\n",
        "[[ 0.2067  0.3588  0.1309  0.8786 -0.2506 -0.3491]\n",
        " [ 0.6923 -0.1432  0.25    1.9756  0.8608  1.0184]\n",
        " [ 0.2229 -0.7052  0.225   1.2577 -0.577  -0.6901]\n",
        " [-0.2479  0.7934 -0.8597 -0.0148 -0.383   1.0499]\n",
        " [ 0.6435 -0.1131  1.3629  0.4585  0.7181  0.2389]\n",
        " [-0.0071  0.8766 -0.0827  1.0596 -0.0375  0.4986]]\n"
       ]
      },
      {
       "metadata": {},
       "output_type": "pyout",
       "prompt_number": 9,
       "text": [
        "<matplotlib.collections.QuadMesh at 0x7ffde957dfd0>"
       ]
      },
      {
       "metadata": {},
       "output_type": "display_data",
       "png": "[encoded data removed]",
       "text": [
        "<matplotlib.figure.Figure at 0x7ffde9597550>"
       ]
      }
     ],
     "prompt_number": 9
    },
    {
     "cell_type": "markdown",
     "metadata": {},
     "source": [
      "### Variables in Transformation\n",
      "\n",
      "$x_i \\sim \\text{Normal}(\\mathbf{z_i} \\mathbf{A}, \\Sigma_X = \\sigma_X^2\\mathbf{I})$\n",
      "\n",
      "$\\mathbf{z_i}$ is a $K$-dimensional binary vector (features)\n",
      "\n",
      "$\\mathbf{A}$ is a $K \\times D$ matrix of weights, with prior $A \\sim \\text{Normal}(0,\\sigma_A^2 \\mathbf{I})$\n",
      "\n",
      "$Z \\sim \\text{IBP}(\\alpha)$, where $m_k$ is the number of objects with feature $k$\n",
      "\n",
      "$p(Z | \\alpha) = \\dfrac{\\alpha^K}{\\prod^{2^N-1}_{h=1}K_h!} \\exp(-\\alpha H_N) \\prod^{K}_{k=1}\\dfrac{(N-m_k)!(m_k-1)!}{N!}$\n",
      "\n",
      "Note 1: $\\alpha$ is a variable influencing the number of features  $D$\n",
      "\n",
      "Note 2: $K_h$ is the number of features with history $h$ (whether the $N$ images possess this feature, $2^N-1$ possibilities in total)\n",
      "\n",
      "Note 3: $H_N$ is the $N^{\\text{th}}$ harmonic number, and $m_k$ is the number of objects with feature $k$"
     ]
    },
    {
     "cell_type": "code",
     "collapsed": false,
     "input": [
      "# Generate the Harmonic numbers, but we only need the sum\n",
      "from fractions import Fraction\n",
      "sum_Harmonics = 0\n",
      "Harmonics = 0\n",
      "for i in range(N):\n",
      "    sum_Harmonics += (N-i)*Fraction(1,i+1)\n",
      "    Harmonics += Fraction(1,i+1)\n",
      "print \"Sum of H_1 + ... + H_N:\", float(sum_Harmonics)\n",
      "print \"Harmonic number H_N:\", float(Harmonics)"
     ],
     "language": "python",
     "metadata": {},
     "outputs": [
      {
       "output_type": "stream",
       "stream": "stdout",
       "text": [
        "Sum of H_1 + ... + H_N: 423.925129282\n",
        "Harmonic number H_N: 5.18737751764\n"
       ]
      }
     ],
     "prompt_number": 10
    },
    {
     "cell_type": "code",
     "collapsed": false,
     "input": [
      "# Initialization\n",
      "N = 100\n",
      "D = 36\n",
      "K = 4\n",
      "sigmaA = 1\n",
      "sigmaX = 1\n",
      "\n",
      "np.random.seed(1005)\n",
      "# alpha = stats.gamma.rvs(a = 1, loc = 0, scale = 1, size = 1)[0]\n",
      "alpha = 1\n",
      "print \"Initial alpha:\", alpha\n",
      "\n",
      "K_inf = 1000\n",
      "Z, Kplus = IBP(N, alpha)\n",
      "print \"Z.shape:\",Z.shape # (100,4) = (N,Kplus) (latent)\n",
      "print \"X.shape:\",X.shape # (100,36) = (N,D) (data)\n",
      "print \"A.shape:\",A.shape # (4,36) = (Kplus,D)  (weight)\n",
      "\n",
      "# Set MCMC steps\n",
      "mcmc = 1000 # plan to sample for 1000 times\n",
      "\n",
      "# Setup the array\n",
      "Z_arr = np.zeros((mcmc,N,K_inf))\n",
      "Kplus_arr = np.zeros(mcmc)\n",
      "sigmaX_arr = np.zeros(mcmc)\n",
      "sigmaA_arr = np.zeros(mcmc)\n",
      "alpha_arr = np.zeros(mcmc)\n",
      "rX_accept = 0\n",
      "rA_accept = 0"
     ],
     "language": "python",
     "metadata": {},
     "outputs": [
      {
       "output_type": "stream",
       "stream": "stdout",
       "text": [
        "Initial alpha: 1\n",
        "Z.shape: (100, 4)\n",
        "X.shape: (100, 36)\n",
        "A.shape: (4, 36)\n"
       ]
      }
     ],
     "prompt_number": 137
    },
    {
     "cell_type": "code",
     "collapsed": false,
     "input": [
      "# Checking whether the gamma distribution is setup correctly\n",
      "# ff ~ Gamma(a,b): a = shape, b = 1/scale => E(ff) = a/b = a*scale, Var(ff) = a/b**2 = a*scale**2\n",
      "# Generate 1000 random samples from Ga(3,2)\n",
      "rv = stats.gamma.rvs(a = 3, loc = 0, scale = 2, size=1000)\n",
      "print np.mean(rv)  # should be close to 3*2 = 6\n",
      "print np.var(rv)   # should be close to 3*2*2 = 12"
     ],
     "language": "python",
     "metadata": {},
     "outputs": [
      {
       "output_type": "stream",
       "stream": "stdout",
       "text": [
        "5.92371502259\n",
        "11.8372738286\n"
       ]
      }
     ],
     "prompt_number": 12
    },
    {
     "cell_type": "markdown",
     "metadata": {},
     "source": [
      "### Gibbs Sampler\n",
      "\n",
      "Initialization: $\\sigma_A = 1, \\sigma_X = 1, \\alpha \\sim Ga(1,1)$\n",
      "\n",
      "1. Generate $P(z_{ik} | \\mathbf{X,Z_{-i,k}},\\sigma_X, \\sigma_A)$ using the full conditional distribution\n",
      "2. Sample $\\sigma_{X}^* = \\sigma_X + \\epsilon$, where $\\epsilon \\sim \\text{Unif}(-0.05,0.05)$, and accept $\\sigma_{X}^*$ by Metropolis (not just when the likelihood is larger, i.e. $P(\\sigma_{X}^*) > P(\\sigma_{X})$)\n",
      "3. Sample $\\sigma_{A}^* = \\sigma_A + \\epsilon$, where $\\epsilon \\sim \\text{Unif}(-0.05,0.05)$, and accept $\\sigma_{A}^*$ by Metropolis (not just when the likelihood is larger, i.e. $P(\\sigma_{A}^*) > P(\\sigma_{A})$)\n",
      "4. Generate $\\alpha|Z \\sim Ga(1+K_+,1+\\sum^{N}_{i=1}H_i)$, where $K_+ = \\sum^{2^N-1}_{h=1}K_h$ and $K_+$ is the number of features for which $m_k > 0$\n",
      "\n",
      "Metropolis for $\\sigma_A$ (for $\\sigma_X$ is similar):\n",
      "\n",
      "Current value: $\\sigma_{A}^{(n)}$\n",
      "\n",
      "Candidate value: $\\sigma_{A}^{*}$\n",
      "\n",
      "Generate $r \\sim \\text{Unif}(0,1)$\n",
      "\n",
      "Accept $\\sigma_{A}^{*}$ if $r < \\text{min}\\{ 1, \\dfrac{P(\\sigma_{A}^{*} | \\mathbf{Z,X},\\sigma_X)}{P(\\sigma_{A}^{(n)} | \\mathbf{Z,X},\\sigma_X)} \\}$"
     ]
    },
    {
     "cell_type": "code",
     "collapsed": false,
     "input": [
      "def calcM(Z,Kplus,sigmaX,sigmaA):\n",
      "    \"\"\"Save the matrix M so we won't need to calculate it again and again\"\"\"\n",
      "    return np.linalg.inv(np.dot(Z[:,0:Kplus].T,Z[:,0:Kplus])+((sigmaX/sigmaA)**2)*np.identity(Kplus))"
     ],
     "language": "python",
     "metadata": {},
     "outputs": [],
     "prompt_number": 13
    },
    {
     "cell_type": "code",
     "collapsed": false,
     "input": [
      "def calcInverse(Z, M, i, k, val):\n",
      "    \"\"\"Effective inverse calculation from Griffiths and Ghahramani (2005; Equations 51 to 54)\n",
      "    M_(-i) = inv(inv(M) - zi.T * zi)\"\"\"\n",
      "    M_i = M - np.dot(np.dot(M,Z[i,:].T),np.dot(Z[i,:],M))/(np.dot(np.dot(Z[i,:],M),Z[i,:])-1)\n",
      "    Z[i,k] = val\n",
      "    M = M_i - np.dot(np.dot(M_i,Z[i,:].T),np.dot(Z[i,:],M_i))/(np.dot(np.dot(Z[i,:],M_i),Z[i,:])+1)\n",
      "    Inv = M\n",
      "    return Inv"
     ],
     "language": "python",
     "metadata": {},
     "outputs": [],
     "prompt_number": 14
    },
    {
     "cell_type": "code",
     "collapsed": false,
     "input": [
      "def log_likelihood(X,Z,M,sigmaA,sigmaX,Kplus,N,D):  \n",
      "    \"\"\"Calculate the log-likelihood: P(X|Z,M,sigmaA,sigmaX,Kplus,N,D)\"\"\"  \n",
      "    determinant = np.linalg.det(np.dot(Z.T,Z)+((sigmaX/sigmaA)**2)*np.identity(Kplus))\n",
      "    constant = N*D*0.5*np.log(2*np.pi) + (N-Kplus)*D*np.log(sigmaX) + Kplus*D*np.log(sigmaA) + D*0.5*np.log(determinant)\n",
      "    \n",
      "    middle = np.identity(N) - np.dot(np.dot(Z, M),Z.T)\n",
      "    trace = np.trace(np.dot(np.dot(X.T,middle),X))\n",
      "    kernel = -0.5*np.reciprocal(sigmaX**2)*trace\n",
      "    \n",
      "    log_lik = -constant + kernel\n",
      "    #print constant\n",
      "    #print kernel\n",
      "    return log_lik"
     ],
     "language": "python",
     "metadata": {},
     "outputs": [],
     "prompt_number": 15
    },
    {
     "cell_type": "code",
     "collapsed": false,
     "input": [
      "# Gibbs Sampler -- Steps\n",
      "np.random.seed(1511)\n",
      "\n",
      "# for mc in range(mcmc):\n",
      "for mc in range(1000):\n",
      "\n",
      "    # Step 0: Save generated parameters to the MCMC array\n",
      "    Z_arr[mc,:,0:Kplus] = Z[:,0:Kplus]\n",
      "    print \"Shape of Z:\",Z.shape\n",
      "    \n",
      "    alpha_arr[mc] = alpha\n",
      "    Kplus_arr[mc] = Kplus\n",
      "    sigmaX_arr[mc] = sigmaX\n",
      "    sigmaA_arr[mc] = sigmaA\n",
      "    print \"At iteration\",mc,\": Kplus is\",Kplus,\", alpha is\",alpha\n",
      "\n",
      "    # Step 1: Generate Z|alpha (Gibbs)\n",
      "    for i in range(N):\n",
      "        # Save the matrix M so we won't need to calculate it again and again\n",
      "        M = calcM(Z,Kplus,sigmaX,sigmaA)\n",
      "                             \n",
      "        for k in range(Kplus):\n",
      "            # This is possible because Kplus may decrease in this loop (e.g. dropping redundant zeros)\n",
      "            if k >= Kplus:\n",
      "                break\n",
      "            if Z[i,k] > 0:\n",
      "                # Take care of singular features\n",
      "                # Get rid of the features not sampled (remove the zeros)\n",
      "                if np.sum(Z[:,k]) - Z[i,k] <= 0: # whether the dish is sampled by other customers or not\n",
      "                    Z[i,k] = 0\n",
      "                    # Avoid Kplus to become zero!\n",
      "                    if Kplus == 1:\n",
      "                        Z[:,0] = Z[:,1]\n",
      "                    else: # Kplus > 1\n",
      "                        Z[:,k:(Kplus-1)] = Z[:,(k+1):Kplus]\n",
      "                        # Z = Z[:,0:(Kplus-1)] # remove the last column\n",
      "                        Kplus -= 1\n",
      "                    M = calcM(Z,Kplus,sigmaX,sigmaA)          \n",
      "                    continue            \n",
      "            \n",
      "            # Effective inverse calculation from Griffiths and Ghahramani (2005; Equations 51 to 54)\n",
      "            # M_(-i) = inv(inv(M) - zi.T * zi)\n",
      "            M0 = calcInverse(Z[:,0:Kplus], M, i, k, 0)\n",
      "            M1 = calcInverse(Z[:,0:Kplus], M, i, k, 1)\n",
      "            \n",
      "            # Then calculate the posterior distribution: prior * likelihood \n",
      "            # i.e. customers sample the dishes that have been previously sampled\n",
      "            # Likelihood: P(X|Z_(-i,k),sigmaX,sigmaA)\n",
      "            # Prior: P(z_ik = 1 | z_(-i,k)) = m_(-i,k) / N, where m_(-i,k) = number of objects possess feature k, excluding i\n",
      "            P = np.zeros(2)\n",
      "            Z[i,k] = 1\n",
      "            P[1] = log_likelihood(X,Z[:,0:Kplus],M1,sigmaA,sigmaX,Kplus,N,D) + np.log(sum(Z[:,k])-Z[i,k]) - np.log(N)\n",
      "            Z[i,k] = 0\n",
      "            P[0] = log_likelihood(X,Z[:,0:Kplus],M0,sigmaA,sigmaX,Kplus,N,D) + np.log(N-sum(Z[:,k])) - np.log(N)\n",
      "            P = np.exp(P - max(P))\n",
      "            # Sample from the posterior distribution\n",
      "            rand = stats.uniform.rvs(loc=0,scale=1,size=1)           \n",
      "            if rand < P[0]/(P[0]+P[1]):\n",
      "                Z[i,k] = 0\n",
      "                M = M0\n",
      "            else:\n",
      "                Z[i,k] = 1\n",
      "                M = M1\n",
      "\n",
      "        # Sample the number of new dishes Pois(alpha/i) for the current customer/object\n",
      "        # Truncated prior: P(z_ik = 1 | z_(-i,k)) = (m_(-i,k) + alpha/Kplus) / (N + alpha/Kplus)\n",
      "        trun = np.zeros(5)\n",
      "        alphaN = alpha/N  # don't use alpha/i, or this can result in division by zero, but I don't know the details\n",
      "        # Note: in MATLAB, any matrix can be expanded => in Python, we need np.vstack and/or np.hstack\n",
      "               \n",
      "        for ki in range(5):\n",
      "            if ki > 0:\n",
      "                new_stack = np.zeros((N,ki))\n",
      "                new_stack[i,:] = 1\n",
      "                Z = np.hstack((Z[:,0:Kplus],new_stack))\n",
      "            M = np.linalg.inv(np.dot(Z[:,0:(Kplus+ki)].T,Z[:,0:(Kplus+ki)])+((sigmaX/sigmaA)**2)*np.identity(Kplus+ki))\n",
      "            # Prior: x ~ Pois(lambda): f(x) = ((lambda**x)/x!)*exp(-lambda), where lambda = ki\n",
      "            \n",
      "            trun[ki] = (ki)*np.log(alphaN) - alphaN - np.log(np.math.factorial(ki)) \n",
      "            # posterior is proportional to prior x likelihood\n",
      "            trun[ki] += log_likelihood(X,Z[:,0:(Kplus+ki)],M,sigmaA,sigmaX,Kplus+ki,N,D)\n",
      "    \n",
      "        Z[i,Kplus:(Kplus+4)] = 0\n",
      "        trun = np.exp(trun-max(trun))\n",
      "        trun = trun/np.sum(trun)\n",
      "        p = stats.uniform.rvs(loc=0,scale=1,size=1)  \n",
      "        t = 0\n",
      "        for ki in range(5):\n",
      "            t += trun[ki]\n",
      "            if p < t:\n",
      "                new_dishes = ki\n",
      "                break\n",
      "        Z[i,Kplus:(Kplus+new_dishes)] = 1\n",
      "        Kplus += new_dishes\n",
      "        \n",
      "    # Step 2: Sample sigmaX_star (Metropolis)\n",
      "    epsilonX = stats.uniform.rvs(loc=-0.05,scale=0.1,size=1) # uniform(loc,loc+scale)\n",
      "    sigmaX_star = sigmaX + epsilonX   \n",
      "    M_star = calcM(Z, Kplus+new_dishes, sigmaX_star, sigmaA)\n",
      "    logLikX_star = log_likelihood(X, Z[:,0:(Kplus+new_dishes)], M_star, sigmaA, sigmaX_star, Kplus+new_dishes, N, D)\n",
      "    M = calcM(Z, Kplus+new_dishes, sigmaX, sigmaA)\n",
      "    logLikX = log_likelihood(X, Z[:,0:(Kplus+new_dishes)], M, sigmaA, sigmaX, Kplus+new_dishes, N, D)\n",
      "    metropolisX = min(1,np.exp(logLikX_star-logLikX))\n",
      "    rX = stats.uniform.rvs(loc=0,scale=1,size=1)\n",
      "    if rX < metropolisX:\n",
      "        sigmaX = sigmaX_star\n",
      "        rX_accept += 1\n",
      "    \n",
      "    # Step 3: Sample sigmaA_star (Metropolis)\n",
      "    epsilonA = stats.uniform.rvs(loc=-0.05,scale=0.1,size=1) # uniform(loc,loc+scale)\n",
      "    sigmaA_star = sigmaA + epsilonA\n",
      "    M_star = calcM(Z, Kplus+new_dishes, sigmaX, sigmaA_star)\n",
      "    logLikA_star = log_likelihood(X, Z[:,0:(Kplus+new_dishes)], M_star, sigmaA_star, sigmaX, Kplus+new_dishes, N, D)\n",
      "    M = calcM(Z, Kplus+new_dishes, sigmaX, sigmaA)\n",
      "    logLikA = log_likelihood(X, Z[:,0:(Kplus+new_dishes)], M, sigmaA, sigmaX, Kplus+new_dishes, N, D)\n",
      "    metropolisA = min(1,np.exp(logLikA_star-logLikA))\n",
      "    rA = stats.uniform.rvs(loc=0,scale=1,size=1)\n",
      "    if rA < metropolisA:\n",
      "        sigmaA = sigmaA_star\n",
      "        rA_accept += 1\n",
      "    \n",
      "    # Step 4: Sample alpha|Z ~ Ga(a=1+Kplus,scale=1+Harmonics)\n",
      "    alpha = stats.gamma.rvs(a = 1+Kplus, loc = 0, scale = np.reciprocal(1+Harmonics),size=1)[0]\n",
      "    "
     ],
     "language": "python",
     "metadata": {},
     "outputs": [
      {
       "output_type": "stream",
       "stream": "stdout",
       "text": [
        "Shape of Z: (100, 4)\n",
        "At iteration 0 : Kplus is 4 , alpha is 1\n",
        "Shape of Z:"
       ]
      },
      {
       "output_type": "stream",
       "stream": "stdout",
       "text": [
        " (100, 6)\n",
        "At iteration 1 : Kplus is 2 , alpha is 0.499756974218\n",
        "Shape of Z:"
       ]
      },
      {
       "output_type": "stream",
       "stream": "stdout",
       "text": [
        " (100, 6)\n",
        "At iteration 2 : Kplus is 2 , alpha is 0.69259087065\n",
        "Shape of Z:"
       ]
      },
      {
       "output_type": "stream",
       "stream": "stdout",
       "text": [
        " (100, 5)\n",
        "At iteration 3 : Kplus is 1 , alpha is 0.122475552743\n",
        "Shape of Z:"
       ]
      },
      {
       "output_type": "stream",
       "stream": "stdout",
       "text": [
        " (100, 5)\n",
        "At iteration 4 : Kplus is 1 , alpha is 0.0840998315949\n",
        "Shape of Z:"
       ]
      },
      {
       "output_type": "stream",
       "stream": "stdout",
       "text": [
        " (100, 5)\n",
        "At iteration 5 : Kplus is 1 , alpha is 0.10130398448\n",
        "Shape of Z:"
       ]
      },
      {
       "output_type": "stream",
       "stream": "stdout",
       "text": [
        " (100, 5)\n",
        "At iteration 6 : Kplus is 1 , alpha is 0.402314680036\n",
        "Shape of Z:"
       ]
      },
      {
       "output_type": "stream",
       "stream": "stdout",
       "text": [
        " (100, 5)\n",
        "At iteration 7 : Kplus is 1 , alpha is 1.36739205733\n",
        "Shape of Z:"
       ]
      },
      {
       "output_type": "stream",
       "stream": "stdout",
       "text": [
        " (100, 5)\n",
        "At iteration 8 : Kplus is 1 , alpha is 0.215077721227\n",
        "Shape of Z:"
       ]
      },
      {
       "output_type": "stream",
       "stream": "stdout",
       "text": [
        " (100, 5)\n",
        "At iteration 9 : Kplus is 1 , alpha is 0.188920608461\n",
        "Shape of Z:"
       ]
      },
      {
       "output_type": "stream",
       "stream": "stdout",
       "text": [
        " (100, 5)\n",
        "At iteration 10 : Kplus is 1 , alpha is 0.30979131932\n",
        "Shape of Z:"
       ]
      },
      {
       "output_type": "stream",
       "stream": "stdout",
       "text": [
        " (100, 5)\n",
        "At iteration 11 : Kplus is 1 , alpha is 0.206219599721\n",
        "Shape of Z:"
       ]
      },
      {
       "output_type": "stream",
       "stream": "stdout",
       "text": [
        " (100, 5)\n",
        "At iteration 12 : Kplus is 1 , alpha is 0.267706518826\n",
        "Shape of Z:"
       ]
      },
      {
       "output_type": "stream",
       "stream": "stdout",
       "text": [
        " (100, 5)\n",
        "At iteration 13 : Kplus is 1 , alpha is 0.232385784348\n",
        "Shape of Z:"
       ]
      },
      {
       "output_type": "stream",
       "stream": "stdout",
       "text": [
        " (100, 5)\n",
        "At iteration 14 : Kplus is 1 , alpha is 0.810240142813\n",
        "Shape of Z:"
       ]
      },
      {
       "output_type": "stream",
       "stream": "stdout",
       "text": [
        " (100, 5)\n",
        "At iteration 15 : Kplus is 1 , alpha is 0.319544181363\n",
        "Shape of Z:"
       ]
      },
      {
       "output_type": "stream",
       "stream": "stdout",
       "text": [
        " (100, 5)\n",
        "At iteration 16 : Kplus is 1 , alpha is 0.206197771575\n",
        "Shape of Z:"
       ]
      },
      {
       "output_type": "stream",
       "stream": "stdout",
       "text": [
        " (100, 5)\n",
        "At iteration 17 : Kplus is 1 , alpha is 0.207753018619\n",
        "Shape of Z:"
       ]
      },
      {
       "output_type": "stream",
       "stream": "stdout",
       "text": [
        " (100, 5)\n",
        "At iteration 18 : Kplus is 1 , alpha is 0.501130315469\n",
        "Shape of Z:"
       ]
      },
      {
       "output_type": "stream",
       "stream": "stdout",
       "text": [
        " (100, 5)\n",
        "At iteration 19 : Kplus is 1 , alpha is 0.671162671346\n",
        "Shape of Z:"
       ]
      },
      {
       "output_type": "stream",
       "stream": "stdout",
       "text": [
        " (100, 5)\n",
        "At iteration 20 : Kplus is 1 , alpha is 0.475600090521\n",
        "Shape of Z:"
       ]
      },
      {
       "output_type": "stream",
       "stream": "stdout",
       "text": [
        " (100, 5)\n",
        "At iteration 21 : Kplus is 1 , alpha is 0.507344392056\n",
        "Shape of Z:"
       ]
      },
      {
       "output_type": "stream",
       "stream": "stdout",
       "text": [
        " (100, 5)\n",
        "At iteration 22 : Kplus is 1 , alpha is 0.11151656191\n",
        "Shape of Z:"
       ]
      },
      {
       "output_type": "stream",
       "stream": "stdout",
       "text": [
        " (100, 5)\n",
        "At iteration 23 : Kplus is 1 , alpha is 0.486033739362\n",
        "Shape of Z:"
       ]
      },
      {
       "output_type": "stream",
       "stream": "stdout",
       "text": [
        " (100, 5)\n",
        "At iteration 24 : Kplus is 1 , alpha is 0.171950355481\n",
        "Shape of Z:"
       ]
      },
      {
       "output_type": "stream",
       "stream": "stdout",
       "text": [
        " (100, 5)\n",
        "At iteration 25 : Kplus is 1 , alpha is 0.549568877651\n",
        "Shape of Z:"
       ]
      },
      {
       "output_type": "stream",
       "stream": "stdout",
       "text": [
        " (100, 5)\n",
        "At iteration 26 : Kplus is 1 , alpha is 0.172936552169\n",
        "Shape of Z:"
       ]
      },
      {
       "output_type": "stream",
       "stream": "stdout",
       "text": [
        " (100, 5)\n",
        "At iteration 27 : Kplus is 1 , alpha is 0.0783115969304\n",
        "Shape of Z:"
       ]
      },
      {
       "output_type": "stream",
       "stream": "stdout",
       "text": [
        " (100, 5)\n",
        "At iteration 28 : Kplus is 1 , alpha is 0.246206637212\n",
        "Shape of Z:"
       ]
      },
      {
       "output_type": "stream",
       "stream": "stdout",
       "text": [
        " (100, 5)\n",
        "At iteration 29 : Kplus is 1 , alpha is 0.17774180258\n",
        "Shape of Z:"
       ]
      },
      {
       "output_type": "stream",
       "stream": "stdout",
       "text": [
        " (100, 5)\n",
        "At iteration 30 : Kplus is 1 , alpha is 0.50592826716\n",
        "Shape of Z:"
       ]
      },
      {
       "output_type": "stream",
       "stream": "stdout",
       "text": [
        " (100, 5)\n",
        "At iteration 31 : Kplus is 1 , alpha is 0.558888958789\n",
        "Shape of Z:"
       ]
      },
      {
       "output_type": "stream",
       "stream": "stdout",
       "text": [
        " (100, 5)\n",
        "At iteration 32 : Kplus is 1 , alpha is 0.0369725809794\n",
        "Shape of Z:"
       ]
      },
      {
       "output_type": "stream",
       "stream": "stdout",
       "text": [
        " (100, 5)\n",
        "At iteration 33 : Kplus is 1 , alpha is 0.186863902636\n",
        "Shape of Z:"
       ]
      },
      {
       "output_type": "stream",
       "stream": "stdout",
       "text": [
        " (100, 5)\n",
        "At iteration 34 : Kplus is 1 , alpha is 0.493929089162\n",
        "Shape of Z:"
       ]
      },
      {
       "output_type": "stream",
       "stream": "stdout",
       "text": [
        " (100, 5)\n",
        "At iteration 35 : Kplus is 1 , alpha is 0.3924271211\n",
        "Shape of Z:"
       ]
      },
      {
       "output_type": "stream",
       "stream": "stdout",
       "text": [
        " (100, 5)\n",
        "At iteration 36 : Kplus is 1 , alpha is 0.30328215018\n",
        "Shape of Z:"
       ]
      },
      {
       "output_type": "stream",
       "stream": "stdout",
       "text": [
        " (100, 5)\n",
        "At iteration 37 : Kplus is 1 , alpha is 1.29457586188\n",
        "Shape of Z:"
       ]
      },
      {
       "output_type": "stream",
       "stream": "stdout",
       "text": [
        " (100, 5)\n",
        "At iteration 38 : Kplus is 1 , alpha is 0.994939592532\n",
        "Shape of Z:"
       ]
      },
      {
       "output_type": "stream",
       "stream": "stdout",
       "text": [
        " (100, 5)\n",
        "At iteration 39 : Kplus is 1 , alpha is 0.259165802385\n",
        "Shape of Z:"
       ]
      },
      {
       "output_type": "stream",
       "stream": "stdout",
       "text": [
        " (100, 5)\n",
        "At iteration 40 : Kplus is 1 , alpha is 0.229767310672\n",
        "Shape of Z:"
       ]
      },
      {
       "output_type": "stream",
       "stream": "stdout",
       "text": [
        " (100, 5)\n",
        "At iteration 41 : Kplus is 1 , alpha is 0.450340839834\n",
        "Shape of Z:"
       ]
      },
      {
       "output_type": "stream",
       "stream": "stdout",
       "text": [
        " (100, 5)\n",
        "At iteration 42 : Kplus is 1 , alpha is 0.27993140804\n",
        "Shape of Z:"
       ]
      },
      {
       "output_type": "stream",
       "stream": "stdout",
       "text": [
        " (100, 5)\n",
        "At iteration 43 : Kplus is 1 , alpha is 0.449556149486\n",
        "Shape of Z:"
       ]
      },
      {
       "output_type": "stream",
       "stream": "stdout",
       "text": [
        " (100, 5)\n",
        "At iteration 44 : Kplus is 1 , alpha is 0.156204682379\n",
        "Shape of Z:"
       ]
      },
      {
       "output_type": "stream",
       "stream": "stdout",
       "text": [
        " (100, 5)\n",
        "At iteration 45 : Kplus is 1 , alpha is 0.841276633234\n",
        "Shape of Z:"
       ]
      },
      {
       "output_type": "stream",
       "stream": "stdout",
       "text": [
        " (100, 5)\n",
        "At iteration 46 : Kplus is 1 , alpha is 0.0748260050464\n",
        "Shape of Z:"
       ]
      },
      {
       "output_type": "stream",
       "stream": "stdout",
       "text": [
        " (100, 5)\n",
        "At iteration 47 : Kplus is 1 , alpha is 0.71334326802\n",
        "Shape of Z:"
       ]
      },
      {
       "output_type": "stream",
       "stream": "stdout",
       "text": [
        " (100, 5)\n",
        "At iteration 48 : Kplus is 1 , alpha is 0.538220490736\n",
        "Shape of Z:"
       ]
      },
      {
       "output_type": "stream",
       "stream": "stdout",
       "text": [
        " (100, 5)\n",
        "At iteration 49 : Kplus is 1 , alpha is 0.149660213757\n",
        "Shape of Z:"
       ]
      },
      {
       "output_type": "stream",
       "stream": "stdout",
       "text": [
        " (100, 5)\n",
        "At iteration 50 : Kplus is 1 , alpha is 0.263926922301\n",
        "Shape of Z:"
       ]
      },
      {
       "output_type": "stream",
       "stream": "stdout",
       "text": [
        " (100, 5)\n",
        "At iteration 51 : Kplus is 1 , alpha is 0.584382977222\n",
        "Shape of Z:"
       ]
      },
      {
       "output_type": "stream",
       "stream": "stdout",
       "text": [
        " (100, 5)\n",
        "At iteration 52 : Kplus is 1 , alpha is 0.603243945781\n",
        "Shape of Z:"
       ]
      },
      {
       "output_type": "stream",
       "stream": "stdout",
       "text": [
        " (100, 5)\n",
        "At iteration 53 : Kplus is 1 , alpha is 0.196401320098\n",
        "Shape of Z:"
       ]
      },
      {
       "output_type": "stream",
       "stream": "stdout",
       "text": [
        " (100, 5)\n",
        "At iteration 54 : Kplus is 1 , alpha is 0.68808578735\n",
        "Shape of Z:"
       ]
      },
      {
       "output_type": "stream",
       "stream": "stdout",
       "text": [
        " (100, 5)\n",
        "At iteration 55 : Kplus is 1 , alpha is 0.346287664881\n",
        "Shape of Z:"
       ]
      },
      {
       "output_type": "stream",
       "stream": "stdout",
       "text": [
        " (100, 5)\n",
        "At iteration 56 : Kplus is 1 , alpha is 0.255234745583\n",
        "Shape of Z:"
       ]
      },
      {
       "output_type": "stream",
       "stream": "stdout",
       "text": [
        " (100, 5)\n",
        "At iteration 57 : Kplus is 1 , alpha is 0.392616739275\n",
        "Shape of Z:"
       ]
      },
      {
       "output_type": "stream",
       "stream": "stdout",
       "text": [
        " (100, 5)\n",
        "At iteration 58 : Kplus is 1 , alpha is 0.197219163682\n",
        "Shape of Z:"
       ]
      },
      {
       "output_type": "stream",
       "stream": "stdout",
       "text": [
        " (100, 5)\n",
        "At iteration 59 : Kplus is 1 , alpha is 0.587557713677\n",
        "Shape of Z:"
       ]
      },
      {
       "output_type": "stream",
       "stream": "stdout",
       "text": [
        " (100, 5)\n",
        "At iteration 60 : Kplus is 1 , alpha is 0.539570351647\n",
        "Shape of Z:"
       ]
      },
      {
       "output_type": "stream",
       "stream": "stdout",
       "text": [
        " (100, 5)\n",
        "At iteration 61 : Kplus is 1 , alpha is 0.126129070382\n",
        "Shape of Z:"
       ]
      },
      {
       "output_type": "stream",
       "stream": "stdout",
       "text": [
        " (100, 5)\n",
        "At iteration 62 : Kplus is 1 , alpha is 0.420192432736\n",
        "Shape of Z:"
       ]
      },
      {
       "output_type": "stream",
       "stream": "stdout",
       "text": [
        " (100, 5)\n",
        "At iteration 63 : Kplus is 1 , alpha is 0.474418105988\n",
        "Shape of Z:"
       ]
      },
      {
       "output_type": "stream",
       "stream": "stdout",
       "text": [
        " (100, 5)\n",
        "At iteration 64 : Kplus is 1 , alpha is 0.314936053175\n",
        "Shape of Z:"
       ]
      },
      {
       "output_type": "stream",
       "stream": "stdout",
       "text": [
        " (100, 5)\n",
        "At iteration 65 : Kplus is 1 , alpha is 0.106591736925\n",
        "Shape of Z:"
       ]
      },
      {
       "output_type": "stream",
       "stream": "stdout",
       "text": [
        " (100, 5)\n",
        "At iteration 66 : Kplus is 1 , alpha is 0.0768460879625\n",
        "Shape of Z:"
       ]
      },
      {
       "output_type": "stream",
       "stream": "stdout",
       "text": [
        " (100, 5)\n",
        "At iteration 67 : Kplus is 1 , alpha is 0.221626711519\n",
        "Shape of Z:"
       ]
      },
      {
       "output_type": "stream",
       "stream": "stdout",
       "text": [
        " (100, 5)\n",
        "At iteration 68 : Kplus is 1 , alpha is 0.381374147157\n",
        "Shape of Z:"
       ]
      },
      {
       "output_type": "stream",
       "stream": "stdout",
       "text": [
        " (100, 5)\n",
        "At iteration 69 : Kplus is 1 , alpha is 0.169591101154\n",
        "Shape of Z:"
       ]
      },
      {
       "output_type": "stream",
       "stream": "stdout",
       "text": [
        " (100, 5)\n",
        "At iteration 70 : Kplus is 1 , alpha is 0.247185174716\n",
        "Shape of Z:"
       ]
      },
      {
       "output_type": "stream",
       "stream": "stdout",
       "text": [
        " (100, 5)\n",
        "At iteration 71 : Kplus is 1 , alpha is 0.369527699404\n",
        "Shape of Z:"
       ]
      },
      {
       "output_type": "stream",
       "stream": "stdout",
       "text": [
        " (100, 5)\n",
        "At iteration 72 : Kplus is 1 , alpha is 0.835559932885\n",
        "Shape of Z:"
       ]
      },
      {
       "output_type": "stream",
       "stream": "stdout",
       "text": [
        " (100, 5)\n",
        "At iteration 73 : Kplus is 1 , alpha is 0.579013448083\n",
        "Shape of Z:"
       ]
      },
      {
       "output_type": "stream",
       "stream": "stdout",
       "text": [
        " (100, 5)\n",
        "At iteration 74 : Kplus is 1 , alpha is 0.326454110499\n",
        "Shape of Z:"
       ]
      },
      {
       "output_type": "stream",
       "stream": "stdout",
       "text": [
        " (100, 5)\n",
        "At iteration 75 : Kplus is 1 , alpha is 0.288941376482\n",
        "Shape of Z:"
       ]
      },
      {
       "output_type": "stream",
       "stream": "stdout",
       "text": [
        " (100, 5)\n",
        "At iteration 76 : Kplus is 1 , alpha is 0.71444993067\n",
        "Shape of Z:"
       ]
      },
      {
       "output_type": "stream",
       "stream": "stdout",
       "text": [
        " (100, 5)\n",
        "At iteration 77 : Kplus is 1 , alpha is 0.236781338253\n",
        "Shape of Z:"
       ]
      },
      {
       "output_type": "stream",
       "stream": "stdout",
       "text": [
        " (100, 5)\n",
        "At iteration 78 : Kplus is 1 , alpha is 0.26172394513\n",
        "Shape of Z:"
       ]
      },
      {
       "output_type": "stream",
       "stream": "stdout",
       "text": [
        " (100, 5)\n",
        "At iteration 79 : Kplus is 1 , alpha is 0.605801583597\n",
        "Shape of Z:"
       ]
      },
      {
       "output_type": "stream",
       "stream": "stdout",
       "text": [
        " (100, 5)\n",
        "At iteration 80 : Kplus is 1 , alpha is 0.300563036036\n",
        "Shape of Z:"
       ]
      },
      {
       "output_type": "stream",
       "stream": "stdout",
       "text": [
        " (100, 5)\n",
        "At iteration 81 : Kplus is 1 , alpha is 0.0213301782264\n",
        "Shape of Z:"
       ]
      },
      {
       "output_type": "stream",
       "stream": "stdout",
       "text": [
        " (100, 5)\n",
        "At iteration 82 : Kplus is 1 , alpha is 0.274556857227\n",
        "Shape of Z:"
       ]
      },
      {
       "output_type": "stream",
       "stream": "stdout",
       "text": [
        " (100, 5)\n",
        "At iteration 83 : Kplus is 1 , alpha is 0.33614768759\n",
        "Shape of Z:"
       ]
      },
      {
       "output_type": "stream",
       "stream": "stdout",
       "text": [
        " (100, 5)\n",
        "At iteration 84 : Kplus is 1 , alpha is 0.179816086373\n",
        "Shape of Z:"
       ]
      },
      {
       "output_type": "stream",
       "stream": "stdout",
       "text": [
        " (100, 5)\n",
        "At iteration 85 : Kplus is 1 , alpha is 0.615437429073\n",
        "Shape of Z:"
       ]
      },
      {
       "output_type": "stream",
       "stream": "stdout",
       "text": [
        " (100, 5)\n",
        "At iteration 86 : Kplus is 1 , alpha is 0.220071809598\n",
        "Shape of Z:"
       ]
      },
      {
       "output_type": "stream",
       "stream": "stdout",
       "text": [
        " (100, 5)\n",
        "At iteration 87 : Kplus is 1 , alpha is 0.497546127768\n",
        "Shape of Z:"
       ]
      },
      {
       "output_type": "stream",
       "stream": "stdout",
       "text": [
        " (100, 5)\n",
        "At iteration 88 : Kplus is 1 , alpha is 0.230345008541\n",
        "Shape of Z:"
       ]
      },
      {
       "output_type": "stream",
       "stream": "stdout",
       "text": [
        " (100, 5)\n",
        "At iteration 89 : Kplus is 1 , alpha is 0.873681888204\n",
        "Shape of Z:"
       ]
      },
      {
       "output_type": "stream",
       "stream": "stdout",
       "text": [
        " (100, 5)\n",
        "At iteration 90 : Kplus is 1 , alpha is 0.111020643002\n",
        "Shape of Z:"
       ]
      },
      {
       "output_type": "stream",
       "stream": "stdout",
       "text": [
        " (100, 5)\n",
        "At iteration 91 : Kplus is 1 , alpha is 0.1719696798\n",
        "Shape of Z:"
       ]
      },
      {
       "output_type": "stream",
       "stream": "stdout",
       "text": [
        " (100, 5)\n",
        "At iteration 92 : Kplus is 1 , alpha is 0.20996255674\n",
        "Shape of Z:"
       ]
      },
      {
       "output_type": "stream",
       "stream": "stdout",
       "text": [
        " (100, 5)\n",
        "At iteration 93 : Kplus is 1 , alpha is 0.186620387264\n",
        "Shape of Z:"
       ]
      },
      {
       "output_type": "stream",
       "stream": "stdout",
       "text": [
        " (100, 5)\n",
        "At iteration 94 : Kplus is 1 , alpha is 0.566358316338\n",
        "Shape of Z:"
       ]
      },
      {
       "output_type": "stream",
       "stream": "stdout",
       "text": [
        " (100, 5)\n",
        "At iteration 95 : Kplus is 1 , alpha is 0.738254643201\n",
        "Shape of Z:"
       ]
      },
      {
       "output_type": "stream",
       "stream": "stdout",
       "text": [
        " (100, 5)\n",
        "At iteration 96 : Kplus is 1 , alpha is 0.249760235776\n",
        "Shape of Z:"
       ]
      },
      {
       "output_type": "stream",
       "stream": "stdout",
       "text": [
        " (100, 5)\n",
        "At iteration 97 : Kplus is 1 , alpha is 0.219806756988\n",
        "Shape of Z:"
       ]
      },
      {
       "output_type": "stream",
       "stream": "stdout",
       "text": [
        " (100, 5)\n",
        "At iteration 98 : Kplus is 1 , alpha is 0.291645227596\n",
        "Shape of Z:"
       ]
      },
      {
       "output_type": "stream",
       "stream": "stdout",
       "text": [
        " (100, 5)\n",
        "At iteration 99 : Kplus is 1 , alpha is 0.832201992995\n",
        "Shape of Z:"
       ]
      },
      {
       "output_type": "stream",
       "stream": "stdout",
       "text": [
        " (100, 5)\n",
        "At iteration 100 : Kplus is 1 , alpha is 0.252340703832\n",
        "Shape of Z:"
       ]
      },
      {
       "output_type": "stream",
       "stream": "stdout",
       "text": [
        " (100, 5)\n",
        "At iteration 101 : Kplus is 1 , alpha is 0.411755587161\n",
        "Shape of Z:"
       ]
      },
      {
       "output_type": "stream",
       "stream": "stdout",
       "text": [
        " (100, 5)\n",
        "At iteration 102 : Kplus is 1 , alpha is 0.368757901933\n",
        "Shape of Z:"
       ]
      },
      {
       "output_type": "stream",
       "stream": "stdout",
       "text": [
        " (100, 5)\n",
        "At iteration 103 : Kplus is 1 , alpha is 0.0833682164503\n",
        "Shape of Z:"
       ]
      },
      {
       "output_type": "stream",
       "stream": "stdout",
       "text": [
        " (100, 5)\n",
        "At iteration 104 : Kplus is 1 , alpha is 0.523100465068\n",
        "Shape of Z:"
       ]
      },
      {
       "output_type": "stream",
       "stream": "stdout",
       "text": [
        " (100, 5)\n",
        "At iteration 105 : Kplus is 1 , alpha is 0.528485909534\n",
        "Shape of Z:"
       ]
      },
      {
       "output_type": "stream",
       "stream": "stdout",
       "text": [
        " (100, 5)\n",
        "At iteration 106 : Kplus is 1 , alpha is 0.300281192804\n",
        "Shape of Z:"
       ]
      },
      {
       "output_type": "stream",
       "stream": "stdout",
       "text": [
        " (100, 5)\n",
        "At iteration 107 : Kplus is 1 , alpha is 0.221221425618\n",
        "Shape of Z:"
       ]
      },
      {
       "output_type": "stream",
       "stream": "stdout",
       "text": [
        " (100, 5)\n",
        "At iteration 108 : Kplus is 1 , alpha is 0.0405316562039\n",
        "Shape of Z:"
       ]
      },
      {
       "output_type": "stream",
       "stream": "stdout",
       "text": [
        " (100, 5)\n",
        "At iteration 109 : Kplus is 1 , alpha is 0.317363132625\n",
        "Shape of Z:"
       ]
      },
      {
       "output_type": "stream",
       "stream": "stdout",
       "text": [
        " (100, 5)\n",
        "At iteration 110 : Kplus is 1 , alpha is 0.61080391207\n",
        "Shape of Z:"
       ]
      },
      {
       "output_type": "stream",
       "stream": "stdout",
       "text": [
        " (100, 5)\n",
        "At iteration 111 : Kplus is 1 , alpha is 0.858754663073\n",
        "Shape of Z:"
       ]
      },
      {
       "output_type": "stream",
       "stream": "stdout",
       "text": [
        " (100, 5)\n",
        "At iteration 112 : Kplus is 1 , alpha is 0.273968206391\n",
        "Shape of Z:"
       ]
      },
      {
       "output_type": "stream",
       "stream": "stdout",
       "text": [
        " (100, 5)\n",
        "At iteration 113 : Kplus is 1 , alpha is 0.278903341513\n",
        "Shape of Z:"
       ]
      },
      {
       "output_type": "stream",
       "stream": "stdout",
       "text": [
        " (100, 5)\n",
        "At iteration 114 : Kplus is 1 , alpha is 0.0608179931821\n",
        "Shape of Z:"
       ]
      },
      {
       "output_type": "stream",
       "stream": "stdout",
       "text": [
        " (100, 5)\n",
        "At iteration 115 : Kplus is 1 , alpha is 0.257477206179\n",
        "Shape of Z:"
       ]
      },
      {
       "output_type": "stream",
       "stream": "stdout",
       "text": [
        " (100, 5)\n",
        "At iteration 116 : Kplus is 1 , alpha is 0.169104594267\n",
        "Shape of Z:"
       ]
      },
      {
       "output_type": "stream",
       "stream": "stdout",
       "text": [
        " (100, 5)\n",
        "At iteration 117 : Kplus is 1 , alpha is 0.0718857471091\n",
        "Shape of Z:"
       ]
      },
      {
       "output_type": "stream",
       "stream": "stdout",
       "text": [
        " (100, 5)\n",
        "At iteration 118 : Kplus is 1 , alpha is 0.638535552029\n",
        "Shape of Z:"
       ]
      },
      {
       "output_type": "stream",
       "stream": "stdout",
       "text": [
        " (100, 5)\n",
        "At iteration 119 : Kplus is 1 , alpha is 0.0841726557556\n",
        "Shape of Z:"
       ]
      },
      {
       "output_type": "stream",
       "stream": "stdout",
       "text": [
        " (100, 5)\n",
        "At iteration 120 : Kplus is 1 , alpha is 0.487653945053\n",
        "Shape of Z:"
       ]
      },
      {
       "output_type": "stream",
       "stream": "stdout",
       "text": [
        " (100, 5)\n",
        "At iteration 121 : Kplus is 1 , alpha is 0.21232395123\n",
        "Shape of Z:"
       ]
      },
      {
       "output_type": "stream",
       "stream": "stdout",
       "text": [
        " (100, 5)\n",
        "At iteration 122 : Kplus is 1 , alpha is 0.246558946475\n",
        "Shape of Z:"
       ]
      },
      {
       "output_type": "stream",
       "stream": "stdout",
       "text": [
        " (100, 5)\n",
        "At iteration 123 : Kplus is 1 , alpha is 0.25224329338\n",
        "Shape of Z:"
       ]
      },
      {
       "output_type": "stream",
       "stream": "stdout",
       "text": [
        " (100, 5)\n",
        "At iteration 124 : Kplus is 1 , alpha is 0.214701962418\n",
        "Shape of Z:"
       ]
      },
      {
       "output_type": "stream",
       "stream": "stdout",
       "text": [
        " (100, 5)\n",
        "At iteration 125 : Kplus is 1 , alpha is 0.123786152907\n",
        "Shape of Z:"
       ]
      },
      {
       "output_type": "stream",
       "stream": "stdout",
       "text": [
        " (100, 5)\n",
        "At iteration 126 : Kplus is 1 , alpha is 0.167320812687\n",
        "Shape of Z:"
       ]
      },
      {
       "output_type": "stream",
       "stream": "stdout",
       "text": [
        " (100, 5)\n",
        "At iteration 127 : Kplus is 1 , alpha is 0.262548309558\n",
        "Shape of Z:"
       ]
      },
      {
       "output_type": "stream",
       "stream": "stdout",
       "text": [
        " (100, 5)\n",
        "At iteration 128 : Kplus is 1 , alpha is 0.265786038807\n",
        "Shape of Z:"
       ]
      },
      {
       "output_type": "stream",
       "stream": "stdout",
       "text": [
        " (100, 5)\n",
        "At iteration 129 : Kplus is 1 , alpha is 0.34118138076\n",
        "Shape of Z:"
       ]
      },
      {
       "output_type": "stream",
       "stream": "stdout",
       "text": [
        " (100, 5)\n",
        "At iteration 130 : Kplus is 1 , alpha is 0.594459577035\n",
        "Shape of Z:"
       ]
      },
      {
       "output_type": "stream",
       "stream": "stdout",
       "text": [
        " (100, 5)\n",
        "At iteration 131 : Kplus is 1 , alpha is 0.503692417049\n",
        "Shape of Z:"
       ]
      },
      {
       "output_type": "stream",
       "stream": "stdout",
       "text": [
        " (100, 5)\n",
        "At iteration 132 : Kplus is 1 , alpha is 0.324443968196\n",
        "Shape of Z:"
       ]
      },
      {
       "output_type": "stream",
       "stream": "stdout",
       "text": [
        " (100, 5)\n",
        "At iteration 133 : Kplus is 1 , alpha is 0.616054335648\n",
        "Shape of Z:"
       ]
      },
      {
       "output_type": "stream",
       "stream": "stdout",
       "text": [
        " (100, 5)\n",
        "At iteration 134 : Kplus is 1 , alpha is 0.349312478315\n",
        "Shape of Z:"
       ]
      },
      {
       "output_type": "stream",
       "stream": "stdout",
       "text": [
        " (100, 5)\n",
        "At iteration 135 : Kplus is 1 , alpha is 1.14346836523\n",
        "Shape of Z:"
       ]
      },
      {
       "output_type": "stream",
       "stream": "stdout",
       "text": [
        " (100, 5)\n",
        "At iteration 136 : Kplus is 1 , alpha is 0.280074512249\n",
        "Shape of Z:"
       ]
      },
      {
       "output_type": "stream",
       "stream": "stdout",
       "text": [
        " (100, 5)\n",
        "At iteration 137 : Kplus is 1 , alpha is 0.602086573382\n",
        "Shape of Z:"
       ]
      },
      {
       "output_type": "stream",
       "stream": "stdout",
       "text": [
        " (100, 5)\n",
        "At iteration 138 : Kplus is 1 , alpha is 0.308584887974\n",
        "Shape of Z:"
       ]
      },
      {
       "output_type": "stream",
       "stream": "stdout",
       "text": [
        " (100, 5)\n",
        "At iteration 139 : Kplus is 1 , alpha is 0.344573133079\n",
        "Shape of Z:"
       ]
      },
      {
       "output_type": "stream",
       "stream": "stdout",
       "text": [
        " (100, 5)\n",
        "At iteration 140 : Kplus is 1 , alpha is 0.204266102157\n",
        "Shape of Z:"
       ]
      },
      {
       "output_type": "stream",
       "stream": "stdout",
       "text": [
        " (100, 5)\n",
        "At iteration 141 : Kplus is 1 , alpha is 0.112608289067\n",
        "Shape of Z:"
       ]
      },
      {
       "output_type": "stream",
       "stream": "stdout",
       "text": [
        " (100, 5)\n",
        "At iteration 142 : Kplus is 1 , alpha is 0.421693216271\n",
        "Shape of Z:"
       ]
      },
      {
       "output_type": "stream",
       "stream": "stdout",
       "text": [
        " (100, 5)\n",
        "At iteration 143 : Kplus is 1 , alpha is 0.503719321707\n",
        "Shape of Z:"
       ]
      },
      {
       "output_type": "stream",
       "stream": "stdout",
       "text": [
        " (100, 5)\n",
        "At iteration 144 : Kplus is 1 , alpha is 0.595274199164\n",
        "Shape of Z:"
       ]
      },
      {
       "output_type": "stream",
       "stream": "stdout",
       "text": [
        " (100, 5)\n",
        "At iteration 145 : Kplus is 1 , alpha is 0.165641745855\n",
        "Shape of Z:"
       ]
      },
      {
       "output_type": "stream",
       "stream": "stdout",
       "text": [
        " (100, 5)\n",
        "At iteration 146 : Kplus is 1 , alpha is 0.360221472973\n",
        "Shape of Z:"
       ]
      },
      {
       "output_type": "stream",
       "stream": "stdout",
       "text": [
        " (100, 5)\n",
        "At iteration 147 : Kplus is 1 , alpha is 0.123572854145\n",
        "Shape of Z:"
       ]
      },
      {
       "output_type": "stream",
       "stream": "stdout",
       "text": [
        " (100, 5)\n",
        "At iteration 148 : Kplus is 1 , alpha is 0.409680801018\n",
        "Shape of Z:"
       ]
      },
      {
       "output_type": "stream",
       "stream": "stdout",
       "text": [
        " (100, 5)\n",
        "At iteration 149 : Kplus is 1 , alpha is 0.648706453441\n",
        "Shape of Z:"
       ]
      },
      {
       "output_type": "stream",
       "stream": "stdout",
       "text": [
        " (100, 5)\n",
        "At iteration 150 : Kplus is 1 , alpha is 0.139201916976\n",
        "Shape of Z:"
       ]
      },
      {
       "output_type": "stream",
       "stream": "stdout",
       "text": [
        " (100, 5)\n",
        "At iteration 151 : Kplus is 1 , alpha is 0.522639522058\n",
        "Shape of Z:"
       ]
      },
      {
       "output_type": "stream",
       "stream": "stdout",
       "text": [
        " (100, 5)\n",
        "At iteration 152 : Kplus is 1 , alpha is 0.429613366344\n",
        "Shape of Z:"
       ]
      },
      {
       "output_type": "stream",
       "stream": "stdout",
       "text": [
        " (100, 5)\n",
        "At iteration 153 : Kplus is 1 , alpha is 0.103581518831\n",
        "Shape of Z:"
       ]
      },
      {
       "output_type": "stream",
       "stream": "stdout",
       "text": [
        " (100, 5)\n",
        "At iteration 154 : Kplus is 1 , alpha is 0.0455868450468\n",
        "Shape of Z:"
       ]
      },
      {
       "output_type": "stream",
       "stream": "stdout",
       "text": [
        " (100, 5)\n",
        "At iteration 155 : Kplus is 1 , alpha is 0.388853882288\n",
        "Shape of Z:"
       ]
      },
      {
       "output_type": "stream",
       "stream": "stdout",
       "text": [
        " (100, 5)\n",
        "At iteration 156 : Kplus is 1 , alpha is 0.35573250854\n",
        "Shape of Z:"
       ]
      },
      {
       "output_type": "stream",
       "stream": "stdout",
       "text": [
        " (100, 5)\n",
        "At iteration 157 : Kplus is 1 , alpha is 0.0385047480679\n",
        "Shape of Z:"
       ]
      },
      {
       "output_type": "stream",
       "stream": "stdout",
       "text": [
        " (100, 5)\n",
        "At iteration 158 : Kplus is 1 , alpha is 0.137183313632\n",
        "Shape of Z:"
       ]
      },
      {
       "output_type": "stream",
       "stream": "stdout",
       "text": [
        " (100, 5)\n",
        "At iteration 159 : Kplus is 1 , alpha is 0.581174153933\n",
        "Shape of Z:"
       ]
      },
      {
       "output_type": "stream",
       "stream": "stdout",
       "text": [
        " (100, 5)\n",
        "At iteration 160 : Kplus is 1 , alpha is 0.895652756895\n",
        "Shape of Z:"
       ]
      },
      {
       "output_type": "stream",
       "stream": "stdout",
       "text": [
        " (100, 5)\n",
        "At iteration 161 : Kplus is 1 , alpha is 0.088463221745\n",
        "Shape of Z:"
       ]
      },
      {
       "output_type": "stream",
       "stream": "stdout",
       "text": [
        " (100, 5)\n",
        "At iteration 162 : Kplus is 1 , alpha is 0.460259677098\n",
        "Shape of Z:"
       ]
      },
      {
       "output_type": "stream",
       "stream": "stdout",
       "text": [
        " (100, 5)\n",
        "At iteration 163 : Kplus is 1 , alpha is 0.114752159652\n",
        "Shape of Z:"
       ]
      },
      {
       "output_type": "stream",
       "stream": "stdout",
       "text": [
        " (100, 5)\n",
        "At iteration 164 : Kplus is 1 , alpha is 0.336198926564\n",
        "Shape of Z:"
       ]
      },
      {
       "output_type": "stream",
       "stream": "stdout",
       "text": [
        " (100, 5)\n",
        "At iteration 165 : Kplus is 1 , alpha is 0.171080114716\n",
        "Shape of Z:"
       ]
      },
      {
       "output_type": "stream",
       "stream": "stdout",
       "text": [
        " (100, 5)\n",
        "At iteration 166 : Kplus is 1 , alpha is 0.84375071308\n",
        "Shape of Z:"
       ]
      },
      {
       "output_type": "stream",
       "stream": "stdout",
       "text": [
        " (100, 5)\n",
        "At iteration 167 : Kplus is 1 , alpha is 0.12952864732\n",
        "Shape of Z:"
       ]
      },
      {
       "output_type": "stream",
       "stream": "stdout",
       "text": [
        " (100, 5)\n",
        "At iteration 168 : Kplus is 1 , alpha is 0.244456486441\n",
        "Shape of Z:"
       ]
      },
      {
       "output_type": "stream",
       "stream": "stdout",
       "text": [
        " (100, 5)\n",
        "At iteration 169 : Kplus is 1 , alpha is 0.0693925228989\n",
        "Shape of Z:"
       ]
      },
      {
       "output_type": "stream",
       "stream": "stdout",
       "text": [
        " (100, 5)\n",
        "At iteration 170 : Kplus is 1 , alpha is 0.399875588489\n",
        "Shape of Z:"
       ]
      },
      {
       "output_type": "stream",
       "stream": "stdout",
       "text": [
        " (100, 5)\n",
        "At iteration 171 : Kplus is 1 , alpha is 0.674865156684\n",
        "Shape of Z:"
       ]
      },
      {
       "output_type": "stream",
       "stream": "stdout",
       "text": [
        " (100, 5)\n",
        "At iteration 172 : Kplus is 1 , alpha is 0.602869807797\n",
        "Shape of Z:"
       ]
      },
      {
       "output_type": "stream",
       "stream": "stdout",
       "text": [
        " (100, 5)\n",
        "At iteration 173 : Kplus is 1 , alpha is 0.451324657361\n",
        "Shape of Z:"
       ]
      },
      {
       "output_type": "stream",
       "stream": "stdout",
       "text": [
        " (100, 5)\n",
        "At iteration 174 : Kplus is 1 , alpha is 0.354735088617\n",
        "Shape of Z:"
       ]
      },
      {
       "output_type": "stream",
       "stream": "stdout",
       "text": [
        " (100, 5)\n",
        "At iteration 175 : Kplus is 1 , alpha is 0.22827318776\n",
        "Shape of Z:"
       ]
      },
      {
       "output_type": "stream",
       "stream": "stdout",
       "text": [
        " (100, 5)\n",
        "At iteration 176 : Kplus is 1 , alpha is 0.191881114069\n",
        "Shape of Z:"
       ]
      },
      {
       "output_type": "stream",
       "stream": "stdout",
       "text": [
        " (100, 5)\n",
        "At iteration 177 : Kplus is 1 , alpha is 0.242416132915\n",
        "Shape of Z:"
       ]
      },
      {
       "output_type": "stream",
       "stream": "stdout",
       "text": [
        " (100, 5)\n",
        "At iteration 178 : Kplus is 1 , alpha is 0.162404683233\n",
        "Shape of Z:"
       ]
      },
      {
       "output_type": "stream",
       "stream": "stdout",
       "text": [
        " (100, 5)\n",
        "At iteration 179 : Kplus is 1 , alpha is 0.390381373914\n",
        "Shape of Z:"
       ]
      },
      {
       "output_type": "stream",
       "stream": "stdout",
       "text": [
        " (100, 5)\n",
        "At iteration 180 : Kplus is 1 , alpha is 0.173670559266\n",
        "Shape of Z:"
       ]
      },
      {
       "output_type": "stream",
       "stream": "stdout",
       "text": [
        " (100, 5)\n",
        "At iteration 181 : Kplus is 1 , alpha is 0.0899596809876\n",
        "Shape of Z:"
       ]
      },
      {
       "output_type": "stream",
       "stream": "stdout",
       "text": [
        " (100, 5)\n",
        "At iteration 182 : Kplus is 1 , alpha is 0.0872952095587\n",
        "Shape of Z:"
       ]
      },
      {
       "output_type": "stream",
       "stream": "stdout",
       "text": [
        " (100, 5)\n",
        "At iteration 183 : Kplus is 1 , alpha is 0.722075586012\n",
        "Shape of Z:"
       ]
      },
      {
       "output_type": "stream",
       "stream": "stdout",
       "text": [
        " (100, 5)\n",
        "At iteration 184 : Kplus is 1 , alpha is 1.05921149366\n",
        "Shape of Z:"
       ]
      },
      {
       "output_type": "stream",
       "stream": "stdout",
       "text": [
        " (100, 6)\n",
        "At iteration 185 : Kplus is 2 , alpha is 0.286703052489\n",
        "Shape of Z:"
       ]
      },
      {
       "output_type": "stream",
       "stream": "stdout",
       "text": [
        " (100, 6)\n",
        "At iteration 186 : Kplus is 2 , alpha is 1.08215026603\n",
        "Shape of Z:"
       ]
      },
      {
       "output_type": "stream",
       "stream": "stdout",
       "text": [
        " (100, 6)\n",
        "At iteration 187 : Kplus is 2 , alpha is 0.320855874948\n",
        "Shape of Z:"
       ]
      },
      {
       "output_type": "stream",
       "stream": "stdout",
       "text": [
        " (100, 6)\n",
        "At iteration 188 : Kplus is 2 , alpha is 0.578010939618\n",
        "Shape of Z:"
       ]
      },
      {
       "output_type": "stream",
       "stream": "stdout",
       "text": [
        " (100, 6)\n",
        "At iteration 189 : Kplus is 2 , alpha is 0.156544691537\n",
        "Shape of Z:"
       ]
      },
      {
       "output_type": "stream",
       "stream": "stdout",
       "text": [
        " (100, 6)\n",
        "At iteration 190 : Kplus is 2 , alpha is 0.491253724729\n",
        "Shape of Z:"
       ]
      },
      {
       "output_type": "stream",
       "stream": "stdout",
       "text": [
        " (100, 6)\n",
        "At iteration 191 : Kplus is 2 , alpha is 0.160935431227\n",
        "Shape of Z:"
       ]
      },
      {
       "output_type": "stream",
       "stream": "stdout",
       "text": [
        " (100, 6)\n",
        "At iteration 192 : Kplus is 2 , alpha is 0.517235980039\n",
        "Shape of Z:"
       ]
      },
      {
       "output_type": "stream",
       "stream": "stdout",
       "text": [
        " (100, 6)\n",
        "At iteration 193 : Kplus is 2 , alpha is 1.01806079403\n",
        "Shape of Z:"
       ]
      },
      {
       "output_type": "stream",
       "stream": "stdout",
       "text": [
        " (100, 7)\n",
        "At iteration 194 : Kplus is 3 , alpha is 0.723278294826\n",
        "Shape of Z:"
       ]
      },
      {
       "output_type": "stream",
       "stream": "stdout",
       "text": [
        " (100, 6)\n",
        "At iteration 195 : Kplus is 2 , alpha is 0.250303662401\n",
        "Shape of Z:"
       ]
      },
      {
       "output_type": "stream",
       "stream": "stdout",
       "text": [
        " (100, 6)\n",
        "At iteration 196 : Kplus is 2 , alpha is 0.773010882545\n",
        "Shape of Z:"
       ]
      },
      {
       "output_type": "stream",
       "stream": "stdout",
       "text": [
        " (100, 7)\n",
        "At iteration 197 : Kplus is 3 , alpha is 0.456140310114\n",
        "Shape of Z:"
       ]
      },
      {
       "output_type": "stream",
       "stream": "stdout",
       "text": [
        " (100, 6)\n",
        "At iteration 198 : Kplus is 2 , alpha is 1.25562124336\n",
        "Shape of Z:"
       ]
      },
      {
       "output_type": "stream",
       "stream": "stdout",
       "text": [
        " (100, 6)\n",
        "At iteration 199 : Kplus is 2 , alpha is 0.325621044339\n",
        "Shape of Z:"
       ]
      },
      {
       "output_type": "stream",
       "stream": "stdout",
       "text": [
        " (100, 6)\n",
        "At iteration 200 : Kplus is 2 , alpha is 0.374899361413\n",
        "Shape of Z:"
       ]
      },
      {
       "output_type": "stream",
       "stream": "stdout",
       "text": [
        " (100, 13)\n",
        "At iteration 201 : Kplus is 9 , alpha is 0.836892286612\n",
        "Shape of Z:"
       ]
      },
      {
       "output_type": "stream",
       "stream": "stdout",
       "text": [
        " (100, 36)\n",
        "At iteration 202 : Kplus is 32 , alpha is 6.04212815867\n",
        "Shape of Z:"
       ]
      },
      {
       "output_type": "stream",
       "stream": "stdout",
       "text": [
        " (100, 48)\n",
        "At iteration 203 : Kplus is 44 , alpha is 8.23369448885\n",
        "Shape of Z:"
       ]
      },
      {
       "output_type": "stream",
       "stream": "stdout",
       "text": [
        " (100, 53)\n",
        "At iteration 204 : Kplus is 49 , alpha is 9.95798461241\n",
        "Shape of Z:"
       ]
      },
      {
       "output_type": "stream",
       "stream": "stdout",
       "text": [
        " (100, 36)\n",
        "At iteration 205 : Kplus is 32 , alpha is 5.50620094956\n",
        "Shape of Z:"
       ]
      },
      {
       "output_type": "stream",
       "stream": "stdout",
       "text": [
        " (100, 31)\n",
        "At iteration 206 : Kplus is 27 , alpha is 4.09374509508\n",
        "Shape of Z:"
       ]
      },
      {
       "output_type": "stream",
       "stream": "stdout",
       "text": [
        " (100, 31)\n",
        "At iteration 207 : Kplus is 27 , alpha is 3.0150900427\n",
        "Shape of Z:"
       ]
      },
      {
       "output_type": "stream",
       "stream": "stdout",
       "text": [
        " (100, 31)\n",
        "At iteration 208 : Kplus is 27 , alpha is 4.78875196209\n",
        "Shape of Z:"
       ]
      },
      {
       "output_type": "stream",
       "stream": "stdout",
       "text": [
        " (100, 26)\n",
        "At iteration 209 : Kplus is 22 , alpha is 4.66102049777\n",
        "Shape of Z:"
       ]
      },
      {
       "output_type": "stream",
       "stream": "stdout",
       "text": [
        " (100, 42)\n",
        "At iteration 210 : Kplus is 38 , alpha is 8.59972573036\n",
        "Shape of Z:"
       ]
      },
      {
       "output_type": "stream",
       "stream": "stdout",
       "text": [
        " (100, 38)\n",
        "At iteration 211 : Kplus is 34 , alpha is 6.80709710095\n",
        "Shape of Z:"
       ]
      },
      {
       "output_type": "stream",
       "stream": "stdout",
       "text": [
        " (100, 42)\n",
        "At iteration 212 : Kplus is 38 , alpha is 5.57725516749\n",
        "Shape of Z:"
       ]
      },
      {
       "output_type": "stream",
       "stream": "stdout",
       "text": [
        " (100, 42)\n",
        "At iteration 213 : Kplus is 38 , alpha is 5.72957064932\n",
        "Shape of Z:"
       ]
      },
      {
       "output_type": "stream",
       "stream": "stdout",
       "text": [
        " (100, 40)\n",
        "At iteration 214 : Kplus is 36 , alpha is 5.82213890006\n"
       ]
      },
      {
       "ename": "KeyboardInterrupt",
       "evalue": "",
       "output_type": "pyerr",
       "traceback": [
        "\u001b[1;31m---------------------------------------------------------------------------\u001b[0m\n\u001b[1;31mKeyboardInterrupt\u001b[0m                         Traceback (most recent call last)",
        "\u001b[1;32m<ipython-input-138-f7485e4d565a>\u001b[0m in \u001b[0;36m<module>\u001b[1;34m()\u001b[0m\n\u001b[0;32m     79\u001b[0m             \u001b[0mtrun\u001b[0m\u001b[1;33m[\u001b[0m\u001b[0mki\u001b[0m\u001b[1;33m]\u001b[0m \u001b[1;33m=\u001b[0m \u001b[1;33m(\u001b[0m\u001b[0mki\u001b[0m\u001b[1;33m)\u001b[0m\u001b[1;33m*\u001b[0m\u001b[0mnp\u001b[0m\u001b[1;33m.\u001b[0m\u001b[0mlog\u001b[0m\u001b[1;33m(\u001b[0m\u001b[0malphaN\u001b[0m\u001b[1;33m)\u001b[0m \u001b[1;33m-\u001b[0m \u001b[0malphaN\u001b[0m \u001b[1;33m-\u001b[0m \u001b[0mnp\u001b[0m\u001b[1;33m.\u001b[0m\u001b[0mlog\u001b[0m\u001b[1;33m(\u001b[0m\u001b[0mnp\u001b[0m\u001b[1;33m.\u001b[0m\u001b[0mmath\u001b[0m\u001b[1;33m.\u001b[0m\u001b[0mfactorial\u001b[0m\u001b[1;33m(\u001b[0m\u001b[0mki\u001b[0m\u001b[1;33m)\u001b[0m\u001b[1;33m)\u001b[0m\u001b[1;33m\u001b[0m\u001b[0m\n\u001b[0;32m     80\u001b[0m             \u001b[1;31m# posterior is proportional to prior x likelihood\u001b[0m\u001b[1;33m\u001b[0m\u001b[1;33m\u001b[0m\u001b[0m\n\u001b[1;32m---> 81\u001b[1;33m             \u001b[0mtrun\u001b[0m\u001b[1;33m[\u001b[0m\u001b[0mki\u001b[0m\u001b[1;33m]\u001b[0m \u001b[1;33m+=\u001b[0m \u001b[0mlog_likelihood\u001b[0m\u001b[1;33m(\u001b[0m\u001b[0mX\u001b[0m\u001b[1;33m,\u001b[0m\u001b[0mZ\u001b[0m\u001b[1;33m[\u001b[0m\u001b[1;33m:\u001b[0m\u001b[1;33m,\u001b[0m\u001b[1;36m0\u001b[0m\u001b[1;33m:\u001b[0m\u001b[1;33m(\u001b[0m\u001b[0mKplus\u001b[0m\u001b[1;33m+\u001b[0m\u001b[0mki\u001b[0m\u001b[1;33m)\u001b[0m\u001b[1;33m]\u001b[0m\u001b[1;33m,\u001b[0m\u001b[0mM\u001b[0m\u001b[1;33m,\u001b[0m\u001b[0msigmaA\u001b[0m\u001b[1;33m,\u001b[0m\u001b[0msigmaX\u001b[0m\u001b[1;33m,\u001b[0m\u001b[0mKplus\u001b[0m\u001b[1;33m+\u001b[0m\u001b[0mki\u001b[0m\u001b[1;33m,\u001b[0m\u001b[0mN\u001b[0m\u001b[1;33m,\u001b[0m\u001b[0mD\u001b[0m\u001b[1;33m)\u001b[0m\u001b[1;33m\u001b[0m\u001b[0m\n\u001b[0m\u001b[0;32m     82\u001b[0m \u001b[1;33m\u001b[0m\u001b[0m\n\u001b[0;32m     83\u001b[0m         \u001b[0mZ\u001b[0m\u001b[1;33m[\u001b[0m\u001b[0mi\u001b[0m\u001b[1;33m,\u001b[0m\u001b[0mKplus\u001b[0m\u001b[1;33m:\u001b[0m\u001b[1;33m(\u001b[0m\u001b[0mKplus\u001b[0m\u001b[1;33m+\u001b[0m\u001b[1;36m4\u001b[0m\u001b[1;33m)\u001b[0m\u001b[1;33m]\u001b[0m \u001b[1;33m=\u001b[0m \u001b[1;36m0\u001b[0m\u001b[1;33m\u001b[0m\u001b[0m\n",
        "\u001b[1;32m<ipython-input-15-899a2214594e>\u001b[0m in \u001b[0;36mlog_likelihood\u001b[1;34m(X, Z, M, sigmaA, sigmaX, Kplus, N, D)\u001b[0m\n\u001b[0;32m      4\u001b[0m     \u001b[0mconstant\u001b[0m \u001b[1;33m=\u001b[0m \u001b[0mN\u001b[0m\u001b[1;33m*\u001b[0m\u001b[0mD\u001b[0m\u001b[1;33m*\u001b[0m\u001b[1;36m0.5\u001b[0m\u001b[1;33m*\u001b[0m\u001b[0mnp\u001b[0m\u001b[1;33m.\u001b[0m\u001b[0mlog\u001b[0m\u001b[1;33m(\u001b[0m\u001b[1;36m2\u001b[0m\u001b[1;33m*\u001b[0m\u001b[0mnp\u001b[0m\u001b[1;33m.\u001b[0m\u001b[0mpi\u001b[0m\u001b[1;33m)\u001b[0m \u001b[1;33m+\u001b[0m \u001b[1;33m(\u001b[0m\u001b[0mN\u001b[0m\u001b[1;33m-\u001b[0m\u001b[0mKplus\u001b[0m\u001b[1;33m)\u001b[0m\u001b[1;33m*\u001b[0m\u001b[0mD\u001b[0m\u001b[1;33m*\u001b[0m\u001b[0mnp\u001b[0m\u001b[1;33m.\u001b[0m\u001b[0mlog\u001b[0m\u001b[1;33m(\u001b[0m\u001b[0msigmaX\u001b[0m\u001b[1;33m)\u001b[0m \u001b[1;33m+\u001b[0m \u001b[0mKplus\u001b[0m\u001b[1;33m*\u001b[0m\u001b[0mD\u001b[0m\u001b[1;33m*\u001b[0m\u001b[0mnp\u001b[0m\u001b[1;33m.\u001b[0m\u001b[0mlog\u001b[0m\u001b[1;33m(\u001b[0m\u001b[0msigmaA\u001b[0m\u001b[1;33m)\u001b[0m \u001b[1;33m+\u001b[0m \u001b[0mD\u001b[0m\u001b[1;33m*\u001b[0m\u001b[1;36m0.5\u001b[0m\u001b[1;33m*\u001b[0m\u001b[0mnp\u001b[0m\u001b[1;33m.\u001b[0m\u001b[0mlog\u001b[0m\u001b[1;33m(\u001b[0m\u001b[0mdeterminant\u001b[0m\u001b[1;33m)\u001b[0m\u001b[1;33m\u001b[0m\u001b[0m\n\u001b[0;32m      5\u001b[0m \u001b[1;33m\u001b[0m\u001b[0m\n\u001b[1;32m----> 6\u001b[1;33m     \u001b[0mmiddle\u001b[0m \u001b[1;33m=\u001b[0m \u001b[0mnp\u001b[0m\u001b[1;33m.\u001b[0m\u001b[0midentity\u001b[0m\u001b[1;33m(\u001b[0m\u001b[0mN\u001b[0m\u001b[1;33m)\u001b[0m \u001b[1;33m-\u001b[0m \u001b[0mnp\u001b[0m\u001b[1;33m.\u001b[0m\u001b[0mdot\u001b[0m\u001b[1;33m(\u001b[0m\u001b[0mnp\u001b[0m\u001b[1;33m.\u001b[0m\u001b[0mdot\u001b[0m\u001b[1;33m(\u001b[0m\u001b[0mZ\u001b[0m\u001b[1;33m,\u001b[0m \u001b[0mM\u001b[0m\u001b[1;33m)\u001b[0m\u001b[1;33m,\u001b[0m\u001b[0mZ\u001b[0m\u001b[1;33m.\u001b[0m\u001b[0mT\u001b[0m\u001b[1;33m)\u001b[0m\u001b[1;33m\u001b[0m\u001b[0m\n\u001b[0m\u001b[0;32m      7\u001b[0m     \u001b[0mtrace\u001b[0m \u001b[1;33m=\u001b[0m \u001b[0mnp\u001b[0m\u001b[1;33m.\u001b[0m\u001b[0mtrace\u001b[0m\u001b[1;33m(\u001b[0m\u001b[0mnp\u001b[0m\u001b[1;33m.\u001b[0m\u001b[0mdot\u001b[0m\u001b[1;33m(\u001b[0m\u001b[0mnp\u001b[0m\u001b[1;33m.\u001b[0m\u001b[0mdot\u001b[0m\u001b[1;33m(\u001b[0m\u001b[0mX\u001b[0m\u001b[1;33m.\u001b[0m\u001b[0mT\u001b[0m\u001b[1;33m,\u001b[0m\u001b[0mmiddle\u001b[0m\u001b[1;33m)\u001b[0m\u001b[1;33m,\u001b[0m\u001b[0mX\u001b[0m\u001b[1;33m)\u001b[0m\u001b[1;33m)\u001b[0m\u001b[1;33m\u001b[0m\u001b[0m\n\u001b[0;32m      8\u001b[0m     \u001b[0mkernel\u001b[0m \u001b[1;33m=\u001b[0m \u001b[1;33m-\u001b[0m\u001b[1;36m0.5\u001b[0m\u001b[1;33m*\u001b[0m\u001b[0mnp\u001b[0m\u001b[1;33m.\u001b[0m\u001b[0mreciprocal\u001b[0m\u001b[1;33m(\u001b[0m\u001b[0msigmaX\u001b[0m\u001b[1;33m**\u001b[0m\u001b[1;36m2\u001b[0m\u001b[1;33m)\u001b[0m\u001b[1;33m*\u001b[0m\u001b[0mtrace\u001b[0m\u001b[1;33m\u001b[0m\u001b[0m\n",
        "\u001b[1;31mKeyboardInterrupt\u001b[0m: "
       ]
      }
     ],
     "prompt_number": 138
    },
    {
     "cell_type": "code",
     "collapsed": false,
     "input": [
      "stats.gamma?"
     ],
     "language": "python",
     "metadata": {},
     "outputs": [],
     "prompt_number": 128
    },
    {
     "cell_type": "code",
     "collapsed": false,
     "input": [
      "Z = Z_arr[(mcmc-1),:,0:K].reshape(N,K)\n",
      "sigmaX = sigmaX_arr[mcmc-1]\n",
      "sigmaA = sigmaA_arr[mcmc-1]\n",
      "A_inf = np.dot(calcM(Z, K, sigmaX, sigmaA),np.dot(Z.T,X))\n",
      "\n",
      "# Then plot A_inf.reshape(6,6)"
     ],
     "language": "python",
     "metadata": {},
     "outputs": [
      {
       "metadata": {},
       "output_type": "pyout",
       "prompt_number": 48,
       "text": [
        "120"
       ]
      }
     ],
     "prompt_number": 48
    },
    {
     "cell_type": "code",
     "collapsed": false,
     "input": [
      "# Setup the array\n",
      "Z_arr = np.zeros((mcmc,N,K_inf))\n",
      "Kplus_arr = np.zeros(mcmc)\n",
      "sigmaX_arr = np.zeros(mcmc)\n",
      "sigmaA_arr = np.zeros(mcmc)\n",
      "alpha_arr = np.zeros(mcmc)\n",
      "rX_accept = 0\n",
      "rA_accept = 0\n",
      "\n",
      "figure\n",
      "hist(chain.K(201:10:1000),3); colormap(gray)\n",
      "\n",
      "figure\n",
      "Z=reshape(chain.Z(1000,:,1:4),100,4);\n",
      "sigma_x=chain.sigma_X(1000);\n",
      "sigma_A=chain.sigma_A(1000);\n",
      "A_inf=(Z'*Z+(sigma_X/sigma_A)*eye(4))^-1*Z'*X;\n",
      "\n",
      "subplot(1,4,1); imagesc(reshape(A_inf(1,:),6,6)); colormap(gray); axis off\n",
      "subplot(1,4,2); imagesc(reshape(A_inf(2,:),6,6)); colormap(gray); axis off\n",
      "subplot(1,4,3); imagesc(reshape(A_inf(3,:),6,6)); colormap(gray); axis off\n",
      "subplot(1,4,4); imagesc(reshape(A_inf(4,:),6,6)); colormap(gray); axis off"
     ],
     "language": "python",
     "metadata": {},
     "outputs": []
    },
    {
     "cell_type": "code",
     "collapsed": false,
     "input": [
      "# Acceptance rate\n",
      "print \"rA accept:\",np.sum(rA_accept)/mcmc\n",
      "print \"rX accept:\",np.sum(rX_accept)/mcmc\n",
      "\n",
      "\n",
      "# np.sum(np.dot(Z_arr[400,:,:],A_arr[400,:,:]))\n",
      "# print Z_arr[400,:,:]"
     ],
     "language": "python",
     "metadata": {},
     "outputs": [
      {
       "output_type": "stream",
       "stream": "stdout",
       "text": [
        "rA accept: 0.009\n",
        "rX accept: 0.004\n"
       ]
      }
     ],
     "prompt_number": 125
    },
    {
     "cell_type": "heading",
     "level": 3,
     "metadata": {},
     "source": [
      "Gibbs Sampler -- Draft for Steps"
     ]
    },
    {
     "cell_type": "code",
     "collapsed": false,
     "input": [
      "# Step 5: Sample weight matrix A ~ N(0,sigmaA**2 I)\n",
      "A_new = stats.norm.rvs(loc=0,scale=sigmaA,size=(K,D))\n",
      "# Step 6: Sample the data X ~ N(ZA,sigmaX**2 I)\n",
      "X_new = stats.norm.rvs(loc=np.dot(Z,A),scale=sigmaX,size=(N,D))"
     ],
     "language": "python",
     "metadata": {},
     "outputs": [
      {
       "output_type": "stream",
       "stream": "stdout",
       "text": [
        "[-4542.4257]\n",
        "[-4618.9093]\n",
        "[-4542.4257]\n",
        "[-4542.4257]\n"
       ]
      }
     ],
     "prompt_number": 343
    },
    {
     "cell_type": "markdown",
     "metadata": {},
     "source": [
      "### Posterior Distribution Calculation\n",
      "\n",
      "Priors: $P(z_{ik}=1 | \\mathbf{z_{-i,k}}) = \\dfrac{m_{-i,k}+\\dfrac{\\alpha}{K}}{N+\\dfrac{\\alpha}{K}} \\rightarrow \\dfrac{m_{-i,k}}{N}$ as $K \\rightarrow \\infty$\n",
      "\n",
      "Likelihood: $\\mathbf{X}|(\\mathbf{Z},\\mathbf{A},\\mathbf{\\sigma_X}) \\sim \\text{Normal}(\\mathbf{ZA},\\Sigma_X = \\sigma_X^2\\mathbf{I})$\n",
      "\n",
      "i.e. $P(\\mathbf{X} | \\mathbf{Z}, \\sigma_X, \\sigma_A) = \\dfrac{1}{(2\\pi)^{ND/2} \\sigma_X^{(N-K)D} \\sigma_A^{KD} |\\mathbf{Z}^T\\mathbf{Z} + \\dfrac{\\sigma_X^2}{\\sigma_A^2}\\mathbf{I}|^{D/2}} \\exp\\{-\\dfrac{1}{2\\sigma^2_X} \\text{tr}(\\mathbf{X}^T(\\mathbf{I}-\\mathbf{Z}(\\mathbf{Z}^T\\mathbf{Z}+\\dfrac{\\sigma_X^2}{\\sigma_A^2}\\mathbf{I})^{-1})\\mathbf{Z}^T)\\mathbf{X}\\}$\n",
      "\n",
      "Full conditional distribution: $P(z_{ik} | \\mathbf{X,Z_{-i,k}},\\sigma_X, \\sigma_A) \\propto P(\\mathbf{X} | \\mathbf{Z},\\sigma_X, \\sigma_A) P(z_{ik} | \\mathbf{z_{-i,k}})$"
     ]
    }
   ],
   "metadata": {}
  }
 ]
}