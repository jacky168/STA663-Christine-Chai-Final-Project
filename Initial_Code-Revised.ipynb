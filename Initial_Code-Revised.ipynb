{
 "cells": [
  {
   "cell_type": "markdown",
   "metadata": {},
   "source": [
    "# Initial Code Revised -- Indian Buffet Process (IBP)"
   ]
  },
  {
   "cell_type": "code",
   "execution_count": 1,
   "metadata": {
    "collapsed": false
   },
   "outputs": [],
   "source": [
    "from __future__ import division\n",
    "import os\n",
    "import sys\n",
    "import glob\n",
    "import matplotlib.pyplot as plt\n",
    "import numpy as np\n",
    "import pandas as pd\n",
    "%matplotlib inline\n",
    "%precision 4\n",
    "plt.style.use('ggplot')"
   ]
  },
  {
   "cell_type": "code",
   "execution_count": 2,
   "metadata": {
    "collapsed": false
   },
   "outputs": [],
   "source": [
    "np.random.seed(1234)\n",
    "import scipy.stats as stats"
   ]
  },
  {
   "cell_type": "markdown",
   "metadata": {},
   "source": [
    "### Indian Buffet Process (IBP): Steps\n",
    "\n",
    "- Step 1: First customer takes a Poisson($\\alpha$) of dishes\n",
    "- Step 2: The $i$th customer takes dish $k$ with probability $\\frac{m_k}{i}$, where $m_k$ is the number of previous customers who sampled that dish\n",
    "- Step 3: The $i$th customer tries a Poisson($\\frac{\\alpha}{i}$) number of new dishes\n",
    "- Storage: Binary matrix $\\mathbf{Z}$ with $N$ rows and infinite columns, where $z_{ik}$ = 1 if customer $i$ sampled the dish $k$\n",
    "- Probability: $P(z_{ik}=1 | \\mathbf{z_{-i,k}}) = \\dfrac{m_{-i,k}+\\dfrac{\\alpha}{K}}{N+\\dfrac{\\alpha}{K}} \\rightarrow \\dfrac{m_{-i,k}}{N}$ as $K \\rightarrow \\infty$\n",
    "\n",
    "Special note: This is JUST a prior, not something you put in the Gibbs sampler!"
   ]
  },
  {
   "cell_type": "code",
   "execution_count": 3,
   "metadata": {
    "collapsed": false
   },
   "outputs": [],
   "source": [
    "def IBP(N, alpha):\n",
    "    \"\"\"Indian Buffet Process (IBP) steps:\n",
    "    Input: N is the number of customers (objects, images); alpha is the only parameter;\n",
    "    Return: result is the binary matrix (prior); Kplus is the number of dishes (features)\"\"\"\n",
    "    result = np.zeros((N,1000))\n",
    "    \n",
    "    # Step 1: First customer takes a Poisson(alpha) of dishes\n",
    "    t = stats.poisson.rvs(alpha) # (set the random seed when calling the function)\n",
    "    if t > 0:\n",
    "        result[0,0:t] = 1\n",
    "    \n",
    "    # Kplus = the number of features for which m_k > 0 (m_k: the number of previous customers who sampled that dish)\n",
    "    Kplus = t\n",
    "    for i in range(1,N):\n",
    "        for k in range(Kplus):\n",
    "            # Step 2: The ith customer takes dish k with probability m_k/i\n",
    "            p = np.sum(result[0:(i+1),k])/(i+1) # this is a probability, so should be between 0 and 1\n",
    "            assert p <= 1 \n",
    "            assert p >= 0\n",
    "            if stats.uniform.rvs(0) < p:\n",
    "                result[i,k] = 1\n",
    "            else:\n",
    "                result[i,k] = 0\n",
    "                \n",
    "        # Step 3: The ith customer tries a Poisson(alpha/i) number of new dishes\n",
    "        t = stats.poisson.rvs(alpha/(i+1))\n",
    "        if t > 0:\n",
    "            result[i,Kplus:(Kplus+t)] = 1\n",
    "        Kplus += t\n",
    "    result = result[:,0:Kplus]\n",
    "    \n",
    "    return result, Kplus"
   ]
  },
  {
   "cell_type": "markdown",
   "metadata": {},
   "source": [
    "### Indian Buffet Process (IBP): Testing\n",
    "\n",
    "Probability must be between 0 and 1: $ 0 \\leq \\dfrac{m_{-i,k}+\\dfrac{\\alpha}{K}}{N+\\dfrac{\\alpha}{K}}, \\dfrac{m_{-i,k}}{N} \\leq 1$\n",
    "\n",
    "This is equivalent to testing $m_{-i,k} \\leq N$"
   ]
  },
  {
   "cell_type": "code",
   "execution_count": 4,
   "metadata": {
    "collapsed": false
   },
   "outputs": [
    {
     "name": "stdout",
     "output_type": "stream",
     "text": [
      "5\n",
      "(100, 5)\n"
     ]
    }
   ],
   "source": [
    "np.random.seed(12)\n",
    "N1 = 100\n",
    "alpha1 = 1.5\n",
    "\n",
    "result1, Kplus1 = IBP(N1,alpha1)\n",
    "print Kplus1\n",
    "\n",
    "print result1.shape"
   ]
  },
  {
   "cell_type": "markdown",
   "metadata": {},
   "source": [
    "# Algorithm Application -- Linear-Gaussian Binary Latent Feature Models"
   ]
  },
  {
   "cell_type": "markdown",
   "metadata": {},
   "source": [
    "### Variables in Data (Images)\n",
    "\n",
    "$N = 100$ is the number of images (customers, objects)\n",
    "\n",
    "$D = 6 \\times 6 = 36$ is the length of vectors (dishes, features) for each image\n",
    "\n",
    "$K = 4$ is the number of basis images (latent or underlying variables)\n",
    "\n",
    "Each object $i$ has a $D$-dimensional vector of properties, named $x_i$\n",
    "\n",
    "- Generate images $X$ with the $K$ basis images, indicating which bases are used (each with probability 0.5)\n",
    "- Add white noises $\\text{Normal}(0,\\sigma_X^2 = 0.5)$ to these images"
   ]
  },
  {
   "cell_type": "code",
   "execution_count": 5,
   "metadata": {
    "collapsed": false
   },
   "outputs": [
    {
     "name": "stdout",
     "output_type": "stream",
     "text": [
      "Latent feature matrices (A):\n"
     ]
    },
    {
     "name": "stderr",
     "output_type": "stream",
     "text": [
      "/home/bitnami/anaconda/lib/python2.7/site-packages/matplotlib/figure.py:1644: UserWarning: This figure includes Axes that are not compatible with tight_layout, so its results might be incorrect.\n",
      "  warnings.warn(\"This figure includes Axes that are not \"\n"
     ]
    },
    {
     "data": {
      "image/png": "[encoded data removed]",
      "text/plain": [
       "<matplotlib.figure.Figure at 0x7f54a88c5910>"
      ]
     },
     "metadata": {},
     "output_type": "display_data"
    }
   ],
   "source": [
    "# Basis images\n",
    "import Image\n",
    "basis1 = np.array([[0,0,0,0,0,0],[0,0,0,0,0,0],[0,0,0,0,0,0],[0,1,0,0,0,0],[1,1,1,0,0,0],[0,1,0,0,0,0]])\n",
    "basis2 = np.array([[1,1,1,0,0,0],[1,0,1,0,0,0],[1,1,1,0,0,0],[0,0,0,0,0,0],[0,0,0,0,0,0],[0,0,0,0,0,0]])\n",
    "basis3 = np.array([[0,0,0,0,0,0],[0,0,0,0,0,0],[0,0,0,0,0,0],[0,0,0,0,0,1],[0,0,0,0,1,1],[0,0,0,1,1,1]])\n",
    "basis4 = np.array([[0,0,0,1,0,0],[0,0,0,1,1,1],[0,0,0,1,0,0],[0,0,0,0,0,0],[0,0,0,0,0,0],[0,0,0,0,0,0]])\n",
    "\n",
    "D = 36\n",
    "b1 = basis1.reshape(D)\n",
    "b2 = basis2.reshape(D)\n",
    "b3 = basis3.reshape(D)\n",
    "b4 = basis4.reshape(D)\n",
    "A = np.array([b1,b2,b3,b4])\n",
    "\n",
    "# These are heatmaps!\n",
    "plt.figure(num=None, tight_layout=True, figsize=(12,3), dpi=80, facecolor='w', edgecolor='k')\n",
    "plt.subplot(141)\n",
    "plt.pcolormesh(basis1,cmap=plt.cm.gray)     \n",
    "plt.subplot(142)\n",
    "plt.pcolormesh(basis2,cmap=plt.cm.gray)  \n",
    "plt.subplot(143)\n",
    "plt.pcolormesh(basis3,cmap=plt.cm.gray)  \n",
    "plt.subplot(144)\n",
    "plt.pcolormesh(basis4,cmap=plt.cm.gray)  \n",
    "plt.savefig('basis_images.png')\n",
    "print \"Latent feature matrices (A):\""
   ]
  },
  {
   "cell_type": "code",
   "execution_count": 8,
   "metadata": {
    "collapsed": false
   },
   "outputs": [
    {
     "name": "stdout",
     "output_type": "stream",
     "text": [
      "Example image:\n",
      "[[ 0.2067  0.3588  0.1309  0.8786 -0.2506 -0.3491]\n",
      " [ 0.6923 -0.1432  0.25    1.9756  0.8608  1.0184]\n",
      " [ 0.2229 -0.7052  0.225   1.2577 -0.577  -0.6901]\n",
      " [-0.2479  0.7934 -0.8597 -0.0148 -0.383   1.0499]\n",
      " [ 0.6435 -0.1131  1.3629  0.4585  0.7181  0.2389]\n",
      " [-0.0071  0.8766 -0.0827  1.0596 -0.0375  0.4986]]\n"
     ]
    },
    {
     "data": {
      "image/png": "[encoded data removed]",
      "text/plain": [
       "<matplotlib.figure.Figure at 0x7f54a7cff5d0>"
      ]
     },
     "metadata": {},
     "output_type": "display_data"
    }
   ],
   "source": [
    "# Generate image data: 100 matrices of size 6*6\n",
    "N = 100\n",
    "D = 36\n",
    "K = 4\n",
    "sigmaX_orig = 0.5\n",
    "\n",
    "# All K basis images, each of length D\n",
    "# Generate N images (customers, objects)\n",
    "np.random.seed(1234)\n",
    "images = np.zeros((N,6,6)) # simulated image data\n",
    "structure = np.zeros((N,6,6))  # 0/1 structure for each image\n",
    "add = stats.bernoulli.rvs(0.5,size=(N,K)) # whether the K=4 latent bases are present in each image\n",
    "epsilon = stats.norm.rvs(loc=0,scale=0.5,size = (N,6,6)) # random noise\n",
    "\n",
    "for i in range(N):\n",
    "    structure[i,:,:] = add[i,0]*basis1 + add[i,1]*basis2 + add[i,2]*basis3 + add[i,3]*basis4\n",
    "    images[i,:,:] = structure[i,:,:] + epsilon[i,:,:]\n",
    "\n",
    "Z_orig = add    \n",
    "# X = structure.reshape(N,D)    \n",
    "# print Z_orig\n",
    "# print structure[0,:,:]\n",
    "# print X[0,:]\n",
    "# print X.shape\n",
    "\n",
    "# print images.shape\n",
    "print \"Example image:\\n\",images[4]\n",
    "plt.figure(tight_layout=True, figsize=(3,3),dpi=80)\n",
    "plt.pcolormesh(images[4],cmap=plt.cm.gray)\n",
    "plt.savefig('example_image.png')"
   ]
  },
  {
   "cell_type": "markdown",
   "metadata": {},
   "source": [
    "### Variables in Transformation\n",
    "\n",
    "$x_i \\sim \\text{Normal}(\\mathbf{z_i} \\mathbf{A}, \\Sigma_X = \\sigma_X^2\\mathbf{I})$\n",
    "\n",
    "$\\mathbf{z_i}$ is a $K$-dimensional binary vector (features)\n",
    "\n",
    "$\\mathbf{A}$ is a $K \\times D$ matrix of weights, with prior $A \\sim \\text{Normal}(0,\\sigma_A^2 \\mathbf{I})$\n",
    "\n",
    "$Z \\sim \\text{IBP}(\\alpha)$, where $m_k$ is the number of objects with feature $k$\n",
    "\n",
    "$p(Z | \\alpha) = \\dfrac{\\alpha^K}{\\prod^{2^N-1}_{h=1}K_h!} \\exp(-\\alpha H_N) \\prod^{K}_{k=1}\\dfrac{(N-m_k)!(m_k-1)!}{N!}$\n",
    "\n",
    "Note 1: $\\alpha$ is a variable influencing the number of features  $D$\n",
    "\n",
    "Note 2: $K_h$ is the number of features with history $h$ (whether the $N$ images possess this feature, $2^N-1$ possibilities in total)\n",
    "\n",
    "Note 3: $H_N$ is the $N^{\\text{th}}$ harmonic number, and $m_k$ is the number of objects with feature $k$"
   ]
  },
  {
   "cell_type": "code",
   "execution_count": 6,
   "metadata": {
    "collapsed": false
   },
   "outputs": [
    {
     "name": "stdout",
     "output_type": "stream",
     "text": [
      "Sum of H_1 + ... + H_N: 423.925129282\n",
      "Harmonic number H_N: 5.18737751764\n"
     ]
    }
   ],
   "source": [
    "# Generate the Harmonic numbers, but we only need the sum\n",
    "from fractions import Fraction\n",
    "sum_Harmonics = 0\n",
    "Harmonics = 0\n",
    "for i in range(N):\n",
    "    sum_Harmonics += (N-i)*Fraction(1,i+1)\n",
    "    Harmonics += Fraction(1,i+1)\n",
    "print \"Sum of H_1 + ... + H_N:\", float(sum_Harmonics)\n",
    "print \"Harmonic number H_N:\", float(Harmonics)"
   ]
  },
  {
   "cell_type": "code",
   "execution_count": 7,
   "metadata": {
    "collapsed": false
   },
   "outputs": [
    {
     "name": "stdout",
     "output_type": "stream",
     "text": [
      "Initial Kplus: 4\n",
      "Z.shape: (100, 4)\n",
      "A.shape: (4, 36)\n"
     ]
    }
   ],
   "source": [
    "# Initialization\n",
    "N = 100\n",
    "D = 36\n",
    "K = 4\n",
    "sigmaA = 1\n",
    "sigmaX = 1\n",
    "\n",
    "np.random.seed(1005)\n",
    "# alpha = stats.gamma.rvs(a = 1, loc = 0, scale = 1, size = 1)[0]\n",
    "alpha = 1\n",
    "\n",
    "K_inf = 1000\n",
    "Z, Kplus = IBP(N, alpha)\n",
    "print \"Initial Kplus:\", Kplus\n",
    "print \"Z.shape:\",Z.shape # (100,4) = (N,Kplus) (latent)\n",
    "print \"A.shape:\",A.shape # (4,36) = (Kplus,D)  (weight)\n",
    "\n",
    "# Set MCMC steps\n",
    "mcmc = 1000 # plan to sample for 1000 times\n",
    "\n",
    "# Setup the array\n",
    "Z_arr = np.zeros((mcmc,N,K_inf))\n",
    "Kplus_arr = np.zeros(mcmc)\n",
    "sigmaX_arr = np.zeros(mcmc)\n",
    "sigmaA_arr = np.zeros(mcmc)\n",
    "alpha_arr = np.zeros(mcmc)\n",
    "rX_accept = 0\n",
    "rA_accept = 0"
   ]
  },
  {
   "cell_type": "code",
   "execution_count": 8,
   "metadata": {
    "collapsed": false
   },
   "outputs": [
    {
     "name": "stdout",
     "output_type": "stream",
     "text": [
      "X.shape: (100, 36)\n",
      "[[ 0.3823  0.6893  0.5555  0.2495 -0.3934  0.0594]\n",
      " [-0.6691  0.2899  0.2682  0.7715  0.8372 -0.3196]\n",
      " [ 1.3606  0.9476  0.4842  1.4568  0.2546 -0.5242]\n",
      " [ 0.6291  1.015   1.2063  0.3139  0.0555 -0.5009]\n",
      " [ 0.2144  1.6798  1.192   1.686  -0.1699  0.0766]\n",
      " [ 0.4324  0.3552  0.0704  1.3771  0.2362 -0.3846]]\n",
      "(100, 4)\n",
      "[[ 0.  1.  1.  0.]\n",
      " [ 0.  0.  1.  0.]\n",
      " [ 1.  1.  1.  1.]\n",
      " [ 0.  1.  0.  0.]\n",
      " [ 0.  1.  1.  1.]\n",
      " [ 1.  0.  1.  1.]]\n"
     ]
    }
   ],
   "source": [
    "# More initialization\n",
    "np.random.seed(16)\n",
    "basis1 = np.array([[0,0,0,0,0,0],[0,0,0,0,0,0],[0,0,0,0,0,0],[0,1,0,0,0,0],[1,1,1,0,0,0],[0,1,0,0,0,0]])\n",
    "basis2 = np.array([[1,1,1,0,0,0],[1,0,1,0,0,0],[1,1,1,0,0,0],[0,0,0,0,0,0],[0,0,0,0,0,0],[0,0,0,0,0,0]])\n",
    "basis3 = np.array([[0,0,0,0,0,0],[0,0,0,0,0,0],[0,0,0,0,0,0],[0,0,0,0,0,1],[0,0,0,0,1,1],[0,0,0,1,1,1]])\n",
    "basis4 = np.array([[0,0,0,1,0,0],[0,0,0,1,1,1],[0,0,0,1,0,0],[0,0,0,0,0,0],[0,0,0,0,0,0],[0,0,0,0,0,0]])\n",
    "\n",
    "D = 36\n",
    "b1 = basis1.reshape(D)\n",
    "b2 = basis2.reshape(D)\n",
    "b3 = basis3.reshape(D)\n",
    "b4 = basis4.reshape(D)\n",
    "A = np.array([b1,b2,b3,b4])\n",
    "\n",
    "Z_orig = np.zeros((N,4))\n",
    "sigmaX_orig = 0.5\n",
    "X = np.zeros((N,D))\n",
    "\n",
    "for i in range(N):\n",
    "    Z_orig[i,:] = stats.uniform.rvs(loc=0,scale=1,size=4) > 0.5\n",
    "    while np.sum(Z_orig[i,:]) == 0:\n",
    "        Z_orig[i,:] = stats.uniform.rvs(loc=0,scale=1,size=4) > 0.5\n",
    "    X[i,:] = np.random.normal(size=D)*sigmaX_orig + np.dot(Z_orig[i,:],A)\n",
    "    \n",
    "print \"X.shape:\",X.shape # (100,36) = (N,D) (data)\n",
    "print X[0:6,0:6]\n",
    "print Z_orig.shape\n",
    "print Z_orig[0:6,:]\n",
    "# print np.dot(Z_orig[i,:],A).shape"
   ]
  },
  {
   "cell_type": "code",
   "execution_count": 78,
   "metadata": {
    "collapsed": false
   },
   "outputs": [
    {
     "data": {
      "text/plain": [
       "-4224.3456"
      ]
     },
     "execution_count": 78,
     "metadata": {},
     "output_type": "execute_result"
    }
   ],
   "source": [
    "M = calcM(Z,Kplus,sigmaX,sigmaA) \n",
    "log_likelihood(X,Z[:,0:Kplus],M,sigmaA,sigmaX,Kplus,N,D)"
   ]
  },
  {
   "cell_type": "code",
   "execution_count": 9,
   "metadata": {
    "collapsed": false
   },
   "outputs": [
    {
     "name": "stdout",
     "output_type": "stream",
     "text": [
      "6.11082455198\n",
      "12.3836326135\n"
     ]
    }
   ],
   "source": [
    "# Checking whether the gamma distribution is setup correctly\n",
    "# ff ~ Gamma(a,b): a = shape, b = 1/scale => E(ff) = a/b = a*scale, Var(ff) = a/b**2 = a*scale**2\n",
    "# Generate 1000 random samples from Ga(3,2)\n",
    "np.random.seed(17)\n",
    "rv = stats.gamma.rvs(a = 3, loc = 0, scale = 2, size=1000)\n",
    "print np.mean(rv)  # should be close to 3*2 = 6\n",
    "print np.var(rv)   # should be close to 3*2*2 = 12"
   ]
  },
  {
   "cell_type": "markdown",
   "metadata": {},
   "source": [
    "### Gibbs Sampler\n",
    "\n",
    "Initialization: $\\sigma_A = 1, \\sigma_X = 1, \\alpha \\sim Ga(1,1)$\n",
    "\n",
    "1. Generate $P(z_{ik} | \\mathbf{X,Z_{-i,k}},\\sigma_X, \\sigma_A)$ using the full conditional distribution\n",
    "2. Sample $\\sigma_{X}^* = \\sigma_X + \\epsilon$, where $\\epsilon \\sim \\text{Unif}(-0.05,0.05)$, and accept $\\sigma_{X}^*$ by Metropolis (not just when the likelihood is larger, i.e. $P(\\sigma_{X}^*) > P(\\sigma_{X})$)\n",
    "3. Sample $\\sigma_{A}^* = \\sigma_A + \\epsilon$, where $\\epsilon \\sim \\text{Unif}(-0.05,0.05)$, and accept $\\sigma_{A}^*$ by Metropolis (not just when the likelihood is larger, i.e. $P(\\sigma_{A}^*) > P(\\sigma_{A})$)\n",
    "4. Generate $\\alpha|Z \\sim Ga(1+K_+,1+\\sum^{N}_{i=1}H_i)$, where $K_+ = \\sum^{2^N-1}_{h=1}K_h$ and $K_+$ is the number of features for which $m_k > 0$\n",
    "\n",
    "Metropolis for $\\sigma_A$ (for $\\sigma_X$ is similar):\n",
    "\n",
    "Current value: $\\sigma_{A}^{(n)}$\n",
    "\n",
    "Candidate value: $\\sigma_{A}^{*}$\n",
    "\n",
    "Generate $r \\sim \\text{Unif}(0,1)$\n",
    "\n",
    "Accept $\\sigma_{A}^{*}$ if $r < \\text{min}\\{ 1, \\dfrac{P(\\sigma_{A}^{*} | \\mathbf{Z,X},\\sigma_X)}{P(\\sigma_{A}^{(n)} | \\mathbf{Z,X},\\sigma_X)} \\}$"
   ]
  },
  {
   "cell_type": "code",
   "execution_count": 10,
   "metadata": {
    "collapsed": false
   },
   "outputs": [],
   "source": [
    "def calcM(Z,Kplus,sigmaX,sigmaA):\n",
    "    \"\"\"Save the matrix M so we won't need to calculate it again and again\"\"\"\n",
    "    return np.linalg.inv(np.dot(Z[:,0:Kplus].T,Z[:,0:Kplus])+((sigmaX/sigmaA)**2)*np.identity(Kplus))"
   ]
  },
  {
   "cell_type": "code",
   "execution_count": 11,
   "metadata": {
    "collapsed": false
   },
   "outputs": [],
   "source": [
    "def calcInverse(Z, M, i, k, val):\n",
    "    \"\"\"Effective inverse calculation from Griffiths and Ghahramani (2005; Equations 51 to 54)\n",
    "    M_(-i) = inv(inv(M) - zi.T * zi)\"\"\"\n",
    "    M_i = M - np.dot(np.dot(M,Z[i,:].T),np.dot(Z[i,:],M))/(np.dot(np.dot(Z[i,:],M),Z[i,:].T)-1)\n",
    "    Z[i,k] = val\n",
    "    M = M_i - np.dot(np.dot(M_i,Z[i,:].T),np.dot(Z[i,:],M_i))/(np.dot(np.dot(Z[i,:],M_i),Z[i,:].T)+1)\n",
    "    Inv = M\n",
    "    return Inv"
   ]
  },
  {
   "cell_type": "code",
   "execution_count": 12,
   "metadata": {
    "collapsed": false
   },
   "outputs": [],
   "source": [
    "def calcInverse_new(Z, M, i, k, val):\n",
    "    \"\"\"New version to check\n",
    "    Effective inverse calculation from Griffiths and Ghahramani (2005; Equations 51 to 54)\n",
    "    M_(-i) = inv(inv(M) - zi.T * zi)\"\"\"\n",
    "    Z[i,k] = val\n",
    "#     counter = np.zeros((len(Z[i,:]),len(Z[i,:])))\n",
    "#     for j in range(Z.shape[0]):\n",
    "#         counter += np.dot(Z[j,:].T,Z[j,:])\n",
    "#     counter -= np.dot(Z[i,:].T,Z[i,:])\n",
    "    \n",
    "#     M_negi = np.linalg.inv(counter + ((sigmaX/sigmaA)**2)*np.identity(len(Z[i,:])))\n",
    "    \n",
    "#     return M_negi\n",
    "    return np.linalg.inv(np.linalg.inv(M) - np.dot(Z[i,:].T,Z[i,:]))"
   ]
  },
  {
   "cell_type": "code",
   "execution_count": 184,
   "metadata": {
    "collapsed": false
   },
   "outputs": [
    {
     "data": {
      "text/plain": [
       "(100, 17)"
      ]
     },
     "execution_count": 184,
     "metadata": {},
     "output_type": "execute_result"
    }
   ],
   "source": [
    "Z.shape"
   ]
  },
  {
   "cell_type": "code",
   "execution_count": 13,
   "metadata": {
    "collapsed": false
   },
   "outputs": [],
   "source": [
    "def log_likelihood(X,Z,M,sigmaA,sigmaX,Kplus,N,D):  \n",
    "    \"\"\"Calculate the log-likelihood: P(X|Z,M,sigmaA,sigmaX,Kplus,N,D)\"\"\"  \n",
    "    determinant = np.linalg.det(np.dot(Z.T,Z)+((sigmaX/sigmaA)**2)*np.identity(Kplus))\n",
    "    constant = N*D*0.5*np.log(2*np.pi) + (N-Kplus)*D*np.log(sigmaX) + Kplus*D*np.log(sigmaA) + D*0.5*np.log(determinant)\n",
    "    \n",
    "    middle = np.identity(N) - np.dot(np.dot(Z, M),Z.T)\n",
    "    trace = np.trace(np.dot(np.dot(X.T,middle),X))\n",
    "    kernel = -0.5*np.reciprocal(sigmaX**2)*trace\n",
    "    \n",
    "    log_lik = -constant + kernel\n",
    "    #print constant\n",
    "    #print kernel\n",
    "    return log_lik"
   ]
  },
  {
   "cell_type": "code",
   "execution_count": 14,
   "metadata": {
    "collapsed": false
   },
   "outputs": [
    {
     "name": "stdout",
     "output_type": "stream",
     "text": [
      "At iteration 0 : Kplus is 4 , alpha is 1\n",
      "At iteration 1 : Kplus is 2 , alpha is 0.537882817984\n",
      "At iteration 2 : Kplus is 2 , alpha is 0.289545078845\n",
      "At iteration 3 : Kplus is 2 , alpha is 0.853673776554\n",
      "At iteration 4 : Kplus is 2 , alpha is 0.542472399072\n",
      "At iteration 5 : Kplus is 2 , alpha is 0.868655380422\n",
      "At iteration 6 : Kplus is 2 , alpha is 0.515548432391\n",
      "At iteration 7 : Kplus is 2 , alpha is 0.224314198064\n",
      "At iteration 8 : Kplus is 2 , alpha is 0.350902942015\n",
      "At iteration 9 : Kplus is 2 , alpha is 0.149120153875\n",
      "At iteration 10 : Kplus is 2 , alpha is 1.07129709186\n",
      "At iteration 11 : Kplus is 2 , alpha is 0.601776617221\n",
      "At iteration 12 : Kplus is 2 , alpha is 0.86854944674\n",
      "At iteration 13 : Kplus is 2 , alpha is 0.374257360471\n",
      "At iteration 14 : Kplus is 2 , alpha is 0.450129154907\n",
      "At iteration 15 : Kplus is 2 , alpha is 0.437701014538\n",
      "At iteration 16 : Kplus is 2 , alpha is 0.631361290585\n",
      "At iteration 17 : Kplus is 2 , alpha is 0.718777651515\n",
      "At iteration 18 : Kplus is 2 , alpha is 0.974187578509\n",
      "At iteration 19 : Kplus is 2 , alpha is 0.355824642106\n",
      "At iteration 20 : Kplus is 2 , alpha is 0.280757186223\n",
      "At iteration 21 : Kplus is 2 , alpha is 0.60683398209\n",
      "At iteration 22 : Kplus is 2 , alpha is 0.722638811311\n",
      "At iteration 23 : Kplus is 2 , alpha is 0.108921950578\n",
      "At iteration 24 : Kplus is 2 , alpha is 1.4121396047\n",
      "At iteration 25 : Kplus is 2 , alpha is 0.172179431424\n",
      "At iteration 26 : Kplus is 2 , alpha is 0.235054914714\n",
      "At iteration 27 : Kplus is 2 , alpha is 0.323389917804\n",
      "At iteration 28 : Kplus is 2 , alpha is 0.304514620533\n",
      "At iteration 29 : Kplus is 2 , alpha is 0.755964058156\n",
      "At iteration 30 : Kplus is 2 , alpha is 0.761007024532\n",
      "At iteration 31 : Kplus is 2 , alpha is 1.01541535152\n",
      "At iteration 32 : Kplus is 2 , alpha is 0.843937712937\n",
      "At iteration 33 : Kplus is 2 , alpha is 0.234371409326\n",
      "At iteration 34 : Kplus is 2 , alpha is 0.41403226637\n",
      "At iteration 35 : Kplus is 2 , alpha is 0.618915880788\n",
      "At iteration 36 : Kplus is 2 , alpha is 0.694636795288\n",
      "At iteration 37 : Kplus is 2 , alpha is 0.911105413308\n",
      "At iteration 38 : Kplus is 2 , alpha is 0.891594355057\n",
      "At iteration 39 : Kplus is 2 , alpha is 0.845979077952\n",
      "At iteration 40 : Kplus is 2 , alpha is 0.529389193955\n",
      "At iteration 41 : Kplus is 2 , alpha is 0.248703898189\n",
      "At iteration 42 : Kplus is 2 , alpha is 0.746733949035\n",
      "At iteration 43 : Kplus is 2 , alpha is 0.305867387846\n",
      "At iteration 44 : Kplus is 2 , alpha is 0.250682911105\n",
      "At iteration 45 : Kplus is 2 , alpha is 0.647987414455\n",
      "At iteration 46 : Kplus is 2 , alpha is 0.397227920224\n",
      "At iteration 47 : Kplus is 2 , alpha is 0.34062262456\n",
      "At iteration 48 : Kplus is 2 , alpha is 0.415664410877\n",
      "At iteration 49 : Kplus is 2 , alpha is 0.601860646824\n",
      "At iteration 50 : Kplus is 2 , alpha is 0.572235185154\n",
      "At iteration 51 : Kplus is 2 , alpha is 0.421955075548\n",
      "At iteration 52 : Kplus is 2 , alpha is 0.744193822643\n",
      "At iteration 53 : Kplus is 2 , alpha is 0.792994862538\n",
      "At iteration 54 : Kplus is 3 , alpha is 0.356854220801\n",
      "At iteration 55 : Kplus is 4 , alpha is 0.73695971896\n",
      "At iteration 56 : Kplus is 3 , alpha is 0.393986522675\n",
      "At iteration 57 : Kplus is 3 , alpha is 0.841223279729\n",
      "At iteration 58 : Kplus is 4 , alpha is 0.798609552062\n",
      "At iteration 59 : Kplus is 5 , alpha is 0.676102178096\n",
      "At iteration 60 : Kplus is 6 , alpha is 0.726541595325\n",
      "At iteration 61 : Kplus is 7 , alpha is 1.29893469379\n",
      "At iteration 62 : Kplus is 9 , alpha is 1.01375219925\n",
      "At iteration 63 : Kplus is 6 , alpha is 1.14453898139\n",
      "At iteration 64 : Kplus is 6 , alpha is 0.641511592375\n",
      "At iteration 65 : Kplus is 5 , alpha is 0.681385403799\n",
      "At iteration 66 : Kplus is 5 , alpha is 1.37963185658\n",
      "At iteration 67 : Kplus is 5 , alpha is 0.357760396949\n",
      "At iteration 68 : Kplus is 6 , alpha is 0.863411405945\n",
      "At iteration 69 : Kplus is 6 , alpha is 0.713116991751\n",
      "At iteration 70 : Kplus is 6 , alpha is 1.24324644229\n",
      "At iteration 71 : Kplus is 6 , alpha is 1.08994805134\n",
      "At iteration 72 : Kplus is 6 , alpha is 0.968715089043\n",
      "At iteration 73 : Kplus is 6 , alpha is 1.3655376928\n",
      "At iteration 74 : Kplus is 6 , alpha is 0.926122688748\n",
      "At iteration 75 : Kplus is 5 , alpha is 1.06542714084\n",
      "At iteration 76 : Kplus is 6 , alpha is 1.00934163677\n",
      "At iteration 77 : Kplus is 7 , alpha is 1.29376520587\n",
      "At iteration 78 : Kplus is 7 , alpha is 1.3619469531\n",
      "At iteration 79 : Kplus is 8 , alpha is 1.80901043438\n",
      "At iteration 80 : Kplus is 7 , alpha is 1.34987437173\n",
      "At iteration 81 : Kplus is 10 , alpha is 1.12917666799\n",
      "At iteration 82 : Kplus is 6 , alpha is 0.894127078755\n",
      "At iteration 83 : Kplus is 6 , alpha is 0.915663875249\n",
      "At iteration 84 : Kplus is 7 , alpha is 1.33360800744\n",
      "At iteration 85 : Kplus is 8 , alpha is 1.52225875212\n",
      "At iteration 86 : Kplus is 7 , alpha is 1.93156911594\n",
      "At iteration 87 : Kplus is 6 , alpha is 0.98589764992\n",
      "At iteration 88 : Kplus is 6 , alpha is 1.69807096645\n",
      "At iteration 89 : Kplus is 7 , alpha is 1.52471942588\n",
      "At iteration 90 : Kplus is 8 , alpha is 2.13806855989\n",
      "At iteration 91 : Kplus is 8 , alpha is 0.846007046049\n",
      "At iteration 92 : Kplus is 6 , alpha is 1.80362180374\n",
      "At iteration 93 : Kplus is 6 , alpha is 0.910874255506\n",
      "At iteration 94 : Kplus is 6 , alpha is 1.73554254128\n",
      "At iteration 95 : Kplus is 8 , alpha is 1.05571924482\n",
      "At iteration 96 : Kplus is 8 , alpha is 1.8433002899\n",
      "At iteration 97 : Kplus is 7 , alpha is 1.95832516914\n",
      "At iteration 98 : Kplus is 7 , alpha is 1.14426053026\n",
      "At iteration 99 : Kplus is 6 , alpha is 0.879507301036\n",
      "At iteration 100 : Kplus is 6 , alpha is 1.58837347567\n",
      "At iteration 101 : Kplus is 6 , alpha is 1.18547218925\n",
      "At iteration 102 : Kplus is 6 , alpha is 0.616934511061\n",
      "At iteration 103 : Kplus is 7 , alpha is 1.60980974447\n",
      "At iteration 104 : Kplus is 7 , alpha is 1.70507225487\n",
      "At iteration 105 : Kplus is 8 , alpha is 1.26743567887\n",
      "At iteration 106 : Kplus is 8 , alpha is 1.6806126353\n",
      "At iteration 107 : Kplus is 10 , alpha is 2.41127920899\n",
      "At iteration 108 : Kplus is 9 , alpha is 2.06271388905\n",
      "At iteration 109 : Kplus is 8 , alpha is 1.375804064\n",
      "At iteration 110 : Kplus is 6 , alpha is 0.619873746877\n",
      "At iteration 111 : Kplus is 6 , alpha is 0.644648408355\n",
      "At iteration 112 : Kplus is 6 , alpha is 1.78103568071\n",
      "At iteration 113 : Kplus is 8 , alpha is 0.900605554039\n",
      "At iteration 114 : Kplus is 7 , alpha is 1.16972449173\n",
      "At iteration 115 : Kplus is 7 , alpha is 1.09577555243\n",
      "At iteration 116 : Kplus is 6 , alpha is 2.66105136458\n"
     ]
    },
    {
     "ename": "KeyboardInterrupt",
     "evalue": "",
     "output_type": "error",
     "traceback": [
      "\u001b[1;31m---------------------------------------------------------------------------\u001b[0m\n\u001b[1;31mKeyboardInterrupt\u001b[0m                         Traceback (most recent call last)",
      "\u001b[1;32m<ipython-input-14-8b09dd37bea5>\u001b[0m in \u001b[0;36m<module>\u001b[1;34m()\u001b[0m\n\u001b[0;32m     55\u001b[0m             \u001b[0mZ\u001b[0m\u001b[1;33m[\u001b[0m\u001b[0mi\u001b[0m\u001b[1;33m,\u001b[0m\u001b[0mk\u001b[0m\u001b[1;33m]\u001b[0m \u001b[1;33m=\u001b[0m \u001b[1;36m0\u001b[0m\u001b[1;33m\u001b[0m\u001b[0m\n\u001b[0;32m     56\u001b[0m             \u001b[0mM0\u001b[0m \u001b[1;33m=\u001b[0m \u001b[0mcalcM\u001b[0m\u001b[1;33m(\u001b[0m\u001b[0mZ\u001b[0m\u001b[1;33m,\u001b[0m\u001b[0mKplus\u001b[0m\u001b[1;33m,\u001b[0m\u001b[0msigmaX\u001b[0m\u001b[1;33m,\u001b[0m\u001b[0msigmaA\u001b[0m\u001b[1;33m)\u001b[0m\u001b[1;33m\u001b[0m\u001b[0m\n\u001b[1;32m---> 57\u001b[1;33m             \u001b[0mP\u001b[0m\u001b[1;33m[\u001b[0m\u001b[1;36m0\u001b[0m\u001b[1;33m]\u001b[0m \u001b[1;33m=\u001b[0m \u001b[0mlog_likelihood\u001b[0m\u001b[1;33m(\u001b[0m\u001b[0mX\u001b[0m\u001b[1;33m,\u001b[0m\u001b[0mZ\u001b[0m\u001b[1;33m[\u001b[0m\u001b[1;33m:\u001b[0m\u001b[1;33m,\u001b[0m\u001b[1;36m0\u001b[0m\u001b[1;33m:\u001b[0m\u001b[0mKplus\u001b[0m\u001b[1;33m]\u001b[0m\u001b[1;33m,\u001b[0m\u001b[0mM0\u001b[0m\u001b[1;33m,\u001b[0m\u001b[0msigmaA\u001b[0m\u001b[1;33m,\u001b[0m\u001b[0msigmaX\u001b[0m\u001b[1;33m,\u001b[0m\u001b[0mKplus\u001b[0m\u001b[1;33m,\u001b[0m\u001b[0mN\u001b[0m\u001b[1;33m,\u001b[0m\u001b[0mD\u001b[0m\u001b[1;33m)\u001b[0m \u001b[1;33m+\u001b[0m \u001b[0mnp\u001b[0m\u001b[1;33m.\u001b[0m\u001b[0mlog\u001b[0m\u001b[1;33m(\u001b[0m\u001b[0mN\u001b[0m\u001b[1;33m-\u001b[0m\u001b[0msum\u001b[0m\u001b[1;33m(\u001b[0m\u001b[0mZ\u001b[0m\u001b[1;33m[\u001b[0m\u001b[1;33m:\u001b[0m\u001b[1;33m,\u001b[0m\u001b[0mk\u001b[0m\u001b[1;33m]\u001b[0m\u001b[1;33m)\u001b[0m\u001b[1;33m)\u001b[0m \u001b[1;33m-\u001b[0m \u001b[0mnp\u001b[0m\u001b[1;33m.\u001b[0m\u001b[0mlog\u001b[0m\u001b[1;33m(\u001b[0m\u001b[0mN\u001b[0m\u001b[1;33m)\u001b[0m\u001b[1;33m\u001b[0m\u001b[0m\n\u001b[0m\u001b[0;32m     58\u001b[0m             \u001b[0mP\u001b[0m \u001b[1;33m=\u001b[0m \u001b[0mnp\u001b[0m\u001b[1;33m.\u001b[0m\u001b[0mexp\u001b[0m\u001b[1;33m(\u001b[0m\u001b[0mP\u001b[0m \u001b[1;33m-\u001b[0m \u001b[0mmax\u001b[0m\u001b[1;33m(\u001b[0m\u001b[0mP\u001b[0m\u001b[1;33m)\u001b[0m\u001b[1;33m)\u001b[0m\u001b[1;33m\u001b[0m\u001b[0m\n\u001b[0;32m     59\u001b[0m             \u001b[1;31m# Sample from the posterior distribution\u001b[0m\u001b[1;33m\u001b[0m\u001b[1;33m\u001b[0m\u001b[0m\n",
      "\u001b[1;32m<ipython-input-13-899a2214594e>\u001b[0m in \u001b[0;36mlog_likelihood\u001b[1;34m(X, Z, M, sigmaA, sigmaX, Kplus, N, D)\u001b[0m\n\u001b[0;32m      4\u001b[0m     \u001b[0mconstant\u001b[0m \u001b[1;33m=\u001b[0m \u001b[0mN\u001b[0m\u001b[1;33m*\u001b[0m\u001b[0mD\u001b[0m\u001b[1;33m*\u001b[0m\u001b[1;36m0.5\u001b[0m\u001b[1;33m*\u001b[0m\u001b[0mnp\u001b[0m\u001b[1;33m.\u001b[0m\u001b[0mlog\u001b[0m\u001b[1;33m(\u001b[0m\u001b[1;36m2\u001b[0m\u001b[1;33m*\u001b[0m\u001b[0mnp\u001b[0m\u001b[1;33m.\u001b[0m\u001b[0mpi\u001b[0m\u001b[1;33m)\u001b[0m \u001b[1;33m+\u001b[0m \u001b[1;33m(\u001b[0m\u001b[0mN\u001b[0m\u001b[1;33m-\u001b[0m\u001b[0mKplus\u001b[0m\u001b[1;33m)\u001b[0m\u001b[1;33m*\u001b[0m\u001b[0mD\u001b[0m\u001b[1;33m*\u001b[0m\u001b[0mnp\u001b[0m\u001b[1;33m.\u001b[0m\u001b[0mlog\u001b[0m\u001b[1;33m(\u001b[0m\u001b[0msigmaX\u001b[0m\u001b[1;33m)\u001b[0m \u001b[1;33m+\u001b[0m \u001b[0mKplus\u001b[0m\u001b[1;33m*\u001b[0m\u001b[0mD\u001b[0m\u001b[1;33m*\u001b[0m\u001b[0mnp\u001b[0m\u001b[1;33m.\u001b[0m\u001b[0mlog\u001b[0m\u001b[1;33m(\u001b[0m\u001b[0msigmaA\u001b[0m\u001b[1;33m)\u001b[0m \u001b[1;33m+\u001b[0m \u001b[0mD\u001b[0m\u001b[1;33m*\u001b[0m\u001b[1;36m0.5\u001b[0m\u001b[1;33m*\u001b[0m\u001b[0mnp\u001b[0m\u001b[1;33m.\u001b[0m\u001b[0mlog\u001b[0m\u001b[1;33m(\u001b[0m\u001b[0mdeterminant\u001b[0m\u001b[1;33m)\u001b[0m\u001b[1;33m\u001b[0m\u001b[0m\n\u001b[0;32m      5\u001b[0m \u001b[1;33m\u001b[0m\u001b[0m\n\u001b[1;32m----> 6\u001b[1;33m     \u001b[0mmiddle\u001b[0m \u001b[1;33m=\u001b[0m \u001b[0mnp\u001b[0m\u001b[1;33m.\u001b[0m\u001b[0midentity\u001b[0m\u001b[1;33m(\u001b[0m\u001b[0mN\u001b[0m\u001b[1;33m)\u001b[0m \u001b[1;33m-\u001b[0m \u001b[0mnp\u001b[0m\u001b[1;33m.\u001b[0m\u001b[0mdot\u001b[0m\u001b[1;33m(\u001b[0m\u001b[0mnp\u001b[0m\u001b[1;33m.\u001b[0m\u001b[0mdot\u001b[0m\u001b[1;33m(\u001b[0m\u001b[0mZ\u001b[0m\u001b[1;33m,\u001b[0m \u001b[0mM\u001b[0m\u001b[1;33m)\u001b[0m\u001b[1;33m,\u001b[0m\u001b[0mZ\u001b[0m\u001b[1;33m.\u001b[0m\u001b[0mT\u001b[0m\u001b[1;33m)\u001b[0m\u001b[1;33m\u001b[0m\u001b[0m\n\u001b[0m\u001b[0;32m      7\u001b[0m     \u001b[0mtrace\u001b[0m \u001b[1;33m=\u001b[0m \u001b[0mnp\u001b[0m\u001b[1;33m.\u001b[0m\u001b[0mtrace\u001b[0m\u001b[1;33m(\u001b[0m\u001b[0mnp\u001b[0m\u001b[1;33m.\u001b[0m\u001b[0mdot\u001b[0m\u001b[1;33m(\u001b[0m\u001b[0mnp\u001b[0m\u001b[1;33m.\u001b[0m\u001b[0mdot\u001b[0m\u001b[1;33m(\u001b[0m\u001b[0mX\u001b[0m\u001b[1;33m.\u001b[0m\u001b[0mT\u001b[0m\u001b[1;33m,\u001b[0m\u001b[0mmiddle\u001b[0m\u001b[1;33m)\u001b[0m\u001b[1;33m,\u001b[0m\u001b[0mX\u001b[0m\u001b[1;33m)\u001b[0m\u001b[1;33m)\u001b[0m\u001b[1;33m\u001b[0m\u001b[0m\n\u001b[0;32m      8\u001b[0m     \u001b[0mkernel\u001b[0m \u001b[1;33m=\u001b[0m \u001b[1;33m-\u001b[0m\u001b[1;36m0.5\u001b[0m\u001b[1;33m*\u001b[0m\u001b[0mnp\u001b[0m\u001b[1;33m.\u001b[0m\u001b[0mreciprocal\u001b[0m\u001b[1;33m(\u001b[0m\u001b[0msigmaX\u001b[0m\u001b[1;33m**\u001b[0m\u001b[1;36m2\u001b[0m\u001b[1;33m)\u001b[0m\u001b[1;33m*\u001b[0m\u001b[0mtrace\u001b[0m\u001b[1;33m\u001b[0m\u001b[0m\n",
      "\u001b[1;31mKeyboardInterrupt\u001b[0m: "
     ]
    }
   ],
   "source": [
    "# Gibbs Sampler -- Steps\n",
    "np.random.seed(111)\n",
    "\n",
    "# for mc in range(mcmc):\n",
    "for mc in range(1000):\n",
    "\n",
    "    # Step 0: Save generated parameters to the MCMC array\n",
    "    Z_arr[mc,:,0:Kplus] = Z[:,0:Kplus]\n",
    "    # print \"Shape of Z:\",Z.shape\n",
    "    \n",
    "    alpha_arr[mc] = alpha\n",
    "    Kplus_arr[mc] = Kplus\n",
    "    sigmaX_arr[mc] = sigmaX\n",
    "    sigmaA_arr[mc] = sigmaA\n",
    "    print \"At iteration\",mc,\": Kplus is\",Kplus,\", alpha is\",alpha\n",
    "\n",
    "    # Step 1: Generate Z|alpha (Gibbs)\n",
    "    for i in range(N):\n",
    "        # Save the matrix M so we won't need to calculate it again and again\n",
    "        #M = calcM(Z,Kplus,sigmaX,sigmaA)\n",
    "                             \n",
    "        for k in range(Kplus):\n",
    "            # This is possible because Kplus may decrease in this loop (e.g. dropping redundant zeros)\n",
    "            if (k+1) > Kplus:\n",
    "                break\n",
    "            if Z[i,k] > 0:\n",
    "                # Take care of singular features\n",
    "                # Get rid of the features not sampled (remove the zeros)\n",
    "                if np.sum(Z[:,k]) - Z[i,k] <= 0: # whether the dish is sampled by other customers or not\n",
    "                # if np.sum(Z[:,k]) - Z[i,k] == 0: # same as the code above since Z is binary\n",
    "                    #Z[i,k] = 0\n",
    "                    # Avoid Kplus to become zero!\n",
    "#                     if Kplus == 1:\n",
    "#                         Z[:,0] = Z[:,1]\n",
    "#                     else: # Kplus > 1\n",
    "                    Z[:,k:(Kplus-1)] = Z[:,(k+1):Kplus]\n",
    "                    Kplus -= 1\n",
    "                        # Z = Z[:,0:Kplus] # remove the last column\n",
    "                    #M = calcM(Z,Kplus,sigmaX,sigmaA)          \n",
    "                    continue            \n",
    "            \n",
    "            # Effective inverse calculation from Griffiths and Ghahramani (2005; Equations 51 to 54)\n",
    "            # M_(-i) = inv(inv(M) - zi.T * zi)\n",
    "#             M0 = calcInverse(Z[:,0:Kplus], M, i, k, 0)\n",
    "#             M1 = calcInverse(Z[:,0:Kplus], M, i, k, 1)\n",
    "            \n",
    "            # Then calculate the posterior distribution: prior * likelihood \n",
    "            # i.e. customers sample the dishes that have been previously sampled\n",
    "            # Likelihood: P(X|Z_(-i,k),sigmaX,sigmaA)\n",
    "            # Prior: P(z_ik = 1 | z_(-i,k)) = m_(-i,k) / N, where m_(-i,k) = number of objects possess feature k, excluding i\n",
    "            P = np.zeros(2)\n",
    "            Z[i,k] = 1\n",
    "            M1 = calcM(Z,Kplus,sigmaX,sigmaA) \n",
    "            P[1] = log_likelihood(X,Z[:,0:Kplus],M1,sigmaA,sigmaX,Kplus,N,D) + np.log(sum(Z[:,k])-Z[i,k]) - np.log(N)\n",
    "            Z[i,k] = 0\n",
    "            M0 = calcM(Z,Kplus,sigmaX,sigmaA) \n",
    "            P[0] = log_likelihood(X,Z[:,0:Kplus],M0,sigmaA,sigmaX,Kplus,N,D) + np.log(N-sum(Z[:,k])) - np.log(N)\n",
    "            P = np.exp(P - max(P))\n",
    "            # Sample from the posterior distribution\n",
    "            rand = stats.uniform.rvs(loc=0,scale=1,size=1)           \n",
    "            if rand < P[0]/(P[0]+P[1]):\n",
    "                Z[i,k] = 0\n",
    "                #M = M0\n",
    "            else:\n",
    "                Z[i,k] = 1\n",
    "                #M = M1\n",
    "\n",
    "        # Sample the number of new dishes Pois(alpha/i) for the current customer/object\n",
    "        # Truncated prior: P(z_ik = 1 | z_(-i,k)) = (m_(-i,k) + alpha/Kplus) / (N + alpha/Kplus)\n",
    "        # trun = np.zeros(5)\n",
    "        trun = np.zeros(4)\n",
    "        # alphaN = alpha/N  # don't use alpha/i, or this can result in division by zero, but I don't know the details\n",
    "        # alphaN = alpha/(i+1)\n",
    "        alphaN = alpha/N\n",
    "        # Note: in MATLAB, any matrix can be expanded => in Python, we need np.vstack and/or np.hstack       \n",
    "        \n",
    "        # for ki in range(5):\n",
    "        for ki in range(4):\n",
    "            if ki > 0:\n",
    "                new_stack = np.zeros((N,ki))\n",
    "                new_stack[i,:] = 1\n",
    "                Z = np.hstack((Z[:,0:Kplus],new_stack))\n",
    "            M = np.linalg.inv(np.dot(Z[:,0:(Kplus+ki)].T,Z[:,0:(Kplus+ki)])+((sigmaX/sigmaA)**2)*np.identity(Kplus+ki))\n",
    "            # Prior: x ~ Pois(lambda): f(x) = ((lambda**x)/x!)*exp(-lambda), where x = ki, lambda = alphaN\n",
    "            \n",
    "            trun[ki] = (ki)*np.log(alphaN) - alphaN - np.log(np.math.factorial(ki)) \n",
    "            # posterior is proportional to prior x likelihood\n",
    "            trun[ki] += log_likelihood(X,Z[:,0:(Kplus+ki)],M,sigmaA,sigmaX,Kplus+ki,N,D)\n",
    "            \n",
    "        # Z[i,Kplus:(Kplus+4)] = 0\n",
    "        Z[i,Kplus:(Kplus+3)] = 0\n",
    "        trun = np.exp(trun-max(trun))\n",
    "        trun = trun/np.sum(trun)\n",
    "        \n",
    "        p = stats.uniform.rvs(loc=0,scale=1,size=1)  \n",
    "        t = 0\n",
    "        # for ki in range(5):\n",
    "        for ki in range(4):\n",
    "            t += trun[ki]\n",
    "            if p < t:\n",
    "                new_dishes = ki\n",
    "                break\n",
    "        Z[i,Kplus:(Kplus+new_dishes)] = 1\n",
    "        Kplus += new_dishes\n",
    "        \n",
    "    # Step 2: Sample sigmaX_star (Metropolis)\n",
    "    # M = calcM(Z, Kplus+new_dishes, sigmaX, sigmaA)\n",
    "    M = calcM(Z, Kplus, sigmaX, sigmaA)\n",
    "    #logLik = log_likelihood(X, Z[:,0:(Kplus+new_dishes)], M, sigmaA, sigmaX, Kplus+new_dishes, N, D)\n",
    "    logLik = log_likelihood(X, Z[:,0:Kplus], M, sigmaA, sigmaX, Kplus, N, D)\n",
    "    epsilonX = stats.uniform.rvs(loc=0,scale=1,size=1) \n",
    "    if epsilonX < 0.5:\n",
    "        # sigmaX_star = sigmaX - epsilonX/40\n",
    "        # sigmaX_star = sigmaX - epsilonX/20\n",
    "        sigmaX_star = sigmaX - stats.uniform.rvs(loc=0,scale=1,size=1)/20\n",
    "    else:\n",
    "        # sigmaX_star = sigmaX + epsilonX/20   \n",
    "        sigmaX_star = sigmaX + stats.uniform.rvs(loc=0,scale=1,size=1)/20 \n",
    "    # M_Xstar = calcM(Z, Kplus+new_dishes, sigmaX_star, sigmaA)\n",
    "    M_Xstar = calcM(Z, Kplus, sigmaX_star, sigmaA)\n",
    "    # logLikX_star = log_likelihood(X, Z[:,0:(Kplus+new_dishes)], M_Xstar, sigmaA, sigmaX_star, Kplus+new_dishes, N, D)\n",
    "    logLikX_star = log_likelihood(X, Z[:,0:Kplus], M_Xstar, sigmaA, sigmaX_star, Kplus, N, D)\n",
    "    acc_X = np.exp(min(0, logLikX_star-logLik))\n",
    "    \n",
    "    # Step 3: Sample sigmaA_star (Metropolis)\n",
    "    epsilonA = stats.uniform.rvs(loc=0,scale=1,size=1)\n",
    "    if epsilonA < 0.5:\n",
    "        # sigmaA_star = sigmaA - epsilonA/20\n",
    "        sigmaA_star = sigmaA - stats.uniform.rvs(loc=0,scale=1,size=1)/20\n",
    "    else:\n",
    "        # sigmaA_star = sigmaA + epsilonA/40 \n",
    "        sigmaA_star = sigmaA + stats.uniform.rvs(loc=0,scale=1,size=1)/20\n",
    "        # sigmaA_star = sigmaA + epsilonA/20   \n",
    "    # M_Astar = calcM(Z, Kplus+new_dishes, sigmaX, sigmaA_star)\n",
    "    M_Astar = calcM(Z, Kplus, sigmaX, sigmaA_star)\n",
    "    # logLikA_star = log_likelihood(X, Z[:,0:(Kplus+new_dishes)], M_Astar, sigmaA_star, sigmaX, Kplus+new_dishes, N, D)\n",
    "    logLikA_star = log_likelihood(X, Z[:,0:Kplus], M_Astar, sigmaA_star, sigmaX, Kplus, N, D)\n",
    "    acc_A = np.exp(min(0, logLikA_star-logLik))\n",
    "    \n",
    "    randX = stats.uniform.rvs(loc=0,scale=1,size=1)\n",
    "    if randX < acc_X:\n",
    "        sigmaX = sigmaX_star\n",
    "        rX_accept += 1\n",
    "    randA = stats.uniform.rvs(loc=0,scale=1,size=1)\n",
    "    if randA < acc_A:\n",
    "        sigmaA = sigmaA_star\n",
    "        rA_accept += 1\n",
    "    \n",
    "    # Step 4: Sample alpha|Z ~ Ga(a=1+Kplus,scale=1+Harmonics)\n",
    "    alpha = stats.gamma.rvs(a = 1+Kplus, loc = 0, scale = np.reciprocal(1+Harmonics),size=1)[0]\n",
    "    "
   ]
  },
  {
   "cell_type": "code",
   "execution_count": 85,
   "metadata": {
    "collapsed": false
   },
   "outputs": [
    {
     "data": {
      "text/plain": [
       "[<matplotlib.lines.Line2D at 0x7ff5b4fc27d0>]"
      ]
     },
     "execution_count": 85,
     "metadata": {},
     "output_type": "execute_result"
    },
    {
     "data": {
      "image/png": "[encoded data removed]",
      "text/plain": [
       "<matplotlib.figure.Figure at 0x7ff5b5044b50>"
      ]
     },
     "metadata": {},
     "output_type": "display_data"
    }
   ],
   "source": [
    "plt.plot(sigmaX_arr)"
   ]
  },
  {
   "cell_type": "code",
   "execution_count": 86,
   "metadata": {
    "collapsed": false
   },
   "outputs": [
    {
     "data": {
      "text/plain": [
       "[<matplotlib.lines.Line2D at 0x7ff5b4ef5450>]"
      ]
     },
     "execution_count": 86,
     "metadata": {},
     "output_type": "execute_result"
    },
    {
     "data": {
      "image/png": "[encoded data removed]",
      "text/plain": [
       "<matplotlib.figure.Figure at 0x7ff5b50020d0>"
      ]
     },
     "metadata": {},
     "output_type": "display_data"
    }
   ],
   "source": [
    "plt.plot(sigmaA_arr)"
   ]
  },
  {
   "cell_type": "code",
   "execution_count": 150,
   "metadata": {
    "collapsed": false
   },
   "outputs": [
    {
     "data": {
      "text/plain": [
       "1.5390"
      ]
     },
     "execution_count": 150,
     "metadata": {},
     "output_type": "execute_result"
    }
   ],
   "source": [
    "# print np.mean(Kplus_arr)\n",
    "# print sigmaX_arr\n",
    "# print Kplus_arr\n",
    "# print sum(Kplus_arr == 5)\n",
    "Kplus00 = 4\n",
    "stats.gamma.rvs(a = 1+Kplus00, loc = 0, scale = np.reciprocal(1+Harmonics),size=1)[0]"
   ]
  },
  {
   "cell_type": "code",
   "execution_count": 83,
   "metadata": {
    "collapsed": false
   },
   "outputs": [
    {
     "name": "stdout",
     "output_type": "stream",
     "text": [
      "0.237860082305\n",
      "0.497942386831\n",
      "(100, 6)\n",
      "(100, 36)\n",
      "(1000, 100, 1000)\n"
     ]
    }
   ],
   "source": [
    "print rX_accept/2430\n",
    "print rA_accept/2430\n",
    "print Z.shape\n",
    "print X.shape\n",
    "print Z_arr.shape"
   ]
  },
  {
   "cell_type": "code",
   "execution_count": 109,
   "metadata": {
    "collapsed": false
   },
   "outputs": [],
   "source": [
    "#Z_arr[999,:,0:6]"
   ]
  },
  {
   "cell_type": "code",
   "execution_count": 95,
   "metadata": {
    "collapsed": false
   },
   "outputs": [
    {
     "data": {
      "text/plain": [
       "<matplotlib.collections.QuadMesh at 0x7ff5b41c5d90>"
      ]
     },
     "execution_count": 95,
     "metadata": {},
     "output_type": "execute_result"
    },
    {
     "data": {
      "image/png": "[encoded data removed]",
      "text/plain": [
       "<matplotlib.figure.Figure at 0x7ff5b4532a50>"
      ]
     },
     "metadata": {},
     "output_type": "display_data"
    }
   ],
   "source": [
    "# Setup the array\n",
    "Kplus_final = Kplus_arr[399] # in fact it is 5 =.=\n",
    "# Kplus_final = 4\n",
    "# Z_final = Z_arr[156,:,0:Kplus_final-1].reshape(N,Kplus_final-1)\n",
    "# Z_final = Z_arr[156,:,1:Kplus_final].reshape(N,Kplus_final-1)\n",
    "Z_final = Z_arr[156,:,0:Kplus_final].reshape(N,Kplus_final)\n",
    "sigmaX_final = sigmaX_arr[399]\n",
    "sigmaA_final = sigmaA_arr[399]\n",
    "A_inf = np.dot(np.linalg.inv(np.dot(Z_final.T,Z_final) +  ((sigmaX_final/sigmaA_final)**2)*np.identity(Kplus_final)),np.dot(Z_final.T,X))\n",
    "\n",
    "A_inf[3,:].reshape(6,6)\n",
    "# subplot(1,4,1); imagesc(reshape(A_inf(1,:),6,6)); colormap(gray); axis off\n",
    "# subplot(1,4,2); imagesc(reshape(A_inf(2,:),6,6)); colormap(gray); axis off\n",
    "# subplot(1,4,3); imagesc(reshape(A_inf(3,:),6,6)); colormap(gray); axis off\n",
    "# subplot(1,4,4); imagesc(reshape(A_inf(4,:),6,6)); colormap(gray); axis off\n",
    "\n",
    "# print \"Example image:\\n\",A_inf[0,:].reshape(6,6)\n",
    "plt.figure(num=None,figsize=(12,3),dpi=80)\n",
    "plt.subplot(151)\n",
    "plt.pcolormesh(A_inf[0,:].reshape(6,6),cmap=plt.cm.gray)\n",
    "plt.subplot(152)\n",
    "plt.pcolormesh(A_inf[1,:].reshape(6,6),cmap=plt.cm.gray)\n",
    "plt.subplot(153)\n",
    "plt.pcolormesh(A_inf[2,:].reshape(6,6),cmap=plt.cm.gray)\n",
    "plt.subplot(154)\n",
    "plt.pcolormesh(A_inf[3,:].reshape(6,6),cmap=plt.cm.gray)\n",
    "plt.subplot(155)\n",
    "plt.pcolormesh(A_inf[4,:].reshape(6,6),cmap=plt.cm.gray)"
   ]
  },
  {
   "cell_type": "code",
   "execution_count": 83,
   "metadata": {
    "collapsed": false
   },
   "outputs": [
    {
     "data": {
      "text/plain": [
       "<matplotlib.collections.QuadMesh at 0x7ff5b5189290>"
      ]
     },
     "execution_count": 83,
     "metadata": {},
     "output_type": "execute_result"
    },
    {
     "data": {
      "image/png": "[encoded data removed]",
      "text/plain": [
       "<matplotlib.figure.Figure at 0x7ff5b5644790>"
      ]
     },
     "metadata": {},
     "output_type": "display_data"
    }
   ],
   "source": [
    "# These are heatmaps!\n",
    "plt.figure(num=None, figsize=(12,3), dpi=80, facecolor='w', edgecolor='k')\n",
    "plt.subplot(141)\n",
    "plt.pcolormesh(basis1,cmap=plt.cm.gray)     \n",
    "plt.subplot(142)\n",
    "plt.pcolormesh(basis2,cmap=plt.cm.gray)  \n",
    "plt.subplot(143)\n",
    "plt.pcolormesh(basis3,cmap=plt.cm.gray)  \n",
    "plt.subplot(144)\n",
    "plt.pcolormesh(basis4,cmap=plt.cm.gray)  "
   ]
  },
  {
   "cell_type": "code",
   "execution_count": null,
   "metadata": {
    "collapsed": false
   },
   "outputs": [],
   "source": [
    "def calcM(Z,Kplus,sigmaX,sigmaA):\n",
    "    \"\"\"Save the matrix M so we won't need to calculate it again and again\"\"\"\n",
    "    return np.linalg.inv(np.dot(Z[:,0:Kplus].T,Z[:,0:Kplus])+((sigmaX/sigmaA)**2)*np.identity(Kplus))\n",
    "\n",
    "\n",
    "figure\n",
    "hist(chain.K(201:10:1000),3); colormap(gray)\n",
    "\n",
    "figure\n",
    "Z=reshape(chain.Z(1000,:,1:4),100,4);\n",
    "sigma_x=chain.sigma_X(1000);\n",
    "sigma_A=chain.sigma_A(1000);\n",
    "A_inf=(Z'*Z+(sigma_X/sigma_A)*eye(4))^-1*Z'*X;\n",
    "\n",
    "subplot(1,4,1); imagesc(reshape(A_inf(1,:),6,6)); colormap(gray); axis off\n",
    "subplot(1,4,2); imagesc(reshape(A_inf(2,:),6,6)); colormap(gray); axis off\n",
    "subplot(1,4,3); imagesc(reshape(A_inf(3,:),6,6)); colormap(gray); axis off\n",
    "subplot(1,4,4); imagesc(reshape(A_inf(4,:),6,6)); colormap(gray); axis off"
   ]
  },
  {
   "cell_type": "code",
   "execution_count": 135,
   "metadata": {
    "collapsed": false
   },
   "outputs": [
    {
     "name": "stdout",
     "output_type": "stream",
     "text": [
      "rA accept: 0.844\n",
      "rX accept: 0.406\n"
     ]
    }
   ],
   "source": [
    "# Acceptance rate\n",
    "print \"rA accept:\",np.sum(rA_accept)/mcmc\n",
    "print \"rX accept:\",np.sum(rX_accept)/mcmc\n",
    "\n",
    "\n",
    "# np.sum(np.dot(Z_arr[400,:,:],A_arr[400,:,:]))\n",
    "# print Z_arr[400,:,:]"
   ]
  },
  {
   "cell_type": "markdown",
   "metadata": {},
   "source": [
    "### Gibbs Sampler -- Draft for Steps"
   ]
  },
  {
   "cell_type": "code",
   "execution_count": 343,
   "metadata": {
    "collapsed": false
   },
   "outputs": [
    {
     "name": "stdout",
     "output_type": "stream",
     "text": [
      "[-4542.4257]\n",
      "[-4618.9093]\n",
      "[-4542.4257]\n",
      "[-4542.4257]\n"
     ]
    }
   ],
   "source": [
    "# Step 5: Sample weight matrix A ~ N(0,sigmaA**2 I)\n",
    "A_new = stats.norm.rvs(loc=0,scale=sigmaA,size=(K,D))\n",
    "# Step 6: Sample the data X ~ N(ZA,sigmaX**2 I)\n",
    "X_new = stats.norm.rvs(loc=np.dot(Z,A),scale=sigmaX,size=(N,D))"
   ]
  },
  {
   "cell_type": "markdown",
   "metadata": {},
   "source": [
    "### Posterior Distribution Calculation\n",
    "\n",
    "Priors: $P(z_{ik}=1 | \\mathbf{z_{-i,k}}) = \\dfrac{m_{-i,k}+\\dfrac{\\alpha}{K}}{N+\\dfrac{\\alpha}{K}} \\rightarrow \\dfrac{m_{-i,k}}{N}$ as $K \\rightarrow \\infty$\n",
    "\n",
    "Likelihood: $\\mathbf{X}|(\\mathbf{Z},\\mathbf{A},\\mathbf{\\sigma_X}) \\sim \\text{Normal}(\\mathbf{ZA},\\Sigma_X = \\sigma_X^2\\mathbf{I})$\n",
    "\n",
    "i.e. $P(\\mathbf{X} | \\mathbf{Z}, \\sigma_X, \\sigma_A) = \\dfrac{1}{(2\\pi)^{ND/2} \\sigma_X^{(N-K)D} \\sigma_A^{KD} |\\mathbf{Z}^T\\mathbf{Z} + \\dfrac{\\sigma_X^2}{\\sigma_A^2}\\mathbf{I}|^{D/2}} \\exp\\{-\\dfrac{1}{2\\sigma^2_X} \\text{tr}(\\mathbf{X}^T(\\mathbf{I}-\\mathbf{Z}(\\mathbf{Z}^T\\mathbf{Z}+\\dfrac{\\sigma_X^2}{\\sigma_A^2}\\mathbf{I})^{-1})\\mathbf{Z}^T)\\mathbf{X}\\}$\n",
    "\n",
    "Full conditional distribution: $P(z_{ik} | \\mathbf{X,Z_{-i,k}},\\sigma_X, \\sigma_A) \\propto P(\\mathbf{X} | \\mathbf{Z},\\sigma_X, \\sigma_A) P(z_{ik} | \\mathbf{z_{-i,k}})$"
   ]
  }
 ],
 "metadata": {
  "language_info": {
   "codemirror_mode": {
    "name": "ipython",
    "version": 2
   },
   "file_extension": ".py",
   "mimetype": "text/x-python",
   "name": "python",
   "nbconvert_exporter": "python",
   "pygments_lexer": "ipython2",
   "version": "2.7.9"
  }
 },
 "nbformat": 4,
 "nbformat_minor": 0
}
