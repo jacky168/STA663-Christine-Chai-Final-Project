{
 "cells": [
  {
   "cell_type": "code",
   "execution_count": 3,
   "metadata": {
    "collapsed": false
   },
   "outputs": [
    {
     "name": "stdout",
     "output_type": "stream",
     "text": [
      "Overwriting basis.py\n"
     ]
    }
   ],
   "source": [
    "%%file basis.py\n",
    "from __future__ import division\n",
    "import matplotlib\n",
    "matplotlib.use('Agg')\n",
    "import os\n",
    "import sys\n",
    "import glob\n",
    "import matplotlib.pyplot as plt\n",
    "import numpy as np\n",
    "import pandas as pd\n",
    "# %matplotlib inline\n",
    "#%precision 4\n",
    "plt.style.use('ggplot')\n",
    "\n",
    "np.random.seed(1234)\n",
    "import scipy.stats as stats\n",
    "import timeit\n",
    "# Basis images\n",
    "import Image\n",
    "basis1 = np.array([[0,0,0,0,0,0],[0,0,0,0,0,0],[0,0,0,0,0,0],[0,1,0,0,0,0],[1,1,1,0,0,0],[0,1,0,0,0,0]])\n",
    "basis2 = np.array([[1,1,1,0,0,0],[1,0,1,0,0,0],[1,1,1,0,0,0],[0,0,0,0,0,0],[0,0,0,0,0,0],[0,0,0,0,0,0]])\n",
    "basis3 = np.array([[0,0,0,0,0,0],[0,0,0,0,0,0],[0,0,0,0,0,0],[0,0,0,0,0,1],[0,0,0,0,1,1],[0,0,0,1,1,1]])\n",
    "basis4 = np.array([[0,0,0,1,0,0],[0,0,0,1,1,1],[0,0,0,1,0,0],[0,0,0,0,0,0],[0,0,0,0,0,0],[0,0,0,0,0,0]])\n",
    "\n",
    "D = 36\n",
    "b1 = basis1.reshape(D)\n",
    "b2 = basis2.reshape(D)\n",
    "b3 = basis3.reshape(D)\n",
    "b4 = basis4.reshape(D)\n",
    "A = np.array([b1,b2,b3,b4])\n",
    "\n",
    "# These are heatmaps!\n",
    "\n",
    "fig = plt.figure(figsize=(12,3)) # (num=None, tight_layout=True, figsize=(12,3), dpi=80, facecolor='w', edgecolor='k')\n",
    "fig1 = fig.add_subplot(141)\n",
    "fig1.pcolormesh(basis1,cmap=plt.cm.gray)     \n",
    "fig2 = fig.add_subplot(142)\n",
    "fig2.pcolormesh(basis2,cmap=plt.cm.gray)  \n",
    "fig3 = fig.add_subplot(143)\n",
    "fig3.pcolormesh(basis3,cmap=plt.cm.gray)  \n",
    "fig4 = fig.add_subplot(144)\n",
    "fig4.pcolormesh(basis4,cmap=plt.cm.gray) \n",
    "\n",
    "fig.savefig('basis_images.png')\n",
    "plt.close()\n",
    "print \"Latent feature matrices (A):\""
   ]
  }
 ],
 "metadata": {
  "kernelspec": {
   "display_name": "Python 2",
   "language": "python",
   "name": "python2"
  },
  "language_info": {
   "codemirror_mode": {
    "name": "ipython",
    "version": 2
   },
   "file_extension": ".py",
   "mimetype": "text/x-python",
   "name": "python",
   "nbconvert_exporter": "python",
   "pygments_lexer": "ipython2",
   "version": "2.7.9"
  }
 },
 "nbformat": 4,
 "nbformat_minor": 0
}
