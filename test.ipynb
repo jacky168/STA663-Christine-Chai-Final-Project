{
 "metadata": {
  "name": "",
  "signature": "sha256:08b205789e0e3058c9cbbb1f1943b2e446cd0ba41bd9db99f090ba333a7d328d"
 },
 "nbformat": 3,
 "nbformat_minor": 0,
 "worksheets": [
  {
   "cells": [
    {
     "cell_type": "markdown",
     "metadata": {},
     "source": [
      "This is a test file.\n",
      "\n",
      "Paper selection: Indian Buffet Process\n",
      "\n",
      "Authentication successful!"
     ]
    }
   ],
   "metadata": {}
  }
 ]
}